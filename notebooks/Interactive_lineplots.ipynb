{
 "cells": [
  {
   "cell_type": "code",
   "execution_count": null,
   "metadata": {},
   "outputs": [],
   "source": [
    "import numpy as np\n",
    "import bokeh.plotting\n",
    "import bokeh.models\n",
    "import bokeh.layouts\n",
    "import bokeh.io\n",
    "import bokeh.palettes\n",
    "import pandas as pd\n",
    "from bokeh.layouts import gridplot"
   ]
  },
  {
   "cell_type": "code",
   "execution_count": null,
   "metadata": {},
   "outputs": [],
   "source": [
    "bokeh.io.output_notebook()"
   ]
  },
  {
   "cell_type": "code",
   "execution_count": null,
   "metadata": {},
   "outputs": [],
   "source": [
    "def plot_genes(width=750, height=150):\n",
    "\n",
    "    x=[0,1,2,3,4,5,6,7,8,9]\n",
    "    y1=[3,4,6,2,3,4,5,1,6,6]\n",
    "    y2=[4,7,6,2,4,6,8,9,5,3]\n",
    "    y3=[4,6,4,2,4,6,7,3,1,6]\n",
    "    \n",
    "    # define tooltips for hover\n",
    "    tooltips = [\n",
    "        (\"ID\", '@ID'),\n",
    "        (\"Name\", '@Name'),\n",
    "        (\"Description\", '@description'),\n",
    "    ]\n",
    "\n",
    "    # make a figure\n",
    "    fig1 = bokeh.plotting.figure(\n",
    "        title='Fake plot',\n",
    "        plot_width=width, \n",
    "        plot_height=height,\n",
    "        tools='xpan,xzoom_in,xzoom_out,xwheel_zoom,reset,tap,hover',\n",
    "        toolbar_location='above',\n",
    "        active_scroll='xwheel_zoom',\n",
    "        active_drag='xpan',\n",
    "        tooltips=tooltips,\n",
    "    )\n",
    "    fig1.line(x, y1, legend_label=\"Temp.\", line_width=2)\n",
    "    fig2 = bokeh.plotting.figure(\n",
    "        title='Fake plot',\n",
    "        plot_width=width, \n",
    "        plot_height=height,\n",
    "        tools='xpan,xzoom_in,xzoom_out,xwheel_zoom,reset,tap,hover',\n",
    "        toolbar_location='above',\n",
    "        active_scroll='xwheel_zoom',\n",
    "        active_drag='xpan',\n",
    "        tooltips=tooltips,\n",
    "    )\n",
    "    fig2.line(x, y2, legend_label=\"Temp.\", line_width=2)   \n",
    "    fig3 = bokeh.plotting.figure(\n",
    "        title='Fake plot',\n",
    "        plot_width=width, \n",
    "        plot_height=height,\n",
    "        tools='xpan,xzoom_in,xzoom_out,xwheel_zoom,reset,tap,hover',\n",
    "        toolbar_location='above',\n",
    "        active_scroll='xwheel_zoom',\n",
    "        active_drag='xpan',\n",
    "        tooltips=tooltips,\n",
    "    )\n",
    "    fig3.line(x, y3, legend_label=\"Temp.\", line_width=2) \n",
    "    # add functionality to click through to vectorbase\n",
    "#     url = f'https://vectorbase.org/vectorbase/app/record/gene/@ID'\n",
    "#     taptool = fig.select(type=bokeh.models.TapTool)\n",
    "#     taptool.callback = bokeh.models.OpenURL(url=url)\n",
    "\n",
    "    # now plot the genes as rectangle\n",
    "#     fig.quad(bottom='bottom', top='top', left='left', right='right',\n",
    "#              source=data, line_width=.5, fill_alpha=.5)\n",
    "\n",
    "    # tidy up the plot\n",
    "#     fig.x_range = bokeh.models.Range1d(0, contig_length/1e6, bounds='auto')\n",
    "#     fig.xaxis.axis_label = f'Position (Mbp)'\n",
    "#     fig.y_range = bokeh.models.Range1d(-.5, 2.3)\n",
    "#     fig.ygrid.visible = False\n",
    "#     yticks = [0.4, 1.4]\n",
    "#     yticklabels = ['rev', 'fwd']\n",
    "#     fig.yaxis.ticker = yticks\n",
    "#     fig.yaxis.major_label_overrides = {k: v for k, v in zip(yticks, yticklabels)}\n",
    "#     fig.yaxis.axis_label = f'Strand'\n",
    "\n",
    "    # show the plot\n",
    "    grid = gridplot([[fig1, fig2], [fig3,None]], plot_width=250, plot_height=250)\n",
    "    bokeh.plotting.show(grid)"
   ]
  },
  {
   "cell_type": "code",
   "execution_count": null,
   "metadata": {},
   "outputs": [],
   "source": [
    "plot_genes()"
   ]
  },
  {
   "cell_type": "code",
   "execution_count": null,
   "metadata": {},
   "outputs": [],
   "source": [
    "output_file(\"layout_grid.html\")\n",
    "\n",
    "x = list(range(11))\n",
    "y0 = x\n",
    "y1 = [10 - i for i in x]\n",
    "y2 = [abs(i - 5) for i in x]\n",
    "\n",
    "# create three plots\n",
    "s1 = figure(background_fill_color=\"#fafafa\")\n",
    "s1.circle(x, y0, size=12, alpha=0.8, color=\"#53777a\")\n",
    "\n",
    "s2 = figure(background_fill_color=\"#fafafa\")\n",
    "s2.triangle(x, y1, size=12, alpha=0.8, color=\"#c02942\")\n",
    "\n",
    "s3 = figure(background_fill_color=\"#fafafa\")\n",
    "s3.square(x, y2, size=12, alpha=0.8, color=\"#d95b43\")\n",
    "\n",
    "# make a grid\n",
    "grid = gridplot([[s1, s2], [None, s3]], plot_width=250, plot_height=250)\n",
    "\n",
    "show(grid)"
   ]
  }
 ],
 "metadata": {
  "kernelspec": {
   "display_name": "pf6plus_notebooks",
   "language": "python",
   "name": "pf6plus_notebooks"
  },
  "language_info": {
   "codemirror_mode": {
    "name": "ipython",
    "version": 3
   },
   "file_extension": ".py",
   "mimetype": "text/x-python",
   "name": "python",
   "nbconvert_exporter": "python",
   "pygments_lexer": "ipython3",
   "version": "3.6.9"
  }
 },
 "nbformat": 4,
 "nbformat_minor": 4
}
