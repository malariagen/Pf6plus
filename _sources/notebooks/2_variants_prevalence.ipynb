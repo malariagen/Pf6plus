{
 "cells": [
  {
   "cell_type": "markdown",
   "metadata": {
    "id": "5UvN6mNV-VJ7"
   },
   "source": [
    "> We would like to thank all **MalariaGEN Plasmodium falciparum Community Project partners** for their contribution. This resource builds from enormous team efforts around the globe, encompasing 61 studies in 30 countries. With over 16,500 samples available, we can only hope to continue disseminating these unique resources to increase their accesibility to allow them to translate into improvements for public health.\n",
    "If you use this resource please remember to also site the following studies:\n",
    "[Pf6 partner studies](http://ngs.sanger.ac.uk/production/malaria/pfcommunityproject/Pf6/Pf_6_partner_studies.pdf) and [GenRe partner studies](http://ngs.sanger.ac.uk/production/malaria/Resource/29/20200705-GenRe-07-PartnerStudyInformation-0.39.pdf). "
   ]
  },
  {
   "cell_type": "markdown",
   "metadata": {
    "id": "9Ewe-0PvBOmM"
   },
   "source": [
    "# Visualizing drug resistant variants"
   ]
  },
  {
   "cell_type": "markdown",
   "metadata": {
    "id": "duyIduLUBP3p"
   },
   "source": [
    "This notebook allows you to explore the genotypes present in a dataset. You can use it to:\n",
    "\n",
    "- Visualise the frequency of individual genetic mutations over time (e.g. showing which alleles are dominant in different countries at specific time points).\n",
    "\n",
    "- Explore haplotype frequencies at different geographical levels (population, country and administrative level 1) over time, displaying regional diversity and haplotype compositions.\n",
    "\n",
    "\n",
    "- Visualise the prevalence of drug resistance over time for key drugs. \n"
   ]
  },
  {
   "cell_type": "markdown",
   "metadata": {
    "id": "reAK1YsQLcsc"
   },
   "source": [
    "## Setup"
   ]
  },
  {
   "cell_type": "markdown",
   "metadata": {
    "id": "-QzDW7nD75Qy"
   },
   "source": [
    "### Running on Colab"
   ]
  },
  {
   "cell_type": "code",
   "execution_count": null,
   "metadata": {
    "id": "sf861hRN_X2L"
   },
   "outputs": [],
   "source": [
    "!git clone https://github.com/malariagen/Pf6plus.git \n",
    "!cp -r /content/Pf6plus/pf6plus_documentation/notebooks/data_analysis ."
   ]
  },
  {
   "cell_type": "markdown",
   "metadata": {
    "id": "609WYBOZGaGc"
   },
   "source": [
    "### Running Locally"
   ]
  },
  {
   "cell_type": "markdown",
   "metadata": {
    "id": "i7jkBEiRGaGc"
   },
   "source": [
    "There are some steps you need to follow to run the notebooks locally. If you haven't already, please follow these [instructions](https://github.com/malariagen/Pf6plus#running-the-notebooks-locally)."
   ]
  },
  {
   "cell_type": "markdown",
   "metadata": {
    "id": "8dZS9zQd8LH2"
   },
   "source": [
    "### Python Setup"
   ]
  },
  {
   "cell_type": "markdown",
   "metadata": {
    "id": "XV2oRiYZAvq7"
   },
   "source": [
    "Import the functions from the `data_analysis` directory. This contains all of the code you will need to generate the plots in this notebook. "
   ]
  },
  {
   "cell_type": "code",
   "execution_count": 1,
   "metadata": {
    "id": "lw_UrIlFbRKS"
   },
   "outputs": [],
   "source": [
    "from data_analysis.plot_dr_prevalence import *\n",
    "from data_analysis.plot_haplotype_frequency import *\n",
    "from data_analysis.tabulate_drug_resistance import *"
   ]
  },
  {
   "cell_type": "markdown",
   "metadata": {
    "id": "_iyHlWJ1A2Tb"
   },
   "source": [
    "Running the following will make sure the interactive plots are output to the notebook."
   ]
  },
  {
   "cell_type": "code",
   "execution_count": 2,
   "metadata": {
    "id": "yggaXHqzGaGe"
   },
   "outputs": [
    {
     "data": {
      "text/html": [
       "\n",
       "    <div class=\"bk-root\">\n",
       "        <a href=\"https://bokeh.org\" target=\"_blank\" class=\"bk-logo bk-logo-small bk-logo-notebook\"></a>\n",
       "        <span id=\"1002\">Loading BokehJS ...</span>\n",
       "    </div>"
      ]
     },
     "metadata": {},
     "output_type": "display_data"
    },
    {
     "data": {
      "application/javascript": [
       "\n",
       "(function(root) {\n",
       "  function now() {\n",
       "    return new Date();\n",
       "  }\n",
       "\n",
       "  var force = true;\n",
       "\n",
       "  if (typeof root._bokeh_onload_callbacks === \"undefined\" || force === true) {\n",
       "    root._bokeh_onload_callbacks = [];\n",
       "    root._bokeh_is_loading = undefined;\n",
       "  }\n",
       "\n",
       "  var JS_MIME_TYPE = 'application/javascript';\n",
       "  var HTML_MIME_TYPE = 'text/html';\n",
       "  var EXEC_MIME_TYPE = 'application/vnd.bokehjs_exec.v0+json';\n",
       "  var CLASS_NAME = 'output_bokeh rendered_html';\n",
       "\n",
       "  /**\n",
       "   * Render data to the DOM node\n",
       "   */\n",
       "  function render(props, node) {\n",
       "    var script = document.createElement(\"script\");\n",
       "    node.appendChild(script);\n",
       "  }\n",
       "\n",
       "  /**\n",
       "   * Handle when an output is cleared or removed\n",
       "   */\n",
       "  function handleClearOutput(event, handle) {\n",
       "    var cell = handle.cell;\n",
       "\n",
       "    var id = cell.output_area._bokeh_element_id;\n",
       "    var server_id = cell.output_area._bokeh_server_id;\n",
       "    // Clean up Bokeh references\n",
       "    if (id != null && id in Bokeh.index) {\n",
       "      Bokeh.index[id].model.document.clear();\n",
       "      delete Bokeh.index[id];\n",
       "    }\n",
       "\n",
       "    if (server_id !== undefined) {\n",
       "      // Clean up Bokeh references\n",
       "      var cmd = \"from bokeh.io.state import curstate; print(curstate().uuid_to_server['\" + server_id + \"'].get_sessions()[0].document.roots[0]._id)\";\n",
       "      cell.notebook.kernel.execute(cmd, {\n",
       "        iopub: {\n",
       "          output: function(msg) {\n",
       "            var id = msg.content.text.trim();\n",
       "            if (id in Bokeh.index) {\n",
       "              Bokeh.index[id].model.document.clear();\n",
       "              delete Bokeh.index[id];\n",
       "            }\n",
       "          }\n",
       "        }\n",
       "      });\n",
       "      // Destroy server and session\n",
       "      var cmd = \"import bokeh.io.notebook as ion; ion.destroy_server('\" + server_id + \"')\";\n",
       "      cell.notebook.kernel.execute(cmd);\n",
       "    }\n",
       "  }\n",
       "\n",
       "  /**\n",
       "   * Handle when a new output is added\n",
       "   */\n",
       "  function handleAddOutput(event, handle) {\n",
       "    var output_area = handle.output_area;\n",
       "    var output = handle.output;\n",
       "\n",
       "    // limit handleAddOutput to display_data with EXEC_MIME_TYPE content only\n",
       "    if ((output.output_type != \"display_data\") || (!Object.prototype.hasOwnProperty.call(output.data, EXEC_MIME_TYPE))) {\n",
       "      return\n",
       "    }\n",
       "\n",
       "    var toinsert = output_area.element.find(\".\" + CLASS_NAME.split(' ')[0]);\n",
       "\n",
       "    if (output.metadata[EXEC_MIME_TYPE][\"id\"] !== undefined) {\n",
       "      toinsert[toinsert.length - 1].firstChild.textContent = output.data[JS_MIME_TYPE];\n",
       "      // store reference to embed id on output_area\n",
       "      output_area._bokeh_element_id = output.metadata[EXEC_MIME_TYPE][\"id\"];\n",
       "    }\n",
       "    if (output.metadata[EXEC_MIME_TYPE][\"server_id\"] !== undefined) {\n",
       "      var bk_div = document.createElement(\"div\");\n",
       "      bk_div.innerHTML = output.data[HTML_MIME_TYPE];\n",
       "      var script_attrs = bk_div.children[0].attributes;\n",
       "      for (var i = 0; i < script_attrs.length; i++) {\n",
       "        toinsert[toinsert.length - 1].firstChild.setAttribute(script_attrs[i].name, script_attrs[i].value);\n",
       "        toinsert[toinsert.length - 1].firstChild.textContent = bk_div.children[0].textContent\n",
       "      }\n",
       "      // store reference to server id on output_area\n",
       "      output_area._bokeh_server_id = output.metadata[EXEC_MIME_TYPE][\"server_id\"];\n",
       "    }\n",
       "  }\n",
       "\n",
       "  function register_renderer(events, OutputArea) {\n",
       "\n",
       "    function append_mime(data, metadata, element) {\n",
       "      // create a DOM node to render to\n",
       "      var toinsert = this.create_output_subarea(\n",
       "        metadata,\n",
       "        CLASS_NAME,\n",
       "        EXEC_MIME_TYPE\n",
       "      );\n",
       "      this.keyboard_manager.register_events(toinsert);\n",
       "      // Render to node\n",
       "      var props = {data: data, metadata: metadata[EXEC_MIME_TYPE]};\n",
       "      render(props, toinsert[toinsert.length - 1]);\n",
       "      element.append(toinsert);\n",
       "      return toinsert\n",
       "    }\n",
       "\n",
       "    /* Handle when an output is cleared or removed */\n",
       "    events.on('clear_output.CodeCell', handleClearOutput);\n",
       "    events.on('delete.Cell', handleClearOutput);\n",
       "\n",
       "    /* Handle when a new output is added */\n",
       "    events.on('output_added.OutputArea', handleAddOutput);\n",
       "\n",
       "    /**\n",
       "     * Register the mime type and append_mime function with output_area\n",
       "     */\n",
       "    OutputArea.prototype.register_mime_type(EXEC_MIME_TYPE, append_mime, {\n",
       "      /* Is output safe? */\n",
       "      safe: true,\n",
       "      /* Index of renderer in `output_area.display_order` */\n",
       "      index: 0\n",
       "    });\n",
       "  }\n",
       "\n",
       "  // register the mime type if in Jupyter Notebook environment and previously unregistered\n",
       "  if (root.Jupyter !== undefined) {\n",
       "    var events = require('base/js/events');\n",
       "    var OutputArea = require('notebook/js/outputarea').OutputArea;\n",
       "\n",
       "    if (OutputArea.prototype.mime_types().indexOf(EXEC_MIME_TYPE) == -1) {\n",
       "      register_renderer(events, OutputArea);\n",
       "    }\n",
       "  }\n",
       "\n",
       "  \n",
       "  if (typeof (root._bokeh_timeout) === \"undefined\" || force === true) {\n",
       "    root._bokeh_timeout = Date.now() + 5000;\n",
       "    root._bokeh_failed_load = false;\n",
       "  }\n",
       "\n",
       "  var NB_LOAD_WARNING = {'data': {'text/html':\n",
       "     \"<div style='background-color: #fdd'>\\n\"+\n",
       "     \"<p>\\n\"+\n",
       "     \"BokehJS does not appear to have successfully loaded. If loading BokehJS from CDN, this \\n\"+\n",
       "     \"may be due to a slow or bad network connection. Possible fixes:\\n\"+\n",
       "     \"</p>\\n\"+\n",
       "     \"<ul>\\n\"+\n",
       "     \"<li>re-rerun `output_notebook()` to attempt to load from CDN again, or</li>\\n\"+\n",
       "     \"<li>use INLINE resources instead, as so:</li>\\n\"+\n",
       "     \"</ul>\\n\"+\n",
       "     \"<code>\\n\"+\n",
       "     \"from bokeh.resources import INLINE\\n\"+\n",
       "     \"output_notebook(resources=INLINE)\\n\"+\n",
       "     \"</code>\\n\"+\n",
       "     \"</div>\"}};\n",
       "\n",
       "  function display_loaded() {\n",
       "    var el = document.getElementById(\"1002\");\n",
       "    if (el != null) {\n",
       "      el.textContent = \"BokehJS is loading...\";\n",
       "    }\n",
       "    if (root.Bokeh !== undefined) {\n",
       "      if (el != null) {\n",
       "        el.textContent = \"BokehJS \" + root.Bokeh.version + \" successfully loaded.\";\n",
       "      }\n",
       "    } else if (Date.now() < root._bokeh_timeout) {\n",
       "      setTimeout(display_loaded, 100)\n",
       "    }\n",
       "  }\n",
       "\n",
       "\n",
       "  function run_callbacks() {\n",
       "    try {\n",
       "      root._bokeh_onload_callbacks.forEach(function(callback) {\n",
       "        if (callback != null)\n",
       "          callback();\n",
       "      });\n",
       "    } finally {\n",
       "      delete root._bokeh_onload_callbacks\n",
       "    }\n",
       "    console.debug(\"Bokeh: all callbacks have finished\");\n",
       "  }\n",
       "\n",
       "  function load_libs(css_urls, js_urls, callback) {\n",
       "    if (css_urls == null) css_urls = [];\n",
       "    if (js_urls == null) js_urls = [];\n",
       "\n",
       "    root._bokeh_onload_callbacks.push(callback);\n",
       "    if (root._bokeh_is_loading > 0) {\n",
       "      console.debug(\"Bokeh: BokehJS is being loaded, scheduling callback at\", now());\n",
       "      return null;\n",
       "    }\n",
       "    if (js_urls == null || js_urls.length === 0) {\n",
       "      run_callbacks();\n",
       "      return null;\n",
       "    }\n",
       "    console.debug(\"Bokeh: BokehJS not loaded, scheduling load and callback at\", now());\n",
       "    root._bokeh_is_loading = css_urls.length + js_urls.length;\n",
       "\n",
       "    function on_load() {\n",
       "      root._bokeh_is_loading--;\n",
       "      if (root._bokeh_is_loading === 0) {\n",
       "        console.debug(\"Bokeh: all BokehJS libraries/stylesheets loaded\");\n",
       "        run_callbacks()\n",
       "      }\n",
       "    }\n",
       "\n",
       "    function on_error(url) {\n",
       "      console.error(\"failed to load \" + url);\n",
       "    }\n",
       "\n",
       "    for (let i = 0; i < css_urls.length; i++) {\n",
       "      const url = css_urls[i];\n",
       "      const element = document.createElement(\"link\");\n",
       "      element.onload = on_load;\n",
       "      element.onerror = on_error.bind(null, url);\n",
       "      element.rel = \"stylesheet\";\n",
       "      element.type = \"text/css\";\n",
       "      element.href = url;\n",
       "      console.debug(\"Bokeh: injecting link tag for BokehJS stylesheet: \", url);\n",
       "      document.body.appendChild(element);\n",
       "    }\n",
       "\n",
       "    const hashes = {\"https://cdn.bokeh.org/bokeh/release/bokeh-2.3.3.min.js\": \"dM3QQsP+wXdHg42wTqW85BjZQdLNNIXqlPw/BgKoExPmTG7ZLML4EGqLMfqHT6ON\", \"https://cdn.bokeh.org/bokeh/release/bokeh-tables-2.3.3.min.js\": \"8x57I4YuIfu8XyZfFo0XVr2WAT8EK4rh/uDe3wF7YuW2FNUSNEpJbsPaB1nJ2fz2\", \"https://cdn.bokeh.org/bokeh/release/bokeh-widgets-2.3.3.min.js\": \"3QTqdz9LyAm2i0sG5XTePsHec3UHWwVsrOL68SYRoAXsafvfAyqtQ+h440+qIBhS\"};\n",
       "\n",
       "    for (let i = 0; i < js_urls.length; i++) {\n",
       "      const url = js_urls[i];\n",
       "      const element = document.createElement('script');\n",
       "      element.onload = on_load;\n",
       "      element.onerror = on_error.bind(null, url);\n",
       "      element.async = false;\n",
       "      element.src = url;\n",
       "      if (url in hashes) {\n",
       "        element.crossOrigin = \"anonymous\";\n",
       "        element.integrity = \"sha384-\" + hashes[url];\n",
       "      }\n",
       "      console.debug(\"Bokeh: injecting script tag for BokehJS library: \", url);\n",
       "      document.head.appendChild(element);\n",
       "    }\n",
       "  };\n",
       "\n",
       "  function inject_raw_css(css) {\n",
       "    const element = document.createElement(\"style\");\n",
       "    element.appendChild(document.createTextNode(css));\n",
       "    document.body.appendChild(element);\n",
       "  }\n",
       "\n",
       "  \n",
       "  var js_urls = [\"https://cdn.bokeh.org/bokeh/release/bokeh-2.3.3.min.js\", \"https://cdn.bokeh.org/bokeh/release/bokeh-widgets-2.3.3.min.js\", \"https://cdn.bokeh.org/bokeh/release/bokeh-tables-2.3.3.min.js\"];\n",
       "  var css_urls = [];\n",
       "  \n",
       "\n",
       "  var inline_js = [\n",
       "    function(Bokeh) {\n",
       "      Bokeh.set_log_level(\"info\");\n",
       "    },\n",
       "    function(Bokeh) {\n",
       "    \n",
       "    \n",
       "    }\n",
       "  ];\n",
       "\n",
       "  function run_inline_js() {\n",
       "    \n",
       "    if (root.Bokeh !== undefined || force === true) {\n",
       "      \n",
       "    for (var i = 0; i < inline_js.length; i++) {\n",
       "      inline_js[i].call(root, root.Bokeh);\n",
       "    }\n",
       "    if (force === true) {\n",
       "        display_loaded();\n",
       "      }} else if (Date.now() < root._bokeh_timeout) {\n",
       "      setTimeout(run_inline_js, 100);\n",
       "    } else if (!root._bokeh_failed_load) {\n",
       "      console.log(\"Bokeh: BokehJS failed to load within specified timeout.\");\n",
       "      root._bokeh_failed_load = true;\n",
       "    } else if (force !== true) {\n",
       "      var cell = $(document.getElementById(\"1002\")).parents('.cell').data().cell;\n",
       "      cell.output_area.append_execute_result(NB_LOAD_WARNING)\n",
       "    }\n",
       "\n",
       "  }\n",
       "\n",
       "  if (root._bokeh_is_loading === 0) {\n",
       "    console.debug(\"Bokeh: BokehJS loaded, going straight to plotting\");\n",
       "    run_inline_js();\n",
       "  } else {\n",
       "    load_libs(css_urls, js_urls, function() {\n",
       "      console.debug(\"Bokeh: BokehJS plotting callback run at\", now());\n",
       "      run_inline_js();\n",
       "    });\n",
       "  }\n",
       "}(window));"
      ],
      "application/vnd.bokehjs_load.v0+json": "\n(function(root) {\n  function now() {\n    return new Date();\n  }\n\n  var force = true;\n\n  if (typeof root._bokeh_onload_callbacks === \"undefined\" || force === true) {\n    root._bokeh_onload_callbacks = [];\n    root._bokeh_is_loading = undefined;\n  }\n\n  \n\n  \n  if (typeof (root._bokeh_timeout) === \"undefined\" || force === true) {\n    root._bokeh_timeout = Date.now() + 5000;\n    root._bokeh_failed_load = false;\n  }\n\n  var NB_LOAD_WARNING = {'data': {'text/html':\n     \"<div style='background-color: #fdd'>\\n\"+\n     \"<p>\\n\"+\n     \"BokehJS does not appear to have successfully loaded. If loading BokehJS from CDN, this \\n\"+\n     \"may be due to a slow or bad network connection. Possible fixes:\\n\"+\n     \"</p>\\n\"+\n     \"<ul>\\n\"+\n     \"<li>re-rerun `output_notebook()` to attempt to load from CDN again, or</li>\\n\"+\n     \"<li>use INLINE resources instead, as so:</li>\\n\"+\n     \"</ul>\\n\"+\n     \"<code>\\n\"+\n     \"from bokeh.resources import INLINE\\n\"+\n     \"output_notebook(resources=INLINE)\\n\"+\n     \"</code>\\n\"+\n     \"</div>\"}};\n\n  function display_loaded() {\n    var el = document.getElementById(\"1002\");\n    if (el != null) {\n      el.textContent = \"BokehJS is loading...\";\n    }\n    if (root.Bokeh !== undefined) {\n      if (el != null) {\n        el.textContent = \"BokehJS \" + root.Bokeh.version + \" successfully loaded.\";\n      }\n    } else if (Date.now() < root._bokeh_timeout) {\n      setTimeout(display_loaded, 100)\n    }\n  }\n\n\n  function run_callbacks() {\n    try {\n      root._bokeh_onload_callbacks.forEach(function(callback) {\n        if (callback != null)\n          callback();\n      });\n    } finally {\n      delete root._bokeh_onload_callbacks\n    }\n    console.debug(\"Bokeh: all callbacks have finished\");\n  }\n\n  function load_libs(css_urls, js_urls, callback) {\n    if (css_urls == null) css_urls = [];\n    if (js_urls == null) js_urls = [];\n\n    root._bokeh_onload_callbacks.push(callback);\n    if (root._bokeh_is_loading > 0) {\n      console.debug(\"Bokeh: BokehJS is being loaded, scheduling callback at\", now());\n      return null;\n    }\n    if (js_urls == null || js_urls.length === 0) {\n      run_callbacks();\n      return null;\n    }\n    console.debug(\"Bokeh: BokehJS not loaded, scheduling load and callback at\", now());\n    root._bokeh_is_loading = css_urls.length + js_urls.length;\n\n    function on_load() {\n      root._bokeh_is_loading--;\n      if (root._bokeh_is_loading === 0) {\n        console.debug(\"Bokeh: all BokehJS libraries/stylesheets loaded\");\n        run_callbacks()\n      }\n    }\n\n    function on_error(url) {\n      console.error(\"failed to load \" + url);\n    }\n\n    for (let i = 0; i < css_urls.length; i++) {\n      const url = css_urls[i];\n      const element = document.createElement(\"link\");\n      element.onload = on_load;\n      element.onerror = on_error.bind(null, url);\n      element.rel = \"stylesheet\";\n      element.type = \"text/css\";\n      element.href = url;\n      console.debug(\"Bokeh: injecting link tag for BokehJS stylesheet: \", url);\n      document.body.appendChild(element);\n    }\n\n    const hashes = {\"https://cdn.bokeh.org/bokeh/release/bokeh-2.3.3.min.js\": \"dM3QQsP+wXdHg42wTqW85BjZQdLNNIXqlPw/BgKoExPmTG7ZLML4EGqLMfqHT6ON\", \"https://cdn.bokeh.org/bokeh/release/bokeh-tables-2.3.3.min.js\": \"8x57I4YuIfu8XyZfFo0XVr2WAT8EK4rh/uDe3wF7YuW2FNUSNEpJbsPaB1nJ2fz2\", \"https://cdn.bokeh.org/bokeh/release/bokeh-widgets-2.3.3.min.js\": \"3QTqdz9LyAm2i0sG5XTePsHec3UHWwVsrOL68SYRoAXsafvfAyqtQ+h440+qIBhS\"};\n\n    for (let i = 0; i < js_urls.length; i++) {\n      const url = js_urls[i];\n      const element = document.createElement('script');\n      element.onload = on_load;\n      element.onerror = on_error.bind(null, url);\n      element.async = false;\n      element.src = url;\n      if (url in hashes) {\n        element.crossOrigin = \"anonymous\";\n        element.integrity = \"sha384-\" + hashes[url];\n      }\n      console.debug(\"Bokeh: injecting script tag for BokehJS library: \", url);\n      document.head.appendChild(element);\n    }\n  };\n\n  function inject_raw_css(css) {\n    const element = document.createElement(\"style\");\n    element.appendChild(document.createTextNode(css));\n    document.body.appendChild(element);\n  }\n\n  \n  var js_urls = [\"https://cdn.bokeh.org/bokeh/release/bokeh-2.3.3.min.js\", \"https://cdn.bokeh.org/bokeh/release/bokeh-widgets-2.3.3.min.js\", \"https://cdn.bokeh.org/bokeh/release/bokeh-tables-2.3.3.min.js\"];\n  var css_urls = [];\n  \n\n  var inline_js = [\n    function(Bokeh) {\n      Bokeh.set_log_level(\"info\");\n    },\n    function(Bokeh) {\n    \n    \n    }\n  ];\n\n  function run_inline_js() {\n    \n    if (root.Bokeh !== undefined || force === true) {\n      \n    for (var i = 0; i < inline_js.length; i++) {\n      inline_js[i].call(root, root.Bokeh);\n    }\n    if (force === true) {\n        display_loaded();\n      }} else if (Date.now() < root._bokeh_timeout) {\n      setTimeout(run_inline_js, 100);\n    } else if (!root._bokeh_failed_load) {\n      console.log(\"Bokeh: BokehJS failed to load within specified timeout.\");\n      root._bokeh_failed_load = true;\n    } else if (force !== true) {\n      var cell = $(document.getElementById(\"1002\")).parents('.cell').data().cell;\n      cell.output_area.append_execute_result(NB_LOAD_WARNING)\n    }\n\n  }\n\n  if (root._bokeh_is_loading === 0) {\n    console.debug(\"Bokeh: BokehJS loaded, going straight to plotting\");\n    run_inline_js();\n  } else {\n    load_libs(css_urls, js_urls, function() {\n      console.debug(\"Bokeh: BokehJS plotting callback run at\", now());\n      run_inline_js();\n    });\n  }\n}(window));"
     },
     "metadata": {},
     "output_type": "display_data"
    }
   ],
   "source": [
    "import bokeh.io\n",
    "bokeh.io.output_notebook()"
   ]
  },
  {
   "cell_type": "markdown",
   "metadata": {
    "id": "hBzDZIgYLhww"
   },
   "source": [
    "### Import data"
   ]
  },
  {
   "cell_type": "code",
   "execution_count": 3,
   "metadata": {
    "id": "5YtEojf3h1aa"
   },
   "outputs": [],
   "source": [
    "#input Pf6+ data \n",
    "pf6plus_metadata = 'https://pf6plus.cog.sanger.ac.uk/pf6plus_metadata.tsv'\n",
    "pf6plus = pd.read_csv(pf6plus_metadata, sep='\\t', index_col=0, low_memory=False)"
   ]
  },
  {
   "cell_type": "markdown",
   "metadata": {
    "id": "19UZh0HwGaGf"
   },
   "source": [
    "Here we filter out the samples which have `IncludeInAnalysis` set to `True`. This will retain only high-quality samples (both WGS and AmpSeq). "
   ]
  },
  {
   "cell_type": "code",
   "execution_count": 4,
   "metadata": {
    "id": "8RZWxqI4GaGf"
   },
   "outputs": [],
   "source": [
    "pf6plus=pf6plus.loc[pf6plus.IncludeInAnalysis==True]"
   ]
  },
  {
   "cell_type": "markdown",
   "metadata": {
    "id": "bSIZ8c5Nm7zT"
   },
   "source": [
    "## Prevalence of Resistant Variants\n",
    "\n",
    "Note: If your GRC data doesn't have information on drug resistance, you can use `phenotyper` (`3_phenotyper.ipynb`), to generate it. \n",
    "\n"
   ]
  },
  {
   "cell_type": "markdown",
   "metadata": {
    "id": "HeFiSjigZJmp"
   },
   "source": [
    "### Tabulate drug resistant variants\n",
    "To start exploring the dataset we can tabulate different combinations of drugs in different countries & years."
   ]
  },
  {
   "cell_type": "code",
   "execution_count": 5,
   "metadata": {
    "colab": {
     "base_uri": "https://localhost:8080/"
    },
    "id": "EPLoyjBeGTjQ",
    "outputId": "4a8a11b6-10b8-499b-aa16-432993c2549d"
   },
   "outputs": [
    {
     "name": "stdout",
     "output_type": "stream",
     "text": [
      "Help on function tabulate_drug_resistant in module data_analysis.tabulate_drug_resistance:\n",
      "\n",
      "tabulate_drug_resistant(data, drug, country=None, population=None, years=None, bin=False)\n",
      "    Tabulate the frequency of drug resistant samples per country/year\n",
      "    \n",
      "    Parameters:\n",
      "      - drug: Any of the drugs in the Pf6+ dataframe ['Artemisinin', 'Chloroquine', 'DHA-PPQ', 'Piperaquine', 'Pyrimethamine', 'S-P', 'S-P-IPTp', 'Sulfadoxine']\n",
      "      - country: Any of the countries in the Pf6+ dataframe (if specified, population value is not used) ['Bangladesh', 'Benin', 'Burkina Faso', 'Cambodia', 'Cameroon',\n",
      "       'Colombia', \"Côte d'Ivoire\", 'Democratic Republic of the Congo',\n",
      "       'Ethiopia', 'Gambia', 'Ghana', 'Guinea', 'India', 'Indonesia',\n",
      "       'Kenya', 'Laos', 'Madagascar', 'Malawi', 'Mali', 'Mauritania',\n",
      "       'Mozambique', 'Myanmar', 'Nigeria', 'Papua New Guinea', 'Peru',\n",
      "       'Senegal', 'Tanzania', 'Thailand', 'Uganda', 'Vietnam']\n",
      "      - population: Any of the populations in the Pf6+ dataframe ['CAF', 'EAF', 'ESEA', 'OCE', 'SAM', 'SAS', 'WAF', 'WSEA']\n",
      "      - years: An array with the year(s) in the Pf6+ dataframe [2001, 2002, 2003, 2004, 2005, 2006, 2007, 2008, 2009, 2010, 2011, 2012, 2013, 2014, 2015, 2016, 2017, 2018, 2019]\n",
      "      - bin: If True, all the years between the specified values will be used. If False, individual years are used.\n",
      "    \n",
      "    Returns:\n",
      "      A dataframe showing the number of Resistant, Sensitive & Undetermined\n",
      "      samples using the drug/country/year (or) drug/country/year combination provided. . The total number\n",
      "      of samples and drug resistant frequency is also provided.\n",
      "\n"
     ]
    }
   ],
   "source": [
    "# use help(name_of_function) to access the documentation notes\n",
    "help(tabulate_drug_resistant)"
   ]
  },
  {
   "cell_type": "markdown",
   "metadata": {},
   "source": [
    "Imagine we are interested on S-P resistance around the globe..."
   ]
  },
  {
   "cell_type": "code",
   "execution_count": 6,
   "metadata": {
    "colab": {
     "base_uri": "https://localhost:8080/",
     "height": 810
    },
    "id": "xr8O3-Yq_N6s",
    "outputId": "81ec813f-2738-4d11-a746-626b68518008"
   },
   "outputs": [
    {
     "name": "stdout",
     "output_type": "stream",
     "text": [
      "S-P resistant samples \n"
     ]
    },
    {
     "data": {
      "text/html": [
       "<div>\n",
       "<style scoped>\n",
       "    .dataframe tbody tr th:only-of-type {\n",
       "        vertical-align: middle;\n",
       "    }\n",
       "\n",
       "    .dataframe tbody tr th {\n",
       "        vertical-align: top;\n",
       "    }\n",
       "\n",
       "    .dataframe thead th {\n",
       "        text-align: right;\n",
       "    }\n",
       "</style>\n",
       "<table border=\"1\" class=\"dataframe\">\n",
       "  <thead>\n",
       "    <tr style=\"text-align: right;\">\n",
       "      <th>S-P</th>\n",
       "      <th>Resistant</th>\n",
       "      <th>Sensitive</th>\n",
       "      <th>Undetermined</th>\n",
       "      <th>Total</th>\n",
       "      <th>Resistant Frequency</th>\n",
       "    </tr>\n",
       "    <tr>\n",
       "      <th>Country</th>\n",
       "      <th></th>\n",
       "      <th></th>\n",
       "      <th></th>\n",
       "      <th></th>\n",
       "      <th></th>\n",
       "    </tr>\n",
       "  </thead>\n",
       "  <tbody>\n",
       "    <tr>\n",
       "      <th>Bangladesh</th>\n",
       "      <td>715</td>\n",
       "      <td>834</td>\n",
       "      <td>221</td>\n",
       "      <td>1770</td>\n",
       "      <td>0.46</td>\n",
       "    </tr>\n",
       "    <tr>\n",
       "      <th>Benin</th>\n",
       "      <td>34</td>\n",
       "      <td>1</td>\n",
       "      <td>1</td>\n",
       "      <td>36</td>\n",
       "      <td>0.97</td>\n",
       "    </tr>\n",
       "    <tr>\n",
       "      <th>Burkina Faso</th>\n",
       "      <td>10</td>\n",
       "      <td>27</td>\n",
       "      <td>19</td>\n",
       "      <td>56</td>\n",
       "      <td>0.27</td>\n",
       "    </tr>\n",
       "    <tr>\n",
       "      <th>Cambodia</th>\n",
       "      <td>1697</td>\n",
       "      <td>96</td>\n",
       "      <td>82</td>\n",
       "      <td>1875</td>\n",
       "      <td>0.95</td>\n",
       "    </tr>\n",
       "    <tr>\n",
       "      <th>Cameroon</th>\n",
       "      <td>230</td>\n",
       "      <td>2</td>\n",
       "      <td>3</td>\n",
       "      <td>235</td>\n",
       "      <td>0.99</td>\n",
       "    </tr>\n",
       "    <tr>\n",
       "      <th>Colombia</th>\n",
       "      <td>0</td>\n",
       "      <td>16</td>\n",
       "      <td>0</td>\n",
       "      <td>16</td>\n",
       "      <td>0.00</td>\n",
       "    </tr>\n",
       "    <tr>\n",
       "      <th>Côte d'Ivoire</th>\n",
       "      <td>34</td>\n",
       "      <td>28</td>\n",
       "      <td>8</td>\n",
       "      <td>70</td>\n",
       "      <td>0.55</td>\n",
       "    </tr>\n",
       "    <tr>\n",
       "      <th>Democratic Republic of the Congo</th>\n",
       "      <td>268</td>\n",
       "      <td>55</td>\n",
       "      <td>141</td>\n",
       "      <td>464</td>\n",
       "      <td>0.83</td>\n",
       "    </tr>\n",
       "    <tr>\n",
       "      <th>Ethiopia</th>\n",
       "      <td>18</td>\n",
       "      <td>2</td>\n",
       "      <td>1</td>\n",
       "      <td>21</td>\n",
       "      <td>0.90</td>\n",
       "    </tr>\n",
       "    <tr>\n",
       "      <th>Gambia</th>\n",
       "      <td>182</td>\n",
       "      <td>25</td>\n",
       "      <td>12</td>\n",
       "      <td>219</td>\n",
       "      <td>0.88</td>\n",
       "    </tr>\n",
       "    <tr>\n",
       "      <th>Ghana</th>\n",
       "      <td>440</td>\n",
       "      <td>199</td>\n",
       "      <td>212</td>\n",
       "      <td>851</td>\n",
       "      <td>0.69</td>\n",
       "    </tr>\n",
       "    <tr>\n",
       "      <th>Guinea</th>\n",
       "      <td>108</td>\n",
       "      <td>18</td>\n",
       "      <td>23</td>\n",
       "      <td>149</td>\n",
       "      <td>0.86</td>\n",
       "    </tr>\n",
       "    <tr>\n",
       "      <th>India</th>\n",
       "      <td>46</td>\n",
       "      <td>229</td>\n",
       "      <td>5</td>\n",
       "      <td>280</td>\n",
       "      <td>0.17</td>\n",
       "    </tr>\n",
       "    <tr>\n",
       "      <th>Indonesia</th>\n",
       "      <td>0</td>\n",
       "      <td>80</td>\n",
       "      <td>0</td>\n",
       "      <td>80</td>\n",
       "      <td>0.00</td>\n",
       "    </tr>\n",
       "    <tr>\n",
       "      <th>Kenya</th>\n",
       "      <td>86</td>\n",
       "      <td>17</td>\n",
       "      <td>7</td>\n",
       "      <td>110</td>\n",
       "      <td>0.83</td>\n",
       "    </tr>\n",
       "    <tr>\n",
       "      <th>Laos</th>\n",
       "      <td>730</td>\n",
       "      <td>493</td>\n",
       "      <td>295</td>\n",
       "      <td>1518</td>\n",
       "      <td>0.60</td>\n",
       "    </tr>\n",
       "    <tr>\n",
       "      <th>Madagascar</th>\n",
       "      <td>17</td>\n",
       "      <td>7</td>\n",
       "      <td>0</td>\n",
       "      <td>24</td>\n",
       "      <td>0.71</td>\n",
       "    </tr>\n",
       "    <tr>\n",
       "      <th>Malawi</th>\n",
       "      <td>243</td>\n",
       "      <td>3</td>\n",
       "      <td>8</td>\n",
       "      <td>254</td>\n",
       "      <td>0.99</td>\n",
       "    </tr>\n",
       "    <tr>\n",
       "      <th>Mali</th>\n",
       "      <td>193</td>\n",
       "      <td>142</td>\n",
       "      <td>91</td>\n",
       "      <td>426</td>\n",
       "      <td>0.58</td>\n",
       "    </tr>\n",
       "    <tr>\n",
       "      <th>Mauritania</th>\n",
       "      <td>47</td>\n",
       "      <td>20</td>\n",
       "      <td>9</td>\n",
       "      <td>76</td>\n",
       "      <td>0.70</td>\n",
       "    </tr>\n",
       "    <tr>\n",
       "      <th>Mozambique</th>\n",
       "      <td>1</td>\n",
       "      <td>0</td>\n",
       "      <td>0</td>\n",
       "      <td>1</td>\n",
       "      <td>1.00</td>\n",
       "    </tr>\n",
       "    <tr>\n",
       "      <th>Myanmar</th>\n",
       "      <td>581</td>\n",
       "      <td>224</td>\n",
       "      <td>355</td>\n",
       "      <td>1160</td>\n",
       "      <td>0.72</td>\n",
       "    </tr>\n",
       "    <tr>\n",
       "      <th>Nigeria</th>\n",
       "      <td>27</td>\n",
       "      <td>2</td>\n",
       "      <td>0</td>\n",
       "      <td>29</td>\n",
       "      <td>0.93</td>\n",
       "    </tr>\n",
       "    <tr>\n",
       "      <th>Papua New Guinea</th>\n",
       "      <td>0</td>\n",
       "      <td>121</td>\n",
       "      <td>0</td>\n",
       "      <td>121</td>\n",
       "      <td>0.00</td>\n",
       "    </tr>\n",
       "    <tr>\n",
       "      <th>Peru</th>\n",
       "      <td>0</td>\n",
       "      <td>21</td>\n",
       "      <td>0</td>\n",
       "      <td>21</td>\n",
       "      <td>0.00</td>\n",
       "    </tr>\n",
       "    <tr>\n",
       "      <th>Senegal</th>\n",
       "      <td>76</td>\n",
       "      <td>6</td>\n",
       "      <td>2</td>\n",
       "      <td>84</td>\n",
       "      <td>0.93</td>\n",
       "    </tr>\n",
       "    <tr>\n",
       "      <th>Tanzania</th>\n",
       "      <td>256</td>\n",
       "      <td>31</td>\n",
       "      <td>29</td>\n",
       "      <td>316</td>\n",
       "      <td>0.89</td>\n",
       "    </tr>\n",
       "    <tr>\n",
       "      <th>Thailand</th>\n",
       "      <td>905</td>\n",
       "      <td>69</td>\n",
       "      <td>45</td>\n",
       "      <td>1019</td>\n",
       "      <td>0.93</td>\n",
       "    </tr>\n",
       "    <tr>\n",
       "      <th>Uganda</th>\n",
       "      <td>11</td>\n",
       "      <td>1</td>\n",
       "      <td>1</td>\n",
       "      <td>13</td>\n",
       "      <td>0.92</td>\n",
       "    </tr>\n",
       "    <tr>\n",
       "      <th>Vietnam</th>\n",
       "      <td>1609</td>\n",
       "      <td>93</td>\n",
       "      <td>600</td>\n",
       "      <td>2302</td>\n",
       "      <td>0.95</td>\n",
       "    </tr>\n",
       "  </tbody>\n",
       "</table>\n",
       "</div>"
      ],
      "text/plain": [
       "S-P                               Resistant  Sensitive  Undetermined  Total  \\\n",
       "Country                                                                       \n",
       "Bangladesh                              715        834           221   1770   \n",
       "Benin                                    34          1             1     36   \n",
       "Burkina Faso                             10         27            19     56   \n",
       "Cambodia                               1697         96            82   1875   \n",
       "Cameroon                                230          2             3    235   \n",
       "Colombia                                  0         16             0     16   \n",
       "Côte d'Ivoire                            34         28             8     70   \n",
       "Democratic Republic of the Congo        268         55           141    464   \n",
       "Ethiopia                                 18          2             1     21   \n",
       "Gambia                                  182         25            12    219   \n",
       "Ghana                                   440        199           212    851   \n",
       "Guinea                                  108         18            23    149   \n",
       "India                                    46        229             5    280   \n",
       "Indonesia                                 0         80             0     80   \n",
       "Kenya                                    86         17             7    110   \n",
       "Laos                                    730        493           295   1518   \n",
       "Madagascar                               17          7             0     24   \n",
       "Malawi                                  243          3             8    254   \n",
       "Mali                                    193        142            91    426   \n",
       "Mauritania                               47         20             9     76   \n",
       "Mozambique                                1          0             0      1   \n",
       "Myanmar                                 581        224           355   1160   \n",
       "Nigeria                                  27          2             0     29   \n",
       "Papua New Guinea                          0        121             0    121   \n",
       "Peru                                      0         21             0     21   \n",
       "Senegal                                  76          6             2     84   \n",
       "Tanzania                                256         31            29    316   \n",
       "Thailand                                905         69            45   1019   \n",
       "Uganda                                   11          1             1     13   \n",
       "Vietnam                                1609         93           600   2302   \n",
       "\n",
       "S-P                               Resistant Frequency  \n",
       "Country                                                \n",
       "Bangladesh                                       0.46  \n",
       "Benin                                            0.97  \n",
       "Burkina Faso                                     0.27  \n",
       "Cambodia                                         0.95  \n",
       "Cameroon                                         0.99  \n",
       "Colombia                                         0.00  \n",
       "Côte d'Ivoire                                    0.55  \n",
       "Democratic Republic of the Congo                 0.83  \n",
       "Ethiopia                                         0.90  \n",
       "Gambia                                           0.88  \n",
       "Ghana                                            0.69  \n",
       "Guinea                                           0.86  \n",
       "India                                            0.17  \n",
       "Indonesia                                        0.00  \n",
       "Kenya                                            0.83  \n",
       "Laos                                             0.60  \n",
       "Madagascar                                       0.71  \n",
       "Malawi                                           0.99  \n",
       "Mali                                             0.58  \n",
       "Mauritania                                       0.70  \n",
       "Mozambique                                       1.00  \n",
       "Myanmar                                          0.72  \n",
       "Nigeria                                          0.93  \n",
       "Papua New Guinea                                 0.00  \n",
       "Peru                                             0.00  \n",
       "Senegal                                          0.93  \n",
       "Tanzania                                         0.89  \n",
       "Thailand                                         0.93  \n",
       "Uganda                                           0.92  \n",
       "Vietnam                                          0.95  "
      ]
     },
     "execution_count": 6,
     "metadata": {},
     "output_type": "execute_result"
    }
   ],
   "source": [
    "tabulate_drug_resistant(pf6plus, 'S-P')"
   ]
  },
  {
   "cell_type": "markdown",
   "metadata": {},
   "source": [
    "The proportion of resistant variants seems to be high in West Africa, let's aggregate the countries on this population and see the result.."
   ]
  },
  {
   "cell_type": "code",
   "execution_count": 7,
   "metadata": {
    "colab": {
     "base_uri": "https://localhost:8080/",
     "height": 128
    },
    "id": "0628dSRW_OEy",
    "outputId": "822450c8-6d97-46ba-82be-b445d031d4ee"
   },
   "outputs": [
    {
     "name": "stdout",
     "output_type": "stream",
     "text": [
      "S-P resistant samples in WAF \n"
     ]
    },
    {
     "data": {
      "text/html": [
       "<div>\n",
       "<style scoped>\n",
       "    .dataframe tbody tr th:only-of-type {\n",
       "        vertical-align: middle;\n",
       "    }\n",
       "\n",
       "    .dataframe tbody tr th {\n",
       "        vertical-align: top;\n",
       "    }\n",
       "\n",
       "    .dataframe thead th {\n",
       "        text-align: right;\n",
       "    }\n",
       "</style>\n",
       "<table border=\"1\" class=\"dataframe\">\n",
       "  <thead>\n",
       "    <tr style=\"text-align: right;\">\n",
       "      <th>S-P</th>\n",
       "      <th>Resistant</th>\n",
       "      <th>Sensitive</th>\n",
       "      <th>Undetermined</th>\n",
       "      <th>Total</th>\n",
       "      <th>Resistant Frequency</th>\n",
       "    </tr>\n",
       "    <tr>\n",
       "      <th>Year</th>\n",
       "      <th></th>\n",
       "      <th></th>\n",
       "      <th></th>\n",
       "      <th></th>\n",
       "      <th></th>\n",
       "    </tr>\n",
       "  </thead>\n",
       "  <tbody>\n",
       "    <tr>\n",
       "      <th>2007</th>\n",
       "      <td>26</td>\n",
       "      <td>35</td>\n",
       "      <td>24</td>\n",
       "      <td>170</td>\n",
       "      <td>0.43</td>\n",
       "    </tr>\n",
       "    <tr>\n",
       "      <th>2008</th>\n",
       "      <td>70</td>\n",
       "      <td>38</td>\n",
       "      <td>21</td>\n",
       "      <td>258</td>\n",
       "      <td>0.65</td>\n",
       "    </tr>\n",
       "    <tr>\n",
       "      <th>2009</th>\n",
       "      <td>51</td>\n",
       "      <td>32</td>\n",
       "      <td>35</td>\n",
       "      <td>236</td>\n",
       "      <td>0.61</td>\n",
       "    </tr>\n",
       "    <tr>\n",
       "      <th>2010</th>\n",
       "      <td>66</td>\n",
       "      <td>45</td>\n",
       "      <td>45</td>\n",
       "      <td>312</td>\n",
       "      <td>0.59</td>\n",
       "    </tr>\n",
       "    <tr>\n",
       "      <th>2011</th>\n",
       "      <td>157</td>\n",
       "      <td>50</td>\n",
       "      <td>42</td>\n",
       "      <td>498</td>\n",
       "      <td>0.76</td>\n",
       "    </tr>\n",
       "    <tr>\n",
       "      <th>2012</th>\n",
       "      <td>51</td>\n",
       "      <td>11</td>\n",
       "      <td>19</td>\n",
       "      <td>162</td>\n",
       "      <td>0.82</td>\n",
       "    </tr>\n",
       "    <tr>\n",
       "      <th>2013</th>\n",
       "      <td>595</td>\n",
       "      <td>169</td>\n",
       "      <td>134</td>\n",
       "      <td>1796</td>\n",
       "      <td>0.78</td>\n",
       "    </tr>\n",
       "    <tr>\n",
       "      <th>2014</th>\n",
       "      <td>336</td>\n",
       "      <td>81</td>\n",
       "      <td>37</td>\n",
       "      <td>908</td>\n",
       "      <td>0.81</td>\n",
       "    </tr>\n",
       "    <tr>\n",
       "      <th>2015</th>\n",
       "      <td>29</td>\n",
       "      <td>9</td>\n",
       "      <td>23</td>\n",
       "      <td>122</td>\n",
       "      <td>0.76</td>\n",
       "    </tr>\n",
       "  </tbody>\n",
       "</table>\n",
       "</div>"
      ],
      "text/plain": [
       "S-P   Resistant  Sensitive  Undetermined  Total  Resistant Frequency\n",
       "Year                                                                \n",
       "2007         26         35            24    170                 0.43\n",
       "2008         70         38            21    258                 0.65\n",
       "2009         51         32            35    236                 0.61\n",
       "2010         66         45            45    312                 0.59\n",
       "2011        157         50            42    498                 0.76\n",
       "2012         51         11            19    162                 0.82\n",
       "2013        595        169           134   1796                 0.78\n",
       "2014        336         81            37    908                 0.81\n",
       "2015         29          9            23    122                 0.76"
      ]
     },
     "execution_count": 7,
     "metadata": {},
     "output_type": "execute_result"
    }
   ],
   "source": [
    "tabulate_drug_resistant(pf6plus, 'S-P', population='WAF')"
   ]
  },
  {
   "cell_type": "markdown",
   "metadata": {},
   "source": [
    "We can also see the temporal aspect, trying to spot temporal patterns.."
   ]
  },
  {
   "cell_type": "code",
   "execution_count": 8,
   "metadata": {
    "colab": {
     "base_uri": "https://localhost:8080/",
     "height": 810
    },
    "id": "eDews4D8q4Hr",
    "outputId": "89cbf318-87fb-4f44-e1c3-da6a5750b59f"
   },
   "outputs": [
    {
     "name": "stdout",
     "output_type": "stream",
     "text": [
      "S-P resistant samples for years 2007, 2010\n"
     ]
    },
    {
     "data": {
      "text/html": [
       "<div>\n",
       "<style scoped>\n",
       "    .dataframe tbody tr th:only-of-type {\n",
       "        vertical-align: middle;\n",
       "    }\n",
       "\n",
       "    .dataframe tbody tr th {\n",
       "        vertical-align: top;\n",
       "    }\n",
       "\n",
       "    .dataframe thead th {\n",
       "        text-align: right;\n",
       "    }\n",
       "</style>\n",
       "<table border=\"1\" class=\"dataframe\">\n",
       "  <thead>\n",
       "    <tr style=\"text-align: right;\">\n",
       "      <th>S-P</th>\n",
       "      <th>Resistant</th>\n",
       "      <th>Sensitive</th>\n",
       "      <th>Undetermined</th>\n",
       "      <th>Total</th>\n",
       "      <th>Resistant Frequency</th>\n",
       "    </tr>\n",
       "    <tr>\n",
       "      <th>Country</th>\n",
       "      <th></th>\n",
       "      <th></th>\n",
       "      <th></th>\n",
       "      <th></th>\n",
       "      <th></th>\n",
       "    </tr>\n",
       "  </thead>\n",
       "  <tbody>\n",
       "    <tr>\n",
       "      <th>Cambodia</th>\n",
       "      <td>180</td>\n",
       "      <td>11</td>\n",
       "      <td>4</td>\n",
       "      <td>195</td>\n",
       "      <td>0.94</td>\n",
       "    </tr>\n",
       "    <tr>\n",
       "      <th>Ghana</th>\n",
       "      <td>66</td>\n",
       "      <td>45</td>\n",
       "      <td>45</td>\n",
       "      <td>156</td>\n",
       "      <td>0.59</td>\n",
       "    </tr>\n",
       "    <tr>\n",
       "      <th>Indonesia</th>\n",
       "      <td>0</td>\n",
       "      <td>1</td>\n",
       "      <td>0</td>\n",
       "      <td>1</td>\n",
       "      <td>0.00</td>\n",
       "    </tr>\n",
       "    <tr>\n",
       "      <th>Kenya</th>\n",
       "      <td>30</td>\n",
       "      <td>15</td>\n",
       "      <td>4</td>\n",
       "      <td>49</td>\n",
       "      <td>0.67</td>\n",
       "    </tr>\n",
       "    <tr>\n",
       "      <th>Laos</th>\n",
       "      <td>12</td>\n",
       "      <td>22</td>\n",
       "      <td>2</td>\n",
       "      <td>36</td>\n",
       "      <td>0.35</td>\n",
       "    </tr>\n",
       "    <tr>\n",
       "      <th>Mali</th>\n",
       "      <td>26</td>\n",
       "      <td>35</td>\n",
       "      <td>24</td>\n",
       "      <td>85</td>\n",
       "      <td>0.43</td>\n",
       "    </tr>\n",
       "    <tr>\n",
       "      <th>Papua New Guinea</th>\n",
       "      <td>0</td>\n",
       "      <td>3</td>\n",
       "      <td>0</td>\n",
       "      <td>3</td>\n",
       "      <td>0.00</td>\n",
       "    </tr>\n",
       "    <tr>\n",
       "      <th>Tanzania</th>\n",
       "      <td>34</td>\n",
       "      <td>6</td>\n",
       "      <td>7</td>\n",
       "      <td>47</td>\n",
       "      <td>0.85</td>\n",
       "    </tr>\n",
       "    <tr>\n",
       "      <th>Thailand</th>\n",
       "      <td>39</td>\n",
       "      <td>1</td>\n",
       "      <td>1</td>\n",
       "      <td>41</td>\n",
       "      <td>0.98</td>\n",
       "    </tr>\n",
       "    <tr>\n",
       "      <th>Uganda</th>\n",
       "      <td>10</td>\n",
       "      <td>1</td>\n",
       "      <td>1</td>\n",
       "      <td>12</td>\n",
       "      <td>0.91</td>\n",
       "    </tr>\n",
       "    <tr>\n",
       "      <th>Vietnam</th>\n",
       "      <td>65</td>\n",
       "      <td>3</td>\n",
       "      <td>5</td>\n",
       "      <td>73</td>\n",
       "      <td>0.96</td>\n",
       "    </tr>\n",
       "  </tbody>\n",
       "</table>\n",
       "</div>"
      ],
      "text/plain": [
       "S-P               Resistant  Sensitive  Undetermined  Total  \\\n",
       "Country                                                       \n",
       "Cambodia                180         11             4    195   \n",
       "Ghana                    66         45            45    156   \n",
       "Indonesia                 0          1             0      1   \n",
       "Kenya                    30         15             4     49   \n",
       "Laos                     12         22             2     36   \n",
       "Mali                     26         35            24     85   \n",
       "Papua New Guinea          0          3             0      3   \n",
       "Tanzania                 34          6             7     47   \n",
       "Thailand                 39          1             1     41   \n",
       "Uganda                   10          1             1     12   \n",
       "Vietnam                  65          3             5     73   \n",
       "\n",
       "S-P               Resistant Frequency  \n",
       "Country                                \n",
       "Cambodia                         0.94  \n",
       "Ghana                            0.59  \n",
       "Indonesia                        0.00  \n",
       "Kenya                            0.67  \n",
       "Laos                             0.35  \n",
       "Mali                             0.43  \n",
       "Papua New Guinea                 0.00  \n",
       "Tanzania                         0.85  \n",
       "Thailand                         0.98  \n",
       "Uganda                           0.91  \n",
       "Vietnam                          0.96  "
      ]
     },
     "execution_count": 8,
     "metadata": {},
     "output_type": "execute_result"
    }
   ],
   "source": [
    "tabulate_drug_resistant(pf6plus,'S-P', years = [2007, 2010], bin=False)"
   ]
  },
  {
   "cell_type": "markdown",
   "metadata": {
    "id": "_-DEImCYNurR"
   },
   "source": [
    "**The number of samples collected across different locations in different years varies widely in the Pf6+ data resource. To increase confidence in the plots shown below, a threshold is set to only include country (or) population/year combinations with `n_samples > 25`. You can change this default value by using the `threshold` flag, but please be cautious.**"
   ]
  },
  {
   "cell_type": "markdown",
   "metadata": {
    "id": "ZEbWtLWXO6JS"
   },
   "source": [
    "### Plot drug resistance prevalence"
   ]
  },
  {
   "cell_type": "markdown",
   "metadata": {},
   "source": [
    "This function explores the frequencies of drug resistant variants within different spatial (country/population) and temporal (year) combinations. This is quite a useful way of visualising time series data in regions & years of interest.\n",
    "\n",
    "You can also hover over the data points to see the specific numbers and zoom in and out to change the scale."
   ]
  },
  {
   "cell_type": "code",
   "execution_count": 9,
   "metadata": {
    "colab": {
     "base_uri": "https://localhost:8080/"
    },
    "id": "YZhavFFM1Qwx",
    "outputId": "63f8b276-9672-43cb-ac99-02faa67adfaa"
   },
   "outputs": [
    {
     "name": "stdout",
     "output_type": "stream",
     "text": [
      "Help on function plot_dr_prevalence in module data_analysis.plot_dr_prevalence:\n",
      "\n",
      "plot_dr_prevalence(data, drugs, country=None, population=None, years=None, bin=False, threshold=25)\n",
      "    Plot the prevalence of resistant samples per country/year\n",
      "    \n",
      "    Parameters:\n",
      "      - drug: Any/list of the drugs in the Pf6+ dataframe ['Artemisinin', 'Chloroquine', 'DHA-PPQ', 'Piperaquine', 'Pyrimethamine', 'S-P', 'S-P-IPTp', 'Sulfadoxine']\n",
      "      - country: Any of the countries in the Pf6+ dataframe (if specified, population value is not used) ['Bangladesh', 'Benin', 'Burkina Faso', 'Cambodia', 'Cameroon',\n",
      "       'Colombia', \"Côte d'Ivoire\", 'Democratic Republic of the Congo',\n",
      "       'Ethiopia', 'Gambia', 'Ghana', 'Guinea', 'India', 'Indonesia',\n",
      "       'Kenya', 'Laos', 'Madagascar', 'Malawi', 'Mali', 'Mauritania',\n",
      "       'Mozambique', 'Myanmar', 'Nigeria', 'Papua New Guinea', 'Peru',\n",
      "       'Senegal', 'Tanzania', 'Thailand', 'Uganda', 'Vietnam']\n",
      "      - population: Any of the populations in the Pf6+ dataframe ['CAF', 'EAF', 'ESEA', 'OCE', 'SAM', 'SAS', 'WAF', 'WSEA']\n",
      "      - year: Any/list of the years in the Pf6+ dataframe [2001, 2002, 2003, 2004, 2005, 2006, 2007, 2008, 2009, 2010, 2011, 2012, 2013, 2014, 2015, 2016, 2017, 2018, 2019]\n",
      "      - bin: If True, all the years between the specified values will be used. If False, individual years are used.\n",
      "      - threshold: To increase confidence on disperse data, only use country (or) population/year combinations with n_samples>threshold (default=25)\n",
      "    \n",
      "    Returns:\n",
      "      A series of plots (one per drug) showing the prevalence of resistant variants the drug/country/year (or) drug/country/year combination provided.\n",
      "\n"
     ]
    }
   ],
   "source": [
    "help(plot_dr_prevalence)"
   ]
  },
  {
   "cell_type": "markdown",
   "metadata": {},
   "source": [
    "We can continue exploring patterns specific to West Africa, by looking at the infromation available for specific drugs in Gambia. By comparing this country versus the population average, we can make it easier to spot differences.."
   ]
  },
  {
   "cell_type": "code",
   "execution_count": 10,
   "metadata": {
    "colab": {
     "base_uri": "https://localhost:8080/",
     "height": 898
    },
    "id": "ItGBPFS0GSJu",
    "outputId": "816f82e4-8b7d-45da-ace6-b752a6c81449"
   },
   "outputs": [
    {
     "name": "stdout",
     "output_type": "stream",
     "text": [
      "WARNING: Not enough data on Artemisinin resistant variants in Gambia dataset. No plot will be produced.\n",
      "WARNING: Not enough data on DHA-PPQ resistant variants in Gambia dataset. No plot will be produced.\n",
      "WARNING: Not enough data on Piperaquine resistant variants in Gambia dataset. No plot will be produced.\n"
     ]
    },
    {
     "data": {
      "text/html": [
       "\n",
       "\n",
       "\n",
       "\n",
       "\n",
       "\n",
       "  <div class=\"bk-root\" id=\"4ed6cd35-fcad-458c-bc87-65fbf2e066c6\" data-root-id=\"1294\"></div>\n"
      ]
     },
     "metadata": {},
     "output_type": "display_data"
    },
    {
     "data": {
      "application/javascript": [
       "(function(root) {\n",
       "  function embed_document(root) {\n",
       "    \n",
       "  var docs_json = {\"04d248d3-1235-4f10-a76d-2a3bc076aabc\":{\"defs\":[],\"roots\":{\"references\":[{\"attributes\":{\"children\":[{\"id\":\"1293\"},{\"id\":\"1291\"}]},\"id\":\"1294\",\"type\":\"Column\"},{\"attributes\":{},\"id\":\"1025\",\"type\":\"ResetTool\"},{\"attributes\":{\"data\":{\"Data\":{\"__ndarray__\":\"MzMzMzMz0z/Xo3A9CtfjP2ZmZmZmZu4/cT0K16Nw7T9I4XoUrkfpPx+F61G4Hu0/AAAAAAAA6D+4HoXrUbjmP/YoXI/C9eg/\",\"dtype\":\"float64\",\"order\":\"little\",\"shape\":[9]},\"Year\":[2007,2008,2009,2010,2011,2012,2013,2014,2015]},\"selected\":{\"id\":\"1159\"},\"selection_policy\":{\"id\":\"1158\"}},\"id\":\"1142\",\"type\":\"ColumnDataSource\"},{\"attributes\":{\"overlay\":{\"id\":\"1027\"}},\"id\":\"1024\",\"type\":\"BoxZoomTool\"},{\"attributes\":{\"active_drag\":{\"id\":\"1022\"},\"active_multi\":null,\"active_scroll\":{\"id\":\"1023\"},\"tools\":[{\"id\":\"1022\"},{\"id\":\"1023\"},{\"id\":\"1024\"},{\"id\":\"1025\"},{\"id\":\"1026\"},{\"id\":\"1057\"},{\"id\":\"1083\"}]},\"id\":\"1028\",\"type\":\"Toolbar\"},{\"attributes\":{\"source\":{\"id\":\"1117\"}},\"id\":\"1122\",\"type\":\"CDSView\"},{\"attributes\":{\"above\":[{\"id\":\"1168\"}],\"below\":[{\"id\":\"1097\"}],\"center\":[{\"id\":\"1100\"},{\"id\":\"1104\"},{\"id\":\"1133\"}],\"height\":400,\"left\":[{\"id\":\"1101\"}],\"renderers\":[{\"id\":\"1121\"},{\"id\":\"1138\"},{\"id\":\"1146\"},{\"id\":\"1164\"}],\"title\":{\"id\":\"1087\"},\"toolbar\":{\"id\":\"1111\"},\"toolbar_location\":null,\"width\":400,\"x_range\":{\"id\":\"1089\"},\"x_scale\":{\"id\":\"1093\"},\"y_range\":{\"id\":\"1091\"},\"y_scale\":{\"id\":\"1095\"}},\"id\":\"1086\",\"subtype\":\"Figure\",\"type\":\"Plot\"},{\"attributes\":{\"axis_label\":\"Year\",\"formatter\":{\"id\":\"1042\"},\"major_label_policy\":{\"id\":\"1043\"},\"ticker\":{\"id\":\"1015\"}},\"id\":\"1014\",\"type\":\"LinearAxis\"},{\"attributes\":{\"text\":\"Sulfadoxine resistance prevalence in Gambia\"},\"id\":\"1087\",\"type\":\"Title\"},{\"attributes\":{\"axis\":{\"id\":\"1014\"},\"ticker\":null},\"id\":\"1017\",\"type\":\"Grid\"},{\"attributes\":{\"fill_alpha\":{\"value\":0.5},\"fill_color\":{\"value\":\"#1f77b4\"},\"line_alpha\":{\"value\":0.5},\"line_color\":{\"value\":\"#1f77b4\"},\"size\":{\"value\":10},\"x\":{\"field\":\"Year\"},\"y\":{\"field\":\"Data\"}},\"id\":\"1053\",\"type\":\"Circle\"},{\"attributes\":{\"background_fill_alpha\":0.7,\"items\":[{\"id\":\"1134\"},{\"id\":\"1160\"}]},\"id\":\"1133\",\"type\":\"Legend\"},{\"attributes\":{},\"id\":\"1019\",\"type\":\"BasicTicker\"},{\"attributes\":{\"text\":\"(2007-2015)\"},\"id\":\"1168\",\"type\":\"Title\"},{\"attributes\":{\"above\":[{\"id\":\"1251\"}],\"below\":[{\"id\":\"1180\"}],\"center\":[{\"id\":\"1183\"},{\"id\":\"1187\"},{\"id\":\"1216\"}],\"height\":400,\"left\":[{\"id\":\"1184\"}],\"renderers\":[{\"id\":\"1204\"},{\"id\":\"1221\"},{\"id\":\"1229\"},{\"id\":\"1247\"}],\"title\":{\"id\":\"1170\"},\"toolbar\":{\"id\":\"1194\"},\"toolbar_location\":null,\"width\":400,\"x_range\":{\"id\":\"1172\"},\"x_scale\":{\"id\":\"1176\"},\"y_range\":{\"id\":\"1174\"},\"y_scale\":{\"id\":\"1178\"}},\"id\":\"1169\",\"subtype\":\"Figure\",\"type\":\"Plot\"},{\"attributes\":{\"axis_label\":\"Prevalence\",\"formatter\":{\"id\":\"1045\"},\"major_label_policy\":{\"id\":\"1046\"},\"ticker\":{\"id\":\"1019\"}},\"id\":\"1018\",\"type\":\"LinearAxis\"},{\"attributes\":{\"callback\":null},\"id\":\"1026\",\"type\":\"TapTool\"},{\"attributes\":{},\"id\":\"1022\",\"type\":\"PanTool\"},{\"attributes\":{\"fill_alpha\":{\"value\":0.1},\"fill_color\":{\"value\":\"#1f77b4\"},\"line_alpha\":{\"value\":0.1},\"line_color\":{\"value\":\"#1f77b4\"},\"size\":{\"value\":10},\"x\":{\"field\":\"Year\"},\"y\":{\"field\":\"Data\"}},\"id\":\"1054\",\"type\":\"Circle\"},{\"attributes\":{\"source\":{\"id\":\"1034\"}},\"id\":\"1056\",\"type\":\"CDSView\"},{\"attributes\":{\"data_source\":{\"id\":\"1034\"},\"glyph\":{\"id\":\"1053\"},\"hover_glyph\":null,\"muted_glyph\":null,\"nonselection_glyph\":{\"id\":\"1054\"},\"view\":{\"id\":\"1056\"}},\"id\":\"1055\",\"type\":\"GlyphRenderer\"},{\"attributes\":{\"callback\":null,\"renderers\":[{\"id\":\"1055\"}],\"tooltips\":[[\"(x,y)\",\"(@Year,@Data)\"]]},\"id\":\"1057\",\"type\":\"HoverTool\"},{\"attributes\":{\"axis\":{\"id\":\"1018\"},\"dimension\":1,\"ticker\":null},\"id\":\"1021\",\"type\":\"Grid\"},{\"attributes\":{},\"id\":\"1023\",\"type\":\"WheelZoomTool\"},{\"attributes\":{\"text\":\"(2007-2015)\"},\"id\":\"1085\",\"type\":\"Title\"},{\"attributes\":{\"source\":{\"id\":\"1059\"}},\"id\":\"1064\",\"type\":\"CDSView\"},{\"attributes\":{},\"id\":\"1125\",\"type\":\"BasicTickFormatter\"},{\"attributes\":{},\"id\":\"1126\",\"type\":\"AllLabels\"},{\"attributes\":{},\"id\":\"1010\",\"type\":\"LinearScale\"},{\"attributes\":{},\"id\":\"1012\",\"type\":\"LinearScale\"},{\"attributes\":{\"fill_alpha\":{\"value\":0.1},\"fill_color\":{\"value\":\"#ff7f0e\"},\"line_alpha\":{\"value\":0.1},\"line_color\":{\"value\":\"#ff7f0e\"},\"size\":{\"value\":10},\"x\":{\"field\":\"Year\"},\"y\":{\"field\":\"Data\"}},\"id\":\"1080\",\"type\":\"Circle\"},{\"attributes\":{\"end\":2019,\"start\":2001},\"id\":\"1089\",\"type\":\"Range1d\"},{\"attributes\":{},\"id\":\"1128\",\"type\":\"BasicTickFormatter\"},{\"attributes\":{},\"id\":\"1129\",\"type\":\"AllLabels\"},{\"attributes\":{},\"id\":\"1015\",\"type\":\"BasicTicker\"},{\"attributes\":{\"line_alpha\":0.1,\"line_color\":\"#ff7f0e\",\"line_width\":2,\"x\":{\"field\":\"Year\"},\"y\":{\"field\":\"Data\"}},\"id\":\"1062\",\"type\":\"Line\"},{\"attributes\":{\"line_alpha\":0.1,\"line_color\":\"#1f77b4\",\"line_width\":2,\"x\":{\"field\":\"Year\"},\"y\":{\"field\":\"Data\"}},\"id\":\"1037\",\"type\":\"Line\"},{\"attributes\":{\"fill_alpha\":{\"value\":0.5},\"fill_color\":{\"value\":\"#ff7f0e\"},\"line_alpha\":{\"value\":0.5},\"line_color\":{\"value\":\"#ff7f0e\"},\"size\":{\"value\":10},\"x\":{\"field\":\"Year\"},\"y\":{\"field\":\"Data\"}},\"id\":\"1162\",\"type\":\"Circle\"},{\"attributes\":{\"data_source\":{\"id\":\"1034\"},\"glyph\":{\"id\":\"1036\"},\"hover_glyph\":null,\"muted_glyph\":null,\"nonselection_glyph\":{\"id\":\"1037\"},\"view\":{\"id\":\"1039\"}},\"id\":\"1038\",\"type\":\"GlyphRenderer\"},{\"attributes\":{\"label\":{\"value\":\"Prevalence WAF excluding Gambia\"},\"renderers\":[{\"id\":\"1063\"}]},\"id\":\"1077\",\"type\":\"LegendItem\"},{\"attributes\":{\"data_source\":{\"id\":\"1059\"},\"glyph\":{\"id\":\"1061\"},\"hover_glyph\":null,\"muted_glyph\":null,\"nonselection_glyph\":{\"id\":\"1062\"},\"view\":{\"id\":\"1064\"}},\"id\":\"1063\",\"type\":\"GlyphRenderer\"},{\"attributes\":{\"bottom_units\":\"screen\",\"fill_alpha\":0.5,\"fill_color\":\"lightgrey\",\"left_units\":\"screen\",\"level\":\"overlay\",\"line_alpha\":1.0,\"line_color\":\"black\",\"line_dash\":[4,4],\"line_width\":2,\"right_units\":\"screen\",\"syncable\":false,\"top_units\":\"screen\"},\"id\":\"1027\",\"type\":\"BoxAnnotation\"},{\"attributes\":{\"line_color\":\"#1f77b4\",\"line_width\":2,\"x\":{\"field\":\"Year\"},\"y\":{\"field\":\"Data\"}},\"id\":\"1036\",\"type\":\"Line\"},{\"attributes\":{\"data\":{\"Data\":{\"__ndarray__\":\"MzMzMzMz6z/NzMzMzMzsPw==\",\"dtype\":\"float64\",\"order\":\"little\",\"shape\":[2]},\"Year\":[2008,2014]},\"selected\":{\"id\":\"1049\"},\"selection_policy\":{\"id\":\"1048\"}},\"id\":\"1034\",\"type\":\"ColumnDataSource\"},{\"attributes\":{},\"id\":\"1075\",\"type\":\"UnionRenderers\"},{\"attributes\":{},\"id\":\"1076\",\"type\":\"Selection\"},{\"attributes\":{\"children\":[[{\"id\":\"1003\"},0,0],[{\"id\":\"1086\"},0,1],[{\"id\":\"1169\"},1,0]]},\"id\":\"1291\",\"type\":\"GridBox\"},{\"attributes\":{},\"id\":\"1131\",\"type\":\"UnionRenderers\"},{\"attributes\":{},\"id\":\"1132\",\"type\":\"Selection\"},{\"attributes\":{\"fill_alpha\":{\"value\":0.5},\"fill_color\":{\"value\":\"#ff7f0e\"},\"line_alpha\":{\"value\":0.5},\"line_color\":{\"value\":\"#ff7f0e\"},\"size\":{\"value\":10},\"x\":{\"field\":\"Year\"},\"y\":{\"field\":\"Data\"}},\"id\":\"1079\",\"type\":\"Circle\"},{\"attributes\":{\"line_color\":\"#ff7f0e\",\"line_width\":2,\"x\":{\"field\":\"Year\"},\"y\":{\"field\":\"Data\"}},\"id\":\"1061\",\"type\":\"Line\"},{\"attributes\":{\"label\":{\"value\":\"Prevalence WAF excluding Gambia\"},\"renderers\":[{\"id\":\"1146\"}]},\"id\":\"1160\",\"type\":\"LegendItem\"},{\"attributes\":{\"data_source\":{\"id\":\"1059\"},\"glyph\":{\"id\":\"1079\"},\"hover_glyph\":null,\"muted_glyph\":null,\"nonselection_glyph\":{\"id\":\"1080\"},\"view\":{\"id\":\"1082\"}},\"id\":\"1081\",\"type\":\"GlyphRenderer\"},{\"attributes\":{\"source\":{\"id\":\"1059\"}},\"id\":\"1082\",\"type\":\"CDSView\"},{\"attributes\":{\"source\":{\"id\":\"1200\"}},\"id\":\"1205\",\"type\":\"CDSView\"},{\"attributes\":{},\"id\":\"1191\",\"type\":\"ResetTool\"},{\"attributes\":{\"background_fill_alpha\":0.7,\"items\":[{\"id\":\"1051\"},{\"id\":\"1077\"}]},\"id\":\"1050\",\"type\":\"Legend\"},{\"attributes\":{\"callback\":null,\"renderers\":[{\"id\":\"1081\"}],\"tooltips\":[[\"(x,y)\",\"(@Year,@Data)\"]]},\"id\":\"1083\",\"type\":\"HoverTool\"},{\"attributes\":{\"label\":{\"value\":\"Prevalence Gambia\"},\"renderers\":[{\"id\":\"1038\"}]},\"id\":\"1051\",\"type\":\"LegendItem\"},{\"attributes\":{\"data\":{\"Data\":{\"__ndarray__\":\"hetRuB6F2z9I4XoUrkfRP4XrUbgeheM/4XoUrkfh4j9SuB6F61HoP+xRuB6F6+k/9ihcj8L16D9SuB6F61HoP1K4HoXrUeg/\",\"dtype\":\"float64\",\"order\":\"little\",\"shape\":[9]},\"Year\":[2007,2008,2009,2010,2011,2012,2013,2014,2015]},\"selected\":{\"id\":\"1076\"},\"selection_policy\":{\"id\":\"1075\"}},\"id\":\"1059\",\"type\":\"ColumnDataSource\"},{\"attributes\":{\"callback\":null},\"id\":\"1192\",\"type\":\"TapTool\"},{\"attributes\":{\"line_color\":\"#ff7f0e\",\"line_width\":2,\"x\":{\"field\":\"Year\"},\"y\":{\"field\":\"Data\"}},\"id\":\"1144\",\"type\":\"Line\"},{\"attributes\":{},\"id\":\"1189\",\"type\":\"WheelZoomTool\"},{\"attributes\":{\"axis\":{\"id\":\"1101\"},\"dimension\":1,\"ticker\":null},\"id\":\"1104\",\"type\":\"Grid\"},{\"attributes\":{\"fill_alpha\":{\"value\":0.5},\"fill_color\":{\"value\":\"#1f77b4\"},\"line_alpha\":{\"value\":0.5},\"line_color\":{\"value\":\"#1f77b4\"},\"size\":{\"value\":10},\"x\":{\"field\":\"Year\"},\"y\":{\"field\":\"Data\"}},\"id\":\"1136\",\"type\":\"Circle\"},{\"attributes\":{\"source\":{\"id\":\"1034\"}},\"id\":\"1039\",\"type\":\"CDSView\"},{\"attributes\":{},\"id\":\"1208\",\"type\":\"BasicTickFormatter\"},{\"attributes\":{},\"id\":\"1209\",\"type\":\"AllLabels\"},{\"attributes\":{\"line_alpha\":0.1,\"line_color\":\"#1f77b4\",\"line_width\":2,\"x\":{\"field\":\"Year\"},\"y\":{\"field\":\"Data\"}},\"id\":\"1203\",\"type\":\"Line\"},{\"attributes\":{\"source\":{\"id\":\"1142\"}},\"id\":\"1165\",\"type\":\"CDSView\"},{\"attributes\":{},\"id\":\"1174\",\"type\":\"Range1d\"},{\"attributes\":{\"fill_alpha\":{\"value\":0.1},\"fill_color\":{\"value\":\"#ff7f0e\"},\"line_alpha\":{\"value\":0.1},\"line_color\":{\"value\":\"#ff7f0e\"},\"size\":{\"value\":10},\"x\":{\"field\":\"Year\"},\"y\":{\"field\":\"Data\"}},\"id\":\"1163\",\"type\":\"Circle\"},{\"attributes\":{\"text\":\"Chloroquine resistance prevalence in Gambia\"},\"id\":\"1170\",\"type\":\"Title\"},{\"attributes\":{\"fill_alpha\":{\"value\":0.1},\"fill_color\":{\"value\":\"#1f77b4\"},\"line_alpha\":{\"value\":0.1},\"line_color\":{\"value\":\"#1f77b4\"},\"size\":{\"value\":10},\"x\":{\"field\":\"Year\"},\"y\":{\"field\":\"Data\"}},\"id\":\"1137\",\"type\":\"Circle\"},{\"attributes\":{},\"id\":\"1211\",\"type\":\"BasicTickFormatter\"},{\"attributes\":{\"source\":{\"id\":\"1117\"}},\"id\":\"1139\",\"type\":\"CDSView\"},{\"attributes\":{},\"id\":\"1212\",\"type\":\"AllLabels\"},{\"attributes\":{\"data_source\":{\"id\":\"1117\"},\"glyph\":{\"id\":\"1136\"},\"hover_glyph\":null,\"muted_glyph\":null,\"nonselection_glyph\":{\"id\":\"1137\"},\"view\":{\"id\":\"1139\"}},\"id\":\"1138\",\"type\":\"GlyphRenderer\"},{\"attributes\":{\"data\":{\"Data\":{\"__ndarray__\":\"KVyPwvUo5D9mZmZmZmbWP1K4HoXrUdg/CtejcD0Kxz+4HoXrUbjeP5qZmZmZmbk/rkfhehSu1z9cj8L1KFzfPwAAAAAAAAAA\",\"dtype\":\"float64\",\"order\":\"little\",\"shape\":[9]},\"Year\":[2007,2008,2009,2010,2011,2012,2013,2014,2015]},\"selected\":{\"id\":\"1242\"},\"selection_policy\":{\"id\":\"1241\"}},\"id\":\"1225\",\"type\":\"ColumnDataSource\"},{\"attributes\":{},\"id\":\"1241\",\"type\":\"UnionRenderers\"},{\"attributes\":{},\"id\":\"1108\",\"type\":\"ResetTool\"},{\"attributes\":{\"callback\":null,\"renderers\":[{\"id\":\"1138\"}],\"tooltips\":[[\"(x,y)\",\"(@Year,@Data)\"]]},\"id\":\"1140\",\"type\":\"HoverTool\"},{\"attributes\":{\"active_drag\":{\"id\":\"1188\"},\"active_multi\":null,\"active_scroll\":{\"id\":\"1189\"},\"tools\":[{\"id\":\"1188\"},{\"id\":\"1189\"},{\"id\":\"1190\"},{\"id\":\"1191\"},{\"id\":\"1192\"},{\"id\":\"1223\"},{\"id\":\"1249\"}]},\"id\":\"1194\",\"type\":\"Toolbar\"},{\"attributes\":{},\"id\":\"1242\",\"type\":\"Selection\"},{\"attributes\":{},\"id\":\"1188\",\"type\":\"PanTool\"},{\"attributes\":{\"source\":{\"id\":\"1142\"}},\"id\":\"1147\",\"type\":\"CDSView\"},{\"attributes\":{},\"id\":\"1106\",\"type\":\"WheelZoomTool\"},{\"attributes\":{},\"id\":\"1093\",\"type\":\"LinearScale\"},{\"attributes\":{\"line_alpha\":0.1,\"line_color\":\"#1f77b4\",\"line_width\":2,\"x\":{\"field\":\"Year\"},\"y\":{\"field\":\"Data\"}},\"id\":\"1120\",\"type\":\"Line\"},{\"attributes\":{\"above\":[{\"id\":\"1085\"}],\"below\":[{\"id\":\"1014\"}],\"center\":[{\"id\":\"1017\"},{\"id\":\"1021\"},{\"id\":\"1050\"}],\"height\":400,\"left\":[{\"id\":\"1018\"}],\"renderers\":[{\"id\":\"1038\"},{\"id\":\"1055\"},{\"id\":\"1063\"},{\"id\":\"1081\"}],\"title\":{\"id\":\"1004\"},\"toolbar\":{\"id\":\"1028\"},\"toolbar_location\":null,\"width\":400,\"x_range\":{\"id\":\"1006\"},\"x_scale\":{\"id\":\"1010\"},\"y_range\":{\"id\":\"1008\"},\"y_scale\":{\"id\":\"1012\"}},\"id\":\"1003\",\"subtype\":\"Figure\",\"type\":\"Plot\"},{\"attributes\":{\"bottom_units\":\"screen\",\"fill_alpha\":0.5,\"fill_color\":\"lightgrey\",\"left_units\":\"screen\",\"level\":\"overlay\",\"line_alpha\":1.0,\"line_color\":\"black\",\"line_dash\":[4,4],\"line_width\":2,\"right_units\":\"screen\",\"syncable\":false,\"top_units\":\"screen\"},\"id\":\"1110\",\"type\":\"BoxAnnotation\"},{\"attributes\":{\"bottom_units\":\"screen\",\"fill_alpha\":0.5,\"fill_color\":\"lightgrey\",\"left_units\":\"screen\",\"level\":\"overlay\",\"line_alpha\":1.0,\"line_color\":\"black\",\"line_dash\":[4,4],\"line_width\":2,\"right_units\":\"screen\",\"syncable\":false,\"top_units\":\"screen\"},\"id\":\"1193\",\"type\":\"BoxAnnotation\"},{\"attributes\":{\"overlay\":{\"id\":\"1193\"}},\"id\":\"1190\",\"type\":\"BoxZoomTool\"},{\"attributes\":{},\"id\":\"1102\",\"type\":\"BasicTicker\"},{\"attributes\":{\"data\":{\"Data\":{\"__ndarray__\":\"XI/C9Shc5z8UrkfhehTmPw==\",\"dtype\":\"float64\",\"order\":\"little\",\"shape\":[2]},\"Year\":[2008,2014]},\"selected\":{\"id\":\"1215\"},\"selection_policy\":{\"id\":\"1214\"}},\"id\":\"1200\",\"type\":\"ColumnDataSource\"},{\"attributes\":{\"data_source\":{\"id\":\"1117\"},\"glyph\":{\"id\":\"1119\"},\"hover_glyph\":null,\"muted_glyph\":null,\"nonselection_glyph\":{\"id\":\"1120\"},\"view\":{\"id\":\"1122\"}},\"id\":\"1121\",\"type\":\"GlyphRenderer\"},{\"attributes\":{},\"id\":\"1042\",\"type\":\"BasicTickFormatter\"},{\"attributes\":{\"end\":2019,\"start\":2001},\"id\":\"1172\",\"type\":\"Range1d\"},{\"attributes\":{},\"id\":\"1176\",\"type\":\"LinearScale\"},{\"attributes\":{},\"id\":\"1043\",\"type\":\"AllLabels\"},{\"attributes\":{},\"id\":\"1105\",\"type\":\"PanTool\"},{\"attributes\":{\"overlay\":{\"id\":\"1110\"}},\"id\":\"1107\",\"type\":\"BoxZoomTool\"},{\"attributes\":{\"axis\":{\"id\":\"1184\"},\"dimension\":1,\"ticker\":null},\"id\":\"1187\",\"type\":\"Grid\"},{\"attributes\":{\"callback\":null},\"id\":\"1109\",\"type\":\"TapTool\"},{\"attributes\":{\"axis_label\":\"Prevalence\",\"formatter\":{\"id\":\"1211\"},\"major_label_policy\":{\"id\":\"1212\"},\"ticker\":{\"id\":\"1185\"}},\"id\":\"1184\",\"type\":\"LinearAxis\"},{\"attributes\":{},\"id\":\"1045\",\"type\":\"BasicTickFormatter\"},{\"attributes\":{\"axis_label\":\"Prevalence\",\"formatter\":{\"id\":\"1128\"},\"major_label_policy\":{\"id\":\"1129\"},\"ticker\":{\"id\":\"1102\"}},\"id\":\"1101\",\"type\":\"LinearAxis\"},{\"attributes\":{},\"id\":\"1046\",\"type\":\"AllLabels\"},{\"attributes\":{\"fill_alpha\":{\"value\":0.1},\"fill_color\":{\"value\":\"#ff7f0e\"},\"line_alpha\":{\"value\":0.1},\"line_color\":{\"value\":\"#ff7f0e\"},\"size\":{\"value\":10},\"x\":{\"field\":\"Year\"},\"y\":{\"field\":\"Data\"}},\"id\":\"1246\",\"type\":\"Circle\"},{\"attributes\":{\"source\":{\"id\":\"1225\"}},\"id\":\"1248\",\"type\":\"CDSView\"},{\"attributes\":{\"data_source\":{\"id\":\"1225\"},\"glyph\":{\"id\":\"1245\"},\"hover_glyph\":null,\"muted_glyph\":null,\"nonselection_glyph\":{\"id\":\"1246\"},\"view\":{\"id\":\"1248\"}},\"id\":\"1247\",\"type\":\"GlyphRenderer\"},{\"attributes\":{},\"id\":\"1098\",\"type\":\"BasicTicker\"},{\"attributes\":{\"callback\":null,\"renderers\":[{\"id\":\"1247\"}],\"tooltips\":[[\"(x,y)\",\"(@Year,@Data)\"]]},\"id\":\"1249\",\"type\":\"HoverTool\"},{\"attributes\":{\"line_alpha\":0.1,\"line_color\":\"#ff7f0e\",\"line_width\":2,\"x\":{\"field\":\"Year\"},\"y\":{\"field\":\"Data\"}},\"id\":\"1145\",\"type\":\"Line\"},{\"attributes\":{},\"id\":\"1214\",\"type\":\"UnionRenderers\"},{\"attributes\":{},\"id\":\"1215\",\"type\":\"Selection\"},{\"attributes\":{\"axis_label\":\"Year\",\"formatter\":{\"id\":\"1125\"},\"major_label_policy\":{\"id\":\"1126\"},\"ticker\":{\"id\":\"1098\"}},\"id\":\"1097\",\"type\":\"LinearAxis\"},{\"attributes\":{},\"id\":\"1185\",\"type\":\"BasicTicker\"},{\"attributes\":{\"data_source\":{\"id\":\"1142\"},\"glyph\":{\"id\":\"1144\"},\"hover_glyph\":null,\"muted_glyph\":null,\"nonselection_glyph\":{\"id\":\"1145\"},\"view\":{\"id\":\"1147\"}},\"id\":\"1146\",\"type\":\"GlyphRenderer\"},{\"attributes\":{},\"id\":\"1158\",\"type\":\"UnionRenderers\"},{\"attributes\":{\"data\":{\"Data\":{\"__ndarray__\":\"pHA9Ctej6D/NzMzMzMzkPw==\",\"dtype\":\"float64\",\"order\":\"little\",\"shape\":[2]},\"Year\":[2008,2014]},\"selected\":{\"id\":\"1132\"},\"selection_policy\":{\"id\":\"1131\"}},\"id\":\"1117\",\"type\":\"ColumnDataSource\"},{\"attributes\":{},\"id\":\"1178\",\"type\":\"LinearScale\"},{\"attributes\":{\"fill_alpha\":{\"value\":0.1},\"fill_color\":{\"value\":\"#1f77b4\"},\"line_alpha\":{\"value\":0.1},\"line_color\":{\"value\":\"#1f77b4\"},\"size\":{\"value\":10},\"x\":{\"field\":\"Year\"},\"y\":{\"field\":\"Data\"}},\"id\":\"1220\",\"type\":\"Circle\"},{\"attributes\":{\"background_fill_alpha\":0.7,\"items\":[{\"id\":\"1217\"},{\"id\":\"1243\"}]},\"id\":\"1216\",\"type\":\"Legend\"},{\"attributes\":{\"source\":{\"id\":\"1200\"}},\"id\":\"1222\",\"type\":\"CDSView\"},{\"attributes\":{},\"id\":\"1159\",\"type\":\"Selection\"},{\"attributes\":{\"toolbar\":{\"id\":\"1292\"},\"toolbar_location\":\"above\"},\"id\":\"1293\",\"type\":\"ToolbarBox\"},{\"attributes\":{\"data_source\":{\"id\":\"1200\"},\"glyph\":{\"id\":\"1219\"},\"hover_glyph\":null,\"muted_glyph\":null,\"nonselection_glyph\":{\"id\":\"1220\"},\"view\":{\"id\":\"1222\"}},\"id\":\"1221\",\"type\":\"GlyphRenderer\"},{\"attributes\":{\"data_source\":{\"id\":\"1225\"},\"glyph\":{\"id\":\"1227\"},\"hover_glyph\":null,\"muted_glyph\":null,\"nonselection_glyph\":{\"id\":\"1228\"},\"view\":{\"id\":\"1230\"}},\"id\":\"1229\",\"type\":\"GlyphRenderer\"},{\"attributes\":{\"callback\":null,\"renderers\":[{\"id\":\"1221\"}],\"tooltips\":[[\"(x,y)\",\"(@Year,@Data)\"]]},\"id\":\"1223\",\"type\":\"HoverTool\"},{\"attributes\":{\"label\":{\"value\":\"Prevalence Gambia\"},\"renderers\":[{\"id\":\"1204\"}]},\"id\":\"1217\",\"type\":\"LegendItem\"},{\"attributes\":{\"toolbars\":[{\"id\":\"1028\"},{\"id\":\"1111\"},{\"id\":\"1194\"}],\"tools\":[{\"id\":\"1022\"},{\"id\":\"1023\"},{\"id\":\"1024\"},{\"id\":\"1025\"},{\"id\":\"1026\"},{\"id\":\"1057\"},{\"id\":\"1083\"},{\"id\":\"1105\"},{\"id\":\"1106\"},{\"id\":\"1107\"},{\"id\":\"1108\"},{\"id\":\"1109\"},{\"id\":\"1140\"},{\"id\":\"1166\"},{\"id\":\"1188\"},{\"id\":\"1189\"},{\"id\":\"1190\"},{\"id\":\"1191\"},{\"id\":\"1192\"},{\"id\":\"1223\"},{\"id\":\"1249\"}]},\"id\":\"1292\",\"type\":\"ProxyToolbar\"},{\"attributes\":{\"data_source\":{\"id\":\"1142\"},\"glyph\":{\"id\":\"1162\"},\"hover_glyph\":null,\"muted_glyph\":null,\"nonselection_glyph\":{\"id\":\"1163\"},\"view\":{\"id\":\"1165\"}},\"id\":\"1164\",\"type\":\"GlyphRenderer\"},{\"attributes\":{\"data_source\":{\"id\":\"1200\"},\"glyph\":{\"id\":\"1202\"},\"hover_glyph\":null,\"muted_glyph\":null,\"nonselection_glyph\":{\"id\":\"1203\"},\"view\":{\"id\":\"1205\"}},\"id\":\"1204\",\"type\":\"GlyphRenderer\"},{\"attributes\":{\"line_color\":\"#1f77b4\",\"line_width\":2,\"x\":{\"field\":\"Year\"},\"y\":{\"field\":\"Data\"}},\"id\":\"1119\",\"type\":\"Line\"},{\"attributes\":{\"callback\":null,\"renderers\":[{\"id\":\"1164\"}],\"tooltips\":[[\"(x,y)\",\"(@Year,@Data)\"]]},\"id\":\"1166\",\"type\":\"HoverTool\"},{\"attributes\":{\"label\":{\"value\":\"Prevalence Gambia\"},\"renderers\":[{\"id\":\"1121\"}]},\"id\":\"1134\",\"type\":\"LegendItem\"},{\"attributes\":{\"line_color\":\"#ff7f0e\",\"line_width\":2,\"x\":{\"field\":\"Year\"},\"y\":{\"field\":\"Data\"}},\"id\":\"1227\",\"type\":\"Line\"},{\"attributes\":{\"source\":{\"id\":\"1225\"}},\"id\":\"1230\",\"type\":\"CDSView\"},{\"attributes\":{\"axis_label\":\"Year\",\"formatter\":{\"id\":\"1208\"},\"major_label_policy\":{\"id\":\"1209\"},\"ticker\":{\"id\":\"1181\"}},\"id\":\"1180\",\"type\":\"LinearAxis\"},{\"attributes\":{\"line_alpha\":0.1,\"line_color\":\"#ff7f0e\",\"line_width\":2,\"x\":{\"field\":\"Year\"},\"y\":{\"field\":\"Data\"}},\"id\":\"1228\",\"type\":\"Line\"},{\"attributes\":{\"active_drag\":{\"id\":\"1105\"},\"active_multi\":null,\"active_scroll\":{\"id\":\"1106\"},\"tools\":[{\"id\":\"1105\"},{\"id\":\"1106\"},{\"id\":\"1107\"},{\"id\":\"1108\"},{\"id\":\"1109\"},{\"id\":\"1140\"},{\"id\":\"1166\"}]},\"id\":\"1111\",\"type\":\"Toolbar\"},{\"attributes\":{\"line_color\":\"#1f77b4\",\"line_width\":2,\"x\":{\"field\":\"Year\"},\"y\":{\"field\":\"Data\"}},\"id\":\"1202\",\"type\":\"Line\"},{\"attributes\":{},\"id\":\"1048\",\"type\":\"UnionRenderers\"},{\"attributes\":{},\"id\":\"1181\",\"type\":\"BasicTicker\"},{\"attributes\":{\"text\":\"S-P resistance prevalence in Gambia\"},\"id\":\"1004\",\"type\":\"Title\"},{\"attributes\":{\"label\":{\"value\":\"Prevalence WAF excluding Gambia\"},\"renderers\":[{\"id\":\"1229\"}]},\"id\":\"1243\",\"type\":\"LegendItem\"},{\"attributes\":{},\"id\":\"1049\",\"type\":\"Selection\"},{\"attributes\":{},\"id\":\"1095\",\"type\":\"LinearScale\"},{\"attributes\":{},\"id\":\"1008\",\"type\":\"Range1d\"},{\"attributes\":{\"fill_alpha\":{\"value\":0.5},\"fill_color\":{\"value\":\"#ff7f0e\"},\"line_alpha\":{\"value\":0.5},\"line_color\":{\"value\":\"#ff7f0e\"},\"size\":{\"value\":10},\"x\":{\"field\":\"Year\"},\"y\":{\"field\":\"Data\"}},\"id\":\"1245\",\"type\":\"Circle\"},{\"attributes\":{\"text\":\"(2007-2015)\"},\"id\":\"1251\",\"type\":\"Title\"},{\"attributes\":{\"fill_alpha\":{\"value\":0.5},\"fill_color\":{\"value\":\"#1f77b4\"},\"line_alpha\":{\"value\":0.5},\"line_color\":{\"value\":\"#1f77b4\"},\"size\":{\"value\":10},\"x\":{\"field\":\"Year\"},\"y\":{\"field\":\"Data\"}},\"id\":\"1219\",\"type\":\"Circle\"},{\"attributes\":{},\"id\":\"1091\",\"type\":\"Range1d\"},{\"attributes\":{\"end\":2019,\"start\":2001},\"id\":\"1006\",\"type\":\"Range1d\"},{\"attributes\":{\"axis\":{\"id\":\"1097\"},\"ticker\":null},\"id\":\"1100\",\"type\":\"Grid\"},{\"attributes\":{\"axis\":{\"id\":\"1180\"},\"ticker\":null},\"id\":\"1183\",\"type\":\"Grid\"}],\"root_ids\":[\"1294\"]},\"title\":\"Bokeh Application\",\"version\":\"2.3.3\"}};\n",
       "  var render_items = [{\"docid\":\"04d248d3-1235-4f10-a76d-2a3bc076aabc\",\"root_ids\":[\"1294\"],\"roots\":{\"1294\":\"4ed6cd35-fcad-458c-bc87-65fbf2e066c6\"}}];\n",
       "  root.Bokeh.embed.embed_items_notebook(docs_json, render_items);\n",
       "\n",
       "  }\n",
       "  if (root.Bokeh !== undefined) {\n",
       "    embed_document(root);\n",
       "  } else {\n",
       "    var attempts = 0;\n",
       "    var timer = setInterval(function(root) {\n",
       "      if (root.Bokeh !== undefined) {\n",
       "        clearInterval(timer);\n",
       "        embed_document(root);\n",
       "      } else {\n",
       "        attempts++;\n",
       "        if (attempts > 100) {\n",
       "          clearInterval(timer);\n",
       "          console.log(\"Bokeh: ERROR: Unable to run BokehJS code because BokehJS library is missing\");\n",
       "        }\n",
       "      }\n",
       "    }, 10, root)\n",
       "  }\n",
       "})(window);"
      ],
      "application/vnd.bokehjs_exec.v0+json": ""
     },
     "metadata": {
      "application/vnd.bokehjs_exec.v0+json": {
       "id": "1294"
      }
     },
     "output_type": "display_data"
    }
   ],
   "source": [
    "plot_dr_prevalence(pf6plus, drugs=['S-P','Sulfadoxine','Chloroquine','Artemisinin','DHA-PPQ','Piperaquine'], country = 'Gambia', population = 'WAF')"
   ]
  },
  {
   "cell_type": "markdown",
   "metadata": {},
   "source": [
    "The drug resistance pattern looks interesting for S-P, how would this look for another country within the same population?"
   ]
  },
  {
   "cell_type": "code",
   "execution_count": 11,
   "metadata": {
    "colab": {
     "base_uri": "https://localhost:8080/",
     "height": 447
    },
    "id": "NJFAstQoZaUY",
    "outputId": "666c951d-bdcc-4467-bea6-19d2e1a49792"
   },
   "outputs": [
    {
     "data": {
      "text/html": [
       "\n",
       "\n",
       "\n",
       "\n",
       "\n",
       "\n",
       "  <div class=\"bk-root\" id=\"16dcfc21-bda7-444a-9d70-8bf1a0d4a094\" data-root-id=\"1610\"></div>\n"
      ]
     },
     "metadata": {},
     "output_type": "display_data"
    },
    {
     "data": {
      "application/javascript": [
       "(function(root) {\n",
       "  function embed_document(root) {\n",
       "    \n",
       "  var docs_json = {\"bbf20765-ab04-4205-8359-72bdeccaaf54\":{\"defs\":[],\"roots\":{\"references\":[{\"attributes\":{\"children\":[{\"id\":\"1609\"},{\"id\":\"1607\"}]},\"id\":\"1610\",\"type\":\"Column\"},{\"attributes\":{\"line_color\":\"#ff7f0e\",\"line_width\":2,\"x\":{\"field\":\"Year\"},\"y\":{\"field\":\"Data\"}},\"id\":\"1569\",\"type\":\"Line\"},{\"attributes\":{\"source\":{\"id\":\"1567\"}},\"id\":\"1572\",\"type\":\"CDSView\"},{\"attributes\":{\"text\":\"S-P resistance prevalence in Mali\"},\"id\":\"1512\",\"type\":\"Title\"},{\"attributes\":{\"toolbars\":[{\"id\":\"1536\"}],\"tools\":[{\"id\":\"1530\"},{\"id\":\"1531\"},{\"id\":\"1532\"},{\"id\":\"1533\"},{\"id\":\"1534\"},{\"id\":\"1565\"},{\"id\":\"1591\"}]},\"id\":\"1608\",\"type\":\"ProxyToolbar\"},{\"attributes\":{},\"id\":\"1523\",\"type\":\"BasicTicker\"},{\"attributes\":{\"source\":{\"id\":\"1542\"}},\"id\":\"1547\",\"type\":\"CDSView\"},{\"attributes\":{\"callback\":null,\"renderers\":[{\"id\":\"1563\"}],\"tooltips\":[[\"(x,y)\",\"(@Year,@Data)\"]]},\"id\":\"1565\",\"type\":\"HoverTool\"},{\"attributes\":{\"data_source\":{\"id\":\"1567\"},\"glyph\":{\"id\":\"1569\"},\"hover_glyph\":null,\"muted_glyph\":null,\"nonselection_glyph\":{\"id\":\"1570\"},\"view\":{\"id\":\"1572\"}},\"id\":\"1571\",\"type\":\"GlyphRenderer\"},{\"attributes\":{\"data_source\":{\"id\":\"1542\"},\"glyph\":{\"id\":\"1561\"},\"hover_glyph\":null,\"muted_glyph\":null,\"nonselection_glyph\":{\"id\":\"1562\"},\"view\":{\"id\":\"1564\"}},\"id\":\"1563\",\"type\":\"GlyphRenderer\"},{\"attributes\":{\"bottom_units\":\"screen\",\"fill_alpha\":0.5,\"fill_color\":\"lightgrey\",\"left_units\":\"screen\",\"level\":\"overlay\",\"line_alpha\":1.0,\"line_color\":\"black\",\"line_dash\":[4,4],\"line_width\":2,\"right_units\":\"screen\",\"syncable\":false,\"top_units\":\"screen\"},\"id\":\"1535\",\"type\":\"BoxAnnotation\"},{\"attributes\":{\"source\":{\"id\":\"1542\"}},\"id\":\"1564\",\"type\":\"CDSView\"},{\"attributes\":{\"data\":{\"Data\":{\"__ndarray__\":\"zczMzMzM5D+F61G4HoXjP+F6FK5H4eI/UrgehetR6D+amZmZmZnpPzMzMzMzM+s/j8L1KFyP6j9SuB6F61HoPw==\",\"dtype\":\"float64\",\"order\":\"little\",\"shape\":[8]},\"Year\":[2008,2009,2010,2011,2012,2013,2014,2015]},\"selected\":{\"id\":\"1584\"},\"selection_policy\":{\"id\":\"1583\"}},\"id\":\"1567\",\"type\":\"ColumnDataSource\"},{\"attributes\":{\"fill_alpha\":{\"value\":0.1},\"fill_color\":{\"value\":\"#1f77b4\"},\"line_alpha\":{\"value\":0.1},\"line_color\":{\"value\":\"#1f77b4\"},\"size\":{\"value\":10},\"x\":{\"field\":\"Year\"},\"y\":{\"field\":\"Data\"}},\"id\":\"1562\",\"type\":\"Circle\"},{\"attributes\":{\"label\":{\"value\":\"Prevalence WAF excluding Mali\"},\"renderers\":[{\"id\":\"1571\"}]},\"id\":\"1585\",\"type\":\"LegendItem\"},{\"attributes\":{\"line_alpha\":0.1,\"line_color\":\"#1f77b4\",\"line_width\":2,\"x\":{\"field\":\"Year\"},\"y\":{\"field\":\"Data\"}},\"id\":\"1545\",\"type\":\"Line\"},{\"attributes\":{\"fill_alpha\":{\"value\":0.5},\"fill_color\":{\"value\":\"#ff7f0e\"},\"line_alpha\":{\"value\":0.5},\"line_color\":{\"value\":\"#ff7f0e\"},\"size\":{\"value\":10},\"x\":{\"field\":\"Year\"},\"y\":{\"field\":\"Data\"}},\"id\":\"1587\",\"type\":\"Circle\"},{\"attributes\":{\"axis_label\":\"Year\",\"formatter\":{\"id\":\"1550\"},\"major_label_policy\":{\"id\":\"1551\"},\"ticker\":{\"id\":\"1523\"}},\"id\":\"1522\",\"type\":\"LinearAxis\"},{\"attributes\":{},\"id\":\"1531\",\"type\":\"WheelZoomTool\"},{\"attributes\":{},\"id\":\"1533\",\"type\":\"ResetTool\"},{\"attributes\":{\"label\":{\"value\":\"Prevalence Mali\"},\"renderers\":[{\"id\":\"1546\"}]},\"id\":\"1559\",\"type\":\"LegendItem\"},{\"attributes\":{\"fill_alpha\":{\"value\":0.1},\"fill_color\":{\"value\":\"#ff7f0e\"},\"line_alpha\":{\"value\":0.1},\"line_color\":{\"value\":\"#ff7f0e\"},\"size\":{\"value\":10},\"x\":{\"field\":\"Year\"},\"y\":{\"field\":\"Data\"}},\"id\":\"1588\",\"type\":\"Circle\"},{\"attributes\":{\"fill_alpha\":{\"value\":0.5},\"fill_color\":{\"value\":\"#1f77b4\"},\"line_alpha\":{\"value\":0.5},\"line_color\":{\"value\":\"#1f77b4\"},\"size\":{\"value\":10},\"x\":{\"field\":\"Year\"},\"y\":{\"field\":\"Data\"}},\"id\":\"1561\",\"type\":\"Circle\"},{\"attributes\":{\"source\":{\"id\":\"1567\"}},\"id\":\"1590\",\"type\":\"CDSView\"},{\"attributes\":{\"data_source\":{\"id\":\"1542\"},\"glyph\":{\"id\":\"1544\"},\"hover_glyph\":null,\"muted_glyph\":null,\"nonselection_glyph\":{\"id\":\"1545\"},\"view\":{\"id\":\"1547\"}},\"id\":\"1546\",\"type\":\"GlyphRenderer\"},{\"attributes\":{\"data_source\":{\"id\":\"1567\"},\"glyph\":{\"id\":\"1587\"},\"hover_glyph\":null,\"muted_glyph\":null,\"nonselection_glyph\":{\"id\":\"1588\"},\"view\":{\"id\":\"1590\"}},\"id\":\"1589\",\"type\":\"GlyphRenderer\"},{\"attributes\":{\"callback\":null,\"renderers\":[{\"id\":\"1589\"}],\"tooltips\":[[\"(x,y)\",\"(@Year,@Data)\"]]},\"id\":\"1591\",\"type\":\"HoverTool\"},{\"attributes\":{\"background_fill_alpha\":0.7,\"items\":[{\"id\":\"1559\"},{\"id\":\"1585\"}]},\"id\":\"1558\",\"type\":\"Legend\"},{\"attributes\":{\"end\":2019,\"start\":2001},\"id\":\"1514\",\"type\":\"Range1d\"},{\"attributes\":{\"callback\":null},\"id\":\"1534\",\"type\":\"TapTool\"},{\"attributes\":{\"text\":\"(2007-2015)\"},\"id\":\"1593\",\"type\":\"Title\"},{\"attributes\":{\"toolbar\":{\"id\":\"1608\"},\"toolbar_location\":\"above\"},\"id\":\"1609\",\"type\":\"ToolbarBox\"},{\"attributes\":{\"above\":[{\"id\":\"1593\"}],\"below\":[{\"id\":\"1522\"}],\"center\":[{\"id\":\"1525\"},{\"id\":\"1529\"},{\"id\":\"1558\"}],\"height\":400,\"left\":[{\"id\":\"1526\"}],\"renderers\":[{\"id\":\"1546\"},{\"id\":\"1563\"},{\"id\":\"1571\"},{\"id\":\"1589\"}],\"title\":{\"id\":\"1512\"},\"toolbar\":{\"id\":\"1536\"},\"toolbar_location\":null,\"width\":400,\"x_range\":{\"id\":\"1514\"},\"x_scale\":{\"id\":\"1518\"},\"y_range\":{\"id\":\"1516\"},\"y_scale\":{\"id\":\"1520\"}},\"id\":\"1511\",\"subtype\":\"Figure\",\"type\":\"Plot\"},{\"attributes\":{\"active_drag\":{\"id\":\"1530\"},\"active_multi\":null,\"active_scroll\":{\"id\":\"1531\"},\"tools\":[{\"id\":\"1530\"},{\"id\":\"1531\"},{\"id\":\"1532\"},{\"id\":\"1533\"},{\"id\":\"1534\"},{\"id\":\"1565\"},{\"id\":\"1591\"}]},\"id\":\"1536\",\"type\":\"Toolbar\"},{\"attributes\":{},\"id\":\"1520\",\"type\":\"LinearScale\"},{\"attributes\":{},\"id\":\"1554\",\"type\":\"AllLabels\"},{\"attributes\":{\"axis\":{\"id\":\"1522\"},\"ticker\":null},\"id\":\"1525\",\"type\":\"Grid\"},{\"attributes\":{},\"id\":\"1553\",\"type\":\"BasicTickFormatter\"},{\"attributes\":{},\"id\":\"1583\",\"type\":\"UnionRenderers\"},{\"attributes\":{\"line_alpha\":0.1,\"line_color\":\"#ff7f0e\",\"line_width\":2,\"x\":{\"field\":\"Year\"},\"y\":{\"field\":\"Data\"}},\"id\":\"1570\",\"type\":\"Line\"},{\"attributes\":{},\"id\":\"1584\",\"type\":\"Selection\"},{\"attributes\":{\"children\":[[{\"id\":\"1511\"},0,0]]},\"id\":\"1607\",\"type\":\"GridBox\"},{\"attributes\":{},\"id\":\"1530\",\"type\":\"PanTool\"},{\"attributes\":{\"axis\":{\"id\":\"1526\"},\"dimension\":1,\"ticker\":null},\"id\":\"1529\",\"type\":\"Grid\"},{\"attributes\":{\"axis_label\":\"Prevalence\",\"formatter\":{\"id\":\"1553\"},\"major_label_policy\":{\"id\":\"1554\"},\"ticker\":{\"id\":\"1527\"}},\"id\":\"1526\",\"type\":\"LinearAxis\"},{\"attributes\":{},\"id\":\"1527\",\"type\":\"BasicTicker\"},{\"attributes\":{},\"id\":\"1516\",\"type\":\"Range1d\"},{\"attributes\":{},\"id\":\"1556\",\"type\":\"UnionRenderers\"},{\"attributes\":{\"data\":{\"Data\":{\"__ndarray__\":\"hetRuB6F2z/Xo3A9CtfjP0jhehSuR+E/\",\"dtype\":\"float64\",\"order\":\"little\",\"shape\":[3]},\"Year\":[2007,2013,2014]},\"selected\":{\"id\":\"1557\"},\"selection_policy\":{\"id\":\"1556\"}},\"id\":\"1542\",\"type\":\"ColumnDataSource\"},{\"attributes\":{},\"id\":\"1557\",\"type\":\"Selection\"},{\"attributes\":{},\"id\":\"1550\",\"type\":\"BasicTickFormatter\"},{\"attributes\":{},\"id\":\"1518\",\"type\":\"LinearScale\"},{\"attributes\":{},\"id\":\"1551\",\"type\":\"AllLabels\"},{\"attributes\":{\"line_color\":\"#1f77b4\",\"line_width\":2,\"x\":{\"field\":\"Year\"},\"y\":{\"field\":\"Data\"}},\"id\":\"1544\",\"type\":\"Line\"},{\"attributes\":{\"overlay\":{\"id\":\"1535\"}},\"id\":\"1532\",\"type\":\"BoxZoomTool\"}],\"root_ids\":[\"1610\"]},\"title\":\"Bokeh Application\",\"version\":\"2.3.3\"}};\n",
       "  var render_items = [{\"docid\":\"bbf20765-ab04-4205-8359-72bdeccaaf54\",\"root_ids\":[\"1610\"],\"roots\":{\"1610\":\"16dcfc21-bda7-444a-9d70-8bf1a0d4a094\"}}];\n",
       "  root.Bokeh.embed.embed_items_notebook(docs_json, render_items);\n",
       "\n",
       "  }\n",
       "  if (root.Bokeh !== undefined) {\n",
       "    embed_document(root);\n",
       "  } else {\n",
       "    var attempts = 0;\n",
       "    var timer = setInterval(function(root) {\n",
       "      if (root.Bokeh !== undefined) {\n",
       "        clearInterval(timer);\n",
       "        embed_document(root);\n",
       "      } else {\n",
       "        attempts++;\n",
       "        if (attempts > 100) {\n",
       "          clearInterval(timer);\n",
       "          console.log(\"Bokeh: ERROR: Unable to run BokehJS code because BokehJS library is missing\");\n",
       "        }\n",
       "      }\n",
       "    }, 10, root)\n",
       "  }\n",
       "})(window);"
      ],
      "application/vnd.bokehjs_exec.v0+json": ""
     },
     "metadata": {
      "application/vnd.bokehjs_exec.v0+json": {
       "id": "1610"
      }
     },
     "output_type": "display_data"
    }
   ],
   "source": [
    "plot_dr_prevalence(pf6plus, drugs=['S-P'], country = 'Mali')"
   ]
  },
  {
   "cell_type": "markdown",
   "metadata": {
    "id": "6QTu5VhHc7u8"
   },
   "source": [
    "### Plot most common haplotypes per population/country"
   ]
  },
  {
   "cell_type": "markdown",
   "metadata": {},
   "source": [
    "Drug resistant haplotypes allow us to visualise key positions in the genome together and look out for changes within these structures. By plotting the top haplotypes in a region, we can spot emerging trends."
   ]
  },
  {
   "cell_type": "code",
   "execution_count": 12,
   "metadata": {
    "colab": {
     "base_uri": "https://localhost:8080/"
    },
    "id": "u57FbKMBP5LQ",
    "outputId": "6a88e9ae-6c24-4b61-e7c1-d43201b64794"
   },
   "outputs": [
    {
     "name": "stdout",
     "output_type": "stream",
     "text": [
      "Help on function plot_haplotype_frequency in module data_analysis.plot_haplotype_frequency:\n",
      "\n",
      "plot_haplotype_frequency(data, gene, num_top_haplotypes=5, threshold=25, countries=None, populations=None, years=None, bin=False)\n",
      "    Plot the top n haplotypes on a specife gene per country (or) population per year\n",
      "    \n",
      "    Parameters:\n",
      "      - gene: Any of the genes in the Pf6+ dataframe ['PfCRT', 'Kelch', 'PfDHFR', 'PfEXO', 'PGB', 'Plasmepsin2/3', 'PfDHPS', 'PfMDR1']\n",
      "      - country: Any of the countries in the Pf6+ dataframe (if specified, population value is not used) ['Bangladesh', 'Benin', 'Burkina Faso', 'Cambodia', 'Cameroon',\n",
      "       'Colombia', \"Côte d'Ivoire\", 'Democratic Republic of the Congo',\n",
      "       'Ethiopia', 'Gambia', 'Ghana', 'Guinea', 'India', 'Indonesia',\n",
      "       'Kenya', 'Laos', 'Madagascar', 'Malawi', 'Mali', 'Mauritania',\n",
      "       'Mozambique', 'Myanmar', 'Nigeria', 'Papua New Guinea', 'Peru',\n",
      "       'Senegal', 'Tanzania', 'Thailand', 'Uganda', 'Vietnam']\n",
      "      - population: Any of the populations in the Pf6+ dataframe ['CAF', 'EAF', 'ESEA', 'OCE', 'SAM', 'SAS', 'WAF', 'WSEA']\n",
      "      - year: Any/list of the years in the Pf6+ dataframe [2001, 2002, 2003, 2004, 2005, 2006, 2007, 2008, 2009, 2010, 2011, 2012, 2013, 2014, 2015, 2016, 2017, 2018, 2019]\n",
      "      - bin: If True, all the years between the specified values will be used. If False, individual years are used.\n",
      "      - threshold: To increase confidence on disperse data, only use country (or) population/year combinations with n_samples>threshold (default=25)\n",
      "    \n",
      "    Returns:\n",
      "      A series of plots (one per gene) showing the frequency of the top n haplotypes the drug/country/year (or) drug/country/year combination provided. Haplotypes outside the top n, are showed as part of the `Other` category.\n",
      "\n"
     ]
    }
   ],
   "source": [
    "help(plot_haplotype_frequency)"
   ]
  },
  {
   "cell_type": "code",
   "execution_count": 13,
   "metadata": {},
   "outputs": [
    {
     "data": {
      "text/html": [
       "<div>\n",
       "<style scoped>\n",
       "    .dataframe tbody tr th:only-of-type {\n",
       "        vertical-align: middle;\n",
       "    }\n",
       "\n",
       "    .dataframe tbody tr th {\n",
       "        vertical-align: top;\n",
       "    }\n",
       "\n",
       "    .dataframe thead th {\n",
       "        text-align: right;\n",
       "    }\n",
       "</style>\n",
       "<table border=\"1\" class=\"dataframe\">\n",
       "  <thead>\n",
       "    <tr style=\"text-align: right;\">\n",
       "      <th></th>\n",
       "      <th>Study</th>\n",
       "      <th>Year</th>\n",
       "      <th>Country</th>\n",
       "      <th>AdmDiv1</th>\n",
       "      <th>Population</th>\n",
       "      <th>Process</th>\n",
       "      <th>IncludeInAnalysis</th>\n",
       "      <th>Latitude_country</th>\n",
       "      <th>Longitude_country</th>\n",
       "      <th>Latitude_adm1</th>\n",
       "      <th>...</th>\n",
       "      <th>PfMDR1:1034</th>\n",
       "      <th>PfMDR1:1042</th>\n",
       "      <th>PfMDR1:1226</th>\n",
       "      <th>PfMDR1:1246</th>\n",
       "      <th>PfARPS10:127</th>\n",
       "      <th>PfARPS10:128</th>\n",
       "      <th>PfFD:193</th>\n",
       "      <th>PfCRT:326</th>\n",
       "      <th>PfCRT:356</th>\n",
       "      <th>PfMDR2:484</th>\n",
       "    </tr>\n",
       "    <tr>\n",
       "      <th>SampleId</th>\n",
       "      <th></th>\n",
       "      <th></th>\n",
       "      <th></th>\n",
       "      <th></th>\n",
       "      <th></th>\n",
       "      <th></th>\n",
       "      <th></th>\n",
       "      <th></th>\n",
       "      <th></th>\n",
       "      <th></th>\n",
       "      <th></th>\n",
       "      <th></th>\n",
       "      <th></th>\n",
       "      <th></th>\n",
       "      <th></th>\n",
       "      <th></th>\n",
       "      <th></th>\n",
       "      <th></th>\n",
       "      <th></th>\n",
       "      <th></th>\n",
       "      <th></th>\n",
       "    </tr>\n",
       "  </thead>\n",
       "  <tbody>\n",
       "    <tr>\n",
       "      <th>FP0008-C</th>\n",
       "      <td>1147-PF-MR-CONWAY</td>\n",
       "      <td>2014</td>\n",
       "      <td>Mauritania</td>\n",
       "      <td>Hodh el Gharbi</td>\n",
       "      <td>WAF</td>\n",
       "      <td>WGS</td>\n",
       "      <td>True</td>\n",
       "      <td>20.265149</td>\n",
       "      <td>-10.337093</td>\n",
       "      <td>16.565426</td>\n",
       "      <td>...</td>\n",
       "      <td>S</td>\n",
       "      <td>N</td>\n",
       "      <td>F</td>\n",
       "      <td>D</td>\n",
       "      <td>V</td>\n",
       "      <td>D</td>\n",
       "      <td>D</td>\n",
       "      <td>N</td>\n",
       "      <td>[T/I]</td>\n",
       "      <td>T</td>\n",
       "    </tr>\n",
       "    <tr>\n",
       "      <th>FP0009-C</th>\n",
       "      <td>1147-PF-MR-CONWAY</td>\n",
       "      <td>2014</td>\n",
       "      <td>Mauritania</td>\n",
       "      <td>Hodh el Gharbi</td>\n",
       "      <td>WAF</td>\n",
       "      <td>WGS</td>\n",
       "      <td>True</td>\n",
       "      <td>20.265149</td>\n",
       "      <td>-10.337093</td>\n",
       "      <td>16.565426</td>\n",
       "      <td>...</td>\n",
       "      <td>S</td>\n",
       "      <td>N</td>\n",
       "      <td>F</td>\n",
       "      <td>Y</td>\n",
       "      <td>V</td>\n",
       "      <td>D</td>\n",
       "      <td>D</td>\n",
       "      <td>N</td>\n",
       "      <td>T</td>\n",
       "      <td>T</td>\n",
       "    </tr>\n",
       "    <tr>\n",
       "      <th>FP0015-C</th>\n",
       "      <td>1147-PF-MR-CONWAY</td>\n",
       "      <td>2014</td>\n",
       "      <td>Mauritania</td>\n",
       "      <td>Hodh el Gharbi</td>\n",
       "      <td>WAF</td>\n",
       "      <td>WGS</td>\n",
       "      <td>True</td>\n",
       "      <td>20.265149</td>\n",
       "      <td>-10.337093</td>\n",
       "      <td>16.565426</td>\n",
       "      <td>...</td>\n",
       "      <td>S</td>\n",
       "      <td>N</td>\n",
       "      <td>F</td>\n",
       "      <td>D</td>\n",
       "      <td>V</td>\n",
       "      <td>D</td>\n",
       "      <td>D</td>\n",
       "      <td>N</td>\n",
       "      <td>I</td>\n",
       "      <td>T</td>\n",
       "    </tr>\n",
       "    <tr>\n",
       "      <th>FP0016-C</th>\n",
       "      <td>1147-PF-MR-CONWAY</td>\n",
       "      <td>2014</td>\n",
       "      <td>Mauritania</td>\n",
       "      <td>Hodh el Gharbi</td>\n",
       "      <td>WAF</td>\n",
       "      <td>WGS</td>\n",
       "      <td>True</td>\n",
       "      <td>20.265149</td>\n",
       "      <td>-10.337093</td>\n",
       "      <td>16.565426</td>\n",
       "      <td>...</td>\n",
       "      <td>S</td>\n",
       "      <td>N</td>\n",
       "      <td>F</td>\n",
       "      <td>D</td>\n",
       "      <td>V</td>\n",
       "      <td>D</td>\n",
       "      <td>D</td>\n",
       "      <td>N</td>\n",
       "      <td>I</td>\n",
       "      <td>T</td>\n",
       "    </tr>\n",
       "    <tr>\n",
       "      <th>FP0017-C</th>\n",
       "      <td>1147-PF-MR-CONWAY</td>\n",
       "      <td>2014</td>\n",
       "      <td>Mauritania</td>\n",
       "      <td>Hodh el Gharbi</td>\n",
       "      <td>WAF</td>\n",
       "      <td>WGS</td>\n",
       "      <td>True</td>\n",
       "      <td>20.265149</td>\n",
       "      <td>-10.337093</td>\n",
       "      <td>16.565426</td>\n",
       "      <td>...</td>\n",
       "      <td>S</td>\n",
       "      <td>N</td>\n",
       "      <td>F</td>\n",
       "      <td>D</td>\n",
       "      <td>V</td>\n",
       "      <td>D</td>\n",
       "      <td>D</td>\n",
       "      <td>N</td>\n",
       "      <td>I</td>\n",
       "      <td>T</td>\n",
       "    </tr>\n",
       "    <tr>\n",
       "      <th>...</th>\n",
       "      <td>...</td>\n",
       "      <td>...</td>\n",
       "      <td>...</td>\n",
       "      <td>...</td>\n",
       "      <td>...</td>\n",
       "      <td>...</td>\n",
       "      <td>...</td>\n",
       "      <td>...</td>\n",
       "      <td>...</td>\n",
       "      <td>...</td>\n",
       "      <td>...</td>\n",
       "      <td>...</td>\n",
       "      <td>...</td>\n",
       "      <td>...</td>\n",
       "      <td>...</td>\n",
       "      <td>...</td>\n",
       "      <td>...</td>\n",
       "      <td>...</td>\n",
       "      <td>...</td>\n",
       "      <td>...</td>\n",
       "      <td>...</td>\n",
       "    </tr>\n",
       "    <tr>\n",
       "      <th>RCN12896</th>\n",
       "      <td>1238-PF-VN-NIMPE-GENRE</td>\n",
       "      <td>2018</td>\n",
       "      <td>Vietnam</td>\n",
       "      <td>Gia Lai</td>\n",
       "      <td>ESEA</td>\n",
       "      <td>AmpSeq-V1</td>\n",
       "      <td>True</td>\n",
       "      <td>16.694365</td>\n",
       "      <td>106.551796</td>\n",
       "      <td>13.797699</td>\n",
       "      <td>...</td>\n",
       "      <td>-</td>\n",
       "      <td>-</td>\n",
       "      <td>-</td>\n",
       "      <td>-</td>\n",
       "      <td>M</td>\n",
       "      <td>H</td>\n",
       "      <td>-</td>\n",
       "      <td>S</td>\n",
       "      <td>T</td>\n",
       "      <td>-</td>\n",
       "    </tr>\n",
       "    <tr>\n",
       "      <th>RCN12897</th>\n",
       "      <td>1238-PF-VN-NIMPE-GENRE</td>\n",
       "      <td>2018</td>\n",
       "      <td>Vietnam</td>\n",
       "      <td>Binh Phuoc</td>\n",
       "      <td>ESEA</td>\n",
       "      <td>AmpSeq-V1</td>\n",
       "      <td>True</td>\n",
       "      <td>16.694365</td>\n",
       "      <td>106.551796</td>\n",
       "      <td>11.755317</td>\n",
       "      <td>...</td>\n",
       "      <td>S</td>\n",
       "      <td>N</td>\n",
       "      <td>F</td>\n",
       "      <td>D</td>\n",
       "      <td>M</td>\n",
       "      <td>H</td>\n",
       "      <td>Y</td>\n",
       "      <td>S</td>\n",
       "      <td>T</td>\n",
       "      <td>I</td>\n",
       "    </tr>\n",
       "    <tr>\n",
       "      <th>RCN12899</th>\n",
       "      <td>1238-PF-VN-NIMPE-GENRE</td>\n",
       "      <td>2018</td>\n",
       "      <td>Vietnam</td>\n",
       "      <td>Binh Phuoc</td>\n",
       "      <td>ESEA</td>\n",
       "      <td>AmpSeq-V1</td>\n",
       "      <td>True</td>\n",
       "      <td>16.694365</td>\n",
       "      <td>106.551796</td>\n",
       "      <td>11.755317</td>\n",
       "      <td>...</td>\n",
       "      <td>-</td>\n",
       "      <td>-</td>\n",
       "      <td>F</td>\n",
       "      <td>D</td>\n",
       "      <td>[V/M]</td>\n",
       "      <td>[D/H]</td>\n",
       "      <td>-</td>\n",
       "      <td>S</td>\n",
       "      <td>-</td>\n",
       "      <td>-</td>\n",
       "    </tr>\n",
       "    <tr>\n",
       "      <th>RCN12900</th>\n",
       "      <td>1238-PF-VN-NIMPE-GENRE</td>\n",
       "      <td>2018</td>\n",
       "      <td>Vietnam</td>\n",
       "      <td>Binh Phuoc</td>\n",
       "      <td>ESEA</td>\n",
       "      <td>AmpSeq-V1</td>\n",
       "      <td>True</td>\n",
       "      <td>16.694365</td>\n",
       "      <td>106.551796</td>\n",
       "      <td>11.755317</td>\n",
       "      <td>...</td>\n",
       "      <td>S</td>\n",
       "      <td>N</td>\n",
       "      <td>F</td>\n",
       "      <td>D</td>\n",
       "      <td>M</td>\n",
       "      <td>H</td>\n",
       "      <td>Y</td>\n",
       "      <td>S</td>\n",
       "      <td>T</td>\n",
       "      <td>I</td>\n",
       "    </tr>\n",
       "    <tr>\n",
       "      <th>RCN12901</th>\n",
       "      <td>1238-PF-VN-NIMPE-GENRE</td>\n",
       "      <td>2018</td>\n",
       "      <td>Vietnam</td>\n",
       "      <td>Binh Phuoc</td>\n",
       "      <td>ESEA</td>\n",
       "      <td>AmpSeq-V1</td>\n",
       "      <td>True</td>\n",
       "      <td>16.694365</td>\n",
       "      <td>106.551796</td>\n",
       "      <td>11.755317</td>\n",
       "      <td>...</td>\n",
       "      <td>S</td>\n",
       "      <td>N</td>\n",
       "      <td>F</td>\n",
       "      <td>D</td>\n",
       "      <td>M</td>\n",
       "      <td>H</td>\n",
       "      <td>Y</td>\n",
       "      <td>S</td>\n",
       "      <td>T</td>\n",
       "      <td>I</td>\n",
       "    </tr>\n",
       "  </tbody>\n",
       "</table>\n",
       "<p>13596 rows × 166 columns</p>\n",
       "</div>"
      ],
      "text/plain": [
       "                           Study  Year     Country         AdmDiv1 Population  \\\n",
       "SampleId                                                                        \n",
       "FP0008-C       1147-PF-MR-CONWAY  2014  Mauritania  Hodh el Gharbi        WAF   \n",
       "FP0009-C       1147-PF-MR-CONWAY  2014  Mauritania  Hodh el Gharbi        WAF   \n",
       "FP0015-C       1147-PF-MR-CONWAY  2014  Mauritania  Hodh el Gharbi        WAF   \n",
       "FP0016-C       1147-PF-MR-CONWAY  2014  Mauritania  Hodh el Gharbi        WAF   \n",
       "FP0017-C       1147-PF-MR-CONWAY  2014  Mauritania  Hodh el Gharbi        WAF   \n",
       "...                          ...   ...         ...             ...        ...   \n",
       "RCN12896  1238-PF-VN-NIMPE-GENRE  2018     Vietnam         Gia Lai       ESEA   \n",
       "RCN12897  1238-PF-VN-NIMPE-GENRE  2018     Vietnam      Binh Phuoc       ESEA   \n",
       "RCN12899  1238-PF-VN-NIMPE-GENRE  2018     Vietnam      Binh Phuoc       ESEA   \n",
       "RCN12900  1238-PF-VN-NIMPE-GENRE  2018     Vietnam      Binh Phuoc       ESEA   \n",
       "RCN12901  1238-PF-VN-NIMPE-GENRE  2018     Vietnam      Binh Phuoc       ESEA   \n",
       "\n",
       "            Process  IncludeInAnalysis  Latitude_country  Longitude_country  \\\n",
       "SampleId                                                                      \n",
       "FP0008-C        WGS               True         20.265149         -10.337093   \n",
       "FP0009-C        WGS               True         20.265149         -10.337093   \n",
       "FP0015-C        WGS               True         20.265149         -10.337093   \n",
       "FP0016-C        WGS               True         20.265149         -10.337093   \n",
       "FP0017-C        WGS               True         20.265149         -10.337093   \n",
       "...             ...                ...               ...                ...   \n",
       "RCN12896  AmpSeq-V1               True         16.694365         106.551796   \n",
       "RCN12897  AmpSeq-V1               True         16.694365         106.551796   \n",
       "RCN12899  AmpSeq-V1               True         16.694365         106.551796   \n",
       "RCN12900  AmpSeq-V1               True         16.694365         106.551796   \n",
       "RCN12901  AmpSeq-V1               True         16.694365         106.551796   \n",
       "\n",
       "          Latitude_adm1  ...  PfMDR1:1034 PfMDR1:1042 PfMDR1:1226 PfMDR1:1246  \\\n",
       "SampleId                 ...                                                    \n",
       "FP0008-C      16.565426  ...            S           N           F           D   \n",
       "FP0009-C      16.565426  ...            S           N           F           Y   \n",
       "FP0015-C      16.565426  ...            S           N           F           D   \n",
       "FP0016-C      16.565426  ...            S           N           F           D   \n",
       "FP0017-C      16.565426  ...            S           N           F           D   \n",
       "...                 ...  ...          ...         ...         ...         ...   \n",
       "RCN12896      13.797699  ...            -           -           -           -   \n",
       "RCN12897      11.755317  ...            S           N           F           D   \n",
       "RCN12899      11.755317  ...            -           -           F           D   \n",
       "RCN12900      11.755317  ...            S           N           F           D   \n",
       "RCN12901      11.755317  ...            S           N           F           D   \n",
       "\n",
       "         PfARPS10:127 PfARPS10:128 PfFD:193 PfCRT:326 PfCRT:356 PfMDR2:484  \n",
       "SampleId                                                                    \n",
       "FP0008-C            V            D        D         N     [T/I]          T  \n",
       "FP0009-C            V            D        D         N         T          T  \n",
       "FP0015-C            V            D        D         N         I          T  \n",
       "FP0016-C            V            D        D         N         I          T  \n",
       "FP0017-C            V            D        D         N         I          T  \n",
       "...               ...          ...      ...       ...       ...        ...  \n",
       "RCN12896            M            H        -         S         T          -  \n",
       "RCN12897            M            H        Y         S         T          I  \n",
       "RCN12899        [V/M]        [D/H]        -         S         -          -  \n",
       "RCN12900            M            H        Y         S         T          I  \n",
       "RCN12901            M            H        Y         S         T          I  \n",
       "\n",
       "[13596 rows x 166 columns]"
      ]
     },
     "execution_count": 13,
     "metadata": {},
     "output_type": "execute_result"
    }
   ],
   "source": [
    "pf6plus"
   ]
  },
  {
   "cell_type": "code",
   "execution_count": 14,
   "metadata": {
    "colab": {
     "base_uri": "https://localhost:8080/",
     "height": 1000
    },
    "id": "UoopMYI8QGje",
    "outputId": "cf3467e7-7c7b-430e-89fc-65d97314917f"
   },
   "outputs": [
    {
     "data": {
      "text/html": [
       "\n",
       "\n",
       "\n",
       "\n",
       "\n",
       "\n",
       "  <div class=\"bk-root\" id=\"f2ac5f92-b230-4bde-ba18-47ca199be48b\" data-root-id=\"3311\"></div>\n"
      ]
     },
     "metadata": {},
     "output_type": "display_data"
    },
    {
     "data": {
      "application/javascript": [
       "(function(root) {\n",
       "  function embed_document(root) {\n",
       "    \n",
       "  var docs_json = {\"d1b357d0-3523-452d-828e-8fbd461d1dbf\":{\"defs\":[],\"roots\":{\"references\":[{\"attributes\":{\"children\":[{\"id\":\"3310\"},{\"id\":\"3308\"}]},\"id\":\"3311\",\"type\":\"Column\"},{\"attributes\":{\"source\":{\"id\":\"2065\"}},\"id\":\"2070\",\"type\":\"CDSView\"},{\"attributes\":{\"fill_alpha\":{\"value\":0.1},\"fill_color\":{\"value\":\"#d62728\"},\"line_alpha\":{\"value\":0.1},\"line_color\":{\"value\":\"#d62728\"},\"size\":{\"value\":10},\"x\":{\"field\":\"Year\"},\"y\":{\"field\":\"Data\"}},\"id\":\"2060\",\"type\":\"Circle\"},{\"attributes\":{\"fill_alpha\":{\"value\":0.1},\"fill_color\":{\"value\":\"#bf5b17\"},\"line_alpha\":{\"value\":0.1},\"line_color\":{\"value\":\"#bf5b17\"},\"size\":{\"value\":10},\"x\":{\"field\":\"Year\"},\"y\":{\"field\":\"Data\"}},\"id\":\"2826\",\"type\":\"Circle\"},{\"attributes\":{\"source\":{\"id\":\"2035\"}},\"id\":\"2062\",\"type\":\"CDSView\"},{\"attributes\":{\"source\":{\"id\":\"2805\"}},\"id\":\"2828\",\"type\":\"CDSView\"},{\"attributes\":{\"data_source\":{\"id\":\"2035\"},\"glyph\":{\"id\":\"2059\"},\"hover_glyph\":null,\"muted_glyph\":null,\"nonselection_glyph\":{\"id\":\"2060\"},\"view\":{\"id\":\"2062\"}},\"id\":\"2061\",\"type\":\"GlyphRenderer\"},{\"attributes\":{\"data_source\":{\"id\":\"2805\"},\"glyph\":{\"id\":\"2825\"},\"hover_glyph\":null,\"muted_glyph\":null,\"nonselection_glyph\":{\"id\":\"2826\"},\"view\":{\"id\":\"2828\"}},\"id\":\"2827\",\"type\":\"GlyphRenderer\"},{\"attributes\":{\"callback\":null,\"renderers\":[{\"id\":\"2061\"}],\"tooltips\":[[\"(x,y)\",\"(@Year,@Data)\"]]},\"id\":\"2063\",\"type\":\"HoverTool\"},{\"attributes\":{\"callback\":null,\"renderers\":[{\"id\":\"2827\"}],\"tooltips\":[[\"(x,y)\",\"(@Year,@Data)\"]]},\"id\":\"2829\",\"type\":\"HoverTool\"},{\"attributes\":{\"source\":{\"id\":\"2859\"}},\"id\":\"2864\",\"type\":\"CDSView\"},{\"attributes\":{},\"id\":\"2261\",\"type\":\"UnionRenderers\"},{\"attributes\":{\"source\":{\"id\":\"2097\"}},\"id\":\"2102\",\"type\":\"CDSView\"},{\"attributes\":{\"source\":{\"id\":\"2831\"}},\"id\":\"2836\",\"type\":\"CDSView\"},{\"attributes\":{},\"id\":\"2499\",\"type\":\"UnionRenderers\"},{\"attributes\":{},\"id\":\"2262\",\"type\":\"Selection\"},{\"attributes\":{},\"id\":\"2879\",\"type\":\"UnionRenderers\"},{\"attributes\":{},\"id\":\"2500\",\"type\":\"Selection\"},{\"attributes\":{},\"id\":\"2880\",\"type\":\"Selection\"},{\"attributes\":{\"line_color\":\"#8c564b\",\"line_width\":2,\"x\":{\"field\":\"Year\"},\"y\":{\"field\":\"Data\"}},\"id\":\"2099\",\"type\":\"Line\"},{\"attributes\":{\"line_color\":\"#e377c2\",\"line_width\":2,\"x\":{\"field\":\"Year\"},\"y\":{\"field\":\"Data\"}},\"id\":\"2861\",\"type\":\"Line\"},{\"attributes\":{\"fill_alpha\":{\"value\":0.5},\"fill_color\":{\"value\":\"#8c564b\"},\"line_alpha\":{\"value\":0.5},\"line_color\":{\"value\":\"#8c564b\"},\"size\":{\"value\":10},\"x\":{\"field\":\"Year\"},\"y\":{\"field\":\"Data\"}},\"id\":\"2125\",\"type\":\"Circle\"},{\"attributes\":{\"label\":{\"value\":\"ANRNIS\"},\"renderers\":[{\"id\":\"2863\"}]},\"id\":\"2881\",\"type\":\"LegendItem\"},{\"attributes\":{\"line_alpha\":0.1,\"line_color\":\"#8c564b\",\"line_width\":2,\"x\":{\"field\":\"Year\"},\"y\":{\"field\":\"Data\"}},\"id\":\"2100\",\"type\":\"Line\"},{\"attributes\":{\"below\":[{\"id\":\"2554\"}],\"center\":[{\"id\":\"2557\"},{\"id\":\"2561\"},{\"id\":\"2590\"}],\"height\":400,\"left\":[{\"id\":\"2558\"}],\"renderers\":[{\"id\":\"2578\"},{\"id\":\"2595\"},{\"id\":\"2603\"},{\"id\":\"2621\"},{\"id\":\"2629\"},{\"id\":\"2649\"},{\"id\":\"2657\"},{\"id\":\"2679\"},{\"id\":\"2687\"},{\"id\":\"2711\"},{\"id\":\"2719\"},{\"id\":\"2745\"}],\"title\":{\"id\":\"2544\"},\"toolbar\":{\"id\":\"2568\"},\"toolbar_location\":null,\"width\":400,\"x_range\":{\"id\":\"2546\"},\"x_scale\":{\"id\":\"2550\"},\"y_range\":{\"id\":\"2548\"},\"y_scale\":{\"id\":\"2552\"}},\"id\":\"2543\",\"subtype\":\"Figure\",\"type\":\"Plot\"},{\"attributes\":{\"line_alpha\":0.1,\"line_color\":\"#1b9e77\",\"line_width\":2,\"x\":{\"field\":\"Year\"},\"y\":{\"field\":\"Data\"}},\"id\":\"2892\",\"type\":\"Line\"},{\"attributes\":{\"label\":{\"value\":\"Other\"},\"renderers\":[{\"id\":\"2101\"}]},\"id\":\"2123\",\"type\":\"LegendItem\"},{\"attributes\":{\"line_color\":\"#1b9e77\",\"line_width\":2,\"x\":{\"field\":\"Year\"},\"y\":{\"field\":\"Data\"}},\"id\":\"2891\",\"type\":\"Line\"},{\"attributes\":{\"label\":{\"value\":\"AI[C/R]NIS\"},\"renderers\":[{\"id\":\"2069\"}]},\"id\":\"2089\",\"type\":\"LegendItem\"},{\"attributes\":{\"label\":{\"value\":\"A[I/N][R/C][N/S]IS\"},\"renderers\":[{\"id\":\"2835\"}]},\"id\":\"2851\",\"type\":\"LegendItem\"},{\"attributes\":{\"line_color\":\"#8c564b\",\"line_width\":2,\"x\":{\"field\":\"Year\"},\"y\":{\"field\":\"Data\"}},\"id\":\"2511\",\"type\":\"Line\"},{\"attributes\":{\"source\":{\"id\":\"2509\"}},\"id\":\"2514\",\"type\":\"CDSView\"},{\"attributes\":{\"fill_alpha\":{\"value\":0.1},\"fill_color\":{\"value\":\"#bcbd22\"},\"line_alpha\":{\"value\":0.1},\"line_color\":{\"value\":\"#bcbd22\"},\"size\":{\"value\":10},\"x\":{\"field\":\"Year\"},\"y\":{\"field\":\"Data\"}},\"id\":\"2266\",\"type\":\"Circle\"},{\"attributes\":{\"axis_label\":\"Year\",\"formatter\":{\"id\":\"2994\"},\"major_label_policy\":{\"id\":\"2995\"},\"ticker\":{\"id\":\"2967\"}},\"id\":\"2966\",\"type\":\"LinearAxis\"},{\"attributes\":{\"source\":{\"id\":\"2241\"}},\"id\":\"2268\",\"type\":\"CDSView\"},{\"attributes\":{\"fill_alpha\":{\"value\":0.1},\"fill_color\":{\"value\":\"#ffff99\"},\"line_alpha\":{\"value\":0.1},\"line_color\":{\"value\":\"#ffff99\"},\"size\":{\"value\":10},\"x\":{\"field\":\"Year\"},\"y\":{\"field\":\"Data\"}},\"id\":\"2504\",\"type\":\"Circle\"},{\"attributes\":{\"data_source\":{\"id\":\"2241\"},\"glyph\":{\"id\":\"2265\"},\"hover_glyph\":null,\"muted_glyph\":null,\"nonselection_glyph\":{\"id\":\"2266\"},\"view\":{\"id\":\"2268\"}},\"id\":\"2267\",\"type\":\"GlyphRenderer\"},{\"attributes\":{\"source\":{\"id\":\"2477\"}},\"id\":\"2506\",\"type\":\"CDSView\"},{\"attributes\":{\"source\":{\"id\":\"2921\"}},\"id\":\"2926\",\"type\":\"CDSView\"},{\"attributes\":{\"callback\":null,\"renderers\":[{\"id\":\"2267\"}],\"tooltips\":[[\"(x,y)\",\"(@Year,@Data)\"]]},\"id\":\"2269\",\"type\":\"HoverTool\"},{\"attributes\":{\"data_source\":{\"id\":\"2477\"},\"glyph\":{\"id\":\"2503\"},\"hover_glyph\":null,\"muted_glyph\":null,\"nonselection_glyph\":{\"id\":\"2504\"},\"view\":{\"id\":\"2506\"}},\"id\":\"2505\",\"type\":\"GlyphRenderer\"},{\"attributes\":{\"fill_alpha\":{\"value\":0.1},\"fill_color\":{\"value\":\"#e377c2\"},\"line_alpha\":{\"value\":0.1},\"line_color\":{\"value\":\"#e377c2\"},\"size\":{\"value\":10},\"x\":{\"field\":\"Year\"},\"y\":{\"field\":\"Data\"}},\"id\":\"2884\",\"type\":\"Circle\"},{\"attributes\":{\"callback\":null,\"renderers\":[{\"id\":\"2505\"}],\"tooltips\":[[\"(x,y)\",\"(@Year,@Data)\"]]},\"id\":\"2507\",\"type\":\"HoverTool\"},{\"attributes\":{\"label\":{\"value\":\"AIRNLS\"},\"renderers\":[{\"id\":\"2275\"}]},\"id\":\"2295\",\"type\":\"LegendItem\"},{\"attributes\":{\"source\":{\"id\":\"2859\"}},\"id\":\"2886\",\"type\":\"CDSView\"},{\"attributes\":{\"data_source\":{\"id\":\"2859\"},\"glyph\":{\"id\":\"2883\"},\"hover_glyph\":null,\"muted_glyph\":null,\"nonselection_glyph\":{\"id\":\"2884\"},\"view\":{\"id\":\"2886\"}},\"id\":\"2885\",\"type\":\"GlyphRenderer\"},{\"attributes\":{\"callback\":null,\"renderers\":[{\"id\":\"2885\"}],\"tooltips\":[[\"(x,y)\",\"(@Year,@Data)\"]]},\"id\":\"2887\",\"type\":\"HoverTool\"},{\"attributes\":{\"label\":{\"value\":\"A[N/I][C/R][S/N]IS\"},\"renderers\":[{\"id\":\"2893\"}]},\"id\":\"2913\",\"type\":\"LegendItem\"},{\"attributes\":{},\"id\":\"2087\",\"type\":\"UnionRenderers\"},{\"attributes\":{},\"id\":\"2849\",\"type\":\"UnionRenderers\"},{\"attributes\":{\"data\":{\"Data\":{\"__ndarray__\":\"IHqnAu55rj8wmpXtQ97AP3bbheY6jdA/oC+EnPf/zz9Yb9QK0/e+P7iPozmy8sM/+Il1qnzPtD/IrnsrEhOwP2DgufdwydA/\",\"dtype\":\"float64\",\"order\":\"little\",\"shape\":[9]},\"Year\":[2007,2008,2009,2010,2011,2012,2013,2014,2015]},\"selected\":{\"id\":\"2946\"},\"selection_policy\":{\"id\":\"2945\"}},\"id\":\"2921\",\"type\":\"ColumnDataSource\"},{\"attributes\":{},\"id\":\"2088\",\"type\":\"Selection\"},{\"attributes\":{},\"id\":\"2850\",\"type\":\"Selection\"},{\"attributes\":{\"line_color\":\"#8c564b\",\"line_width\":2,\"x\":{\"field\":\"Year\"},\"y\":{\"field\":\"Data\"}},\"id\":\"2305\",\"type\":\"Line\"},{\"attributes\":{\"fill_alpha\":{\"value\":0.5},\"fill_color\":{\"value\":\"#8c564b\"},\"line_alpha\":{\"value\":0.5},\"line_color\":{\"value\":\"#8c564b\"},\"size\":{\"value\":10},\"x\":{\"field\":\"Year\"},\"y\":{\"field\":\"Data\"}},\"id\":\"2537\",\"type\":\"Circle\"},{\"attributes\":{\"data_source\":{\"id\":\"2303\"},\"glyph\":{\"id\":\"2305\"},\"hover_glyph\":null,\"muted_glyph\":null,\"nonselection_glyph\":{\"id\":\"2306\"},\"view\":{\"id\":\"2308\"}},\"id\":\"2307\",\"type\":\"GlyphRenderer\"},{\"attributes\":{\"data\":{\"Data\":{\"__ndarray__\":\"AAAAAAAAAAAn3Ty7S9vYP/01O2oR8tc/chUQDMkW4T8=\",\"dtype\":\"float64\",\"order\":\"little\",\"shape\":[4]},\"Year\":[2012,2015,2016,2017]},\"selected\":{\"id\":\"2589\"},\"selection_policy\":{\"id\":\"2588\"}},\"id\":\"2574\",\"type\":\"ColumnDataSource\"},{\"attributes\":{\"line_alpha\":0.1,\"line_color\":\"#8c564b\",\"line_width\":2,\"x\":{\"field\":\"Year\"},\"y\":{\"field\":\"Data\"}},\"id\":\"2306\",\"type\":\"Line\"},{\"attributes\":{\"data_source\":{\"id\":\"2921\"},\"glyph\":{\"id\":\"2923\"},\"hover_glyph\":null,\"muted_glyph\":null,\"nonselection_glyph\":{\"id\":\"2924\"},\"view\":{\"id\":\"2926\"}},\"id\":\"2925\",\"type\":\"GlyphRenderer\"},{\"attributes\":{\"fill_alpha\":{\"value\":0.5},\"fill_color\":{\"value\":\"#666666\"},\"line_alpha\":{\"value\":0.5},\"line_color\":{\"value\":\"#666666\"},\"size\":{\"value\":10},\"x\":{\"field\":\"Year\"},\"y\":{\"field\":\"Data\"}},\"id\":\"2853\",\"type\":\"Circle\"},{\"attributes\":{\"callback\":null,\"renderers\":[{\"id\":\"2855\"}],\"tooltips\":[[\"(x,y)\",\"(@Year,@Data)\"]]},\"id\":\"2857\",\"type\":\"HoverTool\"},{\"attributes\":{\"label\":{\"value\":\"ANRNIF\"},\"renderers\":[{\"id\":\"2372\"}]},\"id\":\"2385\",\"type\":\"LegendItem\"},{\"attributes\":{\"label\":{\"value\":\"Other\"},\"renderers\":[{\"id\":\"2513\"}]},\"id\":\"2535\",\"type\":\"LegendItem\"},{\"attributes\":{\"below\":[{\"id\":\"2760\"}],\"center\":[{\"id\":\"2763\"},{\"id\":\"2767\"},{\"id\":\"2796\"}],\"height\":400,\"left\":[{\"id\":\"2764\"}],\"renderers\":[{\"id\":\"2784\"},{\"id\":\"2801\"},{\"id\":\"2809\"},{\"id\":\"2827\"},{\"id\":\"2835\"},{\"id\":\"2855\"},{\"id\":\"2863\"},{\"id\":\"2885\"},{\"id\":\"2893\"},{\"id\":\"2917\"},{\"id\":\"2925\"},{\"id\":\"2951\"}],\"title\":{\"id\":\"2750\"},\"toolbar\":{\"id\":\"2774\"},\"toolbar_location\":null,\"width\":400,\"x_range\":{\"id\":\"2752\"},\"x_scale\":{\"id\":\"2756\"},\"y_range\":{\"id\":\"2754\"},\"y_scale\":{\"id\":\"2758\"}},\"id\":\"2749\",\"subtype\":\"Figure\",\"type\":\"Plot\"},{\"attributes\":{},\"id\":\"2964\",\"type\":\"LinearScale\"},{\"attributes\":{\"background_fill_alpha\":0.7,\"items\":[{\"id\":\"2385\"},{\"id\":\"2411\"},{\"id\":\"2439\"},{\"id\":\"2469\"},{\"id\":\"2501\"},{\"id\":\"2535\"}]},\"id\":\"2384\",\"type\":\"Legend\"},{\"attributes\":{\"bottom_units\":\"screen\",\"fill_alpha\":0.5,\"fill_color\":\"lightgrey\",\"left_units\":\"screen\",\"level\":\"overlay\",\"line_alpha\":1.0,\"line_color\":\"black\",\"line_dash\":[4,4],\"line_width\":2,\"right_units\":\"screen\",\"syncable\":false,\"top_units\":\"screen\"},\"id\":\"2773\",\"type\":\"BoxAnnotation\"},{\"attributes\":{\"line_alpha\":0.1,\"line_color\":\"#8c564b\",\"line_width\":2,\"x\":{\"field\":\"Year\"},\"y\":{\"field\":\"Data\"}},\"id\":\"2924\",\"type\":\"Line\"},{\"attributes\":{\"data_source\":{\"id\":\"2271\"},\"glyph\":{\"id\":\"2273\"},\"hover_glyph\":null,\"muted_glyph\":null,\"nonselection_glyph\":{\"id\":\"2274\"},\"view\":{\"id\":\"2276\"}},\"id\":\"2275\",\"type\":\"GlyphRenderer\"},{\"attributes\":{\"label\":{\"value\":\"IRNL\"},\"renderers\":[{\"id\":\"2629\"}]},\"id\":\"2645\",\"type\":\"LegendItem\"},{\"attributes\":{\"fill_alpha\":{\"value\":0.1},\"fill_color\":{\"value\":\"#666666\"},\"line_alpha\":{\"value\":0.1},\"line_color\":{\"value\":\"#666666\"},\"size\":{\"value\":10},\"x\":{\"field\":\"Year\"},\"y\":{\"field\":\"Data\"}},\"id\":\"2854\",\"type\":\"Circle\"},{\"attributes\":{\"data_source\":{\"id\":\"2509\"},\"glyph\":{\"id\":\"2511\"},\"hover_glyph\":null,\"muted_glyph\":null,\"nonselection_glyph\":{\"id\":\"2512\"},\"view\":{\"id\":\"2514\"}},\"id\":\"2513\",\"type\":\"GlyphRenderer\"},{\"attributes\":{\"source\":{\"id\":\"2831\"}},\"id\":\"2856\",\"type\":\"CDSView\"},{\"attributes\":{\"fill_alpha\":{\"value\":0.5},\"fill_color\":{\"value\":\"#8c564b\"},\"line_alpha\":{\"value\":0.5},\"line_color\":{\"value\":\"#8c564b\"},\"size\":{\"value\":10},\"x\":{\"field\":\"Year\"},\"y\":{\"field\":\"Data\"}},\"id\":\"2949\",\"type\":\"Circle\"},{\"attributes\":{\"data_source\":{\"id\":\"2831\"},\"glyph\":{\"id\":\"2853\"},\"hover_glyph\":null,\"muted_glyph\":null,\"nonselection_glyph\":{\"id\":\"2854\"},\"view\":{\"id\":\"2856\"}},\"id\":\"2855\",\"type\":\"GlyphRenderer\"},{\"attributes\":{\"fill_alpha\":{\"value\":0.5},\"fill_color\":{\"value\":\"#2ca02c\"},\"line_alpha\":{\"value\":0.5},\"line_color\":{\"value\":\"#2ca02c\"},\"size\":{\"value\":10},\"x\":{\"field\":\"Year\"},\"y\":{\"field\":\"Data\"}},\"id\":\"2091\",\"type\":\"Circle\"},{\"attributes\":{\"source\":{\"id\":\"2271\"}},\"id\":\"2276\",\"type\":\"CDSView\"},{\"attributes\":{\"data_source\":{\"id\":\"2859\"},\"glyph\":{\"id\":\"2861\"},\"hover_glyph\":null,\"muted_glyph\":null,\"nonselection_glyph\":{\"id\":\"2862\"},\"view\":{\"id\":\"2864\"}},\"id\":\"2863\",\"type\":\"GlyphRenderer\"},{\"attributes\":{\"data_source\":{\"id\":\"2889\"},\"glyph\":{\"id\":\"2891\"},\"hover_glyph\":null,\"muted_glyph\":null,\"nonselection_glyph\":{\"id\":\"2892\"},\"view\":{\"id\":\"2894\"}},\"id\":\"2893\",\"type\":\"GlyphRenderer\"},{\"attributes\":{\"fill_alpha\":{\"value\":0.5},\"fill_color\":{\"value\":\"#17becf\"},\"line_alpha\":{\"value\":0.5},\"line_color\":{\"value\":\"#17becf\"},\"size\":{\"value\":10},\"x\":{\"field\":\"Year\"},\"y\":{\"field\":\"Data\"}},\"id\":\"2297\",\"type\":\"Circle\"},{\"attributes\":{\"line_alpha\":0.1,\"line_color\":\"#8c564b\",\"line_width\":2,\"x\":{\"field\":\"Year\"},\"y\":{\"field\":\"Data\"}},\"id\":\"2512\",\"type\":\"Line\"},{\"attributes\":{\"label\":{\"value\":\"Other\"},\"renderers\":[{\"id\":\"2925\"}]},\"id\":\"2947\",\"type\":\"LegendItem\"},{\"attributes\":{\"data_source\":{\"id\":\"2097\"},\"glyph\":{\"id\":\"2099\"},\"hover_glyph\":null,\"muted_glyph\":null,\"nonselection_glyph\":{\"id\":\"2100\"},\"view\":{\"id\":\"2102\"}},\"id\":\"2101\",\"type\":\"GlyphRenderer\"},{\"attributes\":{\"source\":{\"id\":\"2889\"}},\"id\":\"2894\",\"type\":\"CDSView\"},{\"attributes\":{\"fill_alpha\":{\"value\":0.5},\"fill_color\":{\"value\":\"#1b9e77\"},\"line_alpha\":{\"value\":0.5},\"line_color\":{\"value\":\"#1b9e77\"},\"size\":{\"value\":10},\"x\":{\"field\":\"Year\"},\"y\":{\"field\":\"Data\"}},\"id\":\"2915\",\"type\":\"Circle\"},{\"attributes\":{\"data\":{\"Data\":{\"__ndarray__\":\"9DzP8zzPwz/0BX1BX9CXP2G5pxGWe6o/FDuxEzuxoz+VUkoppZSiP75jamDvmKo/W2AXl7c+oj+Q0TABGQ2DPzvavE9xybA/\",\"dtype\":\"float64\",\"order\":\"little\",\"shape\":[9]},\"Year\":[2007,2008,2009,2010,2011,2012,2013,2014,2015]},\"selected\":{\"id\":\"2912\"},\"selection_policy\":{\"id\":\"2911\"}},\"id\":\"2889\",\"type\":\"ColumnDataSource\"},{\"attributes\":{\"fill_alpha\":{\"value\":0.1},\"fill_color\":{\"value\":\"#2ca02c\"},\"line_alpha\":{\"value\":0.1},\"line_color\":{\"value\":\"#2ca02c\"},\"size\":{\"value\":10},\"x\":{\"field\":\"Year\"},\"y\":{\"field\":\"Data\"}},\"id\":\"2092\",\"type\":\"Circle\"},{\"attributes\":{\"source\":{\"id\":\"2065\"}},\"id\":\"2094\",\"type\":\"CDSView\"},{\"attributes\":{\"fill_alpha\":{\"value\":0.5},\"fill_color\":{\"value\":\"#e377c2\"},\"line_alpha\":{\"value\":0.5},\"line_color\":{\"value\":\"#e377c2\"},\"size\":{\"value\":10},\"x\":{\"field\":\"Year\"},\"y\":{\"field\":\"Data\"}},\"id\":\"2883\",\"type\":\"Circle\"},{\"attributes\":{\"data_source\":{\"id\":\"2065\"},\"glyph\":{\"id\":\"2091\"},\"hover_glyph\":null,\"muted_glyph\":null,\"nonselection_glyph\":{\"id\":\"2092\"},\"view\":{\"id\":\"2094\"}},\"id\":\"2093\",\"type\":\"GlyphRenderer\"},{\"attributes\":{\"callback\":null,\"renderers\":[{\"id\":\"2093\"}],\"tooltips\":[[\"(x,y)\",\"(@Year,@Data)\"]]},\"id\":\"2095\",\"type\":\"HoverTool\"},{\"attributes\":{\"line_color\":\"#8c564b\",\"line_width\":2,\"x\":{\"field\":\"Year\"},\"y\":{\"field\":\"Data\"}},\"id\":\"2923\",\"type\":\"Line\"},{\"attributes\":{\"end\":2019,\"start\":2001},\"id\":\"2134\",\"type\":\"Range1d\"},{\"attributes\":{\"line_alpha\":0.1,\"line_color\":\"#e377c2\",\"line_width\":2,\"x\":{\"field\":\"Year\"},\"y\":{\"field\":\"Data\"}},\"id\":\"2862\",\"type\":\"Line\"},{\"attributes\":{},\"id\":\"2176\",\"type\":\"UnionRenderers\"},{\"attributes\":{\"bottom_units\":\"screen\",\"fill_alpha\":0.5,\"fill_color\":\"lightgrey\",\"left_units\":\"screen\",\"level\":\"overlay\",\"line_alpha\":1.0,\"line_color\":\"black\",\"line_dash\":[4,4],\"line_width\":2,\"right_units\":\"screen\",\"syncable\":false,\"top_units\":\"screen\"},\"id\":\"1743\",\"type\":\"BoxAnnotation\"},{\"attributes\":{\"below\":[{\"id\":\"2348\"}],\"center\":[{\"id\":\"2351\"},{\"id\":\"2355\"},{\"id\":\"2384\"}],\"height\":400,\"left\":[{\"id\":\"2352\"}],\"renderers\":[{\"id\":\"2372\"},{\"id\":\"2389\"},{\"id\":\"2397\"},{\"id\":\"2415\"},{\"id\":\"2423\"},{\"id\":\"2443\"},{\"id\":\"2451\"},{\"id\":\"2473\"},{\"id\":\"2481\"},{\"id\":\"2505\"},{\"id\":\"2513\"},{\"id\":\"2539\"}],\"title\":{\"id\":\"2338\"},\"toolbar\":{\"id\":\"2362\"},\"toolbar_location\":null,\"width\":400,\"x_range\":{\"id\":\"2340\"},\"x_scale\":{\"id\":\"2344\"},\"y_range\":{\"id\":\"2342\"},\"y_scale\":{\"id\":\"2346\"}},\"id\":\"2337\",\"subtype\":\"Figure\",\"type\":\"Plot\"},{\"attributes\":{},\"id\":\"2177\",\"type\":\"Selection\"},{\"attributes\":{\"line_alpha\":0.1,\"line_color\":\"#1f77b4\",\"line_width\":2,\"x\":{\"field\":\"Year\"},\"y\":{\"field\":\"Data\"}},\"id\":\"2783\",\"type\":\"Line\"},{\"attributes\":{},\"id\":\"2533\",\"type\":\"UnionRenderers\"},{\"attributes\":{\"source\":{\"id\":\"1750\"}},\"id\":\"1755\",\"type\":\"CDSView\"},{\"attributes\":{},\"id\":\"2534\",\"type\":\"Selection\"},{\"attributes\":{\"source\":{\"id\":\"2780\"}},\"id\":\"2785\",\"type\":\"CDSView\"},{\"attributes\":{\"line_color\":\"#1f77b4\",\"line_width\":2,\"x\":{\"field\":\"Year\"},\"y\":{\"field\":\"Data\"}},\"id\":\"2782\",\"type\":\"Line\"},{\"attributes\":{\"data_source\":{\"id\":\"2368\"},\"glyph\":{\"id\":\"2370\"},\"hover_glyph\":null,\"muted_glyph\":null,\"nonselection_glyph\":{\"id\":\"2371\"},\"view\":{\"id\":\"2373\"}},\"id\":\"2372\",\"type\":\"GlyphRenderer\"},{\"attributes\":{\"fill_alpha\":{\"value\":0.1},\"fill_color\":{\"value\":\"#9467bd\"},\"line_alpha\":{\"value\":0.1},\"line_color\":{\"value\":\"#9467bd\"},\"size\":{\"value\":10},\"x\":{\"field\":\"Year\"},\"y\":{\"field\":\"Data\"}},\"id\":\"2208\",\"type\":\"Circle\"},{\"attributes\":{\"data\":{\"Data\":{\"__ndarray__\":\"GIZhGIZh2D9zxpwxZ8zJP+5phOWeRrg/8y3f8i3fwj++99577723P75jamDvmJo/kgC/8VhkwD+KVO+hSPW+PzvavE9xybA/\",\"dtype\":\"float64\",\"order\":\"little\",\"shape\":[9]},\"Year\":[2007,2008,2009,2010,2011,2012,2013,2014,2015]},\"selected\":{\"id\":\"2822\"},\"selection_policy\":{\"id\":\"2821\"}},\"id\":\"2805\",\"type\":\"ColumnDataSource\"},{\"attributes\":{\"source\":{\"id\":\"2187\"}},\"id\":\"2210\",\"type\":\"CDSView\"},{\"attributes\":{\"data_source\":{\"id\":\"2187\"},\"glyph\":{\"id\":\"2207\"},\"hover_glyph\":null,\"muted_glyph\":null,\"nonselection_glyph\":{\"id\":\"2208\"},\"view\":{\"id\":\"2210\"}},\"id\":\"2209\",\"type\":\"GlyphRenderer\"},{\"attributes\":{\"callback\":null,\"renderers\":[{\"id\":\"2209\"}],\"tooltips\":[[\"(x,y)\",\"(@Year,@Data)\"]]},\"id\":\"2211\",\"type\":\"HoverTool\"},{\"attributes\":{\"axis_label\":\"Year\",\"formatter\":{\"id\":\"1964\"},\"major_label_policy\":{\"id\":\"1965\"},\"ticker\":{\"id\":\"1937\"}},\"id\":\"1936\",\"type\":\"LinearAxis\"},{\"attributes\":{\"source\":{\"id\":\"2241\"}},\"id\":\"2246\",\"type\":\"CDSView\"},{\"attributes\":{},\"id\":\"2136\",\"type\":\"Range1d\"},{\"attributes\":{},\"id\":\"1934\",\"type\":\"LinearScale\"},{\"attributes\":{\"source\":{\"id\":\"1775\"}},\"id\":\"1780\",\"type\":\"CDSView\"},{\"attributes\":{\"source\":{\"id\":\"2213\"}},\"id\":\"2218\",\"type\":\"CDSView\"},{\"attributes\":{\"data\":{\"Data\":{\"__ndarray__\":\"TGcxncV0tj9VVVVVVVW1P4QQQgghhJA/AAAAAAAAAAA=\",\"dtype\":\"float64\",\"order\":\"little\",\"shape\":[4]},\"Year\":[2012,2013,2014,2016]},\"selected\":{\"id\":\"1820\"},\"selection_policy\":{\"id\":\"1819\"}},\"id\":\"1801\",\"type\":\"ColumnDataSource\"},{\"attributes\":{\"active_drag\":{\"id\":\"2768\"},\"active_multi\":null,\"active_scroll\":{\"id\":\"2769\"},\"tools\":[{\"id\":\"2768\"},{\"id\":\"2769\"},{\"id\":\"2770\"},{\"id\":\"2771\"},{\"id\":\"2772\"},{\"id\":\"2803\"},{\"id\":\"2829\"},{\"id\":\"2857\"},{\"id\":\"2887\"},{\"id\":\"2919\"},{\"id\":\"2953\"}]},\"id\":\"2774\",\"type\":\"Toolbar\"},{\"attributes\":{\"line_alpha\":0.1,\"line_color\":\"#1f77b4\",\"line_width\":2,\"x\":{\"field\":\"Year\"},\"y\":{\"field\":\"Data\"}},\"id\":\"1753\",\"type\":\"Line\"},{\"attributes\":{\"fill_alpha\":{\"value\":0.5},\"fill_color\":{\"value\":\"#7f7f7f\"},\"line_alpha\":{\"value\":0.5},\"line_color\":{\"value\":\"#7f7f7f\"},\"size\":{\"value\":10},\"x\":{\"field\":\"Year\"},\"y\":{\"field\":\"Data\"}},\"id\":\"2181\",\"type\":\"Circle\"},{\"attributes\":{\"line_color\":\"#2ca02c\",\"line_width\":2,\"x\":{\"field\":\"Year\"},\"y\":{\"field\":\"Data\"}},\"id\":\"1803\",\"type\":\"Line\"},{\"attributes\":{\"line_alpha\":0.1,\"line_color\":\"#1f77b4\",\"line_width\":2,\"x\":{\"field\":\"Year\"},\"y\":{\"field\":\"Data\"}},\"id\":\"3040\",\"type\":\"Line\"},{\"attributes\":{\"fill_alpha\":{\"value\":0.1},\"fill_color\":{\"value\":\"#8c564b\"},\"line_alpha\":{\"value\":0.1},\"line_color\":{\"value\":\"#8c564b\"},\"size\":{\"value\":10},\"x\":{\"field\":\"Year\"},\"y\":{\"field\":\"Data\"}},\"id\":\"2538\",\"type\":\"Circle\"},{\"attributes\":{\"source\":{\"id\":\"2509\"}},\"id\":\"2540\",\"type\":\"CDSView\"},{\"attributes\":{\"data_source\":{\"id\":\"2509\"},\"glyph\":{\"id\":\"2537\"},\"hover_glyph\":null,\"muted_glyph\":null,\"nonselection_glyph\":{\"id\":\"2538\"},\"view\":{\"id\":\"2540\"}},\"id\":\"2539\",\"type\":\"GlyphRenderer\"},{\"attributes\":{\"fill_alpha\":{\"value\":0.1},\"fill_color\":{\"value\":\"#7f7f7f\"},\"line_alpha\":{\"value\":0.1},\"line_color\":{\"value\":\"#7f7f7f\"},\"size\":{\"value\":10},\"x\":{\"field\":\"Year\"},\"y\":{\"field\":\"Data\"}},\"id\":\"2182\",\"type\":\"Circle\"},{\"attributes\":{\"line_color\":\"#bcbd22\",\"line_width\":2,\"x\":{\"field\":\"Year\"},\"y\":{\"field\":\"Data\"}},\"id\":\"2243\",\"type\":\"Line\"},{\"attributes\":{\"callback\":null,\"renderers\":[{\"id\":\"2539\"}],\"tooltips\":[[\"(x,y)\",\"(@Year,@Data)\"]]},\"id\":\"2541\",\"type\":\"HoverTool\"},{\"attributes\":{\"source\":{\"id\":\"2162\"}},\"id\":\"2184\",\"type\":\"CDSView\"},{\"attributes\":{\"fill_alpha\":{\"value\":0.5},\"fill_color\":{\"value\":\"#bcbd22\"},\"line_alpha\":{\"value\":0.5},\"line_color\":{\"value\":\"#bcbd22\"},\"size\":{\"value\":10},\"x\":{\"field\":\"Year\"},\"y\":{\"field\":\"Data\"}},\"id\":\"2265\",\"type\":\"Circle\"},{\"attributes\":{\"data_source\":{\"id\":\"2162\"},\"glyph\":{\"id\":\"2181\"},\"hover_glyph\":null,\"muted_glyph\":null,\"nonselection_glyph\":{\"id\":\"2182\"},\"view\":{\"id\":\"2184\"}},\"id\":\"2183\",\"type\":\"GlyphRenderer\"},{\"attributes\":{\"line_color\":\"#bcbd22\",\"line_width\":2,\"x\":{\"field\":\"Year\"},\"y\":{\"field\":\"Data\"}},\"id\":\"2576\",\"type\":\"Line\"},{\"attributes\":{\"callback\":null,\"renderers\":[{\"id\":\"2183\"}],\"tooltips\":[[\"(x,y)\",\"(@Year,@Data)\"]]},\"id\":\"2185\",\"type\":\"HoverTool\"},{\"attributes\":{\"label\":{\"value\":\"AICNIS\"},\"renderers\":[{\"id\":\"1779\"}]},\"id\":\"1793\",\"type\":\"LegendItem\"},{\"attributes\":{\"fill_alpha\":{\"value\":0.5},\"fill_color\":{\"value\":\"#ff7f0e\"},\"line_alpha\":{\"value\":0.5},\"line_color\":{\"value\":\"#ff7f0e\"},\"size\":{\"value\":10},\"x\":{\"field\":\"Year\"},\"y\":{\"field\":\"Data\"}},\"id\":\"1795\",\"type\":\"Circle\"},{\"attributes\":{\"fill_alpha\":{\"value\":0.5},\"fill_color\":{\"value\":\"#9467bd\"},\"line_alpha\":{\"value\":0.5},\"line_color\":{\"value\":\"#9467bd\"},\"size\":{\"value\":10},\"x\":{\"field\":\"Year\"},\"y\":{\"field\":\"Data\"}},\"id\":\"2207\",\"type\":\"Circle\"},{\"attributes\":{\"data\":{\"Data\":{\"__ndarray__\":\"Fl/xFV/xtT+4HoXrUbi+PxQ7sRM7saM/C5sDiVbYjD9VVVVVVVWVPwAAAAAAAAAAtdugrBBjrz8NJ3VfHluRP20a0KYBbZo/NJfRXEZzuT8AAAAAAADSPwAAAAAAAAAAAAAAAAAAAAAAAAAAAAAAAA==\",\"dtype\":\"float64\",\"order\":\"little\",\"shape\":[14]},\"Year\":[2001,2002,2003,2004,2005,2007,2008,2011,2012,2013,2014,2015,2016,2017]},\"selected\":{\"id\":\"3086\"},\"selection_policy\":{\"id\":\"3085\"}},\"id\":\"3065\",\"type\":\"ColumnDataSource\"},{\"attributes\":{\"background_fill_alpha\":0.7,\"items\":[{\"id\":\"2797\"},{\"id\":\"2823\"},{\"id\":\"2851\"},{\"id\":\"2881\"},{\"id\":\"2913\"},{\"id\":\"2947\"}]},\"id\":\"2796\",\"type\":\"Legend\"},{\"attributes\":{\"line_alpha\":0.1,\"line_color\":\"#17becf\",\"line_width\":2,\"x\":{\"field\":\"Year\"},\"y\":{\"field\":\"Data\"}},\"id\":\"2274\",\"type\":\"Line\"},{\"attributes\":{\"line_alpha\":0.1,\"line_color\":\"#ff7f0e\",\"line_width\":2,\"x\":{\"field\":\"Year\"},\"y\":{\"field\":\"Data\"}},\"id\":\"1778\",\"type\":\"Line\"},{\"attributes\":{\"source\":{\"id\":\"2187\"}},\"id\":\"2192\",\"type\":\"CDSView\"},{\"attributes\":{\"data_source\":{\"id\":\"2805\"},\"glyph\":{\"id\":\"2807\"},\"hover_glyph\":null,\"muted_glyph\":null,\"nonselection_glyph\":{\"id\":\"2808\"},\"view\":{\"id\":\"2810\"}},\"id\":\"2809\",\"type\":\"GlyphRenderer\"},{\"attributes\":{\"data\":{\"Data\":{\"__ndarray__\":\"KK+hvIbyqj8cx3Ecx3G8P4QQQgghhLA/AAAAAAAAAAA=\",\"dtype\":\"float64\",\"order\":\"little\",\"shape\":[4]},\"Year\":[2012,2013,2014,2016]},\"selected\":{\"id\":\"1850\"},\"selection_policy\":{\"id\":\"1849\"}},\"id\":\"1829\",\"type\":\"ColumnDataSource\"},{\"attributes\":{\"label\":{\"value\":\"NRNI\"},\"renderers\":[{\"id\":\"2245\"}]},\"id\":\"2263\",\"type\":\"LegendItem\"},{\"attributes\":{\"fill_alpha\":{\"value\":0.5},\"fill_color\":{\"value\":\"#9467bd\"},\"line_alpha\":{\"value\":0.5},\"line_color\":{\"value\":\"#9467bd\"},\"size\":{\"value\":10},\"x\":{\"field\":\"Year\"},\"y\":{\"field\":\"Data\"}},\"id\":\"2619\",\"type\":\"Circle\"},{\"attributes\":{\"data\":{\"Data\":{\"__ndarray__\":\"VVVVVVVVtT/2hD1hT9izP0dY7mmE5a4/GqRBGqRBqj/XWmuttdaqP87KT4iz8rM/l7c+EuA3rj93xB1xR9yhP8kQrKPN+7Q/\",\"dtype\":\"float64\",\"order\":\"little\",\"shape\":[9]},\"Year\":[2007,2008,2009,2010,2011,2012,2013,2014,2015]},\"selected\":{\"id\":\"2850\"},\"selection_policy\":{\"id\":\"2849\"}},\"id\":\"2831\",\"type\":\"ColumnDataSource\"},{\"attributes\":{\"data_source\":{\"id\":\"2780\"},\"glyph\":{\"id\":\"2782\"},\"hover_glyph\":null,\"muted_glyph\":null,\"nonselection_glyph\":{\"id\":\"2783\"},\"view\":{\"id\":\"2785\"}},\"id\":\"2784\",\"type\":\"GlyphRenderer\"},{\"attributes\":{\"axis\":{\"id\":\"2760\"},\"ticker\":null},\"id\":\"2763\",\"type\":\"Grid\"},{\"attributes\":{\"label\":{\"value\":\"AIRNIS\"},\"renderers\":[{\"id\":\"2217\"}]},\"id\":\"2233\",\"type\":\"LegendItem\"},{\"attributes\":{\"line_color\":\"#bf5b17\",\"line_width\":2,\"x\":{\"field\":\"Year\"},\"y\":{\"field\":\"Data\"}},\"id\":\"2807\",\"type\":\"Line\"},{\"attributes\":{\"line_alpha\":0.1,\"line_color\":\"#bf5b17\",\"line_width\":2,\"x\":{\"field\":\"Year\"},\"y\":{\"field\":\"Data\"}},\"id\":\"2808\",\"type\":\"Line\"},{\"attributes\":{},\"id\":\"1741\",\"type\":\"ResetTool\"},{\"attributes\":{},\"id\":\"2231\",\"type\":\"UnionRenderers\"},{\"attributes\":{\"callback\":null},\"id\":\"1742\",\"type\":\"TapTool\"},{\"attributes\":{\"line_alpha\":0.1,\"line_color\":\"#9467bd\",\"line_width\":2,\"x\":{\"field\":\"Year\"},\"y\":{\"field\":\"Data\"}},\"id\":\"2602\",\"type\":\"Line\"},{\"attributes\":{\"label\":{\"value\":\"AIRNIS\"},\"renderers\":[{\"id\":\"2784\"}]},\"id\":\"2797\",\"type\":\"LegendItem\"},{\"attributes\":{},\"id\":\"1739\",\"type\":\"WheelZoomTool\"},{\"attributes\":{},\"id\":\"2232\",\"type\":\"Selection\"},{\"attributes\":{},\"id\":\"1738\",\"type\":\"PanTool\"},{\"attributes\":{\"overlay\":{\"id\":\"1743\"}},\"id\":\"1740\",\"type\":\"BoxZoomTool\"},{\"attributes\":{\"line_color\":\"#1f77b4\",\"line_width\":2,\"x\":{\"field\":\"Year\"},\"y\":{\"field\":\"Data\"}},\"id\":\"2215\",\"type\":\"Line\"},{\"attributes\":{\"data_source\":{\"id\":\"2213\"},\"glyph\":{\"id\":\"2215\"},\"hover_glyph\":null,\"muted_glyph\":null,\"nonselection_glyph\":{\"id\":\"2216\"},\"view\":{\"id\":\"2218\"}},\"id\":\"2217\",\"type\":\"GlyphRenderer\"},{\"attributes\":{\"axis_label\":\"Prevalence\",\"formatter\":{\"id\":\"2791\"},\"major_label_policy\":{\"id\":\"2792\"},\"ticker\":{\"id\":\"2765\"}},\"id\":\"2764\",\"type\":\"LinearAxis\"},{\"attributes\":{\"line_alpha\":0.1,\"line_color\":\"#1f77b4\",\"line_width\":2,\"x\":{\"field\":\"Year\"},\"y\":{\"field\":\"Data\"}},\"id\":\"2216\",\"type\":\"Line\"},{\"attributes\":{\"data\":{\"Data\":{\"__ndarray__\":\"AAAAAAAAAADPhSC2yDCxPxEREREREbE/OmtQPO1xlT8=\",\"dtype\":\"float64\",\"order\":\"little\",\"shape\":[4]},\"Year\":[2012,2015,2016,2017]},\"selected\":{\"id\":\"2674\"},\"selection_policy\":{\"id\":\"2673\"}},\"id\":\"2653\",\"type\":\"ColumnDataSource\"},{\"attributes\":{\"axis_label\":\"Year\",\"formatter\":{\"id\":\"2788\"},\"major_label_policy\":{\"id\":\"2789\"},\"ticker\":{\"id\":\"2761\"}},\"id\":\"2760\",\"type\":\"LinearAxis\"},{\"attributes\":{\"data\":{\"Data\":{\"__ndarray__\":\"AAAAAAAAAAAAAAAAAAAAAAAAAAAAAAAAAAAAAAAAAAAAAAAAAAAAAFPQwaMuBZ0/4MCBAwcOnD8aBSI4dmmkP9C6wRT5rHs/aC+hvYT2cj/kLc3BC6vPPyLfY1ptR8M/vxArSuMjgz8=\",\"dtype\":\"float64\",\"order\":\"little\",\"shape\":[13]},\"Year\":[2007,2008,2009,2010,2011,2012,2013,2014,2015,2016,2017,2018,2019]},\"selected\":{\"id\":\"2262\"},\"selection_policy\":{\"id\":\"2261\"}},\"id\":\"2241\",\"type\":\"ColumnDataSource\"},{\"attributes\":{},\"id\":\"1735\",\"type\":\"BasicTicker\"},{\"attributes\":{},\"id\":\"2761\",\"type\":\"BasicTicker\"},{\"attributes\":{},\"id\":\"2138\",\"type\":\"LinearScale\"},{\"attributes\":{},\"id\":\"2758\",\"type\":\"LinearScale\"},{\"attributes\":{\"line_alpha\":0.1,\"line_color\":\"#2ca02c\",\"line_width\":2,\"x\":{\"field\":\"Year\"},\"y\":{\"field\":\"Data\"}},\"id\":\"1804\",\"type\":\"Line\"},{\"attributes\":{\"label\":{\"value\":\"IRNI\"},\"renderers\":[{\"id\":\"2603\"}]},\"id\":\"2617\",\"type\":\"LegendItem\"},{\"attributes\":{\"active_drag\":{\"id\":\"1738\"},\"active_multi\":null,\"active_scroll\":{\"id\":\"1739\"},\"tools\":[{\"id\":\"1738\"},{\"id\":\"1739\"},{\"id\":\"1740\"},{\"id\":\"1741\"},{\"id\":\"1742\"},{\"id\":\"1773\"},{\"id\":\"1799\"},{\"id\":\"1827\"},{\"id\":\"1857\"},{\"id\":\"1889\"},{\"id\":\"1923\"}]},\"id\":\"1744\",\"type\":\"Toolbar\"},{\"attributes\":{\"callback\":null,\"renderers\":[{\"id\":\"2595\"}],\"tooltips\":[[\"(x,y)\",\"(@Year,@Data)\"]]},\"id\":\"2597\",\"type\":\"HoverTool\"},{\"attributes\":{\"label\":{\"value\":\"IRNI\"},\"renderers\":[{\"id\":\"2191\"}]},\"id\":\"2205\",\"type\":\"LegendItem\"},{\"attributes\":{\"axis\":{\"id\":\"1734\"},\"dimension\":1,\"ticker\":null},\"id\":\"1737\",\"type\":\"Grid\"},{\"attributes\":{\"data\":{\"Data\":{\"__ndarray__\":\"AAAAAAAAAABCPvZiXXHEPxZf8RVf8cU/AAAAAAAAAAA=\",\"dtype\":\"float64\",\"order\":\"little\",\"shape\":[4]},\"Year\":[2012,2015,2016,2017]},\"selected\":{\"id\":\"2644\"},\"selection_policy\":{\"id\":\"2643\"}},\"id\":\"2625\",\"type\":\"ColumnDataSource\"},{\"attributes\":{\"line_color\":\"#ff7f0e\",\"line_width\":2,\"x\":{\"field\":\"Year\"},\"y\":{\"field\":\"Data\"}},\"id\":\"1777\",\"type\":\"Line\"},{\"attributes\":{\"fill_alpha\":{\"value\":0.5},\"fill_color\":{\"value\":\"#1f77b4\"},\"line_alpha\":{\"value\":0.5},\"line_color\":{\"value\":\"#1f77b4\"},\"size\":{\"value\":10},\"x\":{\"field\":\"Year\"},\"y\":{\"field\":\"Data\"}},\"id\":\"2235\",\"type\":\"Circle\"},{\"attributes\":{\"source\":{\"id\":\"2574\"}},\"id\":\"2596\",\"type\":\"CDSView\"},{\"attributes\":{\"active_drag\":{\"id\":\"2562\"},\"active_multi\":null,\"active_scroll\":{\"id\":\"2563\"},\"tools\":[{\"id\":\"2562\"},{\"id\":\"2563\"},{\"id\":\"2564\"},{\"id\":\"2565\"},{\"id\":\"2566\"},{\"id\":\"2597\"},{\"id\":\"2623\"},{\"id\":\"2651\"},{\"id\":\"2681\"},{\"id\":\"2713\"},{\"id\":\"2747\"}]},\"id\":\"2568\",\"type\":\"Toolbar\"},{\"attributes\":{\"callback\":null,\"renderers\":[{\"id\":\"2237\"}],\"tooltips\":[[\"(x,y)\",\"(@Year,@Data)\"]]},\"id\":\"2239\",\"type\":\"HoverTool\"},{\"attributes\":{\"label\":{\"value\":\"AIRNIS\"},\"renderers\":[{\"id\":\"1754\"}]},\"id\":\"1767\",\"type\":\"LegendItem\"},{\"attributes\":{},\"id\":\"2788\",\"type\":\"BasicTickFormatter\"},{\"attributes\":{\"data\":{\"Data\":{\"__ndarray__\":\"IAr0iTxJoj/Q4zCYv0K2P/hOzHoxlLc//If029eByT9YRE30+SjDP+Bq1hnfF78/0IDs9e6Prz/gJaq3BrayPyCRfZBlwZQ/IOF7f4P2oj+g15/E506wP8A7wJMWLqs/AACwoPfGsL4=\",\"dtype\":\"float64\",\"order\":\"little\",\"shape\":[13]},\"Year\":[2007,2008,2009,2010,2011,2012,2013,2014,2015,2016,2017,2018,2019]},\"selected\":{\"id\":\"2328\"},\"selection_policy\":{\"id\":\"2327\"}},\"id\":\"2303\",\"type\":\"ColumnDataSource\"},{\"attributes\":{},\"id\":\"2789\",\"type\":\"AllLabels\"},{\"attributes\":{\"data_source\":{\"id\":\"1775\"},\"glyph\":{\"id\":\"1777\"},\"hover_glyph\":null,\"muted_glyph\":null,\"nonselection_glyph\":{\"id\":\"1778\"},\"view\":{\"id\":\"1780\"}},\"id\":\"1779\",\"type\":\"GlyphRenderer\"},{\"attributes\":{\"fill_alpha\":{\"value\":0.1},\"fill_color\":{\"value\":\"#17becf\"},\"line_alpha\":{\"value\":0.1},\"line_color\":{\"value\":\"#17becf\"},\"size\":{\"value\":10},\"x\":{\"field\":\"Year\"},\"y\":{\"field\":\"Data\"}},\"id\":\"2298\",\"type\":\"Circle\"},{\"attributes\":{\"line_color\":\"#1f77b4\",\"line_width\":2,\"x\":{\"field\":\"Year\"},\"y\":{\"field\":\"Data\"}},\"id\":\"1752\",\"type\":\"Line\"},{\"attributes\":{\"fill_alpha\":{\"value\":0.1},\"fill_color\":{\"value\":\"#1f77b4\"},\"line_alpha\":{\"value\":0.1},\"line_color\":{\"value\":\"#1f77b4\"},\"size\":{\"value\":10},\"x\":{\"field\":\"Year\"},\"y\":{\"field\":\"Data\"}},\"id\":\"2236\",\"type\":\"Circle\"},{\"attributes\":{\"source\":{\"id\":\"2213\"}},\"id\":\"2238\",\"type\":\"CDSView\"},{\"attributes\":{\"fill_alpha\":{\"value\":0.1},\"fill_color\":{\"value\":\"#bcbd22\"},\"line_alpha\":{\"value\":0.1},\"line_color\":{\"value\":\"#bcbd22\"},\"size\":{\"value\":10},\"x\":{\"field\":\"Year\"},\"y\":{\"field\":\"Data\"}},\"id\":\"2594\",\"type\":\"Circle\"},{\"attributes\":{\"callback\":null},\"id\":\"2566\",\"type\":\"TapTool\"},{\"attributes\":{\"data_source\":{\"id\":\"2213\"},\"glyph\":{\"id\":\"2235\"},\"hover_glyph\":null,\"muted_glyph\":null,\"nonselection_glyph\":{\"id\":\"2236\"},\"view\":{\"id\":\"2238\"}},\"id\":\"2237\",\"type\":\"GlyphRenderer\"},{\"attributes\":{\"data_source\":{\"id\":\"2241\"},\"glyph\":{\"id\":\"2243\"},\"hover_glyph\":null,\"muted_glyph\":null,\"nonselection_glyph\":{\"id\":\"2244\"},\"view\":{\"id\":\"2246\"}},\"id\":\"2245\",\"type\":\"GlyphRenderer\"},{\"attributes\":{\"line_alpha\":0.1,\"line_color\":\"#bcbd22\",\"line_width\":2,\"x\":{\"field\":\"Year\"},\"y\":{\"field\":\"Data\"}},\"id\":\"2244\",\"type\":\"Line\"},{\"attributes\":{\"source\":{\"id\":\"2599\"}},\"id\":\"2604\",\"type\":\"CDSView\"},{\"attributes\":{},\"id\":\"2203\",\"type\":\"UnionRenderers\"},{\"attributes\":{\"data_source\":{\"id\":\"2599\"},\"glyph\":{\"id\":\"2601\"},\"hover_glyph\":null,\"muted_glyph\":null,\"nonselection_glyph\":{\"id\":\"2602\"},\"view\":{\"id\":\"2604\"}},\"id\":\"2603\",\"type\":\"GlyphRenderer\"},{\"attributes\":{},\"id\":\"2791\",\"type\":\"BasicTickFormatter\"},{\"attributes\":{\"data_source\":{\"id\":\"2574\"},\"glyph\":{\"id\":\"2593\"},\"hover_glyph\":null,\"muted_glyph\":null,\"nonselection_glyph\":{\"id\":\"2594\"},\"view\":{\"id\":\"2596\"}},\"id\":\"2595\",\"type\":\"GlyphRenderer\"},{\"attributes\":{},\"id\":\"2792\",\"type\":\"AllLabels\"},{\"attributes\":{\"background_fill_alpha\":0.7,\"items\":[{\"id\":\"1767\"},{\"id\":\"1793\"},{\"id\":\"1821\"},{\"id\":\"1851\"},{\"id\":\"1883\"},{\"id\":\"1917\"}]},\"id\":\"1766\",\"type\":\"Legend\"},{\"attributes\":{\"data\":{\"Data\":{\"__ndarray__\":\"t23btm3bxj84velNb3rjPyivobyG8to/OzDXDsy10z8MKtFXu6DSP58RyTLpGdE//Pjx48ePzz9hhirG04O5P3aDKfJZN7g/AAAAAAAAAAAAAAAAAAAAAAAAAAAAAAAAAAAAAAAAAAA=\",\"dtype\":\"float64\",\"order\":\"little\",\"shape\":[13]},\"Year\":[2007,2008,2009,2010,2011,2012,2013,2014,2015,2016,2017,2018,2019]},\"selected\":{\"id\":\"2294\"},\"selection_policy\":{\"id\":\"2293\"}},\"id\":\"2271\",\"type\":\"ColumnDataSource\"},{\"attributes\":{},\"id\":\"2204\",\"type\":\"Selection\"},{\"attributes\":{\"data_source\":{\"id\":\"1750\"},\"glyph\":{\"id\":\"1752\"},\"hover_glyph\":null,\"muted_glyph\":null,\"nonselection_glyph\":{\"id\":\"1753\"},\"view\":{\"id\":\"1755\"}},\"id\":\"1754\",\"type\":\"GlyphRenderer\"},{\"attributes\":{\"overlay\":{\"id\":\"2567\"}},\"id\":\"2564\",\"type\":\"BoxZoomTool\"},{\"attributes\":{},\"id\":\"2565\",\"type\":\"ResetTool\"},{\"attributes\":{\"data_source\":{\"id\":\"2271\"},\"glyph\":{\"id\":\"2297\"},\"hover_glyph\":null,\"muted_glyph\":null,\"nonselection_glyph\":{\"id\":\"2298\"},\"view\":{\"id\":\"2300\"}},\"id\":\"2299\",\"type\":\"GlyphRenderer\"},{\"attributes\":{\"line_color\":\"#17becf\",\"line_width\":2,\"x\":{\"field\":\"Year\"},\"y\":{\"field\":\"Data\"}},\"id\":\"2273\",\"type\":\"Line\"},{\"attributes\":{\"source\":{\"id\":\"2368\"}},\"id\":\"2373\",\"type\":\"CDSView\"},{\"attributes\":{\"bottom_units\":\"screen\",\"fill_alpha\":0.5,\"fill_color\":\"lightgrey\",\"left_units\":\"screen\",\"level\":\"overlay\",\"line_alpha\":1.0,\"line_color\":\"black\",\"line_dash\":[4,4],\"line_width\":2,\"right_units\":\"screen\",\"syncable\":false,\"top_units\":\"screen\"},\"id\":\"2567\",\"type\":\"BoxAnnotation\"},{\"attributes\":{},\"id\":\"2756\",\"type\":\"LinearScale\"},{\"attributes\":{},\"id\":\"2911\",\"type\":\"UnionRenderers\"},{\"attributes\":{},\"id\":\"2912\",\"type\":\"Selection\"},{\"attributes\":{\"label\":{\"value\":\"ANRNLS\"},\"renderers\":[{\"id\":\"3069\"}]},\"id\":\"3087\",\"type\":\"LegendItem\"},{\"attributes\":{},\"id\":\"2550\",\"type\":\"LinearScale\"},{\"attributes\":{\"source\":{\"id\":\"3065\"}},\"id\":\"3070\",\"type\":\"CDSView\"},{\"attributes\":{\"callback\":null,\"renderers\":[{\"id\":\"3061\"}],\"tooltips\":[[\"(x,y)\",\"(@Year,@Data)\"]]},\"id\":\"3063\",\"type\":\"HoverTool\"},{\"attributes\":{\"data\":{\"Data\":{\"__ndarray__\":\"UAd1UAd14D8fhetRuB7lP3ZiJ3ZiJ+Y/PRm/XerJ6D+rqqqqqqruPya0l9BeQus/8M88WlQi6T8wj60IGk7qP5F4FYlXkeg/TGcxncV05j8AAAAAAADaPwAAAAAAAAAAAAAAAAAAAAAAAAAAAAAAAA==\",\"dtype\":\"float64\",\"order\":\"little\",\"shape\":[14]},\"Year\":[2001,2002,2003,2004,2005,2007,2008,2011,2012,2013,2014,2015,2016,2017]},\"selected\":{\"id\":\"3001\"},\"selection_policy\":{\"id\":\"3000\"}},\"id\":\"2986\",\"type\":\"ColumnDataSource\"},{\"attributes\":{\"fill_alpha\":{\"value\":0.5},\"fill_color\":{\"value\":\"#bcbd22\"},\"line_alpha\":{\"value\":0.5},\"line_color\":{\"value\":\"#bcbd22\"},\"size\":{\"value\":10},\"x\":{\"field\":\"Year\"},\"y\":{\"field\":\"Data\"}},\"id\":\"2593\",\"type\":\"Circle\"},{\"attributes\":{\"fill_alpha\":{\"value\":0.1},\"fill_color\":{\"value\":\"#1f77b4\"},\"line_alpha\":{\"value\":0.1},\"line_color\":{\"value\":\"#1f77b4\"},\"size\":{\"value\":10},\"x\":{\"field\":\"Year\"},\"y\":{\"field\":\"Data\"}},\"id\":\"3060\",\"type\":\"Circle\"},{\"attributes\":{\"source\":{\"id\":\"3037\"}},\"id\":\"3062\",\"type\":\"CDSView\"},{\"attributes\":{\"data_source\":{\"id\":\"3037\"},\"glyph\":{\"id\":\"3059\"},\"hover_glyph\":null,\"muted_glyph\":null,\"nonselection_glyph\":{\"id\":\"3060\"},\"view\":{\"id\":\"3062\"}},\"id\":\"3061\",\"type\":\"GlyphRenderer\"},{\"attributes\":{\"source\":{\"id\":\"3095\"}},\"id\":\"3100\",\"type\":\"CDSView\"},{\"attributes\":{},\"id\":\"2121\",\"type\":\"UnionRenderers\"},{\"attributes\":{},\"id\":\"3117\",\"type\":\"UnionRenderers\"},{\"attributes\":{},\"id\":\"2122\",\"type\":\"Selection\"},{\"attributes\":{\"fill_alpha\":{\"value\":0.1},\"fill_color\":{\"value\":\"#1b9e77\"},\"line_alpha\":{\"value\":0.1},\"line_color\":{\"value\":\"#1b9e77\"},\"size\":{\"value\":10},\"x\":{\"field\":\"Year\"},\"y\":{\"field\":\"Data\"}},\"id\":\"2916\",\"type\":\"Circle\"},{\"attributes\":{\"source\":{\"id\":\"2889\"}},\"id\":\"2918\",\"type\":\"CDSView\"},{\"attributes\":{\"data_source\":{\"id\":\"2889\"},\"glyph\":{\"id\":\"2915\"},\"hover_glyph\":null,\"muted_glyph\":null,\"nonselection_glyph\":{\"id\":\"2916\"},\"view\":{\"id\":\"2918\"}},\"id\":\"2917\",\"type\":\"GlyphRenderer\"},{\"attributes\":{\"line_color\":\"#386cb0\",\"line_width\":2,\"x\":{\"field\":\"Year\"},\"y\":{\"field\":\"Data\"}},\"id\":\"3097\",\"type\":\"Line\"},{\"attributes\":{\"callback\":null,\"renderers\":[{\"id\":\"2917\"}],\"tooltips\":[[\"(x,y)\",\"(@Year,@Data)\"]]},\"id\":\"2919\",\"type\":\"HoverTool\"},{\"attributes\":{\"label\":{\"value\":\"NRNL\"},\"renderers\":[{\"id\":\"3099\"}]},\"id\":\"3119\",\"type\":\"LegendItem\"},{\"attributes\":{\"axis\":{\"id\":\"2966\"},\"ticker\":null},\"id\":\"2969\",\"type\":\"Grid\"},{\"attributes\":{\"data\":{\"Data\":{\"__ndarray__\":\"UM3lBkMd1D+4HoXrUbi+P1xnQ/6ZQco/KKkT0ETYvD9AV5QSglWVPyDhe3+D9rI/OD1hiQeUtT9wGqIKf4azP4CgFRiyuq0/UK7wLhfxrT8AAAAAAAC4P7h4eM+B5c4/6LZELjiDxT+amZmZmZnZPw==\",\"dtype\":\"float64\",\"order\":\"little\",\"shape\":[14]},\"Year\":[2001,2002,2003,2004,2005,2007,2008,2011,2012,2013,2014,2015,2016,2017]},\"selected\":{\"id\":\"3152\"},\"selection_policy\":{\"id\":\"3151\"}},\"id\":\"3127\",\"type\":\"ColumnDataSource\"},{\"attributes\":{},\"id\":\"2151\",\"type\":\"WheelZoomTool\"},{\"attributes\":{},\"id\":\"2967\",\"type\":\"BasicTicker\"},{\"attributes\":{\"fill_alpha\":{\"value\":0.1},\"fill_color\":{\"value\":\"#8c564b\"},\"line_alpha\":{\"value\":0.1},\"line_color\":{\"value\":\"#8c564b\"},\"size\":{\"value\":10},\"x\":{\"field\":\"Year\"},\"y\":{\"field\":\"Data\"}},\"id\":\"2126\",\"type\":\"Circle\"},{\"attributes\":{},\"id\":\"2615\",\"type\":\"UnionRenderers\"},{\"attributes\":{},\"id\":\"2616\",\"type\":\"Selection\"},{\"attributes\":{\"source\":{\"id\":\"2097\"}},\"id\":\"2128\",\"type\":\"CDSView\"},{\"attributes\":{\"data_source\":{\"id\":\"2097\"},\"glyph\":{\"id\":\"2125\"},\"hover_glyph\":null,\"muted_glyph\":null,\"nonselection_glyph\":{\"id\":\"2126\"},\"view\":{\"id\":\"2128\"}},\"id\":\"2127\",\"type\":\"GlyphRenderer\"},{\"attributes\":{\"callback\":null,\"renderers\":[{\"id\":\"2127\"}],\"tooltips\":[[\"(x,y)\",\"(@Year,@Data)\"]]},\"id\":\"2129\",\"type\":\"HoverTool\"},{\"attributes\":{},\"id\":\"3085\",\"type\":\"UnionRenderers\"},{\"attributes\":{},\"id\":\"2548\",\"type\":\"Range1d\"},{\"attributes\":{},\"id\":\"2150\",\"type\":\"PanTool\"},{\"attributes\":{},\"id\":\"3086\",\"type\":\"Selection\"},{\"attributes\":{},\"id\":\"2153\",\"type\":\"ResetTool\"},{\"attributes\":{},\"id\":\"2945\",\"type\":\"UnionRenderers\"},{\"attributes\":{},\"id\":\"2344\",\"type\":\"LinearScale\"},{\"attributes\":{},\"id\":\"2946\",\"type\":\"Selection\"},{\"attributes\":{},\"id\":\"2346\",\"type\":\"LinearScale\"},{\"attributes\":{\"end\":2019,\"start\":2001},\"id\":\"2546\",\"type\":\"Range1d\"},{\"attributes\":{\"data_source\":{\"id\":\"2653\"},\"glyph\":{\"id\":\"2655\"},\"hover_glyph\":null,\"muted_glyph\":null,\"nonselection_glyph\":{\"id\":\"2656\"},\"view\":{\"id\":\"2658\"}},\"id\":\"2657\",\"type\":\"GlyphRenderer\"},{\"attributes\":{\"text\":\"PfDHFR Predominant Variants in SAS\"},\"id\":\"2544\",\"type\":\"Title\"},{\"attributes\":{\"line_alpha\":0.1,\"line_color\":\"#386cb0\",\"line_width\":2,\"x\":{\"field\":\"Year\"},\"y\":{\"field\":\"Data\"}},\"id\":\"2656\",\"type\":\"Line\"},{\"attributes\":{},\"id\":\"2754\",\"type\":\"Range1d\"},{\"attributes\":{\"below\":[{\"id\":\"2966\"}],\"center\":[{\"id\":\"2969\"},{\"id\":\"2973\"},{\"id\":\"3002\"}],\"height\":400,\"left\":[{\"id\":\"2970\"}],\"renderers\":[{\"id\":\"2990\"},{\"id\":\"3007\"},{\"id\":\"3015\"},{\"id\":\"3033\"},{\"id\":\"3041\"},{\"id\":\"3061\"},{\"id\":\"3069\"},{\"id\":\"3091\"},{\"id\":\"3099\"},{\"id\":\"3123\"},{\"id\":\"3131\"},{\"id\":\"3157\"}],\"title\":{\"id\":\"2956\"},\"toolbar\":{\"id\":\"2980\"},\"toolbar_location\":null,\"width\":400,\"x_range\":{\"id\":\"2958\"},\"x_scale\":{\"id\":\"2962\"},\"y_range\":{\"id\":\"2960\"},\"y_scale\":{\"id\":\"2964\"}},\"id\":\"2955\",\"subtype\":\"Figure\",\"type\":\"Plot\"},{\"attributes\":{\"label\":{\"value\":\"NRNL\"},\"renderers\":[{\"id\":\"2657\"}]},\"id\":\"2675\",\"type\":\"LegendItem\"},{\"attributes\":{\"overlay\":{\"id\":\"2155\"}},\"id\":\"2152\",\"type\":\"BoxZoomTool\"},{\"attributes\":{\"fill_alpha\":{\"value\":0.1},\"fill_color\":{\"value\":\"#9467bd\"},\"line_alpha\":{\"value\":0.1},\"line_color\":{\"value\":\"#9467bd\"},\"size\":{\"value\":10},\"x\":{\"field\":\"Year\"},\"y\":{\"field\":\"Data\"}},\"id\":\"2620\",\"type\":\"Circle\"},{\"attributes\":{\"source\":{\"id\":\"2599\"}},\"id\":\"2622\",\"type\":\"CDSView\"},{\"attributes\":{\"fill_alpha\":{\"value\":0.5},\"fill_color\":{\"value\":\"#d95f02\"},\"line_alpha\":{\"value\":0.5},\"line_color\":{\"value\":\"#d95f02\"},\"size\":{\"value\":10},\"x\":{\"field\":\"Year\"},\"y\":{\"field\":\"Data\"}},\"id\":\"3089\",\"type\":\"Circle\"},{\"attributes\":{\"callback\":null},\"id\":\"2154\",\"type\":\"TapTool\"},{\"attributes\":{\"data_source\":{\"id\":\"2599\"},\"glyph\":{\"id\":\"2619\"},\"hover_glyph\":null,\"muted_glyph\":null,\"nonselection_glyph\":{\"id\":\"2620\"},\"view\":{\"id\":\"2622\"}},\"id\":\"2621\",\"type\":\"GlyphRenderer\"},{\"attributes\":{\"callback\":null,\"renderers\":[{\"id\":\"2621\"}],\"tooltips\":[[\"(x,y)\",\"(@Year,@Data)\"]]},\"id\":\"2623\",\"type\":\"HoverTool\"},{\"attributes\":{\"text\":\"PfDHFR Predominant Variants in OCE\"},\"id\":\"2338\",\"type\":\"Title\"},{\"attributes\":{\"end\":2019,\"start\":2001},\"id\":\"2340\",\"type\":\"Range1d\"},{\"attributes\":{\"data\":{\"Data\":{\"__ndarray__\":\"AAAAAAAAAAAAAAAAAAAAAFuE/DU7aqE/rgKCIdkiyj8=\",\"dtype\":\"float64\",\"order\":\"little\",\"shape\":[4]},\"Year\":[2012,2015,2016,2017]},\"selected\":{\"id\":\"2706\"},\"selection_policy\":{\"id\":\"2705\"}},\"id\":\"2683\",\"type\":\"ColumnDataSource\"},{\"attributes\":{\"line_alpha\":0.1,\"line_color\":\"#386cb0\",\"line_width\":2,\"x\":{\"field\":\"Year\"},\"y\":{\"field\":\"Data\"}},\"id\":\"3098\",\"type\":\"Line\"},{\"attributes\":{},\"id\":\"2342\",\"type\":\"Range1d\"},{\"attributes\":{\"line_color\":\"#7f7f7f\",\"line_width\":2,\"x\":{\"field\":\"Year\"},\"y\":{\"field\":\"Data\"}},\"id\":\"2627\",\"type\":\"Line\"},{\"attributes\":{\"fill_alpha\":{\"value\":0.5},\"fill_color\":{\"value\":\"#386cb0\"},\"line_alpha\":{\"value\":0.5},\"line_color\":{\"value\":\"#386cb0\"},\"size\":{\"value\":10},\"x\":{\"field\":\"Year\"},\"y\":{\"field\":\"Data\"}},\"id\":\"3121\",\"type\":\"Circle\"},{\"attributes\":{\"data_source\":{\"id\":\"2625\"},\"glyph\":{\"id\":\"2627\"},\"hover_glyph\":null,\"muted_glyph\":null,\"nonselection_glyph\":{\"id\":\"2628\"},\"view\":{\"id\":\"2630\"}},\"id\":\"2629\",\"type\":\"GlyphRenderer\"},{\"attributes\":{\"data_source\":{\"id\":\"2921\"},\"glyph\":{\"id\":\"2949\"},\"hover_glyph\":null,\"muted_glyph\":null,\"nonselection_glyph\":{\"id\":\"2950\"},\"view\":{\"id\":\"2952\"}},\"id\":\"2951\",\"type\":\"GlyphRenderer\"},{\"attributes\":{\"fill_alpha\":{\"value\":0.1},\"fill_color\":{\"value\":\"#d95f02\"},\"line_alpha\":{\"value\":0.1},\"line_color\":{\"value\":\"#d95f02\"},\"size\":{\"value\":10},\"x\":{\"field\":\"Year\"},\"y\":{\"field\":\"Data\"}},\"id\":\"3090\",\"type\":\"Circle\"},{\"attributes\":{\"axis\":{\"id\":\"2146\"},\"dimension\":1,\"ticker\":null},\"id\":\"2149\",\"type\":\"Grid\"},{\"attributes\":{\"source\":{\"id\":\"2625\"}},\"id\":\"2630\",\"type\":\"CDSView\"},{\"attributes\":{\"source\":{\"id\":\"2921\"}},\"id\":\"2952\",\"type\":\"CDSView\"},{\"attributes\":{\"axis_label\":\"Prevalence\",\"formatter\":{\"id\":\"2173\"},\"major_label_policy\":{\"id\":\"2174\"},\"ticker\":{\"id\":\"2147\"}},\"id\":\"2146\",\"type\":\"LinearAxis\"},{\"attributes\":{\"data_source\":{\"id\":\"3065\"},\"glyph\":{\"id\":\"3089\"},\"hover_glyph\":null,\"muted_glyph\":null,\"nonselection_glyph\":{\"id\":\"3090\"},\"view\":{\"id\":\"3092\"}},\"id\":\"3091\",\"type\":\"GlyphRenderer\"},{\"attributes\":{\"fill_alpha\":{\"value\":0.5},\"fill_color\":{\"value\":\"#7f7f7f\"},\"line_alpha\":{\"value\":0.5},\"line_color\":{\"value\":\"#7f7f7f\"},\"size\":{\"value\":10},\"x\":{\"field\":\"Year\"},\"y\":{\"field\":\"Data\"}},\"id\":\"2647\",\"type\":\"Circle\"},{\"attributes\":{\"callback\":null,\"renderers\":[{\"id\":\"3091\"}],\"tooltips\":[[\"(x,y)\",\"(@Year,@Data)\"]]},\"id\":\"3093\",\"type\":\"HoverTool\"},{\"attributes\":{\"fill_alpha\":{\"value\":0.5},\"fill_color\":{\"value\":\"#386cb0\"},\"line_alpha\":{\"value\":0.5},\"line_color\":{\"value\":\"#386cb0\"},\"size\":{\"value\":10},\"x\":{\"field\":\"Year\"},\"y\":{\"field\":\"Data\"}},\"id\":\"2677\",\"type\":\"Circle\"},{\"attributes\":{\"fill_alpha\":{\"value\":0.1},\"fill_color\":{\"value\":\"#8c564b\"},\"line_alpha\":{\"value\":0.1},\"line_color\":{\"value\":\"#8c564b\"},\"size\":{\"value\":10},\"x\":{\"field\":\"Year\"},\"y\":{\"field\":\"Data\"}},\"id\":\"2950\",\"type\":\"Circle\"},{\"attributes\":{\"source\":{\"id\":\"3065\"}},\"id\":\"3092\",\"type\":\"CDSView\"},{\"attributes\":{\"line_color\":\"#386cb0\",\"line_width\":2,\"x\":{\"field\":\"Year\"},\"y\":{\"field\":\"Data\"}},\"id\":\"2655\",\"type\":\"Line\"},{\"attributes\":{\"callback\":null,\"renderers\":[{\"id\":\"2951\"}],\"tooltips\":[[\"(x,y)\",\"(@Year,@Data)\"]]},\"id\":\"2953\",\"type\":\"HoverTool\"},{\"attributes\":{\"data_source\":{\"id\":\"3095\"},\"glyph\":{\"id\":\"3097\"},\"hover_glyph\":null,\"muted_glyph\":null,\"nonselection_glyph\":{\"id\":\"3098\"},\"view\":{\"id\":\"3100\"}},\"id\":\"3099\",\"type\":\"GlyphRenderer\"},{\"attributes\":{},\"id\":\"2147\",\"type\":\"BasicTicker\"},{\"attributes\":{\"line_alpha\":0.1,\"line_color\":\"#7f7f7f\",\"line_width\":2,\"x\":{\"field\":\"Year\"},\"y\":{\"field\":\"Data\"}},\"id\":\"2628\",\"type\":\"Line\"},{\"attributes\":{\"callback\":null,\"renderers\":[{\"id\":\"1921\"}],\"tooltips\":[[\"(x,y)\",\"(@Year,@Data)\"]]},\"id\":\"1923\",\"type\":\"HoverTool\"},{\"attributes\":{},\"id\":\"2293\",\"type\":\"UnionRenderers\"},{\"attributes\":{\"line_alpha\":0.1,\"line_color\":\"#7f7f7f\",\"line_width\":2,\"x\":{\"field\":\"Year\"},\"y\":{\"field\":\"Data\"}},\"id\":\"2165\",\"type\":\"Line\"},{\"attributes\":{},\"id\":\"2294\",\"type\":\"Selection\"},{\"attributes\":{\"data\":{\"Data\":{\"__ndarray__\":\"AAAAAAAAAAC4bPoTo/fNP/otBIxSTc4/vIwpX4clvD8=\",\"dtype\":\"float64\",\"order\":\"little\",\"shape\":[4]},\"Year\":[2012,2015,2016,2017]},\"selected\":{\"id\":\"2616\"},\"selection_policy\":{\"id\":\"2615\"}},\"id\":\"2599\",\"type\":\"ColumnDataSource\"},{\"attributes\":{\"source\":{\"id\":\"2162\"}},\"id\":\"2167\",\"type\":\"CDSView\"},{\"attributes\":{\"line_color\":\"#7f7f7f\",\"line_width\":2,\"x\":{\"field\":\"Year\"},\"y\":{\"field\":\"Data\"}},\"id\":\"2164\",\"type\":\"Line\"},{\"attributes\":{\"source\":{\"id\":\"2574\"}},\"id\":\"2579\",\"type\":\"CDSView\"},{\"attributes\":{\"source\":{\"id\":\"2653\"}},\"id\":\"2658\",\"type\":\"CDSView\"},{\"attributes\":{\"line_color\":\"#9467bd\",\"line_width\":2,\"x\":{\"field\":\"Year\"},\"y\":{\"field\":\"Data\"}},\"id\":\"2601\",\"type\":\"Line\"},{\"attributes\":{\"label\":{\"value\":\"NRNI\"},\"renderers\":[{\"id\":\"2578\"}]},\"id\":\"2591\",\"type\":\"LegendItem\"},{\"attributes\":{\"data_source\":{\"id\":\"2574\"},\"glyph\":{\"id\":\"2576\"},\"hover_glyph\":null,\"muted_glyph\":null,\"nonselection_glyph\":{\"id\":\"2577\"},\"view\":{\"id\":\"2579\"}},\"id\":\"2578\",\"type\":\"GlyphRenderer\"},{\"attributes\":{\"data\":{\"Data\":{\"__ndarray__\":\"AAAAAAAAAAAAAAAAAAAAAAAAAAAAAAAAAAAAAAAAAAAAAAAAAAAAAAkBOT+VEMA/iREjRowY0T8zVDGeHszQPwAAAAAAANA/AAAAAAAA2D8qRg1/m2LUP8CQ7zGtttM/y8HNfiFWxD8=\",\"dtype\":\"float64\",\"order\":\"little\",\"shape\":[13]},\"Year\":[2007,2008,2009,2010,2011,2012,2013,2014,2015,2016,2017,2018,2019]},\"selected\":{\"id\":\"2204\"},\"selection_policy\":{\"id\":\"2203\"}},\"id\":\"2187\",\"type\":\"ColumnDataSource\"},{\"attributes\":{\"source\":{\"id\":\"2303\"}},\"id\":\"2308\",\"type\":\"CDSView\"},{\"attributes\":{\"fill_alpha\":{\"value\":0.5},\"fill_color\":{\"value\":\"#8c564b\"},\"line_alpha\":{\"value\":0.5},\"line_color\":{\"value\":\"#8c564b\"},\"size\":{\"value\":10},\"x\":{\"field\":\"Year\"},\"y\":{\"field\":\"Data\"}},\"id\":\"2331\",\"type\":\"Circle\"},{\"attributes\":{\"line_alpha\":0.1,\"line_color\":\"#bcbd22\",\"line_width\":2,\"x\":{\"field\":\"Year\"},\"y\":{\"field\":\"Data\"}},\"id\":\"2577\",\"type\":\"Line\"},{\"attributes\":{\"callback\":null,\"renderers\":[{\"id\":\"2299\"}],\"tooltips\":[[\"(x,y)\",\"(@Year,@Data)\"]]},\"id\":\"2301\",\"type\":\"HoverTool\"},{\"attributes\":{\"active_drag\":{\"id\":\"2150\"},\"active_multi\":null,\"active_scroll\":{\"id\":\"2151\"},\"tools\":[{\"id\":\"2150\"},{\"id\":\"2151\"},{\"id\":\"2152\"},{\"id\":\"2153\"},{\"id\":\"2154\"},{\"id\":\"2185\"},{\"id\":\"2211\"},{\"id\":\"2239\"},{\"id\":\"2269\"},{\"id\":\"2301\"},{\"id\":\"2335\"}]},\"id\":\"2156\",\"type\":\"Toolbar\"},{\"attributes\":{\"background_fill_alpha\":0.7,\"items\":[{\"id\":\"2591\"},{\"id\":\"2617\"},{\"id\":\"2645\"},{\"id\":\"2675\"},{\"id\":\"2707\"},{\"id\":\"2741\"}]},\"id\":\"2590\",\"type\":\"Legend\"},{\"attributes\":{\"source\":{\"id\":\"2271\"}},\"id\":\"2300\",\"type\":\"CDSView\"},{\"attributes\":{\"source\":{\"id\":\"1891\"}},\"id\":\"1896\",\"type\":\"CDSView\"},{\"attributes\":{},\"id\":\"1791\",\"type\":\"UnionRenderers\"},{\"attributes\":{},\"id\":\"2357\",\"type\":\"WheelZoomTool\"},{\"attributes\":{},\"id\":\"1792\",\"type\":\"Selection\"},{\"attributes\":{\"background_fill_alpha\":0.7,\"items\":[{\"id\":\"2179\"},{\"id\":\"2205\"},{\"id\":\"2233\"},{\"id\":\"2263\"},{\"id\":\"2295\"},{\"id\":\"2329\"}]},\"id\":\"2178\",\"type\":\"Legend\"},{\"attributes\":{\"data_source\":{\"id\":\"2187\"},\"glyph\":{\"id\":\"2189\"},\"hover_glyph\":null,\"muted_glyph\":null,\"nonselection_glyph\":{\"id\":\"2190\"},\"view\":{\"id\":\"2192\"}},\"id\":\"2191\",\"type\":\"GlyphRenderer\"},{\"attributes\":{\"data\":{\"Data\":{\"__ndarray__\":\"SZIkSZIk6T84velNb3rTP4fyGsprKN8/+RklfkaJ3z9WHqeGY+XhPyOSZdIzItk/hQoVKlSo0D8aBSI4dmm0PxxMkc+6waQ/AAAAAAAAAAAAAAAAAAAAAAAAAAAAAAAAAAAAAAAAAAA=\",\"dtype\":\"float64\",\"order\":\"little\",\"shape\":[13]},\"Year\":[2007,2008,2009,2010,2011,2012,2013,2014,2015,2016,2017,2018,2019]},\"selected\":{\"id\":\"2232\"},\"selection_policy\":{\"id\":\"2231\"}},\"id\":\"2213\",\"type\":\"ColumnDataSource\"},{\"attributes\":{},\"id\":\"1881\",\"type\":\"UnionRenderers\"},{\"attributes\":{\"end\":2019,\"start\":2001},\"id\":\"1928\",\"type\":\"Range1d\"},{\"attributes\":{\"data_source\":{\"id\":\"2162\"},\"glyph\":{\"id\":\"2164\"},\"hover_glyph\":null,\"muted_glyph\":null,\"nonselection_glyph\":{\"id\":\"2165\"},\"view\":{\"id\":\"2167\"}},\"id\":\"2166\",\"type\":\"GlyphRenderer\"},{\"attributes\":{},\"id\":\"2582\",\"type\":\"BasicTickFormatter\"},{\"attributes\":{},\"id\":\"2359\",\"type\":\"ResetTool\"},{\"attributes\":{},\"id\":\"1932\",\"type\":\"LinearScale\"},{\"attributes\":{},\"id\":\"2583\",\"type\":\"AllLabels\"},{\"attributes\":{},\"id\":\"2960\",\"type\":\"Range1d\"},{\"attributes\":{\"line_color\":\"#9467bd\",\"line_width\":2,\"x\":{\"field\":\"Year\"},\"y\":{\"field\":\"Data\"}},\"id\":\"2189\",\"type\":\"Line\"},{\"attributes\":{},\"id\":\"1882\",\"type\":\"Selection\"},{\"attributes\":{},\"id\":\"1945\",\"type\":\"WheelZoomTool\"},{\"attributes\":{\"line_alpha\":0.1,\"line_color\":\"#9467bd\",\"line_width\":2,\"x\":{\"field\":\"Year\"},\"y\":{\"field\":\"Data\"}},\"id\":\"2190\",\"type\":\"Line\"},{\"attributes\":{},\"id\":\"2356\",\"type\":\"PanTool\"},{\"attributes\":{},\"id\":\"2962\",\"type\":\"LinearScale\"},{\"attributes\":{\"label\":{\"value\":\"IRNL\"},\"renderers\":[{\"id\":\"2166\"}]},\"id\":\"2179\",\"type\":\"LegendItem\"},{\"attributes\":{\"callback\":null,\"renderers\":[{\"id\":\"2333\"}],\"tooltips\":[[\"(x,y)\",\"(@Year,@Data)\"]]},\"id\":\"2335\",\"type\":\"HoverTool\"},{\"attributes\":{},\"id\":\"2585\",\"type\":\"BasicTickFormatter\"},{\"attributes\":{},\"id\":\"2586\",\"type\":\"AllLabels\"},{\"attributes\":{\"label\":{\"value\":\"Other\"},\"renderers\":[{\"id\":\"2307\"}]},\"id\":\"2329\",\"type\":\"LegendItem\"},{\"attributes\":{\"fill_alpha\":{\"value\":0.1},\"fill_color\":{\"value\":\"#ff7f0e\"},\"line_alpha\":{\"value\":0.1},\"line_color\":{\"value\":\"#ff7f0e\"},\"size\":{\"value\":10},\"x\":{\"field\":\"Year\"},\"y\":{\"field\":\"Data\"}},\"id\":\"1796\",\"type\":\"Circle\"},{\"attributes\":{\"overlay\":{\"id\":\"1949\"}},\"id\":\"1946\",\"type\":\"BoxZoomTool\"},{\"attributes\":{\"source\":{\"id\":\"1775\"}},\"id\":\"1798\",\"type\":\"CDSView\"},{\"attributes\":{\"data_source\":{\"id\":\"1775\"},\"glyph\":{\"id\":\"1795\"},\"hover_glyph\":null,\"muted_glyph\":null,\"nonselection_glyph\":{\"id\":\"1796\"},\"view\":{\"id\":\"1798\"}},\"id\":\"1797\",\"type\":\"GlyphRenderer\"},{\"attributes\":{\"fill_alpha\":{\"value\":0.1},\"fill_color\":{\"value\":\"#9467bd\"},\"line_alpha\":{\"value\":0.1},\"line_color\":{\"value\":\"#9467bd\"},\"size\":{\"value\":10},\"x\":{\"field\":\"Year\"},\"y\":{\"field\":\"Data\"}},\"id\":\"1886\",\"type\":\"Circle\"},{\"attributes\":{\"callback\":null,\"renderers\":[{\"id\":\"1797\"}],\"tooltips\":[[\"(x,y)\",\"(@Year,@Data)\"]]},\"id\":\"1799\",\"type\":\"HoverTool\"},{\"attributes\":{\"label\":{\"value\":\"AI[C/R]NIS\"},\"renderers\":[{\"id\":\"1805\"}]},\"id\":\"1821\",\"type\":\"LegendItem\"},{\"attributes\":{\"fill_alpha\":{\"value\":0.5},\"fill_color\":{\"value\":\"#9467bd\"},\"line_alpha\":{\"value\":0.5},\"line_color\":{\"value\":\"#9467bd\"},\"size\":{\"value\":10},\"x\":{\"field\":\"Year\"},\"y\":{\"field\":\"Data\"}},\"id\":\"1885\",\"type\":\"Circle\"},{\"attributes\":{},\"id\":\"1944\",\"type\":\"PanTool\"},{\"attributes\":{\"data_source\":{\"id\":\"1859\"},\"glyph\":{\"id\":\"1885\"},\"hover_glyph\":null,\"muted_glyph\":null,\"nonselection_glyph\":{\"id\":\"1886\"},\"view\":{\"id\":\"1888\"}},\"id\":\"1887\",\"type\":\"GlyphRenderer\"},{\"attributes\":{\"axis\":{\"id\":\"2348\"},\"ticker\":null},\"id\":\"2351\",\"type\":\"Grid\"},{\"attributes\":{\"axis\":{\"id\":\"2558\"},\"dimension\":1,\"ticker\":null},\"id\":\"2561\",\"type\":\"Grid\"},{\"attributes\":{\"line_color\":\"#8c564b\",\"line_width\":2,\"x\":{\"field\":\"Year\"},\"y\":{\"field\":\"Data\"}},\"id\":\"1893\",\"type\":\"Line\"},{\"attributes\":{},\"id\":\"2327\",\"type\":\"UnionRenderers\"},{\"attributes\":{\"line_alpha\":0.1,\"line_color\":\"#8c564b\",\"line_width\":2,\"x\":{\"field\":\"Year\"},\"y\":{\"field\":\"Data\"}},\"id\":\"1894\",\"type\":\"Line\"},{\"attributes\":{},\"id\":\"2562\",\"type\":\"PanTool\"},{\"attributes\":{},\"id\":\"2328\",\"type\":\"Selection\"},{\"attributes\":{\"callback\":null,\"renderers\":[{\"id\":\"1887\"}],\"tooltips\":[[\"(x,y)\",\"(@Year,@Data)\"]]},\"id\":\"1889\",\"type\":\"HoverTool\"},{\"attributes\":{},\"id\":\"2170\",\"type\":\"BasicTickFormatter\"},{\"attributes\":{\"source\":{\"id\":\"1859\"}},\"id\":\"1888\",\"type\":\"CDSView\"},{\"attributes\":{},\"id\":\"2171\",\"type\":\"AllLabels\"},{\"attributes\":{\"line_color\":\"#d62728\",\"line_width\":2,\"x\":{\"field\":\"Year\"},\"y\":{\"field\":\"Data\"}},\"id\":\"1831\",\"type\":\"Line\"},{\"attributes\":{},\"id\":\"2563\",\"type\":\"WheelZoomTool\"},{\"attributes\":{\"data_source\":{\"id\":\"1829\"},\"glyph\":{\"id\":\"1831\"},\"hover_glyph\":null,\"muted_glyph\":null,\"nonselection_glyph\":{\"id\":\"1832\"},\"view\":{\"id\":\"1834\"}},\"id\":\"1833\",\"type\":\"GlyphRenderer\"},{\"attributes\":{\"line_alpha\":0.1,\"line_color\":\"#d62728\",\"line_width\":2,\"x\":{\"field\":\"Year\"},\"y\":{\"field\":\"Data\"}},\"id\":\"1832\",\"type\":\"Line\"},{\"attributes\":{},\"id\":\"1930\",\"type\":\"Range1d\"},{\"attributes\":{},\"id\":\"2173\",\"type\":\"BasicTickFormatter\"},{\"attributes\":{\"label\":{\"value\":\"Other\"},\"renderers\":[{\"id\":\"1895\"}]},\"id\":\"1917\",\"type\":\"LegendItem\"},{\"attributes\":{\"data\":{\"Data\":{\"__ndarray__\":\"AAAAAAAAAAAAAAAAAAAAAAAAAAAAAAAAPDw8PDw87D8=\",\"dtype\":\"float64\",\"order\":\"little\",\"shape\":[4]},\"Year\":[2012,2013,2014,2016]},\"selected\":{\"id\":\"1882\"},\"selection_policy\":{\"id\":\"1881\"}},\"id\":\"1859\",\"type\":\"ColumnDataSource\"},{\"attributes\":{},\"id\":\"2174\",\"type\":\"AllLabels\"},{\"attributes\":{},\"id\":\"2143\",\"type\":\"BasicTicker\"},{\"attributes\":{\"data_source\":{\"id\":\"1801\"},\"glyph\":{\"id\":\"1803\"},\"hover_glyph\":null,\"muted_glyph\":null,\"nonselection_glyph\":{\"id\":\"1804\"},\"view\":{\"id\":\"1806\"}},\"id\":\"1805\",\"type\":\"GlyphRenderer\"},{\"attributes\":{\"source\":{\"id\":\"1801\"}},\"id\":\"1806\",\"type\":\"CDSView\"},{\"attributes\":{\"axis\":{\"id\":\"2142\"},\"ticker\":null},\"id\":\"2145\",\"type\":\"Grid\"},{\"attributes\":{\"data\":{\"Data\":{\"__ndarray__\":\"AAAAAAAAAAAAAAAAAAAAAAAAAAAAAAAAAAAAAAAAAAAAAAAAAAAAAFQJATk/lbA/jBgxYsSIwT8fJ1qu333cP/msG0yRz+I/q6qqqqqq4j9CewntJbTXP6iesYvXP98/SuMjE+id6j8=\",\"dtype\":\"float64\",\"order\":\"little\",\"shape\":[13]},\"Year\":[2007,2008,2009,2010,2011,2012,2013,2014,2015,2016,2017,2018,2019]},\"selected\":{\"id\":\"2177\"},\"selection_policy\":{\"id\":\"2176\"}},\"id\":\"2162\",\"type\":\"ColumnDataSource\"},{\"attributes\":{\"fill_alpha\":{\"value\":0.5},\"fill_color\":{\"value\":\"#2ca02c\"},\"line_alpha\":{\"value\":0.5},\"line_color\":{\"value\":\"#2ca02c\"},\"size\":{\"value\":10},\"x\":{\"field\":\"Year\"},\"y\":{\"field\":\"Data\"}},\"id\":\"1823\",\"type\":\"Circle\"},{\"attributes\":{\"overlay\":{\"id\":\"2361\"}},\"id\":\"2358\",\"type\":\"BoxZoomTool\"},{\"attributes\":{\"line_color\":\"#ff7f0e\",\"line_width\":2,\"x\":{\"field\":\"Year\"},\"y\":{\"field\":\"Data\"}},\"id\":\"1983\",\"type\":\"Line\"},{\"attributes\":{},\"id\":\"2588\",\"type\":\"UnionRenderers\"},{\"attributes\":{\"line_color\":\"#1f77b4\",\"line_width\":2,\"x\":{\"field\":\"Year\"},\"y\":{\"field\":\"Data\"}},\"id\":\"1958\",\"type\":\"Line\"},{\"attributes\":{\"fill_alpha\":{\"value\":0.1},\"fill_color\":{\"value\":\"#8c564b\"},\"line_alpha\":{\"value\":0.1},\"line_color\":{\"value\":\"#8c564b\"},\"size\":{\"value\":10},\"x\":{\"field\":\"Year\"},\"y\":{\"field\":\"Data\"}},\"id\":\"2332\",\"type\":\"Circle\"},{\"attributes\":{},\"id\":\"2589\",\"type\":\"Selection\"},{\"attributes\":{\"data_source\":{\"id\":\"2303\"},\"glyph\":{\"id\":\"2331\"},\"hover_glyph\":null,\"muted_glyph\":null,\"nonselection_glyph\":{\"id\":\"2332\"},\"view\":{\"id\":\"2334\"}},\"id\":\"2333\",\"type\":\"GlyphRenderer\"},{\"attributes\":{\"data_source\":{\"id\":\"1891\"},\"glyph\":{\"id\":\"1893\"},\"hover_glyph\":null,\"muted_glyph\":null,\"nonselection_glyph\":{\"id\":\"1894\"},\"view\":{\"id\":\"1896\"}},\"id\":\"1895\",\"type\":\"GlyphRenderer\"},{\"attributes\":{\"fill_alpha\":{\"value\":0.5},\"fill_color\":{\"value\":\"#8c564b\"},\"line_alpha\":{\"value\":0.5},\"line_color\":{\"value\":\"#8c564b\"},\"size\":{\"value\":10},\"x\":{\"field\":\"Year\"},\"y\":{\"field\":\"Data\"}},\"id\":\"1919\",\"type\":\"Circle\"},{\"attributes\":{\"source\":{\"id\":\"2303\"}},\"id\":\"2334\",\"type\":\"CDSView\"},{\"attributes\":{\"callback\":null},\"id\":\"2360\",\"type\":\"TapTool\"},{\"attributes\":{\"data\":{\"Data\":{\"__ndarray__\":\"iMb60Fgfyj9XEJMriMmVPwgEAoFAIHA/8asxkR6orD8RERERERGRPw==\",\"dtype\":\"float64\",\"order\":\"little\",\"shape\":[5]},\"Year\":[2007,2010,2011,2013,2014]},\"selected\":{\"id\":\"1998\"},\"selection_policy\":{\"id\":\"1997\"}},\"id\":\"1981\",\"type\":\"ColumnDataSource\"},{\"attributes\":{},\"id\":\"1819\",\"type\":\"UnionRenderers\"},{\"attributes\":{},\"id\":\"1820\",\"type\":\"Selection\"},{\"attributes\":{},\"id\":\"1758\",\"type\":\"BasicTickFormatter\"},{\"attributes\":{},\"id\":\"1759\",\"type\":\"AllLabels\"},{\"attributes\":{\"fill_alpha\":{\"value\":0.5},\"fill_color\":{\"value\":\"#d62728\"},\"line_alpha\":{\"value\":0.5},\"line_color\":{\"value\":\"#d62728\"},\"size\":{\"value\":10},\"x\":{\"field\":\"Year\"},\"y\":{\"field\":\"Data\"}},\"id\":\"2059\",\"type\":\"Circle\"},{\"attributes\":{},\"id\":\"1761\",\"type\":\"BasicTickFormatter\"},{\"attributes\":{\"label\":{\"value\":\"AI[R/C]NIS\"},\"renderers\":[{\"id\":\"1833\"}]},\"id\":\"1851\",\"type\":\"LegendItem\"},{\"attributes\":{},\"id\":\"1762\",\"type\":\"AllLabels\"},{\"attributes\":{\"source\":{\"id\":\"1829\"}},\"id\":\"1834\",\"type\":\"CDSView\"},{\"attributes\":{\"callback\":null,\"renderers\":[{\"id\":\"1825\"}],\"tooltips\":[[\"(x,y)\",\"(@Year,@Data)\"]]},\"id\":\"1827\",\"type\":\"HoverTool\"},{\"attributes\":{},\"id\":\"3118\",\"type\":\"Selection\"},{\"attributes\":{\"fill_alpha\":{\"value\":0.1},\"fill_color\":{\"value\":\"#2ca02c\"},\"line_alpha\":{\"value\":0.1},\"line_color\":{\"value\":\"#2ca02c\"},\"size\":{\"value\":10},\"x\":{\"field\":\"Year\"},\"y\":{\"field\":\"Data\"}},\"id\":\"1824\",\"type\":\"Circle\"},{\"attributes\":{\"source\":{\"id\":\"1801\"}},\"id\":\"1826\",\"type\":\"CDSView\"},{\"attributes\":{\"data_source\":{\"id\":\"1801\"},\"glyph\":{\"id\":\"1823\"},\"hover_glyph\":null,\"muted_glyph\":null,\"nonselection_glyph\":{\"id\":\"1824\"},\"view\":{\"id\":\"1826\"}},\"id\":\"1825\",\"type\":\"GlyphRenderer\"},{\"attributes\":{},\"id\":\"3000\",\"type\":\"UnionRenderers\"},{\"attributes\":{},\"id\":\"3001\",\"type\":\"Selection\"},{\"attributes\":{\"data\":{\"Data\":{\"__ndarray__\":\"5hS8nIKX4z9dQUyuICbnP6fT6XQ6ne4/VM5u4Vdj6j9VVVVVVVXtPw==\",\"dtype\":\"float64\",\"order\":\"little\",\"shape\":[5]},\"Year\":[2007,2010,2011,2013,2014]},\"selected\":{\"id\":\"1971\"},\"selection_policy\":{\"id\":\"1970\"}},\"id\":\"1956\",\"type\":\"ColumnDataSource\"},{\"attributes\":{},\"id\":\"1997\",\"type\":\"UnionRenderers\"},{\"attributes\":{\"line_color\":\"#9467bd\",\"line_width\":2,\"x\":{\"field\":\"Year\"},\"y\":{\"field\":\"Data\"}},\"id\":\"1861\",\"type\":\"Line\"},{\"attributes\":{\"line_color\":\"#8c564b\",\"line_width\":2,\"x\":{\"field\":\"Year\"},\"y\":{\"field\":\"Data\"}},\"id\":\"3129\",\"type\":\"Line\"},{\"attributes\":{},\"id\":\"1998\",\"type\":\"Selection\"},{\"attributes\":{\"source\":{\"id\":\"1859\"}},\"id\":\"1864\",\"type\":\"CDSView\"},{\"attributes\":{\"callback\":null},\"id\":\"1948\",\"type\":\"TapTool\"},{\"attributes\":{\"label\":{\"value\":\"IRNI\"},\"renderers\":[{\"id\":\"1863\"}]},\"id\":\"1883\",\"type\":\"LegendItem\"},{\"attributes\":{\"fill_alpha\":{\"value\":0.1},\"fill_color\":{\"value\":\"#386cb0\"},\"line_alpha\":{\"value\":0.1},\"line_color\":{\"value\":\"#386cb0\"},\"size\":{\"value\":10},\"x\":{\"field\":\"Year\"},\"y\":{\"field\":\"Data\"}},\"id\":\"3122\",\"type\":\"Circle\"},{\"attributes\":{\"source\":{\"id\":\"3095\"}},\"id\":\"3124\",\"type\":\"CDSView\"},{\"attributes\":{\"data_source\":{\"id\":\"3095\"},\"glyph\":{\"id\":\"3121\"},\"hover_glyph\":null,\"muted_glyph\":null,\"nonselection_glyph\":{\"id\":\"3122\"},\"view\":{\"id\":\"3124\"}},\"id\":\"3123\",\"type\":\"GlyphRenderer\"},{\"attributes\":{\"line_alpha\":0.1,\"line_color\":\"#9467bd\",\"line_width\":2,\"x\":{\"field\":\"Year\"},\"y\":{\"field\":\"Data\"}},\"id\":\"1862\",\"type\":\"Line\"},{\"attributes\":{\"callback\":null,\"renderers\":[{\"id\":\"3123\"}],\"tooltips\":[[\"(x,y)\",\"(@Year,@Data)\"]]},\"id\":\"3125\",\"type\":\"HoverTool\"},{\"attributes\":{\"source\":{\"id\":\"3127\"}},\"id\":\"3132\",\"type\":\"CDSView\"},{\"attributes\":{},\"id\":\"1764\",\"type\":\"UnionRenderers\"},{\"attributes\":{\"data_source\":{\"id\":\"1859\"},\"glyph\":{\"id\":\"1861\"},\"hover_glyph\":null,\"muted_glyph\":null,\"nonselection_glyph\":{\"id\":\"1862\"},\"view\":{\"id\":\"1864\"}},\"id\":\"1863\",\"type\":\"GlyphRenderer\"},{\"attributes\":{\"toolbar\":{\"id\":\"3309\"},\"toolbar_location\":\"above\"},\"id\":\"3310\",\"type\":\"ToolbarBox\"},{\"attributes\":{\"fill_alpha\":{\"value\":0.5},\"fill_color\":{\"value\":\"#17becf\"},\"line_alpha\":{\"value\":0.5},\"line_color\":{\"value\":\"#17becf\"},\"size\":{\"value\":10},\"x\":{\"field\":\"Year\"},\"y\":{\"field\":\"Data\"}},\"id\":\"3005\",\"type\":\"Circle\"},{\"attributes\":{},\"id\":\"1765\",\"type\":\"Selection\"},{\"attributes\":{\"label\":{\"value\":\"AIRNIS\"},\"renderers\":[{\"id\":\"3041\"}]},\"id\":\"3057\",\"type\":\"LegendItem\"},{\"attributes\":{\"fill_alpha\":{\"value\":0.5},\"fill_color\":{\"value\":\"#7f7f7f\"},\"line_alpha\":{\"value\":0.5},\"line_color\":{\"value\":\"#7f7f7f\"},\"size\":{\"value\":10},\"x\":{\"field\":\"Year\"},\"y\":{\"field\":\"Data\"}},\"id\":\"3031\",\"type\":\"Circle\"},{\"attributes\":{\"source\":{\"id\":\"2007\"}},\"id\":\"2012\",\"type\":\"CDSView\"},{\"attributes\":{\"fill_alpha\":{\"value\":0.1},\"fill_color\":{\"value\":\"#17becf\"},\"line_alpha\":{\"value\":0.1},\"line_color\":{\"value\":\"#17becf\"},\"size\":{\"value\":10},\"x\":{\"field\":\"Year\"},\"y\":{\"field\":\"Data\"}},\"id\":\"3006\",\"type\":\"Circle\"},{\"attributes\":{\"data_source\":{\"id\":\"2035\"},\"glyph\":{\"id\":\"2037\"},\"hover_glyph\":null,\"muted_glyph\":null,\"nonselection_glyph\":{\"id\":\"2038\"},\"view\":{\"id\":\"2040\"}},\"id\":\"2039\",\"type\":\"GlyphRenderer\"},{\"attributes\":{\"source\":{\"id\":\"2986\"}},\"id\":\"3008\",\"type\":\"CDSView\"},{\"attributes\":{\"fill_alpha\":{\"value\":0.5},\"fill_color\":{\"value\":\"#8c564b\"},\"line_alpha\":{\"value\":0.5},\"line_color\":{\"value\":\"#8c564b\"},\"size\":{\"value\":10},\"x\":{\"field\":\"Year\"},\"y\":{\"field\":\"Data\"}},\"id\":\"3155\",\"type\":\"Circle\"},{\"attributes\":{\"data_source\":{\"id\":\"2986\"},\"glyph\":{\"id\":\"3005\"},\"hover_glyph\":null,\"muted_glyph\":null,\"nonselection_glyph\":{\"id\":\"3006\"},\"view\":{\"id\":\"3008\"}},\"id\":\"3007\",\"type\":\"GlyphRenderer\"},{\"attributes\":{},\"id\":\"1849\",\"type\":\"UnionRenderers\"},{\"attributes\":{\"callback\":null,\"renderers\":[{\"id\":\"3007\"}],\"tooltips\":[[\"(x,y)\",\"(@Year,@Data)\"]]},\"id\":\"3009\",\"type\":\"HoverTool\"},{\"attributes\":{\"fill_alpha\":{\"value\":0.1},\"fill_color\":{\"value\":\"#ff7f0e\"},\"line_alpha\":{\"value\":0.1},\"line_color\":{\"value\":\"#ff7f0e\"},\"size\":{\"value\":10},\"x\":{\"field\":\"Year\"},\"y\":{\"field\":\"Data\"}},\"id\":\"2002\",\"type\":\"Circle\"},{\"attributes\":{\"source\":{\"id\":\"1981\"}},\"id\":\"2004\",\"type\":\"CDSView\"},{\"attributes\":{\"data_source\":{\"id\":\"1981\"},\"glyph\":{\"id\":\"2001\"},\"hover_glyph\":null,\"muted_glyph\":null,\"nonselection_glyph\":{\"id\":\"2002\"},\"view\":{\"id\":\"2004\"}},\"id\":\"2003\",\"type\":\"GlyphRenderer\"},{\"attributes\":{\"label\":{\"value\":\"Other\"},\"renderers\":[{\"id\":\"3131\"}]},\"id\":\"3153\",\"type\":\"LegendItem\"},{\"attributes\":{},\"id\":\"1850\",\"type\":\"Selection\"},{\"attributes\":{\"callback\":null,\"renderers\":[{\"id\":\"2003\"}],\"tooltips\":[[\"(x,y)\",\"(@Year,@Data)\"]]},\"id\":\"2005\",\"type\":\"HoverTool\"},{\"attributes\":{\"data_source\":{\"id\":\"3011\"},\"glyph\":{\"id\":\"3013\"},\"hover_glyph\":null,\"muted_glyph\":null,\"nonselection_glyph\":{\"id\":\"3014\"},\"view\":{\"id\":\"3016\"}},\"id\":\"3015\",\"type\":\"GlyphRenderer\"},{\"attributes\":{\"data\":{\"Data\":{\"__ndarray__\":\"9DzP8zzP0z9X1BV1RV3hP/c0wnJPI9w/O7ETO7ET2z8hhBBCCCHkPz8hzspPiOM/eqoVWuIz5T8L4XWrEF7nP4pLhmAdbd4/\",\"dtype\":\"float64\",\"order\":\"little\",\"shape\":[9]},\"Year\":[2007,2008,2009,2010,2011,2012,2013,2014,2015]},\"selected\":{\"id\":\"2795\"},\"selection_policy\":{\"id\":\"2794\"}},\"id\":\"2780\",\"type\":\"ColumnDataSource\"},{\"attributes\":{\"data\":{\"Data\":{\"__ndarray__\":\"OQUvp+DllD8AAAAAAAAAAAwGg8FgMIg/oHJ2C78akz8RERERERGhPw==\",\"dtype\":\"float64\",\"order\":\"little\",\"shape\":[5]},\"Year\":[2007,2010,2011,2013,2014]},\"selected\":{\"id\":\"2056\"},\"selection_policy\":{\"id\":\"2055\"}},\"id\":\"2035\",\"type\":\"ColumnDataSource\"},{\"attributes\":{\"line_color\":\"#7f7f7f\",\"line_width\":2,\"x\":{\"field\":\"Year\"},\"y\":{\"field\":\"Data\"}},\"id\":\"3013\",\"type\":\"Line\"},{\"attributes\":{\"line_alpha\":0.1,\"line_color\":\"#e377c2\",\"line_width\":2,\"x\":{\"field\":\"Year\"},\"y\":{\"field\":\"Data\"}},\"id\":\"2010\",\"type\":\"Line\"},{\"attributes\":{\"data_source\":{\"id\":\"3127\"},\"glyph\":{\"id\":\"3129\"},\"hover_glyph\":null,\"muted_glyph\":null,\"nonselection_glyph\":{\"id\":\"3130\"},\"view\":{\"id\":\"3132\"}},\"id\":\"3131\",\"type\":\"GlyphRenderer\"},{\"attributes\":{\"data_source\":{\"id\":\"2007\"},\"glyph\":{\"id\":\"2009\"},\"hover_glyph\":null,\"muted_glyph\":null,\"nonselection_glyph\":{\"id\":\"2010\"},\"view\":{\"id\":\"2012\"}},\"id\":\"2011\",\"type\":\"GlyphRenderer\"},{\"attributes\":{\"fill_alpha\":{\"value\":0.5},\"fill_color\":{\"value\":\"#1f77b4\"},\"line_alpha\":{\"value\":0.5},\"line_color\":{\"value\":\"#1f77b4\"},\"size\":{\"value\":10},\"x\":{\"field\":\"Year\"},\"y\":{\"field\":\"Data\"}},\"id\":\"3059\",\"type\":\"Circle\"},{\"attributes\":{\"line_alpha\":0.1,\"line_color\":\"#7f7f7f\",\"line_width\":2,\"x\":{\"field\":\"Year\"},\"y\":{\"field\":\"Data\"}},\"id\":\"3014\",\"type\":\"Line\"},{\"attributes\":{\"fill_alpha\":{\"value\":0.5},\"fill_color\":{\"value\":\"#d62728\"},\"line_alpha\":{\"value\":0.5},\"line_color\":{\"value\":\"#d62728\"},\"size\":{\"value\":10},\"x\":{\"field\":\"Year\"},\"y\":{\"field\":\"Data\"}},\"id\":\"1853\",\"type\":\"Circle\"},{\"attributes\":{\"line_alpha\":0.1,\"line_color\":\"#2ca02c\",\"line_width\":2,\"x\":{\"field\":\"Year\"},\"y\":{\"field\":\"Data\"}},\"id\":\"2068\",\"type\":\"Line\"},{\"attributes\":{\"fill_alpha\":{\"value\":0.5},\"fill_color\":{\"value\":\"#1f77b4\"},\"line_alpha\":{\"value\":0.5},\"line_color\":{\"value\":\"#1f77b4\"},\"size\":{\"value\":10},\"x\":{\"field\":\"Year\"},\"y\":{\"field\":\"Data\"}},\"id\":\"1769\",\"type\":\"Circle\"},{\"attributes\":{\"line_alpha\":0.1,\"line_color\":\"#8c564b\",\"line_width\":2,\"x\":{\"field\":\"Year\"},\"y\":{\"field\":\"Data\"}},\"id\":\"3130\",\"type\":\"Line\"},{\"attributes\":{\"label\":{\"value\":\"ANRNIS\"},\"renderers\":[{\"id\":\"2011\"}]},\"id\":\"2027\",\"type\":\"LegendItem\"},{\"attributes\":{\"source\":{\"id\":\"3037\"}},\"id\":\"3042\",\"type\":\"CDSView\"},{\"attributes\":{\"data_source\":{\"id\":\"2065\"},\"glyph\":{\"id\":\"2067\"},\"hover_glyph\":null,\"muted_glyph\":null,\"nonselection_glyph\":{\"id\":\"2068\"},\"view\":{\"id\":\"2070\"}},\"id\":\"2069\",\"type\":\"GlyphRenderer\"},{\"attributes\":{\"source\":{\"id\":\"1750\"}},\"id\":\"1772\",\"type\":\"CDSView\"},{\"attributes\":{\"data\":{\"Data\":{\"__ndarray__\":\"MH0E/vDzpz9g9Q8iGXKcP3CmCdtPxqg/iPZ4IR0evj8=\",\"dtype\":\"float64\",\"order\":\"little\",\"shape\":[4]},\"Year\":[2012,2013,2014,2016]},\"selected\":{\"id\":\"1916\"},\"selection_policy\":{\"id\":\"1915\"}},\"id\":\"1891\",\"type\":\"ColumnDataSource\"},{\"attributes\":{\"callback\":null,\"renderers\":[{\"id\":\"1855\"}],\"tooltips\":[[\"(x,y)\",\"(@Year,@Data)\"]]},\"id\":\"1857\",\"type\":\"HoverTool\"},{\"attributes\":{\"fill_alpha\":{\"value\":0.5},\"fill_color\":{\"value\":\"#e377c2\"},\"line_alpha\":{\"value\":0.5},\"line_color\":{\"value\":\"#e377c2\"},\"size\":{\"value\":10},\"x\":{\"field\":\"Year\"},\"y\":{\"field\":\"Data\"}},\"id\":\"2029\",\"type\":\"Circle\"},{\"attributes\":{\"source\":{\"id\":\"3011\"}},\"id\":\"3016\",\"type\":\"CDSView\"},{\"attributes\":{},\"id\":\"1947\",\"type\":\"ResetTool\"},{\"attributes\":{\"line_alpha\":0.1,\"line_color\":\"#d62728\",\"line_width\":2,\"x\":{\"field\":\"Year\"},\"y\":{\"field\":\"Data\"}},\"id\":\"2038\",\"type\":\"Line\"},{\"attributes\":{\"label\":{\"value\":\"IRNL\"},\"renderers\":[{\"id\":\"3015\"}]},\"id\":\"3029\",\"type\":\"LegendItem\"},{\"attributes\":{\"fill_alpha\":{\"value\":0.1},\"fill_color\":{\"value\":\"#d62728\"},\"line_alpha\":{\"value\":0.1},\"line_color\":{\"value\":\"#d62728\"},\"size\":{\"value\":10},\"x\":{\"field\":\"Year\"},\"y\":{\"field\":\"Data\"}},\"id\":\"1854\",\"type\":\"Circle\"},{\"attributes\":{\"callback\":null,\"renderers\":[{\"id\":\"1771\"}],\"tooltips\":[[\"(x,y)\",\"(@Year,@Data)\"]]},\"id\":\"1773\",\"type\":\"HoverTool\"},{\"attributes\":{\"label\":{\"value\":\"AI[R/C]NIS\"},\"renderers\":[{\"id\":\"2039\"}]},\"id\":\"2057\",\"type\":\"LegendItem\"},{\"attributes\":{\"data_source\":{\"id\":\"1750\"},\"glyph\":{\"id\":\"1769\"},\"hover_glyph\":null,\"muted_glyph\":null,\"nonselection_glyph\":{\"id\":\"1770\"},\"view\":{\"id\":\"1772\"}},\"id\":\"1771\",\"type\":\"GlyphRenderer\"},{\"attributes\":{\"data_source\":{\"id\":\"3037\"},\"glyph\":{\"id\":\"3039\"},\"hover_glyph\":null,\"muted_glyph\":null,\"nonselection_glyph\":{\"id\":\"3040\"},\"view\":{\"id\":\"3042\"}},\"id\":\"3041\",\"type\":\"GlyphRenderer\"},{\"attributes\":{\"source\":{\"id\":\"1829\"}},\"id\":\"1856\",\"type\":\"CDSView\"},{\"attributes\":{\"data_source\":{\"id\":\"1829\"},\"glyph\":{\"id\":\"1853\"},\"hover_glyph\":null,\"muted_glyph\":null,\"nonselection_glyph\":{\"id\":\"1854\"},\"view\":{\"id\":\"1856\"}},\"id\":\"1855\",\"type\":\"GlyphRenderer\"},{\"attributes\":{\"data\":{\"Data\":{\"__ndarray__\":\"UltJbSW1xT9VVVVVVVW1P4QQQgghhMA/AAAAAAAAAAA=\",\"dtype\":\"float64\",\"order\":\"little\",\"shape\":[4]},\"Year\":[2012,2013,2014,2016]},\"selected\":{\"id\":\"1792\"},\"selection_policy\":{\"id\":\"1791\"}},\"id\":\"1775\",\"type\":\"ColumnDataSource\"},{\"attributes\":{\"source\":{\"id\":\"2035\"}},\"id\":\"2040\",\"type\":\"CDSView\"},{\"attributes\":{\"fill_alpha\":{\"value\":0.1},\"fill_color\":{\"value\":\"#1f77b4\"},\"line_alpha\":{\"value\":0.1},\"line_color\":{\"value\":\"#1f77b4\"},\"size\":{\"value\":10},\"x\":{\"field\":\"Year\"},\"y\":{\"field\":\"Data\"}},\"id\":\"1770\",\"type\":\"Circle\"},{\"attributes\":{\"line_color\":\"#1f77b4\",\"line_width\":2,\"x\":{\"field\":\"Year\"},\"y\":{\"field\":\"Data\"}},\"id\":\"3039\",\"type\":\"Line\"},{\"attributes\":{\"axis\":{\"id\":\"2554\"},\"ticker\":null},\"id\":\"2557\",\"type\":\"Grid\"},{\"attributes\":{},\"id\":\"3151\",\"type\":\"UnionRenderers\"},{\"attributes\":{},\"id\":\"2377\",\"type\":\"AllLabels\"},{\"attributes\":{\"data\":{\"Data\":{\"__ndarray__\":\"kiRJkiRJ0j8XfjUm0gPFP9C6wRT5rMs/\",\"dtype\":\"float64\",\"order\":\"little\",\"shape\":[3]},\"Year\":[2008,2013,2014]},\"selected\":{\"id\":\"2410\"},\"selection_policy\":{\"id\":\"2409\"}},\"id\":\"2393\",\"type\":\"ColumnDataSource\"},{\"attributes\":{},\"id\":\"3152\",\"type\":\"Selection\"},{\"attributes\":{},\"id\":\"1915\",\"type\":\"UnionRenderers\"},{\"attributes\":{},\"id\":\"1916\",\"type\":\"Selection\"},{\"attributes\":{},\"id\":\"2559\",\"type\":\"BasicTicker\"},{\"attributes\":{},\"id\":\"3027\",\"type\":\"UnionRenderers\"},{\"attributes\":{\"axis_label\":\"Year\",\"formatter\":{\"id\":\"2582\"},\"major_label_policy\":{\"id\":\"2583\"},\"ticker\":{\"id\":\"2555\"}},\"id\":\"2554\",\"type\":\"LinearAxis\"},{\"attributes\":{},\"id\":\"2025\",\"type\":\"UnionRenderers\"},{\"attributes\":{},\"id\":\"2555\",\"type\":\"BasicTicker\"},{\"attributes\":{},\"id\":\"3028\",\"type\":\"Selection\"},{\"attributes\":{},\"id\":\"2552\",\"type\":\"LinearScale\"},{\"attributes\":{\"fill_alpha\":{\"value\":0.1},\"fill_color\":{\"value\":\"#8c564b\"},\"line_alpha\":{\"value\":0.1},\"line_color\":{\"value\":\"#8c564b\"},\"size\":{\"value\":10},\"x\":{\"field\":\"Year\"},\"y\":{\"field\":\"Data\"}},\"id\":\"3156\",\"type\":\"Circle\"},{\"attributes\":{},\"id\":\"2643\",\"type\":\"UnionRenderers\"},{\"attributes\":{},\"id\":\"2026\",\"type\":\"Selection\"},{\"attributes\":{\"toolbars\":[{\"id\":\"1744\"},{\"id\":\"1950\"},{\"id\":\"2156\"},{\"id\":\"2362\"},{\"id\":\"2568\"},{\"id\":\"2774\"},{\"id\":\"2980\"}],\"tools\":[{\"id\":\"1738\"},{\"id\":\"1739\"},{\"id\":\"1740\"},{\"id\":\"1741\"},{\"id\":\"1742\"},{\"id\":\"1773\"},{\"id\":\"1799\"},{\"id\":\"1827\"},{\"id\":\"1857\"},{\"id\":\"1889\"},{\"id\":\"1923\"},{\"id\":\"1944\"},{\"id\":\"1945\"},{\"id\":\"1946\"},{\"id\":\"1947\"},{\"id\":\"1948\"},{\"id\":\"1979\"},{\"id\":\"2005\"},{\"id\":\"2033\"},{\"id\":\"2063\"},{\"id\":\"2095\"},{\"id\":\"2129\"},{\"id\":\"2150\"},{\"id\":\"2151\"},{\"id\":\"2152\"},{\"id\":\"2153\"},{\"id\":\"2154\"},{\"id\":\"2185\"},{\"id\":\"2211\"},{\"id\":\"2239\"},{\"id\":\"2269\"},{\"id\":\"2301\"},{\"id\":\"2335\"},{\"id\":\"2356\"},{\"id\":\"2357\"},{\"id\":\"2358\"},{\"id\":\"2359\"},{\"id\":\"2360\"},{\"id\":\"2391\"},{\"id\":\"2417\"},{\"id\":\"2445\"},{\"id\":\"2475\"},{\"id\":\"2507\"},{\"id\":\"2541\"},{\"id\":\"2562\"},{\"id\":\"2563\"},{\"id\":\"2564\"},{\"id\":\"2565\"},{\"id\":\"2566\"},{\"id\":\"2597\"},{\"id\":\"2623\"},{\"id\":\"2651\"},{\"id\":\"2681\"},{\"id\":\"2713\"},{\"id\":\"2747\"},{\"id\":\"2768\"},{\"id\":\"2769\"},{\"id\":\"2770\"},{\"id\":\"2771\"},{\"id\":\"2772\"},{\"id\":\"2803\"},{\"id\":\"2829\"},{\"id\":\"2857\"},{\"id\":\"2887\"},{\"id\":\"2919\"},{\"id\":\"2953\"},{\"id\":\"2974\"},{\"id\":\"2975\"},{\"id\":\"2976\"},{\"id\":\"2977\"},{\"id\":\"2978\"},{\"id\":\"3009\"},{\"id\":\"3035\"},{\"id\":\"3063\"},{\"id\":\"3093\"},{\"id\":\"3125\"},{\"id\":\"3159\"}]},\"id\":\"3309\",\"type\":\"ProxyToolbar\"},{\"attributes\":{\"below\":[{\"id\":\"1936\"}],\"center\":[{\"id\":\"1939\"},{\"id\":\"1943\"},{\"id\":\"1972\"}],\"height\":400,\"left\":[{\"id\":\"1940\"}],\"renderers\":[{\"id\":\"1960\"},{\"id\":\"1977\"},{\"id\":\"1985\"},{\"id\":\"2003\"},{\"id\":\"2011\"},{\"id\":\"2031\"},{\"id\":\"2039\"},{\"id\":\"2061\"},{\"id\":\"2069\"},{\"id\":\"2093\"},{\"id\":\"2101\"},{\"id\":\"2127\"}],\"title\":{\"id\":\"1926\"},\"toolbar\":{\"id\":\"1950\"},\"toolbar_location\":null,\"width\":400,\"x_range\":{\"id\":\"1928\"},\"x_scale\":{\"id\":\"1932\"},\"y_range\":{\"id\":\"1930\"},\"y_scale\":{\"id\":\"1934\"}},\"id\":\"1925\",\"subtype\":\"Figure\",\"type\":\"Plot\"},{\"attributes\":{},\"id\":\"2644\",\"type\":\"Selection\"},{\"attributes\":{\"source\":{\"id\":\"3127\"}},\"id\":\"3158\",\"type\":\"CDSView\"},{\"attributes\":{},\"id\":\"1726\",\"type\":\"LinearScale\"},{\"attributes\":{\"data_source\":{\"id\":\"3127\"},\"glyph\":{\"id\":\"3155\"},\"hover_glyph\":null,\"muted_glyph\":null,\"nonselection_glyph\":{\"id\":\"3156\"},\"view\":{\"id\":\"3158\"}},\"id\":\"3157\",\"type\":\"GlyphRenderer\"},{\"attributes\":{\"callback\":null,\"renderers\":[{\"id\":\"3157\"}],\"tooltips\":[[\"(x,y)\",\"(@Year,@Data)\"]]},\"id\":\"3159\",\"type\":\"HoverTool\"},{\"attributes\":{},\"id\":\"2349\",\"type\":\"BasicTicker\"},{\"attributes\":{\"fill_alpha\":{\"value\":0.1},\"fill_color\":{\"value\":\"#8c564b\"},\"line_alpha\":{\"value\":0.1},\"line_color\":{\"value\":\"#8c564b\"},\"size\":{\"value\":10},\"x\":{\"field\":\"Year\"},\"y\":{\"field\":\"Data\"}},\"id\":\"1920\",\"type\":\"Circle\"},{\"attributes\":{\"end\":2019,\"start\":2001},\"id\":\"2752\",\"type\":\"Range1d\"},{\"attributes\":{\"bottom_units\":\"screen\",\"fill_alpha\":0.5,\"fill_color\":\"lightgrey\",\"left_units\":\"screen\",\"level\":\"overlay\",\"line_alpha\":1.0,\"line_color\":\"black\",\"line_dash\":[4,4],\"line_width\":2,\"right_units\":\"screen\",\"syncable\":false,\"top_units\":\"screen\"},\"id\":\"2361\",\"type\":\"BoxAnnotation\"},{\"attributes\":{\"source\":{\"id\":\"1891\"}},\"id\":\"1922\",\"type\":\"CDSView\"},{\"attributes\":{\"data_source\":{\"id\":\"1891\"},\"glyph\":{\"id\":\"1919\"},\"hover_glyph\":null,\"muted_glyph\":null,\"nonselection_glyph\":{\"id\":\"1920\"},\"view\":{\"id\":\"1922\"}},\"id\":\"1921\",\"type\":\"GlyphRenderer\"},{\"attributes\":{\"line_alpha\":0.1,\"line_color\":\"#7fc97f\",\"line_width\":2,\"x\":{\"field\":\"Year\"},\"y\":{\"field\":\"Data\"}},\"id\":\"2371\",\"type\":\"Line\"},{\"attributes\":{\"axis_label\":\"Year\",\"formatter\":{\"id\":\"2376\"},\"major_label_policy\":{\"id\":\"2377\"},\"ticker\":{\"id\":\"2349\"}},\"id\":\"2348\",\"type\":\"LinearAxis\"},{\"attributes\":{\"callback\":null,\"renderers\":[{\"id\":\"2031\"}],\"tooltips\":[[\"(x,y)\",\"(@Year,@Data)\"]]},\"id\":\"2033\",\"type\":\"HoverTool\"},{\"attributes\":{\"fill_alpha\":{\"value\":0.5},\"fill_color\":{\"value\":\"#1f77b4\"},\"line_alpha\":{\"value\":0.5},\"line_color\":{\"value\":\"#1f77b4\"},\"size\":{\"value\":10},\"x\":{\"field\":\"Year\"},\"y\":{\"field\":\"Data\"}},\"id\":\"1975\",\"type\":\"Circle\"},{\"attributes\":{\"fill_alpha\":{\"value\":0.1},\"fill_color\":{\"value\":\"#7f7f7f\"},\"line_alpha\":{\"value\":0.1},\"line_color\":{\"value\":\"#7f7f7f\"},\"size\":{\"value\":10},\"x\":{\"field\":\"Year\"},\"y\":{\"field\":\"Data\"}},\"id\":\"3032\",\"type\":\"Circle\"},{\"attributes\":{\"callback\":null,\"renderers\":[{\"id\":\"2649\"}],\"tooltips\":[[\"(x,y)\",\"(@Year,@Data)\"]]},\"id\":\"2651\",\"type\":\"HoverTool\"},{\"attributes\":{\"bottom_units\":\"screen\",\"fill_alpha\":0.5,\"fill_color\":\"lightgrey\",\"left_units\":\"screen\",\"level\":\"overlay\",\"line_alpha\":1.0,\"line_color\":\"black\",\"line_dash\":[4,4],\"line_width\":2,\"right_units\":\"screen\",\"syncable\":false,\"top_units\":\"screen\"},\"id\":\"1949\",\"type\":\"BoxAnnotation\"},{\"attributes\":{\"source\":{\"id\":\"3011\"}},\"id\":\"3034\",\"type\":\"CDSView\"},{\"attributes\":{\"data_source\":{\"id\":\"1956\"},\"glyph\":{\"id\":\"1958\"},\"hover_glyph\":null,\"muted_glyph\":null,\"nonselection_glyph\":{\"id\":\"1959\"},\"view\":{\"id\":\"1961\"}},\"id\":\"1960\",\"type\":\"GlyphRenderer\"},{\"attributes\":{\"data_source\":{\"id\":\"3011\"},\"glyph\":{\"id\":\"3031\"},\"hover_glyph\":null,\"muted_glyph\":null,\"nonselection_glyph\":{\"id\":\"3032\"},\"view\":{\"id\":\"3034\"}},\"id\":\"3033\",\"type\":\"GlyphRenderer\"},{\"attributes\":{\"fill_alpha\":{\"value\":0.1},\"fill_color\":{\"value\":\"#e377c2\"},\"line_alpha\":{\"value\":0.1},\"line_color\":{\"value\":\"#e377c2\"},\"size\":{\"value\":10},\"x\":{\"field\":\"Year\"},\"y\":{\"field\":\"Data\"}},\"id\":\"2030\",\"type\":\"Circle\"},{\"attributes\":{\"callback\":null,\"renderers\":[{\"id\":\"3033\"}],\"tooltips\":[[\"(x,y)\",\"(@Year,@Data)\"]]},\"id\":\"3035\",\"type\":\"HoverTool\"},{\"attributes\":{\"source\":{\"id\":\"2007\"}},\"id\":\"2032\",\"type\":\"CDSView\"},{\"attributes\":{\"axis_label\":\"Year\",\"formatter\":{\"id\":\"1758\"},\"major_label_policy\":{\"id\":\"1759\"},\"ticker\":{\"id\":\"1731\"}},\"id\":\"1730\",\"type\":\"LinearAxis\"},{\"attributes\":{\"data_source\":{\"id\":\"2007\"},\"glyph\":{\"id\":\"2029\"},\"hover_glyph\":null,\"muted_glyph\":null,\"nonselection_glyph\":{\"id\":\"2030\"},\"view\":{\"id\":\"2032\"}},\"id\":\"2031\",\"type\":\"GlyphRenderer\"},{\"attributes\":{\"source\":{\"id\":\"1981\"}},\"id\":\"1986\",\"type\":\"CDSView\"},{\"attributes\":{\"axis\":{\"id\":\"1730\"},\"ticker\":null},\"id\":\"1733\",\"type\":\"Grid\"},{\"attributes\":{\"fill_alpha\":{\"value\":0.1},\"fill_color\":{\"value\":\"#7f7f7f\"},\"line_alpha\":{\"value\":0.1},\"line_color\":{\"value\":\"#7f7f7f\"},\"size\":{\"value\":10},\"x\":{\"field\":\"Year\"},\"y\":{\"field\":\"Data\"}},\"id\":\"2648\",\"type\":\"Circle\"},{\"attributes\":{\"source\":{\"id\":\"2625\"}},\"id\":\"2650\",\"type\":\"CDSView\"},{\"attributes\":{\"data_source\":{\"id\":\"2625\"},\"glyph\":{\"id\":\"2647\"},\"hover_glyph\":null,\"muted_glyph\":null,\"nonselection_glyph\":{\"id\":\"2648\"},\"view\":{\"id\":\"2650\"}},\"id\":\"2649\",\"type\":\"GlyphRenderer\"},{\"attributes\":{\"label\":{\"value\":\"AICNIS\"},\"renderers\":[{\"id\":\"1985\"}]},\"id\":\"1999\",\"type\":\"LegendItem\"},{\"attributes\":{},\"id\":\"1941\",\"type\":\"BasicTicker\"},{\"attributes\":{},\"id\":\"2140\",\"type\":\"LinearScale\"},{\"attributes\":{\"axis\":{\"id\":\"2352\"},\"dimension\":1,\"ticker\":null},\"id\":\"2355\",\"type\":\"Grid\"},{\"attributes\":{\"bottom_units\":\"screen\",\"fill_alpha\":0.5,\"fill_color\":\"lightgrey\",\"left_units\":\"screen\",\"level\":\"overlay\",\"line_alpha\":1.0,\"line_color\":\"black\",\"line_dash\":[4,4],\"line_width\":2,\"right_units\":\"screen\",\"syncable\":false,\"top_units\":\"screen\"},\"id\":\"2155\",\"type\":\"BoxAnnotation\"},{\"attributes\":{\"axis_label\":\"Year\",\"formatter\":{\"id\":\"2170\"},\"major_label_policy\":{\"id\":\"2171\"},\"ticker\":{\"id\":\"2143\"}},\"id\":\"2142\",\"type\":\"LinearAxis\"},{\"attributes\":{\"active_drag\":{\"id\":\"1944\"},\"active_multi\":null,\"active_scroll\":{\"id\":\"1945\"},\"tools\":[{\"id\":\"1944\"},{\"id\":\"1945\"},{\"id\":\"1946\"},{\"id\":\"1947\"},{\"id\":\"1948\"},{\"id\":\"1979\"},{\"id\":\"2005\"},{\"id\":\"2033\"},{\"id\":\"2063\"},{\"id\":\"2095\"},{\"id\":\"2129\"}]},\"id\":\"1950\",\"type\":\"Toolbar\"},{\"attributes\":{\"axis\":{\"id\":\"1940\"},\"dimension\":1,\"ticker\":null},\"id\":\"1943\",\"type\":\"Grid\"},{\"attributes\":{\"data\":{\"Data\":{\"__ndarray__\":\"AAAAAAAAAABXEJMriMmVPwgEAoFAIHA/eqBydgu/mj8RERERERGRPw==\",\"dtype\":\"float64\",\"order\":\"little\",\"shape\":[5]},\"Year\":[2007,2010,2011,2013,2014]},\"selected\":{\"id\":\"2088\"},\"selection_policy\":{\"id\":\"2087\"}},\"id\":\"2065\",\"type\":\"ColumnDataSource\"},{\"attributes\":{\"data\":{\"Data\":{\"__ndarray__\":\"AAAAAAAAAABnt/CrMZGuP9C6wRT5rKs/\",\"dtype\":\"float64\",\"order\":\"little\",\"shape\":[3]},\"Year\":[2008,2013,2014]},\"selected\":{\"id\":\"2438\"},\"selection_policy\":{\"id\":\"2437\"}},\"id\":\"2419\",\"type\":\"ColumnDataSource\"},{\"attributes\":{\"line_color\":\"#2ca02c\",\"line_width\":2,\"x\":{\"field\":\"Year\"},\"y\":{\"field\":\"Data\"}},\"id\":\"2067\",\"type\":\"Line\"},{\"attributes\":{\"end\":2019,\"start\":2001},\"id\":\"1722\",\"type\":\"Range1d\"},{\"attributes\":{\"data_source\":{\"id\":\"2393\"},\"glyph\":{\"id\":\"2395\"},\"hover_glyph\":null,\"muted_glyph\":null,\"nonselection_glyph\":{\"id\":\"2396\"},\"view\":{\"id\":\"2398\"}},\"id\":\"2397\",\"type\":\"GlyphRenderer\"},{\"attributes\":{\"text\":\"PfDHFR Predominant Variants in WSEA\"},\"id\":\"2956\",\"type\":\"Title\"},{\"attributes\":{\"data\":{\"Data\":{\"__ndarray__\":\"YOp1i8BYrz9omUUotoLIP6Dd6GM+IJA/wCFUqdkDpT9AD9JT5BCRPw==\",\"dtype\":\"float64\",\"order\":\"little\",\"shape\":[5]},\"Year\":[2007,2010,2011,2013,2014]},\"selected\":{\"id\":\"2122\"},\"selection_policy\":{\"id\":\"2121\"}},\"id\":\"2097\",\"type\":\"ColumnDataSource\"},{\"attributes\":{\"source\":{\"id\":\"1956\"}},\"id\":\"1961\",\"type\":\"CDSView\"},{\"attributes\":{\"line_alpha\":0.1,\"line_color\":\"#1f77b4\",\"line_width\":2,\"x\":{\"field\":\"Year\"},\"y\":{\"field\":\"Data\"}},\"id\":\"1959\",\"type\":\"Line\"},{\"attributes\":{\"line_color\":\"#e377c2\",\"line_width\":2,\"x\":{\"field\":\"Year\"},\"y\":{\"field\":\"Data\"}},\"id\":\"2395\",\"type\":\"Line\"},{\"attributes\":{\"line_color\":\"#d95f02\",\"line_width\":2,\"x\":{\"field\":\"Year\"},\"y\":{\"field\":\"Data\"}},\"id\":\"3067\",\"type\":\"Line\"},{\"attributes\":{\"active_drag\":{\"id\":\"2356\"},\"active_multi\":null,\"active_scroll\":{\"id\":\"2357\"},\"tools\":[{\"id\":\"2356\"},{\"id\":\"2357\"},{\"id\":\"2358\"},{\"id\":\"2359\"},{\"id\":\"2360\"},{\"id\":\"2391\"},{\"id\":\"2417\"},{\"id\":\"2445\"},{\"id\":\"2475\"},{\"id\":\"2507\"},{\"id\":\"2541\"}]},\"id\":\"2362\",\"type\":\"Toolbar\"},{\"attributes\":{\"data_source\":{\"id\":\"3065\"},\"glyph\":{\"id\":\"3067\"},\"hover_glyph\":null,\"muted_glyph\":null,\"nonselection_glyph\":{\"id\":\"3068\"},\"view\":{\"id\":\"3070\"}},\"id\":\"3069\",\"type\":\"GlyphRenderer\"},{\"attributes\":{\"axis_label\":\"Prevalence\",\"formatter\":{\"id\":\"1761\"},\"major_label_policy\":{\"id\":\"1762\"},\"ticker\":{\"id\":\"1735\"}},\"id\":\"1734\",\"type\":\"LinearAxis\"},{\"attributes\":{\"text\":\"PfDHFR Predominant Variants in EAF\"},\"id\":\"1926\",\"type\":\"Title\"},{\"attributes\":{\"line_alpha\":0.1,\"line_color\":\"#d95f02\",\"line_width\":2,\"x\":{\"field\":\"Year\"},\"y\":{\"field\":\"Data\"}},\"id\":\"3068\",\"type\":\"Line\"},{\"attributes\":{\"line_color\":\"#f0027f\",\"line_width\":2,\"x\":{\"field\":\"Year\"},\"y\":{\"field\":\"Data\"}},\"id\":\"2685\",\"type\":\"Line\"},{\"attributes\":{\"text\":\"PfDHFR Predominant Variants in CAF\"},\"id\":\"1720\",\"type\":\"Title\"},{\"attributes\":{\"data_source\":{\"id\":\"2683\"},\"glyph\":{\"id\":\"2685\"},\"hover_glyph\":null,\"muted_glyph\":null,\"nonselection_glyph\":{\"id\":\"2686\"},\"view\":{\"id\":\"2688\"}},\"id\":\"2687\",\"type\":\"GlyphRenderer\"},{\"attributes\":{\"line_color\":\"#d62728\",\"line_width\":2,\"x\":{\"field\":\"Year\"},\"y\":{\"field\":\"Data\"}},\"id\":\"2037\",\"type\":\"Line\"},{\"attributes\":{},\"id\":\"2353\",\"type\":\"BasicTicker\"},{\"attributes\":{\"line_alpha\":0.1,\"line_color\":\"#e377c2\",\"line_width\":2,\"x\":{\"field\":\"Year\"},\"y\":{\"field\":\"Data\"}},\"id\":\"2396\",\"type\":\"Line\"},{\"attributes\":{\"source\":{\"id\":\"2393\"}},\"id\":\"2416\",\"type\":\"CDSView\"},{\"attributes\":{\"data_source\":{\"id\":\"1956\"},\"glyph\":{\"id\":\"1975\"},\"hover_glyph\":null,\"muted_glyph\":null,\"nonselection_glyph\":{\"id\":\"1976\"},\"view\":{\"id\":\"1978\"}},\"id\":\"1977\",\"type\":\"GlyphRenderer\"},{\"attributes\":{\"line_color\":\"#7fc97f\",\"line_width\":2,\"x\":{\"field\":\"Year\"},\"y\":{\"field\":\"Data\"}},\"id\":\"2370\",\"type\":\"Line\"},{\"attributes\":{\"line_alpha\":0.1,\"line_color\":\"#f0027f\",\"line_width\":2,\"x\":{\"field\":\"Year\"},\"y\":{\"field\":\"Data\"}},\"id\":\"2686\",\"type\":\"Line\"},{\"attributes\":{\"data\":{\"Data\":{\"__ndarray__\":\"AAAAAAAAAAAAAAAAAAAAAAAAAAAAAAAAAAAAAAAAAAAAAAAAAAAAAAAAAAAAAAAAAAAAAAAAAAAAAAAAAAAAAAAAAAAAAAAAAAAAAAAAAAAAAAAAAAAAAEdY7mmE5d4/lN1vlN1vxD8cx3Ecx3HMPw==\",\"dtype\":\"float64\",\"order\":\"little\",\"shape\":[14]},\"Year\":[2001,2002,2003,2004,2005,2007,2008,2011,2012,2013,2014,2015,2016,2017]},\"selected\":{\"id\":\"3118\"},\"selection_policy\":{\"id\":\"3117\"}},\"id\":\"3095\",\"type\":\"ColumnDataSource\"},{\"attributes\":{},\"id\":\"2380\",\"type\":\"AllLabels\"},{\"attributes\":{\"data\":{\"Data\":{\"__ndarray__\":\"AAAAAAAA8D98NNWT+UfDP1DudygK9L0/OJ0rSgnBwD8=\",\"dtype\":\"float64\",\"order\":\"little\",\"shape\":[4]},\"Year\":[2012,2015,2016,2017]},\"selected\":{\"id\":\"2740\"},\"selection_policy\":{\"id\":\"2739\"}},\"id\":\"2715\",\"type\":\"ColumnDataSource\"},{\"attributes\":{\"axis\":{\"id\":\"1936\"},\"ticker\":null},\"id\":\"1939\",\"type\":\"Grid\"},{\"attributes\":{\"fill_alpha\":{\"value\":0.1},\"fill_color\":{\"value\":\"#1f77b4\"},\"line_alpha\":{\"value\":0.1},\"line_color\":{\"value\":\"#1f77b4\"},\"size\":{\"value\":10},\"x\":{\"field\":\"Year\"},\"y\":{\"field\":\"Data\"}},\"id\":\"1976\",\"type\":\"Circle\"},{\"attributes\":{\"end\":2019,\"start\":2001},\"id\":\"2958\",\"type\":\"Range1d\"},{\"attributes\":{\"label\":{\"value\":\"AIRNIS\"},\"renderers\":[{\"id\":\"1960\"}]},\"id\":\"1973\",\"type\":\"LegendItem\"},{\"attributes\":{},\"id\":\"3055\",\"type\":\"UnionRenderers\"},{\"attributes\":{},\"id\":\"1937\",\"type\":\"BasicTicker\"},{\"attributes\":{},\"id\":\"1728\",\"type\":\"LinearScale\"},{\"attributes\":{},\"id\":\"2055\",\"type\":\"UnionRenderers\"},{\"attributes\":{\"axis_label\":\"Prevalence\",\"formatter\":{\"id\":\"2379\"},\"major_label_policy\":{\"id\":\"2380\"},\"ticker\":{\"id\":\"2353\"}},\"id\":\"2352\",\"type\":\"LinearAxis\"},{\"attributes\":{\"line_color\":\"#e377c2\",\"line_width\":2,\"x\":{\"field\":\"Year\"},\"y\":{\"field\":\"Data\"}},\"id\":\"2009\",\"type\":\"Line\"},{\"attributes\":{},\"id\":\"2379\",\"type\":\"BasicTickFormatter\"},{\"attributes\":{\"data\":{\"Data\":{\"__ndarray__\":\"btu2bdu25T9JD1TObuHnPxxMkc+6weQ/\",\"dtype\":\"float64\",\"order\":\"little\",\"shape\":[3]},\"Year\":[2008,2013,2014]},\"selected\":{\"id\":\"2383\"},\"selection_policy\":{\"id\":\"2382\"}},\"id\":\"2368\",\"type\":\"ColumnDataSource\"},{\"attributes\":{},\"id\":\"2673\",\"type\":\"UnionRenderers\"},{\"attributes\":{},\"id\":\"3056\",\"type\":\"Selection\"},{\"attributes\":{\"data\":{\"Data\":{\"__ndarray__\":\"W0ltJbWV5D+O4ziO4zjmP7733nvvvec/AAAAAAAAAAA=\",\"dtype\":\"float64\",\"order\":\"little\",\"shape\":[4]},\"Year\":[2012,2013,2014,2016]},\"selected\":{\"id\":\"1765\"},\"selection_policy\":{\"id\":\"1764\"}},\"id\":\"1750\",\"type\":\"ColumnDataSource\"},{\"attributes\":{},\"id\":\"2056\",\"type\":\"Selection\"},{\"attributes\":{\"children\":[[{\"id\":\"1719\"},0,0],[{\"id\":\"1925\"},0,1],[{\"id\":\"2131\"},1,0],[{\"id\":\"2337\"},1,1],[{\"id\":\"2543\"},2,0],[{\"id\":\"2749\"},2,1],[{\"id\":\"2955\"},3,0]]},\"id\":\"3308\",\"type\":\"GridBox\"},{\"attributes\":{},\"id\":\"1724\",\"type\":\"Range1d\"},{\"attributes\":{\"axis_label\":\"Prevalence\",\"formatter\":{\"id\":\"2585\"},\"major_label_policy\":{\"id\":\"2586\"},\"ticker\":{\"id\":\"2559\"}},\"id\":\"2558\",\"type\":\"LinearAxis\"},{\"attributes\":{},\"id\":\"1731\",\"type\":\"BasicTicker\"},{\"attributes\":{\"fill_alpha\":{\"value\":0.5},\"fill_color\":{\"value\":\"#ff7f0e\"},\"line_alpha\":{\"value\":0.5},\"line_color\":{\"value\":\"#ff7f0e\"},\"size\":{\"value\":10},\"x\":{\"field\":\"Year\"},\"y\":{\"field\":\"Data\"}},\"id\":\"2001\",\"type\":\"Circle\"},{\"attributes\":{},\"id\":\"2674\",\"type\":\"Selection\"},{\"attributes\":{\"axis_label\":\"Prevalence\",\"formatter\":{\"id\":\"1967\"},\"major_label_policy\":{\"id\":\"1968\"},\"ticker\":{\"id\":\"1941\"}},\"id\":\"1940\",\"type\":\"LinearAxis\"},{\"attributes\":{\"callback\":null,\"renderers\":[{\"id\":\"1977\"}],\"tooltips\":[[\"(x,y)\",\"(@Year,@Data)\"]]},\"id\":\"1979\",\"type\":\"HoverTool\"},{\"attributes\":{},\"id\":\"2376\",\"type\":\"BasicTickFormatter\"},{\"attributes\":{\"text\":\"PfDHFR Predominant Variants in WAF\"},\"id\":\"2750\",\"type\":\"Title\"},{\"attributes\":{\"callback\":null,\"renderers\":[{\"id\":\"2415\"}],\"tooltips\":[[\"(x,y)\",\"(@Year,@Data)\"]]},\"id\":\"2417\",\"type\":\"HoverTool\"},{\"attributes\":{\"source\":{\"id\":\"1956\"}},\"id\":\"1978\",\"type\":\"CDSView\"},{\"attributes\":{\"data\":{\"Data\":{\"__ndarray__\":\"iMb60Fgfuj9XEJMriMmlPwgEAoFAIIA/Kme38KsxoT8AAAAAAAAAAA==\",\"dtype\":\"float64\",\"order\":\"little\",\"shape\":[5]},\"Year\":[2007,2010,2011,2013,2014]},\"selected\":{\"id\":\"2026\"},\"selection_policy\":{\"id\":\"2025\"}},\"id\":\"2007\",\"type\":\"ColumnDataSource\"},{\"attributes\":{\"source\":{\"id\":\"2986\"}},\"id\":\"2991\",\"type\":\"CDSView\"},{\"attributes\":{\"data_source\":{\"id\":\"1981\"},\"glyph\":{\"id\":\"1983\"},\"hover_glyph\":null,\"muted_glyph\":null,\"nonselection_glyph\":{\"id\":\"1984\"},\"view\":{\"id\":\"1986\"}},\"id\":\"1985\",\"type\":\"GlyphRenderer\"},{\"attributes\":{\"line_alpha\":0.1,\"line_color\":\"#ff7f0e\",\"line_width\":2,\"x\":{\"field\":\"Year\"},\"y\":{\"field\":\"Data\"}},\"id\":\"1984\",\"type\":\"Line\"},{\"attributes\":{\"label\":{\"value\":\"ANRNI[F/S]\"},\"renderers\":[{\"id\":\"2451\"}]},\"id\":\"2469\",\"type\":\"LegendItem\"},{\"attributes\":{\"source\":{\"id\":\"2447\"}},\"id\":\"2452\",\"type\":\"CDSView\"},{\"attributes\":{\"callback\":null,\"renderers\":[{\"id\":\"2443\"}],\"tooltips\":[[\"(x,y)\",\"(@Year,@Data)\"]]},\"id\":\"2445\",\"type\":\"HoverTool\"},{\"attributes\":{\"bottom_units\":\"screen\",\"fill_alpha\":0.5,\"fill_color\":\"lightgrey\",\"left_units\":\"screen\",\"level\":\"overlay\",\"line_alpha\":1.0,\"line_color\":\"black\",\"line_dash\":[4,4],\"line_width\":2,\"right_units\":\"screen\",\"syncable\":false,\"top_units\":\"screen\"},\"id\":\"2979\",\"type\":\"BoxAnnotation\"},{\"attributes\":{\"background_fill_alpha\":0.7,\"items\":[{\"id\":\"1973\"},{\"id\":\"1999\"},{\"id\":\"2027\"},{\"id\":\"2057\"},{\"id\":\"2089\"},{\"id\":\"2123\"}]},\"id\":\"1972\",\"type\":\"Legend\"},{\"attributes\":{\"source\":{\"id\":\"2683\"}},\"id\":\"2688\",\"type\":\"CDSView\"},{\"attributes\":{\"fill_alpha\":{\"value\":0.1},\"fill_color\":{\"value\":\"#beaed4\"},\"line_alpha\":{\"value\":0.1},\"line_color\":{\"value\":\"#beaed4\"},\"size\":{\"value\":10},\"x\":{\"field\":\"Year\"},\"y\":{\"field\":\"Data\"}},\"id\":\"2442\",\"type\":\"Circle\"},{\"attributes\":{},\"id\":\"2409\",\"type\":\"UnionRenderers\"},{\"attributes\":{\"source\":{\"id\":\"2419\"}},\"id\":\"2444\",\"type\":\"CDSView\"},{\"attributes\":{\"data_source\":{\"id\":\"2419\"},\"glyph\":{\"id\":\"2441\"},\"hover_glyph\":null,\"muted_glyph\":null,\"nonselection_glyph\":{\"id\":\"2442\"},\"view\":{\"id\":\"2444\"}},\"id\":\"2443\",\"type\":\"GlyphRenderer\"},{\"attributes\":{\"fill_alpha\":{\"value\":0.1},\"fill_color\":{\"value\":\"#386cb0\"},\"line_alpha\":{\"value\":0.1},\"line_color\":{\"value\":\"#386cb0\"},\"size\":{\"value\":10},\"x\":{\"field\":\"Year\"},\"y\":{\"field\":\"Data\"}},\"id\":\"2678\",\"type\":\"Circle\"},{\"attributes\":{\"source\":{\"id\":\"2653\"}},\"id\":\"2680\",\"type\":\"CDSView\"},{\"attributes\":{\"data\":{\"Data\":{\"__ndarray__\":\"AAAAAAAAAAAAAAAAAAAAAAAAAAAAAAAAAAAAAAAAAAAAAAAAAAAAAAAAAAAAAAAAAAAAAAAAAAAAAAAAAAAAAAAAAAAAAAAAAAAAAAAAAAAAAAAAAAAAAJZ7GmG5p9E/FjqDFTqD5T/Ygi3Ygi3YPw==\",\"dtype\":\"float64\",\"order\":\"little\",\"shape\":[14]},\"Year\":[2001,2002,2003,2004,2005,2007,2008,2011,2012,2013,2014,2015,2016,2017]},\"selected\":{\"id\":\"3028\"},\"selection_policy\":{\"id\":\"3027\"}},\"id\":\"3011\",\"type\":\"ColumnDataSource\"},{\"attributes\":{},\"id\":\"2410\",\"type\":\"Selection\"},{\"attributes\":{\"data_source\":{\"id\":\"2653\"},\"glyph\":{\"id\":\"2677\"},\"hover_glyph\":null,\"muted_glyph\":null,\"nonselection_glyph\":{\"id\":\"2678\"},\"view\":{\"id\":\"2680\"}},\"id\":\"2679\",\"type\":\"GlyphRenderer\"},{\"attributes\":{\"callback\":null,\"renderers\":[{\"id\":\"2679\"}],\"tooltips\":[[\"(x,y)\",\"(@Year,@Data)\"]]},\"id\":\"2681\",\"type\":\"HoverTool\"},{\"attributes\":{},\"id\":\"2739\",\"type\":\"UnionRenderers\"},{\"attributes\":{\"fill_alpha\":{\"value\":0.5},\"fill_color\":{\"value\":\"#1f77b4\"},\"line_alpha\":{\"value\":0.5},\"line_color\":{\"value\":\"#1f77b4\"},\"size\":{\"value\":10},\"x\":{\"field\":\"Year\"},\"y\":{\"field\":\"Data\"}},\"id\":\"2799\",\"type\":\"Circle\"},{\"attributes\":{},\"id\":\"1964\",\"type\":\"BasicTickFormatter\"},{\"attributes\":{},\"id\":\"2995\",\"type\":\"AllLabels\"},{\"attributes\":{},\"id\":\"1965\",\"type\":\"AllLabels\"},{\"attributes\":{\"fill_alpha\":{\"value\":0.5},\"fill_color\":{\"value\":\"#bf5b17\"},\"line_alpha\":{\"value\":0.5},\"line_color\":{\"value\":\"#bf5b17\"},\"size\":{\"value\":10},\"x\":{\"field\":\"Year\"},\"y\":{\"field\":\"Data\"}},\"id\":\"2825\",\"type\":\"Circle\"},{\"attributes\":{\"line_alpha\":0.1,\"line_color\":\"#17becf\",\"line_width\":2,\"x\":{\"field\":\"Year\"},\"y\":{\"field\":\"Data\"}},\"id\":\"2989\",\"type\":\"Line\"},{\"attributes\":{\"line_color\":\"#ffff99\",\"line_width\":2,\"x\":{\"field\":\"Year\"},\"y\":{\"field\":\"Data\"}},\"id\":\"2479\",\"type\":\"Line\"},{\"attributes\":{},\"id\":\"2994\",\"type\":\"BasicTickFormatter\"},{\"attributes\":{\"fill_alpha\":{\"value\":0.1},\"fill_color\":{\"value\":\"#1f77b4\"},\"line_alpha\":{\"value\":0.1},\"line_color\":{\"value\":\"#1f77b4\"},\"size\":{\"value\":10},\"x\":{\"field\":\"Year\"},\"y\":{\"field\":\"Data\"}},\"id\":\"2800\",\"type\":\"Circle\"},{\"attributes\":{\"label\":{\"value\":\"AIRNLS\"},\"renderers\":[{\"id\":\"2990\"}]},\"id\":\"3003\",\"type\":\"LegendItem\"},{\"attributes\":{\"fill_alpha\":{\"value\":0.5},\"fill_color\":{\"value\":\"#beaed4\"},\"line_alpha\":{\"value\":0.5},\"line_color\":{\"value\":\"#beaed4\"},\"size\":{\"value\":10},\"x\":{\"field\":\"Year\"},\"y\":{\"field\":\"Data\"}},\"id\":\"2441\",\"type\":\"Circle\"},{\"attributes\":{\"line_color\":\"#8c564b\",\"line_width\":2,\"x\":{\"field\":\"Year\"},\"y\":{\"field\":\"Data\"}},\"id\":\"2717\",\"type\":\"Line\"},{\"attributes\":{\"source\":{\"id\":\"2780\"}},\"id\":\"2802\",\"type\":\"CDSView\"},{\"attributes\":{\"data_source\":{\"id\":\"2780\"},\"glyph\":{\"id\":\"2799\"},\"hover_glyph\":null,\"muted_glyph\":null,\"nonselection_glyph\":{\"id\":\"2800\"},\"view\":{\"id\":\"2802\"}},\"id\":\"2801\",\"type\":\"GlyphRenderer\"},{\"attributes\":{\"source\":{\"id\":\"2715\"}},\"id\":\"2720\",\"type\":\"CDSView\"},{\"attributes\":{\"callback\":null,\"renderers\":[{\"id\":\"2801\"}],\"tooltips\":[[\"(x,y)\",\"(@Year,@Data)\"]]},\"id\":\"2803\",\"type\":\"HoverTool\"},{\"attributes\":{},\"id\":\"1967\",\"type\":\"BasicTickFormatter\"},{\"attributes\":{\"line_alpha\":0.1,\"line_color\":\"#ffff99\",\"line_width\":2,\"x\":{\"field\":\"Year\"},\"y\":{\"field\":\"Data\"}},\"id\":\"2480\",\"type\":\"Line\"},{\"attributes\":{},\"id\":\"1968\",\"type\":\"AllLabels\"},{\"attributes\":{\"fill_alpha\":{\"value\":0.5},\"fill_color\":{\"value\":\"#ffff99\"},\"line_alpha\":{\"value\":0.5},\"line_color\":{\"value\":\"#ffff99\"},\"size\":{\"value\":10},\"x\":{\"field\":\"Year\"},\"y\":{\"field\":\"Data\"}},\"id\":\"2503\",\"type\":\"Circle\"},{\"attributes\":{\"label\":{\"value\":\"Other\"},\"renderers\":[{\"id\":\"2719\"}]},\"id\":\"2741\",\"type\":\"LegendItem\"},{\"attributes\":{\"line_alpha\":0.1,\"line_color\":\"#8c564b\",\"line_width\":2,\"x\":{\"field\":\"Year\"},\"y\":{\"field\":\"Data\"}},\"id\":\"2718\",\"type\":\"Line\"},{\"attributes\":{\"source\":{\"id\":\"2805\"}},\"id\":\"2810\",\"type\":\"CDSView\"},{\"attributes\":{\"callback\":null,\"renderers\":[{\"id\":\"2711\"}],\"tooltips\":[[\"(x,y)\",\"(@Year,@Data)\"]]},\"id\":\"2713\",\"type\":\"HoverTool\"},{\"attributes\":{\"source\":{\"id\":\"2419\"}},\"id\":\"2424\",\"type\":\"CDSView\"},{\"attributes\":{\"label\":{\"value\":\"NCSI\"},\"renderers\":[{\"id\":\"2687\"}]},\"id\":\"2707\",\"type\":\"LegendItem\"},{\"attributes\":{\"line_color\":\"#666666\",\"line_width\":2,\"x\":{\"field\":\"Year\"},\"y\":{\"field\":\"Data\"}},\"id\":\"2833\",\"type\":\"Line\"},{\"attributes\":{\"data_source\":{\"id\":\"2831\"},\"glyph\":{\"id\":\"2833\"},\"hover_glyph\":null,\"muted_glyph\":null,\"nonselection_glyph\":{\"id\":\"2834\"},\"view\":{\"id\":\"2836\"}},\"id\":\"2835\",\"type\":\"GlyphRenderer\"},{\"attributes\":{\"line_alpha\":0.1,\"line_color\":\"#666666\",\"line_width\":2,\"x\":{\"field\":\"Year\"},\"y\":{\"field\":\"Data\"}},\"id\":\"2834\",\"type\":\"Line\"},{\"attributes\":{\"line_color\":\"#fdc086\",\"line_width\":2,\"x\":{\"field\":\"Year\"},\"y\":{\"field\":\"Data\"}},\"id\":\"2449\",\"type\":\"Line\"},{\"attributes\":{},\"id\":\"2998\",\"type\":\"AllLabels\"},{\"attributes\":{},\"id\":\"2467\",\"type\":\"UnionRenderers\"},{\"attributes\":{\"data_source\":{\"id\":\"2447\"},\"glyph\":{\"id\":\"2449\"},\"hover_glyph\":null,\"muted_glyph\":null,\"nonselection_glyph\":{\"id\":\"2450\"},\"view\":{\"id\":\"2452\"}},\"id\":\"2451\",\"type\":\"GlyphRenderer\"},{\"attributes\":{\"line_alpha\":0.1,\"line_color\":\"#fdc086\",\"line_width\":2,\"x\":{\"field\":\"Year\"},\"y\":{\"field\":\"Data\"}},\"id\":\"2450\",\"type\":\"Line\"},{\"attributes\":{\"data\":{\"Data\":{\"__ndarray__\":\"GIZhGIZhiD/0BX1BX9CXP+5phOWeRrg/l2/5lm/5tj+MMcYYY4yxP87KT4iz8rM/VuqlHcwaoT/C61YhvG6lP1hHm/cpLqk/\",\"dtype\":\"float64\",\"order\":\"little\",\"shape\":[9]},\"Year\":[2007,2008,2009,2010,2011,2012,2013,2014,2015]},\"selected\":{\"id\":\"2880\"},\"selection_policy\":{\"id\":\"2879\"}},\"id\":\"2859\",\"type\":\"ColumnDataSource\"},{\"attributes\":{\"data\":{\"Data\":{\"__ndarray__\":\"Fl/xFV/xtT+amZmZmZm5P5AGaZAGabA/qSfjt0s9uT8AAAAAAAAAAGgvob2E9rI/lnsaYbmnsT/QcFL35bG1P/6S5S9Z/sI/cB/BfQT3wT8AAAAAAADMPwAAAAAAAAAAAAAAAAAAAAAAAAAAAAAAAA==\",\"dtype\":\"float64\",\"order\":\"little\",\"shape\":[14]},\"Year\":[2001,2002,2003,2004,2005,2007,2008,2011,2012,2013,2014,2015,2016,2017]},\"selected\":{\"id\":\"3056\"},\"selection_policy\":{\"id\":\"3055\"}},\"id\":\"3037\",\"type\":\"ColumnDataSource\"},{\"attributes\":{\"data_source\":{\"id\":\"2986\"},\"glyph\":{\"id\":\"2988\"},\"hover_glyph\":null,\"muted_glyph\":null,\"nonselection_glyph\":{\"id\":\"2989\"},\"view\":{\"id\":\"2991\"}},\"id\":\"2990\",\"type\":\"GlyphRenderer\"},{\"attributes\":{},\"id\":\"2468\",\"type\":\"Selection\"},{\"attributes\":{},\"id\":\"2705\",\"type\":\"UnionRenderers\"},{\"attributes\":{\"data_source\":{\"id\":\"2477\"},\"glyph\":{\"id\":\"2479\"},\"hover_glyph\":null,\"muted_glyph\":null,\"nonselection_glyph\":{\"id\":\"2480\"},\"view\":{\"id\":\"2482\"}},\"id\":\"2481\",\"type\":\"GlyphRenderer\"},{\"attributes\":{\"data\":{\"Data\":{\"__ndarray__\":\"kiRJkiRJoj8AAAAAAAAAAAAAAAAAAAAA\",\"dtype\":\"float64\",\"order\":\"little\",\"shape\":[3]},\"Year\":[2008,2013,2014]},\"selected\":{\"id\":\"2500\"},\"selection_policy\":{\"id\":\"2499\"}},\"id\":\"2477\",\"type\":\"ColumnDataSource\"},{\"attributes\":{},\"id\":\"2706\",\"type\":\"Selection\"},{\"attributes\":{\"source\":{\"id\":\"2477\"}},\"id\":\"2482\",\"type\":\"CDSView\"},{\"attributes\":{\"label\":{\"value\":\"ANCSIS\"},\"renderers\":[{\"id\":\"2809\"}]},\"id\":\"2823\",\"type\":\"LegendItem\"},{\"attributes\":{\"active_drag\":{\"id\":\"2974\"},\"active_multi\":null,\"active_scroll\":{\"id\":\"2975\"},\"tools\":[{\"id\":\"2974\"},{\"id\":\"2975\"},{\"id\":\"2976\"},{\"id\":\"2977\"},{\"id\":\"2978\"},{\"id\":\"3009\"},{\"id\":\"3035\"},{\"id\":\"3063\"},{\"id\":\"3093\"},{\"id\":\"3125\"},{\"id\":\"3159\"}]},\"id\":\"2980\",\"type\":\"Toolbar\"},{\"attributes\":{\"label\":{\"value\":\"ANRNI[S/F]\"},\"renderers\":[{\"id\":\"2423\"}]},\"id\":\"2439\",\"type\":\"LegendItem\"},{\"attributes\":{\"callback\":null},\"id\":\"2978\",\"type\":\"TapTool\"},{\"attributes\":{},\"id\":\"2997\",\"type\":\"BasicTickFormatter\"},{\"attributes\":{\"line_color\":\"#17becf\",\"line_width\":2,\"x\":{\"field\":\"Year\"},\"y\":{\"field\":\"Data\"}},\"id\":\"2988\",\"type\":\"Line\"},{\"attributes\":{\"background_fill_alpha\":0.7,\"items\":[{\"id\":\"3003\"},{\"id\":\"3029\"},{\"id\":\"3057\"},{\"id\":\"3087\"},{\"id\":\"3119\"},{\"id\":\"3153\"}]},\"id\":\"3002\",\"type\":\"Legend\"},{\"attributes\":{},\"id\":\"1970\",\"type\":\"UnionRenderers\"},{\"attributes\":{},\"id\":\"1971\",\"type\":\"Selection\"},{\"attributes\":{\"fill_alpha\":{\"value\":0.5},\"fill_color\":{\"value\":\"#fdc086\"},\"line_alpha\":{\"value\":0.5},\"line_color\":{\"value\":\"#fdc086\"},\"size\":{\"value\":10},\"x\":{\"field\":\"Year\"},\"y\":{\"field\":\"Data\"}},\"id\":\"2471\",\"type\":\"Circle\"},{\"attributes\":{\"fill_alpha\":{\"value\":0.5},\"fill_color\":{\"value\":\"#f0027f\"},\"line_alpha\":{\"value\":0.5},\"line_color\":{\"value\":\"#f0027f\"},\"size\":{\"value\":10},\"x\":{\"field\":\"Year\"},\"y\":{\"field\":\"Data\"}},\"id\":\"2709\",\"type\":\"Circle\"},{\"attributes\":{},\"id\":\"2437\",\"type\":\"UnionRenderers\"},{\"attributes\":{},\"id\":\"2821\",\"type\":\"UnionRenderers\"},{\"attributes\":{\"label\":{\"value\":\"AN[R/C]NI[F/S]\"},\"renderers\":[{\"id\":\"2481\"}]},\"id\":\"2501\",\"type\":\"LegendItem\"},{\"attributes\":{\"data_source\":{\"id\":\"2715\"},\"glyph\":{\"id\":\"2717\"},\"hover_glyph\":null,\"muted_glyph\":null,\"nonselection_glyph\":{\"id\":\"2718\"},\"view\":{\"id\":\"2720\"}},\"id\":\"2719\",\"type\":\"GlyphRenderer\"},{\"attributes\":{},\"id\":\"2438\",\"type\":\"Selection\"},{\"attributes\":{},\"id\":\"2822\",\"type\":\"Selection\"},{\"attributes\":{\"data_source\":{\"id\":\"2683\"},\"glyph\":{\"id\":\"2709\"},\"hover_glyph\":null,\"muted_glyph\":null,\"nonselection_glyph\":{\"id\":\"2710\"},\"view\":{\"id\":\"2712\"}},\"id\":\"2711\",\"type\":\"GlyphRenderer\"},{\"attributes\":{\"fill_alpha\":{\"value\":0.1},\"fill_color\":{\"value\":\"#fdc086\"},\"line_alpha\":{\"value\":0.1},\"line_color\":{\"value\":\"#fdc086\"},\"size\":{\"value\":10},\"x\":{\"field\":\"Year\"},\"y\":{\"field\":\"Data\"}},\"id\":\"2472\",\"type\":\"Circle\"},{\"attributes\":{\"source\":{\"id\":\"2447\"}},\"id\":\"2474\",\"type\":\"CDSView\"},{\"attributes\":{},\"id\":\"2740\",\"type\":\"Selection\"},{\"attributes\":{\"data_source\":{\"id\":\"2447\"},\"glyph\":{\"id\":\"2471\"},\"hover_glyph\":null,\"muted_glyph\":null,\"nonselection_glyph\":{\"id\":\"2472\"},\"view\":{\"id\":\"2474\"}},\"id\":\"2473\",\"type\":\"GlyphRenderer\"},{\"attributes\":{\"fill_alpha\":{\"value\":0.1},\"fill_color\":{\"value\":\"#f0027f\"},\"line_alpha\":{\"value\":0.1},\"line_color\":{\"value\":\"#f0027f\"},\"size\":{\"value\":10},\"x\":{\"field\":\"Year\"},\"y\":{\"field\":\"Data\"}},\"id\":\"2710\",\"type\":\"Circle\"},{\"attributes\":{\"callback\":null,\"renderers\":[{\"id\":\"2473\"}],\"tooltips\":[[\"(x,y)\",\"(@Year,@Data)\"]]},\"id\":\"2475\",\"type\":\"HoverTool\"},{\"attributes\":{\"source\":{\"id\":\"2683\"}},\"id\":\"2712\",\"type\":\"CDSView\"},{\"attributes\":{\"data\":{\"Data\":{\"__ndarray__\":\"AACwoPfGsD4AAAAAAACgPAAAAAAAAAAA\",\"dtype\":\"float64\",\"order\":\"little\",\"shape\":[3]},\"Year\":[2008,2013,2014]},\"selected\":{\"id\":\"2534\"},\"selection_policy\":{\"id\":\"2533\"}},\"id\":\"2509\",\"type\":\"ColumnDataSource\"},{\"attributes\":{\"fill_alpha\":{\"value\":0.5},\"fill_color\":{\"value\":\"#8c564b\"},\"line_alpha\":{\"value\":0.5},\"line_color\":{\"value\":\"#8c564b\"},\"size\":{\"value\":10},\"x\":{\"field\":\"Year\"},\"y\":{\"field\":\"Data\"}},\"id\":\"2743\",\"type\":\"Circle\"},{\"attributes\":{\"axis_label\":\"Prevalence\",\"formatter\":{\"id\":\"2997\"},\"major_label_policy\":{\"id\":\"2998\"},\"ticker\":{\"id\":\"2971\"}},\"id\":\"2970\",\"type\":\"LinearAxis\"},{\"attributes\":{\"text\":\"PfDHFR Predominant Variants in ESEA\"},\"id\":\"2132\",\"type\":\"Title\"},{\"attributes\":{},\"id\":\"2769\",\"type\":\"WheelZoomTool\"},{\"attributes\":{\"below\":[{\"id\":\"1730\"}],\"center\":[{\"id\":\"1733\"},{\"id\":\"1737\"},{\"id\":\"1766\"}],\"height\":400,\"left\":[{\"id\":\"1734\"}],\"renderers\":[{\"id\":\"1754\"},{\"id\":\"1771\"},{\"id\":\"1779\"},{\"id\":\"1797\"},{\"id\":\"1805\"},{\"id\":\"1825\"},{\"id\":\"1833\"},{\"id\":\"1855\"},{\"id\":\"1863\"},{\"id\":\"1887\"},{\"id\":\"1895\"},{\"id\":\"1921\"}],\"title\":{\"id\":\"1720\"},\"toolbar\":{\"id\":\"1744\"},\"toolbar_location\":null,\"width\":400,\"x_range\":{\"id\":\"1722\"},\"x_scale\":{\"id\":\"1726\"},\"y_range\":{\"id\":\"1724\"},\"y_scale\":{\"id\":\"1728\"}},\"id\":\"1719\",\"subtype\":\"Figure\",\"type\":\"Plot\"},{\"attributes\":{\"below\":[{\"id\":\"2142\"}],\"center\":[{\"id\":\"2145\"},{\"id\":\"2149\"},{\"id\":\"2178\"}],\"height\":400,\"left\":[{\"id\":\"2146\"}],\"renderers\":[{\"id\":\"2166\"},{\"id\":\"2183\"},{\"id\":\"2191\"},{\"id\":\"2209\"},{\"id\":\"2217\"},{\"id\":\"2237\"},{\"id\":\"2245\"},{\"id\":\"2267\"},{\"id\":\"2275\"},{\"id\":\"2299\"},{\"id\":\"2307\"},{\"id\":\"2333\"}],\"title\":{\"id\":\"2132\"},\"toolbar\":{\"id\":\"2156\"},\"toolbar_location\":null,\"width\":400,\"x_range\":{\"id\":\"2134\"},\"x_scale\":{\"id\":\"2138\"},\"y_range\":{\"id\":\"2136\"},\"y_scale\":{\"id\":\"2140\"}},\"id\":\"2131\",\"subtype\":\"Figure\",\"type\":\"Plot\"},{\"attributes\":{},\"id\":\"2382\",\"type\":\"UnionRenderers\"},{\"attributes\":{},\"id\":\"2383\",\"type\":\"Selection\"},{\"attributes\":{\"fill_alpha\":{\"value\":0.1},\"fill_color\":{\"value\":\"#8c564b\"},\"line_alpha\":{\"value\":0.1},\"line_color\":{\"value\":\"#8c564b\"},\"size\":{\"value\":10},\"x\":{\"field\":\"Year\"},\"y\":{\"field\":\"Data\"}},\"id\":\"2744\",\"type\":\"Circle\"},{\"attributes\":{\"fill_alpha\":{\"value\":0.5},\"fill_color\":{\"value\":\"#7fc97f\"},\"line_alpha\":{\"value\":0.5},\"line_color\":{\"value\":\"#7fc97f\"},\"size\":{\"value\":10},\"x\":{\"field\":\"Year\"},\"y\":{\"field\":\"Data\"}},\"id\":\"2387\",\"type\":\"Circle\"},{\"attributes\":{\"source\":{\"id\":\"2715\"}},\"id\":\"2746\",\"type\":\"CDSView\"},{\"attributes\":{\"data_source\":{\"id\":\"2715\"},\"glyph\":{\"id\":\"2743\"},\"hover_glyph\":null,\"muted_glyph\":null,\"nonselection_glyph\":{\"id\":\"2744\"},\"view\":{\"id\":\"2746\"}},\"id\":\"2745\",\"type\":\"GlyphRenderer\"},{\"attributes\":{\"fill_alpha\":{\"value\":0.1},\"fill_color\":{\"value\":\"#e377c2\"},\"line_alpha\":{\"value\":0.1},\"line_color\":{\"value\":\"#e377c2\"},\"size\":{\"value\":10},\"x\":{\"field\":\"Year\"},\"y\":{\"field\":\"Data\"}},\"id\":\"2414\",\"type\":\"Circle\"},{\"attributes\":{\"callback\":null,\"renderers\":[{\"id\":\"2745\"}],\"tooltips\":[[\"(x,y)\",\"(@Year,@Data)\"]]},\"id\":\"2747\",\"type\":\"HoverTool\"},{\"attributes\":{},\"id\":\"2971\",\"type\":\"BasicTicker\"},{\"attributes\":{\"data_source\":{\"id\":\"2393\"},\"glyph\":{\"id\":\"2413\"},\"hover_glyph\":null,\"muted_glyph\":null,\"nonselection_glyph\":{\"id\":\"2414\"},\"view\":{\"id\":\"2416\"}},\"id\":\"2415\",\"type\":\"GlyphRenderer\"},{\"attributes\":{\"fill_alpha\":{\"value\":0.1},\"fill_color\":{\"value\":\"#7fc97f\"},\"line_alpha\":{\"value\":0.1},\"line_color\":{\"value\":\"#7fc97f\"},\"size\":{\"value\":10},\"x\":{\"field\":\"Year\"},\"y\":{\"field\":\"Data\"}},\"id\":\"2388\",\"type\":\"Circle\"},{\"attributes\":{\"source\":{\"id\":\"2368\"}},\"id\":\"2390\",\"type\":\"CDSView\"},{\"attributes\":{\"overlay\":{\"id\":\"2773\"}},\"id\":\"2770\",\"type\":\"BoxZoomTool\"},{\"attributes\":{\"data_source\":{\"id\":\"2368\"},\"glyph\":{\"id\":\"2387\"},\"hover_glyph\":null,\"muted_glyph\":null,\"nonselection_glyph\":{\"id\":\"2388\"},\"view\":{\"id\":\"2390\"}},\"id\":\"2389\",\"type\":\"GlyphRenderer\"},{\"attributes\":{\"callback\":null,\"renderers\":[{\"id\":\"2389\"}],\"tooltips\":[[\"(x,y)\",\"(@Year,@Data)\"]]},\"id\":\"2391\",\"type\":\"HoverTool\"},{\"attributes\":{},\"id\":\"2765\",\"type\":\"BasicTicker\"},{\"attributes\":{},\"id\":\"2974\",\"type\":\"PanTool\"},{\"attributes\":{\"axis\":{\"id\":\"2970\"},\"dimension\":1,\"ticker\":null},\"id\":\"2973\",\"type\":\"Grid\"},{\"attributes\":{\"source\":{\"id\":\"2393\"}},\"id\":\"2398\",\"type\":\"CDSView\"},{\"attributes\":{},\"id\":\"2795\",\"type\":\"Selection\"},{\"attributes\":{},\"id\":\"2794\",\"type\":\"UnionRenderers\"},{\"attributes\":{},\"id\":\"2977\",\"type\":\"ResetTool\"},{\"attributes\":{\"label\":{\"value\":\"ANRNIS\"},\"renderers\":[{\"id\":\"2397\"}]},\"id\":\"2411\",\"type\":\"LegendItem\"},{\"attributes\":{},\"id\":\"2768\",\"type\":\"PanTool\"},{\"attributes\":{\"callback\":null},\"id\":\"2772\",\"type\":\"TapTool\"},{\"attributes\":{\"fill_alpha\":{\"value\":0.5},\"fill_color\":{\"value\":\"#e377c2\"},\"line_alpha\":{\"value\":0.5},\"line_color\":{\"value\":\"#e377c2\"},\"size\":{\"value\":10},\"x\":{\"field\":\"Year\"},\"y\":{\"field\":\"Data\"}},\"id\":\"2413\",\"type\":\"Circle\"},{\"attributes\":{},\"id\":\"2771\",\"type\":\"ResetTool\"},{\"attributes\":{\"line_color\":\"#beaed4\",\"line_width\":2,\"x\":{\"field\":\"Year\"},\"y\":{\"field\":\"Data\"}},\"id\":\"2421\",\"type\":\"Line\"},{\"attributes\":{\"overlay\":{\"id\":\"2979\"}},\"id\":\"2976\",\"type\":\"BoxZoomTool\"},{\"attributes\":{\"data_source\":{\"id\":\"2419\"},\"glyph\":{\"id\":\"2421\"},\"hover_glyph\":null,\"muted_glyph\":null,\"nonselection_glyph\":{\"id\":\"2422\"},\"view\":{\"id\":\"2424\"}},\"id\":\"2423\",\"type\":\"GlyphRenderer\"},{\"attributes\":{},\"id\":\"2975\",\"type\":\"WheelZoomTool\"},{\"attributes\":{\"line_alpha\":0.1,\"line_color\":\"#beaed4\",\"line_width\":2,\"x\":{\"field\":\"Year\"},\"y\":{\"field\":\"Data\"}},\"id\":\"2422\",\"type\":\"Line\"},{\"attributes\":{\"data\":{\"Data\":{\"__ndarray__\":\"AAAAAAAAAABnt/CrMZGePxxMkc+6wbQ/\",\"dtype\":\"float64\",\"order\":\"little\",\"shape\":[3]},\"Year\":[2008,2013,2014]},\"selected\":{\"id\":\"2468\"},\"selection_policy\":{\"id\":\"2467\"}},\"id\":\"2447\",\"type\":\"ColumnDataSource\"},{\"attributes\":{\"axis\":{\"id\":\"2764\"},\"dimension\":1,\"ticker\":null},\"id\":\"2767\",\"type\":\"Grid\"}],\"root_ids\":[\"3311\"]},\"title\":\"Bokeh Application\",\"version\":\"2.3.3\"}};\n",
       "  var render_items = [{\"docid\":\"d1b357d0-3523-452d-828e-8fbd461d1dbf\",\"root_ids\":[\"3311\"],\"roots\":{\"3311\":\"f2ac5f92-b230-4bde-ba18-47ca199be48b\"}}];\n",
       "  root.Bokeh.embed.embed_items_notebook(docs_json, render_items);\n",
       "\n",
       "  }\n",
       "  if (root.Bokeh !== undefined) {\n",
       "    embed_document(root);\n",
       "  } else {\n",
       "    var attempts = 0;\n",
       "    var timer = setInterval(function(root) {\n",
       "      if (root.Bokeh !== undefined) {\n",
       "        clearInterval(timer);\n",
       "        embed_document(root);\n",
       "      } else {\n",
       "        attempts++;\n",
       "        if (attempts > 100) {\n",
       "          clearInterval(timer);\n",
       "          console.log(\"Bokeh: ERROR: Unable to run BokehJS code because BokehJS library is missing\");\n",
       "        }\n",
       "      }\n",
       "    }, 10, root)\n",
       "  }\n",
       "})(window);"
      ],
      "application/vnd.bokehjs_exec.v0+json": ""
     },
     "metadata": {
      "application/vnd.bokehjs_exec.v0+json": {
       "id": "3311"
      }
     },
     "output_type": "display_data"
    },
    {
     "data": {
      "text/plain": [
       "<data_analysis.plotting.Subplots at 0x11a8edd00>"
      ]
     },
     "execution_count": 14,
     "metadata": {},
     "output_type": "execute_result"
    }
   ],
   "source": [
    "plot_haplotype_frequency(pf6plus, 'PfDHFR', num_top_haplotypes=5, populations = ['CAF', 'EAF', 'ESEA', 'OCE', 'SAS', 'WAF', 'WSEA'], years = None, bin=False)"
   ]
  },
  {
   "cell_type": "code",
   "execution_count": 15,
   "metadata": {
    "colab": {
     "base_uri": "https://localhost:8080/",
     "height": 464
    },
    "id": "cc6tb0gwbRKZ",
    "outputId": "93f6c982-1815-4439-f8e7-cd2673d5f7db"
   },
   "outputs": [
    {
     "data": {
      "text/html": [
       "\n",
       "\n",
       "\n",
       "\n",
       "\n",
       "\n",
       "  <div class=\"bk-root\" id=\"e188d647-a6e4-41c7-864c-e112f91f386f\" data-root-id=\"4430\"></div>\n"
      ]
     },
     "metadata": {},
     "output_type": "display_data"
    },
    {
     "data": {
      "application/javascript": [
       "(function(root) {\n",
       "  function embed_document(root) {\n",
       "    \n",
       "  var docs_json = {\"fb99f6e0-a2dc-4428-bde7-f56bd16a992a\":{\"defs\":[],\"roots\":{\"references\":[{\"attributes\":{\"children\":[{\"id\":\"4429\"},{\"id\":\"4427\"}]},\"id\":\"4430\",\"type\":\"Column\"},{\"attributes\":{\"label\":{\"value\":\"AI[R/C]NIS\"},\"renderers\":[{\"id\":\"4314\"}]},\"id\":\"4332\",\"type\":\"LegendItem\"},{\"attributes\":{\"data_source\":{\"id\":\"4231\"},\"glyph\":{\"id\":\"4233\"},\"hover_glyph\":null,\"muted_glyph\":null,\"nonselection_glyph\":{\"id\":\"4234\"},\"view\":{\"id\":\"4236\"}},\"id\":\"4235\",\"type\":\"GlyphRenderer\"},{\"attributes\":{\"fill_alpha\":{\"value\":0.5},\"fill_color\":{\"value\":\"#9467bd\"},\"line_alpha\":{\"value\":0.5},\"line_color\":{\"value\":\"#9467bd\"},\"size\":{\"value\":10},\"x\":{\"field\":\"Year\"},\"y\":{\"field\":\"Data\"}},\"id\":\"4366\",\"type\":\"Circle\"},{\"attributes\":{\"data\":{\"Data\":{\"__ndarray__\":\"UltJbSW1xT9VVVVVVVW1P4QQQgghhMA/AAAAAAAAAAA=\",\"dtype\":\"float64\",\"order\":\"little\",\"shape\":[4]},\"Year\":[2012,2013,2014,2016]},\"selected\":{\"id\":\"4273\"},\"selection_policy\":{\"id\":\"4272\"}},\"id\":\"4256\",\"type\":\"ColumnDataSource\"},{\"attributes\":{\"source\":{\"id\":\"4231\"}},\"id\":\"4236\",\"type\":\"CDSView\"},{\"attributes\":{\"data_source\":{\"id\":\"4310\"},\"glyph\":{\"id\":\"4312\"},\"hover_glyph\":null,\"muted_glyph\":null,\"nonselection_glyph\":{\"id\":\"4313\"},\"view\":{\"id\":\"4315\"}},\"id\":\"4314\",\"type\":\"GlyphRenderer\"},{\"attributes\":{\"line_alpha\":0.1,\"line_color\":\"#1f77b4\",\"line_width\":2,\"x\":{\"field\":\"Year\"},\"y\":{\"field\":\"Data\"}},\"id\":\"4234\",\"type\":\"Line\"},{\"attributes\":{\"background_fill_alpha\":0.7,\"items\":[{\"id\":\"4248\"},{\"id\":\"4274\"},{\"id\":\"4302\"},{\"id\":\"4332\"},{\"id\":\"4364\"},{\"id\":\"4398\"}]},\"id\":\"4247\",\"type\":\"Legend\"},{\"attributes\":{},\"id\":\"4330\",\"type\":\"UnionRenderers\"},{\"attributes\":{},\"id\":\"4240\",\"type\":\"AllLabels\"},{\"attributes\":{},\"id\":\"4272\",\"type\":\"UnionRenderers\"},{\"attributes\":{},\"id\":\"4331\",\"type\":\"Selection\"},{\"attributes\":{},\"id\":\"4273\",\"type\":\"Selection\"},{\"attributes\":{\"bottom_units\":\"screen\",\"fill_alpha\":0.5,\"fill_color\":\"lightgrey\",\"left_units\":\"screen\",\"level\":\"overlay\",\"line_alpha\":1.0,\"line_color\":\"black\",\"line_dash\":[4,4],\"line_width\":2,\"right_units\":\"screen\",\"syncable\":false,\"top_units\":\"screen\"},\"id\":\"4224\",\"type\":\"BoxAnnotation\"},{\"attributes\":{\"callback\":null},\"id\":\"4223\",\"type\":\"TapTool\"},{\"attributes\":{},\"id\":\"4219\",\"type\":\"PanTool\"},{\"attributes\":{\"overlay\":{\"id\":\"4224\"}},\"id\":\"4221\",\"type\":\"BoxZoomTool\"},{\"attributes\":{},\"id\":\"4222\",\"type\":\"ResetTool\"},{\"attributes\":{},\"id\":\"4239\",\"type\":\"BasicTickFormatter\"},{\"attributes\":{\"fill_alpha\":{\"value\":0.5},\"fill_color\":{\"value\":\"#d62728\"},\"line_alpha\":{\"value\":0.5},\"line_color\":{\"value\":\"#d62728\"},\"size\":{\"value\":10},\"x\":{\"field\":\"Year\"},\"y\":{\"field\":\"Data\"}},\"id\":\"4334\",\"type\":\"Circle\"},{\"attributes\":{\"line_alpha\":0.1,\"line_color\":\"#2ca02c\",\"line_width\":2,\"x\":{\"field\":\"Year\"},\"y\":{\"field\":\"Data\"}},\"id\":\"4285\",\"type\":\"Line\"},{\"attributes\":{\"data_source\":{\"id\":\"4282\"},\"glyph\":{\"id\":\"4304\"},\"hover_glyph\":null,\"muted_glyph\":null,\"nonselection_glyph\":{\"id\":\"4305\"},\"view\":{\"id\":\"4307\"}},\"id\":\"4306\",\"type\":\"GlyphRenderer\"},{\"attributes\":{\"fill_alpha\":{\"value\":0.1},\"fill_color\":{\"value\":\"#d62728\"},\"line_alpha\":{\"value\":0.1},\"line_color\":{\"value\":\"#d62728\"},\"size\":{\"value\":10},\"x\":{\"field\":\"Year\"},\"y\":{\"field\":\"Data\"}},\"id\":\"4335\",\"type\":\"Circle\"},{\"attributes\":{\"axis\":{\"id\":\"4215\"},\"dimension\":1,\"ticker\":null},\"id\":\"4218\",\"type\":\"Grid\"},{\"attributes\":{\"source\":{\"id\":\"4282\"}},\"id\":\"4307\",\"type\":\"CDSView\"},{\"attributes\":{\"source\":{\"id\":\"4310\"}},\"id\":\"4337\",\"type\":\"CDSView\"},{\"attributes\":{\"data_source\":{\"id\":\"4310\"},\"glyph\":{\"id\":\"4334\"},\"hover_glyph\":null,\"muted_glyph\":null,\"nonselection_glyph\":{\"id\":\"4335\"},\"view\":{\"id\":\"4337\"}},\"id\":\"4336\",\"type\":\"GlyphRenderer\"},{\"attributes\":{},\"id\":\"4216\",\"type\":\"BasicTicker\"},{\"attributes\":{\"fill_alpha\":{\"value\":0.1},\"fill_color\":{\"value\":\"#ff7f0e\"},\"line_alpha\":{\"value\":0.1},\"line_color\":{\"value\":\"#ff7f0e\"},\"size\":{\"value\":10},\"x\":{\"field\":\"Year\"},\"y\":{\"field\":\"Data\"}},\"id\":\"4277\",\"type\":\"Circle\"},{\"attributes\":{},\"id\":\"4220\",\"type\":\"WheelZoomTool\"},{\"attributes\":{\"callback\":null,\"renderers\":[{\"id\":\"4336\"}],\"tooltips\":[[\"(x,y)\",\"(@Year,@Data)\"]]},\"id\":\"4338\",\"type\":\"HoverTool\"},{\"attributes\":{\"source\":{\"id\":\"4256\"}},\"id\":\"4279\",\"type\":\"CDSView\"},{\"attributes\":{\"data_source\":{\"id\":\"4256\"},\"glyph\":{\"id\":\"4276\"},\"hover_glyph\":null,\"muted_glyph\":null,\"nonselection_glyph\":{\"id\":\"4277\"},\"view\":{\"id\":\"4279\"}},\"id\":\"4278\",\"type\":\"GlyphRenderer\"},{\"attributes\":{\"callback\":null,\"renderers\":[{\"id\":\"4278\"}],\"tooltips\":[[\"(x,y)\",\"(@Year,@Data)\"]]},\"id\":\"4280\",\"type\":\"HoverTool\"},{\"attributes\":{\"data_source\":{\"id\":\"4372\"},\"glyph\":{\"id\":\"4374\"},\"hover_glyph\":null,\"muted_glyph\":null,\"nonselection_glyph\":{\"id\":\"4375\"},\"view\":{\"id\":\"4377\"}},\"id\":\"4376\",\"type\":\"GlyphRenderer\"},{\"attributes\":{\"data\":{\"Data\":{\"__ndarray__\":\"KK+hvIbyqj8cx3Ecx3G8P4QQQgghhLA/AAAAAAAAAAA=\",\"dtype\":\"float64\",\"order\":\"little\",\"shape\":[4]},\"Year\":[2012,2013,2014,2016]},\"selected\":{\"id\":\"4331\"},\"selection_policy\":{\"id\":\"4330\"}},\"id\":\"4310\",\"type\":\"ColumnDataSource\"},{\"attributes\":{\"toolbar\":{\"id\":\"4428\"},\"toolbar_location\":\"above\"},\"id\":\"4429\",\"type\":\"ToolbarBox\"},{\"attributes\":{\"data_source\":{\"id\":\"4340\"},\"glyph\":{\"id\":\"4342\"},\"hover_glyph\":null,\"muted_glyph\":null,\"nonselection_glyph\":{\"id\":\"4343\"},\"view\":{\"id\":\"4345\"}},\"id\":\"4344\",\"type\":\"GlyphRenderer\"},{\"attributes\":{\"active_drag\":{\"id\":\"4219\"},\"active_multi\":null,\"active_scroll\":{\"id\":\"4220\"},\"tools\":[{\"id\":\"4219\"},{\"id\":\"4220\"},{\"id\":\"4221\"},{\"id\":\"4222\"},{\"id\":\"4223\"},{\"id\":\"4254\"},{\"id\":\"4280\"},{\"id\":\"4308\"},{\"id\":\"4338\"},{\"id\":\"4370\"},{\"id\":\"4404\"}]},\"id\":\"4225\",\"type\":\"Toolbar\"},{\"attributes\":{\"data_source\":{\"id\":\"4282\"},\"glyph\":{\"id\":\"4284\"},\"hover_glyph\":null,\"muted_glyph\":null,\"nonselection_glyph\":{\"id\":\"4285\"},\"view\":{\"id\":\"4287\"}},\"id\":\"4286\",\"type\":\"GlyphRenderer\"},{\"attributes\":{},\"id\":\"4212\",\"type\":\"BasicTicker\"},{\"attributes\":{\"data\":{\"Data\":{\"__ndarray__\":\"MH0E/vDzpz9g9Q8iGXKcP3CmCdtPxqg/iPZ4IR0evj8=\",\"dtype\":\"float64\",\"order\":\"little\",\"shape\":[4]},\"Year\":[2012,2013,2014,2016]},\"selected\":{\"id\":\"4397\"},\"selection_policy\":{\"id\":\"4396\"}},\"id\":\"4372\",\"type\":\"ColumnDataSource\"},{\"attributes\":{\"axis_label\":\"Prevalence\",\"formatter\":{\"id\":\"4242\"},\"major_label_policy\":{\"id\":\"4243\"},\"ticker\":{\"id\":\"4216\"}},\"id\":\"4215\",\"type\":\"LinearAxis\"},{\"attributes\":{\"line_alpha\":0.1,\"line_color\":\"#d62728\",\"line_width\":2,\"x\":{\"field\":\"Year\"},\"y\":{\"field\":\"Data\"}},\"id\":\"4313\",\"type\":\"Line\"},{\"attributes\":{\"axis\":{\"id\":\"4211\"},\"ticker\":null},\"id\":\"4214\",\"type\":\"Grid\"},{\"attributes\":{\"line_color\":\"#8c564b\",\"line_width\":2,\"x\":{\"field\":\"Year\"},\"y\":{\"field\":\"Data\"}},\"id\":\"4374\",\"type\":\"Line\"},{\"attributes\":{\"children\":[[{\"id\":\"4200\"},0,0]]},\"id\":\"4427\",\"type\":\"GridBox\"},{\"attributes\":{\"line_alpha\":0.1,\"line_color\":\"#8c564b\",\"line_width\":2,\"x\":{\"field\":\"Year\"},\"y\":{\"field\":\"Data\"}},\"id\":\"4375\",\"type\":\"Line\"},{\"attributes\":{\"label\":{\"value\":\"IRNI\"},\"renderers\":[{\"id\":\"4344\"}]},\"id\":\"4364\",\"type\":\"LegendItem\"},{\"attributes\":{\"source\":{\"id\":\"4340\"}},\"id\":\"4345\",\"type\":\"CDSView\"},{\"attributes\":{\"toolbars\":[{\"id\":\"4225\"}],\"tools\":[{\"id\":\"4219\"},{\"id\":\"4220\"},{\"id\":\"4221\"},{\"id\":\"4222\"},{\"id\":\"4223\"},{\"id\":\"4254\"},{\"id\":\"4280\"},{\"id\":\"4308\"},{\"id\":\"4338\"},{\"id\":\"4370\"},{\"id\":\"4404\"}]},\"id\":\"4428\",\"type\":\"ProxyToolbar\"},{\"attributes\":{\"line_color\":\"#9467bd\",\"line_width\":2,\"x\":{\"field\":\"Year\"},\"y\":{\"field\":\"Data\"}},\"id\":\"4342\",\"type\":\"Line\"},{\"attributes\":{\"label\":{\"value\":\"AIRNIS\"},\"renderers\":[{\"id\":\"4235\"}]},\"id\":\"4248\",\"type\":\"LegendItem\"},{\"attributes\":{\"source\":{\"id\":\"4310\"}},\"id\":\"4315\",\"type\":\"CDSView\"},{\"attributes\":{\"fill_alpha\":{\"value\":0.5},\"fill_color\":{\"value\":\"#ff7f0e\"},\"line_alpha\":{\"value\":0.5},\"line_color\":{\"value\":\"#ff7f0e\"},\"size\":{\"value\":10},\"x\":{\"field\":\"Year\"},\"y\":{\"field\":\"Data\"}},\"id\":\"4276\",\"type\":\"Circle\"},{\"attributes\":{\"line_alpha\":0.1,\"line_color\":\"#9467bd\",\"line_width\":2,\"x\":{\"field\":\"Year\"},\"y\":{\"field\":\"Data\"}},\"id\":\"4343\",\"type\":\"Line\"},{\"attributes\":{\"label\":{\"value\":\"AICNIS\"},\"renderers\":[{\"id\":\"4260\"}]},\"id\":\"4274\",\"type\":\"LegendItem\"},{\"attributes\":{\"line_color\":\"#1f77b4\",\"line_width\":2,\"x\":{\"field\":\"Year\"},\"y\":{\"field\":\"Data\"}},\"id\":\"4233\",\"type\":\"Line\"},{\"attributes\":{\"line_color\":\"#d62728\",\"line_width\":2,\"x\":{\"field\":\"Year\"},\"y\":{\"field\":\"Data\"}},\"id\":\"4312\",\"type\":\"Line\"},{\"attributes\":{},\"id\":\"4209\",\"type\":\"LinearScale\"},{\"attributes\":{\"axis_label\":\"Year\",\"formatter\":{\"id\":\"4239\"},\"major_label_policy\":{\"id\":\"4240\"},\"ticker\":{\"id\":\"4212\"}},\"id\":\"4211\",\"type\":\"LinearAxis\"},{\"attributes\":{\"data\":{\"Data\":{\"__ndarray__\":\"TGcxncV0tj9VVVVVVVW1P4QQQgghhJA/AAAAAAAAAAA=\",\"dtype\":\"float64\",\"order\":\"little\",\"shape\":[4]},\"Year\":[2012,2013,2014,2016]},\"selected\":{\"id\":\"4301\"},\"selection_policy\":{\"id\":\"4300\"}},\"id\":\"4282\",\"type\":\"ColumnDataSource\"},{\"attributes\":{\"fill_alpha\":{\"value\":0.1},\"fill_color\":{\"value\":\"#2ca02c\"},\"line_alpha\":{\"value\":0.1},\"line_color\":{\"value\":\"#2ca02c\"},\"size\":{\"value\":10},\"x\":{\"field\":\"Year\"},\"y\":{\"field\":\"Data\"}},\"id\":\"4305\",\"type\":\"Circle\"},{\"attributes\":{},\"id\":\"4207\",\"type\":\"LinearScale\"},{\"attributes\":{\"source\":{\"id\":\"4282\"}},\"id\":\"4287\",\"type\":\"CDSView\"},{\"attributes\":{\"source\":{\"id\":\"4256\"}},\"id\":\"4261\",\"type\":\"CDSView\"},{\"attributes\":{\"callback\":null,\"renderers\":[{\"id\":\"4306\"}],\"tooltips\":[[\"(x,y)\",\"(@Year,@Data)\"]]},\"id\":\"4308\",\"type\":\"HoverTool\"},{\"attributes\":{\"fill_alpha\":{\"value\":0.1},\"fill_color\":{\"value\":\"#8c564b\"},\"line_alpha\":{\"value\":0.1},\"line_color\":{\"value\":\"#8c564b\"},\"size\":{\"value\":10},\"x\":{\"field\":\"Year\"},\"y\":{\"field\":\"Data\"}},\"id\":\"4401\",\"type\":\"Circle\"},{\"attributes\":{},\"id\":\"4362\",\"type\":\"UnionRenderers\"},{\"attributes\":{},\"id\":\"4363\",\"type\":\"Selection\"},{\"attributes\":{\"data\":{\"Data\":{\"__ndarray__\":\"W0ltJbWV5D+O4ziO4zjmP7733nvvvec/AAAAAAAAAAA=\",\"dtype\":\"float64\",\"order\":\"little\",\"shape\":[4]},\"Year\":[2012,2013,2014,2016]},\"selected\":{\"id\":\"4246\"},\"selection_policy\":{\"id\":\"4245\"}},\"id\":\"4231\",\"type\":\"ColumnDataSource\"},{\"attributes\":{\"source\":{\"id\":\"4372\"}},\"id\":\"4403\",\"type\":\"CDSView\"},{\"attributes\":{\"data_source\":{\"id\":\"4372\"},\"glyph\":{\"id\":\"4400\"},\"hover_glyph\":null,\"muted_glyph\":null,\"nonselection_glyph\":{\"id\":\"4401\"},\"view\":{\"id\":\"4403\"}},\"id\":\"4402\",\"type\":\"GlyphRenderer\"},{\"attributes\":{\"callback\":null,\"renderers\":[{\"id\":\"4402\"}],\"tooltips\":[[\"(x,y)\",\"(@Year,@Data)\"]]},\"id\":\"4404\",\"type\":\"HoverTool\"},{\"attributes\":{},\"id\":\"4242\",\"type\":\"BasicTickFormatter\"},{\"attributes\":{},\"id\":\"4243\",\"type\":\"AllLabels\"},{\"attributes\":{\"source\":{\"id\":\"4372\"}},\"id\":\"4377\",\"type\":\"CDSView\"},{\"attributes\":{\"fill_alpha\":{\"value\":0.5},\"fill_color\":{\"value\":\"#8c564b\"},\"line_alpha\":{\"value\":0.5},\"line_color\":{\"value\":\"#8c564b\"},\"size\":{\"value\":10},\"x\":{\"field\":\"Year\"},\"y\":{\"field\":\"Data\"}},\"id\":\"4400\",\"type\":\"Circle\"},{\"attributes\":{\"fill_alpha\":{\"value\":0.1},\"fill_color\":{\"value\":\"#9467bd\"},\"line_alpha\":{\"value\":0.1},\"line_color\":{\"value\":\"#9467bd\"},\"size\":{\"value\":10},\"x\":{\"field\":\"Year\"},\"y\":{\"field\":\"Data\"}},\"id\":\"4367\",\"type\":\"Circle\"},{\"attributes\":{\"source\":{\"id\":\"4340\"}},\"id\":\"4369\",\"type\":\"CDSView\"},{\"attributes\":{\"data_source\":{\"id\":\"4340\"},\"glyph\":{\"id\":\"4366\"},\"hover_glyph\":null,\"muted_glyph\":null,\"nonselection_glyph\":{\"id\":\"4367\"},\"view\":{\"id\":\"4369\"}},\"id\":\"4368\",\"type\":\"GlyphRenderer\"},{\"attributes\":{\"callback\":null,\"renderers\":[{\"id\":\"4368\"}],\"tooltips\":[[\"(x,y)\",\"(@Year,@Data)\"]]},\"id\":\"4370\",\"type\":\"HoverTool\"},{\"attributes\":{\"below\":[{\"id\":\"4211\"}],\"center\":[{\"id\":\"4214\"},{\"id\":\"4218\"},{\"id\":\"4247\"}],\"height\":400,\"left\":[{\"id\":\"4215\"}],\"renderers\":[{\"id\":\"4235\"},{\"id\":\"4252\"},{\"id\":\"4260\"},{\"id\":\"4278\"},{\"id\":\"4286\"},{\"id\":\"4306\"},{\"id\":\"4314\"},{\"id\":\"4336\"},{\"id\":\"4344\"},{\"id\":\"4368\"},{\"id\":\"4376\"},{\"id\":\"4402\"}],\"title\":{\"id\":\"4201\"},\"toolbar\":{\"id\":\"4225\"},\"toolbar_location\":null,\"width\":400,\"x_range\":{\"id\":\"4203\"},\"x_scale\":{\"id\":\"4207\"},\"y_range\":{\"id\":\"4205\"},\"y_scale\":{\"id\":\"4209\"}},\"id\":\"4200\",\"subtype\":\"Figure\",\"type\":\"Plot\"},{\"attributes\":{},\"id\":\"4245\",\"type\":\"UnionRenderers\"},{\"attributes\":{},\"id\":\"4246\",\"type\":\"Selection\"},{\"attributes\":{\"label\":{\"value\":\"Other\"},\"renderers\":[{\"id\":\"4376\"}]},\"id\":\"4398\",\"type\":\"LegendItem\"},{\"attributes\":{\"fill_alpha\":{\"value\":0.5},\"fill_color\":{\"value\":\"#2ca02c\"},\"line_alpha\":{\"value\":0.5},\"line_color\":{\"value\":\"#2ca02c\"},\"size\":{\"value\":10},\"x\":{\"field\":\"Year\"},\"y\":{\"field\":\"Data\"}},\"id\":\"4304\",\"type\":\"Circle\"},{\"attributes\":{\"label\":{\"value\":\"AI[C/R]NIS\"},\"renderers\":[{\"id\":\"4286\"}]},\"id\":\"4302\",\"type\":\"LegendItem\"},{\"attributes\":{\"text\":\"PfDHFR Predominant Variants in CAF\"},\"id\":\"4201\",\"type\":\"Title\"},{\"attributes\":{\"data\":{\"Data\":{\"__ndarray__\":\"AAAAAAAAAAAAAAAAAAAAAAAAAAAAAAAAPDw8PDw87D8=\",\"dtype\":\"float64\",\"order\":\"little\",\"shape\":[4]},\"Year\":[2012,2013,2014,2016]},\"selected\":{\"id\":\"4363\"},\"selection_policy\":{\"id\":\"4362\"}},\"id\":\"4340\",\"type\":\"ColumnDataSource\"},{\"attributes\":{},\"id\":\"4396\",\"type\":\"UnionRenderers\"},{\"attributes\":{},\"id\":\"4205\",\"type\":\"Range1d\"},{\"attributes\":{\"fill_alpha\":{\"value\":0.5},\"fill_color\":{\"value\":\"#1f77b4\"},\"line_alpha\":{\"value\":0.5},\"line_color\":{\"value\":\"#1f77b4\"},\"size\":{\"value\":10},\"x\":{\"field\":\"Year\"},\"y\":{\"field\":\"Data\"}},\"id\":\"4250\",\"type\":\"Circle\"},{\"attributes\":{\"end\":2019,\"start\":2001},\"id\":\"4203\",\"type\":\"Range1d\"},{\"attributes\":{},\"id\":\"4397\",\"type\":\"Selection\"},{\"attributes\":{},\"id\":\"4301\",\"type\":\"Selection\"},{\"attributes\":{\"line_color\":\"#2ca02c\",\"line_width\":2,\"x\":{\"field\":\"Year\"},\"y\":{\"field\":\"Data\"}},\"id\":\"4284\",\"type\":\"Line\"},{\"attributes\":{},\"id\":\"4300\",\"type\":\"UnionRenderers\"},{\"attributes\":{\"fill_alpha\":{\"value\":0.1},\"fill_color\":{\"value\":\"#1f77b4\"},\"line_alpha\":{\"value\":0.1},\"line_color\":{\"value\":\"#1f77b4\"},\"size\":{\"value\":10},\"x\":{\"field\":\"Year\"},\"y\":{\"field\":\"Data\"}},\"id\":\"4251\",\"type\":\"Circle\"},{\"attributes\":{\"source\":{\"id\":\"4231\"}},\"id\":\"4253\",\"type\":\"CDSView\"},{\"attributes\":{\"data_source\":{\"id\":\"4231\"},\"glyph\":{\"id\":\"4250\"},\"hover_glyph\":null,\"muted_glyph\":null,\"nonselection_glyph\":{\"id\":\"4251\"},\"view\":{\"id\":\"4253\"}},\"id\":\"4252\",\"type\":\"GlyphRenderer\"},{\"attributes\":{\"callback\":null,\"renderers\":[{\"id\":\"4252\"}],\"tooltips\":[[\"(x,y)\",\"(@Year,@Data)\"]]},\"id\":\"4254\",\"type\":\"HoverTool\"},{\"attributes\":{\"line_color\":\"#ff7f0e\",\"line_width\":2,\"x\":{\"field\":\"Year\"},\"y\":{\"field\":\"Data\"}},\"id\":\"4258\",\"type\":\"Line\"},{\"attributes\":{\"line_alpha\":0.1,\"line_color\":\"#ff7f0e\",\"line_width\":2,\"x\":{\"field\":\"Year\"},\"y\":{\"field\":\"Data\"}},\"id\":\"4259\",\"type\":\"Line\"},{\"attributes\":{\"data_source\":{\"id\":\"4256\"},\"glyph\":{\"id\":\"4258\"},\"hover_glyph\":null,\"muted_glyph\":null,\"nonselection_glyph\":{\"id\":\"4259\"},\"view\":{\"id\":\"4261\"}},\"id\":\"4260\",\"type\":\"GlyphRenderer\"}],\"root_ids\":[\"4430\"]},\"title\":\"Bokeh Application\",\"version\":\"2.3.3\"}};\n",
       "  var render_items = [{\"docid\":\"fb99f6e0-a2dc-4428-bde7-f56bd16a992a\",\"root_ids\":[\"4430\"],\"roots\":{\"4430\":\"e188d647-a6e4-41c7-864c-e112f91f386f\"}}];\n",
       "  root.Bokeh.embed.embed_items_notebook(docs_json, render_items);\n",
       "\n",
       "  }\n",
       "  if (root.Bokeh !== undefined) {\n",
       "    embed_document(root);\n",
       "  } else {\n",
       "    var attempts = 0;\n",
       "    var timer = setInterval(function(root) {\n",
       "      if (root.Bokeh !== undefined) {\n",
       "        clearInterval(timer);\n",
       "        embed_document(root);\n",
       "      } else {\n",
       "        attempts++;\n",
       "        if (attempts > 100) {\n",
       "          clearInterval(timer);\n",
       "          console.log(\"Bokeh: ERROR: Unable to run BokehJS code because BokehJS library is missing\");\n",
       "        }\n",
       "      }\n",
       "    }, 10, root)\n",
       "  }\n",
       "})(window);"
      ],
      "application/vnd.bokehjs_exec.v0+json": ""
     },
     "metadata": {
      "application/vnd.bokehjs_exec.v0+json": {
       "id": "4430"
      }
     },
     "output_type": "display_data"
    },
    {
     "data": {
      "text/plain": [
       "<data_analysis.plotting.Subplots at 0x11ac70c40>"
      ]
     },
     "execution_count": 15,
     "metadata": {},
     "output_type": "execute_result"
    }
   ],
   "source": [
    "plot_haplotype_frequency(pf6plus, 'PfDHFR', num_top_haplotypes=5, populations = ['CAF'], years = None, bin=False)"
   ]
  },
  {
   "cell_type": "code",
   "execution_count": 16,
   "metadata": {
    "colab": {
     "base_uri": "https://localhost:8080/",
     "height": 464
    },
    "id": "AZEtSUqxTjAX",
    "outputId": "7b71dbcf-28ed-4f89-f8e6-10bd18bff477"
   },
   "outputs": [
    {
     "data": {
      "text/html": [
       "\n",
       "\n",
       "\n",
       "\n",
       "\n",
       "\n",
       "  <div class=\"bk-root\" id=\"ba558fc2-19b1-4c71-9a17-96031add0485\" data-root-id=\"4969\"></div>\n"
      ]
     },
     "metadata": {},
     "output_type": "display_data"
    },
    {
     "data": {
      "application/javascript": [
       "(function(root) {\n",
       "  function embed_document(root) {\n",
       "    \n",
       "  var docs_json = {\"dd0301b6-618e-49dd-a587-c8de63aa3654\":{\"defs\":[],\"roots\":{\"references\":[{\"attributes\":{\"children\":[{\"id\":\"4968\"},{\"id\":\"4966\"}]},\"id\":\"4969\",\"type\":\"Column\"},{\"attributes\":{\"children\":[[{\"id\":\"4739\"},0,0]]},\"id\":\"4966\",\"type\":\"GridBox\"},{\"attributes\":{},\"id\":\"4811\",\"type\":\"UnionRenderers\"},{\"attributes\":{},\"id\":\"4812\",\"type\":\"Selection\"},{\"attributes\":{\"fill_alpha\":{\"value\":0.1},\"fill_color\":{\"value\":\"#8c564b\"},\"line_alpha\":{\"value\":0.1},\"line_color\":{\"value\":\"#8c564b\"},\"size\":{\"value\":10},\"x\":{\"field\":\"Year\"},\"y\":{\"field\":\"Data\"}},\"id\":\"4940\",\"type\":\"Circle\"},{\"attributes\":{\"data\":{\"Data\":{\"__ndarray__\":\"GIZhGIZh2D8rmCXlgMjQP8VO7MRO7NQ/\",\"dtype\":\"float64\",\"order\":\"little\",\"shape\":[3]},\"Year\":[2007,2013,2014]},\"selected\":{\"id\":\"4812\"},\"selection_policy\":{\"id\":\"4811\"}},\"id\":\"4795\",\"type\":\"ColumnDataSource\"},{\"attributes\":{\"source\":{\"id\":\"4911\"}},\"id\":\"4942\",\"type\":\"CDSView\"},{\"attributes\":{\"data_source\":{\"id\":\"4911\"},\"glyph\":{\"id\":\"4939\"},\"hover_glyph\":null,\"muted_glyph\":null,\"nonselection_glyph\":{\"id\":\"4940\"},\"view\":{\"id\":\"4942\"}},\"id\":\"4941\",\"type\":\"GlyphRenderer\"},{\"attributes\":{\"callback\":null,\"renderers\":[{\"id\":\"4941\"}],\"tooltips\":[[\"(x,y)\",\"(@Year,@Data)\"]]},\"id\":\"4943\",\"type\":\"HoverTool\"},{\"attributes\":{},\"id\":\"4784\",\"type\":\"UnionRenderers\"},{\"attributes\":{},\"id\":\"4901\",\"type\":\"UnionRenderers\"},{\"attributes\":{},\"id\":\"4785\",\"type\":\"Selection\"},{\"attributes\":{},\"id\":\"4902\",\"type\":\"Selection\"},{\"attributes\":{\"line_color\":\"#1f77b4\",\"line_width\":2,\"x\":{\"field\":\"Year\"},\"y\":{\"field\":\"Data\"}},\"id\":\"4772\",\"type\":\"Line\"},{\"attributes\":{\"bottom_units\":\"screen\",\"fill_alpha\":0.5,\"fill_color\":\"lightgrey\",\"left_units\":\"screen\",\"level\":\"overlay\",\"line_alpha\":1.0,\"line_color\":\"black\",\"line_dash\":[4,4],\"line_width\":2,\"right_units\":\"screen\",\"syncable\":false,\"top_units\":\"screen\"},\"id\":\"4763\",\"type\":\"BoxAnnotation\"},{\"attributes\":{\"data_source\":{\"id\":\"4795\"},\"glyph\":{\"id\":\"4815\"},\"hover_glyph\":null,\"muted_glyph\":null,\"nonselection_glyph\":{\"id\":\"4816\"},\"view\":{\"id\":\"4818\"}},\"id\":\"4817\",\"type\":\"GlyphRenderer\"},{\"attributes\":{\"background_fill_alpha\":0.7,\"items\":[{\"id\":\"4787\"},{\"id\":\"4813\"},{\"id\":\"4841\"},{\"id\":\"4871\"},{\"id\":\"4903\"},{\"id\":\"4937\"}]},\"id\":\"4786\",\"type\":\"Legend\"},{\"attributes\":{\"source\":{\"id\":\"4770\"}},\"id\":\"4775\",\"type\":\"CDSView\"},{\"attributes\":{\"callback\":null,\"renderers\":[{\"id\":\"4817\"}],\"tooltips\":[[\"(x,y)\",\"(@Year,@Data)\"]]},\"id\":\"4819\",\"type\":\"HoverTool\"},{\"attributes\":{\"source\":{\"id\":\"4795\"}},\"id\":\"4818\",\"type\":\"CDSView\"},{\"attributes\":{\"data\":{\"Data\":{\"__ndarray__\":\"VVVVVVVVtT+E6jNtjb+7PxQ7sRM7sZM/\",\"dtype\":\"float64\",\"order\":\"little\",\"shape\":[3]},\"Year\":[2007,2013,2014]},\"selected\":{\"id\":\"4840\"},\"selection_policy\":{\"id\":\"4839\"}},\"id\":\"4821\",\"type\":\"ColumnDataSource\"},{\"attributes\":{\"data_source\":{\"id\":\"4770\"},\"glyph\":{\"id\":\"4772\"},\"hover_glyph\":null,\"muted_glyph\":null,\"nonselection_glyph\":{\"id\":\"4773\"},\"view\":{\"id\":\"4775\"}},\"id\":\"4774\",\"type\":\"GlyphRenderer\"},{\"attributes\":{\"source\":{\"id\":\"4911\"}},\"id\":\"4916\",\"type\":\"CDSView\"},{\"attributes\":{\"fill_alpha\":{\"value\":0.5},\"fill_color\":{\"value\":\"#8c564b\"},\"line_alpha\":{\"value\":0.5},\"line_color\":{\"value\":\"#8c564b\"},\"size\":{\"value\":10},\"x\":{\"field\":\"Year\"},\"y\":{\"field\":\"Data\"}},\"id\":\"4939\",\"type\":\"Circle\"},{\"attributes\":{\"source\":{\"id\":\"4795\"}},\"id\":\"4800\",\"type\":\"CDSView\"},{\"attributes\":{\"callback\":null,\"renderers\":[{\"id\":\"4907\"}],\"tooltips\":[[\"(x,y)\",\"(@Year,@Data)\"]]},\"id\":\"4909\",\"type\":\"HoverTool\"},{\"attributes\":{\"line_alpha\":0.1,\"line_color\":\"#ff7f0e\",\"line_width\":2,\"x\":{\"field\":\"Year\"},\"y\":{\"field\":\"Data\"}},\"id\":\"4798\",\"type\":\"Line\"},{\"attributes\":{\"source\":{\"id\":\"4821\"}},\"id\":\"4826\",\"type\":\"CDSView\"},{\"attributes\":{\"source\":{\"id\":\"4879\"}},\"id\":\"4908\",\"type\":\"CDSView\"},{\"attributes\":{\"line_alpha\":0.1,\"line_color\":\"#1f77b4\",\"line_width\":2,\"x\":{\"field\":\"Year\"},\"y\":{\"field\":\"Data\"}},\"id\":\"4773\",\"type\":\"Line\"},{\"attributes\":{\"fill_alpha\":{\"value\":0.5},\"fill_color\":{\"value\":\"#1f77b4\"},\"line_alpha\":{\"value\":0.5},\"line_color\":{\"value\":\"#1f77b4\"},\"size\":{\"value\":10},\"x\":{\"field\":\"Year\"},\"y\":{\"field\":\"Data\"}},\"id\":\"4789\",\"type\":\"Circle\"},{\"attributes\":{\"line_color\":\"#ff7f0e\",\"line_width\":2,\"x\":{\"field\":\"Year\"},\"y\":{\"field\":\"Data\"}},\"id\":\"4797\",\"type\":\"Line\"},{\"attributes\":{\"label\":{\"value\":\"AIRNIS\"},\"renderers\":[{\"id\":\"4774\"}]},\"id\":\"4787\",\"type\":\"LegendItem\"},{\"attributes\":{\"fill_alpha\":{\"value\":0.1},\"fill_color\":{\"value\":\"#ff7f0e\"},\"line_alpha\":{\"value\":0.1},\"line_color\":{\"value\":\"#ff7f0e\"},\"size\":{\"value\":10},\"x\":{\"field\":\"Year\"},\"y\":{\"field\":\"Data\"}},\"id\":\"4816\",\"type\":\"Circle\"},{\"attributes\":{\"line_color\":\"#d62728\",\"line_width\":2,\"x\":{\"field\":\"Year\"},\"y\":{\"field\":\"Data\"}},\"id\":\"4851\",\"type\":\"Line\"},{\"attributes\":{\"data_source\":{\"id\":\"4849\"},\"glyph\":{\"id\":\"4851\"},\"hover_glyph\":null,\"muted_glyph\":null,\"nonselection_glyph\":{\"id\":\"4852\"},\"view\":{\"id\":\"4854\"}},\"id\":\"4853\",\"type\":\"GlyphRenderer\"},{\"attributes\":{\"fill_alpha\":{\"value\":0.1},\"fill_color\":{\"value\":\"#1f77b4\"},\"line_alpha\":{\"value\":0.1},\"line_color\":{\"value\":\"#1f77b4\"},\"size\":{\"value\":10},\"x\":{\"field\":\"Year\"},\"y\":{\"field\":\"Data\"}},\"id\":\"4790\",\"type\":\"Circle\"},{\"attributes\":{\"line_alpha\":0.1,\"line_color\":\"#d62728\",\"line_width\":2,\"x\":{\"field\":\"Year\"},\"y\":{\"field\":\"Data\"}},\"id\":\"4852\",\"type\":\"Line\"},{\"attributes\":{\"data_source\":{\"id\":\"4795\"},\"glyph\":{\"id\":\"4797\"},\"hover_glyph\":null,\"muted_glyph\":null,\"nonselection_glyph\":{\"id\":\"4798\"},\"view\":{\"id\":\"4800\"}},\"id\":\"4799\",\"type\":\"GlyphRenderer\"},{\"attributes\":{\"source\":{\"id\":\"4770\"}},\"id\":\"4792\",\"type\":\"CDSView\"},{\"attributes\":{\"data_source\":{\"id\":\"4770\"},\"glyph\":{\"id\":\"4789\"},\"hover_glyph\":null,\"muted_glyph\":null,\"nonselection_glyph\":{\"id\":\"4790\"},\"view\":{\"id\":\"4792\"}},\"id\":\"4791\",\"type\":\"GlyphRenderer\"},{\"attributes\":{\"data_source\":{\"id\":\"4879\"},\"glyph\":{\"id\":\"4905\"},\"hover_glyph\":null,\"muted_glyph\":null,\"nonselection_glyph\":{\"id\":\"4906\"},\"view\":{\"id\":\"4908\"}},\"id\":\"4907\",\"type\":\"GlyphRenderer\"},{\"attributes\":{\"callback\":null,\"renderers\":[{\"id\":\"4791\"}],\"tooltips\":[[\"(x,y)\",\"(@Year,@Data)\"]]},\"id\":\"4793\",\"type\":\"HoverTool\"},{\"attributes\":{\"data\":{\"Data\":{\"__ndarray__\":\"GIZhGIZhiD+R4V4Fs6ScPxQ7sRM7sbM/\",\"dtype\":\"float64\",\"order\":\"little\",\"shape\":[3]},\"Year\":[2007,2013,2014]},\"selected\":{\"id\":\"4902\"},\"selection_policy\":{\"id\":\"4901\"}},\"id\":\"4879\",\"type\":\"ColumnDataSource\"},{\"attributes\":{\"fill_alpha\":{\"value\":0.5},\"fill_color\":{\"value\":\"#ff7f0e\"},\"line_alpha\":{\"value\":0.5},\"line_color\":{\"value\":\"#ff7f0e\"},\"size\":{\"value\":10},\"x\":{\"field\":\"Year\"},\"y\":{\"field\":\"Data\"}},\"id\":\"4815\",\"type\":\"Circle\"},{\"attributes\":{\"fill_alpha\":{\"value\":0.1},\"fill_color\":{\"value\":\"#9467bd\"},\"line_alpha\":{\"value\":0.1},\"line_color\":{\"value\":\"#9467bd\"},\"size\":{\"value\":10},\"x\":{\"field\":\"Year\"},\"y\":{\"field\":\"Data\"}},\"id\":\"4906\",\"type\":\"Circle\"},{\"attributes\":{\"label\":{\"value\":\"ANCSIS\"},\"renderers\":[{\"id\":\"4799\"}]},\"id\":\"4813\",\"type\":\"LegendItem\"},{\"attributes\":{\"toolbar\":{\"id\":\"4967\"},\"toolbar_location\":\"above\"},\"id\":\"4968\",\"type\":\"ToolbarBox\"},{\"attributes\":{\"label\":{\"value\":\"A[I/N][R/C][N/S]IS\"},\"renderers\":[{\"id\":\"4825\"}]},\"id\":\"4841\",\"type\":\"LegendItem\"},{\"attributes\":{},\"id\":\"4839\",\"type\":\"UnionRenderers\"},{\"attributes\":{\"label\":{\"value\":\"Other\"},\"renderers\":[{\"id\":\"4915\"}]},\"id\":\"4937\",\"type\":\"LegendItem\"},{\"attributes\":{},\"id\":\"4840\",\"type\":\"Selection\"},{\"attributes\":{\"active_drag\":{\"id\":\"4758\"},\"active_multi\":null,\"active_scroll\":{\"id\":\"4759\"},\"tools\":[{\"id\":\"4758\"},{\"id\":\"4759\"},{\"id\":\"4760\"},{\"id\":\"4761\"},{\"id\":\"4762\"},{\"id\":\"4793\"},{\"id\":\"4819\"},{\"id\":\"4847\"},{\"id\":\"4877\"},{\"id\":\"4909\"},{\"id\":\"4943\"}]},\"id\":\"4764\",\"type\":\"Toolbar\"},{\"attributes\":{\"line_color\":\"#2ca02c\",\"line_width\":2,\"x\":{\"field\":\"Year\"},\"y\":{\"field\":\"Data\"}},\"id\":\"4823\",\"type\":\"Line\"},{\"attributes\":{\"data_source\":{\"id\":\"4821\"},\"glyph\":{\"id\":\"4823\"},\"hover_glyph\":null,\"muted_glyph\":null,\"nonselection_glyph\":{\"id\":\"4824\"},\"view\":{\"id\":\"4826\"}},\"id\":\"4825\",\"type\":\"GlyphRenderer\"},{\"attributes\":{\"line_alpha\":0.1,\"line_color\":\"#2ca02c\",\"line_width\":2,\"x\":{\"field\":\"Year\"},\"y\":{\"field\":\"Data\"}},\"id\":\"4824\",\"type\":\"Line\"},{\"attributes\":{},\"id\":\"4779\",\"type\":\"AllLabels\"},{\"attributes\":{\"data\":{\"Data\":{\"__ndarray__\":\"9DzP8zzPwz9fBbOkHBCpPxQ7sRM7sZM/\",\"dtype\":\"float64\",\"order\":\"little\",\"shape\":[3]},\"Year\":[2007,2013,2014]},\"selected\":{\"id\":\"4870\"},\"selection_policy\":{\"id\":\"4869\"}},\"id\":\"4849\",\"type\":\"ColumnDataSource\"},{\"attributes\":{},\"id\":\"4935\",\"type\":\"UnionRenderers\"},{\"attributes\":{},\"id\":\"4936\",\"type\":\"Selection\"},{\"attributes\":{\"fill_alpha\":{\"value\":0.5},\"fill_color\":{\"value\":\"#2ca02c\"},\"line_alpha\":{\"value\":0.5},\"line_color\":{\"value\":\"#2ca02c\"},\"size\":{\"value\":10},\"x\":{\"field\":\"Year\"},\"y\":{\"field\":\"Data\"}},\"id\":\"4843\",\"type\":\"Circle\"},{\"attributes\":{},\"id\":\"4778\",\"type\":\"BasicTickFormatter\"},{\"attributes\":{\"fill_alpha\":{\"value\":0.1},\"fill_color\":{\"value\":\"#2ca02c\"},\"line_alpha\":{\"value\":0.1},\"line_color\":{\"value\":\"#2ca02c\"},\"size\":{\"value\":10},\"x\":{\"field\":\"Year\"},\"y\":{\"field\":\"Data\"}},\"id\":\"4844\",\"type\":\"Circle\"},{\"attributes\":{\"data_source\":{\"id\":\"4821\"},\"glyph\":{\"id\":\"4843\"},\"hover_glyph\":null,\"muted_glyph\":null,\"nonselection_glyph\":{\"id\":\"4844\"},\"view\":{\"id\":\"4846\"}},\"id\":\"4845\",\"type\":\"GlyphRenderer\"},{\"attributes\":{\"callback\":null,\"renderers\":[{\"id\":\"4845\"}],\"tooltips\":[[\"(x,y)\",\"(@Year,@Data)\"]]},\"id\":\"4847\",\"type\":\"HoverTool\"},{\"attributes\":{\"source\":{\"id\":\"4849\"}},\"id\":\"4854\",\"type\":\"CDSView\"},{\"attributes\":{\"label\":{\"value\":\"A[N/I][C/R][S/N]IS\"},\"renderers\":[{\"id\":\"4853\"}]},\"id\":\"4871\",\"type\":\"LegendItem\"},{\"attributes\":{\"source\":{\"id\":\"4821\"}},\"id\":\"4846\",\"type\":\"CDSView\"},{\"attributes\":{\"source\":{\"id\":\"4879\"}},\"id\":\"4884\",\"type\":\"CDSView\"},{\"attributes\":{\"line_color\":\"#9467bd\",\"line_width\":2,\"x\":{\"field\":\"Year\"},\"y\":{\"field\":\"Data\"}},\"id\":\"4881\",\"type\":\"Line\"},{\"attributes\":{},\"id\":\"4869\",\"type\":\"UnionRenderers\"},{\"attributes\":{},\"id\":\"4759\",\"type\":\"WheelZoomTool\"},{\"attributes\":{},\"id\":\"4870\",\"type\":\"Selection\"},{\"attributes\":{\"below\":[{\"id\":\"4750\"}],\"center\":[{\"id\":\"4753\"},{\"id\":\"4757\"},{\"id\":\"4786\"}],\"height\":400,\"left\":[{\"id\":\"4754\"}],\"renderers\":[{\"id\":\"4774\"},{\"id\":\"4791\"},{\"id\":\"4799\"},{\"id\":\"4817\"},{\"id\":\"4825\"},{\"id\":\"4845\"},{\"id\":\"4853\"},{\"id\":\"4875\"},{\"id\":\"4883\"},{\"id\":\"4907\"},{\"id\":\"4915\"},{\"id\":\"4941\"}],\"title\":{\"id\":\"4740\"},\"toolbar\":{\"id\":\"4764\"},\"toolbar_location\":null,\"width\":400,\"x_range\":{\"id\":\"4742\"},\"x_scale\":{\"id\":\"4746\"},\"y_range\":{\"id\":\"4744\"},\"y_scale\":{\"id\":\"4748\"}},\"id\":\"4739\",\"subtype\":\"Figure\",\"type\":\"Plot\"},{\"attributes\":{},\"id\":\"4782\",\"type\":\"AllLabels\"},{\"attributes\":{},\"id\":\"4761\",\"type\":\"ResetTool\"},{\"attributes\":{\"axis\":{\"id\":\"4754\"},\"dimension\":1,\"ticker\":null},\"id\":\"4757\",\"type\":\"Grid\"},{\"attributes\":{\"text\":\"PfDHFR Predominant Variants in Mali\"},\"id\":\"4740\",\"type\":\"Title\"},{\"attributes\":{},\"id\":\"4751\",\"type\":\"BasicTicker\"},{\"attributes\":{\"axis\":{\"id\":\"4750\"},\"ticker\":null},\"id\":\"4753\",\"type\":\"Grid\"},{\"attributes\":{\"fill_alpha\":{\"value\":0.5},\"fill_color\":{\"value\":\"#d62728\"},\"line_alpha\":{\"value\":0.5},\"line_color\":{\"value\":\"#d62728\"},\"size\":{\"value\":10},\"x\":{\"field\":\"Year\"},\"y\":{\"field\":\"Data\"}},\"id\":\"4873\",\"type\":\"Circle\"},{\"attributes\":{},\"id\":\"4746\",\"type\":\"LinearScale\"},{\"attributes\":{\"line_alpha\":0.1,\"line_color\":\"#8c564b\",\"line_width\":2,\"x\":{\"field\":\"Year\"},\"y\":{\"field\":\"Data\"}},\"id\":\"4914\",\"type\":\"Line\"},{\"attributes\":{\"axis_label\":\"Year\",\"formatter\":{\"id\":\"4778\"},\"major_label_policy\":{\"id\":\"4779\"},\"ticker\":{\"id\":\"4751\"}},\"id\":\"4750\",\"type\":\"LinearAxis\"},{\"attributes\":{\"fill_alpha\":{\"value\":0.1},\"fill_color\":{\"value\":\"#d62728\"},\"line_alpha\":{\"value\":0.1},\"line_color\":{\"value\":\"#d62728\"},\"size\":{\"value\":10},\"x\":{\"field\":\"Year\"},\"y\":{\"field\":\"Data\"}},\"id\":\"4874\",\"type\":\"Circle\"},{\"attributes\":{},\"id\":\"4744\",\"type\":\"Range1d\"},{\"attributes\":{\"source\":{\"id\":\"4849\"}},\"id\":\"4876\",\"type\":\"CDSView\"},{\"attributes\":{\"data_source\":{\"id\":\"4849\"},\"glyph\":{\"id\":\"4873\"},\"hover_glyph\":null,\"muted_glyph\":null,\"nonselection_glyph\":{\"id\":\"4874\"},\"view\":{\"id\":\"4876\"}},\"id\":\"4875\",\"type\":\"GlyphRenderer\"},{\"attributes\":{\"callback\":null,\"renderers\":[{\"id\":\"4875\"}],\"tooltips\":[[\"(x,y)\",\"(@Year,@Data)\"]]},\"id\":\"4877\",\"type\":\"HoverTool\"},{\"attributes\":{\"end\":2019,\"start\":2001},\"id\":\"4742\",\"type\":\"Range1d\"},{\"attributes\":{},\"id\":\"4748\",\"type\":\"LinearScale\"},{\"attributes\":{\"overlay\":{\"id\":\"4763\"}},\"id\":\"4760\",\"type\":\"BoxZoomTool\"},{\"attributes\":{\"data_source\":{\"id\":\"4879\"},\"glyph\":{\"id\":\"4881\"},\"hover_glyph\":null,\"muted_glyph\":null,\"nonselection_glyph\":{\"id\":\"4882\"},\"view\":{\"id\":\"4884\"}},\"id\":\"4883\",\"type\":\"GlyphRenderer\"},{\"attributes\":{\"axis_label\":\"Prevalence\",\"formatter\":{\"id\":\"4781\"},\"major_label_policy\":{\"id\":\"4782\"},\"ticker\":{\"id\":\"4755\"}},\"id\":\"4754\",\"type\":\"LinearAxis\"},{\"attributes\":{},\"id\":\"4758\",\"type\":\"PanTool\"},{\"attributes\":{\"line_alpha\":0.1,\"line_color\":\"#9467bd\",\"line_width\":2,\"x\":{\"field\":\"Year\"},\"y\":{\"field\":\"Data\"}},\"id\":\"4882\",\"type\":\"Line\"},{\"attributes\":{\"data\":{\"Data\":{\"__ndarray__\":\"IHqnAu55rj+IVrWkoxywP8hpT8k5sbM/\",\"dtype\":\"float64\",\"order\":\"little\",\"shape\":[3]},\"Year\":[2007,2013,2014]},\"selected\":{\"id\":\"4936\"},\"selection_policy\":{\"id\":\"4935\"}},\"id\":\"4911\",\"type\":\"ColumnDataSource\"},{\"attributes\":{\"data\":{\"Data\":{\"__ndarray__\":\"9DzP8zzP0z+3xt/NI1TfP0/sxE7sxN4/\",\"dtype\":\"float64\",\"order\":\"little\",\"shape\":[3]},\"Year\":[2007,2013,2014]},\"selected\":{\"id\":\"4785\"},\"selection_policy\":{\"id\":\"4784\"}},\"id\":\"4770\",\"type\":\"ColumnDataSource\"},{\"attributes\":{\"toolbars\":[{\"id\":\"4764\"}],\"tools\":[{\"id\":\"4758\"},{\"id\":\"4759\"},{\"id\":\"4760\"},{\"id\":\"4761\"},{\"id\":\"4762\"},{\"id\":\"4793\"},{\"id\":\"4819\"},{\"id\":\"4847\"},{\"id\":\"4877\"},{\"id\":\"4909\"},{\"id\":\"4943\"}]},\"id\":\"4967\",\"type\":\"ProxyToolbar\"},{\"attributes\":{},\"id\":\"4755\",\"type\":\"BasicTicker\"},{\"attributes\":{\"line_color\":\"#8c564b\",\"line_width\":2,\"x\":{\"field\":\"Year\"},\"y\":{\"field\":\"Data\"}},\"id\":\"4913\",\"type\":\"Line\"},{\"attributes\":{\"callback\":null},\"id\":\"4762\",\"type\":\"TapTool\"},{\"attributes\":{\"label\":{\"value\":\"ANRNIS\"},\"renderers\":[{\"id\":\"4883\"}]},\"id\":\"4903\",\"type\":\"LegendItem\"},{\"attributes\":{\"fill_alpha\":{\"value\":0.5},\"fill_color\":{\"value\":\"#9467bd\"},\"line_alpha\":{\"value\":0.5},\"line_color\":{\"value\":\"#9467bd\"},\"size\":{\"value\":10},\"x\":{\"field\":\"Year\"},\"y\":{\"field\":\"Data\"}},\"id\":\"4905\",\"type\":\"Circle\"},{\"attributes\":{\"data_source\":{\"id\":\"4911\"},\"glyph\":{\"id\":\"4913\"},\"hover_glyph\":null,\"muted_glyph\":null,\"nonselection_glyph\":{\"id\":\"4914\"},\"view\":{\"id\":\"4916\"}},\"id\":\"4915\",\"type\":\"GlyphRenderer\"},{\"attributes\":{},\"id\":\"4781\",\"type\":\"BasicTickFormatter\"}],\"root_ids\":[\"4969\"]},\"title\":\"Bokeh Application\",\"version\":\"2.3.3\"}};\n",
       "  var render_items = [{\"docid\":\"dd0301b6-618e-49dd-a587-c8de63aa3654\",\"root_ids\":[\"4969\"],\"roots\":{\"4969\":\"ba558fc2-19b1-4c71-9a17-96031add0485\"}}];\n",
       "  root.Bokeh.embed.embed_items_notebook(docs_json, render_items);\n",
       "\n",
       "  }\n",
       "  if (root.Bokeh !== undefined) {\n",
       "    embed_document(root);\n",
       "  } else {\n",
       "    var attempts = 0;\n",
       "    var timer = setInterval(function(root) {\n",
       "      if (root.Bokeh !== undefined) {\n",
       "        clearInterval(timer);\n",
       "        embed_document(root);\n",
       "      } else {\n",
       "        attempts++;\n",
       "        if (attempts > 100) {\n",
       "          clearInterval(timer);\n",
       "          console.log(\"Bokeh: ERROR: Unable to run BokehJS code because BokehJS library is missing\");\n",
       "        }\n",
       "      }\n",
       "    }, 10, root)\n",
       "  }\n",
       "})(window);"
      ],
      "application/vnd.bokehjs_exec.v0+json": ""
     },
     "metadata": {
      "application/vnd.bokehjs_exec.v0+json": {
       "id": "4969"
      }
     },
     "output_type": "display_data"
    },
    {
     "data": {
      "text/plain": [
       "<data_analysis.plotting.Subplots at 0x11ac70c10>"
      ]
     },
     "execution_count": 16,
     "metadata": {},
     "output_type": "execute_result"
    }
   ],
   "source": [
    "plot_haplotype_frequency(pf6plus, 'PfDHFR', num_top_haplotypes=5, countries = ['Mali'], bin=False)"
   ]
  },
  {
   "cell_type": "markdown",
   "metadata": {
    "id": "0ZATSoVPl_Ek"
   },
   "source": [
    "## What else can I do? \n",
    "\n",
    "Imagine we are interested on the evolution of *Kelch13* haplotypes in ESEA, a quick way to visualise the context, would be to compare different countries within this population and see if it is possible to detect any country-specific mutations. \n"
   ]
  },
  {
   "cell_type": "code",
   "execution_count": 17,
   "metadata": {
    "colab": {
     "base_uri": "https://localhost:8080/",
     "height": 464
    },
    "id": "4IJIY3ZGUOqk",
    "outputId": "b6b6b934-7053-446c-950c-0d6e4a222c96"
   },
   "outputs": [
    {
     "data": {
      "text/html": [
       "\n",
       "\n",
       "\n",
       "\n",
       "\n",
       "\n",
       "  <div class=\"bk-root\" id=\"2e770249-9b1f-4ea1-882d-295a1f78ffab\" data-root-id=\"5528\"></div>\n"
      ]
     },
     "metadata": {},
     "output_type": "display_data"
    },
    {
     "data": {
      "application/javascript": [
       "(function(root) {\n",
       "  function embed_document(root) {\n",
       "    \n",
       "  var docs_json = {\"2c3196d5-b5dc-4be8-b602-49477c439f6b\":{\"defs\":[],\"roots\":{\"references\":[{\"attributes\":{\"children\":[{\"id\":\"5527\"},{\"id\":\"5525\"}]},\"id\":\"5528\",\"type\":\"Column\"},{\"attributes\":{\"data\":{\"Data\":{\"__ndarray__\":\"chzHcRzH4T9VVVVVVVXFP5IkSZIkSdI/J+XTSfl04j9JutadDyzjP4Mt2IIt2OI/ntiJndiJ3T9T1pQ1ZU3ZP47jOI7jOL4/I2Xg6db8wD9iXyYec1rZP8w9JHl9p9g/R1juaYTlvj8=\",\"dtype\":\"float64\",\"order\":\"little\",\"shape\":[13]},\"Year\":[2007,2008,2009,2010,2011,2012,2013,2014,2015,2016,2017,2018,2019]},\"selected\":{\"id\":\"5371\"},\"selection_policy\":{\"id\":\"5370\"}},\"id\":\"5354\",\"type\":\"ColumnDataSource\"},{\"attributes\":{},\"id\":\"5370\",\"type\":\"UnionRenderers\"},{\"attributes\":{\"label\":{\"value\":\"R539T\"},\"renderers\":[{\"id\":\"5412\"}]},\"id\":\"5430\",\"type\":\"LegendItem\"},{\"attributes\":{},\"id\":\"5371\",\"type\":\"Selection\"},{\"attributes\":{\"fill_alpha\":{\"value\":0.5},\"fill_color\":{\"value\":\"#9467bd\"},\"line_alpha\":{\"value\":0.5},\"line_color\":{\"value\":\"#9467bd\"},\"size\":{\"value\":10},\"x\":{\"field\":\"Year\"},\"y\":{\"field\":\"Data\"}},\"id\":\"5464\",\"type\":\"Circle\"},{\"attributes\":{\"bottom_units\":\"screen\",\"fill_alpha\":0.5,\"fill_color\":\"lightgrey\",\"left_units\":\"screen\",\"level\":\"overlay\",\"line_alpha\":1.0,\"line_color\":\"black\",\"line_dash\":[4,4],\"line_width\":2,\"right_units\":\"screen\",\"syncable\":false,\"top_units\":\"screen\"},\"id\":\"5322\",\"type\":\"BoxAnnotation\"},{\"attributes\":{\"line_color\":\"#1f77b4\",\"line_width\":2,\"x\":{\"field\":\"Year\"},\"y\":{\"field\":\"Data\"}},\"id\":\"5331\",\"type\":\"Line\"},{\"attributes\":{},\"id\":\"5343\",\"type\":\"UnionRenderers\"},{\"attributes\":{\"line_color\":\"#9467bd\",\"line_width\":2,\"x\":{\"field\":\"Year\"},\"y\":{\"field\":\"Data\"}},\"id\":\"5440\",\"type\":\"Line\"},{\"attributes\":{},\"id\":\"5460\",\"type\":\"UnionRenderers\"},{\"attributes\":{},\"id\":\"5344\",\"type\":\"Selection\"},{\"attributes\":{},\"id\":\"5461\",\"type\":\"Selection\"},{\"attributes\":{\"data_source\":{\"id\":\"5470\"},\"glyph\":{\"id\":\"5472\"},\"hover_glyph\":null,\"muted_glyph\":null,\"nonselection_glyph\":{\"id\":\"5473\"},\"view\":{\"id\":\"5475\"}},\"id\":\"5474\",\"type\":\"GlyphRenderer\"},{\"attributes\":{\"source\":{\"id\":\"5329\"}},\"id\":\"5334\",\"type\":\"CDSView\"},{\"attributes\":{\"callback\":null,\"renderers\":[{\"id\":\"5466\"}],\"tooltips\":[[\"(x,y)\",\"(@Year,@Data)\"]]},\"id\":\"5468\",\"type\":\"HoverTool\"},{\"attributes\":{\"line_alpha\":0.1,\"line_color\":\"#1f77b4\",\"line_width\":2,\"x\":{\"field\":\"Year\"},\"y\":{\"field\":\"Data\"}},\"id\":\"5332\",\"type\":\"Line\"},{\"attributes\":{},\"id\":\"5398\",\"type\":\"UnionRenderers\"},{\"attributes\":{\"fill_alpha\":{\"value\":0.1},\"fill_color\":{\"value\":\"#ff7f0e\"},\"line_alpha\":{\"value\":0.1},\"line_color\":{\"value\":\"#ff7f0e\"},\"size\":{\"value\":10},\"x\":{\"field\":\"Year\"},\"y\":{\"field\":\"Data\"}},\"id\":\"5375\",\"type\":\"Circle\"},{\"attributes\":{\"source\":{\"id\":\"5354\"}},\"id\":\"5377\",\"type\":\"CDSView\"},{\"attributes\":{\"data_source\":{\"id\":\"5354\"},\"glyph\":{\"id\":\"5374\"},\"hover_glyph\":null,\"muted_glyph\":null,\"nonselection_glyph\":{\"id\":\"5375\"},\"view\":{\"id\":\"5377\"}},\"id\":\"5376\",\"type\":\"GlyphRenderer\"},{\"attributes\":{\"callback\":null,\"renderers\":[{\"id\":\"5376\"}],\"tooltips\":[[\"(x,y)\",\"(@Year,@Data)\"]]},\"id\":\"5378\",\"type\":\"HoverTool\"},{\"attributes\":{\"source\":{\"id\":\"5408\"}},\"id\":\"5413\",\"type\":\"CDSView\"},{\"attributes\":{\"below\":[{\"id\":\"5309\"}],\"center\":[{\"id\":\"5312\"},{\"id\":\"5316\"},{\"id\":\"5345\"}],\"height\":400,\"left\":[{\"id\":\"5313\"}],\"renderers\":[{\"id\":\"5333\"},{\"id\":\"5350\"},{\"id\":\"5358\"},{\"id\":\"5376\"},{\"id\":\"5384\"},{\"id\":\"5404\"},{\"id\":\"5412\"},{\"id\":\"5434\"},{\"id\":\"5442\"},{\"id\":\"5466\"},{\"id\":\"5474\"},{\"id\":\"5500\"}],\"title\":{\"id\":\"5299\"},\"toolbar\":{\"id\":\"5323\"},\"toolbar_location\":null,\"width\":400,\"x_range\":{\"id\":\"5301\"},\"x_scale\":{\"id\":\"5305\"},\"y_range\":{\"id\":\"5303\"},\"y_scale\":{\"id\":\"5307\"}},\"id\":\"5298\",\"subtype\":\"Figure\",\"type\":\"Plot\"},{\"attributes\":{\"background_fill_alpha\":0.7,\"items\":[{\"id\":\"5346\"},{\"id\":\"5372\"},{\"id\":\"5400\"},{\"id\":\"5430\"},{\"id\":\"5462\"},{\"id\":\"5496\"}]},\"id\":\"5345\",\"type\":\"Legend\"},{\"attributes\":{\"source\":{\"id\":\"5380\"}},\"id\":\"5385\",\"type\":\"CDSView\"},{\"attributes\":{\"label\":{\"value\":\"Other\"},\"renderers\":[{\"id\":\"5474\"}]},\"id\":\"5496\",\"type\":\"LegendItem\"},{\"attributes\":{\"fill_alpha\":{\"value\":0.5},\"fill_color\":{\"value\":\"#1f77b4\"},\"line_alpha\":{\"value\":0.5},\"line_color\":{\"value\":\"#1f77b4\"},\"size\":{\"value\":10},\"x\":{\"field\":\"Year\"},\"y\":{\"field\":\"Data\"}},\"id\":\"5348\",\"type\":\"Circle\"},{\"attributes\":{\"fill_alpha\":{\"value\":0.5},\"fill_color\":{\"value\":\"#8c564b\"},\"line_alpha\":{\"value\":0.5},\"line_color\":{\"value\":\"#8c564b\"},\"size\":{\"value\":10},\"x\":{\"field\":\"Year\"},\"y\":{\"field\":\"Data\"}},\"id\":\"5498\",\"type\":\"Circle\"},{\"attributes\":{},\"id\":\"5428\",\"type\":\"UnionRenderers\"},{\"attributes\":{\"data\":{\"Data\":{\"__ndarray__\":\"ewntJbSX0D+SJEmSJEmyP5IkSZIkScI/UeFfVPgXtT9yOavHjgCdPxdswRZswaY/EQ7hEA7hsD8aBSI4dmmEPxzHcRzHcYw/AAAAAAAAAACCL9zj6QCDP7gNBbFOe1I/AAAAAAAAAAA=\",\"dtype\":\"float64\",\"order\":\"little\",\"shape\":[13]},\"Year\":[2007,2008,2009,2010,2011,2012,2013,2014,2015,2016,2017,2018,2019]},\"selected\":{\"id\":\"5399\"},\"selection_policy\":{\"id\":\"5398\"}},\"id\":\"5380\",\"type\":\"ColumnDataSource\"},{\"attributes\":{\"data_source\":{\"id\":\"5329\"},\"glyph\":{\"id\":\"5331\"},\"hover_glyph\":null,\"muted_glyph\":null,\"nonselection_glyph\":{\"id\":\"5332\"},\"view\":{\"id\":\"5334\"}},\"id\":\"5333\",\"type\":\"GlyphRenderer\"},{\"attributes\":{},\"id\":\"5429\",\"type\":\"Selection\"},{\"attributes\":{\"data_source\":{\"id\":\"5354\"},\"glyph\":{\"id\":\"5356\"},\"hover_glyph\":null,\"muted_glyph\":null,\"nonselection_glyph\":{\"id\":\"5357\"},\"view\":{\"id\":\"5359\"}},\"id\":\"5358\",\"type\":\"GlyphRenderer\"},{\"attributes\":{\"fill_alpha\":{\"value\":0.5},\"fill_color\":{\"value\":\"#ff7f0e\"},\"line_alpha\":{\"value\":0.5},\"line_color\":{\"value\":\"#ff7f0e\"},\"size\":{\"value\":10},\"x\":{\"field\":\"Year\"},\"y\":{\"field\":\"Data\"}},\"id\":\"5374\",\"type\":\"Circle\"},{\"attributes\":{\"line_color\":\"#d62728\",\"line_width\":2,\"x\":{\"field\":\"Year\"},\"y\":{\"field\":\"Data\"}},\"id\":\"5410\",\"type\":\"Line\"},{\"attributes\":{\"fill_alpha\":{\"value\":0.1},\"fill_color\":{\"value\":\"#1f77b4\"},\"line_alpha\":{\"value\":0.1},\"line_color\":{\"value\":\"#1f77b4\"},\"size\":{\"value\":10},\"x\":{\"field\":\"Year\"},\"y\":{\"field\":\"Data\"}},\"id\":\"5349\",\"type\":\"Circle\"},{\"attributes\":{\"line_alpha\":0.1,\"line_color\":\"#d62728\",\"line_width\":2,\"x\":{\"field\":\"Year\"},\"y\":{\"field\":\"Data\"}},\"id\":\"5411\",\"type\":\"Line\"},{\"attributes\":{\"source\":{\"id\":\"5329\"}},\"id\":\"5351\",\"type\":\"CDSView\"},{\"attributes\":{\"source\":{\"id\":\"5438\"}},\"id\":\"5467\",\"type\":\"CDSView\"},{\"attributes\":{\"data_source\":{\"id\":\"5329\"},\"glyph\":{\"id\":\"5348\"},\"hover_glyph\":null,\"muted_glyph\":null,\"nonselection_glyph\":{\"id\":\"5349\"},\"view\":{\"id\":\"5351\"}},\"id\":\"5350\",\"type\":\"GlyphRenderer\"},{\"attributes\":{\"line_color\":\"#ff7f0e\",\"line_width\":2,\"x\":{\"field\":\"Year\"},\"y\":{\"field\":\"Data\"}},\"id\":\"5356\",\"type\":\"Line\"},{\"attributes\":{\"callback\":null,\"renderers\":[{\"id\":\"5350\"}],\"tooltips\":[[\"(x,y)\",\"(@Year,@Data)\"]]},\"id\":\"5352\",\"type\":\"HoverTool\"},{\"attributes\":{\"data_source\":{\"id\":\"5438\"},\"glyph\":{\"id\":\"5464\"},\"hover_glyph\":null,\"muted_glyph\":null,\"nonselection_glyph\":{\"id\":\"5465\"},\"view\":{\"id\":\"5467\"}},\"id\":\"5466\",\"type\":\"GlyphRenderer\"},{\"attributes\":{\"label\":{\"value\":\"C580Y\"},\"renderers\":[{\"id\":\"5333\"}]},\"id\":\"5346\",\"type\":\"LegendItem\"},{\"attributes\":{\"data\":{\"Data\":{\"__ndarray__\":\"AAAAAAAAAAAAAAAAAAAAAAAAAAAAAAAAFKEIRShCoT/KApF0rTufPxdswRZswZY/AAAAAAAAAAAAAAAAAAAAAAAAAAAAAAAAAAAAAAAAAAAAAAAAAAAAAAAAAAAAAAAAAAAAAAAAAAA=\",\"dtype\":\"float64\",\"order\":\"little\",\"shape\":[13]},\"Year\":[2007,2008,2009,2010,2011,2012,2013,2014,2015,2016,2017,2018,2019]},\"selected\":{\"id\":\"5461\"},\"selection_policy\":{\"id\":\"5460\"}},\"id\":\"5438\",\"type\":\"ColumnDataSource\"},{\"attributes\":{\"data_source\":{\"id\":\"5408\"},\"glyph\":{\"id\":\"5410\"},\"hover_glyph\":null,\"muted_glyph\":null,\"nonselection_glyph\":{\"id\":\"5411\"},\"view\":{\"id\":\"5413\"}},\"id\":\"5412\",\"type\":\"GlyphRenderer\"},{\"attributes\":{\"line_alpha\":0.1,\"line_color\":\"#ff7f0e\",\"line_width\":2,\"x\":{\"field\":\"Year\"},\"y\":{\"field\":\"Data\"}},\"id\":\"5357\",\"type\":\"Line\"},{\"attributes\":{\"data_source\":{\"id\":\"5380\"},\"glyph\":{\"id\":\"5402\"},\"hover_glyph\":null,\"muted_glyph\":null,\"nonselection_glyph\":{\"id\":\"5403\"},\"view\":{\"id\":\"5405\"}},\"id\":\"5404\",\"type\":\"GlyphRenderer\"},{\"attributes\":{\"source\":{\"id\":\"5354\"}},\"id\":\"5359\",\"type\":\"CDSView\"},{\"attributes\":{\"label\":{\"value\":\"Y493H\"},\"renderers\":[{\"id\":\"5384\"}]},\"id\":\"5400\",\"type\":\"LegendItem\"},{\"attributes\":{},\"id\":\"5314\",\"type\":\"BasicTicker\"},{\"attributes\":{\"toolbar\":{\"id\":\"5526\"},\"toolbar_location\":\"above\"},\"id\":\"5527\",\"type\":\"ToolbarBox\"},{\"attributes\":{\"fill_alpha\":{\"value\":0.5},\"fill_color\":{\"value\":\"#d62728\"},\"line_alpha\":{\"value\":0.5},\"line_color\":{\"value\":\"#d62728\"},\"size\":{\"value\":10},\"x\":{\"field\":\"Year\"},\"y\":{\"field\":\"Data\"}},\"id\":\"5432\",\"type\":\"Circle\"},{\"attributes\":{},\"id\":\"5341\",\"type\":\"AllLabels\"},{\"attributes\":{\"active_drag\":{\"id\":\"5317\"},\"active_multi\":null,\"active_scroll\":{\"id\":\"5318\"},\"tools\":[{\"id\":\"5317\"},{\"id\":\"5318\"},{\"id\":\"5319\"},{\"id\":\"5320\"},{\"id\":\"5321\"},{\"id\":\"5352\"},{\"id\":\"5378\"},{\"id\":\"5406\"},{\"id\":\"5436\"},{\"id\":\"5468\"},{\"id\":\"5502\"}]},\"id\":\"5323\",\"type\":\"Toolbar\"},{\"attributes\":{\"axis_label\":\"Prevalence\",\"formatter\":{\"id\":\"5340\"},\"major_label_policy\":{\"id\":\"5341\"},\"ticker\":{\"id\":\"5314\"}},\"id\":\"5313\",\"type\":\"LinearAxis\"},{\"attributes\":{},\"id\":\"5318\",\"type\":\"WheelZoomTool\"},{\"attributes\":{},\"id\":\"5320\",\"type\":\"ResetTool\"},{\"attributes\":{},\"id\":\"5399\",\"type\":\"Selection\"},{\"attributes\":{},\"id\":\"5307\",\"type\":\"LinearScale\"},{\"attributes\":{\"line_color\":\"#2ca02c\",\"line_width\":2,\"x\":{\"field\":\"Year\"},\"y\":{\"field\":\"Data\"}},\"id\":\"5382\",\"type\":\"Line\"},{\"attributes\":{\"fill_alpha\":{\"value\":0.1},\"fill_color\":{\"value\":\"#d62728\"},\"line_alpha\":{\"value\":0.1},\"line_color\":{\"value\":\"#d62728\"},\"size\":{\"value\":10},\"x\":{\"field\":\"Year\"},\"y\":{\"field\":\"Data\"}},\"id\":\"5433\",\"type\":\"Circle\"},{\"attributes\":{\"data_source\":{\"id\":\"5380\"},\"glyph\":{\"id\":\"5382\"},\"hover_glyph\":null,\"muted_glyph\":null,\"nonselection_glyph\":{\"id\":\"5383\"},\"view\":{\"id\":\"5385\"}},\"id\":\"5384\",\"type\":\"GlyphRenderer\"},{\"attributes\":{\"source\":{\"id\":\"5408\"}},\"id\":\"5435\",\"type\":\"CDSView\"},{\"attributes\":{\"axis\":{\"id\":\"5309\"},\"ticker\":null},\"id\":\"5312\",\"type\":\"Grid\"},{\"attributes\":{\"data_source\":{\"id\":\"5408\"},\"glyph\":{\"id\":\"5432\"},\"hover_glyph\":null,\"muted_glyph\":null,\"nonselection_glyph\":{\"id\":\"5433\"},\"view\":{\"id\":\"5435\"}},\"id\":\"5434\",\"type\":\"GlyphRenderer\"},{\"attributes\":{\"line_alpha\":0.1,\"line_color\":\"#2ca02c\",\"line_width\":2,\"x\":{\"field\":\"Year\"},\"y\":{\"field\":\"Data\"}},\"id\":\"5383\",\"type\":\"Line\"},{\"attributes\":{\"callback\":null,\"renderers\":[{\"id\":\"5434\"}],\"tooltips\":[[\"(x,y)\",\"(@Year,@Data)\"]]},\"id\":\"5436\",\"type\":\"HoverTool\"},{\"attributes\":{\"axis\":{\"id\":\"5313\"},\"dimension\":1,\"ticker\":null},\"id\":\"5316\",\"type\":\"Grid\"},{\"attributes\":{\"children\":[[{\"id\":\"5298\"},0,0]]},\"id\":\"5525\",\"type\":\"GridBox\"},{\"attributes\":{\"data_source\":{\"id\":\"5438\"},\"glyph\":{\"id\":\"5440\"},\"hover_glyph\":null,\"muted_glyph\":null,\"nonselection_glyph\":{\"id\":\"5441\"},\"view\":{\"id\":\"5443\"}},\"id\":\"5442\",\"type\":\"GlyphRenderer\"},{\"attributes\":{\"callback\":null},\"id\":\"5321\",\"type\":\"TapTool\"},{\"attributes\":{\"data\":{\"Data\":{\"__ndarray__\":\"aC+hvYT2sj8YhmEYhmHIPxZf8RVf8aU/cIELXOAClz9vi1LE4KepP2gvob2E9qI/HMIhHMIhnD8AAAAAAAAAAAAAAAAAAAAA4OnW/LBIaT8qMyhEI3d0P26vJYe4ynQ/AAAAAAAAAAA=\",\"dtype\":\"float64\",\"order\":\"little\",\"shape\":[13]},\"Year\":[2007,2008,2009,2010,2011,2012,2013,2014,2015,2016,2017,2018,2019]},\"selected\":{\"id\":\"5429\"},\"selection_policy\":{\"id\":\"5428\"}},\"id\":\"5408\",\"type\":\"ColumnDataSource\"},{\"attributes\":{\"source\":{\"id\":\"5438\"}},\"id\":\"5443\",\"type\":\"CDSView\"},{\"attributes\":{\"data\":{\"Data\":{\"__ndarray__\":\"AAAAAAAAAADAyAT8GkmyP9jRxhFr8bU/EJ1lFqHYqj9AuvWaHhSUP4AIqdvZV34/AAvtnGaBhj+AGW8rvTZ7PwAAwKD3xrC+ADlegehJaT+g3ct9chSQPwCCyvj3GWc/AAAAAAAAAAA=\",\"dtype\":\"float64\",\"order\":\"little\",\"shape\":[13]},\"Year\":[2007,2008,2009,2010,2011,2012,2013,2014,2015,2016,2017,2018,2019]},\"selected\":{\"id\":\"5495\"},\"selection_policy\":{\"id\":\"5494\"}},\"id\":\"5470\",\"type\":\"ColumnDataSource\"},{\"attributes\":{},\"id\":\"5310\",\"type\":\"BasicTicker\"},{\"attributes\":{},\"id\":\"5494\",\"type\":\"UnionRenderers\"},{\"attributes\":{},\"id\":\"5305\",\"type\":\"LinearScale\"},{\"attributes\":{\"label\":{\"value\":\"WT\"},\"renderers\":[{\"id\":\"5358\"}]},\"id\":\"5372\",\"type\":\"LegendItem\"},{\"attributes\":{\"label\":{\"value\":\"I543T\"},\"renderers\":[{\"id\":\"5442\"}]},\"id\":\"5462\",\"type\":\"LegendItem\"},{\"attributes\":{},\"id\":\"5337\",\"type\":\"BasicTickFormatter\"},{\"attributes\":{},\"id\":\"5495\",\"type\":\"Selection\"},{\"attributes\":{},\"id\":\"5303\",\"type\":\"Range1d\"},{\"attributes\":{},\"id\":\"5338\",\"type\":\"AllLabels\"},{\"attributes\":{\"toolbars\":[{\"id\":\"5323\"}],\"tools\":[{\"id\":\"5317\"},{\"id\":\"5318\"},{\"id\":\"5319\"},{\"id\":\"5320\"},{\"id\":\"5321\"},{\"id\":\"5352\"},{\"id\":\"5378\"},{\"id\":\"5406\"},{\"id\":\"5436\"},{\"id\":\"5468\"},{\"id\":\"5502\"}]},\"id\":\"5526\",\"type\":\"ProxyToolbar\"},{\"attributes\":{\"fill_alpha\":{\"value\":0.5},\"fill_color\":{\"value\":\"#2ca02c\"},\"line_alpha\":{\"value\":0.5},\"line_color\":{\"value\":\"#2ca02c\"},\"size\":{\"value\":10},\"x\":{\"field\":\"Year\"},\"y\":{\"field\":\"Data\"}},\"id\":\"5402\",\"type\":\"Circle\"},{\"attributes\":{\"line_alpha\":0.1,\"line_color\":\"#9467bd\",\"line_width\":2,\"x\":{\"field\":\"Year\"},\"y\":{\"field\":\"Data\"}},\"id\":\"5441\",\"type\":\"Line\"},{\"attributes\":{\"axis_label\":\"Year\",\"formatter\":{\"id\":\"5337\"},\"major_label_policy\":{\"id\":\"5338\"},\"ticker\":{\"id\":\"5310\"}},\"id\":\"5309\",\"type\":\"LinearAxis\"},{\"attributes\":{},\"id\":\"5317\",\"type\":\"PanTool\"},{\"attributes\":{\"source\":{\"id\":\"5380\"}},\"id\":\"5405\",\"type\":\"CDSView\"},{\"attributes\":{\"source\":{\"id\":\"5470\"}},\"id\":\"5475\",\"type\":\"CDSView\"},{\"attributes\":{\"callback\":null,\"renderers\":[{\"id\":\"5404\"}],\"tooltips\":[[\"(x,y)\",\"(@Year,@Data)\"]]},\"id\":\"5406\",\"type\":\"HoverTool\"},{\"attributes\":{\"line_alpha\":0.1,\"line_color\":\"#8c564b\",\"line_width\":2,\"x\":{\"field\":\"Year\"},\"y\":{\"field\":\"Data\"}},\"id\":\"5473\",\"type\":\"Line\"},{\"attributes\":{\"overlay\":{\"id\":\"5322\"}},\"id\":\"5319\",\"type\":\"BoxZoomTool\"},{\"attributes\":{\"fill_alpha\":{\"value\":0.1},\"fill_color\":{\"value\":\"#9467bd\"},\"line_alpha\":{\"value\":0.1},\"line_color\":{\"value\":\"#9467bd\"},\"size\":{\"value\":10},\"x\":{\"field\":\"Year\"},\"y\":{\"field\":\"Data\"}},\"id\":\"5465\",\"type\":\"Circle\"},{\"attributes\":{\"data\":{\"Data\":{\"__ndarray__\":\"HMdxHMdxvD8AAAAAAADgP3zFV3zFV9w/3DHkdgy5zT/8NMOm323RPzMzMzMzM9M/fLzHe7zH2z+0XL/7ONHiP3Icx3Ecx+s/5DiO4ziO6z/p7brJMF3iP+PMqQhUYuM/9zTCck8j7D8=\",\"dtype\":\"float64\",\"order\":\"little\",\"shape\":[13]},\"Year\":[2007,2008,2009,2010,2011,2012,2013,2014,2015,2016,2017,2018,2019]},\"selected\":{\"id\":\"5344\"},\"selection_policy\":{\"id\":\"5343\"}},\"id\":\"5329\",\"type\":\"ColumnDataSource\"},{\"attributes\":{\"fill_alpha\":{\"value\":0.1},\"fill_color\":{\"value\":\"#2ca02c\"},\"line_alpha\":{\"value\":0.1},\"line_color\":{\"value\":\"#2ca02c\"},\"size\":{\"value\":10},\"x\":{\"field\":\"Year\"},\"y\":{\"field\":\"Data\"}},\"id\":\"5403\",\"type\":\"Circle\"},{\"attributes\":{},\"id\":\"5340\",\"type\":\"BasicTickFormatter\"},{\"attributes\":{\"line_color\":\"#8c564b\",\"line_width\":2,\"x\":{\"field\":\"Year\"},\"y\":{\"field\":\"Data\"}},\"id\":\"5472\",\"type\":\"Line\"},{\"attributes\":{\"fill_alpha\":{\"value\":0.1},\"fill_color\":{\"value\":\"#8c564b\"},\"line_alpha\":{\"value\":0.1},\"line_color\":{\"value\":\"#8c564b\"},\"size\":{\"value\":10},\"x\":{\"field\":\"Year\"},\"y\":{\"field\":\"Data\"}},\"id\":\"5499\",\"type\":\"Circle\"},{\"attributes\":{\"source\":{\"id\":\"5470\"}},\"id\":\"5501\",\"type\":\"CDSView\"},{\"attributes\":{\"data_source\":{\"id\":\"5470\"},\"glyph\":{\"id\":\"5498\"},\"hover_glyph\":null,\"muted_glyph\":null,\"nonselection_glyph\":{\"id\":\"5499\"},\"view\":{\"id\":\"5501\"}},\"id\":\"5500\",\"type\":\"GlyphRenderer\"},{\"attributes\":{\"callback\":null,\"renderers\":[{\"id\":\"5500\"}],\"tooltips\":[[\"(x,y)\",\"(@Year,@Data)\"]]},\"id\":\"5502\",\"type\":\"HoverTool\"},{\"attributes\":{\"text\":\"Kelch Predominant Variants in ESEA\"},\"id\":\"5299\",\"type\":\"Title\"},{\"attributes\":{\"end\":2019,\"start\":2001},\"id\":\"5301\",\"type\":\"Range1d\"}],\"root_ids\":[\"5528\"]},\"title\":\"Bokeh Application\",\"version\":\"2.3.3\"}};\n",
       "  var render_items = [{\"docid\":\"2c3196d5-b5dc-4be8-b602-49477c439f6b\",\"root_ids\":[\"5528\"],\"roots\":{\"5528\":\"2e770249-9b1f-4ea1-882d-295a1f78ffab\"}}];\n",
       "  root.Bokeh.embed.embed_items_notebook(docs_json, render_items);\n",
       "\n",
       "  }\n",
       "  if (root.Bokeh !== undefined) {\n",
       "    embed_document(root);\n",
       "  } else {\n",
       "    var attempts = 0;\n",
       "    var timer = setInterval(function(root) {\n",
       "      if (root.Bokeh !== undefined) {\n",
       "        clearInterval(timer);\n",
       "        embed_document(root);\n",
       "      } else {\n",
       "        attempts++;\n",
       "        if (attempts > 100) {\n",
       "          clearInterval(timer);\n",
       "          console.log(\"Bokeh: ERROR: Unable to run BokehJS code because BokehJS library is missing\");\n",
       "        }\n",
       "      }\n",
       "    }, 10, root)\n",
       "  }\n",
       "})(window);"
      ],
      "application/vnd.bokehjs_exec.v0+json": ""
     },
     "metadata": {
      "application/vnd.bokehjs_exec.v0+json": {
       "id": "5528"
      }
     },
     "output_type": "display_data"
    },
    {
     "data": {
      "text/plain": [
       "<data_analysis.plotting.Subplots at 0x11ac70eb0>"
      ]
     },
     "execution_count": 17,
     "metadata": {},
     "output_type": "execute_result"
    }
   ],
   "source": [
    "plot_haplotype_frequency(pf6plus, 'Kelch', populations =  ['ESEA'])"
   ]
  },
  {
   "cell_type": "markdown",
   "metadata": {
    "id": "iUNwrMu_ogYw"
   },
   "source": [
    "### An extra use case.. \n",
    "Imagine we want to explore how different are *dhfr* haplotypes between ESEA and WSEA. By plotting the top 1 haplotype in each region and increasing this threshold, we can easily see dynamics.\n"
   ]
  },
  {
   "cell_type": "code",
   "execution_count": 18,
   "metadata": {},
   "outputs": [
    {
     "data": {
      "text/html": [
       "\n",
       "\n",
       "\n",
       "\n",
       "\n",
       "\n",
       "  <div class=\"bk-root\" id=\"7b2e6e71-127a-488b-b650-5d1d3b4dddac\" data-root-id=\"6260\"></div>\n"
      ]
     },
     "metadata": {},
     "output_type": "display_data"
    },
    {
     "data": {
      "application/javascript": [
       "(function(root) {\n",
       "  function embed_document(root) {\n",
       "    \n",
       "  var docs_json = {\"b251b896-8306-4c30-81fc-db8c88fead4f\":{\"defs\":[],\"roots\":{\"references\":[{\"attributes\":{\"children\":[{\"id\":\"6259\"},{\"id\":\"6257\"}]},\"id\":\"6260\",\"type\":\"Column\"},{\"attributes\":{},\"id\":\"5949\",\"type\":\"UnionRenderers\"},{\"attributes\":{},\"id\":\"5893\",\"type\":\"BasicTicker\"},{\"attributes\":{},\"id\":\"6145\",\"type\":\"ResetTool\"},{\"attributes\":{},\"id\":\"5950\",\"type\":\"Selection\"},{\"attributes\":{\"fill_alpha\":{\"value\":0.5},\"fill_color\":{\"value\":\"#2ca02c\"},\"line_alpha\":{\"value\":0.5},\"line_color\":{\"value\":\"#2ca02c\"},\"size\":{\"value\":10},\"x\":{\"field\":\"Year\"},\"y\":{\"field\":\"Data\"}},\"id\":\"6009\",\"type\":\"Circle\"},{\"attributes\":{},\"id\":\"6086\",\"type\":\"UnionRenderers\"},{\"attributes\":{\"data\":{\"Data\":{\"__ndarray__\":\"9DzP8zzP0z9X1BV1RV3hP/c0wnJPI9w/O7ETO7ET2z8hhBBCCCHkPz8hzspPiOM/eqoVWuIz5T8L4XWrEF7nP4pLhmAdbd4/\",\"dtype\":\"float64\",\"order\":\"little\",\"shape\":[9]},\"Year\":[2007,2008,2009,2010,2011,2012,2013,2014,2015]},\"selected\":{\"id\":\"6087\"},\"selection_policy\":{\"id\":\"6086\"}},\"id\":\"6072\",\"type\":\"ColumnDataSource\"},{\"attributes\":{\"fill_alpha\":{\"value\":0.1},\"fill_color\":{\"value\":\"#2ca02c\"},\"line_alpha\":{\"value\":0.1},\"line_color\":{\"value\":\"#2ca02c\"},\"size\":{\"value\":10},\"x\":{\"field\":\"Year\"},\"y\":{\"field\":\"Data\"}},\"id\":\"6010\",\"type\":\"Circle\"},{\"attributes\":{},\"id\":\"6087\",\"type\":\"Selection\"},{\"attributes\":{\"source\":{\"id\":\"5990\"}},\"id\":\"6012\",\"type\":\"CDSView\"},{\"attributes\":{\"data_source\":{\"id\":\"5990\"},\"glyph\":{\"id\":\"6009\"},\"hover_glyph\":null,\"muted_glyph\":null,\"nonselection_glyph\":{\"id\":\"6010\"},\"view\":{\"id\":\"6012\"}},\"id\":\"6011\",\"type\":\"GlyphRenderer\"},{\"attributes\":{\"callback\":null,\"renderers\":[{\"id\":\"6011\"}],\"tooltips\":[[\"(x,y)\",\"(@Year,@Data)\"]]},\"id\":\"6013\",\"type\":\"HoverTool\"},{\"attributes\":{},\"id\":\"6061\",\"type\":\"WheelZoomTool\"},{\"attributes\":{\"axis\":{\"id\":\"6056\"},\"dimension\":1,\"ticker\":null},\"id\":\"6059\",\"type\":\"Grid\"},{\"attributes\":{\"overlay\":{\"id\":\"6147\"}},\"id\":\"6144\",\"type\":\"BoxZoomTool\"},{\"attributes\":{},\"id\":\"6081\",\"type\":\"AllLabels\"},{\"attributes\":{\"fill_alpha\":{\"value\":0.1},\"fill_color\":{\"value\":\"#ff7f0e\"},\"line_alpha\":{\"value\":0.1},\"line_color\":{\"value\":\"#ff7f0e\"},\"size\":{\"value\":10},\"x\":{\"field\":\"Year\"},\"y\":{\"field\":\"Data\"}},\"id\":\"5954\",\"type\":\"Circle\"},{\"attributes\":{},\"id\":\"6032\",\"type\":\"Selection\"},{\"attributes\":{\"callback\":null},\"id\":\"6146\",\"type\":\"TapTool\"},{\"attributes\":{\"source\":{\"id\":\"5933\"}},\"id\":\"5956\",\"type\":\"CDSView\"},{\"attributes\":{\"data_source\":{\"id\":\"5933\"},\"glyph\":{\"id\":\"5953\"},\"hover_glyph\":null,\"muted_glyph\":null,\"nonselection_glyph\":{\"id\":\"5954\"},\"view\":{\"id\":\"5956\"}},\"id\":\"5955\",\"type\":\"GlyphRenderer\"},{\"attributes\":{\"callback\":null,\"renderers\":[{\"id\":\"5955\"}],\"tooltips\":[[\"(x,y)\",\"(@Year,@Data)\"]]},\"id\":\"5957\",\"type\":\"HoverTool\"},{\"attributes\":{\"overlay\":{\"id\":\"5983\"}},\"id\":\"5980\",\"type\":\"BoxZoomTool\"},{\"attributes\":{},\"id\":\"6031\",\"type\":\"UnionRenderers\"},{\"attributes\":{},\"id\":\"6063\",\"type\":\"ResetTool\"},{\"attributes\":{},\"id\":\"5979\",\"type\":\"WheelZoomTool\"},{\"attributes\":{},\"id\":\"5964\",\"type\":\"Range1d\"},{\"attributes\":{},\"id\":\"6135\",\"type\":\"BasicTicker\"},{\"attributes\":{\"axis\":{\"id\":\"6138\"},\"dimension\":1,\"ticker\":null},\"id\":\"6141\",\"type\":\"Grid\"},{\"attributes\":{\"fill_alpha\":{\"value\":0.5},\"fill_color\":{\"value\":\"#d62728\"},\"line_alpha\":{\"value\":0.5},\"line_color\":{\"value\":\"#d62728\"},\"size\":{\"value\":10},\"x\":{\"field\":\"Year\"},\"y\":{\"field\":\"Data\"}},\"id\":\"6091\",\"type\":\"Circle\"},{\"attributes\":{},\"id\":\"6060\",\"type\":\"PanTool\"},{\"attributes\":{\"axis_label\":\"Year\",\"formatter\":{\"id\":\"6162\"},\"major_label_policy\":{\"id\":\"6163\"},\"ticker\":{\"id\":\"6135\"}},\"id\":\"6134\",\"type\":\"LinearAxis\"},{\"attributes\":{\"data\":{\"Data\":{\"__ndarray__\":\"GhL3WPrQ2D8mFY21v7PRP8AwYMlVLKY/8PrMWZ9yxj8Yda29T1W1Pw==\",\"dtype\":\"float64\",\"order\":\"little\",\"shape\":[5]},\"Year\":[2007,2010,2011,2013,2014]},\"selected\":{\"id\":\"6196\"},\"selection_policy\":{\"id\":\"6195\"}},\"id\":\"6179\",\"type\":\"ColumnDataSource\"},{\"attributes\":{\"end\":2019,\"start\":2001},\"id\":\"6126\",\"type\":\"Range1d\"},{\"attributes\":{\"line_color\":\"#ff7f0e\",\"line_width\":2,\"x\":{\"field\":\"Year\"},\"y\":{\"field\":\"Data\"}},\"id\":\"6017\",\"type\":\"Line\"},{\"attributes\":{\"bottom_units\":\"screen\",\"fill_alpha\":0.5,\"fill_color\":\"lightgrey\",\"left_units\":\"screen\",\"level\":\"overlay\",\"line_alpha\":1.0,\"line_color\":\"black\",\"line_dash\":[4,4],\"line_width\":2,\"right_units\":\"screen\",\"syncable\":false,\"top_units\":\"screen\"},\"id\":\"5983\",\"type\":\"BoxAnnotation\"},{\"attributes\":{\"line_color\":\"#2ca02c\",\"line_width\":2,\"x\":{\"field\":\"Year\"},\"y\":{\"field\":\"Data\"}},\"id\":\"5992\",\"type\":\"Line\"},{\"attributes\":{\"fill_alpha\":{\"value\":0.5},\"fill_color\":{\"value\":\"#ff7f0e\"},\"line_alpha\":{\"value\":0.5},\"line_color\":{\"value\":\"#ff7f0e\"},\"size\":{\"value\":10},\"x\":{\"field\":\"Year\"},\"y\":{\"field\":\"Data\"}},\"id\":\"6117\",\"type\":\"Circle\"},{\"attributes\":{\"axis\":{\"id\":\"6052\"},\"ticker\":null},\"id\":\"6055\",\"type\":\"Grid\"},{\"attributes\":{\"text\":\"PfDHFR Predominant Variants in EAF\"},\"id\":\"6124\",\"type\":\"Title\"},{\"attributes\":{},\"id\":\"6048\",\"type\":\"LinearScale\"},{\"attributes\":{\"fill_alpha\":{\"value\":0.1},\"fill_color\":{\"value\":\"#d62728\"},\"line_alpha\":{\"value\":0.1},\"line_color\":{\"value\":\"#d62728\"},\"size\":{\"value\":10},\"x\":{\"field\":\"Year\"},\"y\":{\"field\":\"Data\"}},\"id\":\"6092\",\"type\":\"Circle\"},{\"attributes\":{\"callback\":null},\"id\":\"6064\",\"type\":\"TapTool\"},{\"attributes\":{\"axis_label\":\"Year\",\"formatter\":{\"id\":\"6080\"},\"major_label_policy\":{\"id\":\"6081\"},\"ticker\":{\"id\":\"6053\"}},\"id\":\"6052\",\"type\":\"LinearAxis\"},{\"attributes\":{\"source\":{\"id\":\"6072\"}},\"id\":\"6094\",\"type\":\"CDSView\"},{\"attributes\":{\"data_source\":{\"id\":\"6072\"},\"glyph\":{\"id\":\"6091\"},\"hover_glyph\":null,\"muted_glyph\":null,\"nonselection_glyph\":{\"id\":\"6092\"},\"view\":{\"id\":\"6094\"}},\"id\":\"6093\",\"type\":\"GlyphRenderer\"},{\"attributes\":{\"callback\":null,\"renderers\":[{\"id\":\"6093\"}],\"tooltips\":[[\"(x,y)\",\"(@Year,@Data)\"]]},\"id\":\"6095\",\"type\":\"HoverTool\"},{\"attributes\":{\"below\":[{\"id\":\"6134\"}],\"center\":[{\"id\":\"6137\"},{\"id\":\"6141\"},{\"id\":\"6170\"}],\"height\":400,\"left\":[{\"id\":\"6138\"}],\"renderers\":[{\"id\":\"6158\"},{\"id\":\"6175\"},{\"id\":\"6183\"},{\"id\":\"6201\"}],\"title\":{\"id\":\"6124\"},\"toolbar\":{\"id\":\"6148\"},\"toolbar_location\":null,\"width\":400,\"x_range\":{\"id\":\"6126\"},\"x_scale\":{\"id\":\"6130\"},\"y_range\":{\"id\":\"6128\"},\"y_scale\":{\"id\":\"6132\"}},\"id\":\"6123\",\"subtype\":\"Figure\",\"type\":\"Plot\"},{\"attributes\":{\"source\":{\"id\":\"6097\"}},\"id\":\"6102\",\"type\":\"CDSView\"},{\"attributes\":{},\"id\":\"6053\",\"type\":\"BasicTicker\"},{\"attributes\":{},\"id\":\"6050\",\"type\":\"LinearScale\"},{\"attributes\":{},\"id\":\"6057\",\"type\":\"BasicTicker\"},{\"attributes\":{},\"id\":\"6139\",\"type\":\"BasicTicker\"},{\"attributes\":{\"fill_alpha\":{\"value\":0.1},\"fill_color\":{\"value\":\"#ff7f0e\"},\"line_alpha\":{\"value\":0.1},\"line_color\":{\"value\":\"#ff7f0e\"},\"size\":{\"value\":10},\"x\":{\"field\":\"Year\"},\"y\":{\"field\":\"Data\"}},\"id\":\"6036\",\"type\":\"Circle\"},{\"attributes\":{\"overlay\":{\"id\":\"6065\"}},\"id\":\"6062\",\"type\":\"BoxZoomTool\"},{\"attributes\":{\"source\":{\"id\":\"6015\"}},\"id\":\"6038\",\"type\":\"CDSView\"},{\"attributes\":{\"below\":[{\"id\":\"5888\"}],\"center\":[{\"id\":\"5891\"},{\"id\":\"5895\"},{\"id\":\"5924\"}],\"height\":400,\"left\":[{\"id\":\"5892\"}],\"renderers\":[{\"id\":\"5912\"},{\"id\":\"5929\"},{\"id\":\"5937\"},{\"id\":\"5955\"}],\"title\":{\"id\":\"5878\"},\"toolbar\":{\"id\":\"5902\"},\"toolbar_location\":null,\"width\":400,\"x_range\":{\"id\":\"5880\"},\"x_scale\":{\"id\":\"5884\"},\"y_range\":{\"id\":\"5882\"},\"y_scale\":{\"id\":\"5886\"}},\"id\":\"5877\",\"subtype\":\"Figure\",\"type\":\"Plot\"},{\"attributes\":{\"data_source\":{\"id\":\"6015\"},\"glyph\":{\"id\":\"6035\"},\"hover_glyph\":null,\"muted_glyph\":null,\"nonselection_glyph\":{\"id\":\"6036\"},\"view\":{\"id\":\"6038\"}},\"id\":\"6037\",\"type\":\"GlyphRenderer\"},{\"attributes\":{\"children\":[[{\"id\":\"5877\"},0,0],[{\"id\":\"5959\"},0,1],[{\"id\":\"6041\"},1,0],[{\"id\":\"6123\"},1,1]]},\"id\":\"6257\",\"type\":\"GridBox\"},{\"attributes\":{\"callback\":null,\"renderers\":[{\"id\":\"6037\"}],\"tooltips\":[[\"(x,y)\",\"(@Year,@Data)\"]]},\"id\":\"6039\",\"type\":\"HoverTool\"},{\"attributes\":{\"end\":2019,\"start\":2001},\"id\":\"5962\",\"type\":\"Range1d\"},{\"attributes\":{\"axis\":{\"id\":\"6134\"},\"ticker\":null},\"id\":\"6137\",\"type\":\"Grid\"},{\"attributes\":{\"active_drag\":{\"id\":\"5978\"},\"active_multi\":null,\"active_scroll\":{\"id\":\"5979\"},\"tools\":[{\"id\":\"5978\"},{\"id\":\"5979\"},{\"id\":\"5980\"},{\"id\":\"5981\"},{\"id\":\"5982\"},{\"id\":\"6013\"},{\"id\":\"6039\"}]},\"id\":\"5984\",\"type\":\"Toolbar\"},{\"attributes\":{\"axis_label\":\"Prevalence\",\"formatter\":{\"id\":\"6165\"},\"major_label_policy\":{\"id\":\"6166\"},\"ticker\":{\"id\":\"6139\"}},\"id\":\"6138\",\"type\":\"LinearAxis\"},{\"attributes\":{\"label\":{\"value\":\"Other\"},\"renderers\":[{\"id\":\"6101\"}]},\"id\":\"6115\",\"type\":\"LegendItem\"},{\"attributes\":{},\"id\":\"6142\",\"type\":\"PanTool\"},{\"attributes\":{},\"id\":\"6143\",\"type\":\"WheelZoomTool\"},{\"attributes\":{\"axis_label\":\"Prevalence\",\"formatter\":{\"id\":\"6083\"},\"major_label_policy\":{\"id\":\"6084\"},\"ticker\":{\"id\":\"6057\"}},\"id\":\"6056\",\"type\":\"LinearAxis\"},{\"attributes\":{},\"id\":\"6046\",\"type\":\"Range1d\"},{\"attributes\":{},\"id\":\"5917\",\"type\":\"AllLabels\"},{\"attributes\":{},\"id\":\"6168\",\"type\":\"UnionRenderers\"},{\"attributes\":{\"label\":{\"value\":\"Other\"},\"renderers\":[{\"id\":\"6183\"}]},\"id\":\"6197\",\"type\":\"LegendItem\"},{\"attributes\":{},\"id\":\"6169\",\"type\":\"Selection\"},{\"attributes\":{},\"id\":\"5919\",\"type\":\"BasicTickFormatter\"},{\"attributes\":{\"data\":{\"Data\":{\"__ndarray__\":\"5hS8nIKX4z9dQUyuICbnP6fT6XQ6ne4/VM5u4Vdj6j9VVVVVVVXtPw==\",\"dtype\":\"float64\",\"order\":\"little\",\"shape\":[5]},\"Year\":[2007,2010,2011,2013,2014]},\"selected\":{\"id\":\"6169\"},\"selection_policy\":{\"id\":\"6168\"}},\"id\":\"6154\",\"type\":\"ColumnDataSource\"},{\"attributes\":{\"source\":{\"id\":\"5908\"}},\"id\":\"5913\",\"type\":\"CDSView\"},{\"attributes\":{\"source\":{\"id\":\"5990\"}},\"id\":\"5995\",\"type\":\"CDSView\"},{\"attributes\":{\"source\":{\"id\":\"6015\"}},\"id\":\"6020\",\"type\":\"CDSView\"},{\"attributes\":{\"source\":{\"id\":\"6072\"}},\"id\":\"6077\",\"type\":\"CDSView\"},{\"attributes\":{\"line_color\":\"#d62728\",\"line_width\":2,\"x\":{\"field\":\"Year\"},\"y\":{\"field\":\"Data\"}},\"id\":\"6074\",\"type\":\"Line\"},{\"attributes\":{\"fill_alpha\":{\"value\":0.1},\"fill_color\":{\"value\":\"#d62728\"},\"line_alpha\":{\"value\":0.1},\"line_color\":{\"value\":\"#d62728\"},\"size\":{\"value\":10},\"x\":{\"field\":\"Year\"},\"y\":{\"field\":\"Data\"}},\"id\":\"6174\",\"type\":\"Circle\"},{\"attributes\":{\"data_source\":{\"id\":\"6015\"},\"glyph\":{\"id\":\"6017\"},\"hover_glyph\":null,\"muted_glyph\":null,\"nonselection_glyph\":{\"id\":\"6018\"},\"view\":{\"id\":\"6020\"}},\"id\":\"6019\",\"type\":\"GlyphRenderer\"},{\"attributes\":{\"data\":{\"Data\":{\"__ndarray__\":\"AAAAAAAA8D8AAAAAAADwPwAAAAAAAPA/AAAAAAAA8D8AAAAAAADwP7vx7shY7e0/Qq8/ic+d6z+BeciUD8HhP1raqbncYNo/uqKUEKyq2j9Lk1LQ7SXkP9JRDmYTYOA/tH4zMV2IxT8=\",\"dtype\":\"float64\",\"order\":\"little\",\"shape\":[13]},\"Year\":[2007,2008,2009,2010,2011,2012,2013,2014,2015,2016,2017,2018,2019]},\"selected\":{\"id\":\"6032\"},\"selection_policy\":{\"id\":\"6031\"}},\"id\":\"6015\",\"type\":\"ColumnDataSource\"},{\"attributes\":{\"source\":{\"id\":\"6154\"}},\"id\":\"6159\",\"type\":\"CDSView\"},{\"attributes\":{},\"id\":\"6113\",\"type\":\"UnionRenderers\"},{\"attributes\":{\"toolbars\":[{\"id\":\"5902\"},{\"id\":\"5984\"},{\"id\":\"6066\"},{\"id\":\"6148\"}],\"tools\":[{\"id\":\"5896\"},{\"id\":\"5897\"},{\"id\":\"5898\"},{\"id\":\"5899\"},{\"id\":\"5900\"},{\"id\":\"5931\"},{\"id\":\"5957\"},{\"id\":\"5978\"},{\"id\":\"5979\"},{\"id\":\"5980\"},{\"id\":\"5981\"},{\"id\":\"5982\"},{\"id\":\"6013\"},{\"id\":\"6039\"},{\"id\":\"6060\"},{\"id\":\"6061\"},{\"id\":\"6062\"},{\"id\":\"6063\"},{\"id\":\"6064\"},{\"id\":\"6095\"},{\"id\":\"6121\"},{\"id\":\"6142\"},{\"id\":\"6143\"},{\"id\":\"6144\"},{\"id\":\"6145\"},{\"id\":\"6146\"},{\"id\":\"6177\"},{\"id\":\"6203\"}]},\"id\":\"6258\",\"type\":\"ProxyToolbar\"},{\"attributes\":{\"line_alpha\":0.1,\"line_color\":\"#ff7f0e\",\"line_width\":2,\"x\":{\"field\":\"Year\"},\"y\":{\"field\":\"Data\"}},\"id\":\"6018\",\"type\":\"Line\"},{\"attributes\":{\"axis_label\":\"Prevalence\",\"formatter\":{\"id\":\"5919\"},\"major_label_policy\":{\"id\":\"5920\"},\"ticker\":{\"id\":\"5893\"}},\"id\":\"5892\",\"type\":\"LinearAxis\"},{\"attributes\":{\"data_source\":{\"id\":\"6154\"},\"glyph\":{\"id\":\"6156\"},\"hover_glyph\":null,\"muted_glyph\":null,\"nonselection_glyph\":{\"id\":\"6157\"},\"view\":{\"id\":\"6159\"}},\"id\":\"6158\",\"type\":\"GlyphRenderer\"},{\"attributes\":{},\"id\":\"5920\",\"type\":\"AllLabels\"},{\"attributes\":{},\"id\":\"5968\",\"type\":\"LinearScale\"},{\"attributes\":{\"data_source\":{\"id\":\"6154\"},\"glyph\":{\"id\":\"6173\"},\"hover_glyph\":null,\"muted_glyph\":null,\"nonselection_glyph\":{\"id\":\"6174\"},\"view\":{\"id\":\"6176\"}},\"id\":\"6175\",\"type\":\"GlyphRenderer\"},{\"attributes\":{\"line_alpha\":0.1,\"line_color\":\"#1f77b4\",\"line_width\":2,\"x\":{\"field\":\"Year\"},\"y\":{\"field\":\"Data\"}},\"id\":\"5911\",\"type\":\"Line\"},{\"attributes\":{\"source\":{\"id\":\"6179\"}},\"id\":\"6184\",\"type\":\"CDSView\"},{\"attributes\":{},\"id\":\"6114\",\"type\":\"Selection\"},{\"attributes\":{\"data\":{\"Data\":{\"__ndarray__\":\"XYjVH2EY5j8eiZenc0XdP5FEL6NY7uE/Ou0pOSd24j+oM/eQ8L3XP6xzDMhe79g/rmpJRzmY1T/ij6LO3EPRP2HgufdwyeA/\",\"dtype\":\"float64\",\"order\":\"little\",\"shape\":[9]},\"Year\":[2007,2008,2009,2010,2011,2012,2013,2014,2015]},\"selected\":{\"id\":\"6114\"},\"selection_policy\":{\"id\":\"6113\"}},\"id\":\"6097\",\"type\":\"ColumnDataSource\"},{\"attributes\":{\"below\":[{\"id\":\"5970\"}],\"center\":[{\"id\":\"5973\"},{\"id\":\"5977\"},{\"id\":\"6006\"}],\"height\":400,\"left\":[{\"id\":\"5974\"}],\"renderers\":[{\"id\":\"5994\"},{\"id\":\"6011\"},{\"id\":\"6019\"},{\"id\":\"6037\"}],\"title\":{\"id\":\"5960\"},\"toolbar\":{\"id\":\"5984\"},\"toolbar_location\":null,\"width\":400,\"x_range\":{\"id\":\"5962\"},\"x_scale\":{\"id\":\"5966\"},\"y_range\":{\"id\":\"5964\"},\"y_scale\":{\"id\":\"5968\"}},\"id\":\"5959\",\"subtype\":\"Figure\",\"type\":\"Plot\"},{\"attributes\":{\"label\":{\"value\":\"IRNL\"},\"renderers\":[{\"id\":\"5994\"}]},\"id\":\"6007\",\"type\":\"LegendItem\"},{\"attributes\":{\"data_source\":{\"id\":\"5990\"},\"glyph\":{\"id\":\"5992\"},\"hover_glyph\":null,\"muted_glyph\":null,\"nonselection_glyph\":{\"id\":\"5993\"},\"view\":{\"id\":\"5995\"}},\"id\":\"5994\",\"type\":\"GlyphRenderer\"},{\"attributes\":{\"fill_alpha\":{\"value\":0.5},\"fill_color\":{\"value\":\"#ff7f0e\"},\"line_alpha\":{\"value\":0.5},\"line_color\":{\"value\":\"#ff7f0e\"},\"size\":{\"value\":10},\"x\":{\"field\":\"Year\"},\"y\":{\"field\":\"Data\"}},\"id\":\"6199\",\"type\":\"Circle\"},{\"attributes\":{\"line_color\":\"#1f77b4\",\"line_width\":2,\"x\":{\"field\":\"Year\"},\"y\":{\"field\":\"Data\"}},\"id\":\"5910\",\"type\":\"Line\"},{\"attributes\":{\"line_alpha\":0.1,\"line_color\":\"#2ca02c\",\"line_width\":2,\"x\":{\"field\":\"Year\"},\"y\":{\"field\":\"Data\"}},\"id\":\"5993\",\"type\":\"Line\"},{\"attributes\":{},\"id\":\"6083\",\"type\":\"BasicTickFormatter\"},{\"attributes\":{\"fill_alpha\":{\"value\":0.5},\"fill_color\":{\"value\":\"#d62728\"},\"line_alpha\":{\"value\":0.5},\"line_color\":{\"value\":\"#d62728\"},\"size\":{\"value\":10},\"x\":{\"field\":\"Year\"},\"y\":{\"field\":\"Data\"}},\"id\":\"6173\",\"type\":\"Circle\"},{\"attributes\":{},\"id\":\"5922\",\"type\":\"UnionRenderers\"},{\"attributes\":{\"bottom_units\":\"screen\",\"fill_alpha\":0.5,\"fill_color\":\"lightgrey\",\"left_units\":\"screen\",\"level\":\"overlay\",\"line_alpha\":1.0,\"line_color\":\"black\",\"line_dash\":[4,4],\"line_width\":2,\"right_units\":\"screen\",\"syncable\":false,\"top_units\":\"screen\"},\"id\":\"5901\",\"type\":\"BoxAnnotation\"},{\"attributes\":{\"bottom_units\":\"screen\",\"fill_alpha\":0.5,\"fill_color\":\"lightgrey\",\"left_units\":\"screen\",\"level\":\"overlay\",\"line_alpha\":1.0,\"line_color\":\"black\",\"line_dash\":[4,4],\"line_width\":2,\"right_units\":\"screen\",\"syncable\":false,\"top_units\":\"screen\"},\"id\":\"6065\",\"type\":\"BoxAnnotation\"},{\"attributes\":{\"background_fill_alpha\":0.7,\"items\":[{\"id\":\"6007\"},{\"id\":\"6033\"}]},\"id\":\"6006\",\"type\":\"Legend\"},{\"attributes\":{},\"id\":\"6128\",\"type\":\"Range1d\"},{\"attributes\":{\"background_fill_alpha\":0.7,\"items\":[{\"id\":\"6171\"},{\"id\":\"6197\"}]},\"id\":\"6170\",\"type\":\"Legend\"},{\"attributes\":{},\"id\":\"5923\",\"type\":\"Selection\"},{\"attributes\":{\"data\":{\"Data\":{\"__ndarray__\":\"5GVNLPAV3z/C9Shcj8LVP8ppT8k5sdM/4EkLl1XYzD/QFaWEYFWlPyDhe3+D9sI/1P4HWKt2yz9MZOYCl8fGP8T/HVGhus0/lGsKZHYW0z8AAAAAAADjPwAAAAAAAPA/AAAAAAAA8D8AAAAAAADwPw==\",\"dtype\":\"float64\",\"order\":\"little\",\"shape\":[14]},\"Year\":[2001,2002,2003,2004,2005,2007,2008,2011,2012,2013,2014,2015,2016,2017]},\"selected\":{\"id\":\"5950\"},\"selection_policy\":{\"id\":\"5949\"}},\"id\":\"5933\",\"type\":\"ColumnDataSource\"},{\"attributes\":{},\"id\":\"6084\",\"type\":\"AllLabels\"},{\"attributes\":{\"line_alpha\":0.1,\"line_color\":\"#d62728\",\"line_width\":2,\"x\":{\"field\":\"Year\"},\"y\":{\"field\":\"Data\"}},\"id\":\"6157\",\"type\":\"Line\"},{\"attributes\":{\"line_alpha\":0.1,\"line_color\":\"#d62728\",\"line_width\":2,\"x\":{\"field\":\"Year\"},\"y\":{\"field\":\"Data\"}},\"id\":\"6075\",\"type\":\"Line\"},{\"attributes\":{\"label\":{\"value\":\"AIRNIS\"},\"renderers\":[{\"id\":\"6158\"}]},\"id\":\"6171\",\"type\":\"LegendItem\"},{\"attributes\":{\"active_drag\":{\"id\":\"5896\"},\"active_multi\":null,\"active_scroll\":{\"id\":\"5897\"},\"tools\":[{\"id\":\"5896\"},{\"id\":\"5897\"},{\"id\":\"5898\"},{\"id\":\"5899\"},{\"id\":\"5900\"},{\"id\":\"5931\"},{\"id\":\"5957\"}]},\"id\":\"5902\",\"type\":\"Toolbar\"},{\"attributes\":{\"fill_alpha\":{\"value\":0.1},\"fill_color\":{\"value\":\"#ff7f0e\"},\"line_alpha\":{\"value\":0.1},\"line_color\":{\"value\":\"#ff7f0e\"},\"size\":{\"value\":10},\"x\":{\"field\":\"Year\"},\"y\":{\"field\":\"Data\"}},\"id\":\"6118\",\"type\":\"Circle\"},{\"attributes\":{\"source\":{\"id\":\"6097\"}},\"id\":\"6120\",\"type\":\"CDSView\"},{\"attributes\":{\"active_drag\":{\"id\":\"6060\"},\"active_multi\":null,\"active_scroll\":{\"id\":\"6061\"},\"tools\":[{\"id\":\"6060\"},{\"id\":\"6061\"},{\"id\":\"6062\"},{\"id\":\"6063\"},{\"id\":\"6064\"},{\"id\":\"6095\"},{\"id\":\"6121\"}]},\"id\":\"6066\",\"type\":\"Toolbar\"},{\"attributes\":{\"data_source\":{\"id\":\"6097\"},\"glyph\":{\"id\":\"6117\"},\"hover_glyph\":null,\"muted_glyph\":null,\"nonselection_glyph\":{\"id\":\"6118\"},\"view\":{\"id\":\"6120\"}},\"id\":\"6119\",\"type\":\"GlyphRenderer\"},{\"attributes\":{\"data\":{\"Data\":{\"__ndarray__\":\"AAAAAAAAAAAAAAAAAAAAAAAAAAAAAAAAAAAAAAAAAAAAAAAAAAAAAFQJATk/lbA/jBgxYsSIwT8fJ1qu333cP/msG0yRz+I/q6qqqqqq4j9CewntJbTXP6iesYvXP98/SuMjE+id6j8=\",\"dtype\":\"float64\",\"order\":\"little\",\"shape\":[13]},\"Year\":[2007,2008,2009,2010,2011,2012,2013,2014,2015,2016,2017,2018,2019]},\"selected\":{\"id\":\"6005\"},\"selection_policy\":{\"id\":\"6004\"}},\"id\":\"5990\",\"type\":\"ColumnDataSource\"},{\"attributes\":{},\"id\":\"5981\",\"type\":\"ResetTool\"},{\"attributes\":{\"callback\":null,\"renderers\":[{\"id\":\"6119\"}],\"tooltips\":[[\"(x,y)\",\"(@Year,@Data)\"]]},\"id\":\"6121\",\"type\":\"HoverTool\"},{\"attributes\":{},\"id\":\"5998\",\"type\":\"BasicTickFormatter\"},{\"attributes\":{},\"id\":\"5999\",\"type\":\"AllLabels\"},{\"attributes\":{\"line_alpha\":0.1,\"line_color\":\"#ff7f0e\",\"line_width\":2,\"x\":{\"field\":\"Year\"},\"y\":{\"field\":\"Data\"}},\"id\":\"6182\",\"type\":\"Line\"},{\"attributes\":{},\"id\":\"6162\",\"type\":\"BasicTickFormatter\"},{\"attributes\":{\"end\":2019,\"start\":2001},\"id\":\"6044\",\"type\":\"Range1d\"},{\"attributes\":{},\"id\":\"6163\",\"type\":\"AllLabels\"},{\"attributes\":{\"fill_alpha\":{\"value\":0.5},\"fill_color\":{\"value\":\"#1f77b4\"},\"line_alpha\":{\"value\":0.5},\"line_color\":{\"value\":\"#1f77b4\"},\"size\":{\"value\":10},\"x\":{\"field\":\"Year\"},\"y\":{\"field\":\"Data\"}},\"id\":\"5927\",\"type\":\"Circle\"},{\"attributes\":{},\"id\":\"6001\",\"type\":\"BasicTickFormatter\"},{\"attributes\":{},\"id\":\"6002\",\"type\":\"AllLabels\"},{\"attributes\":{\"line_color\":\"#ff7f0e\",\"line_width\":2,\"x\":{\"field\":\"Year\"},\"y\":{\"field\":\"Data\"}},\"id\":\"6181\",\"type\":\"Line\"},{\"attributes\":{},\"id\":\"6132\",\"type\":\"LinearScale\"},{\"attributes\":{},\"id\":\"6165\",\"type\":\"BasicTickFormatter\"},{\"attributes\":{\"line_color\":\"#d62728\",\"line_width\":2,\"x\":{\"field\":\"Year\"},\"y\":{\"field\":\"Data\"}},\"id\":\"6156\",\"type\":\"Line\"},{\"attributes\":{\"below\":[{\"id\":\"6052\"}],\"center\":[{\"id\":\"6055\"},{\"id\":\"6059\"},{\"id\":\"6088\"}],\"height\":400,\"left\":[{\"id\":\"6056\"}],\"renderers\":[{\"id\":\"6076\"},{\"id\":\"6093\"},{\"id\":\"6101\"},{\"id\":\"6119\"}],\"title\":{\"id\":\"6042\"},\"toolbar\":{\"id\":\"6066\"},\"toolbar_location\":null,\"width\":400,\"x_range\":{\"id\":\"6044\"},\"x_scale\":{\"id\":\"6048\"},\"y_range\":{\"id\":\"6046\"},\"y_scale\":{\"id\":\"6050\"}},\"id\":\"6041\",\"subtype\":\"Figure\",\"type\":\"Plot\"},{\"attributes\":{},\"id\":\"5978\",\"type\":\"PanTool\"},{\"attributes\":{\"background_fill_alpha\":0.7,\"items\":[{\"id\":\"5925\"},{\"id\":\"5951\"}]},\"id\":\"5924\",\"type\":\"Legend\"},{\"attributes\":{},\"id\":\"5886\",\"type\":\"LinearScale\"},{\"attributes\":{\"fill_alpha\":{\"value\":0.1},\"fill_color\":{\"value\":\"#1f77b4\"},\"line_alpha\":{\"value\":0.1},\"line_color\":{\"value\":\"#1f77b4\"},\"size\":{\"value\":10},\"x\":{\"field\":\"Year\"},\"y\":{\"field\":\"Data\"}},\"id\":\"5928\",\"type\":\"Circle\"},{\"attributes\":{},\"id\":\"6166\",\"type\":\"AllLabels\"},{\"attributes\":{\"data_source\":{\"id\":\"5933\"},\"glyph\":{\"id\":\"5935\"},\"hover_glyph\":null,\"muted_glyph\":null,\"nonselection_glyph\":{\"id\":\"5936\"},\"view\":{\"id\":\"5938\"}},\"id\":\"5937\",\"type\":\"GlyphRenderer\"},{\"attributes\":{\"background_fill_alpha\":0.7,\"items\":[{\"id\":\"6089\"},{\"id\":\"6115\"}]},\"id\":\"6088\",\"type\":\"Legend\"},{\"attributes\":{\"data\":{\"Data\":{\"__ndarray__\":\"UAd1UAd14D8fhetRuB7lP3ZiJ3ZiJ+Y/PRm/XerJ6D+rqqqqqqruPya0l9BeQus/8M88WlQi6T8wj60IGk7qP5F4FYlXkeg/TGcxncV05j8AAAAAAADaPwAAAAAAAAAAAAAAAAAAAAAAAAAAAAAAAA==\",\"dtype\":\"float64\",\"order\":\"little\",\"shape\":[14]},\"Year\":[2001,2002,2003,2004,2005,2007,2008,2011,2012,2013,2014,2015,2016,2017]},\"selected\":{\"id\":\"5923\"},\"selection_policy\":{\"id\":\"5922\"}},\"id\":\"5908\",\"type\":\"ColumnDataSource\"},{\"attributes\":{\"overlay\":{\"id\":\"5901\"}},\"id\":\"5898\",\"type\":\"BoxZoomTool\"},{\"attributes\":{\"data_source\":{\"id\":\"5908\"},\"glyph\":{\"id\":\"5927\"},\"hover_glyph\":null,\"muted_glyph\":null,\"nonselection_glyph\":{\"id\":\"5928\"},\"view\":{\"id\":\"5930\"}},\"id\":\"5929\",\"type\":\"GlyphRenderer\"},{\"attributes\":{\"text\":\"PfDHFR Predominant Variants in ESEA\"},\"id\":\"5960\",\"type\":\"Title\"},{\"attributes\":{\"callback\":null,\"renderers\":[{\"id\":\"5929\"}],\"tooltips\":[[\"(x,y)\",\"(@Year,@Data)\"]]},\"id\":\"5931\",\"type\":\"HoverTool\"},{\"attributes\":{\"data_source\":{\"id\":\"5908\"},\"glyph\":{\"id\":\"5910\"},\"hover_glyph\":null,\"muted_glyph\":null,\"nonselection_glyph\":{\"id\":\"5911\"},\"view\":{\"id\":\"5913\"}},\"id\":\"5912\",\"type\":\"GlyphRenderer\"},{\"attributes\":{\"data_source\":{\"id\":\"6097\"},\"glyph\":{\"id\":\"6099\"},\"hover_glyph\":null,\"muted_glyph\":null,\"nonselection_glyph\":{\"id\":\"6100\"},\"view\":{\"id\":\"6102\"}},\"id\":\"6101\",\"type\":\"GlyphRenderer\"},{\"attributes\":{\"axis\":{\"id\":\"5974\"},\"dimension\":1,\"ticker\":null},\"id\":\"5977\",\"type\":\"Grid\"},{\"attributes\":{\"text\":\"PfDHFR Predominant Variants in WAF\"},\"id\":\"6042\",\"type\":\"Title\"},{\"attributes\":{},\"id\":\"6196\",\"type\":\"Selection\"},{\"attributes\":{\"data_source\":{\"id\":\"6072\"},\"glyph\":{\"id\":\"6074\"},\"hover_glyph\":null,\"muted_glyph\":null,\"nonselection_glyph\":{\"id\":\"6075\"},\"view\":{\"id\":\"6077\"}},\"id\":\"6076\",\"type\":\"GlyphRenderer\"},{\"attributes\":{\"line_color\":\"#ff7f0e\",\"line_width\":2,\"x\":{\"field\":\"Year\"},\"y\":{\"field\":\"Data\"}},\"id\":\"5935\",\"type\":\"Line\"},{\"attributes\":{},\"id\":\"6080\",\"type\":\"BasicTickFormatter\"},{\"attributes\":{\"line_alpha\":0.1,\"line_color\":\"#ff7f0e\",\"line_width\":2,\"x\":{\"field\":\"Year\"},\"y\":{\"field\":\"Data\"}},\"id\":\"5936\",\"type\":\"Line\"},{\"attributes\":{},\"id\":\"5975\",\"type\":\"BasicTicker\"},{\"attributes\":{\"line_color\":\"#ff7f0e\",\"line_width\":2,\"x\":{\"field\":\"Year\"},\"y\":{\"field\":\"Data\"}},\"id\":\"6099\",\"type\":\"Line\"},{\"attributes\":{\"label\":{\"value\":\"AIRNLS\"},\"renderers\":[{\"id\":\"5912\"}]},\"id\":\"5925\",\"type\":\"LegendItem\"},{\"attributes\":{\"label\":{\"value\":\"Other\"},\"renderers\":[{\"id\":\"6019\"}]},\"id\":\"6033\",\"type\":\"LegendItem\"},{\"attributes\":{\"line_alpha\":0.1,\"line_color\":\"#ff7f0e\",\"line_width\":2,\"x\":{\"field\":\"Year\"},\"y\":{\"field\":\"Data\"}},\"id\":\"6100\",\"type\":\"Line\"},{\"attributes\":{\"active_drag\":{\"id\":\"6142\"},\"active_multi\":null,\"active_scroll\":{\"id\":\"6143\"},\"tools\":[{\"id\":\"6142\"},{\"id\":\"6143\"},{\"id\":\"6144\"},{\"id\":\"6145\"},{\"id\":\"6146\"},{\"id\":\"6177\"},{\"id\":\"6203\"}]},\"id\":\"6148\",\"type\":\"Toolbar\"},{\"attributes\":{\"fill_alpha\":{\"value\":0.5},\"fill_color\":{\"value\":\"#ff7f0e\"},\"line_alpha\":{\"value\":0.5},\"line_color\":{\"value\":\"#ff7f0e\"},\"size\":{\"value\":10},\"x\":{\"field\":\"Year\"},\"y\":{\"field\":\"Data\"}},\"id\":\"6035\",\"type\":\"Circle\"},{\"attributes\":{\"source\":{\"id\":\"5908\"}},\"id\":\"5930\",\"type\":\"CDSView\"},{\"attributes\":{},\"id\":\"5897\",\"type\":\"WheelZoomTool\"},{\"attributes\":{\"label\":{\"value\":\"AIRNIS\"},\"renderers\":[{\"id\":\"6076\"}]},\"id\":\"6089\",\"type\":\"LegendItem\"},{\"attributes\":{},\"id\":\"5971\",\"type\":\"BasicTicker\"},{\"attributes\":{\"end\":2019,\"start\":2001},\"id\":\"5880\",\"type\":\"Range1d\"},{\"attributes\":{\"axis_label\":\"Year\",\"formatter\":{\"id\":\"5998\"},\"major_label_policy\":{\"id\":\"5999\"},\"ticker\":{\"id\":\"5971\"}},\"id\":\"5970\",\"type\":\"LinearAxis\"},{\"attributes\":{\"source\":{\"id\":\"5933\"}},\"id\":\"5938\",\"type\":\"CDSView\"},{\"attributes\":{\"axis\":{\"id\":\"5892\"},\"dimension\":1,\"ticker\":null},\"id\":\"5895\",\"type\":\"Grid\"},{\"attributes\":{\"text\":\"PfDHFR Predominant Variants in WSEA\"},\"id\":\"5878\",\"type\":\"Title\"},{\"attributes\":{\"bottom_units\":\"screen\",\"fill_alpha\":0.5,\"fill_color\":\"lightgrey\",\"left_units\":\"screen\",\"level\":\"overlay\",\"line_alpha\":1.0,\"line_color\":\"black\",\"line_dash\":[4,4],\"line_width\":2,\"right_units\":\"screen\",\"syncable\":false,\"top_units\":\"screen\"},\"id\":\"6147\",\"type\":\"BoxAnnotation\"},{\"attributes\":{},\"id\":\"5889\",\"type\":\"BasicTicker\"},{\"attributes\":{},\"id\":\"5899\",\"type\":\"ResetTool\"},{\"attributes\":{\"axis\":{\"id\":\"5970\"},\"ticker\":null},\"id\":\"5973\",\"type\":\"Grid\"},{\"attributes\":{\"source\":{\"id\":\"6154\"}},\"id\":\"6176\",\"type\":\"CDSView\"},{\"attributes\":{},\"id\":\"5884\",\"type\":\"LinearScale\"},{\"attributes\":{\"callback\":null,\"renderers\":[{\"id\":\"6175\"}],\"tooltips\":[[\"(x,y)\",\"(@Year,@Data)\"]]},\"id\":\"6177\",\"type\":\"HoverTool\"},{\"attributes\":{},\"id\":\"5882\",\"type\":\"Range1d\"},{\"attributes\":{\"callback\":null},\"id\":\"5900\",\"type\":\"TapTool\"},{\"attributes\":{},\"id\":\"6130\",\"type\":\"LinearScale\"},{\"attributes\":{\"callback\":null},\"id\":\"5982\",\"type\":\"TapTool\"},{\"attributes\":{\"fill_alpha\":{\"value\":0.5},\"fill_color\":{\"value\":\"#ff7f0e\"},\"line_alpha\":{\"value\":0.5},\"line_color\":{\"value\":\"#ff7f0e\"},\"size\":{\"value\":10},\"x\":{\"field\":\"Year\"},\"y\":{\"field\":\"Data\"}},\"id\":\"5953\",\"type\":\"Circle\"},{\"attributes\":{\"toolbar\":{\"id\":\"6258\"},\"toolbar_location\":\"above\"},\"id\":\"6259\",\"type\":\"ToolbarBox\"},{\"attributes\":{},\"id\":\"5966\",\"type\":\"LinearScale\"},{\"attributes\":{\"axis_label\":\"Year\",\"formatter\":{\"id\":\"5916\"},\"major_label_policy\":{\"id\":\"5917\"},\"ticker\":{\"id\":\"5889\"}},\"id\":\"5888\",\"type\":\"LinearAxis\"},{\"attributes\":{\"fill_alpha\":{\"value\":0.1},\"fill_color\":{\"value\":\"#ff7f0e\"},\"line_alpha\":{\"value\":0.1},\"line_color\":{\"value\":\"#ff7f0e\"},\"size\":{\"value\":10},\"x\":{\"field\":\"Year\"},\"y\":{\"field\":\"Data\"}},\"id\":\"6200\",\"type\":\"Circle\"},{\"attributes\":{},\"id\":\"6004\",\"type\":\"UnionRenderers\"},{\"attributes\":{},\"id\":\"5896\",\"type\":\"PanTool\"},{\"attributes\":{\"source\":{\"id\":\"6179\"}},\"id\":\"6202\",\"type\":\"CDSView\"},{\"attributes\":{},\"id\":\"6195\",\"type\":\"UnionRenderers\"},{\"attributes\":{\"data_source\":{\"id\":\"6179\"},\"glyph\":{\"id\":\"6181\"},\"hover_glyph\":null,\"muted_glyph\":null,\"nonselection_glyph\":{\"id\":\"6182\"},\"view\":{\"id\":\"6184\"}},\"id\":\"6183\",\"type\":\"GlyphRenderer\"},{\"attributes\":{\"data_source\":{\"id\":\"6179\"},\"glyph\":{\"id\":\"6199\"},\"hover_glyph\":null,\"muted_glyph\":null,\"nonselection_glyph\":{\"id\":\"6200\"},\"view\":{\"id\":\"6202\"}},\"id\":\"6201\",\"type\":\"GlyphRenderer\"},{\"attributes\":{\"callback\":null,\"renderers\":[{\"id\":\"6201\"}],\"tooltips\":[[\"(x,y)\",\"(@Year,@Data)\"]]},\"id\":\"6203\",\"type\":\"HoverTool\"},{\"attributes\":{\"label\":{\"value\":\"Other\"},\"renderers\":[{\"id\":\"5937\"}]},\"id\":\"5951\",\"type\":\"LegendItem\"},{\"attributes\":{},\"id\":\"6005\",\"type\":\"Selection\"},{\"attributes\":{},\"id\":\"5916\",\"type\":\"BasicTickFormatter\"},{\"attributes\":{\"axis_label\":\"Prevalence\",\"formatter\":{\"id\":\"6001\"},\"major_label_policy\":{\"id\":\"6002\"},\"ticker\":{\"id\":\"5975\"}},\"id\":\"5974\",\"type\":\"LinearAxis\"},{\"attributes\":{\"axis\":{\"id\":\"5888\"},\"ticker\":null},\"id\":\"5891\",\"type\":\"Grid\"}],\"root_ids\":[\"6260\"]},\"title\":\"Bokeh Application\",\"version\":\"2.3.3\"}};\n",
       "  var render_items = [{\"docid\":\"b251b896-8306-4c30-81fc-db8c88fead4f\",\"root_ids\":[\"6260\"],\"roots\":{\"6260\":\"7b2e6e71-127a-488b-b650-5d1d3b4dddac\"}}];\n",
       "  root.Bokeh.embed.embed_items_notebook(docs_json, render_items);\n",
       "\n",
       "  }\n",
       "  if (root.Bokeh !== undefined) {\n",
       "    embed_document(root);\n",
       "  } else {\n",
       "    var attempts = 0;\n",
       "    var timer = setInterval(function(root) {\n",
       "      if (root.Bokeh !== undefined) {\n",
       "        clearInterval(timer);\n",
       "        embed_document(root);\n",
       "      } else {\n",
       "        attempts++;\n",
       "        if (attempts > 100) {\n",
       "          clearInterval(timer);\n",
       "          console.log(\"Bokeh: ERROR: Unable to run BokehJS code because BokehJS library is missing\");\n",
       "        }\n",
       "      }\n",
       "    }, 10, root)\n",
       "  }\n",
       "})(window);"
      ],
      "application/vnd.bokehjs_exec.v0+json": ""
     },
     "metadata": {
      "application/vnd.bokehjs_exec.v0+json": {
       "id": "6260"
      }
     },
     "output_type": "display_data"
    },
    {
     "data": {
      "text/plain": [
       "<data_analysis.plotting.Subplots at 0x11ac70e80>"
      ]
     },
     "execution_count": 18,
     "metadata": {},
     "output_type": "execute_result"
    }
   ],
   "source": [
    "plot_haplotype_frequency(pf6plus, 'PfDHFR', populations = ['WSEA','ESEA','WAF','EAF'], num_top_haplotypes = 1)"
   ]
  },
  {
   "cell_type": "code",
   "execution_count": 19,
   "metadata": {
    "colab": {
     "base_uri": "https://localhost:8080/",
     "height": 864
    },
    "id": "Jl52GPbZnbcb",
    "outputId": "89ca1375-bdc4-4c6b-e64e-9dcca5e9a39b"
   },
   "outputs": [
    {
     "data": {
      "text/html": [
       "\n",
       "\n",
       "\n",
       "\n",
       "\n",
       "\n",
       "  <div class=\"bk-root\" id=\"ae542170-b270-4dca-a295-db309f6b0a0f\" data-root-id=\"7708\"></div>\n"
      ]
     },
     "metadata": {},
     "output_type": "display_data"
    },
    {
     "data": {
      "application/javascript": [
       "(function(root) {\n",
       "  function embed_document(root) {\n",
       "    \n",
       "  var docs_json = {\"6f532cb4-99cb-4930-8fa8-0f2e7378951a\":{\"defs\":[],\"roots\":{\"references\":[{\"attributes\":{\"children\":[{\"id\":\"7707\"},{\"id\":\"7705\"}]},\"id\":\"7708\",\"type\":\"Column\"},{\"attributes\":{\"fill_alpha\":{\"value\":0.5},\"fill_color\":{\"value\":\"#2ca02c\"},\"line_alpha\":{\"value\":0.5},\"line_color\":{\"value\":\"#2ca02c\"},\"size\":{\"value\":10},\"x\":{\"field\":\"Year\"},\"y\":{\"field\":\"Data\"}},\"id\":\"7465\",\"type\":\"Circle\"},{\"attributes\":{\"axis_label\":\"Year\",\"formatter\":{\"id\":\"7248\"},\"major_label_policy\":{\"id\":\"7249\"},\"ticker\":{\"id\":\"7221\"}},\"id\":\"7220\",\"type\":\"LinearAxis\"},{\"attributes\":{\"source\":{\"id\":\"7059\"}},\"id\":\"7082\",\"type\":\"CDSView\"},{\"attributes\":{\"fill_alpha\":{\"value\":0.1},\"fill_color\":{\"value\":\"#2ca02c\"},\"line_alpha\":{\"value\":0.1},\"line_color\":{\"value\":\"#2ca02c\"},\"size\":{\"value\":10},\"x\":{\"field\":\"Year\"},\"y\":{\"field\":\"Data\"}},\"id\":\"7466\",\"type\":\"Circle\"},{\"attributes\":{\"axis\":{\"id\":\"7220\"},\"ticker\":null},\"id\":\"7223\",\"type\":\"Grid\"},{\"attributes\":{\"source\":{\"id\":\"7446\"}},\"id\":\"7468\",\"type\":\"CDSView\"},{\"attributes\":{\"data_source\":{\"id\":\"7446\"},\"glyph\":{\"id\":\"7465\"},\"hover_glyph\":null,\"muted_glyph\":null,\"nonselection_glyph\":{\"id\":\"7466\"},\"view\":{\"id\":\"7468\"}},\"id\":\"7467\",\"type\":\"GlyphRenderer\"},{\"attributes\":{\"line_color\":\"#1f77b4\",\"line_width\":2,\"x\":{\"field\":\"Year\"},\"y\":{\"field\":\"Data\"}},\"id\":\"6830\",\"type\":\"Line\"},{\"attributes\":{\"callback\":null,\"renderers\":[{\"id\":\"7467\"}],\"tooltips\":[[\"(x,y)\",\"(@Year,@Data)\"]]},\"id\":\"7469\",\"type\":\"HoverTool\"},{\"attributes\":{\"end\":2019,\"start\":2001},\"id\":\"7006\",\"type\":\"Range1d\"},{\"attributes\":{\"source\":{\"id\":\"7497\"}},\"id\":\"7502\",\"type\":\"CDSView\"},{\"attributes\":{},\"id\":\"6840\",\"type\":\"AllLabels\"},{\"attributes\":{\"label\":{\"value\":\"AIRNLS\"},\"renderers\":[{\"id\":\"7147\"}]},\"id\":\"7167\",\"type\":\"LegendItem\"},{\"attributes\":{\"source\":{\"id\":\"7471\"}},\"id\":\"7476\",\"type\":\"CDSView\"},{\"attributes\":{\"axis_label\":\"Prevalence\",\"formatter\":{\"id\":\"7045\"},\"major_label_policy\":{\"id\":\"7046\"},\"ticker\":{\"id\":\"7019\"}},\"id\":\"7018\",\"type\":\"LinearAxis\"},{\"attributes\":{},\"id\":\"7022\",\"type\":\"PanTool\"},{\"attributes\":{\"line_color\":\"#7fc97f\",\"line_width\":2,\"x\":{\"field\":\"Year\"},\"y\":{\"field\":\"Data\"}},\"id\":\"7499\",\"type\":\"Line\"},{\"attributes\":{},\"id\":\"6839\",\"type\":\"BasicTickFormatter\"},{\"attributes\":{\"fill_alpha\":{\"value\":0.5},\"fill_color\":{\"value\":\"#7fc97f\"},\"line_alpha\":{\"value\":0.5},\"line_color\":{\"value\":\"#7fc97f\"},\"size\":{\"value\":10},\"x\":{\"field\":\"Year\"},\"y\":{\"field\":\"Data\"}},\"id\":\"7519\",\"type\":\"Circle\"},{\"attributes\":{},\"id\":\"7133\",\"type\":\"UnionRenderers\"},{\"attributes\":{\"line_color\":\"#ffff99\",\"line_width\":2,\"x\":{\"field\":\"Year\"},\"y\":{\"field\":\"Data\"}},\"id\":\"7527\",\"type\":\"Line\"},{\"attributes\":{},\"id\":\"7012\",\"type\":\"LinearScale\"},{\"attributes\":{},\"id\":\"7134\",\"type\":\"Selection\"},{\"attributes\":{\"data\":{\"Data\":{\"__ndarray__\":\"AAAAAAAAAAAAAAAAAAAAAAAAAAAAAAAAAAAAAAAAAAAAAAAAAAAAAAAAAAAAAAAAAAAAAAAAAAAAAAAAAAAAAAAAAAAAAAAAAAAAAAAAAAAAAAAAAAAAAJZ7GmG5p9E/FjqDFTqD5T/Ygi3Ygi3YPw==\",\"dtype\":\"float64\",\"order\":\"little\",\"shape\":[14]},\"Year\":[2001,2002,2003,2004,2005,2007,2008,2011,2012,2013,2014,2015,2016,2017]},\"selected\":{\"id\":\"6870\"},\"selection_policy\":{\"id\":\"6869\"}},\"id\":\"6853\",\"type\":\"ColumnDataSource\"},{\"attributes\":{\"label\":{\"value\":\"AICNIS\"},\"renderers\":[{\"id\":\"7475\"}]},\"id\":\"7489\",\"type\":\"LegendItem\"},{\"attributes\":{\"axis\":{\"id\":\"7014\"},\"ticker\":null},\"id\":\"7017\",\"type\":\"Grid\"},{\"attributes\":{},\"id\":\"7221\",\"type\":\"BasicTicker\"},{\"attributes\":{\"bottom_units\":\"screen\",\"fill_alpha\":0.5,\"fill_color\":\"lightgrey\",\"left_units\":\"screen\",\"level\":\"overlay\",\"line_alpha\":1.0,\"line_color\":\"black\",\"line_dash\":[4,4],\"line_width\":2,\"right_units\":\"screen\",\"syncable\":false,\"top_units\":\"screen\"},\"id\":\"6821\",\"type\":\"BoxAnnotation\"},{\"attributes\":{\"below\":[{\"id\":\"6808\"}],\"center\":[{\"id\":\"6811\"},{\"id\":\"6815\"},{\"id\":\"6844\"}],\"height\":400,\"left\":[{\"id\":\"6812\"}],\"renderers\":[{\"id\":\"6832\"},{\"id\":\"6849\"},{\"id\":\"6857\"},{\"id\":\"6875\"},{\"id\":\"6883\"},{\"id\":\"6903\"},{\"id\":\"6911\"},{\"id\":\"6933\"},{\"id\":\"6941\"},{\"id\":\"6965\"},{\"id\":\"6973\"},{\"id\":\"6999\"}],\"title\":{\"id\":\"6798\"},\"toolbar\":{\"id\":\"6822\"},\"toolbar_location\":null,\"width\":400,\"x_range\":{\"id\":\"6800\"},\"x_scale\":{\"id\":\"6804\"},\"y_range\":{\"id\":\"6802\"},\"y_scale\":{\"id\":\"6806\"}},\"id\":\"6797\",\"subtype\":\"Figure\",\"type\":\"Plot\"},{\"attributes\":{},\"id\":\"7008\",\"type\":\"Range1d\"},{\"attributes\":{\"overlay\":{\"id\":\"6821\"}},\"id\":\"6818\",\"type\":\"BoxZoomTool\"},{\"attributes\":{},\"id\":\"6819\",\"type\":\"ResetTool\"},{\"attributes\":{\"data_source\":{\"id\":\"7143\"},\"glyph\":{\"id\":\"7145\"},\"hover_glyph\":null,\"muted_glyph\":null,\"nonselection_glyph\":{\"id\":\"7146\"},\"view\":{\"id\":\"7148\"}},\"id\":\"7147\",\"type\":\"GlyphRenderer\"},{\"attributes\":{\"end\":2019,\"start\":2001},\"id\":\"7418\",\"type\":\"Range1d\"},{\"attributes\":{},\"id\":\"7487\",\"type\":\"UnionRenderers\"},{\"attributes\":{\"line_alpha\":0.1,\"line_color\":\"#1f77b4\",\"line_width\":2,\"x\":{\"field\":\"Year\"},\"y\":{\"field\":\"Data\"}},\"id\":\"7146\",\"type\":\"Line\"},{\"attributes\":{},\"id\":\"6817\",\"type\":\"WheelZoomTool\"},{\"attributes\":{},\"id\":\"6816\",\"type\":\"PanTool\"},{\"attributes\":{},\"id\":\"7488\",\"type\":\"Selection\"},{\"attributes\":{\"callback\":null},\"id\":\"6820\",\"type\":\"TapTool\"},{\"attributes\":{\"fill_alpha\":{\"value\":0.1},\"fill_color\":{\"value\":\"#7f7f7f\"},\"line_alpha\":{\"value\":0.1},\"line_color\":{\"value\":\"#7f7f7f\"},\"size\":{\"value\":10},\"x\":{\"field\":\"Year\"},\"y\":{\"field\":\"Data\"}},\"id\":\"7138\",\"type\":\"Circle\"},{\"attributes\":{\"source\":{\"id\":\"7113\"}},\"id\":\"7140\",\"type\":\"CDSView\"},{\"attributes\":{\"data_source\":{\"id\":\"7113\"},\"glyph\":{\"id\":\"7137\"},\"hover_glyph\":null,\"muted_glyph\":null,\"nonselection_glyph\":{\"id\":\"7138\"},\"view\":{\"id\":\"7140\"}},\"id\":\"7139\",\"type\":\"GlyphRenderer\"},{\"attributes\":{\"callback\":null,\"renderers\":[{\"id\":\"7139\"}],\"tooltips\":[[\"(x,y)\",\"(@Year,@Data)\"]]},\"id\":\"7141\",\"type\":\"HoverTool\"},{\"attributes\":{\"text\":\"PfDHFR Predominant Variants in EAF\"},\"id\":\"7416\",\"type\":\"Title\"},{\"attributes\":{\"fill_alpha\":{\"value\":0.5},\"fill_color\":{\"value\":\"#1f77b4\"},\"line_alpha\":{\"value\":0.5},\"line_color\":{\"value\":\"#1f77b4\"},\"size\":{\"value\":10},\"x\":{\"field\":\"Year\"},\"y\":{\"field\":\"Data\"}},\"id\":\"7169\",\"type\":\"Circle\"},{\"attributes\":{\"axis\":{\"id\":\"6812\"},\"dimension\":1,\"ticker\":null},\"id\":\"6815\",\"type\":\"Grid\"},{\"attributes\":{},\"id\":\"6813\",\"type\":\"BasicTicker\"},{\"attributes\":{\"data\":{\"Data\":{\"__ndarray__\":\"IAr0iTxJoj/Q4zCYv0K2P/hOzHoxlLc//If029eByT9YRE30+SjDP+Bq1hnfF78/0IDs9e6Prz/gJaq3BrayPyCRfZBlwZQ/IOF7f4P2oj+g15/E506wP8A7wJMWLqs/AACwoPfGsL4=\",\"dtype\":\"float64\",\"order\":\"little\",\"shape\":[13]},\"Year\":[2007,2008,2009,2010,2011,2012,2013,2014,2015,2016,2017,2018,2019]},\"selected\":{\"id\":\"7200\"},\"selection_policy\":{\"id\":\"7199\"}},\"id\":\"7175\",\"type\":\"ColumnDataSource\"},{\"attributes\":{},\"id\":\"7015\",\"type\":\"BasicTicker\"},{\"attributes\":{\"fill_alpha\":{\"value\":0.5},\"fill_color\":{\"value\":\"#fdc086\"},\"line_alpha\":{\"value\":0.5},\"line_color\":{\"value\":\"#fdc086\"},\"size\":{\"value\":10},\"x\":{\"field\":\"Year\"},\"y\":{\"field\":\"Data\"}},\"id\":\"7491\",\"type\":\"Circle\"},{\"attributes\":{},\"id\":\"6804\",\"type\":\"LinearScale\"},{\"attributes\":{\"axis\":{\"id\":\"6808\"},\"ticker\":null},\"id\":\"6811\",\"type\":\"Grid\"},{\"attributes\":{\"toolbars\":[{\"id\":\"6822\"},{\"id\":\"7028\"},{\"id\":\"7234\"},{\"id\":\"7440\"}],\"tools\":[{\"id\":\"6816\"},{\"id\":\"6817\"},{\"id\":\"6818\"},{\"id\":\"6819\"},{\"id\":\"6820\"},{\"id\":\"6851\"},{\"id\":\"6877\"},{\"id\":\"6905\"},{\"id\":\"6935\"},{\"id\":\"6967\"},{\"id\":\"7001\"},{\"id\":\"7022\"},{\"id\":\"7023\"},{\"id\":\"7024\"},{\"id\":\"7025\"},{\"id\":\"7026\"},{\"id\":\"7057\"},{\"id\":\"7083\"},{\"id\":\"7111\"},{\"id\":\"7141\"},{\"id\":\"7173\"},{\"id\":\"7207\"},{\"id\":\"7228\"},{\"id\":\"7229\"},{\"id\":\"7230\"},{\"id\":\"7231\"},{\"id\":\"7232\"},{\"id\":\"7263\"},{\"id\":\"7289\"},{\"id\":\"7317\"},{\"id\":\"7347\"},{\"id\":\"7379\"},{\"id\":\"7413\"},{\"id\":\"7434\"},{\"id\":\"7435\"},{\"id\":\"7436\"},{\"id\":\"7437\"},{\"id\":\"7438\"},{\"id\":\"7469\"},{\"id\":\"7495\"},{\"id\":\"7523\"},{\"id\":\"7553\"},{\"id\":\"7585\"},{\"id\":\"7619\"}]},\"id\":\"7706\",\"type\":\"ProxyToolbar\"},{\"attributes\":{},\"id\":\"7010\",\"type\":\"LinearScale\"},{\"attributes\":{\"data_source\":{\"id\":\"7175\"},\"glyph\":{\"id\":\"7177\"},\"hover_glyph\":null,\"muted_glyph\":null,\"nonselection_glyph\":{\"id\":\"7178\"},\"view\":{\"id\":\"7180\"}},\"id\":\"7179\",\"type\":\"GlyphRenderer\"},{\"attributes\":{},\"id\":\"6806\",\"type\":\"LinearScale\"},{\"attributes\":{\"axis_label\":\"Prevalence\",\"formatter\":{\"id\":\"6839\"},\"major_label_policy\":{\"id\":\"6840\"},\"ticker\":{\"id\":\"6813\"}},\"id\":\"6812\",\"type\":\"LinearAxis\"},{\"attributes\":{},\"id\":\"7218\",\"type\":\"LinearScale\"},{\"attributes\":{\"fill_alpha\":{\"value\":0.1},\"fill_color\":{\"value\":\"#fdc086\"},\"line_alpha\":{\"value\":0.1},\"line_color\":{\"value\":\"#fdc086\"},\"size\":{\"value\":10},\"x\":{\"field\":\"Year\"},\"y\":{\"field\":\"Data\"}},\"id\":\"7492\",\"type\":\"Circle\"},{\"attributes\":{\"axis_label\":\"Year\",\"formatter\":{\"id\":\"6836\"},\"major_label_policy\":{\"id\":\"6837\"},\"ticker\":{\"id\":\"6809\"}},\"id\":\"6808\",\"type\":\"LinearAxis\"},{\"attributes\":{\"line_color\":\"#8c564b\",\"line_width\":2,\"x\":{\"field\":\"Year\"},\"y\":{\"field\":\"Data\"}},\"id\":\"7177\",\"type\":\"Line\"},{\"attributes\":{\"source\":{\"id\":\"7471\"}},\"id\":\"7494\",\"type\":\"CDSView\"},{\"attributes\":{\"data_source\":{\"id\":\"7471\"},\"glyph\":{\"id\":\"7491\"},\"hover_glyph\":null,\"muted_glyph\":null,\"nonselection_glyph\":{\"id\":\"7492\"},\"view\":{\"id\":\"7494\"}},\"id\":\"7493\",\"type\":\"GlyphRenderer\"},{\"attributes\":{\"line_alpha\":0.1,\"line_color\":\"#8c564b\",\"line_width\":2,\"x\":{\"field\":\"Year\"},\"y\":{\"field\":\"Data\"}},\"id\":\"7178\",\"type\":\"Line\"},{\"attributes\":{\"callback\":null,\"renderers\":[{\"id\":\"7493\"}],\"tooltips\":[[\"(x,y)\",\"(@Year,@Data)\"]]},\"id\":\"7495\",\"type\":\"HoverTool\"},{\"attributes\":{\"data\":{\"Data\":{\"__ndarray__\":\"OQUvp+DllD8AAAAAAAAAAAwGg8FgMIg/oHJ2C78akz8RERERERGhPw==\",\"dtype\":\"float64\",\"order\":\"little\",\"shape\":[5]},\"Year\":[2007,2010,2011,2013,2014]},\"selected\":{\"id\":\"7546\"},\"selection_policy\":{\"id\":\"7545\"}},\"id\":\"7525\",\"type\":\"ColumnDataSource\"},{\"attributes\":{\"source\":{\"id\":\"7143\"}},\"id\":\"7148\",\"type\":\"CDSView\"},{\"attributes\":{\"data_source\":{\"id\":\"7497\"},\"glyph\":{\"id\":\"7499\"},\"hover_glyph\":null,\"muted_glyph\":null,\"nonselection_glyph\":{\"id\":\"7500\"},\"view\":{\"id\":\"7502\"}},\"id\":\"7501\",\"type\":\"GlyphRenderer\"},{\"attributes\":{},\"id\":\"7019\",\"type\":\"BasicTicker\"},{\"attributes\":{\"below\":[{\"id\":\"7426\"}],\"center\":[{\"id\":\"7429\"},{\"id\":\"7433\"},{\"id\":\"7462\"}],\"height\":400,\"left\":[{\"id\":\"7430\"}],\"renderers\":[{\"id\":\"7450\"},{\"id\":\"7467\"},{\"id\":\"7475\"},{\"id\":\"7493\"},{\"id\":\"7501\"},{\"id\":\"7521\"},{\"id\":\"7529\"},{\"id\":\"7551\"},{\"id\":\"7559\"},{\"id\":\"7583\"},{\"id\":\"7591\"},{\"id\":\"7617\"}],\"title\":{\"id\":\"7416\"},\"toolbar\":{\"id\":\"7440\"},\"toolbar_location\":null,\"width\":400,\"x_range\":{\"id\":\"7418\"},\"x_scale\":{\"id\":\"7422\"},\"y_range\":{\"id\":\"7420\"},\"y_scale\":{\"id\":\"7424\"}},\"id\":\"7415\",\"subtype\":\"Figure\",\"type\":\"Plot\"},{\"attributes\":{},\"id\":\"6802\",\"type\":\"Range1d\"},{\"attributes\":{\"data\":{\"Data\":{\"__ndarray__\":\"YOp1i8BYrz9omUUotoLIP6Dd6GM+IJA/wCFUqdkDpT9AD9JT5BCRPw==\",\"dtype\":\"float64\",\"order\":\"little\",\"shape\":[5]},\"Year\":[2007,2010,2011,2013,2014]},\"selected\":{\"id\":\"7612\"},\"selection_policy\":{\"id\":\"7611\"}},\"id\":\"7587\",\"type\":\"ColumnDataSource\"},{\"attributes\":{\"active_drag\":{\"id\":\"6816\"},\"active_multi\":null,\"active_scroll\":{\"id\":\"6817\"},\"tools\":[{\"id\":\"6816\"},{\"id\":\"6817\"},{\"id\":\"6818\"},{\"id\":\"6819\"},{\"id\":\"6820\"},{\"id\":\"6851\"},{\"id\":\"6877\"},{\"id\":\"6905\"},{\"id\":\"6935\"},{\"id\":\"6967\"},{\"id\":\"7001\"}]},\"id\":\"6822\",\"type\":\"Toolbar\"},{\"attributes\":{},\"id\":\"7165\",\"type\":\"UnionRenderers\"},{\"attributes\":{\"label\":{\"value\":\"ANRNIS\"},\"renderers\":[{\"id\":\"7501\"}]},\"id\":\"7517\",\"type\":\"LegendItem\"},{\"attributes\":{},\"id\":\"6809\",\"type\":\"BasicTicker\"},{\"attributes\":{\"line_alpha\":0.1,\"line_color\":\"#7fc97f\",\"line_width\":2,\"x\":{\"field\":\"Year\"},\"y\":{\"field\":\"Data\"}},\"id\":\"7500\",\"type\":\"Line\"},{\"attributes\":{},\"id\":\"7166\",\"type\":\"Selection\"},{\"attributes\":{},\"id\":\"7216\",\"type\":\"LinearScale\"},{\"attributes\":{\"label\":{\"value\":\"ANRNLS\"},\"renderers\":[{\"id\":\"6911\"}]},\"id\":\"6929\",\"type\":\"LegendItem\"},{\"attributes\":{},\"id\":\"6897\",\"type\":\"UnionRenderers\"},{\"attributes\":{\"fill_alpha\":{\"value\":0.1},\"fill_color\":{\"value\":\"#8c564b\"},\"line_alpha\":{\"value\":0.1},\"line_color\":{\"value\":\"#8c564b\"},\"size\":{\"value\":10},\"x\":{\"field\":\"Year\"},\"y\":{\"field\":\"Data\"}},\"id\":\"7410\",\"type\":\"Circle\"},{\"attributes\":{},\"id\":\"6898\",\"type\":\"Selection\"},{\"attributes\":{\"label\":{\"value\":\"NRNI\"},\"renderers\":[{\"id\":\"7117\"}]},\"id\":\"7135\",\"type\":\"LegendItem\"},{\"attributes\":{\"source\":{\"id\":\"7381\"}},\"id\":\"7412\",\"type\":\"CDSView\"},{\"attributes\":{\"data_source\":{\"id\":\"7381\"},\"glyph\":{\"id\":\"7409\"},\"hover_glyph\":null,\"muted_glyph\":null,\"nonselection_glyph\":{\"id\":\"7410\"},\"view\":{\"id\":\"7412\"}},\"id\":\"7411\",\"type\":\"GlyphRenderer\"},{\"attributes\":{\"line_color\":\"#1f77b4\",\"line_width\":2,\"x\":{\"field\":\"Year\"},\"y\":{\"field\":\"Data\"}},\"id\":\"7145\",\"type\":\"Line\"},{\"attributes\":{},\"id\":\"7515\",\"type\":\"UnionRenderers\"},{\"attributes\":{\"callback\":null,\"renderers\":[{\"id\":\"7411\"}],\"tooltips\":[[\"(x,y)\",\"(@Year,@Data)\"]]},\"id\":\"7413\",\"type\":\"HoverTool\"},{\"attributes\":{\"source\":{\"id\":\"7113\"}},\"id\":\"7118\",\"type\":\"CDSView\"},{\"attributes\":{},\"id\":\"7516\",\"type\":\"Selection\"},{\"attributes\":{\"text\":\"PfDHFR Predominant Variants in ESEA\"},\"id\":\"7004\",\"type\":\"Title\"},{\"attributes\":{\"line_alpha\":0.1,\"line_color\":\"#ffff99\",\"line_width\":2,\"x\":{\"field\":\"Year\"},\"y\":{\"field\":\"Data\"}},\"id\":\"7528\",\"type\":\"Line\"},{\"attributes\":{\"data_source\":{\"id\":\"7525\"},\"glyph\":{\"id\":\"7527\"},\"hover_glyph\":null,\"muted_glyph\":null,\"nonselection_glyph\":{\"id\":\"7528\"},\"view\":{\"id\":\"7530\"}},\"id\":\"7529\",\"type\":\"GlyphRenderer\"},{\"attributes\":{\"bottom_units\":\"screen\",\"fill_alpha\":0.5,\"fill_color\":\"lightgrey\",\"left_units\":\"screen\",\"level\":\"overlay\",\"line_alpha\":1.0,\"line_color\":\"black\",\"line_dash\":[4,4],\"line_width\":2,\"right_units\":\"screen\",\"syncable\":false,\"top_units\":\"screen\"},\"id\":\"7439\",\"type\":\"BoxAnnotation\"},{\"attributes\":{\"source\":{\"id\":\"6907\"}},\"id\":\"6912\",\"type\":\"CDSView\"},{\"attributes\":{\"callback\":null,\"renderers\":[{\"id\":\"7521\"}],\"tooltips\":[[\"(x,y)\",\"(@Year,@Data)\"]]},\"id\":\"7523\",\"type\":\"HoverTool\"},{\"attributes\":{\"line_alpha\":0.1,\"line_color\":\"#d62728\",\"line_width\":2,\"x\":{\"field\":\"Year\"},\"y\":{\"field\":\"Data\"}},\"id\":\"6910\",\"type\":\"Line\"},{\"attributes\":{\"callback\":null,\"renderers\":[{\"id\":\"6903\"}],\"tooltips\":[[\"(x,y)\",\"(@Year,@Data)\"]]},\"id\":\"6905\",\"type\":\"HoverTool\"},{\"attributes\":{\"source\":{\"id\":\"6937\"}},\"id\":\"6966\",\"type\":\"CDSView\"},{\"attributes\":{\"data\":{\"Data\":{\"__ndarray__\":\"iMb60Fgfyj9XEJMriMmVPwgEAoFAIHA/8asxkR6orD8RERERERGRPw==\",\"dtype\":\"float64\",\"order\":\"little\",\"shape\":[5]},\"Year\":[2007,2010,2011,2013,2014]},\"selected\":{\"id\":\"7488\"},\"selection_policy\":{\"id\":\"7487\"}},\"id\":\"7471\",\"type\":\"ColumnDataSource\"},{\"attributes\":{\"fill_alpha\":{\"value\":0.1},\"fill_color\":{\"value\":\"#7fc97f\"},\"line_alpha\":{\"value\":0.1},\"line_color\":{\"value\":\"#7fc97f\"},\"size\":{\"value\":10},\"x\":{\"field\":\"Year\"},\"y\":{\"field\":\"Data\"}},\"id\":\"7520\",\"type\":\"Circle\"},{\"attributes\":{\"line_color\":\"#8c564b\",\"line_width\":2,\"x\":{\"field\":\"Year\"},\"y\":{\"field\":\"Data\"}},\"id\":\"6971\",\"type\":\"Line\"},{\"attributes\":{\"source\":{\"id\":\"7497\"}},\"id\":\"7522\",\"type\":\"CDSView\"},{\"attributes\":{},\"id\":\"7424\",\"type\":\"LinearScale\"},{\"attributes\":{\"data_source\":{\"id\":\"7497\"},\"glyph\":{\"id\":\"7519\"},\"hover_glyph\":null,\"muted_glyph\":null,\"nonselection_glyph\":{\"id\":\"7520\"},\"view\":{\"id\":\"7522\"}},\"id\":\"7521\",\"type\":\"GlyphRenderer\"},{\"attributes\":{\"fill_alpha\":{\"value\":0.1},\"fill_color\":{\"value\":\"#2ca02c\"},\"line_alpha\":{\"value\":0.1},\"line_color\":{\"value\":\"#2ca02c\"},\"size\":{\"value\":10},\"x\":{\"field\":\"Year\"},\"y\":{\"field\":\"Data\"}},\"id\":\"6902\",\"type\":\"Circle\"},{\"attributes\":{\"source\":{\"id\":\"6879\"}},\"id\":\"6904\",\"type\":\"CDSView\"},{\"attributes\":{\"data_source\":{\"id\":\"6879\"},\"glyph\":{\"id\":\"6901\"},\"hover_glyph\":null,\"muted_glyph\":null,\"nonselection_glyph\":{\"id\":\"6902\"},\"view\":{\"id\":\"6904\"}},\"id\":\"6903\",\"type\":\"GlyphRenderer\"},{\"attributes\":{\"line_color\":\"#2ca02c\",\"line_width\":2,\"x\":{\"field\":\"Year\"},\"y\":{\"field\":\"Data\"}},\"id\":\"7448\",\"type\":\"Line\"},{\"attributes\":{},\"id\":\"7103\",\"type\":\"UnionRenderers\"},{\"attributes\":{\"label\":{\"value\":\"AI[R/C]NIS\"},\"renderers\":[{\"id\":\"7529\"}]},\"id\":\"7547\",\"type\":\"LegendItem\"},{\"attributes\":{\"data\":{\"Data\":{\"__ndarray__\":\"AAAAAAAAAABXEJMriMmVPwgEAoFAIHA/eqBydgu/mj8RERERERGRPw==\",\"dtype\":\"float64\",\"order\":\"little\",\"shape\":[5]},\"Year\":[2007,2010,2011,2013,2014]},\"selected\":{\"id\":\"7578\"},\"selection_policy\":{\"id\":\"7577\"}},\"id\":\"7555\",\"type\":\"ColumnDataSource\"},{\"attributes\":{},\"id\":\"7104\",\"type\":\"Selection\"},{\"attributes\":{\"data\":{\"Data\":{\"__ndarray__\":\"AAAAAAAAAAAAAAAAAAAAAAAAAAAAAAAAAAAAAAAAAAAAAAAAAAAAAAAAAAAAAAAAAAAAAAAAAAAAAAAAAAAAAAAAAAAAAAAAAAAAAAAAAAAAAAAAAAAAAEdY7mmE5d4/lN1vlN1vxD8cx3Ecx3HMPw==\",\"dtype\":\"float64\",\"order\":\"little\",\"shape\":[14]},\"Year\":[2001,2002,2003,2004,2005,2007,2008,2011,2012,2013,2014,2015,2016,2017]},\"selected\":{\"id\":\"6960\"},\"selection_policy\":{\"id\":\"6959\"}},\"id\":\"6937\",\"type\":\"ColumnDataSource\"},{\"attributes\":{},\"id\":\"7461\",\"type\":\"Selection\"},{\"attributes\":{},\"id\":\"7427\",\"type\":\"BasicTicker\"},{\"attributes\":{\"fill_alpha\":{\"value\":0.5},\"fill_color\":{\"value\":\"#ffff99\"},\"line_alpha\":{\"value\":0.5},\"line_color\":{\"value\":\"#ffff99\"},\"size\":{\"value\":10},\"x\":{\"field\":\"Year\"},\"y\":{\"field\":\"Data\"}},\"id\":\"7549\",\"type\":\"Circle\"},{\"attributes\":{\"data_source\":{\"id\":\"7555\"},\"glyph\":{\"id\":\"7557\"},\"hover_glyph\":null,\"muted_glyph\":null,\"nonselection_glyph\":{\"id\":\"7558\"},\"view\":{\"id\":\"7560\"}},\"id\":\"7559\",\"type\":\"GlyphRenderer\"},{\"attributes\":{\"data_source\":{\"id\":\"6937\"},\"glyph\":{\"id\":\"6939\"},\"hover_glyph\":null,\"muted_glyph\":null,\"nonselection_glyph\":{\"id\":\"6940\"},\"view\":{\"id\":\"6942\"}},\"id\":\"6941\",\"type\":\"GlyphRenderer\"},{\"attributes\":{\"line_color\":\"#8c564b\",\"line_width\":2,\"x\":{\"field\":\"Year\"},\"y\":{\"field\":\"Data\"}},\"id\":\"7589\",\"type\":\"Line\"},{\"attributes\":{\"fill_alpha\":{\"value\":0.5},\"fill_color\":{\"value\":\"#d62728\"},\"line_alpha\":{\"value\":0.5},\"line_color\":{\"value\":\"#d62728\"},\"size\":{\"value\":10},\"x\":{\"field\":\"Year\"},\"y\":{\"field\":\"Data\"}},\"id\":\"6931\",\"type\":\"Circle\"},{\"attributes\":{\"line_color\":\"#386cb0\",\"line_width\":2,\"x\":{\"field\":\"Year\"},\"y\":{\"field\":\"Data\"}},\"id\":\"7557\",\"type\":\"Line\"},{\"attributes\":{\"callback\":null,\"renderers\":[{\"id\":\"6965\"}],\"tooltips\":[[\"(x,y)\",\"(@Year,@Data)\"]]},\"id\":\"6967\",\"type\":\"HoverTool\"},{\"attributes\":{},\"id\":\"7437\",\"type\":\"ResetTool\"},{\"attributes\":{\"fill_alpha\":{\"value\":0.5},\"fill_color\":{\"value\":\"#2ca02c\"},\"line_alpha\":{\"value\":0.5},\"line_color\":{\"value\":\"#2ca02c\"},\"size\":{\"value\":10},\"x\":{\"field\":\"Year\"},\"y\":{\"field\":\"Data\"}},\"id\":\"7107\",\"type\":\"Circle\"},{\"attributes\":{\"line_color\":\"#9467bd\",\"line_width\":2,\"x\":{\"field\":\"Year\"},\"y\":{\"field\":\"Data\"}},\"id\":\"6939\",\"type\":\"Line\"},{\"attributes\":{\"line_alpha\":0.1,\"line_color\":\"#386cb0\",\"line_width\":2,\"x\":{\"field\":\"Year\"},\"y\":{\"field\":\"Data\"}},\"id\":\"7558\",\"type\":\"Line\"},{\"attributes\":{\"callback\":null},\"id\":\"7438\",\"type\":\"TapTool\"},{\"attributes\":{\"line_alpha\":0.1,\"line_color\":\"#9467bd\",\"line_width\":2,\"x\":{\"field\":\"Year\"},\"y\":{\"field\":\"Data\"}},\"id\":\"6940\",\"type\":\"Line\"},{\"attributes\":{\"below\":[{\"id\":\"7014\"}],\"center\":[{\"id\":\"7017\"},{\"id\":\"7021\"},{\"id\":\"7050\"}],\"height\":400,\"left\":[{\"id\":\"7018\"}],\"renderers\":[{\"id\":\"7038\"},{\"id\":\"7055\"},{\"id\":\"7063\"},{\"id\":\"7081\"},{\"id\":\"7089\"},{\"id\":\"7109\"},{\"id\":\"7117\"},{\"id\":\"7139\"},{\"id\":\"7147\"},{\"id\":\"7171\"},{\"id\":\"7179\"},{\"id\":\"7205\"}],\"title\":{\"id\":\"7004\"},\"toolbar\":{\"id\":\"7028\"},\"toolbar_location\":null,\"width\":400,\"x_range\":{\"id\":\"7006\"},\"x_scale\":{\"id\":\"7010\"},\"y_range\":{\"id\":\"7008\"},\"y_scale\":{\"id\":\"7012\"}},\"id\":\"7003\",\"subtype\":\"Figure\",\"type\":\"Plot\"},{\"attributes\":{\"callback\":null,\"renderers\":[{\"id\":\"7109\"}],\"tooltips\":[[\"(x,y)\",\"(@Year,@Data)\"]]},\"id\":\"7111\",\"type\":\"HoverTool\"},{\"attributes\":{\"data_source\":{\"id\":\"6907\"},\"glyph\":{\"id\":\"6909\"},\"hover_glyph\":null,\"muted_glyph\":null,\"nonselection_glyph\":{\"id\":\"6910\"},\"view\":{\"id\":\"6912\"}},\"id\":\"6911\",\"type\":\"GlyphRenderer\"},{\"attributes\":{\"source\":{\"id\":\"7525\"}},\"id\":\"7530\",\"type\":\"CDSView\"},{\"attributes\":{},\"id\":\"7460\",\"type\":\"UnionRenderers\"},{\"attributes\":{\"axis_label\":\"Year\",\"formatter\":{\"id\":\"7454\"},\"major_label_policy\":{\"id\":\"7455\"},\"ticker\":{\"id\":\"7427\"}},\"id\":\"7426\",\"type\":\"LinearAxis\"},{\"attributes\":{\"fill_alpha\":{\"value\":0.1},\"fill_color\":{\"value\":\"#2ca02c\"},\"line_alpha\":{\"value\":0.1},\"line_color\":{\"value\":\"#2ca02c\"},\"size\":{\"value\":10},\"x\":{\"field\":\"Year\"},\"y\":{\"field\":\"Data\"}},\"id\":\"7108\",\"type\":\"Circle\"},{\"attributes\":{\"source\":{\"id\":\"7085\"}},\"id\":\"7110\",\"type\":\"CDSView\"},{\"attributes\":{\"data_source\":{\"id\":\"7085\"},\"glyph\":{\"id\":\"7107\"},\"hover_glyph\":null,\"muted_glyph\":null,\"nonselection_glyph\":{\"id\":\"7108\"},\"view\":{\"id\":\"7110\"}},\"id\":\"7109\",\"type\":\"GlyphRenderer\"},{\"attributes\":{\"children\":[[{\"id\":\"6797\"},0,0],[{\"id\":\"7003\"},0,1],[{\"id\":\"7209\"},1,0],[{\"id\":\"7415\"},1,1]]},\"id\":\"7705\",\"type\":\"GridBox\"},{\"attributes\":{\"data_source\":{\"id\":\"7113\"},\"glyph\":{\"id\":\"7115\"},\"hover_glyph\":null,\"muted_glyph\":null,\"nonselection_glyph\":{\"id\":\"7116\"},\"view\":{\"id\":\"7118\"}},\"id\":\"7117\",\"type\":\"GlyphRenderer\"},{\"attributes\":{},\"id\":\"7434\",\"type\":\"PanTool\"},{\"attributes\":{},\"id\":\"7435\",\"type\":\"WheelZoomTool\"},{\"attributes\":{\"line_color\":\"#7f7f7f\",\"line_width\":2,\"x\":{\"field\":\"Year\"},\"y\":{\"field\":\"Data\"}},\"id\":\"7115\",\"type\":\"Line\"},{\"attributes\":{\"active_drag\":{\"id\":\"7434\"},\"active_multi\":null,\"active_scroll\":{\"id\":\"7435\"},\"tools\":[{\"id\":\"7434\"},{\"id\":\"7435\"},{\"id\":\"7436\"},{\"id\":\"7437\"},{\"id\":\"7438\"},{\"id\":\"7469\"},{\"id\":\"7495\"},{\"id\":\"7523\"},{\"id\":\"7553\"},{\"id\":\"7585\"},{\"id\":\"7619\"}]},\"id\":\"7440\",\"type\":\"Toolbar\"},{\"attributes\":{\"data\":{\"Data\":{\"__ndarray__\":\"t23btm3bxj84velNb3rjPyivobyG8to/OzDXDsy10z8MKtFXu6DSP58RyTLpGdE//Pjx48ePzz9hhirG04O5P3aDKfJZN7g/AAAAAAAAAAAAAAAAAAAAAAAAAAAAAAAAAAAAAAAAAAA=\",\"dtype\":\"float64\",\"order\":\"little\",\"shape\":[13]},\"Year\":[2007,2008,2009,2010,2011,2012,2013,2014,2015,2016,2017,2018,2019]},\"selected\":{\"id\":\"7166\"},\"selection_policy\":{\"id\":\"7165\"}},\"id\":\"7143\",\"type\":\"ColumnDataSource\"},{\"attributes\":{\"fill_alpha\":{\"value\":0.5},\"fill_color\":{\"value\":\"#7f7f7f\"},\"line_alpha\":{\"value\":0.5},\"line_color\":{\"value\":\"#7f7f7f\"},\"size\":{\"value\":10},\"x\":{\"field\":\"Year\"},\"y\":{\"field\":\"Data\"}},\"id\":\"7137\",\"type\":\"Circle\"},{\"attributes\":{\"overlay\":{\"id\":\"7439\"}},\"id\":\"7436\",\"type\":\"BoxZoomTool\"},{\"attributes\":{\"line_alpha\":0.1,\"line_color\":\"#7f7f7f\",\"line_width\":2,\"x\":{\"field\":\"Year\"},\"y\":{\"field\":\"Data\"}},\"id\":\"7116\",\"type\":\"Line\"},{\"attributes\":{},\"id\":\"7545\",\"type\":\"UnionRenderers\"},{\"attributes\":{},\"id\":\"7546\",\"type\":\"Selection\"},{\"attributes\":{\"source\":{\"id\":\"6828\"}},\"id\":\"6833\",\"type\":\"CDSView\"},{\"attributes\":{\"source\":{\"id\":\"7446\"}},\"id\":\"7451\",\"type\":\"CDSView\"},{\"attributes\":{\"data\":{\"Data\":{\"__ndarray__\":\"Fl/xFV/xtT+amZmZmZm5P5AGaZAGabA/qSfjt0s9uT8AAAAAAAAAAGgvob2E9rI/lnsaYbmnsT/QcFL35bG1P/6S5S9Z/sI/cB/BfQT3wT8AAAAAAADMPwAAAAAAAAAAAAAAAAAAAAAAAAAAAAAAAA==\",\"dtype\":\"float64\",\"order\":\"little\",\"shape\":[14]},\"Year\":[2001,2002,2003,2004,2005,2007,2008,2011,2012,2013,2014,2015,2016,2017]},\"selected\":{\"id\":\"6898\"},\"selection_policy\":{\"id\":\"6897\"}},\"id\":\"6879\",\"type\":\"ColumnDataSource\"},{\"attributes\":{\"data\":{\"Data\":{\"__ndarray__\":\"iMb60Fgfuj9XEJMriMmlPwgEAoFAIIA/Kme38KsxoT8AAAAAAAAAAA==\",\"dtype\":\"float64\",\"order\":\"little\",\"shape\":[5]},\"Year\":[2007,2010,2011,2013,2014]},\"selected\":{\"id\":\"7516\"},\"selection_policy\":{\"id\":\"7515\"}},\"id\":\"7497\",\"type\":\"ColumnDataSource\"},{\"attributes\":{\"line_color\":\"#ff7f0e\",\"line_width\":2,\"x\":{\"field\":\"Year\"},\"y\":{\"field\":\"Data\"}},\"id\":\"6855\",\"type\":\"Line\"},{\"attributes\":{\"line_color\":\"#fdc086\",\"line_width\":2,\"x\":{\"field\":\"Year\"},\"y\":{\"field\":\"Data\"}},\"id\":\"7473\",\"type\":\"Line\"},{\"attributes\":{\"data_source\":{\"id\":\"6853\"},\"glyph\":{\"id\":\"6855\"},\"hover_glyph\":null,\"muted_glyph\":null,\"nonselection_glyph\":{\"id\":\"6856\"},\"view\":{\"id\":\"6858\"}},\"id\":\"6857\",\"type\":\"GlyphRenderer\"},{\"attributes\":{\"data_source\":{\"id\":\"7471\"},\"glyph\":{\"id\":\"7473\"},\"hover_glyph\":null,\"muted_glyph\":null,\"nonselection_glyph\":{\"id\":\"7474\"},\"view\":{\"id\":\"7476\"}},\"id\":\"7475\",\"type\":\"GlyphRenderer\"},{\"attributes\":{\"line_alpha\":0.1,\"line_color\":\"#ff7f0e\",\"line_width\":2,\"x\":{\"field\":\"Year\"},\"y\":{\"field\":\"Data\"}},\"id\":\"6856\",\"type\":\"Line\"},{\"attributes\":{\"line_alpha\":0.1,\"line_color\":\"#fdc086\",\"line_width\":2,\"x\":{\"field\":\"Year\"},\"y\":{\"field\":\"Data\"}},\"id\":\"7474\",\"type\":\"Line\"},{\"attributes\":{\"label\":{\"value\":\"AIRNLS\"},\"renderers\":[{\"id\":\"6832\"}]},\"id\":\"6845\",\"type\":\"LegendItem\"},{\"attributes\":{\"label\":{\"value\":\"AIRNIS\"},\"renderers\":[{\"id\":\"7450\"}]},\"id\":\"7463\",\"type\":\"LegendItem\"},{\"attributes\":{\"data_source\":{\"id\":\"6828\"},\"glyph\":{\"id\":\"6830\"},\"hover_glyph\":null,\"muted_glyph\":null,\"nonselection_glyph\":{\"id\":\"6831\"},\"view\":{\"id\":\"6833\"}},\"id\":\"6832\",\"type\":\"GlyphRenderer\"},{\"attributes\":{\"data_source\":{\"id\":\"7446\"},\"glyph\":{\"id\":\"7448\"},\"hover_glyph\":null,\"muted_glyph\":null,\"nonselection_glyph\":{\"id\":\"7449\"},\"view\":{\"id\":\"7451\"}},\"id\":\"7450\",\"type\":\"GlyphRenderer\"},{\"attributes\":{\"source\":{\"id\":\"7555\"}},\"id\":\"7560\",\"type\":\"CDSView\"},{\"attributes\":{\"fill_alpha\":{\"value\":0.1},\"fill_color\":{\"value\":\"#386cb0\"},\"line_alpha\":{\"value\":0.1},\"line_color\":{\"value\":\"#386cb0\"},\"size\":{\"value\":10},\"x\":{\"field\":\"Year\"},\"y\":{\"field\":\"Data\"}},\"id\":\"7582\",\"type\":\"Circle\"},{\"attributes\":{\"toolbar\":{\"id\":\"7706\"},\"toolbar_location\":\"above\"},\"id\":\"7707\",\"type\":\"ToolbarBox\"},{\"attributes\":{\"line_alpha\":0.1,\"line_color\":\"#1f77b4\",\"line_width\":2,\"x\":{\"field\":\"Year\"},\"y\":{\"field\":\"Data\"}},\"id\":\"6831\",\"type\":\"Line\"},{\"attributes\":{\"line_alpha\":0.1,\"line_color\":\"#2ca02c\",\"line_width\":2,\"x\":{\"field\":\"Year\"},\"y\":{\"field\":\"Data\"}},\"id\":\"7449\",\"type\":\"Line\"},{\"attributes\":{\"source\":{\"id\":\"7587\"}},\"id\":\"7592\",\"type\":\"CDSView\"},{\"attributes\":{\"fill_alpha\":{\"value\":0.1},\"fill_color\":{\"value\":\"#ffff99\"},\"line_alpha\":{\"value\":0.1},\"line_color\":{\"value\":\"#ffff99\"},\"size\":{\"value\":10},\"x\":{\"field\":\"Year\"},\"y\":{\"field\":\"Data\"}},\"id\":\"7550\",\"type\":\"Circle\"},{\"attributes\":{\"background_fill_alpha\":0.7,\"items\":[{\"id\":\"6845\"},{\"id\":\"6871\"},{\"id\":\"6899\"},{\"id\":\"6929\"},{\"id\":\"6961\"},{\"id\":\"6995\"}]},\"id\":\"6844\",\"type\":\"Legend\"},{\"attributes\":{\"background_fill_alpha\":0.7,\"items\":[{\"id\":\"7463\"},{\"id\":\"7489\"},{\"id\":\"7517\"},{\"id\":\"7547\"},{\"id\":\"7579\"},{\"id\":\"7613\"}]},\"id\":\"7462\",\"type\":\"Legend\"},{\"attributes\":{\"source\":{\"id\":\"7525\"}},\"id\":\"7552\",\"type\":\"CDSView\"},{\"attributes\":{\"data_source\":{\"id\":\"7525\"},\"glyph\":{\"id\":\"7549\"},\"hover_glyph\":null,\"muted_glyph\":null,\"nonselection_glyph\":{\"id\":\"7550\"},\"view\":{\"id\":\"7552\"}},\"id\":\"7551\",\"type\":\"GlyphRenderer\"},{\"attributes\":{\"callback\":null,\"renderers\":[{\"id\":\"7551\"}],\"tooltips\":[[\"(x,y)\",\"(@Year,@Data)\"]]},\"id\":\"7553\",\"type\":\"HoverTool\"},{\"attributes\":{},\"id\":\"6836\",\"type\":\"BasicTickFormatter\"},{\"attributes\":{},\"id\":\"7454\",\"type\":\"BasicTickFormatter\"},{\"attributes\":{},\"id\":\"6837\",\"type\":\"AllLabels\"},{\"attributes\":{},\"id\":\"7455\",\"type\":\"AllLabels\"},{\"attributes\":{\"label\":{\"value\":\"Other\"},\"renderers\":[{\"id\":\"7591\"}]},\"id\":\"7613\",\"type\":\"LegendItem\"},{\"attributes\":{\"data_source\":{\"id\":\"7587\"},\"glyph\":{\"id\":\"7589\"},\"hover_glyph\":null,\"muted_glyph\":null,\"nonselection_glyph\":{\"id\":\"7590\"},\"view\":{\"id\":\"7592\"}},\"id\":\"7591\",\"type\":\"GlyphRenderer\"},{\"attributes\":{},\"id\":\"7457\",\"type\":\"BasicTickFormatter\"},{\"attributes\":{},\"id\":\"7458\",\"type\":\"AllLabels\"},{\"attributes\":{\"fill_alpha\":{\"value\":0.5},\"fill_color\":{\"value\":\"#8c564b\"},\"line_alpha\":{\"value\":0.5},\"line_color\":{\"value\":\"#8c564b\"},\"size\":{\"value\":10},\"x\":{\"field\":\"Year\"},\"y\":{\"field\":\"Data\"}},\"id\":\"7615\",\"type\":\"Circle\"},{\"attributes\":{\"label\":{\"value\":\"AI[C/R]NIS\"},\"renderers\":[{\"id\":\"7559\"}]},\"id\":\"7579\",\"type\":\"LegendItem\"},{\"attributes\":{},\"id\":\"7577\",\"type\":\"UnionRenderers\"},{\"attributes\":{},\"id\":\"6842\",\"type\":\"UnionRenderers\"},{\"attributes\":{},\"id\":\"7578\",\"type\":\"Selection\"},{\"attributes\":{},\"id\":\"6843\",\"type\":\"Selection\"},{\"attributes\":{\"fill_alpha\":{\"value\":0.5},\"fill_color\":{\"value\":\"#386cb0\"},\"line_alpha\":{\"value\":0.5},\"line_color\":{\"value\":\"#386cb0\"},\"size\":{\"value\":10},\"x\":{\"field\":\"Year\"},\"y\":{\"field\":\"Data\"}},\"id\":\"7581\",\"type\":\"Circle\"},{\"attributes\":{\"line_alpha\":0.1,\"line_color\":\"#8c564b\",\"line_width\":2,\"x\":{\"field\":\"Year\"},\"y\":{\"field\":\"Data\"}},\"id\":\"7590\",\"type\":\"Line\"},{\"attributes\":{\"data_source\":{\"id\":\"7555\"},\"glyph\":{\"id\":\"7581\"},\"hover_glyph\":null,\"muted_glyph\":null,\"nonselection_glyph\":{\"id\":\"7582\"},\"view\":{\"id\":\"7584\"}},\"id\":\"7583\",\"type\":\"GlyphRenderer\"},{\"attributes\":{},\"id\":\"6927\",\"type\":\"UnionRenderers\"},{\"attributes\":{\"source\":{\"id\":\"7555\"}},\"id\":\"7584\",\"type\":\"CDSView\"},{\"attributes\":{},\"id\":\"6928\",\"type\":\"Selection\"},{\"attributes\":{\"callback\":null,\"renderers\":[{\"id\":\"7583\"}],\"tooltips\":[[\"(x,y)\",\"(@Year,@Data)\"]]},\"id\":\"7585\",\"type\":\"HoverTool\"},{\"attributes\":{\"source\":{\"id\":\"6937\"}},\"id\":\"6942\",\"type\":\"CDSView\"},{\"attributes\":{\"fill_alpha\":{\"value\":0.1},\"fill_color\":{\"value\":\"#9467bd\"},\"line_alpha\":{\"value\":0.1},\"line_color\":{\"value\":\"#9467bd\"},\"size\":{\"value\":10},\"x\":{\"field\":\"Year\"},\"y\":{\"field\":\"Data\"}},\"id\":\"6964\",\"type\":\"Circle\"},{\"attributes\":{\"fill_alpha\":{\"value\":0.1},\"fill_color\":{\"value\":\"#d62728\"},\"line_alpha\":{\"value\":0.1},\"line_color\":{\"value\":\"#d62728\"},\"size\":{\"value\":10},\"x\":{\"field\":\"Year\"},\"y\":{\"field\":\"Data\"}},\"id\":\"6932\",\"type\":\"Circle\"},{\"attributes\":{\"source\":{\"id\":\"6907\"}},\"id\":\"6934\",\"type\":\"CDSView\"},{\"attributes\":{\"data_source\":{\"id\":\"6907\"},\"glyph\":{\"id\":\"6931\"},\"hover_glyph\":null,\"muted_glyph\":null,\"nonselection_glyph\":{\"id\":\"6932\"},\"view\":{\"id\":\"6934\"}},\"id\":\"6933\",\"type\":\"GlyphRenderer\"},{\"attributes\":{\"callback\":null,\"renderers\":[{\"id\":\"6933\"}],\"tooltips\":[[\"(x,y)\",\"(@Year,@Data)\"]]},\"id\":\"6935\",\"type\":\"HoverTool\"},{\"attributes\":{},\"id\":\"7611\",\"type\":\"UnionRenderers\"},{\"attributes\":{\"data\":{\"Data\":{\"__ndarray__\":\"UM3lBkMd1D+4HoXrUbi+P1xnQ/6ZQco/KKkT0ETYvD9AV5QSglWVPyDhe3+D9rI/OD1hiQeUtT9wGqIKf4azP4CgFRiyuq0/UK7wLhfxrT8AAAAAAAC4P7h4eM+B5c4/6LZELjiDxT+amZmZmZnZPw==\",\"dtype\":\"float64\",\"order\":\"little\",\"shape\":[14]},\"Year\":[2001,2002,2003,2004,2005,2007,2008,2011,2012,2013,2014,2015,2016,2017]},\"selected\":{\"id\":\"6994\"},\"selection_policy\":{\"id\":\"6993\"}},\"id\":\"6969\",\"type\":\"ColumnDataSource\"},{\"attributes\":{},\"id\":\"7612\",\"type\":\"Selection\"},{\"attributes\":{\"data_source\":{\"id\":\"6969\"},\"glyph\":{\"id\":\"6971\"},\"hover_glyph\":null,\"muted_glyph\":null,\"nonselection_glyph\":{\"id\":\"6972\"},\"view\":{\"id\":\"6974\"}},\"id\":\"6973\",\"type\":\"GlyphRenderer\"},{\"attributes\":{\"label\":{\"value\":\"Other\"},\"renderers\":[{\"id\":\"6973\"}]},\"id\":\"6995\",\"type\":\"LegendItem\"},{\"attributes\":{\"below\":[{\"id\":\"7220\"}],\"center\":[{\"id\":\"7223\"},{\"id\":\"7227\"},{\"id\":\"7256\"}],\"height\":400,\"left\":[{\"id\":\"7224\"}],\"renderers\":[{\"id\":\"7244\"},{\"id\":\"7261\"},{\"id\":\"7269\"},{\"id\":\"7287\"},{\"id\":\"7295\"},{\"id\":\"7315\"},{\"id\":\"7323\"},{\"id\":\"7345\"},{\"id\":\"7353\"},{\"id\":\"7377\"},{\"id\":\"7385\"},{\"id\":\"7411\"}],\"title\":{\"id\":\"7210\"},\"toolbar\":{\"id\":\"7234\"},\"toolbar_location\":null,\"width\":400,\"x_range\":{\"id\":\"7212\"},\"x_scale\":{\"id\":\"7216\"},\"y_range\":{\"id\":\"7214\"},\"y_scale\":{\"id\":\"7218\"}},\"id\":\"7209\",\"subtype\":\"Figure\",\"type\":\"Plot\"},{\"attributes\":{\"text\":\"PfDHFR Predominant Variants in WSEA\"},\"id\":\"6798\",\"type\":\"Title\"},{\"attributes\":{\"source\":{\"id\":\"6969\"}},\"id\":\"6974\",\"type\":\"CDSView\"},{\"attributes\":{\"line_alpha\":0.1,\"line_color\":\"#8c564b\",\"line_width\":2,\"x\":{\"field\":\"Year\"},\"y\":{\"field\":\"Data\"}},\"id\":\"6972\",\"type\":\"Line\"},{\"attributes\":{\"end\":2019,\"start\":2001},\"id\":\"7212\",\"type\":\"Range1d\"},{\"attributes\":{\"label\":{\"value\":\"NRNL\"},\"renderers\":[{\"id\":\"6941\"}]},\"id\":\"6961\",\"type\":\"LegendItem\"},{\"attributes\":{\"fill_alpha\":{\"value\":0.1},\"fill_color\":{\"value\":\"#8c564b\"},\"line_alpha\":{\"value\":0.1},\"line_color\":{\"value\":\"#8c564b\"},\"size\":{\"value\":10},\"x\":{\"field\":\"Year\"},\"y\":{\"field\":\"Data\"}},\"id\":\"7616\",\"type\":\"Circle\"},{\"attributes\":{\"text\":\"PfDHFR Predominant Variants in WAF\"},\"id\":\"7210\",\"type\":\"Title\"},{\"attributes\":{\"end\":2019,\"start\":2001},\"id\":\"6800\",\"type\":\"Range1d\"},{\"attributes\":{\"source\":{\"id\":\"7587\"}},\"id\":\"7618\",\"type\":\"CDSView\"},{\"attributes\":{\"data_source\":{\"id\":\"7587\"},\"glyph\":{\"id\":\"7615\"},\"hover_glyph\":null,\"muted_glyph\":null,\"nonselection_glyph\":{\"id\":\"7616\"},\"view\":{\"id\":\"7618\"}},\"id\":\"7617\",\"type\":\"GlyphRenderer\"},{\"attributes\":{\"callback\":null,\"renderers\":[{\"id\":\"7617\"}],\"tooltips\":[[\"(x,y)\",\"(@Year,@Data)\"]]},\"id\":\"7619\",\"type\":\"HoverTool\"},{\"attributes\":{\"data\":{\"Data\":{\"__ndarray__\":\"5hS8nIKX4z9dQUyuICbnP6fT6XQ6ne4/VM5u4Vdj6j9VVVVVVVXtPw==\",\"dtype\":\"float64\",\"order\":\"little\",\"shape\":[5]},\"Year\":[2007,2010,2011,2013,2014]},\"selected\":{\"id\":\"7461\"},\"selection_policy\":{\"id\":\"7460\"}},\"id\":\"7446\",\"type\":\"ColumnDataSource\"},{\"attributes\":{},\"id\":\"6959\",\"type\":\"UnionRenderers\"},{\"attributes\":{},\"id\":\"6960\",\"type\":\"Selection\"},{\"attributes\":{\"data_source\":{\"id\":\"6937\"},\"glyph\":{\"id\":\"6963\"},\"hover_glyph\":null,\"muted_glyph\":null,\"nonselection_glyph\":{\"id\":\"6964\"},\"view\":{\"id\":\"6966\"}},\"id\":\"6965\",\"type\":\"GlyphRenderer\"},{\"attributes\":{},\"id\":\"7248\",\"type\":\"BasicTickFormatter\"},{\"attributes\":{},\"id\":\"7249\",\"type\":\"AllLabels\"},{\"attributes\":{\"active_drag\":{\"id\":\"7022\"},\"active_multi\":null,\"active_scroll\":{\"id\":\"7023\"},\"tools\":[{\"id\":\"7022\"},{\"id\":\"7023\"},{\"id\":\"7024\"},{\"id\":\"7025\"},{\"id\":\"7026\"},{\"id\":\"7057\"},{\"id\":\"7083\"},{\"id\":\"7111\"},{\"id\":\"7141\"},{\"id\":\"7173\"},{\"id\":\"7207\"}]},\"id\":\"7028\",\"type\":\"Toolbar\"},{\"attributes\":{\"data\":{\"Data\":{\"__ndarray__\":\"AAAAAAAAAAAAAAAAAAAAAAAAAAAAAAAAAAAAAAAAAAAAAAAAAAAAAAkBOT+VEMA/iREjRowY0T8zVDGeHszQPwAAAAAAANA/AAAAAAAA2D8qRg1/m2LUP8CQ7zGtttM/y8HNfiFWxD8=\",\"dtype\":\"float64\",\"order\":\"little\",\"shape\":[13]},\"Year\":[2007,2008,2009,2010,2011,2012,2013,2014,2015,2016,2017,2018,2019]},\"selected\":{\"id\":\"7076\"},\"selection_policy\":{\"id\":\"7075\"}},\"id\":\"7059\",\"type\":\"ColumnDataSource\"},{\"attributes\":{},\"id\":\"7251\",\"type\":\"BasicTickFormatter\"},{\"attributes\":{},\"id\":\"7252\",\"type\":\"AllLabels\"},{\"attributes\":{\"bottom_units\":\"screen\",\"fill_alpha\":0.5,\"fill_color\":\"lightgrey\",\"left_units\":\"screen\",\"level\":\"overlay\",\"line_alpha\":1.0,\"line_color\":\"black\",\"line_dash\":[4,4],\"line_width\":2,\"right_units\":\"screen\",\"syncable\":false,\"top_units\":\"screen\"},\"id\":\"7027\",\"type\":\"BoxAnnotation\"},{\"attributes\":{\"source\":{\"id\":\"7175\"}},\"id\":\"7180\",\"type\":\"CDSView\"},{\"attributes\":{\"fill_alpha\":{\"value\":0.5},\"fill_color\":{\"value\":\"#8c564b\"},\"line_alpha\":{\"value\":0.5},\"line_color\":{\"value\":\"#8c564b\"},\"size\":{\"value\":10},\"x\":{\"field\":\"Year\"},\"y\":{\"field\":\"Data\"}},\"id\":\"7203\",\"type\":\"Circle\"},{\"attributes\":{\"fill_alpha\":{\"value\":0.1},\"fill_color\":{\"value\":\"#1f77b4\"},\"line_alpha\":{\"value\":0.1},\"line_color\":{\"value\":\"#1f77b4\"},\"size\":{\"value\":10},\"x\":{\"field\":\"Year\"},\"y\":{\"field\":\"Data\"}},\"id\":\"7170\",\"type\":\"Circle\"},{\"attributes\":{},\"id\":\"7042\",\"type\":\"BasicTickFormatter\"},{\"attributes\":{\"source\":{\"id\":\"7143\"}},\"id\":\"7172\",\"type\":\"CDSView\"},{\"attributes\":{\"data_source\":{\"id\":\"7143\"},\"glyph\":{\"id\":\"7169\"},\"hover_glyph\":null,\"muted_glyph\":null,\"nonselection_glyph\":{\"id\":\"7170\"},\"view\":{\"id\":\"7172\"}},\"id\":\"7171\",\"type\":\"GlyphRenderer\"},{\"attributes\":{\"callback\":null,\"renderers\":[{\"id\":\"7171\"}],\"tooltips\":[[\"(x,y)\",\"(@Year,@Data)\"]]},\"id\":\"7173\",\"type\":\"HoverTool\"},{\"attributes\":{\"line_color\":\"#ff7f0e\",\"line_width\":2,\"x\":{\"field\":\"Year\"},\"y\":{\"field\":\"Data\"}},\"id\":\"7036\",\"type\":\"Line\"},{\"attributes\":{\"data_source\":{\"id\":\"7059\"},\"glyph\":{\"id\":\"7061\"},\"hover_glyph\":null,\"muted_glyph\":null,\"nonselection_glyph\":{\"id\":\"7062\"},\"view\":{\"id\":\"7064\"}},\"id\":\"7063\",\"type\":\"GlyphRenderer\"},{\"attributes\":{\"line_color\":\"#e377c2\",\"line_width\":2,\"x\":{\"field\":\"Year\"},\"y\":{\"field\":\"Data\"}},\"id\":\"7061\",\"type\":\"Line\"},{\"attributes\":{\"line_color\":\"#2ca02c\",\"line_width\":2,\"x\":{\"field\":\"Year\"},\"y\":{\"field\":\"Data\"}},\"id\":\"7087\",\"type\":\"Line\"},{\"attributes\":{\"data_source\":{\"id\":\"7034\"},\"glyph\":{\"id\":\"7036\"},\"hover_glyph\":null,\"muted_glyph\":null,\"nonselection_glyph\":{\"id\":\"7037\"},\"view\":{\"id\":\"7039\"}},\"id\":\"7038\",\"type\":\"GlyphRenderer\"},{\"attributes\":{\"line_alpha\":0.1,\"line_color\":\"#ff7f0e\",\"line_width\":2,\"x\":{\"field\":\"Year\"},\"y\":{\"field\":\"Data\"}},\"id\":\"7037\",\"type\":\"Line\"},{\"attributes\":{},\"id\":\"7043\",\"type\":\"AllLabels\"},{\"attributes\":{\"data\":{\"Data\":{\"__ndarray__\":\"AAAAAAAAAAAAAAAAAAAAAAAAAAAAAAAAAAAAAAAAAAAAAAAAAAAAAFPQwaMuBZ0/4MCBAwcOnD8aBSI4dmmkP9C6wRT5rHs/aC+hvYT2cj/kLc3BC6vPPyLfY1ptR8M/vxArSuMjgz8=\",\"dtype\":\"float64\",\"order\":\"little\",\"shape\":[13]},\"Year\":[2007,2008,2009,2010,2011,2012,2013,2014,2015,2016,2017,2018,2019]},\"selected\":{\"id\":\"7134\"},\"selection_policy\":{\"id\":\"7133\"}},\"id\":\"7113\",\"type\":\"ColumnDataSource\"},{\"attributes\":{\"fill_alpha\":{\"value\":0.1},\"fill_color\":{\"value\":\"#8c564b\"},\"line_alpha\":{\"value\":0.1},\"line_color\":{\"value\":\"#8c564b\"},\"size\":{\"value\":10},\"x\":{\"field\":\"Year\"},\"y\":{\"field\":\"Data\"}},\"id\":\"7204\",\"type\":\"Circle\"},{\"attributes\":{},\"id\":\"7254\",\"type\":\"UnionRenderers\"},{\"attributes\":{\"label\":{\"value\":\"Other\"},\"renderers\":[{\"id\":\"7179\"}]},\"id\":\"7201\",\"type\":\"LegendItem\"},{\"attributes\":{},\"id\":\"7255\",\"type\":\"Selection\"},{\"attributes\":{},\"id\":\"7045\",\"type\":\"BasicTickFormatter\"},{\"attributes\":{},\"id\":\"7046\",\"type\":\"AllLabels\"},{\"attributes\":{\"data\":{\"Data\":{\"__ndarray__\":\"9DzP8zzP0z9X1BV1RV3hP/c0wnJPI9w/O7ETO7ET2z8hhBBCCCHkPz8hzspPiOM/eqoVWuIz5T8L4XWrEF7nP4pLhmAdbd4/\",\"dtype\":\"float64\",\"order\":\"little\",\"shape\":[9]},\"Year\":[2007,2008,2009,2010,2011,2012,2013,2014,2015]},\"selected\":{\"id\":\"7255\"},\"selection_policy\":{\"id\":\"7254\"}},\"id\":\"7240\",\"type\":\"ColumnDataSource\"},{\"attributes\":{},\"id\":\"7199\",\"type\":\"UnionRenderers\"},{\"attributes\":{\"line_alpha\":0.1,\"line_color\":\"#e377c2\",\"line_width\":2,\"x\":{\"field\":\"Year\"},\"y\":{\"field\":\"Data\"}},\"id\":\"7062\",\"type\":\"Line\"},{\"attributes\":{},\"id\":\"7200\",\"type\":\"Selection\"},{\"attributes\":{\"fill_alpha\":{\"value\":0.5},\"fill_color\":{\"value\":\"#2ca02c\"},\"line_alpha\":{\"value\":0.5},\"line_color\":{\"value\":\"#2ca02c\"},\"size\":{\"value\":10},\"x\":{\"field\":\"Year\"},\"y\":{\"field\":\"Data\"}},\"id\":\"7259\",\"type\":\"Circle\"},{\"attributes\":{\"data\":{\"Data\":{\"__ndarray__\":\"GIZhGIZh2D9zxpwxZ8zJP+5phOWeRrg/8y3f8i3fwj++99577723P75jamDvmJo/kgC/8VhkwD+KVO+hSPW+PzvavE9xybA/\",\"dtype\":\"float64\",\"order\":\"little\",\"shape\":[9]},\"Year\":[2007,2008,2009,2010,2011,2012,2013,2014,2015]},\"selected\":{\"id\":\"7282\"},\"selection_policy\":{\"id\":\"7281\"}},\"id\":\"7265\",\"type\":\"ColumnDataSource\"},{\"attributes\":{\"line_color\":\"#17becf\",\"line_width\":2,\"x\":{\"field\":\"Year\"},\"y\":{\"field\":\"Data\"}},\"id\":\"7293\",\"type\":\"Line\"},{\"attributes\":{\"source\":{\"id\":\"7175\"}},\"id\":\"7206\",\"type\":\"CDSView\"},{\"attributes\":{\"line_alpha\":0.1,\"line_color\":\"#17becf\",\"line_width\":2,\"x\":{\"field\":\"Year\"},\"y\":{\"field\":\"Data\"}},\"id\":\"7294\",\"type\":\"Line\"},{\"attributes\":{\"data_source\":{\"id\":\"7291\"},\"glyph\":{\"id\":\"7293\"},\"hover_glyph\":null,\"muted_glyph\":null,\"nonselection_glyph\":{\"id\":\"7294\"},\"view\":{\"id\":\"7296\"}},\"id\":\"7295\",\"type\":\"GlyphRenderer\"},{\"attributes\":{\"data\":{\"Data\":{\"__ndarray__\":\"GIZhGIZhiD/0BX1BX9CXP+5phOWeRrg/l2/5lm/5tj+MMcYYY4yxP87KT4iz8rM/VuqlHcwaoT/C61YhvG6lP1hHm/cpLqk/\",\"dtype\":\"float64\",\"order\":\"little\",\"shape\":[9]},\"Year\":[2007,2008,2009,2010,2011,2012,2013,2014,2015]},\"selected\":{\"id\":\"7340\"},\"selection_policy\":{\"id\":\"7339\"}},\"id\":\"7319\",\"type\":\"ColumnDataSource\"},{\"attributes\":{\"line_color\":\"#bcbd22\",\"line_width\":2,\"x\":{\"field\":\"Year\"},\"y\":{\"field\":\"Data\"}},\"id\":\"7267\",\"type\":\"Line\"},{\"attributes\":{\"data_source\":{\"id\":\"7175\"},\"glyph\":{\"id\":\"7203\"},\"hover_glyph\":null,\"muted_glyph\":null,\"nonselection_glyph\":{\"id\":\"7204\"},\"view\":{\"id\":\"7206\"}},\"id\":\"7205\",\"type\":\"GlyphRenderer\"},{\"attributes\":{\"axis\":{\"id\":\"7430\"},\"dimension\":1,\"ticker\":null},\"id\":\"7433\",\"type\":\"Grid\"},{\"attributes\":{\"fill_alpha\":{\"value\":0.5},\"fill_color\":{\"value\":\"#1f77b4\"},\"line_alpha\":{\"value\":0.5},\"line_color\":{\"value\":\"#1f77b4\"},\"size\":{\"value\":10},\"x\":{\"field\":\"Year\"},\"y\":{\"field\":\"Data\"}},\"id\":\"6847\",\"type\":\"Circle\"},{\"attributes\":{\"callback\":null,\"renderers\":[{\"id\":\"7205\"}],\"tooltips\":[[\"(x,y)\",\"(@Year,@Data)\"]]},\"id\":\"7207\",\"type\":\"HoverTool\"},{\"attributes\":{\"fill_alpha\":{\"value\":0.1},\"fill_color\":{\"value\":\"#1f77b4\"},\"line_alpha\":{\"value\":0.1},\"line_color\":{\"value\":\"#1f77b4\"},\"size\":{\"value\":10},\"x\":{\"field\":\"Year\"},\"y\":{\"field\":\"Data\"}},\"id\":\"6848\",\"type\":\"Circle\"},{\"attributes\":{\"source\":{\"id\":\"6828\"}},\"id\":\"6850\",\"type\":\"CDSView\"},{\"attributes\":{\"data_source\":{\"id\":\"6828\"},\"glyph\":{\"id\":\"6847\"},\"hover_glyph\":null,\"muted_glyph\":null,\"nonselection_glyph\":{\"id\":\"6848\"},\"view\":{\"id\":\"6850\"}},\"id\":\"6849\",\"type\":\"GlyphRenderer\"},{\"attributes\":{},\"id\":\"7431\",\"type\":\"BasicTicker\"},{\"attributes\":{\"callback\":null,\"renderers\":[{\"id\":\"6849\"}],\"tooltips\":[[\"(x,y)\",\"(@Year,@Data)\"]]},\"id\":\"6851\",\"type\":\"HoverTool\"},{\"attributes\":{\"source\":{\"id\":\"6879\"}},\"id\":\"6884\",\"type\":\"CDSView\"},{\"attributes\":{\"source\":{\"id\":\"6853\"}},\"id\":\"6858\",\"type\":\"CDSView\"},{\"attributes\":{\"axis_label\":\"Prevalence\",\"formatter\":{\"id\":\"7457\"},\"major_label_policy\":{\"id\":\"7458\"},\"ticker\":{\"id\":\"7431\"}},\"id\":\"7430\",\"type\":\"LinearAxis\"},{\"attributes\":{\"axis\":{\"id\":\"7426\"},\"ticker\":null},\"id\":\"7429\",\"type\":\"Grid\"},{\"attributes\":{\"line_color\":\"#2ca02c\",\"line_width\":2,\"x\":{\"field\":\"Year\"},\"y\":{\"field\":\"Data\"}},\"id\":\"6881\",\"type\":\"Line\"},{\"attributes\":{\"label\":{\"value\":\"AIRNIS\"},\"renderers\":[{\"id\":\"6883\"}]},\"id\":\"6899\",\"type\":\"LegendItem\"},{\"attributes\":{\"fill_alpha\":{\"value\":0.1},\"fill_color\":{\"value\":\"#2ca02c\"},\"line_alpha\":{\"value\":0.1},\"line_color\":{\"value\":\"#2ca02c\"},\"size\":{\"value\":10},\"x\":{\"field\":\"Year\"},\"y\":{\"field\":\"Data\"}},\"id\":\"7260\",\"type\":\"Circle\"},{\"attributes\":{\"fill_alpha\":{\"value\":0.5},\"fill_color\":{\"value\":\"#9467bd\"},\"line_alpha\":{\"value\":0.5},\"line_color\":{\"value\":\"#9467bd\"},\"size\":{\"value\":10},\"x\":{\"field\":\"Year\"},\"y\":{\"field\":\"Data\"}},\"id\":\"6963\",\"type\":\"Circle\"},{\"attributes\":{\"source\":{\"id\":\"7240\"}},\"id\":\"7245\",\"type\":\"CDSView\"},{\"attributes\":{\"line_alpha\":0.1,\"line_color\":\"#2ca02c\",\"line_width\":2,\"x\":{\"field\":\"Year\"},\"y\":{\"field\":\"Data\"}},\"id\":\"6882\",\"type\":\"Line\"},{\"attributes\":{\"bottom_units\":\"screen\",\"fill_alpha\":0.5,\"fill_color\":\"lightgrey\",\"left_units\":\"screen\",\"level\":\"overlay\",\"line_alpha\":1.0,\"line_color\":\"black\",\"line_dash\":[4,4],\"line_width\":2,\"right_units\":\"screen\",\"syncable\":false,\"top_units\":\"screen\"},\"id\":\"7233\",\"type\":\"BoxAnnotation\"},{\"attributes\":{\"label\":{\"value\":\"IRNL\"},\"renderers\":[{\"id\":\"6857\"}]},\"id\":\"6871\",\"type\":\"LegendItem\"},{\"attributes\":{\"line_alpha\":0.1,\"line_color\":\"#2ca02c\",\"line_width\":2,\"x\":{\"field\":\"Year\"},\"y\":{\"field\":\"Data\"}},\"id\":\"7243\",\"type\":\"Line\"},{\"attributes\":{\"axis_label\":\"Year\",\"formatter\":{\"id\":\"7042\"},\"major_label_policy\":{\"id\":\"7043\"},\"ticker\":{\"id\":\"7015\"}},\"id\":\"7014\",\"type\":\"LinearAxis\"},{\"attributes\":{\"data_source\":{\"id\":\"7240\"},\"glyph\":{\"id\":\"7259\"},\"hover_glyph\":null,\"muted_glyph\":null,\"nonselection_glyph\":{\"id\":\"7260\"},\"view\":{\"id\":\"7262\"}},\"id\":\"7261\",\"type\":\"GlyphRenderer\"},{\"attributes\":{\"callback\":null,\"renderers\":[{\"id\":\"7261\"}],\"tooltips\":[[\"(x,y)\",\"(@Year,@Data)\"]]},\"id\":\"7263\",\"type\":\"HoverTool\"},{\"attributes\":{\"source\":{\"id\":\"7240\"}},\"id\":\"7262\",\"type\":\"CDSView\"},{\"attributes\":{},\"id\":\"6869\",\"type\":\"UnionRenderers\"},{\"attributes\":{},\"id\":\"6870\",\"type\":\"Selection\"},{\"attributes\":{\"background_fill_alpha\":0.7,\"items\":[{\"id\":\"7257\"},{\"id\":\"7283\"},{\"id\":\"7311\"},{\"id\":\"7341\"},{\"id\":\"7373\"},{\"id\":\"7407\"}]},\"id\":\"7256\",\"type\":\"Legend\"},{\"attributes\":{\"data_source\":{\"id\":\"7265\"},\"glyph\":{\"id\":\"7267\"},\"hover_glyph\":null,\"muted_glyph\":null,\"nonselection_glyph\":{\"id\":\"7268\"},\"view\":{\"id\":\"7270\"}},\"id\":\"7269\",\"type\":\"GlyphRenderer\"},{\"attributes\":{\"data_source\":{\"id\":\"7240\"},\"glyph\":{\"id\":\"7242\"},\"hover_glyph\":null,\"muted_glyph\":null,\"nonselection_glyph\":{\"id\":\"7243\"},\"view\":{\"id\":\"7245\"}},\"id\":\"7244\",\"type\":\"GlyphRenderer\"},{\"attributes\":{\"line_alpha\":0.1,\"line_color\":\"#bcbd22\",\"line_width\":2,\"x\":{\"field\":\"Year\"},\"y\":{\"field\":\"Data\"}},\"id\":\"7268\",\"type\":\"Line\"},{\"attributes\":{\"fill_alpha\":{\"value\":0.5},\"fill_color\":{\"value\":\"#bcbd22\"},\"line_alpha\":{\"value\":0.5},\"line_color\":{\"value\":\"#bcbd22\"},\"size\":{\"value\":10},\"x\":{\"field\":\"Year\"},\"y\":{\"field\":\"Data\"}},\"id\":\"7285\",\"type\":\"Circle\"},{\"attributes\":{\"active_drag\":{\"id\":\"7228\"},\"active_multi\":null,\"active_scroll\":{\"id\":\"7229\"},\"tools\":[{\"id\":\"7228\"},{\"id\":\"7229\"},{\"id\":\"7230\"},{\"id\":\"7231\"},{\"id\":\"7232\"},{\"id\":\"7263\"},{\"id\":\"7289\"},{\"id\":\"7317\"},{\"id\":\"7347\"},{\"id\":\"7379\"},{\"id\":\"7413\"}]},\"id\":\"7234\",\"type\":\"Toolbar\"},{\"attributes\":{\"data\":{\"Data\":{\"__ndarray__\":\"VVVVVVVVtT/2hD1hT9izP0dY7mmE5a4/GqRBGqRBqj/XWmuttdaqP87KT4iz8rM/l7c+EuA3rj93xB1xR9yhP8kQrKPN+7Q/\",\"dtype\":\"float64\",\"order\":\"little\",\"shape\":[9]},\"Year\":[2007,2008,2009,2010,2011,2012,2013,2014,2015]},\"selected\":{\"id\":\"7310\"},\"selection_policy\":{\"id\":\"7309\"}},\"id\":\"7291\",\"type\":\"ColumnDataSource\"},{\"attributes\":{\"fill_alpha\":{\"value\":0.5},\"fill_color\":{\"value\":\"#ff7f0e\"},\"line_alpha\":{\"value\":0.5},\"line_color\":{\"value\":\"#ff7f0e\"},\"size\":{\"value\":10},\"x\":{\"field\":\"Year\"},\"y\":{\"field\":\"Data\"}},\"id\":\"6873\",\"type\":\"Circle\"},{\"attributes\":{\"line_color\":\"#2ca02c\",\"line_width\":2,\"x\":{\"field\":\"Year\"},\"y\":{\"field\":\"Data\"}},\"id\":\"7242\",\"type\":\"Line\"},{\"attributes\":{\"axis\":{\"id\":\"7018\"},\"dimension\":1,\"ticker\":null},\"id\":\"7021\",\"type\":\"Grid\"},{\"attributes\":{\"label\":{\"value\":\"AIRNIS\"},\"renderers\":[{\"id\":\"7244\"}]},\"id\":\"7257\",\"type\":\"LegendItem\"},{\"attributes\":{\"label\":{\"value\":\"ANCSIS\"},\"renderers\":[{\"id\":\"7269\"}]},\"id\":\"7283\",\"type\":\"LegendItem\"},{\"attributes\":{\"data_source\":{\"id\":\"6879\"},\"glyph\":{\"id\":\"6881\"},\"hover_glyph\":null,\"muted_glyph\":null,\"nonselection_glyph\":{\"id\":\"6882\"},\"view\":{\"id\":\"6884\"}},\"id\":\"6883\",\"type\":\"GlyphRenderer\"},{\"attributes\":{\"fill_alpha\":{\"value\":0.1},\"fill_color\":{\"value\":\"#ff7f0e\"},\"line_alpha\":{\"value\":0.1},\"line_color\":{\"value\":\"#ff7f0e\"},\"size\":{\"value\":10},\"x\":{\"field\":\"Year\"},\"y\":{\"field\":\"Data\"}},\"id\":\"6874\",\"type\":\"Circle\"},{\"attributes\":{\"source\":{\"id\":\"6853\"}},\"id\":\"6876\",\"type\":\"CDSView\"},{\"attributes\":{\"data_source\":{\"id\":\"6853\"},\"glyph\":{\"id\":\"6873\"},\"hover_glyph\":null,\"muted_glyph\":null,\"nonselection_glyph\":{\"id\":\"6874\"},\"view\":{\"id\":\"6876\"}},\"id\":\"6875\",\"type\":\"GlyphRenderer\"},{\"attributes\":{\"callback\":null,\"renderers\":[{\"id\":\"6875\"}],\"tooltips\":[[\"(x,y)\",\"(@Year,@Data)\"]]},\"id\":\"6877\",\"type\":\"HoverTool\"},{\"attributes\":{\"source\":{\"id\":\"7265\"}},\"id\":\"7270\",\"type\":\"CDSView\"},{\"attributes\":{\"data\":{\"Data\":{\"__ndarray__\":\"Fl/xFV/xtT+4HoXrUbi+PxQ7sRM7saM/C5sDiVbYjD9VVVVVVVWVPwAAAAAAAAAAtdugrBBjrz8NJ3VfHluRP20a0KYBbZo/NJfRXEZzuT8AAAAAAADSPwAAAAAAAAAAAAAAAAAAAAAAAAAAAAAAAA==\",\"dtype\":\"float64\",\"order\":\"little\",\"shape\":[14]},\"Year\":[2001,2002,2003,2004,2005,2007,2008,2011,2012,2013,2014,2015,2016,2017]},\"selected\":{\"id\":\"6928\"},\"selection_policy\":{\"id\":\"6927\"}},\"id\":\"6907\",\"type\":\"ColumnDataSource\"},{\"attributes\":{\"line_color\":\"#d62728\",\"line_width\":2,\"x\":{\"field\":\"Year\"},\"y\":{\"field\":\"Data\"}},\"id\":\"6909\",\"type\":\"Line\"},{\"attributes\":{\"fill_alpha\":{\"value\":0.5},\"fill_color\":{\"value\":\"#2ca02c\"},\"line_alpha\":{\"value\":0.5},\"line_color\":{\"value\":\"#2ca02c\"},\"size\":{\"value\":10},\"x\":{\"field\":\"Year\"},\"y\":{\"field\":\"Data\"}},\"id\":\"6901\",\"type\":\"Circle\"},{\"attributes\":{\"fill_alpha\":{\"value\":0.5},\"fill_color\":{\"value\":\"#8c564b\"},\"line_alpha\":{\"value\":0.5},\"line_color\":{\"value\":\"#8c564b\"},\"size\":{\"value\":10},\"x\":{\"field\":\"Year\"},\"y\":{\"field\":\"Data\"}},\"id\":\"6997\",\"type\":\"Circle\"},{\"attributes\":{\"callback\":null},\"id\":\"7232\",\"type\":\"TapTool\"},{\"attributes\":{\"fill_alpha\":{\"value\":0.5},\"fill_color\":{\"value\":\"#8c564b\"},\"line_alpha\":{\"value\":0.5},\"line_color\":{\"value\":\"#8c564b\"},\"size\":{\"value\":10},\"x\":{\"field\":\"Year\"},\"y\":{\"field\":\"Data\"}},\"id\":\"7409\",\"type\":\"Circle\"},{\"attributes\":{},\"id\":\"7281\",\"type\":\"UnionRenderers\"},{\"attributes\":{\"callback\":null,\"renderers\":[{\"id\":\"7315\"}],\"tooltips\":[[\"(x,y)\",\"(@Year,@Data)\"]]},\"id\":\"7317\",\"type\":\"HoverTool\"},{\"attributes\":{},\"id\":\"7282\",\"type\":\"Selection\"},{\"attributes\":{\"fill_alpha\":{\"value\":0.1},\"fill_color\":{\"value\":\"#17becf\"},\"line_alpha\":{\"value\":0.1},\"line_color\":{\"value\":\"#17becf\"},\"size\":{\"value\":10},\"x\":{\"field\":\"Year\"},\"y\":{\"field\":\"Data\"}},\"id\":\"7314\",\"type\":\"Circle\"},{\"attributes\":{\"source\":{\"id\":\"7291\"}},\"id\":\"7316\",\"type\":\"CDSView\"},{\"attributes\":{\"data_source\":{\"id\":\"7291\"},\"glyph\":{\"id\":\"7313\"},\"hover_glyph\":null,\"muted_glyph\":null,\"nonselection_glyph\":{\"id\":\"7314\"},\"view\":{\"id\":\"7316\"}},\"id\":\"7315\",\"type\":\"GlyphRenderer\"},{\"attributes\":{\"source\":{\"id\":\"7349\"}},\"id\":\"7354\",\"type\":\"CDSView\"},{\"attributes\":{},\"id\":\"7371\",\"type\":\"UnionRenderers\"},{\"attributes\":{},\"id\":\"7372\",\"type\":\"Selection\"},{\"attributes\":{},\"id\":\"6993\",\"type\":\"UnionRenderers\"},{\"attributes\":{},\"id\":\"6994\",\"type\":\"Selection\"},{\"attributes\":{\"line_color\":\"#beaed4\",\"line_width\":2,\"x\":{\"field\":\"Year\"},\"y\":{\"field\":\"Data\"}},\"id\":\"7351\",\"type\":\"Line\"},{\"attributes\":{\"fill_alpha\":{\"value\":0.5},\"fill_color\":{\"value\":\"#17becf\"},\"line_alpha\":{\"value\":0.5},\"line_color\":{\"value\":\"#17becf\"},\"size\":{\"value\":10},\"x\":{\"field\":\"Year\"},\"y\":{\"field\":\"Data\"}},\"id\":\"7313\",\"type\":\"Circle\"},{\"attributes\":{\"label\":{\"value\":\"A[N/I][C/R][S/N]IS\"},\"renderers\":[{\"id\":\"7353\"}]},\"id\":\"7373\",\"type\":\"LegendItem\"},{\"attributes\":{\"source\":{\"id\":\"7319\"}},\"id\":\"7324\",\"type\":\"CDSView\"},{\"attributes\":{\"fill_alpha\":{\"value\":0.1},\"fill_color\":{\"value\":\"#bcbd22\"},\"line_alpha\":{\"value\":0.1},\"line_color\":{\"value\":\"#bcbd22\"},\"size\":{\"value\":10},\"x\":{\"field\":\"Year\"},\"y\":{\"field\":\"Data\"}},\"id\":\"7286\",\"type\":\"Circle\"},{\"attributes\":{\"source\":{\"id\":\"7265\"}},\"id\":\"7288\",\"type\":\"CDSView\"},{\"attributes\":{},\"id\":\"7405\",\"type\":\"UnionRenderers\"},{\"attributes\":{\"data_source\":{\"id\":\"7265\"},\"glyph\":{\"id\":\"7285\"},\"hover_glyph\":null,\"muted_glyph\":null,\"nonselection_glyph\":{\"id\":\"7286\"},\"view\":{\"id\":\"7288\"}},\"id\":\"7287\",\"type\":\"GlyphRenderer\"},{\"attributes\":{\"callback\":null,\"renderers\":[{\"id\":\"7287\"}],\"tooltips\":[[\"(x,y)\",\"(@Year,@Data)\"]]},\"id\":\"7289\",\"type\":\"HoverTool\"},{\"attributes\":{\"source\":{\"id\":\"7291\"}},\"id\":\"7296\",\"type\":\"CDSView\"},{\"attributes\":{\"line_alpha\":0.1,\"line_color\":\"#8c564b\",\"line_width\":2,\"x\":{\"field\":\"Year\"},\"y\":{\"field\":\"Data\"}},\"id\":\"7384\",\"type\":\"Line\"},{\"attributes\":{},\"id\":\"7339\",\"type\":\"UnionRenderers\"},{\"attributes\":{\"source\":{\"id\":\"7381\"}},\"id\":\"7386\",\"type\":\"CDSView\"},{\"attributes\":{},\"id\":\"7340\",\"type\":\"Selection\"},{\"attributes\":{\"fill_alpha\":{\"value\":0.1},\"fill_color\":{\"value\":\"#beaed4\"},\"line_alpha\":{\"value\":0.1},\"line_color\":{\"value\":\"#beaed4\"},\"size\":{\"value\":10},\"x\":{\"field\":\"Year\"},\"y\":{\"field\":\"Data\"}},\"id\":\"7376\",\"type\":\"Circle\"},{\"attributes\":{\"source\":{\"id\":\"7349\"}},\"id\":\"7378\",\"type\":\"CDSView\"},{\"attributes\":{\"data_source\":{\"id\":\"7349\"},\"glyph\":{\"id\":\"7375\"},\"hover_glyph\":null,\"muted_glyph\":null,\"nonselection_glyph\":{\"id\":\"7376\"},\"view\":{\"id\":\"7378\"}},\"id\":\"7377\",\"type\":\"GlyphRenderer\"},{\"attributes\":{\"fill_alpha\":{\"value\":0.1},\"fill_color\":{\"value\":\"#8c564b\"},\"line_alpha\":{\"value\":0.1},\"line_color\":{\"value\":\"#8c564b\"},\"size\":{\"value\":10},\"x\":{\"field\":\"Year\"},\"y\":{\"field\":\"Data\"}},\"id\":\"6998\",\"type\":\"Circle\"},{\"attributes\":{\"callback\":null,\"renderers\":[{\"id\":\"7377\"}],\"tooltips\":[[\"(x,y)\",\"(@Year,@Data)\"]]},\"id\":\"7379\",\"type\":\"HoverTool\"},{\"attributes\":{\"data\":{\"Data\":{\"__ndarray__\":\"AAAAAAAAAAAAAAAAAAAAAAAAAAAAAAAAAAAAAAAAAAAAAAAAAAAAAFQJATk/lbA/jBgxYsSIwT8fJ1qu333cP/msG0yRz+I/q6qqqqqq4j9CewntJbTXP6iesYvXP98/SuMjE+id6j8=\",\"dtype\":\"float64\",\"order\":\"little\",\"shape\":[13]},\"Year\":[2007,2008,2009,2010,2011,2012,2013,2014,2015,2016,2017,2018,2019]},\"selected\":{\"id\":\"7049\"},\"selection_policy\":{\"id\":\"7048\"}},\"id\":\"7034\",\"type\":\"ColumnDataSource\"},{\"attributes\":{\"line_color\":\"#7fc97f\",\"line_width\":2,\"x\":{\"field\":\"Year\"},\"y\":{\"field\":\"Data\"}},\"id\":\"7321\",\"type\":\"Line\"},{\"attributes\":{\"data_source\":{\"id\":\"7319\"},\"glyph\":{\"id\":\"7321\"},\"hover_glyph\":null,\"muted_glyph\":null,\"nonselection_glyph\":{\"id\":\"7322\"},\"view\":{\"id\":\"7324\"}},\"id\":\"7323\",\"type\":\"GlyphRenderer\"},{\"attributes\":{\"source\":{\"id\":\"6969\"}},\"id\":\"7000\",\"type\":\"CDSView\"},{\"attributes\":{\"data_source\":{\"id\":\"6969\"},\"glyph\":{\"id\":\"6997\"},\"hover_glyph\":null,\"muted_glyph\":null,\"nonselection_glyph\":{\"id\":\"6998\"},\"view\":{\"id\":\"7000\"}},\"id\":\"6999\",\"type\":\"GlyphRenderer\"},{\"attributes\":{\"line_alpha\":0.1,\"line_color\":\"#7fc97f\",\"line_width\":2,\"x\":{\"field\":\"Year\"},\"y\":{\"field\":\"Data\"}},\"id\":\"7322\",\"type\":\"Line\"},{\"attributes\":{\"callback\":null,\"renderers\":[{\"id\":\"6999\"}],\"tooltips\":[[\"(x,y)\",\"(@Year,@Data)\"]]},\"id\":\"7001\",\"type\":\"HoverTool\"},{\"attributes\":{\"label\":{\"value\":\"Other\"},\"renderers\":[{\"id\":\"7385\"}]},\"id\":\"7407\",\"type\":\"LegendItem\"},{\"attributes\":{},\"id\":\"7225\",\"type\":\"BasicTicker\"},{\"attributes\":{\"fill_alpha\":{\"value\":0.5},\"fill_color\":{\"value\":\"#7fc97f\"},\"line_alpha\":{\"value\":0.5},\"line_color\":{\"value\":\"#7fc97f\"},\"size\":{\"value\":10},\"x\":{\"field\":\"Year\"},\"y\":{\"field\":\"Data\"}},\"id\":\"7343\",\"type\":\"Circle\"},{\"attributes\":{\"data\":{\"Data\":{\"__ndarray__\":\"9DzP8zzPwz/0BX1BX9CXP2G5pxGWe6o/FDuxEzuxoz+VUkoppZSiP75jamDvmKo/W2AXl7c+oj+Q0TABGQ2DPzvavE9xybA/\",\"dtype\":\"float64\",\"order\":\"little\",\"shape\":[9]},\"Year\":[2007,2008,2009,2010,2011,2012,2013,2014,2015]},\"selected\":{\"id\":\"7372\"},\"selection_policy\":{\"id\":\"7371\"}},\"id\":\"7349\",\"type\":\"ColumnDataSource\"},{\"attributes\":{},\"id\":\"7023\",\"type\":\"WheelZoomTool\"},{\"attributes\":{\"label\":{\"value\":\"ANRNIS\"},\"renderers\":[{\"id\":\"7323\"}]},\"id\":\"7341\",\"type\":\"LegendItem\"},{\"attributes\":{\"overlay\":{\"id\":\"7027\"}},\"id\":\"7024\",\"type\":\"BoxZoomTool\"},{\"attributes\":{\"axis_label\":\"Prevalence\",\"formatter\":{\"id\":\"7251\"},\"major_label_policy\":{\"id\":\"7252\"},\"ticker\":{\"id\":\"7225\"}},\"id\":\"7224\",\"type\":\"LinearAxis\"},{\"attributes\":{\"axis\":{\"id\":\"7224\"},\"dimension\":1,\"ticker\":null},\"id\":\"7227\",\"type\":\"Grid\"},{\"attributes\":{\"line_alpha\":0.1,\"line_color\":\"#beaed4\",\"line_width\":2,\"x\":{\"field\":\"Year\"},\"y\":{\"field\":\"Data\"}},\"id\":\"7352\",\"type\":\"Line\"},{\"attributes\":{\"label\":{\"value\":\"IRNL\"},\"renderers\":[{\"id\":\"7038\"}]},\"id\":\"7051\",\"type\":\"LegendItem\"},{\"attributes\":{\"label\":{\"value\":\"A[I/N][R/C][N/S]IS\"},\"renderers\":[{\"id\":\"7295\"}]},\"id\":\"7311\",\"type\":\"LegendItem\"},{\"attributes\":{},\"id\":\"7229\",\"type\":\"WheelZoomTool\"},{\"attributes\":{},\"id\":\"7422\",\"type\":\"LinearScale\"},{\"attributes\":{\"line_color\":\"#8c564b\",\"line_width\":2,\"x\":{\"field\":\"Year\"},\"y\":{\"field\":\"Data\"}},\"id\":\"7383\",\"type\":\"Line\"},{\"attributes\":{\"background_fill_alpha\":0.7,\"items\":[{\"id\":\"7051\"},{\"id\":\"7077\"},{\"id\":\"7105\"},{\"id\":\"7135\"},{\"id\":\"7167\"},{\"id\":\"7201\"}]},\"id\":\"7050\",\"type\":\"Legend\"},{\"attributes\":{\"fill_alpha\":{\"value\":0.1},\"fill_color\":{\"value\":\"#7fc97f\"},\"line_alpha\":{\"value\":0.1},\"line_color\":{\"value\":\"#7fc97f\"},\"size\":{\"value\":10},\"x\":{\"field\":\"Year\"},\"y\":{\"field\":\"Data\"}},\"id\":\"7344\",\"type\":\"Circle\"},{\"attributes\":{\"source\":{\"id\":\"7319\"}},\"id\":\"7346\",\"type\":\"CDSView\"},{\"attributes\":{\"callback\":null,\"renderers\":[{\"id\":\"7081\"}],\"tooltips\":[[\"(x,y)\",\"(@Year,@Data)\"]]},\"id\":\"7083\",\"type\":\"HoverTool\"},{\"attributes\":{},\"id\":\"7228\",\"type\":\"PanTool\"},{\"attributes\":{\"data_source\":{\"id\":\"7319\"},\"glyph\":{\"id\":\"7343\"},\"hover_glyph\":null,\"muted_glyph\":null,\"nonselection_glyph\":{\"id\":\"7344\"},\"view\":{\"id\":\"7346\"}},\"id\":\"7345\",\"type\":\"GlyphRenderer\"},{\"attributes\":{},\"id\":\"7420\",\"type\":\"Range1d\"},{\"attributes\":{\"callback\":null,\"renderers\":[{\"id\":\"7345\"}],\"tooltips\":[[\"(x,y)\",\"(@Year,@Data)\"]]},\"id\":\"7347\",\"type\":\"HoverTool\"},{\"attributes\":{\"data_source\":{\"id\":\"7381\"},\"glyph\":{\"id\":\"7383\"},\"hover_glyph\":null,\"muted_glyph\":null,\"nonselection_glyph\":{\"id\":\"7384\"},\"view\":{\"id\":\"7386\"}},\"id\":\"7385\",\"type\":\"GlyphRenderer\"},{\"attributes\":{\"overlay\":{\"id\":\"7233\"}},\"id\":\"7230\",\"type\":\"BoxZoomTool\"},{\"attributes\":{},\"id\":\"7231\",\"type\":\"ResetTool\"},{\"attributes\":{},\"id\":\"7309\",\"type\":\"UnionRenderers\"},{\"attributes\":{},\"id\":\"7406\",\"type\":\"Selection\"},{\"attributes\":{\"data_source\":{\"id\":\"7349\"},\"glyph\":{\"id\":\"7351\"},\"hover_glyph\":null,\"muted_glyph\":null,\"nonselection_glyph\":{\"id\":\"7352\"},\"view\":{\"id\":\"7354\"}},\"id\":\"7353\",\"type\":\"GlyphRenderer\"},{\"attributes\":{\"source\":{\"id\":\"7034\"}},\"id\":\"7039\",\"type\":\"CDSView\"},{\"attributes\":{\"callback\":null},\"id\":\"7026\",\"type\":\"TapTool\"},{\"attributes\":{\"data\":{\"Data\":{\"__ndarray__\":\"IHqnAu55rj8wmpXtQ97AP3bbheY6jdA/oC+EnPf/zz9Yb9QK0/e+P7iPozmy8sM/+Il1qnzPtD/IrnsrEhOwP2DgufdwydA/\",\"dtype\":\"float64\",\"order\":\"little\",\"shape\":[9]},\"Year\":[2007,2008,2009,2010,2011,2012,2013,2014,2015]},\"selected\":{\"id\":\"7406\"},\"selection_policy\":{\"id\":\"7405\"}},\"id\":\"7381\",\"type\":\"ColumnDataSource\"},{\"attributes\":{},\"id\":\"7025\",\"type\":\"ResetTool\"},{\"attributes\":{\"fill_alpha\":{\"value\":0.5},\"fill_color\":{\"value\":\"#beaed4\"},\"line_alpha\":{\"value\":0.5},\"line_color\":{\"value\":\"#beaed4\"},\"size\":{\"value\":10},\"x\":{\"field\":\"Year\"},\"y\":{\"field\":\"Data\"}},\"id\":\"7375\",\"type\":\"Circle\"},{\"attributes\":{},\"id\":\"7310\",\"type\":\"Selection\"},{\"attributes\":{},\"id\":\"7048\",\"type\":\"UnionRenderers\"},{\"attributes\":{},\"id\":\"7049\",\"type\":\"Selection\"},{\"attributes\":{},\"id\":\"7214\",\"type\":\"Range1d\"},{\"attributes\":{\"fill_alpha\":{\"value\":0.5},\"fill_color\":{\"value\":\"#ff7f0e\"},\"line_alpha\":{\"value\":0.5},\"line_color\":{\"value\":\"#ff7f0e\"},\"size\":{\"value\":10},\"x\":{\"field\":\"Year\"},\"y\":{\"field\":\"Data\"}},\"id\":\"7053\",\"type\":\"Circle\"},{\"attributes\":{\"fill_alpha\":{\"value\":0.1},\"fill_color\":{\"value\":\"#e377c2\"},\"line_alpha\":{\"value\":0.1},\"line_color\":{\"value\":\"#e377c2\"},\"size\":{\"value\":10},\"x\":{\"field\":\"Year\"},\"y\":{\"field\":\"Data\"}},\"id\":\"7080\",\"type\":\"Circle\"},{\"attributes\":{\"fill_alpha\":{\"value\":0.5},\"fill_color\":{\"value\":\"#e377c2\"},\"line_alpha\":{\"value\":0.5},\"line_color\":{\"value\":\"#e377c2\"},\"size\":{\"value\":10},\"x\":{\"field\":\"Year\"},\"y\":{\"field\":\"Data\"}},\"id\":\"7079\",\"type\":\"Circle\"},{\"attributes\":{\"data_source\":{\"id\":\"7059\"},\"glyph\":{\"id\":\"7079\"},\"hover_glyph\":null,\"muted_glyph\":null,\"nonselection_glyph\":{\"id\":\"7080\"},\"view\":{\"id\":\"7082\"}},\"id\":\"7081\",\"type\":\"GlyphRenderer\"},{\"attributes\":{\"fill_alpha\":{\"value\":0.1},\"fill_color\":{\"value\":\"#ff7f0e\"},\"line_alpha\":{\"value\":0.1},\"line_color\":{\"value\":\"#ff7f0e\"},\"size\":{\"value\":10},\"x\":{\"field\":\"Year\"},\"y\":{\"field\":\"Data\"}},\"id\":\"7054\",\"type\":\"Circle\"},{\"attributes\":{\"source\":{\"id\":\"7034\"}},\"id\":\"7056\",\"type\":\"CDSView\"},{\"attributes\":{\"data_source\":{\"id\":\"7034\"},\"glyph\":{\"id\":\"7053\"},\"hover_glyph\":null,\"muted_glyph\":null,\"nonselection_glyph\":{\"id\":\"7054\"},\"view\":{\"id\":\"7056\"}},\"id\":\"7055\",\"type\":\"GlyphRenderer\"},{\"attributes\":{\"callback\":null,\"renderers\":[{\"id\":\"7055\"}],\"tooltips\":[[\"(x,y)\",\"(@Year,@Data)\"]]},\"id\":\"7057\",\"type\":\"HoverTool\"},{\"attributes\":{\"data\":{\"Data\":{\"__ndarray__\":\"SZIkSZIk6T84velNb3rTP4fyGsprKN8/+RklfkaJ3z9WHqeGY+XhPyOSZdIzItk/hQoVKlSo0D8aBSI4dmm0PxxMkc+6waQ/AAAAAAAAAAAAAAAAAAAAAAAAAAAAAAAAAAAAAAAAAAA=\",\"dtype\":\"float64\",\"order\":\"little\",\"shape\":[13]},\"Year\":[2007,2008,2009,2010,2011,2012,2013,2014,2015,2016,2017,2018,2019]},\"selected\":{\"id\":\"7104\"},\"selection_policy\":{\"id\":\"7103\"}},\"id\":\"7085\",\"type\":\"ColumnDataSource\"},{\"attributes\":{\"source\":{\"id\":\"7059\"}},\"id\":\"7064\",\"type\":\"CDSView\"},{\"attributes\":{\"data_source\":{\"id\":\"7085\"},\"glyph\":{\"id\":\"7087\"},\"hover_glyph\":null,\"muted_glyph\":null,\"nonselection_glyph\":{\"id\":\"7088\"},\"view\":{\"id\":\"7090\"}},\"id\":\"7089\",\"type\":\"GlyphRenderer\"},{\"attributes\":{\"label\":{\"value\":\"AIRNIS\"},\"renderers\":[{\"id\":\"7089\"}]},\"id\":\"7105\",\"type\":\"LegendItem\"},{\"attributes\":{\"source\":{\"id\":\"7085\"}},\"id\":\"7090\",\"type\":\"CDSView\"},{\"attributes\":{\"line_alpha\":0.1,\"line_color\":\"#2ca02c\",\"line_width\":2,\"x\":{\"field\":\"Year\"},\"y\":{\"field\":\"Data\"}},\"id\":\"7088\",\"type\":\"Line\"},{\"attributes\":{\"label\":{\"value\":\"IRNI\"},\"renderers\":[{\"id\":\"7063\"}]},\"id\":\"7077\",\"type\":\"LegendItem\"},{\"attributes\":{},\"id\":\"7075\",\"type\":\"UnionRenderers\"},{\"attributes\":{},\"id\":\"7076\",\"type\":\"Selection\"},{\"attributes\":{\"data\":{\"Data\":{\"__ndarray__\":\"UAd1UAd14D8fhetRuB7lP3ZiJ3ZiJ+Y/PRm/XerJ6D+rqqqqqqruPya0l9BeQus/8M88WlQi6T8wj60IGk7qP5F4FYlXkeg/TGcxncV05j8AAAAAAADaPwAAAAAAAAAAAAAAAAAAAAAAAAAAAAAAAA==\",\"dtype\":\"float64\",\"order\":\"little\",\"shape\":[14]},\"Year\":[2001,2002,2003,2004,2005,2007,2008,2011,2012,2013,2014,2015,2016,2017]},\"selected\":{\"id\":\"6843\"},\"selection_policy\":{\"id\":\"6842\"}},\"id\":\"6828\",\"type\":\"ColumnDataSource\"}],\"root_ids\":[\"7708\"]},\"title\":\"Bokeh Application\",\"version\":\"2.3.3\"}};\n",
       "  var render_items = [{\"docid\":\"6f532cb4-99cb-4930-8fa8-0f2e7378951a\",\"root_ids\":[\"7708\"],\"roots\":{\"7708\":\"ae542170-b270-4dca-a295-db309f6b0a0f\"}}];\n",
       "  root.Bokeh.embed.embed_items_notebook(docs_json, render_items);\n",
       "\n",
       "  }\n",
       "  if (root.Bokeh !== undefined) {\n",
       "    embed_document(root);\n",
       "  } else {\n",
       "    var attempts = 0;\n",
       "    var timer = setInterval(function(root) {\n",
       "      if (root.Bokeh !== undefined) {\n",
       "        clearInterval(timer);\n",
       "        embed_document(root);\n",
       "      } else {\n",
       "        attempts++;\n",
       "        if (attempts > 100) {\n",
       "          clearInterval(timer);\n",
       "          console.log(\"Bokeh: ERROR: Unable to run BokehJS code because BokehJS library is missing\");\n",
       "        }\n",
       "      }\n",
       "    }, 10, root)\n",
       "  }\n",
       "})(window);"
      ],
      "application/vnd.bokehjs_exec.v0+json": ""
     },
     "metadata": {
      "application/vnd.bokehjs_exec.v0+json": {
       "id": "7708"
      }
     },
     "output_type": "display_data"
    },
    {
     "data": {
      "text/plain": [
       "<data_analysis.plotting.Subplots at 0x11ad88d90>"
      ]
     },
     "execution_count": 19,
     "metadata": {},
     "output_type": "execute_result"
    }
   ],
   "source": [
    "plot_haplotype_frequency(pf6plus, 'PfDHFR', populations = ['WSEA','ESEA','WAF','EAF'])"
   ]
  },
  {
   "cell_type": "markdown",
   "metadata": {},
   "source": [
    "---"
   ]
  },
  {
   "cell_type": "markdown",
   "metadata": {},
   "source": [
    "As you can see there is a lot of room for further exploration on any of the use-cases above. "
   ]
  },
  {
   "cell_type": "code",
   "execution_count": null,
   "metadata": {},
   "outputs": [],
   "source": []
  }
 ],
 "metadata": {
  "colab": {
   "collapsed_sections": [],
   "name": "2_prevalence_DR_haps_270921.ipynb",
   "provenance": []
  },
  "kernelspec": {
   "display_name": "Python 3 (ipykernel)",
   "language": "python",
   "name": "python3"
  },
  "language_info": {
   "codemirror_mode": {
    "name": "ipython",
    "version": 3
   },
   "file_extension": ".py",
   "mimetype": "text/x-python",
   "name": "python",
   "nbconvert_exporter": "python",
   "pygments_lexer": "ipython3",
   "version": "3.9.6"
  }
 },
 "nbformat": 4,
 "nbformat_minor": 1
}
