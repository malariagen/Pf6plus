{
 "cells": [
  {
   "cell_type": "markdown",
   "metadata": {
    "id": "9Ewe-0PvBOmM"
   },
   "source": [
    "# Analysing patterns of drug resistance"
   ]
  },
  {
   "cell_type": "markdown",
   "metadata": {
    "id": "duyIduLUBP3p"
   },
   "source": [
    "This notebook introduces a series of convenience functions that allow you to:\n",
    "- Tabulate and plot the frequency the prevalence of drug resistance over time, e.g. to compare the distribution in different countries at specific time points\n",
    "- Tabulate and plot haplotype frequencies at different geographical scale (population, country and level 1 administrative division) over time, e.g. to analyse regional diversity and haplotype compositions"
   ]
  },
  {
   "cell_type": "markdown",
   "metadata": {
    "id": "reAK1YsQLcsc"
   },
   "source": [
    "## Setup\n",
    "The utility functions are available from [the Pf6+ repo](https://github.com/malariagen/Pf6plus). Before we can start our analysis, we will have to clone the repository to the execution environment. This is a very simple step that depends on where your running the notebook"
   ]
  },
  {
   "cell_type": "markdown",
   "metadata": {
    "id": "-QzDW7nD75Qy"
   },
   "source": [
    "#### If you are running this on Google Colab"
   ]
  },
  {
   "cell_type": "code",
   "execution_count": null,
   "metadata": {
    "id": "sf861hRN_X2L"
   },
   "outputs": [],
   "source": [
    "!git clone https://github.com/malariagen/Pf6plus.git \n",
    "!cp -r /content/Pf6plus/pf6plus_documentation/notebooks/data_analysis ."
   ]
  },
  {
   "cell_type": "markdown",
   "metadata": {
    "id": "609WYBOZGaGc"
   },
   "source": [
    "#### If you are running this locally\n",
    "There are some steps you need to follow to run the notebooks locally. If you haven't already, please follow these [instructions](https://github.com/malariagen/Pf6plus#running-the-notebooks-locally)."
   ]
  },
  {
   "cell_type": "markdown",
   "metadata": {
    "id": "8dZS9zQd8LH2"
   },
   "source": [
    "## Get started\n",
    "In order to generate the plots as seen in these notebooks, first import the functions from the `data_analysis` directory, which contain all of the code you will need:"
   ]
  },
  {
   "cell_type": "code",
   "execution_count": 59,
   "metadata": {
    "id": "lw_UrIlFbRKS"
   },
   "outputs": [],
   "source": [
    "from data_analysis.plot_dr_prevalence import *\n",
    "from data_analysis.plot_haplotype_frequency import *\n",
    "from data_analysis.tabulate_drug_resistance import *"
   ]
  },
  {
   "cell_type": "markdown",
   "metadata": {
    "id": "_iyHlWJ1A2Tb"
   },
   "source": [
    "Now we load `bokeh` to make the plots in this notebook interactive."
   ]
  },
  {
   "cell_type": "code",
   "execution_count": 60,
   "metadata": {
    "id": "yggaXHqzGaGe"
   },
   "outputs": [
    {
     "data": {
      "text/html": [
       "\n",
       "    <div class=\"bk-root\">\n",
       "        <a href=\"https://bokeh.org\" target=\"_blank\" class=\"bk-logo bk-logo-small bk-logo-notebook\"></a>\n",
       "        <span id=\"9249\">Loading BokehJS ...</span>\n",
       "    </div>"
      ]
     },
     "metadata": {},
     "output_type": "display_data"
    },
    {
     "data": {
      "application/javascript": [
       "\n",
       "(function(root) {\n",
       "  function now() {\n",
       "    return new Date();\n",
       "  }\n",
       "\n",
       "  const force = true;\n",
       "\n",
       "  if (typeof root._bokeh_onload_callbacks === \"undefined\" || force === true) {\n",
       "    root._bokeh_onload_callbacks = [];\n",
       "    root._bokeh_is_loading = undefined;\n",
       "  }\n",
       "\n",
       "  const JS_MIME_TYPE = 'application/javascript';\n",
       "  const HTML_MIME_TYPE = 'text/html';\n",
       "  const EXEC_MIME_TYPE = 'application/vnd.bokehjs_exec.v0+json';\n",
       "  const CLASS_NAME = 'output_bokeh rendered_html';\n",
       "\n",
       "  /**\n",
       "   * Render data to the DOM node\n",
       "   */\n",
       "  function render(props, node) {\n",
       "    const script = document.createElement(\"script\");\n",
       "    node.appendChild(script);\n",
       "  }\n",
       "\n",
       "  /**\n",
       "   * Handle when an output is cleared or removed\n",
       "   */\n",
       "  function handleClearOutput(event, handle) {\n",
       "    const cell = handle.cell;\n",
       "\n",
       "    const id = cell.output_area._bokeh_element_id;\n",
       "    const server_id = cell.output_area._bokeh_server_id;\n",
       "    // Clean up Bokeh references\n",
       "    if (id != null && id in Bokeh.index) {\n",
       "      Bokeh.index[id].model.document.clear();\n",
       "      delete Bokeh.index[id];\n",
       "    }\n",
       "\n",
       "    if (server_id !== undefined) {\n",
       "      // Clean up Bokeh references\n",
       "      const cmd_clean = \"from bokeh.io.state import curstate; print(curstate().uuid_to_server['\" + server_id + \"'].get_sessions()[0].document.roots[0]._id)\";\n",
       "      cell.notebook.kernel.execute(cmd_clean, {\n",
       "        iopub: {\n",
       "          output: function(msg) {\n",
       "            const id = msg.content.text.trim();\n",
       "            if (id in Bokeh.index) {\n",
       "              Bokeh.index[id].model.document.clear();\n",
       "              delete Bokeh.index[id];\n",
       "            }\n",
       "          }\n",
       "        }\n",
       "      });\n",
       "      // Destroy server and session\n",
       "      const cmd_destroy = \"import bokeh.io.notebook as ion; ion.destroy_server('\" + server_id + \"')\";\n",
       "      cell.notebook.kernel.execute(cmd_destroy);\n",
       "    }\n",
       "  }\n",
       "\n",
       "  /**\n",
       "   * Handle when a new output is added\n",
       "   */\n",
       "  function handleAddOutput(event, handle) {\n",
       "    const output_area = handle.output_area;\n",
       "    const output = handle.output;\n",
       "\n",
       "    // limit handleAddOutput to display_data with EXEC_MIME_TYPE content only\n",
       "    if ((output.output_type != \"display_data\") || (!Object.prototype.hasOwnProperty.call(output.data, EXEC_MIME_TYPE))) {\n",
       "      return\n",
       "    }\n",
       "\n",
       "    const toinsert = output_area.element.find(\".\" + CLASS_NAME.split(' ')[0]);\n",
       "\n",
       "    if (output.metadata[EXEC_MIME_TYPE][\"id\"] !== undefined) {\n",
       "      toinsert[toinsert.length - 1].firstChild.textContent = output.data[JS_MIME_TYPE];\n",
       "      // store reference to embed id on output_area\n",
       "      output_area._bokeh_element_id = output.metadata[EXEC_MIME_TYPE][\"id\"];\n",
       "    }\n",
       "    if (output.metadata[EXEC_MIME_TYPE][\"server_id\"] !== undefined) {\n",
       "      const bk_div = document.createElement(\"div\");\n",
       "      bk_div.innerHTML = output.data[HTML_MIME_TYPE];\n",
       "      const script_attrs = bk_div.children[0].attributes;\n",
       "      for (let i = 0; i < script_attrs.length; i++) {\n",
       "        toinsert[toinsert.length - 1].firstChild.setAttribute(script_attrs[i].name, script_attrs[i].value);\n",
       "        toinsert[toinsert.length - 1].firstChild.textContent = bk_div.children[0].textContent\n",
       "      }\n",
       "      // store reference to server id on output_area\n",
       "      output_area._bokeh_server_id = output.metadata[EXEC_MIME_TYPE][\"server_id\"];\n",
       "    }\n",
       "  }\n",
       "\n",
       "  function register_renderer(events, OutputArea) {\n",
       "\n",
       "    function append_mime(data, metadata, element) {\n",
       "      // create a DOM node to render to\n",
       "      const toinsert = this.create_output_subarea(\n",
       "        metadata,\n",
       "        CLASS_NAME,\n",
       "        EXEC_MIME_TYPE\n",
       "      );\n",
       "      this.keyboard_manager.register_events(toinsert);\n",
       "      // Render to node\n",
       "      const props = {data: data, metadata: metadata[EXEC_MIME_TYPE]};\n",
       "      render(props, toinsert[toinsert.length - 1]);\n",
       "      element.append(toinsert);\n",
       "      return toinsert\n",
       "    }\n",
       "\n",
       "    /* Handle when an output is cleared or removed */\n",
       "    events.on('clear_output.CodeCell', handleClearOutput);\n",
       "    events.on('delete.Cell', handleClearOutput);\n",
       "\n",
       "    /* Handle when a new output is added */\n",
       "    events.on('output_added.OutputArea', handleAddOutput);\n",
       "\n",
       "    /**\n",
       "     * Register the mime type and append_mime function with output_area\n",
       "     */\n",
       "    OutputArea.prototype.register_mime_type(EXEC_MIME_TYPE, append_mime, {\n",
       "      /* Is output safe? */\n",
       "      safe: true,\n",
       "      /* Index of renderer in `output_area.display_order` */\n",
       "      index: 0\n",
       "    });\n",
       "  }\n",
       "\n",
       "  // register the mime type if in Jupyter Notebook environment and previously unregistered\n",
       "  if (root.Jupyter !== undefined) {\n",
       "    const events = require('base/js/events');\n",
       "    const OutputArea = require('notebook/js/outputarea').OutputArea;\n",
       "\n",
       "    if (OutputArea.prototype.mime_types().indexOf(EXEC_MIME_TYPE) == -1) {\n",
       "      register_renderer(events, OutputArea);\n",
       "    }\n",
       "  }\n",
       "\n",
       "  \n",
       "  if (typeof (root._bokeh_timeout) === \"undefined\" || force === true) {\n",
       "    root._bokeh_timeout = Date.now() + 5000;\n",
       "    root._bokeh_failed_load = false;\n",
       "  }\n",
       "\n",
       "  const NB_LOAD_WARNING = {'data': {'text/html':\n",
       "     \"<div style='background-color: #fdd'>\\n\"+\n",
       "     \"<p>\\n\"+\n",
       "     \"BokehJS does not appear to have successfully loaded. If loading BokehJS from CDN, this \\n\"+\n",
       "     \"may be due to a slow or bad network connection. Possible fixes:\\n\"+\n",
       "     \"</p>\\n\"+\n",
       "     \"<ul>\\n\"+\n",
       "     \"<li>re-rerun `output_notebook()` to attempt to load from CDN again, or</li>\\n\"+\n",
       "     \"<li>use INLINE resources instead, as so:</li>\\n\"+\n",
       "     \"</ul>\\n\"+\n",
       "     \"<code>\\n\"+\n",
       "     \"from bokeh.resources import INLINE\\n\"+\n",
       "     \"output_notebook(resources=INLINE)\\n\"+\n",
       "     \"</code>\\n\"+\n",
       "     \"</div>\"}};\n",
       "\n",
       "  function display_loaded() {\n",
       "    const el = document.getElementById(\"9249\");\n",
       "    if (el != null) {\n",
       "      el.textContent = \"BokehJS is loading...\";\n",
       "    }\n",
       "    if (root.Bokeh !== undefined) {\n",
       "      if (el != null) {\n",
       "        el.textContent = \"BokehJS \" + root.Bokeh.version + \" successfully loaded.\";\n",
       "      }\n",
       "    } else if (Date.now() < root._bokeh_timeout) {\n",
       "      setTimeout(display_loaded, 100)\n",
       "    }\n",
       "  }\n",
       "\n",
       "\n",
       "  function run_callbacks() {\n",
       "    try {\n",
       "      root._bokeh_onload_callbacks.forEach(function(callback) {\n",
       "        if (callback != null)\n",
       "          callback();\n",
       "      });\n",
       "    } finally {\n",
       "      delete root._bokeh_onload_callbacks\n",
       "    }\n",
       "    console.debug(\"Bokeh: all callbacks have finished\");\n",
       "  }\n",
       "\n",
       "  function load_libs(css_urls, js_urls, callback) {\n",
       "    if (css_urls == null) css_urls = [];\n",
       "    if (js_urls == null) js_urls = [];\n",
       "\n",
       "    root._bokeh_onload_callbacks.push(callback);\n",
       "    if (root._bokeh_is_loading > 0) {\n",
       "      console.debug(\"Bokeh: BokehJS is being loaded, scheduling callback at\", now());\n",
       "      return null;\n",
       "    }\n",
       "    if (js_urls == null || js_urls.length === 0) {\n",
       "      run_callbacks();\n",
       "      return null;\n",
       "    }\n",
       "    console.debug(\"Bokeh: BokehJS not loaded, scheduling load and callback at\", now());\n",
       "    root._bokeh_is_loading = css_urls.length + js_urls.length;\n",
       "\n",
       "    function on_load() {\n",
       "      root._bokeh_is_loading--;\n",
       "      if (root._bokeh_is_loading === 0) {\n",
       "        console.debug(\"Bokeh: all BokehJS libraries/stylesheets loaded\");\n",
       "        run_callbacks()\n",
       "      }\n",
       "    }\n",
       "\n",
       "    function on_error(url) {\n",
       "      console.error(\"failed to load \" + url);\n",
       "    }\n",
       "\n",
       "    for (let i = 0; i < css_urls.length; i++) {\n",
       "      const url = css_urls[i];\n",
       "      const element = document.createElement(\"link\");\n",
       "      element.onload = on_load;\n",
       "      element.onerror = on_error.bind(null, url);\n",
       "      element.rel = \"stylesheet\";\n",
       "      element.type = \"text/css\";\n",
       "      element.href = url;\n",
       "      console.debug(\"Bokeh: injecting link tag for BokehJS stylesheet: \", url);\n",
       "      document.body.appendChild(element);\n",
       "    }\n",
       "\n",
       "    for (let i = 0; i < js_urls.length; i++) {\n",
       "      const url = js_urls[i];\n",
       "      const element = document.createElement('script');\n",
       "      element.onload = on_load;\n",
       "      element.onerror = on_error.bind(null, url);\n",
       "      element.async = false;\n",
       "      element.src = url;\n",
       "      console.debug(\"Bokeh: injecting script tag for BokehJS library: \", url);\n",
       "      document.head.appendChild(element);\n",
       "    }\n",
       "  };\n",
       "\n",
       "  function inject_raw_css(css) {\n",
       "    const element = document.createElement(\"style\");\n",
       "    element.appendChild(document.createTextNode(css));\n",
       "    document.body.appendChild(element);\n",
       "  }\n",
       "\n",
       "  \n",
       "  const js_urls = [\"https://cdn.bokeh.org/bokeh/release/bokeh-2.4.0.min.js\", \"https://cdn.bokeh.org/bokeh/release/bokeh-gl-2.4.0.min.js\", \"https://cdn.bokeh.org/bokeh/release/bokeh-widgets-2.4.0.min.js\", \"https://cdn.bokeh.org/bokeh/release/bokeh-tables-2.4.0.min.js\", \"https://cdn.bokeh.org/bokeh/release/bokeh-mathjax-2.4.0.min.js\"];\n",
       "  const css_urls = [];\n",
       "  \n",
       "\n",
       "  const inline_js = [\n",
       "    function(Bokeh) {\n",
       "      Bokeh.set_log_level(\"info\");\n",
       "    },\n",
       "    function(Bokeh) {\n",
       "    \n",
       "    \n",
       "    }\n",
       "  ];\n",
       "\n",
       "  function run_inline_js() {\n",
       "    \n",
       "    if (root.Bokeh !== undefined || force === true) {\n",
       "      \n",
       "    for (let i = 0; i < inline_js.length; i++) {\n",
       "      inline_js[i].call(root, root.Bokeh);\n",
       "    }\n",
       "    if (force === true) {\n",
       "        display_loaded();\n",
       "      }} else if (Date.now() < root._bokeh_timeout) {\n",
       "      setTimeout(run_inline_js, 100);\n",
       "    } else if (!root._bokeh_failed_load) {\n",
       "      console.log(\"Bokeh: BokehJS failed to load within specified timeout.\");\n",
       "      root._bokeh_failed_load = true;\n",
       "    } else if (force !== true) {\n",
       "      const cell = $(document.getElementById(\"9249\")).parents('.cell').data().cell;\n",
       "      cell.output_area.append_execute_result(NB_LOAD_WARNING)\n",
       "    }\n",
       "\n",
       "  }\n",
       "\n",
       "  if (root._bokeh_is_loading === 0) {\n",
       "    console.debug(\"Bokeh: BokehJS loaded, going straight to plotting\");\n",
       "    run_inline_js();\n",
       "  } else {\n",
       "    load_libs(css_urls, js_urls, function() {\n",
       "      console.debug(\"Bokeh: BokehJS plotting callback run at\", now());\n",
       "      run_inline_js();\n",
       "    });\n",
       "  }\n",
       "}(window));"
      ],
      "application/vnd.bokehjs_load.v0+json": "\n(function(root) {\n  function now() {\n    return new Date();\n  }\n\n  const force = true;\n\n  if (typeof root._bokeh_onload_callbacks === \"undefined\" || force === true) {\n    root._bokeh_onload_callbacks = [];\n    root._bokeh_is_loading = undefined;\n  }\n\n  \n\n  \n  if (typeof (root._bokeh_timeout) === \"undefined\" || force === true) {\n    root._bokeh_timeout = Date.now() + 5000;\n    root._bokeh_failed_load = false;\n  }\n\n  const NB_LOAD_WARNING = {'data': {'text/html':\n     \"<div style='background-color: #fdd'>\\n\"+\n     \"<p>\\n\"+\n     \"BokehJS does not appear to have successfully loaded. If loading BokehJS from CDN, this \\n\"+\n     \"may be due to a slow or bad network connection. Possible fixes:\\n\"+\n     \"</p>\\n\"+\n     \"<ul>\\n\"+\n     \"<li>re-rerun `output_notebook()` to attempt to load from CDN again, or</li>\\n\"+\n     \"<li>use INLINE resources instead, as so:</li>\\n\"+\n     \"</ul>\\n\"+\n     \"<code>\\n\"+\n     \"from bokeh.resources import INLINE\\n\"+\n     \"output_notebook(resources=INLINE)\\n\"+\n     \"</code>\\n\"+\n     \"</div>\"}};\n\n  function display_loaded() {\n    const el = document.getElementById(\"9249\");\n    if (el != null) {\n      el.textContent = \"BokehJS is loading...\";\n    }\n    if (root.Bokeh !== undefined) {\n      if (el != null) {\n        el.textContent = \"BokehJS \" + root.Bokeh.version + \" successfully loaded.\";\n      }\n    } else if (Date.now() < root._bokeh_timeout) {\n      setTimeout(display_loaded, 100)\n    }\n  }\n\n\n  function run_callbacks() {\n    try {\n      root._bokeh_onload_callbacks.forEach(function(callback) {\n        if (callback != null)\n          callback();\n      });\n    } finally {\n      delete root._bokeh_onload_callbacks\n    }\n    console.debug(\"Bokeh: all callbacks have finished\");\n  }\n\n  function load_libs(css_urls, js_urls, callback) {\n    if (css_urls == null) css_urls = [];\n    if (js_urls == null) js_urls = [];\n\n    root._bokeh_onload_callbacks.push(callback);\n    if (root._bokeh_is_loading > 0) {\n      console.debug(\"Bokeh: BokehJS is being loaded, scheduling callback at\", now());\n      return null;\n    }\n    if (js_urls == null || js_urls.length === 0) {\n      run_callbacks();\n      return null;\n    }\n    console.debug(\"Bokeh: BokehJS not loaded, scheduling load and callback at\", now());\n    root._bokeh_is_loading = css_urls.length + js_urls.length;\n\n    function on_load() {\n      root._bokeh_is_loading--;\n      if (root._bokeh_is_loading === 0) {\n        console.debug(\"Bokeh: all BokehJS libraries/stylesheets loaded\");\n        run_callbacks()\n      }\n    }\n\n    function on_error(url) {\n      console.error(\"failed to load \" + url);\n    }\n\n    for (let i = 0; i < css_urls.length; i++) {\n      const url = css_urls[i];\n      const element = document.createElement(\"link\");\n      element.onload = on_load;\n      element.onerror = on_error.bind(null, url);\n      element.rel = \"stylesheet\";\n      element.type = \"text/css\";\n      element.href = url;\n      console.debug(\"Bokeh: injecting link tag for BokehJS stylesheet: \", url);\n      document.body.appendChild(element);\n    }\n\n    for (let i = 0; i < js_urls.length; i++) {\n      const url = js_urls[i];\n      const element = document.createElement('script');\n      element.onload = on_load;\n      element.onerror = on_error.bind(null, url);\n      element.async = false;\n      element.src = url;\n      console.debug(\"Bokeh: injecting script tag for BokehJS library: \", url);\n      document.head.appendChild(element);\n    }\n  };\n\n  function inject_raw_css(css) {\n    const element = document.createElement(\"style\");\n    element.appendChild(document.createTextNode(css));\n    document.body.appendChild(element);\n  }\n\n  \n  const js_urls = [\"https://cdn.bokeh.org/bokeh/release/bokeh-2.4.0.min.js\", \"https://cdn.bokeh.org/bokeh/release/bokeh-gl-2.4.0.min.js\", \"https://cdn.bokeh.org/bokeh/release/bokeh-widgets-2.4.0.min.js\", \"https://cdn.bokeh.org/bokeh/release/bokeh-tables-2.4.0.min.js\", \"https://cdn.bokeh.org/bokeh/release/bokeh-mathjax-2.4.0.min.js\"];\n  const css_urls = [];\n  \n\n  const inline_js = [\n    function(Bokeh) {\n      Bokeh.set_log_level(\"info\");\n    },\n    function(Bokeh) {\n    \n    \n    }\n  ];\n\n  function run_inline_js() {\n    \n    if (root.Bokeh !== undefined || force === true) {\n      \n    for (let i = 0; i < inline_js.length; i++) {\n      inline_js[i].call(root, root.Bokeh);\n    }\n    if (force === true) {\n        display_loaded();\n      }} else if (Date.now() < root._bokeh_timeout) {\n      setTimeout(run_inline_js, 100);\n    } else if (!root._bokeh_failed_load) {\n      console.log(\"Bokeh: BokehJS failed to load within specified timeout.\");\n      root._bokeh_failed_load = true;\n    } else if (force !== true) {\n      const cell = $(document.getElementById(\"9249\")).parents('.cell').data().cell;\n      cell.output_area.append_execute_result(NB_LOAD_WARNING)\n    }\n\n  }\n\n  if (root._bokeh_is_loading === 0) {\n    console.debug(\"Bokeh: BokehJS loaded, going straight to plotting\");\n    run_inline_js();\n  } else {\n    load_libs(css_urls, js_urls, function() {\n      console.debug(\"Bokeh: BokehJS plotting callback run at\", now());\n      run_inline_js();\n    });\n  }\n}(window));"
     },
     "metadata": {},
     "output_type": "display_data"
    }
   ],
   "source": [
    "import bokeh.io\n",
    "bokeh.io.output_notebook()"
   ]
  },
  {
   "cell_type": "markdown",
   "metadata": {
    "id": "hBzDZIgYLhww"
   },
   "source": [
    "## Load the dataset"
   ]
  },
  {
   "cell_type": "markdown",
   "metadata": {},
   "source": [
    "The command below reads the data directly from the online repository, without needing to download it first. However, you can still decide to download the dataset locally from <a href='https://pf6plus.cog.sanger.ac.uk/pf6plus_metadata.tsv' download='pf6plus_metadata.tsv'>https://pf6plus.cog.sanger.ac.uk/pf6plus_metadata.tsv</a> and modify the line below to point to the correct location."
   ]
  },
  {
   "cell_type": "code",
   "execution_count": 68,
   "metadata": {
    "id": "5YtEojf3h1aa"
   },
   "outputs": [],
   "source": [
    "# URL of the dataset; change accordingly if you prefer to work from a local, offline copy\n",
    "pf6plus_fn = 'https://pf6plus.cog.sanger.ac.uk/pf6plus_metadata.tsv'\n",
    "\n",
    "# Read the dataset\n",
    "pf6plus_all = pd.read_csv(pf6plus_fn, sep='\\t', index_col=0, low_memory=False)"
   ]
  },
  {
   "cell_type": "markdown",
   "metadata": {
    "id": "19UZh0HwGaGf"
   },
   "source": [
    "Next, we filter out the samples which have `IncludeInAnalysis` set to `True`. This will retain only high-quality samples (from WGS, AmpSeq and Agena). "
   ]
  },
  {
   "cell_type": "code",
   "execution_count": 69,
   "metadata": {
    "id": "8RZWxqI4GaGf"
   },
   "outputs": [],
   "source": [
    "pf6plus = pf6plus_all.loc[pf6plus_all['IncludeInAnalysis']]"
   ]
  },
  {
   "cell_type": "markdown",
   "metadata": {},
   "source": [
    "---"
   ]
  },
  {
   "cell_type": "markdown",
   "metadata": {
    "id": "bSIZ8c5Nm7zT"
   },
   "source": [
    "## Prevalence of drug resistance\n",
    "Each sample is classified into `Resistant`, `Sensitive`, or `Undetermined` for the eight major antimalarial drugs or combination therapies, based on well-recognised markers of resistance. Details of the methods can be found in the Pf6 and GenRe-Mekong publications.\n",
    "\n",
    "The next sections show some of the utility functions available to explore these data. You can also use these functions to analyse your own data and the next notebook (called Phenotyper) will show how to do that.\n",
    "\n",
    "In interpreting these results, keep in mind that the number of samples collected across different locations in different years varies widely in the data resource. To minimise some of the biases, in the plots shown below a threshold is set to only include country (or) population/year combinations with `n_samples > 25`. You can change this default value by using the `threshold` flag, but please be cautious. Also keep in mind that the epidemiological context of each individual study varies a lot, so not all aggregations are equally meaningful."
   ]
  },
  {
   "cell_type": "markdown",
   "metadata": {
    "id": "HeFiSjigZJmp"
   },
   "source": [
    "### Tabulate prevalence of drug resistance\n",
    "To start exploring the dataset we can tabulate different combinations of drugs in different countries and years. Let's imagine we are particularly interested in sulfadoxine-pyrimethamine resistance (`S-P`) and want to know its prevalence in all sampled countries within `pf6plus`. The method `value_counts()` from the the Python library `pandas` is particularly useful:"
   ]
  },
  {
   "cell_type": "code",
   "execution_count": 71,
   "metadata": {
    "scrolled": true
   },
   "outputs": [
    {
     "data": {
      "text/plain": [
       "Resistant       8564\n",
       "Sensitive       2862\n",
       "Undetermined    2170\n",
       "Name: S-P, dtype: int64"
      ]
     },
     "execution_count": 71,
     "metadata": {},
     "output_type": "execute_result"
    }
   ],
   "source": [
    "pf6plus['S-P'].value_counts()"
   ]
  },
  {
   "cell_type": "markdown",
   "metadata": {},
   "source": [
    "We can see here that the vast majority of the ~13,000 high-quality samples in `pf6plus` are **resistant** to `S-P`."
   ]
  },
  {
   "cell_type": "markdown",
   "metadata": {},
   "source": [
    "We could then decide to focus on one specific country, in this case we will look at Ghana:"
   ]
  },
  {
   "cell_type": "code",
   "execution_count": 73,
   "metadata": {
    "scrolled": true
   },
   "outputs": [
    {
     "data": {
      "text/plain": [
       "Resistant       440\n",
       "Undetermined    212\n",
       "Sensitive       199\n",
       "Name: S-P, dtype: int64"
      ]
     },
     "execution_count": 73,
     "metadata": {},
     "output_type": "execute_result"
    }
   ],
   "source": [
    "pf6plus[pf6plus['Country']=='Ghana']['S-P'].value_counts()"
   ]
  },
  {
   "cell_type": "markdown",
   "metadata": {},
   "source": [
    "If we exclude the `212` `Undetermined` samples, we see that `440` out of `639` (`440` resistant and `199` sensitive) samples from Ghana (or 69%) are classified as resistant to S-P according to their genetic status.\n",
    "\n",
    "While we could build more complex expressions to, for example, stratify by year, analyse multiple countries, etc, the function `tabulate_drug_resistant` simplifies it a lot:"
   ]
  },
  {
   "cell_type": "code",
   "execution_count": 76,
   "metadata": {
    "colab": {
     "base_uri": "https://localhost:8080/"
    },
    "id": "EPLoyjBeGTjQ",
    "outputId": "4a8a11b6-10b8-499b-aa16-432993c2549d",
    "scrolled": false
   },
   "outputs": [
    {
     "name": "stdout",
     "output_type": "stream",
     "text": [
      "Help on function tabulate_drug_resistant in module data_analysis.tabulate_drug_resistance:\n",
      "\n",
      "tabulate_drug_resistant(data, drug, country=None, population=None, years=None, bin=False)\n",
      "    Tabulate the frequency of drug resistant samples per country/year\n",
      "    \n",
      "    Parameters:\n",
      "      - drug: Any of the drugs in the Pf6+ dataframe ['Artemisinin', 'Chloroquine', 'DHA-PPQ', 'Piperaquine', 'Pyrimethamine', 'S-P', 'S-P-IPTp', 'Sulfadoxine']\n",
      "      - country: Any of the countries in the Pf6+ dataframe (if specified, population value is not used) ['Bangladesh', 'Benin', 'Burkina Faso', 'Cambodia', 'Cameroon',\n",
      "       'Colombia', \"Côte d'Ivoire\", 'Democratic Republic of the Congo',\n",
      "       'Ethiopia', 'Gambia', 'Ghana', 'Guinea', 'India', 'Indonesia',\n",
      "       'Kenya', 'Laos', 'Madagascar', 'Malawi', 'Mali', 'Mauritania',\n",
      "       'Mozambique', 'Myanmar', 'Nigeria', 'Papua New Guinea', 'Peru',\n",
      "       'Senegal', 'Tanzania', 'Thailand', 'Uganda', 'Vietnam']\n",
      "      - population: Any of the populations in the Pf6+ dataframe ['CAF', 'EAF', 'ESEA', 'OCE', 'SAM', 'SAS', 'WAF', 'WSEA']\n",
      "      - years: An array with the year(s) in the Pf6+ dataframe [2001, 2002, 2003, 2004, 2005, 2006, 2007, 2008, 2009, 2010, 2011, 2012, 2013, 2014, 2015, 2016, 2017, 2018, 2019]\n",
      "      - bin: If True, all the years between the specified values will be used. If False, individual years are used.\n",
      "    \n",
      "    Returns:\n",
      "      A dataframe showing the number of Resistant, Sensitive & Undetermined\n",
      "      samples using the drug/country/year (or) drug/country/year combination provided. . The total number\n",
      "      of samples and drug resistant frequency is also provided.\n",
      "\n"
     ]
    }
   ],
   "source": [
    "# use help(name_of_function) to access the documentation notes\n",
    "help(tabulate_drug_resistant)"
   ]
  },
  {
   "cell_type": "code",
   "execution_count": 77,
   "metadata": {
    "colab": {
     "base_uri": "https://localhost:8080/",
     "height": 810
    },
    "id": "xr8O3-Yq_N6s",
    "outputId": "81ec813f-2738-4d11-a746-626b68518008"
   },
   "outputs": [
    {
     "name": "stdout",
     "output_type": "stream",
     "text": [
      "S-P resistant samples \n"
     ]
    },
    {
     "data": {
      "text/html": [
       "<div>\n",
       "<style scoped>\n",
       "    .dataframe tbody tr th:only-of-type {\n",
       "        vertical-align: middle;\n",
       "    }\n",
       "\n",
       "    .dataframe tbody tr th {\n",
       "        vertical-align: top;\n",
       "    }\n",
       "\n",
       "    .dataframe thead th {\n",
       "        text-align: right;\n",
       "    }\n",
       "</style>\n",
       "<table border=\"1\" class=\"dataframe\">\n",
       "  <thead>\n",
       "    <tr style=\"text-align: right;\">\n",
       "      <th>S-P</th>\n",
       "      <th>Resistant</th>\n",
       "      <th>Sensitive</th>\n",
       "      <th>Undetermined</th>\n",
       "      <th>Total</th>\n",
       "      <th>Resistant Frequency</th>\n",
       "    </tr>\n",
       "    <tr>\n",
       "      <th>Country</th>\n",
       "      <th></th>\n",
       "      <th></th>\n",
       "      <th></th>\n",
       "      <th></th>\n",
       "      <th></th>\n",
       "    </tr>\n",
       "  </thead>\n",
       "  <tbody>\n",
       "    <tr>\n",
       "      <th>Bangladesh</th>\n",
       "      <td>715</td>\n",
       "      <td>834</td>\n",
       "      <td>221</td>\n",
       "      <td>1770</td>\n",
       "      <td>0.46</td>\n",
       "    </tr>\n",
       "    <tr>\n",
       "      <th>Benin</th>\n",
       "      <td>34</td>\n",
       "      <td>1</td>\n",
       "      <td>1</td>\n",
       "      <td>36</td>\n",
       "      <td>0.97</td>\n",
       "    </tr>\n",
       "    <tr>\n",
       "      <th>Burkina Faso</th>\n",
       "      <td>10</td>\n",
       "      <td>27</td>\n",
       "      <td>19</td>\n",
       "      <td>56</td>\n",
       "      <td>0.27</td>\n",
       "    </tr>\n",
       "    <tr>\n",
       "      <th>Cambodia</th>\n",
       "      <td>1697</td>\n",
       "      <td>96</td>\n",
       "      <td>82</td>\n",
       "      <td>1875</td>\n",
       "      <td>0.95</td>\n",
       "    </tr>\n",
       "    <tr>\n",
       "      <th>Cameroon</th>\n",
       "      <td>230</td>\n",
       "      <td>2</td>\n",
       "      <td>3</td>\n",
       "      <td>235</td>\n",
       "      <td>0.99</td>\n",
       "    </tr>\n",
       "    <tr>\n",
       "      <th>Colombia</th>\n",
       "      <td>0</td>\n",
       "      <td>16</td>\n",
       "      <td>0</td>\n",
       "      <td>16</td>\n",
       "      <td>0.00</td>\n",
       "    </tr>\n",
       "    <tr>\n",
       "      <th>Côte d'Ivoire</th>\n",
       "      <td>34</td>\n",
       "      <td>28</td>\n",
       "      <td>8</td>\n",
       "      <td>70</td>\n",
       "      <td>0.55</td>\n",
       "    </tr>\n",
       "    <tr>\n",
       "      <th>Democratic Republic of the Congo</th>\n",
       "      <td>268</td>\n",
       "      <td>55</td>\n",
       "      <td>141</td>\n",
       "      <td>464</td>\n",
       "      <td>0.83</td>\n",
       "    </tr>\n",
       "    <tr>\n",
       "      <th>Ethiopia</th>\n",
       "      <td>18</td>\n",
       "      <td>2</td>\n",
       "      <td>1</td>\n",
       "      <td>21</td>\n",
       "      <td>0.90</td>\n",
       "    </tr>\n",
       "    <tr>\n",
       "      <th>Gambia</th>\n",
       "      <td>182</td>\n",
       "      <td>25</td>\n",
       "      <td>12</td>\n",
       "      <td>219</td>\n",
       "      <td>0.88</td>\n",
       "    </tr>\n",
       "    <tr>\n",
       "      <th>Ghana</th>\n",
       "      <td>440</td>\n",
       "      <td>199</td>\n",
       "      <td>212</td>\n",
       "      <td>851</td>\n",
       "      <td>0.69</td>\n",
       "    </tr>\n",
       "    <tr>\n",
       "      <th>Guinea</th>\n",
       "      <td>108</td>\n",
       "      <td>18</td>\n",
       "      <td>23</td>\n",
       "      <td>149</td>\n",
       "      <td>0.86</td>\n",
       "    </tr>\n",
       "    <tr>\n",
       "      <th>India</th>\n",
       "      <td>46</td>\n",
       "      <td>229</td>\n",
       "      <td>5</td>\n",
       "      <td>280</td>\n",
       "      <td>0.17</td>\n",
       "    </tr>\n",
       "    <tr>\n",
       "      <th>Indonesia</th>\n",
       "      <td>0</td>\n",
       "      <td>80</td>\n",
       "      <td>0</td>\n",
       "      <td>80</td>\n",
       "      <td>0.00</td>\n",
       "    </tr>\n",
       "    <tr>\n",
       "      <th>Kenya</th>\n",
       "      <td>86</td>\n",
       "      <td>17</td>\n",
       "      <td>7</td>\n",
       "      <td>110</td>\n",
       "      <td>0.83</td>\n",
       "    </tr>\n",
       "    <tr>\n",
       "      <th>Laos</th>\n",
       "      <td>730</td>\n",
       "      <td>493</td>\n",
       "      <td>295</td>\n",
       "      <td>1518</td>\n",
       "      <td>0.60</td>\n",
       "    </tr>\n",
       "    <tr>\n",
       "      <th>Madagascar</th>\n",
       "      <td>17</td>\n",
       "      <td>7</td>\n",
       "      <td>0</td>\n",
       "      <td>24</td>\n",
       "      <td>0.71</td>\n",
       "    </tr>\n",
       "    <tr>\n",
       "      <th>Malawi</th>\n",
       "      <td>243</td>\n",
       "      <td>3</td>\n",
       "      <td>8</td>\n",
       "      <td>254</td>\n",
       "      <td>0.99</td>\n",
       "    </tr>\n",
       "    <tr>\n",
       "      <th>Mali</th>\n",
       "      <td>193</td>\n",
       "      <td>142</td>\n",
       "      <td>91</td>\n",
       "      <td>426</td>\n",
       "      <td>0.58</td>\n",
       "    </tr>\n",
       "    <tr>\n",
       "      <th>Mauritania</th>\n",
       "      <td>47</td>\n",
       "      <td>20</td>\n",
       "      <td>9</td>\n",
       "      <td>76</td>\n",
       "      <td>0.70</td>\n",
       "    </tr>\n",
       "    <tr>\n",
       "      <th>Mozambique</th>\n",
       "      <td>1</td>\n",
       "      <td>0</td>\n",
       "      <td>0</td>\n",
       "      <td>1</td>\n",
       "      <td>1.00</td>\n",
       "    </tr>\n",
       "    <tr>\n",
       "      <th>Myanmar</th>\n",
       "      <td>581</td>\n",
       "      <td>224</td>\n",
       "      <td>355</td>\n",
       "      <td>1160</td>\n",
       "      <td>0.72</td>\n",
       "    </tr>\n",
       "    <tr>\n",
       "      <th>Nigeria</th>\n",
       "      <td>27</td>\n",
       "      <td>2</td>\n",
       "      <td>0</td>\n",
       "      <td>29</td>\n",
       "      <td>0.93</td>\n",
       "    </tr>\n",
       "    <tr>\n",
       "      <th>Papua New Guinea</th>\n",
       "      <td>0</td>\n",
       "      <td>121</td>\n",
       "      <td>0</td>\n",
       "      <td>121</td>\n",
       "      <td>0.00</td>\n",
       "    </tr>\n",
       "    <tr>\n",
       "      <th>Peru</th>\n",
       "      <td>0</td>\n",
       "      <td>21</td>\n",
       "      <td>0</td>\n",
       "      <td>21</td>\n",
       "      <td>0.00</td>\n",
       "    </tr>\n",
       "    <tr>\n",
       "      <th>Senegal</th>\n",
       "      <td>76</td>\n",
       "      <td>6</td>\n",
       "      <td>2</td>\n",
       "      <td>84</td>\n",
       "      <td>0.93</td>\n",
       "    </tr>\n",
       "    <tr>\n",
       "      <th>Tanzania</th>\n",
       "      <td>256</td>\n",
       "      <td>31</td>\n",
       "      <td>29</td>\n",
       "      <td>316</td>\n",
       "      <td>0.89</td>\n",
       "    </tr>\n",
       "    <tr>\n",
       "      <th>Thailand</th>\n",
       "      <td>905</td>\n",
       "      <td>69</td>\n",
       "      <td>45</td>\n",
       "      <td>1019</td>\n",
       "      <td>0.93</td>\n",
       "    </tr>\n",
       "    <tr>\n",
       "      <th>Uganda</th>\n",
       "      <td>11</td>\n",
       "      <td>1</td>\n",
       "      <td>1</td>\n",
       "      <td>13</td>\n",
       "      <td>0.92</td>\n",
       "    </tr>\n",
       "    <tr>\n",
       "      <th>Vietnam</th>\n",
       "      <td>1609</td>\n",
       "      <td>93</td>\n",
       "      <td>600</td>\n",
       "      <td>2302</td>\n",
       "      <td>0.95</td>\n",
       "    </tr>\n",
       "  </tbody>\n",
       "</table>\n",
       "</div>"
      ],
      "text/plain": [
       "S-P                               Resistant  Sensitive  Undetermined  Total  \\\n",
       "Country                                                                       \n",
       "Bangladesh                              715        834           221   1770   \n",
       "Benin                                    34          1             1     36   \n",
       "Burkina Faso                             10         27            19     56   \n",
       "Cambodia                               1697         96            82   1875   \n",
       "Cameroon                                230          2             3    235   \n",
       "Colombia                                  0         16             0     16   \n",
       "Côte d'Ivoire                            34         28             8     70   \n",
       "Democratic Republic of the Congo        268         55           141    464   \n",
       "Ethiopia                                 18          2             1     21   \n",
       "Gambia                                  182         25            12    219   \n",
       "Ghana                                   440        199           212    851   \n",
       "Guinea                                  108         18            23    149   \n",
       "India                                    46        229             5    280   \n",
       "Indonesia                                 0         80             0     80   \n",
       "Kenya                                    86         17             7    110   \n",
       "Laos                                    730        493           295   1518   \n",
       "Madagascar                               17          7             0     24   \n",
       "Malawi                                  243          3             8    254   \n",
       "Mali                                    193        142            91    426   \n",
       "Mauritania                               47         20             9     76   \n",
       "Mozambique                                1          0             0      1   \n",
       "Myanmar                                 581        224           355   1160   \n",
       "Nigeria                                  27          2             0     29   \n",
       "Papua New Guinea                          0        121             0    121   \n",
       "Peru                                      0         21             0     21   \n",
       "Senegal                                  76          6             2     84   \n",
       "Tanzania                                256         31            29    316   \n",
       "Thailand                                905         69            45   1019   \n",
       "Uganda                                   11          1             1     13   \n",
       "Vietnam                                1609         93           600   2302   \n",
       "\n",
       "S-P                               Resistant Frequency  \n",
       "Country                                                \n",
       "Bangladesh                                       0.46  \n",
       "Benin                                            0.97  \n",
       "Burkina Faso                                     0.27  \n",
       "Cambodia                                         0.95  \n",
       "Cameroon                                         0.99  \n",
       "Colombia                                         0.00  \n",
       "Côte d'Ivoire                                    0.55  \n",
       "Democratic Republic of the Congo                 0.83  \n",
       "Ethiopia                                         0.90  \n",
       "Gambia                                           0.88  \n",
       "Ghana                                            0.69  \n",
       "Guinea                                           0.86  \n",
       "India                                            0.17  \n",
       "Indonesia                                        0.00  \n",
       "Kenya                                            0.83  \n",
       "Laos                                             0.60  \n",
       "Madagascar                                       0.71  \n",
       "Malawi                                           0.99  \n",
       "Mali                                             0.58  \n",
       "Mauritania                                       0.70  \n",
       "Mozambique                                       1.00  \n",
       "Myanmar                                          0.72  \n",
       "Nigeria                                          0.93  \n",
       "Papua New Guinea                                 0.00  \n",
       "Peru                                             0.00  \n",
       "Senegal                                          0.93  \n",
       "Tanzania                                         0.89  \n",
       "Thailand                                         0.93  \n",
       "Uganda                                           0.92  \n",
       "Vietnam                                          0.95  "
      ]
     },
     "execution_count": 77,
     "metadata": {},
     "output_type": "execute_result"
    }
   ],
   "source": [
    "tabulate_drug_resistant(pf6plus, 'S-P')"
   ]
  },
  {
   "cell_type": "markdown",
   "metadata": {},
   "source": [
    "The proportion of samples classified as S-P resistant in this dataset seems to be high in the West Africa: has this always been the case? Let's aggregate all samples in this population and stratify by year this time:"
   ]
  },
  {
   "cell_type": "code",
   "execution_count": 78,
   "metadata": {
    "colab": {
     "base_uri": "https://localhost:8080/",
     "height": 128
    },
    "id": "0628dSRW_OEy",
    "outputId": "822450c8-6d97-46ba-82be-b445d031d4ee"
   },
   "outputs": [
    {
     "name": "stdout",
     "output_type": "stream",
     "text": [
      "S-P resistant samples in WAF \n"
     ]
    },
    {
     "data": {
      "text/html": [
       "<div>\n",
       "<style scoped>\n",
       "    .dataframe tbody tr th:only-of-type {\n",
       "        vertical-align: middle;\n",
       "    }\n",
       "\n",
       "    .dataframe tbody tr th {\n",
       "        vertical-align: top;\n",
       "    }\n",
       "\n",
       "    .dataframe thead th {\n",
       "        text-align: right;\n",
       "    }\n",
       "</style>\n",
       "<table border=\"1\" class=\"dataframe\">\n",
       "  <thead>\n",
       "    <tr style=\"text-align: right;\">\n",
       "      <th>S-P</th>\n",
       "      <th>Resistant</th>\n",
       "      <th>Sensitive</th>\n",
       "      <th>Undetermined</th>\n",
       "      <th>Total</th>\n",
       "      <th>Resistant Frequency</th>\n",
       "    </tr>\n",
       "    <tr>\n",
       "      <th>Year</th>\n",
       "      <th></th>\n",
       "      <th></th>\n",
       "      <th></th>\n",
       "      <th></th>\n",
       "      <th></th>\n",
       "    </tr>\n",
       "  </thead>\n",
       "  <tbody>\n",
       "    <tr>\n",
       "      <th>2007</th>\n",
       "      <td>26</td>\n",
       "      <td>35</td>\n",
       "      <td>24</td>\n",
       "      <td>170</td>\n",
       "      <td>0.43</td>\n",
       "    </tr>\n",
       "    <tr>\n",
       "      <th>2008</th>\n",
       "      <td>70</td>\n",
       "      <td>38</td>\n",
       "      <td>21</td>\n",
       "      <td>258</td>\n",
       "      <td>0.65</td>\n",
       "    </tr>\n",
       "    <tr>\n",
       "      <th>2009</th>\n",
       "      <td>51</td>\n",
       "      <td>32</td>\n",
       "      <td>35</td>\n",
       "      <td>236</td>\n",
       "      <td>0.61</td>\n",
       "    </tr>\n",
       "    <tr>\n",
       "      <th>2010</th>\n",
       "      <td>66</td>\n",
       "      <td>45</td>\n",
       "      <td>45</td>\n",
       "      <td>312</td>\n",
       "      <td>0.59</td>\n",
       "    </tr>\n",
       "    <tr>\n",
       "      <th>2011</th>\n",
       "      <td>157</td>\n",
       "      <td>50</td>\n",
       "      <td>42</td>\n",
       "      <td>498</td>\n",
       "      <td>0.76</td>\n",
       "    </tr>\n",
       "    <tr>\n",
       "      <th>2012</th>\n",
       "      <td>51</td>\n",
       "      <td>11</td>\n",
       "      <td>19</td>\n",
       "      <td>162</td>\n",
       "      <td>0.82</td>\n",
       "    </tr>\n",
       "    <tr>\n",
       "      <th>2013</th>\n",
       "      <td>595</td>\n",
       "      <td>169</td>\n",
       "      <td>134</td>\n",
       "      <td>1796</td>\n",
       "      <td>0.78</td>\n",
       "    </tr>\n",
       "    <tr>\n",
       "      <th>2014</th>\n",
       "      <td>336</td>\n",
       "      <td>81</td>\n",
       "      <td>37</td>\n",
       "      <td>908</td>\n",
       "      <td>0.81</td>\n",
       "    </tr>\n",
       "    <tr>\n",
       "      <th>2015</th>\n",
       "      <td>29</td>\n",
       "      <td>9</td>\n",
       "      <td>23</td>\n",
       "      <td>122</td>\n",
       "      <td>0.76</td>\n",
       "    </tr>\n",
       "  </tbody>\n",
       "</table>\n",
       "</div>"
      ],
      "text/plain": [
       "S-P   Resistant  Sensitive  Undetermined  Total  Resistant Frequency\n",
       "Year                                                                \n",
       "2007         26         35            24    170                 0.43\n",
       "2008         70         38            21    258                 0.65\n",
       "2009         51         32            35    236                 0.61\n",
       "2010         66         45            45    312                 0.59\n",
       "2011        157         50            42    498                 0.76\n",
       "2012         51         11            19    162                 0.82\n",
       "2013        595        169           134   1796                 0.78\n",
       "2014        336         81            37    908                 0.81\n",
       "2015         29          9            23    122                 0.76"
      ]
     },
     "execution_count": 78,
     "metadata": {},
     "output_type": "execute_result"
    }
   ],
   "source": [
    "tabulate_drug_resistant(pf6plus, 'S-P', population='WAF')"
   ]
  },
  {
   "cell_type": "markdown",
   "metadata": {
    "id": "ZEbWtLWXO6JS"
   },
   "source": [
    "### Plot prevalence of drug resistance"
   ]
  },
  {
   "cell_type": "markdown",
   "metadata": {},
   "source": [
    "This function explores the frequencies of drug resistant variants within different spatial (country/analysis population) and temporal (year) combinations. This is quite a useful way of visualising time series data in geographic regions & years of interest.\n",
    "\n",
    "You can also hover over the data points to see the specific numbers being plotted, and zoom in and out to change the scale."
   ]
  },
  {
   "cell_type": "code",
   "execution_count": 79,
   "metadata": {
    "colab": {
     "base_uri": "https://localhost:8080/"
    },
    "id": "YZhavFFM1Qwx",
    "outputId": "63f8b276-9672-43cb-ac99-02faa67adfaa",
    "scrolled": false
   },
   "outputs": [
    {
     "name": "stdout",
     "output_type": "stream",
     "text": [
      "Help on function plot_dr_prevalence in module data_analysis.plot_dr_prevalence:\n",
      "\n",
      "plot_dr_prevalence(data, drugs, country=None, population=None, years=None, bin=False, threshold=25)\n",
      "    Plot the prevalence of resistant samples per country/year\n",
      "    \n",
      "    Parameters:\n",
      "      - drug: Any/list of the drugs in the Pf6+ dataframe ['Artemisinin', 'Chloroquine', 'DHA-PPQ', 'Piperaquine', 'Pyrimethamine', 'S-P', 'S-P-IPTp', 'Sulfadoxine']\n",
      "      - country: Any of the countries in the Pf6+ dataframe (if specified, population value is not used) ['Bangladesh', 'Benin', 'Burkina Faso', 'Cambodia', 'Cameroon',\n",
      "       'Colombia', \"Côte d'Ivoire\", 'Democratic Republic of the Congo',\n",
      "       'Ethiopia', 'Gambia', 'Ghana', 'Guinea', 'India', 'Indonesia',\n",
      "       'Kenya', 'Laos', 'Madagascar', 'Malawi', 'Mali', 'Mauritania',\n",
      "       'Mozambique', 'Myanmar', 'Nigeria', 'Papua New Guinea', 'Peru',\n",
      "       'Senegal', 'Tanzania', 'Thailand', 'Uganda', 'Vietnam']\n",
      "      - population: Any of the populations in the Pf6+ dataframe ['CAF', 'EAF', 'ESEA', 'OCE', 'SAM', 'SAS', 'WAF', 'WSEA']\n",
      "      - year: Any/list of the years in the Pf6+ dataframe [2001, 2002, 2003, 2004, 2005, 2006, 2007, 2008, 2009, 2010, 2011, 2012, 2013, 2014, 2015, 2016, 2017, 2018, 2019]\n",
      "      - bin: If True, all the years between the specified values will be used. If False, individual years are used.\n",
      "      - threshold: To increase confidence on disperse data, only use country (or) population/year combinations with n_samples>threshold (default=25)\n",
      "    \n",
      "    Returns:\n",
      "      A series of plots (one per drug) showing the prevalence of resistant variants the drug/country/year (or) drug/country/year combination provided.\n",
      "\n"
     ]
    }
   ],
   "source": [
    "help(plot_dr_prevalence)"
   ]
  },
  {
   "cell_type": "markdown",
   "metadata": {},
   "source": [
    "We can continue by exploring prevalance patterns specific to West Africa, by looking at the information available for specific drugs in Ghana. By comparing an individual country versus the analysis population's average, we can make it easier to spot different trends emerging in the data. "
   ]
  },
  {
   "cell_type": "code",
   "execution_count": 80,
   "metadata": {
    "colab": {
     "base_uri": "https://localhost:8080/",
     "height": 898
    },
    "id": "ItGBPFS0GSJu",
    "outputId": "816f82e4-8b7d-45da-ace6-b752a6c81449",
    "scrolled": false
   },
   "outputs": [
    {
     "name": "stderr",
     "output_type": "stream",
     "text": [
      "/Users/ra4/Documents/GitHub/Pf6plus/pf6plus_documentation/notebooks/data_analysis/plot_dr_prevalence.py:37: RuntimeWarning: invalid value encountered in long_scalars\n",
      "  round(row[0] / (row[0] + row[1]), 2)\n",
      "BokehDeprecationWarning: plot_width and plot_height was deprecated in Bokeh 2.4.0 and will be removed, use width or height instead.\n"
     ]
    },
    {
     "data": {
      "text/html": [
       "\n",
       "\n",
       "\n",
       "\n",
       "\n",
       "\n",
       "  <div class=\"bk-root\" id=\"da14deae-473f-4472-914c-9dbea5eda1d7\" data-root-id=\"9453\"></div>\n"
      ]
     },
     "metadata": {},
     "output_type": "display_data"
    },
    {
     "data": {
      "application/javascript": [
       "(function(root) {\n",
       "  function embed_document(root) {\n",
       "    \n",
       "  const docs_json = {\"1366b20f-6f8c-4f0e-86a4-27e32fc9d848\":{\"defs\":[],\"roots\":{\"references\":[{\"attributes\":{\"children\":[{\"id\":\"9452\"},{\"id\":\"9450\"}]},\"id\":\"9453\",\"type\":\"Column\"},{\"attributes\":{\"source\":{\"id\":\"9368\"}},\"id\":\"9392\",\"type\":\"CDSView\"},{\"attributes\":{\"toolbar\":{\"id\":\"9451\"},\"toolbar_location\":\"above\"},\"id\":\"9452\",\"type\":\"ToolbarBox\"},{\"attributes\":{\"fill_alpha\":{\"value\":0.1},\"fill_color\":{\"value\":\"#1f77b4\"},\"hatch_alpha\":{\"value\":0.1},\"hatch_color\":{\"value\":\"#1f77b4\"},\"line_alpha\":{\"value\":0.1},\"line_color\":{\"value\":\"#1f77b4\"},\"size\":{\"value\":10},\"x\":{\"field\":\"Year\"},\"y\":{\"field\":\"Data\"}},\"id\":\"9389\",\"type\":\"Circle\"},{\"attributes\":{\"callback\":null},\"id\":\"9360\",\"type\":\"TapTool\"},{\"attributes\":{\"fill_alpha\":{\"value\":0.2},\"fill_color\":{\"value\":\"#1f77b4\"},\"hatch_alpha\":{\"value\":0.2},\"hatch_color\":{\"value\":\"#1f77b4\"},\"line_alpha\":{\"value\":0.2},\"line_color\":{\"value\":\"#1f77b4\"},\"size\":{\"value\":10},\"x\":{\"field\":\"Year\"},\"y\":{\"field\":\"Data\"}},\"id\":\"9390\",\"type\":\"Circle\"},{\"attributes\":{},\"id\":\"9356\",\"type\":\"PanTool\"},{\"attributes\":{},\"id\":\"9377\",\"type\":\"BasicTickFormatter\"},{\"attributes\":{},\"id\":\"9378\",\"type\":\"AllLabels\"},{\"attributes\":{},\"id\":\"9359\",\"type\":\"ResetTool\"},{\"attributes\":{},\"id\":\"9380\",\"type\":\"BasicTickFormatter\"},{\"attributes\":{\"bottom_units\":\"screen\",\"coordinates\":null,\"fill_alpha\":0.5,\"fill_color\":\"lightgrey\",\"group\":null,\"left_units\":\"screen\",\"level\":\"overlay\",\"line_alpha\":1.0,\"line_color\":\"black\",\"line_dash\":[4,4],\"line_width\":2,\"right_units\":\"screen\",\"syncable\":false,\"top_units\":\"screen\"},\"id\":\"9361\",\"type\":\"BoxAnnotation\"},{\"attributes\":{},\"id\":\"9381\",\"type\":\"AllLabels\"},{\"attributes\":{\"coordinates\":null,\"data_source\":{\"id\":\"9395\"},\"glyph\":{\"id\":\"9416\"},\"group\":null,\"hover_glyph\":null,\"muted_glyph\":{\"id\":\"9418\"},\"nonselection_glyph\":{\"id\":\"9417\"},\"view\":{\"id\":\"9420\"}},\"id\":\"9419\",\"type\":\"GlyphRenderer\"},{\"attributes\":{\"overlay\":{\"id\":\"9361\"}},\"id\":\"9358\",\"type\":\"BoxZoomTool\"},{\"attributes\":{\"callback\":null,\"renderers\":[{\"id\":\"9391\"}],\"tooltips\":[[\"(x,y)\",\"(@Year,@Data)\"]]},\"id\":\"9393\",\"type\":\"HoverTool\"},{\"attributes\":{\"coordinates\":null,\"group\":null,\"text\":\"(2007-2015)\"},\"id\":\"9423\",\"type\":\"Title\"},{\"attributes\":{},\"id\":\"9382\",\"type\":\"UnionRenderers\"},{\"attributes\":{\"above\":[{\"id\":\"9423\"}],\"below\":[{\"id\":\"9348\"}],\"center\":[{\"id\":\"9351\"},{\"id\":\"9355\"},{\"id\":\"9385\"}],\"height\":400,\"left\":[{\"id\":\"9352\"}],\"renderers\":[{\"id\":\"9373\"},{\"id\":\"9391\"},{\"id\":\"9400\"},{\"id\":\"9419\"}],\"title\":{\"id\":\"9338\"},\"toolbar\":{\"id\":\"9362\"},\"toolbar_location\":null,\"width\":400,\"x_range\":{\"id\":\"9340\"},\"x_scale\":{\"id\":\"9344\"},\"y_range\":{\"id\":\"9342\"},\"y_scale\":{\"id\":\"9346\"}},\"id\":\"9337\",\"subtype\":\"Figure\",\"type\":\"Plot\"},{\"attributes\":{},\"id\":\"9411\",\"type\":\"UnionRenderers\"},{\"attributes\":{},\"id\":\"9383\",\"type\":\"Selection\"},{\"attributes\":{},\"id\":\"9412\",\"type\":\"Selection\"},{\"attributes\":{\"line_alpha\":0.2,\"line_color\":\"#ff7f0e\",\"line_width\":2,\"x\":{\"field\":\"Year\"},\"y\":{\"field\":\"Data\"}},\"id\":\"9399\",\"type\":\"Line\"},{\"attributes\":{\"callback\":null},\"id\":\"9273\",\"type\":\"TapTool\"},{\"attributes\":{},\"id\":\"9357\",\"type\":\"WheelZoomTool\"},{\"attributes\":{\"active_drag\":{\"id\":\"9269\"},\"active_scroll\":{\"id\":\"9270\"},\"tools\":[{\"id\":\"9269\"},{\"id\":\"9270\"},{\"id\":\"9271\"},{\"id\":\"9272\"},{\"id\":\"9273\"},{\"id\":\"9306\"},{\"id\":\"9334\"}]},\"id\":\"9275\",\"type\":\"Toolbar\"},{\"attributes\":{\"data\":{\"Data\":{\"__ndarray__\":\"UrgehetR2D8K16NwPQrHPzMzMzMzM8M/uB6F61G4rj97FK5H4XqkPzMzMzMzM9M/AAAAAAAAAAA=\",\"dtype\":\"float64\",\"order\":\"little\",\"shape\":[7]},\"Year\":[2009,2010,2011,2012,2013,2014,2015]},\"selected\":{\"id\":\"9383\"},\"selection_policy\":{\"id\":\"9382\"}},\"id\":\"9368\",\"type\":\"ColumnDataSource\"},{\"attributes\":{},\"id\":\"9342\",\"type\":\"Range1d\"},{\"attributes\":{\"label\":{\"value\":\"Prevalence Ghana\"},\"renderers\":[{\"id\":\"9286\"}]},\"id\":\"9299\",\"type\":\"LegendItem\"},{\"attributes\":{\"coordinates\":null,\"data_source\":{\"id\":\"9281\"},\"glyph\":{\"id\":\"9283\"},\"group\":null,\"hover_glyph\":null,\"muted_glyph\":{\"id\":\"9285\"},\"nonselection_glyph\":{\"id\":\"9284\"},\"view\":{\"id\":\"9287\"}},\"id\":\"9286\",\"type\":\"GlyphRenderer\"},{\"attributes\":{\"end\":2019,\"start\":2001},\"id\":\"9253\",\"type\":\"Range1d\"},{\"attributes\":{\"active_drag\":{\"id\":\"9356\"},\"active_scroll\":{\"id\":\"9357\"},\"tools\":[{\"id\":\"9356\"},{\"id\":\"9357\"},{\"id\":\"9358\"},{\"id\":\"9359\"},{\"id\":\"9360\"},{\"id\":\"9393\"},{\"id\":\"9421\"}]},\"id\":\"9362\",\"type\":\"Toolbar\"},{\"attributes\":{\"line_alpha\":0.1,\"line_color\":\"#ff7f0e\",\"line_width\":2,\"x\":{\"field\":\"Year\"},\"y\":{\"field\":\"Data\"}},\"id\":\"9398\",\"type\":\"Line\"},{\"attributes\":{\"data\":{\"Data\":{\"__ndarray__\":\"hetRuB6F2z/NzMzMzMzkP4XrUbgehes/AAAAAAAA8D/sUbgehevpP/YoXI/C9eg/\",\"dtype\":\"float64\",\"order\":\"little\",\"shape\":[6]},\"Year\":[2007,2008,2011,2012,2013,2014]},\"selected\":{\"id\":\"9325\"},\"selection_policy\":{\"id\":\"9324\"}},\"id\":\"9308\",\"type\":\"ColumnDataSource\"},{\"attributes\":{\"line_color\":\"#ff7f0e\",\"line_width\":2,\"x\":{\"field\":\"Year\"},\"y\":{\"field\":\"Data\"}},\"id\":\"9310\",\"type\":\"Line\"},{\"attributes\":{\"data\":{\"Data\":{\"__ndarray__\":\"KVyPwvUo5D+F61G4HoXjP2ZmZmZmZuY/AAAAAAAA8D9SuB6F61HgPylcj8L1KOQ/\",\"dtype\":\"float64\",\"order\":\"little\",\"shape\":[6]},\"Year\":[2007,2008,2011,2012,2013,2014]},\"selected\":{\"id\":\"9412\"},\"selection_policy\":{\"id\":\"9411\"}},\"id\":\"9395\",\"type\":\"ColumnDataSource\"},{\"attributes\":{\"end\":2019,\"start\":2001},\"id\":\"9340\",\"type\":\"Range1d\"},{\"attributes\":{\"background_fill_alpha\":0.7,\"coordinates\":null,\"group\":null,\"items\":[{\"id\":\"9299\"},{\"id\":\"9327\"}]},\"id\":\"9298\",\"type\":\"Legend\"},{\"attributes\":{\"line_alpha\":0.1,\"line_color\":\"#1f77b4\",\"line_width\":2,\"x\":{\"field\":\"Year\"},\"y\":{\"field\":\"Data\"}},\"id\":\"9371\",\"type\":\"Line\"},{\"attributes\":{\"background_fill_alpha\":0.7,\"coordinates\":null,\"group\":null,\"items\":[{\"id\":\"9386\"},{\"id\":\"9414\"}]},\"id\":\"9385\",\"type\":\"Legend\"},{\"attributes\":{\"line_alpha\":0.2,\"line_color\":\"#ff7f0e\",\"line_width\":2,\"x\":{\"field\":\"Year\"},\"y\":{\"field\":\"Data\"}},\"id\":\"9312\",\"type\":\"Line\"},{\"attributes\":{\"above\":[{\"id\":\"9336\"}],\"below\":[{\"id\":\"9261\"}],\"center\":[{\"id\":\"9264\"},{\"id\":\"9268\"},{\"id\":\"9298\"}],\"height\":400,\"left\":[{\"id\":\"9265\"}],\"renderers\":[{\"id\":\"9286\"},{\"id\":\"9304\"},{\"id\":\"9313\"},{\"id\":\"9332\"}],\"title\":{\"id\":\"9251\"},\"toolbar\":{\"id\":\"9275\"},\"toolbar_location\":null,\"width\":400,\"x_range\":{\"id\":\"9253\"},\"x_scale\":{\"id\":\"9257\"},\"y_range\":{\"id\":\"9255\"},\"y_scale\":{\"id\":\"9259\"}},\"id\":\"9250\",\"subtype\":\"Figure\",\"type\":\"Plot\"},{\"attributes\":{\"line_color\":\"#1f77b4\",\"line_width\":2,\"x\":{\"field\":\"Year\"},\"y\":{\"field\":\"Data\"}},\"id\":\"9283\",\"type\":\"Line\"},{\"attributes\":{\"callback\":null,\"renderers\":[{\"id\":\"9419\"}],\"tooltips\":[[\"(x,y)\",\"(@Year,@Data)\"]]},\"id\":\"9421\",\"type\":\"HoverTool\"},{\"attributes\":{\"line_alpha\":0.1,\"line_color\":\"#1f77b4\",\"line_width\":2,\"x\":{\"field\":\"Year\"},\"y\":{\"field\":\"Data\"}},\"id\":\"9284\",\"type\":\"Line\"},{\"attributes\":{\"line_color\":\"#ff7f0e\",\"line_width\":2,\"x\":{\"field\":\"Year\"},\"y\":{\"field\":\"Data\"}},\"id\":\"9397\",\"type\":\"Line\"},{\"attributes\":{\"label\":{\"value\":\"Prevalence WAF excluding Ghana\"},\"renderers\":[{\"id\":\"9400\"}]},\"id\":\"9414\",\"type\":\"LegendItem\"},{\"attributes\":{\"source\":{\"id\":\"9395\"}},\"id\":\"9401\",\"type\":\"CDSView\"},{\"attributes\":{\"fill_alpha\":{\"value\":0.5},\"fill_color\":{\"value\":\"#ff7f0e\"},\"hatch_alpha\":{\"value\":0.5},\"hatch_color\":{\"value\":\"#ff7f0e\"},\"line_alpha\":{\"value\":0.5},\"line_color\":{\"value\":\"#ff7f0e\"},\"size\":{\"value\":10},\"x\":{\"field\":\"Year\"},\"y\":{\"field\":\"Data\"}},\"id\":\"9416\",\"type\":\"Circle\"},{\"attributes\":{\"coordinates\":null,\"data_source\":{\"id\":\"9395\"},\"glyph\":{\"id\":\"9397\"},\"group\":null,\"hover_glyph\":null,\"muted_glyph\":{\"id\":\"9399\"},\"nonselection_glyph\":{\"id\":\"9398\"},\"view\":{\"id\":\"9401\"}},\"id\":\"9400\",\"type\":\"GlyphRenderer\"},{\"attributes\":{\"coordinates\":null,\"data_source\":{\"id\":\"9308\"},\"glyph\":{\"id\":\"9310\"},\"group\":null,\"hover_glyph\":null,\"muted_glyph\":{\"id\":\"9312\"},\"nonselection_glyph\":{\"id\":\"9311\"},\"view\":{\"id\":\"9314\"}},\"id\":\"9313\",\"type\":\"GlyphRenderer\"},{\"attributes\":{\"line_color\":\"#1f77b4\",\"line_width\":2,\"x\":{\"field\":\"Year\"},\"y\":{\"field\":\"Data\"}},\"id\":\"9370\",\"type\":\"Line\"},{\"attributes\":{\"line_alpha\":0.1,\"line_color\":\"#ff7f0e\",\"line_width\":2,\"x\":{\"field\":\"Year\"},\"y\":{\"field\":\"Data\"}},\"id\":\"9311\",\"type\":\"Line\"},{\"attributes\":{\"source\":{\"id\":\"9368\"}},\"id\":\"9374\",\"type\":\"CDSView\"},{\"attributes\":{\"fill_alpha\":{\"value\":0.1},\"fill_color\":{\"value\":\"#ff7f0e\"},\"hatch_alpha\":{\"value\":0.1},\"hatch_color\":{\"value\":\"#ff7f0e\"},\"line_alpha\":{\"value\":0.1},\"line_color\":{\"value\":\"#ff7f0e\"},\"size\":{\"value\":10},\"x\":{\"field\":\"Year\"},\"y\":{\"field\":\"Data\"}},\"id\":\"9417\",\"type\":\"Circle\"},{\"attributes\":{\"line_alpha\":0.2,\"line_color\":\"#1f77b4\",\"line_width\":2,\"x\":{\"field\":\"Year\"},\"y\":{\"field\":\"Data\"}},\"id\":\"9285\",\"type\":\"Line\"},{\"attributes\":{\"coordinates\":null,\"data_source\":{\"id\":\"9368\"},\"glyph\":{\"id\":\"9370\"},\"group\":null,\"hover_glyph\":null,\"muted_glyph\":{\"id\":\"9372\"},\"nonselection_glyph\":{\"id\":\"9371\"},\"view\":{\"id\":\"9374\"}},\"id\":\"9373\",\"type\":\"GlyphRenderer\"},{\"attributes\":{\"fill_alpha\":{\"value\":0.2},\"fill_color\":{\"value\":\"#ff7f0e\"},\"hatch_alpha\":{\"value\":0.2},\"hatch_color\":{\"value\":\"#ff7f0e\"},\"line_alpha\":{\"value\":0.2},\"line_color\":{\"value\":\"#ff7f0e\"},\"size\":{\"value\":10},\"x\":{\"field\":\"Year\"},\"y\":{\"field\":\"Data\"}},\"id\":\"9418\",\"type\":\"Circle\"},{\"attributes\":{\"coordinates\":null,\"data_source\":{\"id\":\"9368\"},\"glyph\":{\"id\":\"9388\"},\"group\":null,\"hover_glyph\":null,\"muted_glyph\":{\"id\":\"9390\"},\"nonselection_glyph\":{\"id\":\"9389\"},\"view\":{\"id\":\"9392\"}},\"id\":\"9391\",\"type\":\"GlyphRenderer\"},{\"attributes\":{\"source\":{\"id\":\"9395\"}},\"id\":\"9420\",\"type\":\"CDSView\"},{\"attributes\":{\"source\":{\"id\":\"9281\"}},\"id\":\"9287\",\"type\":\"CDSView\"},{\"attributes\":{\"fill_alpha\":{\"value\":0.5},\"fill_color\":{\"value\":\"#1f77b4\"},\"hatch_alpha\":{\"value\":0.5},\"hatch_color\":{\"value\":\"#1f77b4\"},\"line_alpha\":{\"value\":0.5},\"line_color\":{\"value\":\"#1f77b4\"},\"size\":{\"value\":10},\"x\":{\"field\":\"Year\"},\"y\":{\"field\":\"Data\"}},\"id\":\"9388\",\"type\":\"Circle\"},{\"attributes\":{\"line_alpha\":0.2,\"line_color\":\"#1f77b4\",\"line_width\":2,\"x\":{\"field\":\"Year\"},\"y\":{\"field\":\"Data\"}},\"id\":\"9372\",\"type\":\"Line\"},{\"attributes\":{\"label\":{\"value\":\"Prevalence Ghana\"},\"renderers\":[{\"id\":\"9373\"}]},\"id\":\"9386\",\"type\":\"LegendItem\"},{\"attributes\":{\"overlay\":{\"id\":\"9274\"}},\"id\":\"9271\",\"type\":\"BoxZoomTool\"},{\"attributes\":{\"fill_alpha\":{\"value\":0.2},\"fill_color\":{\"value\":\"#1f77b4\"},\"hatch_alpha\":{\"value\":0.2},\"hatch_color\":{\"value\":\"#1f77b4\"},\"line_alpha\":{\"value\":0.2},\"line_color\":{\"value\":\"#1f77b4\"},\"size\":{\"value\":10},\"x\":{\"field\":\"Year\"},\"y\":{\"field\":\"Data\"}},\"id\":\"9303\",\"type\":\"Circle\"},{\"attributes\":{\"callback\":null,\"renderers\":[{\"id\":\"9304\"}],\"tooltips\":[[\"(x,y)\",\"(@Year,@Data)\"]]},\"id\":\"9306\",\"type\":\"HoverTool\"},{\"attributes\":{},\"id\":\"9290\",\"type\":\"BasicTickFormatter\"},{\"attributes\":{},\"id\":\"9349\",\"type\":\"BasicTicker\"},{\"attributes\":{\"source\":{\"id\":\"9308\"}},\"id\":\"9314\",\"type\":\"CDSView\"},{\"attributes\":{\"axis\":{\"id\":\"9261\"},\"coordinates\":null,\"group\":null,\"ticker\":null},\"id\":\"9264\",\"type\":\"Grid\"},{\"attributes\":{},\"id\":\"9291\",\"type\":\"AllLabels\"},{\"attributes\":{},\"id\":\"9270\",\"type\":\"WheelZoomTool\"},{\"attributes\":{},\"id\":\"9293\",\"type\":\"BasicTickFormatter\"},{\"attributes\":{},\"id\":\"9269\",\"type\":\"PanTool\"},{\"attributes\":{},\"id\":\"9294\",\"type\":\"AllLabels\"},{\"attributes\":{},\"id\":\"9259\",\"type\":\"LinearScale\"},{\"attributes\":{\"coordinates\":null,\"data_source\":{\"id\":\"9308\"},\"glyph\":{\"id\":\"9329\"},\"group\":null,\"hover_glyph\":null,\"muted_glyph\":{\"id\":\"9331\"},\"nonselection_glyph\":{\"id\":\"9330\"},\"view\":{\"id\":\"9333\"}},\"id\":\"9332\",\"type\":\"GlyphRenderer\"},{\"attributes\":{},\"id\":\"9353\",\"type\":\"BasicTicker\"},{\"attributes\":{\"children\":[[{\"id\":\"9250\"},0,0],[{\"id\":\"9337\"},0,1]]},\"id\":\"9450\",\"type\":\"GridBox\"},{\"attributes\":{\"label\":{\"value\":\"Prevalence WAF excluding Ghana\"},\"renderers\":[{\"id\":\"9313\"}]},\"id\":\"9327\",\"type\":\"LegendItem\"},{\"attributes\":{},\"id\":\"9295\",\"type\":\"UnionRenderers\"},{\"attributes\":{\"source\":{\"id\":\"9281\"}},\"id\":\"9305\",\"type\":\"CDSView\"},{\"attributes\":{},\"id\":\"9296\",\"type\":\"Selection\"},{\"attributes\":{},\"id\":\"9346\",\"type\":\"LinearScale\"},{\"attributes\":{\"data\":{\"Data\":{\"__ndarray__\":\"hetRuB6F4z/hehSuR+HiPzMzMzMzM+M/mpmZmZmZ6T8UrkfhehTmPzMzMzMzM+s/UrgehetR6D8=\",\"dtype\":\"float64\",\"order\":\"little\",\"shape\":[7]},\"Year\":[2009,2010,2011,2012,2013,2014,2015]},\"selected\":{\"id\":\"9296\"},\"selection_policy\":{\"id\":\"9295\"}},\"id\":\"9281\",\"type\":\"ColumnDataSource\"},{\"attributes\":{\"coordinates\":null,\"group\":null,\"text\":\"Chloroquine resistance prevalence in Ghana\"},\"id\":\"9338\",\"type\":\"Title\"},{\"attributes\":{\"axis\":{\"id\":\"9352\"},\"coordinates\":null,\"dimension\":1,\"group\":null,\"ticker\":null},\"id\":\"9355\",\"type\":\"Grid\"},{\"attributes\":{},\"id\":\"9324\",\"type\":\"UnionRenderers\"},{\"attributes\":{\"axis\":{\"id\":\"9348\"},\"coordinates\":null,\"group\":null,\"ticker\":null},\"id\":\"9351\",\"type\":\"Grid\"},{\"attributes\":{},\"id\":\"9325\",\"type\":\"Selection\"},{\"attributes\":{\"toolbars\":[{\"id\":\"9275\"},{\"id\":\"9362\"}],\"tools\":[{\"id\":\"9269\"},{\"id\":\"9270\"},{\"id\":\"9271\"},{\"id\":\"9272\"},{\"id\":\"9273\"},{\"id\":\"9306\"},{\"id\":\"9334\"},{\"id\":\"9356\"},{\"id\":\"9357\"},{\"id\":\"9358\"},{\"id\":\"9359\"},{\"id\":\"9360\"},{\"id\":\"9393\"},{\"id\":\"9421\"}]},\"id\":\"9451\",\"type\":\"ProxyToolbar\"},{\"attributes\":{\"bottom_units\":\"screen\",\"coordinates\":null,\"fill_alpha\":0.5,\"fill_color\":\"lightgrey\",\"group\":null,\"left_units\":\"screen\",\"level\":\"overlay\",\"line_alpha\":1.0,\"line_color\":\"black\",\"line_dash\":[4,4],\"line_width\":2,\"right_units\":\"screen\",\"syncable\":false,\"top_units\":\"screen\"},\"id\":\"9274\",\"type\":\"BoxAnnotation\"},{\"attributes\":{\"axis_label\":\"Prevalence\",\"coordinates\":null,\"formatter\":{\"id\":\"9290\"},\"group\":null,\"major_label_policy\":{\"id\":\"9291\"},\"ticker\":{\"id\":\"9266\"}},\"id\":\"9265\",\"type\":\"LinearAxis\"},{\"attributes\":{},\"id\":\"9272\",\"type\":\"ResetTool\"},{\"attributes\":{\"axis_label\":\"Prevalence\",\"coordinates\":null,\"formatter\":{\"id\":\"9377\"},\"group\":null,\"major_label_policy\":{\"id\":\"9378\"},\"ticker\":{\"id\":\"9353\"}},\"id\":\"9352\",\"type\":\"LinearAxis\"},{\"attributes\":{},\"id\":\"9344\",\"type\":\"LinearScale\"},{\"attributes\":{\"coordinates\":null,\"data_source\":{\"id\":\"9281\"},\"glyph\":{\"id\":\"9301\"},\"group\":null,\"hover_glyph\":null,\"muted_glyph\":{\"id\":\"9303\"},\"nonselection_glyph\":{\"id\":\"9302\"},\"view\":{\"id\":\"9305\"}},\"id\":\"9304\",\"type\":\"GlyphRenderer\"},{\"attributes\":{\"axis_label\":\"Year\",\"coordinates\":null,\"formatter\":{\"id\":\"9293\"},\"group\":null,\"major_label_policy\":{\"id\":\"9294\"},\"ticker\":{\"id\":\"9262\"}},\"id\":\"9261\",\"type\":\"LinearAxis\"},{\"attributes\":{},\"id\":\"9262\",\"type\":\"BasicTicker\"},{\"attributes\":{},\"id\":\"9255\",\"type\":\"Range1d\"},{\"attributes\":{\"fill_alpha\":{\"value\":0.5},\"fill_color\":{\"value\":\"#ff7f0e\"},\"hatch_alpha\":{\"value\":0.5},\"hatch_color\":{\"value\":\"#ff7f0e\"},\"line_alpha\":{\"value\":0.5},\"line_color\":{\"value\":\"#ff7f0e\"},\"size\":{\"value\":10},\"x\":{\"field\":\"Year\"},\"y\":{\"field\":\"Data\"}},\"id\":\"9329\",\"type\":\"Circle\"},{\"attributes\":{\"coordinates\":null,\"group\":null,\"text\":\"(2007-2015)\"},\"id\":\"9336\",\"type\":\"Title\"},{\"attributes\":{\"coordinates\":null,\"group\":null,\"text\":\"S-P resistance prevalence in Ghana\"},\"id\":\"9251\",\"type\":\"Title\"},{\"attributes\":{},\"id\":\"9266\",\"type\":\"BasicTicker\"},{\"attributes\":{\"fill_alpha\":{\"value\":0.1},\"fill_color\":{\"value\":\"#ff7f0e\"},\"hatch_alpha\":{\"value\":0.1},\"hatch_color\":{\"value\":\"#ff7f0e\"},\"line_alpha\":{\"value\":0.1},\"line_color\":{\"value\":\"#ff7f0e\"},\"size\":{\"value\":10},\"x\":{\"field\":\"Year\"},\"y\":{\"field\":\"Data\"}},\"id\":\"9330\",\"type\":\"Circle\"},{\"attributes\":{\"axis\":{\"id\":\"9265\"},\"coordinates\":null,\"dimension\":1,\"group\":null,\"ticker\":null},\"id\":\"9268\",\"type\":\"Grid\"},{\"attributes\":{\"axis_label\":\"Year\",\"coordinates\":null,\"formatter\":{\"id\":\"9380\"},\"group\":null,\"major_label_policy\":{\"id\":\"9381\"},\"ticker\":{\"id\":\"9349\"}},\"id\":\"9348\",\"type\":\"LinearAxis\"},{\"attributes\":{\"fill_alpha\":{\"value\":0.2},\"fill_color\":{\"value\":\"#ff7f0e\"},\"hatch_alpha\":{\"value\":0.2},\"hatch_color\":{\"value\":\"#ff7f0e\"},\"line_alpha\":{\"value\":0.2},\"line_color\":{\"value\":\"#ff7f0e\"},\"size\":{\"value\":10},\"x\":{\"field\":\"Year\"},\"y\":{\"field\":\"Data\"}},\"id\":\"9331\",\"type\":\"Circle\"},{\"attributes\":{\"callback\":null,\"renderers\":[{\"id\":\"9332\"}],\"tooltips\":[[\"(x,y)\",\"(@Year,@Data)\"]]},\"id\":\"9334\",\"type\":\"HoverTool\"},{\"attributes\":{\"fill_alpha\":{\"value\":0.1},\"fill_color\":{\"value\":\"#1f77b4\"},\"hatch_alpha\":{\"value\":0.1},\"hatch_color\":{\"value\":\"#1f77b4\"},\"line_alpha\":{\"value\":0.1},\"line_color\":{\"value\":\"#1f77b4\"},\"size\":{\"value\":10},\"x\":{\"field\":\"Year\"},\"y\":{\"field\":\"Data\"}},\"id\":\"9302\",\"type\":\"Circle\"},{\"attributes\":{\"source\":{\"id\":\"9308\"}},\"id\":\"9333\",\"type\":\"CDSView\"},{\"attributes\":{\"fill_alpha\":{\"value\":0.5},\"fill_color\":{\"value\":\"#1f77b4\"},\"hatch_alpha\":{\"value\":0.5},\"hatch_color\":{\"value\":\"#1f77b4\"},\"line_alpha\":{\"value\":0.5},\"line_color\":{\"value\":\"#1f77b4\"},\"size\":{\"value\":10},\"x\":{\"field\":\"Year\"},\"y\":{\"field\":\"Data\"}},\"id\":\"9301\",\"type\":\"Circle\"},{\"attributes\":{},\"id\":\"9257\",\"type\":\"LinearScale\"}],\"root_ids\":[\"9453\"]},\"title\":\"Bokeh Application\",\"version\":\"2.4.0\"}};\n",
       "  const render_items = [{\"docid\":\"1366b20f-6f8c-4f0e-86a4-27e32fc9d848\",\"root_ids\":[\"9453\"],\"roots\":{\"9453\":\"da14deae-473f-4472-914c-9dbea5eda1d7\"}}];\n",
       "  root.Bokeh.embed.embed_items_notebook(docs_json, render_items);\n",
       "\n",
       "  }\n",
       "  if (root.Bokeh !== undefined) {\n",
       "    embed_document(root);\n",
       "  } else {\n",
       "    let attempts = 0;\n",
       "    const timer = setInterval(function(root) {\n",
       "      if (root.Bokeh !== undefined) {\n",
       "        clearInterval(timer);\n",
       "        embed_document(root);\n",
       "      } else {\n",
       "        attempts++;\n",
       "        if (attempts > 100) {\n",
       "          clearInterval(timer);\n",
       "          console.log(\"Bokeh: ERROR: Unable to run BokehJS code because BokehJS library is missing\");\n",
       "        }\n",
       "      }\n",
       "    }, 10, root)\n",
       "  }\n",
       "})(window);"
      ],
      "application/vnd.bokehjs_exec.v0+json": ""
     },
     "metadata": {
      "application/vnd.bokehjs_exec.v0+json": {
       "id": "9453"
      }
     },
     "output_type": "display_data"
    }
   ],
   "source": [
    "plot_dr_prevalence(pf6plus, drugs=['S-P','Chloroquine'], country = 'Ghana', population = 'WAF')"
   ]
  },
  {
   "cell_type": "markdown",
   "metadata": {},
   "source": [
    "We can see that overall in Ghana, the prevalence of `S-P` resistance is quite similar to the overall prevalence in the rest of West Africa in this time period (left plot). When plotting `Chloroquine` resistance, however, we can see that chloroquine resistance is considerably lower when compared to the rest of West Africa. \n",
    "\n",
    "The drug resistance pattern shown here warrants further investigation, so next we can take a look at another country (Mali) and see how this trend looks within the same analysis population of West Africa (WAF). "
   ]
  },
  {
   "cell_type": "code",
   "execution_count": 81,
   "metadata": {
    "scrolled": false
   },
   "outputs": [
    {
     "name": "stderr",
     "output_type": "stream",
     "text": [
      "BokehDeprecationWarning: plot_width and plot_height was deprecated in Bokeh 2.4.0 and will be removed, use width or height instead.\n"
     ]
    },
    {
     "data": {
      "text/html": [
       "\n",
       "\n",
       "\n",
       "\n",
       "\n",
       "\n",
       "  <div class=\"bk-root\" id=\"6cec15f8-291c-4d13-bf7c-39573ca66b9f\" data-root-id=\"10181\"></div>\n"
      ]
     },
     "metadata": {},
     "output_type": "display_data"
    },
    {
     "data": {
      "application/javascript": [
       "(function(root) {\n",
       "  function embed_document(root) {\n",
       "    \n",
       "  const docs_json = {\"1046d71d-fff2-4502-bd26-46d978dbe124\":{\"defs\":[],\"roots\":{\"references\":[{\"attributes\":{\"children\":[{\"id\":\"10180\"},{\"id\":\"10178\"}]},\"id\":\"10181\",\"type\":\"Column\"},{\"attributes\":{\"coordinates\":null,\"group\":null,\"text\":\"(2007-2015)\"},\"id\":\"10064\",\"type\":\"Title\"},{\"attributes\":{\"overlay\":{\"id\":\"10002\"}},\"id\":\"9999\",\"type\":\"BoxZoomTool\"},{\"attributes\":{\"line_alpha\":0.2,\"line_color\":\"#ff7f0e\",\"line_width\":2,\"x\":{\"field\":\"Year\"},\"y\":{\"field\":\"Data\"}},\"id\":\"10127\",\"type\":\"Line\"},{\"attributes\":{\"axis\":{\"id\":\"9993\"},\"coordinates\":null,\"dimension\":1,\"group\":null,\"ticker\":null},\"id\":\"9996\",\"type\":\"Grid\"},{\"attributes\":{\"callback\":null},\"id\":\"10001\",\"type\":\"TapTool\"},{\"attributes\":{},\"id\":\"10052\",\"type\":\"UnionRenderers\"},{\"attributes\":{\"axis_label\":\"Prevalence\",\"coordinates\":null,\"formatter\":{\"id\":\"10018\"},\"group\":null,\"major_label_policy\":{\"id\":\"10019\"},\"ticker\":{\"id\":\"9994\"}},\"id\":\"9993\",\"type\":\"LinearAxis\"},{\"attributes\":{},\"id\":\"10053\",\"type\":\"Selection\"},{\"attributes\":{},\"id\":\"9998\",\"type\":\"WheelZoomTool\"},{\"attributes\":{},\"id\":\"10070\",\"type\":\"Range1d\"},{\"attributes\":{\"source\":{\"id\":\"10096\"}},\"id\":\"10120\",\"type\":\"CDSView\"},{\"attributes\":{\"line_color\":\"#1f77b4\",\"line_width\":2,\"x\":{\"field\":\"Year\"},\"y\":{\"field\":\"Data\"}},\"id\":\"10098\",\"type\":\"Line\"},{\"attributes\":{},\"id\":\"9997\",\"type\":\"PanTool\"},{\"attributes\":{\"active_drag\":{\"id\":\"10084\"},\"active_scroll\":{\"id\":\"10085\"},\"tools\":[{\"id\":\"10084\"},{\"id\":\"10085\"},{\"id\":\"10086\"},{\"id\":\"10087\"},{\"id\":\"10088\"},{\"id\":\"10121\"},{\"id\":\"10149\"}]},\"id\":\"10090\",\"type\":\"Toolbar\"},{\"attributes\":{},\"id\":\"9994\",\"type\":\"BasicTicker\"},{\"attributes\":{\"line_alpha\":0.1,\"line_color\":\"#ff7f0e\",\"line_width\":2,\"x\":{\"field\":\"Year\"},\"y\":{\"field\":\"Data\"}},\"id\":\"10126\",\"type\":\"Line\"},{\"attributes\":{\"label\":{\"value\":\"Prevalence Mali\"},\"renderers\":[{\"id\":\"10101\"}]},\"id\":\"10114\",\"type\":\"LegendItem\"},{\"attributes\":{\"data\":{\"Data\":{\"__ndarray__\":\"hetRuB6F4z9SuB6F61HYPwrXo3A9Csc/uB6F61G43j+4HoXrUbiuP9ejcD0K19M/7FG4HoXr4T8AAAAAAAAAAA==\",\"dtype\":\"float64\",\"order\":\"little\",\"shape\":[8]},\"Year\":[2008,2009,2010,2011,2012,2013,2014,2015]},\"selected\":{\"id\":\"10140\"},\"selection_policy\":{\"id\":\"10139\"}},\"id\":\"10123\",\"type\":\"ColumnDataSource\"},{\"attributes\":{\"line_alpha\":0.1,\"line_color\":\"#1f77b4\",\"line_width\":2,\"x\":{\"field\":\"Year\"},\"y\":{\"field\":\"Data\"}},\"id\":\"10099\",\"type\":\"Line\"},{\"attributes\":{\"background_fill_alpha\":0.7,\"coordinates\":null,\"group\":null,\"items\":[{\"id\":\"10114\"},{\"id\":\"10142\"}]},\"id\":\"10113\",\"type\":\"Legend\"},{\"attributes\":{\"fill_alpha\":{\"value\":0.2},\"fill_color\":{\"value\":\"#1f77b4\"},\"hatch_alpha\":{\"value\":0.2},\"hatch_color\":{\"value\":\"#1f77b4\"},\"line_alpha\":{\"value\":0.2},\"line_color\":{\"value\":\"#1f77b4\"},\"size\":{\"value\":10},\"x\":{\"field\":\"Year\"},\"y\":{\"field\":\"Data\"}},\"id\":\"10118\",\"type\":\"Circle\"},{\"attributes\":{\"line_color\":\"#ff7f0e\",\"line_width\":2,\"x\":{\"field\":\"Year\"},\"y\":{\"field\":\"Data\"}},\"id\":\"10125\",\"type\":\"Line\"},{\"attributes\":{\"callback\":null,\"renderers\":[{\"id\":\"10060\"}],\"tooltips\":[[\"(x,y)\",\"(@Year,@Data)\"]]},\"id\":\"10062\",\"type\":\"HoverTool\"},{\"attributes\":{\"source\":{\"id\":\"10123\"}},\"id\":\"10129\",\"type\":\"CDSView\"},{\"attributes\":{\"coordinates\":null,\"data_source\":{\"id\":\"10123\"},\"glyph\":{\"id\":\"10125\"},\"group\":null,\"hover_glyph\":null,\"muted_glyph\":{\"id\":\"10127\"},\"nonselection_glyph\":{\"id\":\"10126\"},\"view\":{\"id\":\"10129\"}},\"id\":\"10128\",\"type\":\"GlyphRenderer\"},{\"attributes\":{\"coordinates\":null,\"data_source\":{\"id\":\"10036\"},\"glyph\":{\"id\":\"10057\"},\"group\":null,\"hover_glyph\":null,\"muted_glyph\":{\"id\":\"10059\"},\"nonselection_glyph\":{\"id\":\"10058\"},\"view\":{\"id\":\"10061\"}},\"id\":\"10060\",\"type\":\"GlyphRenderer\"},{\"attributes\":{\"coordinates\":null,\"data_source\":{\"id\":\"10096\"},\"glyph\":{\"id\":\"10098\"},\"group\":null,\"hover_glyph\":null,\"muted_glyph\":{\"id\":\"10100\"},\"nonselection_glyph\":{\"id\":\"10099\"},\"view\":{\"id\":\"10102\"}},\"id\":\"10101\",\"type\":\"GlyphRenderer\"},{\"attributes\":{\"source\":{\"id\":\"10096\"}},\"id\":\"10102\",\"type\":\"CDSView\"},{\"attributes\":{\"coordinates\":null,\"data_source\":{\"id\":\"10009\"},\"glyph\":{\"id\":\"10029\"},\"group\":null,\"hover_glyph\":null,\"muted_glyph\":{\"id\":\"10031\"},\"nonselection_glyph\":{\"id\":\"10030\"},\"view\":{\"id\":\"10033\"}},\"id\":\"10032\",\"type\":\"GlyphRenderer\"},{\"attributes\":{\"coordinates\":null,\"group\":null,\"text\":\"Chloroquine resistance prevalence in Mali\"},\"id\":\"10066\",\"type\":\"Title\"},{\"attributes\":{\"fill_alpha\":{\"value\":0.1},\"fill_color\":{\"value\":\"#ff7f0e\"},\"hatch_alpha\":{\"value\":0.1},\"hatch_color\":{\"value\":\"#ff7f0e\"},\"line_alpha\":{\"value\":0.1},\"line_color\":{\"value\":\"#ff7f0e\"},\"size\":{\"value\":10},\"x\":{\"field\":\"Year\"},\"y\":{\"field\":\"Data\"}},\"id\":\"10058\",\"type\":\"Circle\"},{\"attributes\":{\"callback\":null,\"renderers\":[{\"id\":\"10032\"}],\"tooltips\":[[\"(x,y)\",\"(@Year,@Data)\"]]},\"id\":\"10034\",\"type\":\"HoverTool\"},{\"attributes\":{},\"id\":\"10000\",\"type\":\"ResetTool\"},{\"attributes\":{\"axis_label\":\"Year\",\"coordinates\":null,\"formatter\":{\"id\":\"10108\"},\"group\":null,\"major_label_policy\":{\"id\":\"10109\"},\"ticker\":{\"id\":\"10077\"}},\"id\":\"10076\",\"type\":\"LinearAxis\"},{\"attributes\":{\"fill_alpha\":{\"value\":0.5},\"fill_color\":{\"value\":\"#1f77b4\"},\"hatch_alpha\":{\"value\":0.5},\"hatch_color\":{\"value\":\"#1f77b4\"},\"line_alpha\":{\"value\":0.5},\"line_color\":{\"value\":\"#1f77b4\"},\"size\":{\"value\":10},\"x\":{\"field\":\"Year\"},\"y\":{\"field\":\"Data\"}},\"id\":\"10029\",\"type\":\"Circle\"},{\"attributes\":{\"fill_alpha\":{\"value\":0.2},\"fill_color\":{\"value\":\"#ff7f0e\"},\"hatch_alpha\":{\"value\":0.2},\"hatch_color\":{\"value\":\"#ff7f0e\"},\"line_alpha\":{\"value\":0.2},\"line_color\":{\"value\":\"#ff7f0e\"},\"size\":{\"value\":10},\"x\":{\"field\":\"Year\"},\"y\":{\"field\":\"Data\"}},\"id\":\"10059\",\"type\":\"Circle\"},{\"attributes\":{\"source\":{\"id\":\"10036\"}},\"id\":\"10061\",\"type\":\"CDSView\"},{\"attributes\":{\"fill_alpha\":{\"value\":0.5},\"fill_color\":{\"value\":\"#ff7f0e\"},\"hatch_alpha\":{\"value\":0.5},\"hatch_color\":{\"value\":\"#ff7f0e\"},\"line_alpha\":{\"value\":0.5},\"line_color\":{\"value\":\"#ff7f0e\"},\"size\":{\"value\":10},\"x\":{\"field\":\"Year\"},\"y\":{\"field\":\"Data\"}},\"id\":\"10057\",\"type\":\"Circle\"},{\"attributes\":{\"overlay\":{\"id\":\"10089\"}},\"id\":\"10086\",\"type\":\"BoxZoomTool\"},{\"attributes\":{\"end\":2019,\"start\":2001},\"id\":\"10068\",\"type\":\"Range1d\"},{\"attributes\":{\"line_alpha\":0.2,\"line_color\":\"#1f77b4\",\"line_width\":2,\"x\":{\"field\":\"Year\"},\"y\":{\"field\":\"Data\"}},\"id\":\"10100\",\"type\":\"Line\"},{\"attributes\":{\"coordinates\":null,\"data_source\":{\"id\":\"10096\"},\"glyph\":{\"id\":\"10116\"},\"group\":null,\"hover_glyph\":null,\"muted_glyph\":{\"id\":\"10118\"},\"nonselection_glyph\":{\"id\":\"10117\"},\"view\":{\"id\":\"10120\"}},\"id\":\"10119\",\"type\":\"GlyphRenderer\"},{\"attributes\":{\"coordinates\":null,\"group\":null,\"text\":\"(2007-2015)\"},\"id\":\"10151\",\"type\":\"Title\"},{\"attributes\":{\"fill_alpha\":{\"value\":0.1},\"fill_color\":{\"value\":\"#1f77b4\"},\"hatch_alpha\":{\"value\":0.1},\"hatch_color\":{\"value\":\"#1f77b4\"},\"line_alpha\":{\"value\":0.1},\"line_color\":{\"value\":\"#1f77b4\"},\"size\":{\"value\":10},\"x\":{\"field\":\"Year\"},\"y\":{\"field\":\"Data\"}},\"id\":\"10030\",\"type\":\"Circle\"},{\"attributes\":{\"bottom_units\":\"screen\",\"coordinates\":null,\"fill_alpha\":0.5,\"fill_color\":\"lightgrey\",\"group\":null,\"left_units\":\"screen\",\"level\":\"overlay\",\"line_alpha\":1.0,\"line_color\":\"black\",\"line_dash\":[4,4],\"line_width\":2,\"right_units\":\"screen\",\"syncable\":false,\"top_units\":\"screen\"},\"id\":\"10089\",\"type\":\"BoxAnnotation\"},{\"attributes\":{\"fill_alpha\":{\"value\":0.2},\"fill_color\":{\"value\":\"#1f77b4\"},\"hatch_alpha\":{\"value\":0.2},\"hatch_color\":{\"value\":\"#1f77b4\"},\"line_alpha\":{\"value\":0.2},\"line_color\":{\"value\":\"#1f77b4\"},\"size\":{\"value\":10},\"x\":{\"field\":\"Year\"},\"y\":{\"field\":\"Data\"}},\"id\":\"10031\",\"type\":\"Circle\"},{\"attributes\":{\"above\":[{\"id\":\"10151\"}],\"below\":[{\"id\":\"10076\"}],\"center\":[{\"id\":\"10079\"},{\"id\":\"10083\"},{\"id\":\"10113\"}],\"height\":400,\"left\":[{\"id\":\"10080\"}],\"renderers\":[{\"id\":\"10101\"},{\"id\":\"10119\"},{\"id\":\"10128\"},{\"id\":\"10147\"}],\"title\":{\"id\":\"10066\"},\"toolbar\":{\"id\":\"10090\"},\"toolbar_location\":null,\"width\":400,\"x_range\":{\"id\":\"10068\"},\"x_scale\":{\"id\":\"10072\"},\"y_range\":{\"id\":\"10070\"},\"y_scale\":{\"id\":\"10074\"}},\"id\":\"10065\",\"subtype\":\"Figure\",\"type\":\"Plot\"},{\"attributes\":{\"source\":{\"id\":\"10009\"}},\"id\":\"10033\",\"type\":\"CDSView\"},{\"attributes\":{},\"id\":\"10105\",\"type\":\"BasicTickFormatter\"},{\"attributes\":{\"axis_label\":\"Prevalence\",\"coordinates\":null,\"formatter\":{\"id\":\"10105\"},\"group\":null,\"major_label_policy\":{\"id\":\"10106\"},\"ticker\":{\"id\":\"10081\"}},\"id\":\"10080\",\"type\":\"LinearAxis\"},{\"attributes\":{\"source\":{\"id\":\"10036\"}},\"id\":\"10042\",\"type\":\"CDSView\"},{\"attributes\":{},\"id\":\"9987\",\"type\":\"LinearScale\"},{\"attributes\":{\"axis\":{\"id\":\"9989\"},\"coordinates\":null,\"group\":null,\"ticker\":null},\"id\":\"9992\",\"type\":\"Grid\"},{\"attributes\":{\"callback\":null},\"id\":\"10088\",\"type\":\"TapTool\"},{\"attributes\":{},\"id\":\"10087\",\"type\":\"ResetTool\"},{\"attributes\":{},\"id\":\"9985\",\"type\":\"LinearScale\"},{\"attributes\":{},\"id\":\"10085\",\"type\":\"WheelZoomTool\"},{\"attributes\":{\"axis\":{\"id\":\"10076\"},\"coordinates\":null,\"group\":null,\"ticker\":null},\"id\":\"10079\",\"type\":\"Grid\"},{\"attributes\":{\"coordinates\":null,\"group\":null,\"text\":\"S-P resistance prevalence in Mali\"},\"id\":\"9979\",\"type\":\"Title\"},{\"attributes\":{},\"id\":\"10106\",\"type\":\"AllLabels\"},{\"attributes\":{},\"id\":\"9990\",\"type\":\"BasicTicker\"},{\"attributes\":{\"toolbars\":[{\"id\":\"10003\"},{\"id\":\"10090\"}],\"tools\":[{\"id\":\"9997\"},{\"id\":\"9998\"},{\"id\":\"9999\"},{\"id\":\"10000\"},{\"id\":\"10001\"},{\"id\":\"10034\"},{\"id\":\"10062\"},{\"id\":\"10084\"},{\"id\":\"10085\"},{\"id\":\"10086\"},{\"id\":\"10087\"},{\"id\":\"10088\"},{\"id\":\"10121\"},{\"id\":\"10149\"}]},\"id\":\"10179\",\"type\":\"ProxyToolbar\"},{\"attributes\":{},\"id\":\"10108\",\"type\":\"BasicTickFormatter\"},{\"attributes\":{},\"id\":\"10084\",\"type\":\"PanTool\"},{\"attributes\":{\"label\":{\"value\":\"Prevalence WAF excluding Mali\"},\"renderers\":[{\"id\":\"10041\"}]},\"id\":\"10055\",\"type\":\"LegendItem\"},{\"attributes\":{},\"id\":\"10077\",\"type\":\"BasicTicker\"},{\"attributes\":{\"data\":{\"Data\":{\"__ndarray__\":\"KVyPwvUo5D+kcD0K16PgP1yPwvUoXN8/\",\"dtype\":\"float64\",\"order\":\"little\",\"shape\":[3]},\"Year\":[2007,2013,2014]},\"selected\":{\"id\":\"10111\"},\"selection_policy\":{\"id\":\"10110\"}},\"id\":\"10096\",\"type\":\"ColumnDataSource\"},{\"attributes\":{},\"id\":\"10109\",\"type\":\"AllLabels\"},{\"attributes\":{},\"id\":\"9983\",\"type\":\"Range1d\"},{\"attributes\":{\"axis\":{\"id\":\"10080\"},\"coordinates\":null,\"dimension\":1,\"group\":null,\"ticker\":null},\"id\":\"10083\",\"type\":\"Grid\"},{\"attributes\":{\"axis_label\":\"Year\",\"coordinates\":null,\"formatter\":{\"id\":\"10021\"},\"group\":null,\"major_label_policy\":{\"id\":\"10022\"},\"ticker\":{\"id\":\"9990\"}},\"id\":\"9989\",\"type\":\"LinearAxis\"},{\"attributes\":{\"end\":2019,\"start\":2001},\"id\":\"9981\",\"type\":\"Range1d\"},{\"attributes\":{},\"id\":\"10081\",\"type\":\"BasicTicker\"},{\"attributes\":{},\"id\":\"10110\",\"type\":\"UnionRenderers\"},{\"attributes\":{},\"id\":\"10139\",\"type\":\"UnionRenderers\"},{\"attributes\":{},\"id\":\"10021\",\"type\":\"BasicTickFormatter\"},{\"attributes\":{},\"id\":\"10111\",\"type\":\"Selection\"},{\"attributes\":{},\"id\":\"10140\",\"type\":\"Selection\"},{\"attributes\":{\"callback\":null,\"renderers\":[{\"id\":\"10119\"}],\"tooltips\":[[\"(x,y)\",\"(@Year,@Data)\"]]},\"id\":\"10121\",\"type\":\"HoverTool\"},{\"attributes\":{\"bottom_units\":\"screen\",\"coordinates\":null,\"fill_alpha\":0.5,\"fill_color\":\"lightgrey\",\"group\":null,\"left_units\":\"screen\",\"level\":\"overlay\",\"line_alpha\":1.0,\"line_color\":\"black\",\"line_dash\":[4,4],\"line_width\":2,\"right_units\":\"screen\",\"syncable\":false,\"top_units\":\"screen\"},\"id\":\"10002\",\"type\":\"BoxAnnotation\"},{\"attributes\":{\"line_color\":\"#1f77b4\",\"line_width\":2,\"x\":{\"field\":\"Year\"},\"y\":{\"field\":\"Data\"}},\"id\":\"10011\",\"type\":\"Line\"},{\"attributes\":{\"children\":[[{\"id\":\"9978\"},0,0],[{\"id\":\"10065\"},0,1]]},\"id\":\"10178\",\"type\":\"GridBox\"},{\"attributes\":{},\"id\":\"10072\",\"type\":\"LinearScale\"},{\"attributes\":{\"active_drag\":{\"id\":\"9997\"},\"active_scroll\":{\"id\":\"9998\"},\"tools\":[{\"id\":\"9997\"},{\"id\":\"9998\"},{\"id\":\"9999\"},{\"id\":\"10000\"},{\"id\":\"10001\"},{\"id\":\"10034\"},{\"id\":\"10062\"}]},\"id\":\"10003\",\"type\":\"Toolbar\"},{\"attributes\":{\"data\":{\"Data\":{\"__ndarray__\":\"hetRuB6F2z/Xo3A9CtfjP0jhehSuR+E/\",\"dtype\":\"float64\",\"order\":\"little\",\"shape\":[3]},\"Year\":[2007,2013,2014]},\"selected\":{\"id\":\"10024\"},\"selection_policy\":{\"id\":\"10023\"}},\"id\":\"10009\",\"type\":\"ColumnDataSource\"},{\"attributes\":{\"line_alpha\":0.2,\"line_color\":\"#ff7f0e\",\"line_width\":2,\"x\":{\"field\":\"Year\"},\"y\":{\"field\":\"Data\"}},\"id\":\"10040\",\"type\":\"Line\"},{\"attributes\":{\"label\":{\"value\":\"Prevalence Mali\"},\"renderers\":[{\"id\":\"10014\"}]},\"id\":\"10027\",\"type\":\"LegendItem\"},{\"attributes\":{\"data\":{\"Data\":{\"__ndarray__\":\"zczMzMzM5D+F61G4HoXjP+F6FK5H4eI/UrgehetR6D+amZmZmZnpPzMzMzMzM+s/j8L1KFyP6j9SuB6F61HoPw==\",\"dtype\":\"float64\",\"order\":\"little\",\"shape\":[8]},\"Year\":[2008,2009,2010,2011,2012,2013,2014,2015]},\"selected\":{\"id\":\"10053\"},\"selection_policy\":{\"id\":\"10052\"}},\"id\":\"10036\",\"type\":\"ColumnDataSource\"},{\"attributes\":{\"line_alpha\":0.1,\"line_color\":\"#1f77b4\",\"line_width\":2,\"x\":{\"field\":\"Year\"},\"y\":{\"field\":\"Data\"}},\"id\":\"10012\",\"type\":\"Line\"},{\"attributes\":{\"background_fill_alpha\":0.7,\"coordinates\":null,\"group\":null,\"items\":[{\"id\":\"10027\"},{\"id\":\"10055\"}]},\"id\":\"10026\",\"type\":\"Legend\"},{\"attributes\":{\"callback\":null,\"renderers\":[{\"id\":\"10147\"}],\"tooltips\":[[\"(x,y)\",\"(@Year,@Data)\"]]},\"id\":\"10149\",\"type\":\"HoverTool\"},{\"attributes\":{\"above\":[{\"id\":\"10064\"}],\"below\":[{\"id\":\"9989\"}],\"center\":[{\"id\":\"9992\"},{\"id\":\"9996\"},{\"id\":\"10026\"}],\"height\":400,\"left\":[{\"id\":\"9993\"}],\"renderers\":[{\"id\":\"10014\"},{\"id\":\"10032\"},{\"id\":\"10041\"},{\"id\":\"10060\"}],\"title\":{\"id\":\"9979\"},\"toolbar\":{\"id\":\"10003\"},\"toolbar_location\":null,\"width\":400,\"x_range\":{\"id\":\"9981\"},\"x_scale\":{\"id\":\"9985\"},\"y_range\":{\"id\":\"9983\"},\"y_scale\":{\"id\":\"9987\"}},\"id\":\"9978\",\"subtype\":\"Figure\",\"type\":\"Plot\"},{\"attributes\":{\"coordinates\":null,\"data_source\":{\"id\":\"10123\"},\"glyph\":{\"id\":\"10144\"},\"group\":null,\"hover_glyph\":null,\"muted_glyph\":{\"id\":\"10146\"},\"nonselection_glyph\":{\"id\":\"10145\"},\"view\":{\"id\":\"10148\"}},\"id\":\"10147\",\"type\":\"GlyphRenderer\"},{\"attributes\":{\"line_alpha\":0.1,\"line_color\":\"#ff7f0e\",\"line_width\":2,\"x\":{\"field\":\"Year\"},\"y\":{\"field\":\"Data\"}},\"id\":\"10039\",\"type\":\"Line\"},{\"attributes\":{},\"id\":\"10024\",\"type\":\"Selection\"},{\"attributes\":{\"line_color\":\"#ff7f0e\",\"line_width\":2,\"x\":{\"field\":\"Year\"},\"y\":{\"field\":\"Data\"}},\"id\":\"10038\",\"type\":\"Line\"},{\"attributes\":{\"fill_alpha\":{\"value\":0.1},\"fill_color\":{\"value\":\"#ff7f0e\"},\"hatch_alpha\":{\"value\":0.1},\"hatch_color\":{\"value\":\"#ff7f0e\"},\"line_alpha\":{\"value\":0.1},\"line_color\":{\"value\":\"#ff7f0e\"},\"size\":{\"value\":10},\"x\":{\"field\":\"Year\"},\"y\":{\"field\":\"Data\"}},\"id\":\"10145\",\"type\":\"Circle\"},{\"attributes\":{\"coordinates\":null,\"data_source\":{\"id\":\"10036\"},\"glyph\":{\"id\":\"10038\"},\"group\":null,\"hover_glyph\":null,\"muted_glyph\":{\"id\":\"10040\"},\"nonselection_glyph\":{\"id\":\"10039\"},\"view\":{\"id\":\"10042\"}},\"id\":\"10041\",\"type\":\"GlyphRenderer\"},{\"attributes\":{\"fill_alpha\":{\"value\":0.2},\"fill_color\":{\"value\":\"#ff7f0e\"},\"hatch_alpha\":{\"value\":0.2},\"hatch_color\":{\"value\":\"#ff7f0e\"},\"line_alpha\":{\"value\":0.2},\"line_color\":{\"value\":\"#ff7f0e\"},\"size\":{\"value\":10},\"x\":{\"field\":\"Year\"},\"y\":{\"field\":\"Data\"}},\"id\":\"10146\",\"type\":\"Circle\"},{\"attributes\":{\"coordinates\":null,\"data_source\":{\"id\":\"10009\"},\"glyph\":{\"id\":\"10011\"},\"group\":null,\"hover_glyph\":null,\"muted_glyph\":{\"id\":\"10013\"},\"nonselection_glyph\":{\"id\":\"10012\"},\"view\":{\"id\":\"10015\"}},\"id\":\"10014\",\"type\":\"GlyphRenderer\"},{\"attributes\":{\"source\":{\"id\":\"10009\"}},\"id\":\"10015\",\"type\":\"CDSView\"},{\"attributes\":{\"source\":{\"id\":\"10123\"}},\"id\":\"10148\",\"type\":\"CDSView\"},{\"attributes\":{\"line_alpha\":0.2,\"line_color\":\"#1f77b4\",\"line_width\":2,\"x\":{\"field\":\"Year\"},\"y\":{\"field\":\"Data\"}},\"id\":\"10013\",\"type\":\"Line\"},{\"attributes\":{\"fill_alpha\":{\"value\":0.5},\"fill_color\":{\"value\":\"#1f77b4\"},\"hatch_alpha\":{\"value\":0.5},\"hatch_color\":{\"value\":\"#1f77b4\"},\"line_alpha\":{\"value\":0.5},\"line_color\":{\"value\":\"#1f77b4\"},\"size\":{\"value\":10},\"x\":{\"field\":\"Year\"},\"y\":{\"field\":\"Data\"}},\"id\":\"10116\",\"type\":\"Circle\"},{\"attributes\":{\"fill_alpha\":{\"value\":0.1},\"fill_color\":{\"value\":\"#1f77b4\"},\"hatch_alpha\":{\"value\":0.1},\"hatch_color\":{\"value\":\"#1f77b4\"},\"line_alpha\":{\"value\":0.1},\"line_color\":{\"value\":\"#1f77b4\"},\"size\":{\"value\":10},\"x\":{\"field\":\"Year\"},\"y\":{\"field\":\"Data\"}},\"id\":\"10117\",\"type\":\"Circle\"},{\"attributes\":{},\"id\":\"10019\",\"type\":\"AllLabels\"},{\"attributes\":{\"label\":{\"value\":\"Prevalence WAF excluding Mali\"},\"renderers\":[{\"id\":\"10128\"}]},\"id\":\"10142\",\"type\":\"LegendItem\"},{\"attributes\":{},\"id\":\"10022\",\"type\":\"AllLabels\"},{\"attributes\":{},\"id\":\"10018\",\"type\":\"BasicTickFormatter\"},{\"attributes\":{},\"id\":\"10074\",\"type\":\"LinearScale\"},{\"attributes\":{\"fill_alpha\":{\"value\":0.5},\"fill_color\":{\"value\":\"#ff7f0e\"},\"hatch_alpha\":{\"value\":0.5},\"hatch_color\":{\"value\":\"#ff7f0e\"},\"line_alpha\":{\"value\":0.5},\"line_color\":{\"value\":\"#ff7f0e\"},\"size\":{\"value\":10},\"x\":{\"field\":\"Year\"},\"y\":{\"field\":\"Data\"}},\"id\":\"10144\",\"type\":\"Circle\"},{\"attributes\":{\"toolbar\":{\"id\":\"10179\"},\"toolbar_location\":\"above\"},\"id\":\"10180\",\"type\":\"ToolbarBox\"},{\"attributes\":{},\"id\":\"10023\",\"type\":\"UnionRenderers\"}],\"root_ids\":[\"10181\"]},\"title\":\"Bokeh Application\",\"version\":\"2.4.0\"}};\n",
       "  const render_items = [{\"docid\":\"1046d71d-fff2-4502-bd26-46d978dbe124\",\"root_ids\":[\"10181\"],\"roots\":{\"10181\":\"6cec15f8-291c-4d13-bf7c-39573ca66b9f\"}}];\n",
       "  root.Bokeh.embed.embed_items_notebook(docs_json, render_items);\n",
       "\n",
       "  }\n",
       "  if (root.Bokeh !== undefined) {\n",
       "    embed_document(root);\n",
       "  } else {\n",
       "    let attempts = 0;\n",
       "    const timer = setInterval(function(root) {\n",
       "      if (root.Bokeh !== undefined) {\n",
       "        clearInterval(timer);\n",
       "        embed_document(root);\n",
       "      } else {\n",
       "        attempts++;\n",
       "        if (attempts > 100) {\n",
       "          clearInterval(timer);\n",
       "          console.log(\"Bokeh: ERROR: Unable to run BokehJS code because BokehJS library is missing\");\n",
       "        }\n",
       "      }\n",
       "    }, 10, root)\n",
       "  }\n",
       "})(window);"
      ],
      "application/vnd.bokehjs_exec.v0+json": ""
     },
     "metadata": {
      "application/vnd.bokehjs_exec.v0+json": {
       "id": "10181"
      }
     },
     "output_type": "display_data"
    }
   ],
   "source": [
    "plot_dr_prevalence(pf6plus, drugs=['S-P','Chloroquine'], country = 'Mali', population = 'WAF')"
   ]
  },
  {
   "cell_type": "markdown",
   "metadata": {},
   "source": [
    "In this case, Mali has similar, although slightly lower `S-P` prevalence compared to West Africa overall (left plot). The `Chloroquine` resistance prevalence shows a more complex picture from prevalence fluctuations between sampling years in WAF, but we can see that overall prevalence between Mali and the rest of WAF are roughly comparable for the years in which samples were collected in Mali.   "
   ]
  },
  {
   "cell_type": "markdown",
   "metadata": {
    "id": "6QTu5VhHc7u8"
   },
   "source": [
    "### Plot the most common haplotypes per population/country"
   ]
  },
  {
   "cell_type": "markdown",
   "metadata": {},
   "source": [
    "Drug resistance haplotypes allow us to visualise key drug resistance positions in the genome together, and look out for changes within these structures. By plotting the top haplotypes in a region, we can spot emerging trends."
   ]
  },
  {
   "cell_type": "code",
   "execution_count": 82,
   "metadata": {
    "colab": {
     "base_uri": "https://localhost:8080/"
    },
    "id": "u57FbKMBP5LQ",
    "outputId": "6a88e9ae-6c24-4b61-e7c1-d43201b64794",
    "scrolled": true
   },
   "outputs": [
    {
     "name": "stdout",
     "output_type": "stream",
     "text": [
      "Help on function plot_haplotype_frequency in module data_analysis.plot_haplotype_frequency:\n",
      "\n",
      "plot_haplotype_frequency(data, gene, num_top_haplotypes=5, threshold=25, countries=None, populations=None, years=None, bin=False)\n",
      "    Plot the top n haplotypes on a specife gene per country (or) population per year\n",
      "    \n",
      "    Parameters:\n",
      "      - gene: Any of the genes in the Pf6+ dataframe ['PfCRT', 'Kelch', 'PfDHFR', 'PfEXO', 'PGB', 'Plasmepsin2/3', 'PfDHPS', 'PfMDR1']\n",
      "      - country: Any of the countries in the Pf6+ dataframe (if specified, population value is not used) ['Bangladesh', 'Benin', 'Burkina Faso', 'Cambodia', 'Cameroon',\n",
      "       'Colombia', \"Côte d'Ivoire\", 'Democratic Republic of the Congo',\n",
      "       'Ethiopia', 'Gambia', 'Ghana', 'Guinea', 'India', 'Indonesia',\n",
      "       'Kenya', 'Laos', 'Madagascar', 'Malawi', 'Mali', 'Mauritania',\n",
      "       'Mozambique', 'Myanmar', 'Nigeria', 'Papua New Guinea', 'Peru',\n",
      "       'Senegal', 'Tanzania', 'Thailand', 'Uganda', 'Vietnam']\n",
      "      - population: Any of the populations in the Pf6+ dataframe ['CAF', 'EAF', 'ESEA', 'OCE', 'SAM', 'SAS', 'WAF', 'WSEA']\n",
      "      - year: Any/list of the years in the Pf6+ dataframe [2001, 2002, 2003, 2004, 2005, 2006, 2007, 2008, 2009, 2010, 2011, 2012, 2013, 2014, 2015, 2016, 2017, 2018, 2019]\n",
      "      - bin: If True, all the years between the specified values will be used. If False, individual years are used.\n",
      "      - threshold: To increase confidence on disperse data, only use country (or) population/year combinations with n_samples>threshold (default=25)\n",
      "    \n",
      "    Returns:\n",
      "      A series of plots (one per gene) showing the frequency of the top n haplotypes the drug/country/year (or) drug/country/year combination provided. Haplotypes outside the top n, are showed as part of the `Other` category.\n",
      "\n"
     ]
    }
   ],
   "source": [
    "help(plot_haplotype_frequency)"
   ]
  },
  {
   "cell_type": "markdown",
   "metadata": {},
   "source": [
    "Let's take a look at a common drug resistance locus that is involved in mefloquine resistance, `PfMDR1`. We can compare the haplotype frequencies for `PfMDR1` in two analysis populations: `WSEA` and `ESEA`. "
   ]
  },
  {
   "cell_type": "code",
   "execution_count": 123,
   "metadata": {
    "colab": {
     "base_uri": "https://localhost:8080/",
     "height": 1000
    },
    "id": "UoopMYI8QGje",
    "outputId": "cf3467e7-7c7b-430e-89fc-65d97314917f",
    "scrolled": false
   },
   "outputs": [
    {
     "name": "stderr",
     "output_type": "stream",
     "text": [
      "BokehDeprecationWarning: plot_width and plot_height was deprecated in Bokeh 2.4.0 and will be removed, use width or height instead.\n"
     ]
    },
    {
     "data": {
      "text/html": [
       "\n",
       "\n",
       "\n",
       "\n",
       "\n",
       "\n",
       "  <div class=\"bk-root\" id=\"4efe8a95-7130-4d05-99f1-e2b1b09970a0\" data-root-id=\"70236\"></div>\n"
      ]
     },
     "metadata": {},
     "output_type": "display_data"
    },
    {
     "data": {
      "application/javascript": [
       "(function(root) {\n",
       "  function embed_document(root) {\n",
       "    \n",
       "  const docs_json = {\"cdcf955e-c36c-4245-b53d-e4b3e45d08b0\":{\"defs\":[],\"roots\":{\"references\":[{\"attributes\":{\"children\":[{\"id\":\"70235\"},{\"id\":\"70233\"}]},\"id\":\"70236\",\"type\":\"Column\"},{\"attributes\":{},\"id\":\"70075\",\"type\":\"UnionRenderers\"},{\"attributes\":{},\"id\":\"70076\",\"type\":\"Selection\"},{\"attributes\":{\"coordinates\":null,\"data_source\":{\"id\":\"70173\"},\"glyph\":{\"id\":\"70196\"},\"group\":null,\"hover_glyph\":null,\"muted_glyph\":{\"id\":\"70198\"},\"nonselection_glyph\":{\"id\":\"70197\"},\"view\":{\"id\":\"70200\"}},\"id\":\"70199\",\"type\":\"GlyphRenderer\"},{\"attributes\":{\"fill_alpha\":{\"value\":0.1},\"fill_color\":{\"value\":\"#2ca02c\"},\"hatch_alpha\":{\"value\":0.1},\"hatch_color\":{\"value\":\"#2ca02c\"},\"line_alpha\":{\"value\":0.1},\"line_color\":{\"value\":\"#2ca02c\"},\"size\":{\"value\":10},\"x\":{\"field\":\"Year\"},\"y\":{\"field\":\"Data\"}},\"id\":\"70197\",\"type\":\"Circle\"},{\"attributes\":{\"callback\":null,\"renderers\":[{\"id\":\"70199\"}],\"tooltips\":[[\"(x,y)\",\"(@Year,@Data)\"]]},\"id\":\"70201\",\"type\":\"HoverTool\"},{\"attributes\":{\"fill_alpha\":{\"value\":0.2},\"fill_color\":{\"value\":\"#2ca02c\"},\"hatch_alpha\":{\"value\":0.2},\"hatch_color\":{\"value\":\"#2ca02c\"},\"line_alpha\":{\"value\":0.2},\"line_color\":{\"value\":\"#2ca02c\"},\"size\":{\"value\":10},\"x\":{\"field\":\"Year\"},\"y\":{\"field\":\"Data\"}},\"id\":\"70198\",\"type\":\"Circle\"},{\"attributes\":{\"source\":{\"id\":\"70173\"}},\"id\":\"70200\",\"type\":\"CDSView\"},{\"attributes\":{\"coordinates\":null,\"data_source\":{\"id\":\"70118\"},\"glyph\":{\"id\":\"70138\"},\"group\":null,\"hover_glyph\":null,\"muted_glyph\":{\"id\":\"70140\"},\"nonselection_glyph\":{\"id\":\"70139\"},\"view\":{\"id\":\"70142\"}},\"id\":\"70141\",\"type\":\"GlyphRenderer\"},{\"attributes\":{\"callback\":null,\"renderers\":[{\"id\":\"70141\"}],\"tooltips\":[[\"(x,y)\",\"(@Year,@Data)\"]]},\"id\":\"70143\",\"type\":\"HoverTool\"},{\"attributes\":{\"fill_alpha\":{\"value\":0.5},\"fill_color\":{\"value\":\"#ff7f0e\"},\"hatch_alpha\":{\"value\":0.5},\"hatch_color\":{\"value\":\"#ff7f0e\"},\"line_alpha\":{\"value\":0.5},\"line_color\":{\"value\":\"#ff7f0e\"},\"size\":{\"value\":10},\"x\":{\"field\":\"Year\"},\"y\":{\"field\":\"Data\"}},\"id\":\"70138\",\"type\":\"Circle\"},{\"attributes\":{\"fill_alpha\":{\"value\":0.5},\"fill_color\":{\"value\":\"#1f77b4\"},\"hatch_alpha\":{\"value\":0.5},\"hatch_color\":{\"value\":\"#1f77b4\"},\"line_alpha\":{\"value\":0.5},\"line_color\":{\"value\":\"#1f77b4\"},\"size\":{\"value\":10},\"x\":{\"field\":\"Year\"},\"y\":{\"field\":\"Data\"}},\"id\":\"70166\",\"type\":\"Circle\"},{\"attributes\":{\"fill_alpha\":{\"value\":0.1},\"fill_color\":{\"value\":\"#ff7f0e\"},\"hatch_alpha\":{\"value\":0.1},\"hatch_color\":{\"value\":\"#ff7f0e\"},\"line_alpha\":{\"value\":0.1},\"line_color\":{\"value\":\"#ff7f0e\"},\"size\":{\"value\":10},\"x\":{\"field\":\"Year\"},\"y\":{\"field\":\"Data\"}},\"id\":\"70139\",\"type\":\"Circle\"},{\"attributes\":{\"coordinates\":null,\"data_source\":{\"id\":\"70057\"},\"glyph\":{\"id\":\"70080\"},\"group\":null,\"hover_glyph\":null,\"muted_glyph\":{\"id\":\"70082\"},\"nonselection_glyph\":{\"id\":\"70081\"},\"view\":{\"id\":\"70084\"}},\"id\":\"70083\",\"type\":\"GlyphRenderer\"},{\"attributes\":{\"fill_alpha\":{\"value\":0.2},\"fill_color\":{\"value\":\"#ff7f0e\"},\"hatch_alpha\":{\"value\":0.2},\"hatch_color\":{\"value\":\"#ff7f0e\"},\"line_alpha\":{\"value\":0.2},\"line_color\":{\"value\":\"#ff7f0e\"},\"size\":{\"value\":10},\"x\":{\"field\":\"Year\"},\"y\":{\"field\":\"Data\"}},\"id\":\"70140\",\"type\":\"Circle\"},{\"attributes\":{\"source\":{\"id\":\"70118\"}},\"id\":\"70142\",\"type\":\"CDSView\"},{\"attributes\":{\"fill_alpha\":{\"value\":0.1},\"fill_color\":{\"value\":\"#2ca02c\"},\"hatch_alpha\":{\"value\":0.1},\"hatch_color\":{\"value\":\"#2ca02c\"},\"line_alpha\":{\"value\":0.1},\"line_color\":{\"value\":\"#2ca02c\"},\"size\":{\"value\":10},\"x\":{\"field\":\"Year\"},\"y\":{\"field\":\"Data\"}},\"id\":\"70081\",\"type\":\"Circle\"},{\"attributes\":{\"callback\":null,\"renderers\":[{\"id\":\"70083\"}],\"tooltips\":[[\"(x,y)\",\"(@Year,@Data)\"]]},\"id\":\"70085\",\"type\":\"HoverTool\"},{\"attributes\":{\"line_alpha\":0.2,\"line_color\":\"#2ca02c\",\"line_width\":2,\"x\":{\"field\":\"Year\"},\"y\":{\"field\":\"Data\"}},\"id\":\"70177\",\"type\":\"Line\"},{\"attributes\":{\"fill_alpha\":{\"value\":0.2},\"fill_color\":{\"value\":\"#2ca02c\"},\"hatch_alpha\":{\"value\":0.2},\"hatch_color\":{\"value\":\"#2ca02c\"},\"line_alpha\":{\"value\":0.2},\"line_color\":{\"value\":\"#2ca02c\"},\"size\":{\"value\":10},\"x\":{\"field\":\"Year\"},\"y\":{\"field\":\"Data\"}},\"id\":\"70082\",\"type\":\"Circle\"},{\"attributes\":{\"source\":{\"id\":\"70057\"}},\"id\":\"70084\",\"type\":\"CDSView\"},{\"attributes\":{\"fill_alpha\":{\"value\":0.5},\"fill_color\":{\"value\":\"#2ca02c\"},\"hatch_alpha\":{\"value\":0.5},\"hatch_color\":{\"value\":\"#2ca02c\"},\"line_alpha\":{\"value\":0.5},\"line_color\":{\"value\":\"#2ca02c\"},\"size\":{\"value\":10},\"x\":{\"field\":\"Year\"},\"y\":{\"field\":\"Data\"}},\"id\":\"70196\",\"type\":\"Circle\"},{\"attributes\":{\"source\":{\"id\":\"70145\"}},\"id\":\"70151\",\"type\":\"CDSView\"},{\"attributes\":{},\"id\":\"70092\",\"type\":\"Range1d\"},{\"attributes\":{},\"id\":\"69987\",\"type\":\"BasicTicker\"},{\"attributes\":{\"source\":{\"id\":\"70173\"}},\"id\":\"70179\",\"type\":\"CDSView\"},{\"attributes\":{\"line_alpha\":0.1,\"line_color\":\"#2ca02c\",\"line_width\":2,\"x\":{\"field\":\"Year\"},\"y\":{\"field\":\"Data\"}},\"id\":\"70176\",\"type\":\"Line\"},{\"attributes\":{\"active_drag\":{\"id\":\"70106\"},\"active_scroll\":{\"id\":\"70107\"},\"tools\":[{\"id\":\"70106\"},{\"id\":\"70107\"},{\"id\":\"70108\"},{\"id\":\"70109\"},{\"id\":\"70110\"},{\"id\":\"70143\"},{\"id\":\"70171\"},{\"id\":\"70201\"}]},\"id\":\"70112\",\"type\":\"Toolbar\"},{\"attributes\":{\"coordinates\":null,\"data_source\":{\"id\":\"70173\"},\"glyph\":{\"id\":\"70175\"},\"group\":null,\"hover_glyph\":null,\"muted_glyph\":{\"id\":\"70177\"},\"nonselection_glyph\":{\"id\":\"70176\"},\"view\":{\"id\":\"70179\"}},\"id\":\"70178\",\"type\":\"GlyphRenderer\"},{\"attributes\":{\"line_color\":\"#2ca02c\",\"line_width\":2,\"x\":{\"field\":\"Year\"},\"y\":{\"field\":\"Data\"}},\"id\":\"70175\",\"type\":\"Line\"},{\"attributes\":{\"label\":{\"value\":\"NYD\"},\"renderers\":[{\"id\":\"70150\"}]},\"id\":\"70164\",\"type\":\"LegendItem\"},{\"attributes\":{\"below\":[{\"id\":\"69982\"}],\"center\":[{\"id\":\"69985\"},{\"id\":\"69989\"},{\"id\":\"70019\"}],\"height\":400,\"left\":[{\"id\":\"69986\"}],\"renderers\":[{\"id\":\"70007\"},{\"id\":\"70025\"},{\"id\":\"70034\"},{\"id\":\"70053\"},{\"id\":\"70062\"},{\"id\":\"70083\"}],\"title\":{\"id\":\"69972\"},\"toolbar\":{\"id\":\"69996\"},\"toolbar_location\":null,\"width\":400,\"x_range\":{\"id\":\"69974\"},\"x_scale\":{\"id\":\"69978\"},\"y_range\":{\"id\":\"69976\"},\"y_scale\":{\"id\":\"69980\"}},\"id\":\"69971\",\"subtype\":\"Figure\",\"type\":\"Plot\"},{\"attributes\":{\"data\":{\"Data\":{\"__ndarray__\":\"27Zt27Zt2z9605ve9KbnP+U1lNdQXuM/WchCFrKQ1T+PdMUt6kjXPzCJkGpZB9o/ip3YiZ3Y4T/WJETxFznjP4ZgHW3ep+g/mpmZmZmZ6T9uk0ffrw7hP4fhjGk5LuI/U+SzbjBF7j8=\",\"dtype\":\"float64\",\"order\":\"little\",\"shape\":[13]},\"Year\":[2007,2008,2009,2010,2011,2012,2013,2014,2015,2016,2017,2018,2019]},\"selected\":{\"id\":\"70133\"},\"selection_policy\":{\"id\":\"70132\"}},\"id\":\"70118\",\"type\":\"ColumnDataSource\"},{\"attributes\":{},\"id\":\"70094\",\"type\":\"LinearScale\"},{\"attributes\":{\"bottom_units\":\"screen\",\"coordinates\":null,\"fill_alpha\":0.5,\"fill_color\":\"lightgrey\",\"group\":null,\"left_units\":\"screen\",\"level\":\"overlay\",\"line_alpha\":1.0,\"line_color\":\"black\",\"line_dash\":[4,4],\"line_width\":2,\"right_units\":\"screen\",\"syncable\":false,\"top_units\":\"screen\"},\"id\":\"70111\",\"type\":\"BoxAnnotation\"},{\"attributes\":{},\"id\":\"70161\",\"type\":\"UnionRenderers\"},{\"attributes\":{\"callback\":null},\"id\":\"70110\",\"type\":\"TapTool\"},{\"attributes\":{},\"id\":\"70162\",\"type\":\"Selection\"},{\"attributes\":{\"end\":2019,\"start\":2001},\"id\":\"70090\",\"type\":\"Range1d\"},{\"attributes\":{\"line_alpha\":0.2,\"line_color\":\"#1f77b4\",\"line_width\":2,\"x\":{\"field\":\"Year\"},\"y\":{\"field\":\"Data\"}},\"id\":\"70149\",\"type\":\"Line\"},{\"attributes\":{},\"id\":\"70014\",\"type\":\"BasicTickFormatter\"},{\"attributes\":{},\"id\":\"69978\",\"type\":\"LinearScale\"},{\"attributes\":{},\"id\":\"70015\",\"type\":\"AllLabels\"},{\"attributes\":{\"data\":{\"Data\":{\"__ndarray__\":\"AAAAAAAA4D84velNb3rDP2wor6G8htI/OL3pTW964z8lG22TS7LhP27G/jBYOOI/ip3YiZ3Y2T+bhCj+ImfYP/wUlwzBOso//pLlL1n+wj+OJfZUlxLcP4ol48vl1dk/0LrBFPmsqz8=\",\"dtype\":\"float64\",\"order\":\"little\",\"shape\":[13]},\"Year\":[2007,2008,2009,2010,2011,2012,2013,2014,2015,2016,2017,2018,2019]},\"selected\":{\"id\":\"70162\"},\"selection_policy\":{\"id\":\"70161\"}},\"id\":\"70145\",\"type\":\"ColumnDataSource\"},{\"attributes\":{\"line_color\":\"#ff7f0e\",\"line_width\":2,\"x\":{\"field\":\"Year\"},\"y\":{\"field\":\"Data\"}},\"id\":\"70120\",\"type\":\"Line\"},{\"attributes\":{\"label\":{\"value\":\"NFD\"},\"renderers\":[{\"id\":\"70123\"}]},\"id\":\"70136\",\"type\":\"LegendItem\"},{\"attributes\":{\"coordinates\":null,\"data_source\":{\"id\":\"70118\"},\"glyph\":{\"id\":\"70120\"},\"group\":null,\"hover_glyph\":null,\"muted_glyph\":{\"id\":\"70122\"},\"nonselection_glyph\":{\"id\":\"70121\"},\"view\":{\"id\":\"70124\"}},\"id\":\"70123\",\"type\":\"GlyphRenderer\"},{\"attributes\":{},\"id\":\"69991\",\"type\":\"WheelZoomTool\"},{\"attributes\":{\"bottom_units\":\"screen\",\"coordinates\":null,\"fill_alpha\":0.5,\"fill_color\":\"lightgrey\",\"group\":null,\"left_units\":\"screen\",\"level\":\"overlay\",\"line_alpha\":1.0,\"line_color\":\"black\",\"line_dash\":[4,4],\"line_width\":2,\"right_units\":\"screen\",\"syncable\":false,\"top_units\":\"screen\"},\"id\":\"69995\",\"type\":\"BoxAnnotation\"},{\"attributes\":{\"children\":[[{\"id\":\"69971\"},0,0],[{\"id\":\"70087\"},0,1]]},\"id\":\"70233\",\"type\":\"GridBox\"},{\"attributes\":{\"line_alpha\":0.1,\"line_color\":\"#ff7f0e\",\"line_width\":2,\"x\":{\"field\":\"Year\"},\"y\":{\"field\":\"Data\"}},\"id\":\"70121\",\"type\":\"Line\"},{\"attributes\":{\"background_fill_alpha\":0.7,\"coordinates\":null,\"group\":null,\"items\":[{\"id\":\"70136\"},{\"id\":\"70164\"},{\"id\":\"70194\"}]},\"id\":\"70135\",\"type\":\"Legend\"},{\"attributes\":{\"callback\":null},\"id\":\"69994\",\"type\":\"TapTool\"},{\"attributes\":{\"below\":[{\"id\":\"70098\"}],\"center\":[{\"id\":\"70101\"},{\"id\":\"70105\"},{\"id\":\"70135\"}],\"height\":400,\"left\":[{\"id\":\"70102\"}],\"renderers\":[{\"id\":\"70123\"},{\"id\":\"70141\"},{\"id\":\"70150\"},{\"id\":\"70169\"},{\"id\":\"70178\"},{\"id\":\"70199\"}],\"title\":{\"id\":\"70088\"},\"toolbar\":{\"id\":\"70112\"},\"toolbar_location\":null,\"width\":400,\"x_range\":{\"id\":\"70090\"},\"x_scale\":{\"id\":\"70094\"},\"y_range\":{\"id\":\"70092\"},\"y_scale\":{\"id\":\"70096\"}},\"id\":\"70087\",\"subtype\":\"Figure\",\"type\":\"Plot\"},{\"attributes\":{},\"id\":\"70016\",\"type\":\"UnionRenderers\"},{\"attributes\":{},\"id\":\"69993\",\"type\":\"ResetTool\"},{\"attributes\":{\"line_alpha\":0.1,\"line_color\":\"#1f77b4\",\"line_width\":2,\"x\":{\"field\":\"Year\"},\"y\":{\"field\":\"Data\"}},\"id\":\"70148\",\"type\":\"Line\"},{\"attributes\":{},\"id\":\"70045\",\"type\":\"UnionRenderers\"},{\"attributes\":{},\"id\":\"70132\",\"type\":\"UnionRenderers\"},{\"attributes\":{\"callback\":null,\"renderers\":[{\"id\":\"70169\"}],\"tooltips\":[[\"(x,y)\",\"(@Year,@Data)\"]]},\"id\":\"70171\",\"type\":\"HoverTool\"},{\"attributes\":{\"data\":{\"Data\":{\"__ndarray__\":\"cGn8witJsj94vTRFgNO7P8iVehaE8ro/AHxFt17Tqz8g2lVI+Um1PwAkfVpFf5g/gApHkEqxoz+AtyQH7GqSP0AMPPceLpk/IM4Y5gRtqj/AfAc/cQCdP8Bg/3Vu2pw/AAAAAAAAAAA=\",\"dtype\":\"float64\",\"order\":\"little\",\"shape\":[13]},\"Year\":[2007,2008,2009,2010,2011,2012,2013,2014,2015,2016,2017,2018,2019]},\"selected\":{\"id\":\"70192\"},\"selection_policy\":{\"id\":\"70191\"}},\"id\":\"70173\",\"type\":\"ColumnDataSource\"},{\"attributes\":{},\"id\":\"70017\",\"type\":\"Selection\"},{\"attributes\":{\"line_color\":\"#1f77b4\",\"line_width\":2,\"x\":{\"field\":\"Year\"},\"y\":{\"field\":\"Data\"}},\"id\":\"70147\",\"type\":\"Line\"},{\"attributes\":{},\"id\":\"70046\",\"type\":\"Selection\"},{\"attributes\":{\"coordinates\":null,\"data_source\":{\"id\":\"70145\"},\"glyph\":{\"id\":\"70147\"},\"group\":null,\"hover_glyph\":null,\"muted_glyph\":{\"id\":\"70149\"},\"nonselection_glyph\":{\"id\":\"70148\"},\"view\":{\"id\":\"70151\"}},\"id\":\"70150\",\"type\":\"GlyphRenderer\"},{\"attributes\":{\"data\":{\"Data\":{\"__ndarray__\":\"kiRJkiRJ0j+amZmZmZnJP9/yLd/yLc8/SLTC5kCixT9VVVVVVVWVP2gvob2E9qI/QkqeZUQfwD/QcFL35bHVP9ITHD3B0cM/cB/BfQT3sT8AAAAAAADAPwrXo3A9Ctc/dtlll112yT8Bz6fHzdi/Pw==\",\"dtype\":\"float64\",\"order\":\"little\",\"shape\":[14]},\"Year\":[2001,2002,2003,2004,2005,2007,2008,2011,2012,2013,2014,2015,2016,2017]},\"selected\":{\"id\":\"70046\"},\"selection_policy\":{\"id\":\"70045\"}},\"id\":\"70029\",\"type\":\"ColumnDataSource\"},{\"attributes\":{\"coordinates\":null,\"data_source\":{\"id\":\"70145\"},\"glyph\":{\"id\":\"70166\"},\"group\":null,\"hover_glyph\":null,\"muted_glyph\":{\"id\":\"70168\"},\"nonselection_glyph\":{\"id\":\"70167\"},\"view\":{\"id\":\"70170\"}},\"id\":\"70169\",\"type\":\"GlyphRenderer\"},{\"attributes\":{\"end\":2019,\"start\":2001},\"id\":\"69974\",\"type\":\"Range1d\"},{\"attributes\":{\"source\":{\"id\":\"70118\"}},\"id\":\"70124\",\"type\":\"CDSView\"},{\"attributes\":{},\"id\":\"69990\",\"type\":\"PanTool\"},{\"attributes\":{\"fill_alpha\":{\"value\":0.1},\"fill_color\":{\"value\":\"#1f77b4\"},\"hatch_alpha\":{\"value\":0.1},\"hatch_color\":{\"value\":\"#1f77b4\"},\"line_alpha\":{\"value\":0.1},\"line_color\":{\"value\":\"#1f77b4\"},\"size\":{\"value\":10},\"x\":{\"field\":\"Year\"},\"y\":{\"field\":\"Data\"}},\"id\":\"70167\",\"type\":\"Circle\"},{\"attributes\":{\"background_fill_alpha\":0.7,\"coordinates\":null,\"group\":null,\"items\":[{\"id\":\"70020\"},{\"id\":\"70048\"},{\"id\":\"70078\"}]},\"id\":\"70019\",\"type\":\"Legend\"},{\"attributes\":{\"fill_alpha\":{\"value\":0.2},\"fill_color\":{\"value\":\"#1f77b4\"},\"hatch_alpha\":{\"value\":0.2},\"hatch_color\":{\"value\":\"#1f77b4\"},\"line_alpha\":{\"value\":0.2},\"line_color\":{\"value\":\"#1f77b4\"},\"size\":{\"value\":10},\"x\":{\"field\":\"Year\"},\"y\":{\"field\":\"Data\"}},\"id\":\"70168\",\"type\":\"Circle\"},{\"attributes\":{\"line_alpha\":0.2,\"line_color\":\"#ff7f0e\",\"line_width\":2,\"x\":{\"field\":\"Year\"},\"y\":{\"field\":\"Data\"}},\"id\":\"70122\",\"type\":\"Line\"},{\"attributes\":{\"source\":{\"id\":\"70145\"}},\"id\":\"70170\",\"type\":\"CDSView\"},{\"attributes\":{\"overlay\":{\"id\":\"69995\"}},\"id\":\"69992\",\"type\":\"BoxZoomTool\"},{\"attributes\":{\"label\":{\"value\":\"NYD\"},\"renderers\":[{\"id\":\"70007\"}]},\"id\":\"70020\",\"type\":\"LegendItem\"},{\"attributes\":{\"line_color\":\"#1f77b4\",\"line_width\":2,\"x\":{\"field\":\"Year\"},\"y\":{\"field\":\"Data\"}},\"id\":\"70004\",\"type\":\"Line\"},{\"attributes\":{\"active_drag\":{\"id\":\"69990\"},\"active_scroll\":{\"id\":\"69991\"},\"tools\":[{\"id\":\"69990\"},{\"id\":\"69991\"},{\"id\":\"69992\"},{\"id\":\"69993\"},{\"id\":\"69994\"},{\"id\":\"70027\"},{\"id\":\"70055\"},{\"id\":\"70085\"}]},\"id\":\"69996\",\"type\":\"Toolbar\"},{\"attributes\":{\"coordinates\":null,\"data_source\":{\"id\":\"70002\"},\"glyph\":{\"id\":\"70004\"},\"group\":null,\"hover_glyph\":null,\"muted_glyph\":{\"id\":\"70006\"},\"nonselection_glyph\":{\"id\":\"70005\"},\"view\":{\"id\":\"70008\"}},\"id\":\"70007\",\"type\":\"GlyphRenderer\"},{\"attributes\":{\"toolbar\":{\"id\":\"70234\"},\"toolbar_location\":\"above\"},\"id\":\"70235\",\"type\":\"ToolbarBox\"},{\"attributes\":{\"line_alpha\":0.1,\"line_color\":\"#1f77b4\",\"line_width\":2,\"x\":{\"field\":\"Year\"},\"y\":{\"field\":\"Data\"}},\"id\":\"70005\",\"type\":\"Line\"},{\"attributes\":{\"label\":{\"value\":\"Other\"},\"renderers\":[{\"id\":\"70178\"}]},\"id\":\"70194\",\"type\":\"LegendItem\"},{\"attributes\":{\"toolbars\":[{\"id\":\"69996\"},{\"id\":\"70112\"}],\"tools\":[{\"id\":\"69990\"},{\"id\":\"69991\"},{\"id\":\"69992\"},{\"id\":\"69993\"},{\"id\":\"69994\"},{\"id\":\"70027\"},{\"id\":\"70055\"},{\"id\":\"70085\"},{\"id\":\"70106\"},{\"id\":\"70107\"},{\"id\":\"70108\"},{\"id\":\"70109\"},{\"id\":\"70110\"},{\"id\":\"70143\"},{\"id\":\"70171\"},{\"id\":\"70201\"}]},\"id\":\"70234\",\"type\":\"ProxyToolbar\"},{\"attributes\":{\"callback\":null,\"renderers\":[{\"id\":\"70053\"}],\"tooltips\":[[\"(x,y)\",\"(@Year,@Data)\"]]},\"id\":\"70055\",\"type\":\"HoverTool\"},{\"attributes\":{},\"id\":\"70096\",\"type\":\"LinearScale\"},{\"attributes\":{\"label\":{\"value\":\"Other\"},\"renderers\":[{\"id\":\"70062\"}]},\"id\":\"70078\",\"type\":\"LegendItem\"},{\"attributes\":{},\"id\":\"70127\",\"type\":\"BasicTickFormatter\"},{\"attributes\":{\"coordinates\":null,\"data_source\":{\"id\":\"70029\"},\"glyph\":{\"id\":\"70050\"},\"group\":null,\"hover_glyph\":null,\"muted_glyph\":{\"id\":\"70052\"},\"nonselection_glyph\":{\"id\":\"70051\"},\"view\":{\"id\":\"70054\"}},\"id\":\"70053\",\"type\":\"GlyphRenderer\"},{\"attributes\":{\"fill_alpha\":{\"value\":0.5},\"fill_color\":{\"value\":\"#2ca02c\"},\"hatch_alpha\":{\"value\":0.5},\"hatch_color\":{\"value\":\"#2ca02c\"},\"line_alpha\":{\"value\":0.5},\"line_color\":{\"value\":\"#2ca02c\"},\"size\":{\"value\":10},\"x\":{\"field\":\"Year\"},\"y\":{\"field\":\"Data\"}},\"id\":\"70080\",\"type\":\"Circle\"},{\"attributes\":{},\"id\":\"70128\",\"type\":\"AllLabels\"},{\"attributes\":{\"axis_label\":\"Year\",\"coordinates\":null,\"formatter\":{\"id\":\"70130\"},\"group\":null,\"major_label_policy\":{\"id\":\"70131\"},\"ticker\":{\"id\":\"70099\"}},\"id\":\"70098\",\"type\":\"LinearAxis\"},{\"attributes\":{\"coordinates\":null,\"data_source\":{\"id\":\"70002\"},\"glyph\":{\"id\":\"70022\"},\"group\":null,\"hover_glyph\":null,\"muted_glyph\":{\"id\":\"70024\"},\"nonselection_glyph\":{\"id\":\"70023\"},\"view\":{\"id\":\"70026\"}},\"id\":\"70025\",\"type\":\"GlyphRenderer\"},{\"attributes\":{\"axis\":{\"id\":\"69982\"},\"coordinates\":null,\"group\":null,\"ticker\":null},\"id\":\"69985\",\"type\":\"Grid\"},{\"attributes\":{\"fill_alpha\":{\"value\":0.1},\"fill_color\":{\"value\":\"#ff7f0e\"},\"hatch_alpha\":{\"value\":0.1},\"hatch_color\":{\"value\":\"#ff7f0e\"},\"line_alpha\":{\"value\":0.1},\"line_color\":{\"value\":\"#ff7f0e\"},\"size\":{\"value\":10},\"x\":{\"field\":\"Year\"},\"y\":{\"field\":\"Data\"}},\"id\":\"70051\",\"type\":\"Circle\"},{\"attributes\":{},\"id\":\"70130\",\"type\":\"BasicTickFormatter\"},{\"attributes\":{\"callback\":null,\"renderers\":[{\"id\":\"70025\"}],\"tooltips\":[[\"(x,y)\",\"(@Year,@Data)\"]]},\"id\":\"70027\",\"type\":\"HoverTool\"},{\"attributes\":{\"source\":{\"id\":\"70002\"}},\"id\":\"70008\",\"type\":\"CDSView\"},{\"attributes\":{},\"id\":\"70191\",\"type\":\"UnionRenderers\"},{\"attributes\":{\"fill_alpha\":{\"value\":0.5},\"fill_color\":{\"value\":\"#1f77b4\"},\"hatch_alpha\":{\"value\":0.5},\"hatch_color\":{\"value\":\"#1f77b4\"},\"line_alpha\":{\"value\":0.5},\"line_color\":{\"value\":\"#1f77b4\"},\"size\":{\"value\":10},\"x\":{\"field\":\"Year\"},\"y\":{\"field\":\"Data\"}},\"id\":\"70022\",\"type\":\"Circle\"},{\"attributes\":{\"fill_alpha\":{\"value\":0.2},\"fill_color\":{\"value\":\"#ff7f0e\"},\"hatch_alpha\":{\"value\":0.2},\"hatch_color\":{\"value\":\"#ff7f0e\"},\"line_alpha\":{\"value\":0.2},\"line_color\":{\"value\":\"#ff7f0e\"},\"size\":{\"value\":10},\"x\":{\"field\":\"Year\"},\"y\":{\"field\":\"Data\"}},\"id\":\"70052\",\"type\":\"Circle\"},{\"attributes\":{},\"id\":\"70131\",\"type\":\"AllLabels\"},{\"attributes\":{\"data\":{\"Data\":{\"__ndarray__\":\"8RVf8RVf4T/Xo3A9CtfjP6RBGqRBGuQ/INEKmwOJ5j9VVVVVVVXtPwntJbSX0O4/EKiOvbVh6j8ndV8eWxHkP5qZmZmZmek/FtNZTGcx7T8AAAAAAADqP3sUrkfheuQ/VVVVVVVV5T9MIqRa1oHmPw==\",\"dtype\":\"float64\",\"order\":\"little\",\"shape\":[14]},\"Year\":[2001,2002,2003,2004,2005,2007,2008,2011,2012,2013,2014,2015,2016,2017]},\"selected\":{\"id\":\"70017\"},\"selection_policy\":{\"id\":\"70016\"}},\"id\":\"70002\",\"type\":\"ColumnDataSource\"},{\"attributes\":{\"source\":{\"id\":\"70029\"}},\"id\":\"70054\",\"type\":\"CDSView\"},{\"attributes\":{},\"id\":\"70012\",\"type\":\"AllLabels\"},{\"attributes\":{},\"id\":\"69976\",\"type\":\"Range1d\"},{\"attributes\":{\"label\":{\"value\":\"NFD\"},\"renderers\":[{\"id\":\"70034\"}]},\"id\":\"70048\",\"type\":\"LegendItem\"},{\"attributes\":{},\"id\":\"70192\",\"type\":\"Selection\"},{\"attributes\":{\"fill_alpha\":{\"value\":0.1},\"fill_color\":{\"value\":\"#1f77b4\"},\"hatch_alpha\":{\"value\":0.1},\"hatch_color\":{\"value\":\"#1f77b4\"},\"line_alpha\":{\"value\":0.1},\"line_color\":{\"value\":\"#1f77b4\"},\"size\":{\"value\":10},\"x\":{\"field\":\"Year\"},\"y\":{\"field\":\"Data\"}},\"id\":\"70023\",\"type\":\"Circle\"},{\"attributes\":{},\"id\":\"70103\",\"type\":\"BasicTicker\"},{\"attributes\":{},\"id\":\"70011\",\"type\":\"BasicTickFormatter\"},{\"attributes\":{\"fill_alpha\":{\"value\":0.2},\"fill_color\":{\"value\":\"#1f77b4\"},\"hatch_alpha\":{\"value\":0.2},\"hatch_color\":{\"value\":\"#1f77b4\"},\"line_alpha\":{\"value\":0.2},\"line_color\":{\"value\":\"#1f77b4\"},\"size\":{\"value\":10},\"x\":{\"field\":\"Year\"},\"y\":{\"field\":\"Data\"}},\"id\":\"70024\",\"type\":\"Circle\"},{\"attributes\":{},\"id\":\"70133\",\"type\":\"Selection\"},{\"attributes\":{\"axis_label\":\"Prevalence\",\"coordinates\":null,\"formatter\":{\"id\":\"70011\"},\"group\":null,\"major_label_policy\":{\"id\":\"70012\"},\"ticker\":{\"id\":\"69987\"}},\"id\":\"69986\",\"type\":\"LinearAxis\"},{\"attributes\":{\"line_alpha\":0.2,\"line_color\":\"#1f77b4\",\"line_width\":2,\"x\":{\"field\":\"Year\"},\"y\":{\"field\":\"Data\"}},\"id\":\"70006\",\"type\":\"Line\"},{\"attributes\":{\"source\":{\"id\":\"70002\"}},\"id\":\"70026\",\"type\":\"CDSView\"},{\"attributes\":{\"coordinates\":null,\"data_source\":{\"id\":\"70029\"},\"glyph\":{\"id\":\"70031\"},\"group\":null,\"hover_glyph\":null,\"muted_glyph\":{\"id\":\"70033\"},\"nonselection_glyph\":{\"id\":\"70032\"},\"view\":{\"id\":\"70035\"}},\"id\":\"70034\",\"type\":\"GlyphRenderer\"},{\"attributes\":{\"line_color\":\"#ff7f0e\",\"line_width\":2,\"x\":{\"field\":\"Year\"},\"y\":{\"field\":\"Data\"}},\"id\":\"70031\",\"type\":\"Line\"},{\"attributes\":{\"source\":{\"id\":\"70057\"}},\"id\":\"70063\",\"type\":\"CDSView\"},{\"attributes\":{\"axis_label\":\"Prevalence\",\"coordinates\":null,\"formatter\":{\"id\":\"70127\"},\"group\":null,\"major_label_policy\":{\"id\":\"70128\"},\"ticker\":{\"id\":\"70103\"}},\"id\":\"70102\",\"type\":\"LinearAxis\"},{\"attributes\":{\"line_alpha\":0.2,\"line_color\":\"#2ca02c\",\"line_width\":2,\"x\":{\"field\":\"Year\"},\"y\":{\"field\":\"Data\"}},\"id\":\"70061\",\"type\":\"Line\"},{\"attributes\":{},\"id\":\"70099\",\"type\":\"BasicTicker\"},{\"attributes\":{\"axis\":{\"id\":\"69986\"},\"coordinates\":null,\"dimension\":1,\"group\":null,\"ticker\":null},\"id\":\"69989\",\"type\":\"Grid\"},{\"attributes\":{\"data\":{\"Data\":{\"__ndarray__\":\"hAFLrmLxxT8I16NwPQrHP9SCF30FacA/vEG0VrQ5wD8AAAAAAACwPwAAAAAAAAAAEDyFXKlnqT+gs8wiFFuhP+D7G7RXH6c/AM/26A33kT8AAAAAAACwPwAAAAAAAAAA7A4pBkg0wT/kZOJWQQzGPw==\",\"dtype\":\"float64\",\"order\":\"little\",\"shape\":[14]},\"Year\":[2001,2002,2003,2004,2005,2007,2008,2011,2012,2013,2014,2015,2016,2017]},\"selected\":{\"id\":\"70076\"},\"selection_policy\":{\"id\":\"70075\"}},\"id\":\"70057\",\"type\":\"ColumnDataSource\"},{\"attributes\":{\"axis_label\":\"Year\",\"coordinates\":null,\"formatter\":{\"id\":\"70014\"},\"group\":null,\"major_label_policy\":{\"id\":\"70015\"},\"ticker\":{\"id\":\"69983\"}},\"id\":\"69982\",\"type\":\"LinearAxis\"},{\"attributes\":{\"source\":{\"id\":\"70029\"}},\"id\":\"70035\",\"type\":\"CDSView\"},{\"attributes\":{\"axis\":{\"id\":\"70098\"},\"coordinates\":null,\"group\":null,\"ticker\":null},\"id\":\"70101\",\"type\":\"Grid\"},{\"attributes\":{\"coordinates\":null,\"group\":null,\"text\":\"PfMDR1 Predominant Variants in ESEA\"},\"id\":\"70088\",\"type\":\"Title\"},{\"attributes\":{},\"id\":\"70109\",\"type\":\"ResetTool\"},{\"attributes\":{\"overlay\":{\"id\":\"70111\"}},\"id\":\"70108\",\"type\":\"BoxZoomTool\"},{\"attributes\":{},\"id\":\"69983\",\"type\":\"BasicTicker\"},{\"attributes\":{},\"id\":\"70106\",\"type\":\"PanTool\"},{\"attributes\":{},\"id\":\"69980\",\"type\":\"LinearScale\"},{\"attributes\":{\"coordinates\":null,\"data_source\":{\"id\":\"70057\"},\"glyph\":{\"id\":\"70059\"},\"group\":null,\"hover_glyph\":null,\"muted_glyph\":{\"id\":\"70061\"},\"nonselection_glyph\":{\"id\":\"70060\"},\"view\":{\"id\":\"70063\"}},\"id\":\"70062\",\"type\":\"GlyphRenderer\"},{\"attributes\":{},\"id\":\"70107\",\"type\":\"WheelZoomTool\"},{\"attributes\":{\"line_alpha\":0.1,\"line_color\":\"#ff7f0e\",\"line_width\":2,\"x\":{\"field\":\"Year\"},\"y\":{\"field\":\"Data\"}},\"id\":\"70032\",\"type\":\"Line\"},{\"attributes\":{\"coordinates\":null,\"group\":null,\"text\":\"PfMDR1 Predominant Variants in WSEA\"},\"id\":\"69972\",\"type\":\"Title\"},{\"attributes\":{\"axis\":{\"id\":\"70102\"},\"coordinates\":null,\"dimension\":1,\"group\":null,\"ticker\":null},\"id\":\"70105\",\"type\":\"Grid\"},{\"attributes\":{\"line_color\":\"#2ca02c\",\"line_width\":2,\"x\":{\"field\":\"Year\"},\"y\":{\"field\":\"Data\"}},\"id\":\"70059\",\"type\":\"Line\"},{\"attributes\":{\"fill_alpha\":{\"value\":0.5},\"fill_color\":{\"value\":\"#ff7f0e\"},\"hatch_alpha\":{\"value\":0.5},\"hatch_color\":{\"value\":\"#ff7f0e\"},\"line_alpha\":{\"value\":0.5},\"line_color\":{\"value\":\"#ff7f0e\"},\"size\":{\"value\":10},\"x\":{\"field\":\"Year\"},\"y\":{\"field\":\"Data\"}},\"id\":\"70050\",\"type\":\"Circle\"},{\"attributes\":{\"line_alpha\":0.2,\"line_color\":\"#ff7f0e\",\"line_width\":2,\"x\":{\"field\":\"Year\"},\"y\":{\"field\":\"Data\"}},\"id\":\"70033\",\"type\":\"Line\"},{\"attributes\":{\"line_alpha\":0.1,\"line_color\":\"#2ca02c\",\"line_width\":2,\"x\":{\"field\":\"Year\"},\"y\":{\"field\":\"Data\"}},\"id\":\"70060\",\"type\":\"Line\"}],\"root_ids\":[\"70236\"]},\"title\":\"Bokeh Application\",\"version\":\"2.4.0\"}};\n",
       "  const render_items = [{\"docid\":\"cdcf955e-c36c-4245-b53d-e4b3e45d08b0\",\"root_ids\":[\"70236\"],\"roots\":{\"70236\":\"4efe8a95-7130-4d05-99f1-e2b1b09970a0\"}}];\n",
       "  root.Bokeh.embed.embed_items_notebook(docs_json, render_items);\n",
       "\n",
       "  }\n",
       "  if (root.Bokeh !== undefined) {\n",
       "    embed_document(root);\n",
       "  } else {\n",
       "    let attempts = 0;\n",
       "    const timer = setInterval(function(root) {\n",
       "      if (root.Bokeh !== undefined) {\n",
       "        clearInterval(timer);\n",
       "        embed_document(root);\n",
       "      } else {\n",
       "        attempts++;\n",
       "        if (attempts > 100) {\n",
       "          clearInterval(timer);\n",
       "          console.log(\"Bokeh: ERROR: Unable to run BokehJS code because BokehJS library is missing\");\n",
       "        }\n",
       "      }\n",
       "    }, 10, root)\n",
       "  }\n",
       "})(window);"
      ],
      "application/vnd.bokehjs_exec.v0+json": ""
     },
     "metadata": {
      "application/vnd.bokehjs_exec.v0+json": {
       "id": "70236"
      }
     },
     "output_type": "display_data"
    },
    {
     "data": {
      "text/plain": [
       "<data_analysis.plotting.Subplots at 0x122240f10>"
      ]
     },
     "execution_count": 123,
     "metadata": {},
     "output_type": "execute_result"
    }
   ],
   "source": [
    "plot_haplotype_frequency(pf6plus, 'PfMDR1', num_top_haplotypes=2, populations = ['WSEA', 'ESEA'])"
   ]
  },
  {
   "cell_type": "markdown",
   "metadata": {},
   "source": [
    "Interestingly, the predominant PfMDR1 haplotype in WSEA (left plot) is `NYD` in blue, which maintains a stable high frequency over the entire sampling period. ESEA, on the other hand (right plot), has two moderate frequency `PfMDR1` haplotypes for several years, followed by the orange `NFD` haplotype eventually gaining dominance over the `NYD` haplotype over time. Despite these two regions being quite geographically close, the `PfMDR1` haplotypes are experiencing what seems to be very different selective pressures at this locus. "
   ]
  },
  {
   "cell_type": "code",
   "execution_count": null,
   "metadata": {},
   "outputs": [],
   "source": []
  }
 ],
 "metadata": {
  "colab": {
   "collapsed_sections": [],
   "name": "2_prevalence_DR_haps_270921.ipynb",
   "provenance": []
  },
  "kernelspec": {
   "display_name": "Python 3 (ipykernel)",
   "language": "python",
   "name": "python3"
  },
  "language_info": {
   "codemirror_mode": {
    "name": "ipython",
    "version": 3
   },
   "file_extension": ".py",
   "mimetype": "text/x-python",
   "name": "python",
   "nbconvert_exporter": "python",
   "pygments_lexer": "ipython3",
   "version": "3.8.2"
  }
 },
 "nbformat": 4,
 "nbformat_minor": 1
}
