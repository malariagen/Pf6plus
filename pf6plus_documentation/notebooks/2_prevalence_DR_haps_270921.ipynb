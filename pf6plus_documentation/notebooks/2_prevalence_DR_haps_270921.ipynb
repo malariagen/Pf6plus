{
 "cells": [
  {
   "cell_type": "markdown",
   "metadata": {},
   "source": [
    "<img src=\"../images/MalariaGEN.png\" alt=\"MalariaGEN logo\" width=\"375px\" align=\"left\">\n",
    "\n",
    "**We would like to thank all MalariaGEN Plasmodium falciparum Community Project partners for their contribution. If you use this resource please remember to also site the following studies:**\n",
    "[Pf6 partner studies](http://ngs.sanger.ac.uk/production/malaria/pfcommunityproject/Pf6/Pf_6_partner_studies.pdf) and [GenRe partner studies](http://ngs.sanger.ac.uk/production/malaria/Resource/29/20200705-GenRe-07-PartnerStudyInformation-0.39.pdf)."
   ]
  },
  {
   "cell_type": "markdown",
   "metadata": {
    "id": "9Ewe-0PvBOmM"
   },
   "source": [
    "# Drug Resistant variants visualisation"
   ]
  },
  {
   "cell_type": "markdown",
   "metadata": {
    "id": "duyIduLUBP3p"
   },
   "source": [
    "This notebook allows you to use the Phenotyper tool to infer phenotypes from your own data. After achieving this, you can use our simple visualisation tools to see your results and compare them with our Pf6+ dataset, which stores over 13,500 samples with inferred phenotypes, collected across the world."
   ]
  },
  {
   "cell_type": "markdown",
   "metadata": {
    "id": "reAK1YsQLcsc"
   },
   "source": [
    "## Setup"
   ]
  },
  {
   "cell_type": "markdown",
   "metadata": {
    "id": "-QzDW7nD75Qy"
   },
   "source": [
    "### Running on Colab"
   ]
  },
  {
   "cell_type": "code",
   "execution_count": null,
   "metadata": {
    "colab": {
     "base_uri": "https://localhost:8080/"
    },
    "id": "3fbYvsDkbaLM",
    "outputId": "281786c2-735a-4e01-bb9d-94de6d77eff5"
   },
   "outputs": [],
   "source": [
    "from google.colab import drive\n",
    "drive.mount('/content/drive')"
   ]
  },
  {
   "cell_type": "code",
   "execution_count": null,
   "metadata": {
    "id": "LI8xNB1HbebR"
   },
   "outputs": [],
   "source": [
    "!cp -r drive/MyDrive/data_analysis ."
   ]
  },
  {
   "cell_type": "markdown",
   "metadata": {
    "id": "609WYBOZGaGc"
   },
   "source": [
    "### Running Locally"
   ]
  },
  {
   "cell_type": "markdown",
   "metadata": {
    "id": "i7jkBEiRGaGc"
   },
   "source": [
    "There are some steps you need to follow before opening the notebooks to run them locally. If you haven't already, please follow these [instructions](https://gitlab.com/malariagen/gsp/pf6plus/-/tree/add_jupyter_notebooks/notebooks#running-locally)."
   ]
  },
  {
   "cell_type": "markdown",
   "metadata": {
    "id": "8dZS9zQd8LH2"
   },
   "source": [
    "### Import the python scripts "
   ]
  },
  {
   "cell_type": "code",
   "execution_count": null,
   "metadata": {
    "id": "lw_UrIlFbRKS"
   },
   "outputs": [],
   "source": [
    "import pandas as pd\n",
    "from data_analysis.plot_dr_prevalence import *\n",
    "from data_analysis.plot_haplotype_frequency import *\n",
    "from data_analysis.tabulate_drug_resistance import *\n",
    "from data_analysis.interactive_widgets import *"
   ]
  },
  {
   "cell_type": "code",
   "execution_count": null,
   "metadata": {
    "id": "XxTYCxb4GaGd"
   },
   "outputs": [],
   "source": [
    "%matplotlib inline "
   ]
  },
  {
   "cell_type": "code",
   "execution_count": null,
   "metadata": {
    "id": "yggaXHqzGaGe"
   },
   "outputs": [],
   "source": [
    "from ipywidgets import interact, fixed\n",
    "import bokeh.io"
   ]
  },
  {
   "cell_type": "code",
   "execution_count": null,
   "metadata": {
    "id": "NWYa1hznGaGe"
   },
   "outputs": [],
   "source": [
    "bokeh.io.output_notebook()"
   ]
  },
  {
   "cell_type": "markdown",
   "metadata": {
    "id": "hBzDZIgYLhww"
   },
   "source": [
    "### Import data"
   ]
  },
  {
   "cell_type": "code",
   "execution_count": null,
   "metadata": {
    "id": "5YtEojf3h1aa"
   },
   "outputs": [],
   "source": [
    "#input Pf6+ data \n",
    "pf6plus_metadata = 'https://pf6plus.cog.sanger.ac.uk/pf6plus_metadata.tsv'\n",
    "pf6plus = pd.read_csv(pf6plus_metadata, sep='\\t', index_col=0, low_memory=False)"
   ]
  },
  {
   "cell_type": "markdown",
   "metadata": {
    "id": "19UZh0HwGaGf"
   },
   "source": [
    "Here we filter out the samples which have IncludeInAnalysis set to True. This will filter out only the high-quality samples. (This includes a combination of QC samples for WGS and samples “included” in the GenRe analysis for AmpSeq)"
   ]
  },
  {
   "cell_type": "code",
   "execution_count": null,
   "metadata": {
    "id": "8RZWxqI4GaGf"
   },
   "outputs": [],
   "source": [
    "pf6plus=pf6plus.loc[pf6plus.IncludeInAnalysis==True]"
   ]
  },
  {
   "cell_type": "markdown",
   "metadata": {
    "id": "bSIZ8c5Nm7zT"
   },
   "source": [
    "## Prevalence of Resistant Variants\n",
    "\n",
    "Note: If your GRC doesn't have information on Drug Resistance, you can use the Phenotyper tool (`3_phenotyper.ipynb`), to get it. \n",
    "\n"
   ]
  },
  {
   "cell_type": "markdown",
   "metadata": {
    "id": "HeFiSjigZJmp"
   },
   "source": [
    "### Tabulate drug resistant variants\n"
   ]
  },
  {
   "cell_type": "code",
   "execution_count": null,
   "metadata": {
    "colab": {
     "base_uri": "https://localhost:8080/"
    },
    "id": "EPLoyjBeGTjQ",
    "outputId": "0a7ebb14-5f5d-445d-ae79-53a3cfbccb0c"
   },
   "outputs": [],
   "source": [
    "# use help(name_of_function) to access the documentation notes\n",
    "help(tabulate_drug_resistant)"
   ]
  },
  {
   "cell_type": "code",
   "execution_count": null,
   "metadata": {
    "colab": {
     "base_uri": "https://localhost:8080/",
     "height": 810
    },
    "id": "xr8O3-Yq_N6s",
    "outputId": "df5ee02c-4911-477b-dcb4-dbfd4c80c088"
   },
   "outputs": [],
   "source": [
    "tabulate_drug_resistant(pf6plus, 'S-P')"
   ]
  },
  {
   "cell_type": "code",
   "execution_count": null,
   "metadata": {
    "colab": {
     "base_uri": "https://localhost:8080/",
     "height": 128
    },
    "id": "0628dSRW_OEy",
    "outputId": "eea0c7b9-5fbe-4dc6-9e22-6acddabf35ed"
   },
   "outputs": [],
   "source": [
    "tabulate_drug_resistant(pf6plus, 'S-P', population='WAF')"
   ]
  },
  {
   "cell_type": "code",
   "execution_count": null,
   "metadata": {
    "colab": {
     "base_uri": "https://localhost:8080/",
     "height": 810
    },
    "id": "eDews4D8q4Hr",
    "outputId": "927246ac-d1b2-4091-87e8-bd0fae58532b"
   },
   "outputs": [],
   "source": [
    "tabulate_drug_resistant(pf6plus,'S-P', year = [2007, 2010], bin=False)"
   ]
  },
  {
   "cell_type": "code",
   "execution_count": null,
   "metadata": {
    "colab": {
     "base_uri": "https://localhost:8080/",
     "height": 97
    },
    "id": "yNGCmgRDh6LK",
    "outputId": "c4a96a1f-94a2-45be-d0b4-98a37a5a2340"
   },
   "outputs": [],
   "source": [
    "tabulate_drug_resistant(pf6plus,'S-P', country='Mali', year = [2007,2010], bin=True)"
   ]
  },
  {
   "cell_type": "code",
   "execution_count": null,
   "metadata": {
    "colab": {
     "base_uri": "https://localhost:8080/",
     "height": 97
    },
    "id": "HiMi--R2qskb",
    "outputId": "94f69c6e-14bc-4844-d083-8b330a107c95"
   },
   "outputs": [],
   "source": [
    "tabulate_drug_resistant(pf6plus,'S-P', country='Gambia', year = [2007,2010], bin=True)"
   ]
  },
  {
   "cell_type": "markdown",
   "metadata": {
    "id": "_-DEImCYNurR"
   },
   "source": [
    "**The number of samples collected across different locations in different years varies widely in the Pf6+ data resource. To increase confidence in the plots shown below, a threshold is set to only include country (or) population/year combinations with n_samples>25. You can change this default value by using the `threshold` flag, but please be cautious.**"
   ]
  },
  {
   "cell_type": "markdown",
   "metadata": {
    "id": "ZEbWtLWXO6JS"
   },
   "source": [
    "### Plot Drug Resistant Prevalence"
   ]
  },
  {
   "cell_type": "code",
   "execution_count": null,
   "metadata": {
    "colab": {
     "base_uri": "https://localhost:8080/"
    },
    "id": "YZhavFFM1Qwx",
    "outputId": "d04a0a11-0095-4b9b-eb0b-8d4344344431"
   },
   "outputs": [],
   "source": [
    "help(plot_dr_prevalence)"
   ]
  },
  {
   "cell_type": "code",
   "execution_count": null,
   "metadata": {
    "colab": {
     "base_uri": "https://localhost:8080/",
     "height": 898
    },
    "id": "ItGBPFS0GSJu",
    "outputId": "44cce340-b202-467b-aad3-cd7ec478ec08"
   },
   "outputs": [],
   "source": [
    "plot_dr_prevalence(pf6plus, drugs=['S-P','Sulfadoxine','Chloroquine','Artemisinin','DHA-PPQ','Piperaquine'], country = 'Gambia', population = 'WAF')"
   ]
  },
  {
   "cell_type": "code",
   "execution_count": null,
   "metadata": {
    "colab": {
     "base_uri": "https://localhost:8080/",
     "height": 847
    },
    "id": "7aiHdyLhbRKX",
    "outputId": "51dc4cbc-dbe8-4a49-82fd-2d1d9dd5af4b"
   },
   "outputs": [],
   "source": [
    "plot_dr_prevalence(pf6plus, drugs=['S-P', 'Sulfadoxine', 'Chloroquine'], country = 'Gambia', population = 'WAF')"
   ]
  },
  {
   "cell_type": "code",
   "execution_count": null,
   "metadata": {
    "colab": {
     "base_uri": "https://localhost:8080/",
     "height": 447
    },
    "id": "NJFAstQoZaUY",
    "outputId": "ca845e0e-f87d-4108-c778-1cadd5a06657"
   },
   "outputs": [],
   "source": [
    "plot_dr_prevalence(pf6plus, drugs=['S-P'], country = 'Gambia')"
   ]
  },
  {
   "cell_type": "code",
   "execution_count": null,
   "metadata": {
    "colab": {
     "base_uri": "https://localhost:8080/",
     "height": 447
    },
    "id": "ee_nhBL5PSsc",
    "outputId": "68ef0a3f-c37d-41c1-b6d2-63aa21c09428"
   },
   "outputs": [],
   "source": [
    "plot_dr_prevalence(pf6plus, drugs=['S-P'], country = 'Mali', population = 'WAF')"
   ]
  },
  {
   "cell_type": "markdown",
   "metadata": {
    "id": "6QTu5VhHc7u8"
   },
   "source": [
    "### Plot most common haplotypes per population/country"
   ]
  },
  {
   "cell_type": "code",
   "execution_count": null,
   "metadata": {
    "colab": {
     "base_uri": "https://localhost:8080/"
    },
    "id": "u57FbKMBP5LQ",
    "outputId": "5f362f2b-151e-4339-b668-29c408e8318e"
   },
   "outputs": [],
   "source": [
    "help(plot_haplotype_frequency)"
   ]
  },
  {
   "cell_type": "code",
   "execution_count": null,
   "metadata": {
    "colab": {
     "base_uri": "https://localhost:8080/",
     "height": 464
    },
    "id": "cc6tb0gwbRKZ",
    "outputId": "c205ae6c-f86b-43d3-ab23-eed87483b320"
   },
   "outputs": [],
   "source": [
    "plot_haplotype_frequency(pf6plus, 'PfDHFR', num_top_haplotypes=5, populations = ['CAF'], years = None, bin=False)"
   ]
  },
  {
   "cell_type": "code",
   "execution_count": null,
   "metadata": {
    "colab": {
     "base_uri": "https://localhost:8080/",
     "height": 1000
    },
    "id": "UoopMYI8QGje",
    "outputId": "0301fb18-84b2-47d9-e9c0-e60611facaf7"
   },
   "outputs": [],
   "source": [
    "plot_haplotype_frequency(pf6plus, 'PfDHFR', num_top_haplotypes=5, populations = ['CAF', 'EAF', 'ESEA', 'OCE', 'SAS', 'WAF', 'WSEA'], years = None, bin=False)"
   ]
  },
  {
   "cell_type": "code",
   "execution_count": null,
   "metadata": {
    "colab": {
     "base_uri": "https://localhost:8080/",
     "height": 464
    },
    "id": "AZEtSUqxTjAX",
    "outputId": "df6504a7-403e-4f1d-b7df-f2c30c9f6fa4"
   },
   "outputs": [],
   "source": [
    "plot_haplotype_frequency(pf6plus, 'PfDHFR', num_top_haplotypes=5, countries = ['Mali'], bin=False)"
   ]
  },
  {
   "cell_type": "markdown",
   "metadata": {
    "id": "0ZATSoVPl_Ek"
   },
   "source": [
    "## What else can I do? \n",
    "\n",
    "We are interested on the evolution of Kelch haplotypes in ESEA & would like to know how different are countries within this population & whether we can detect country-specific mutations. \n"
   ]
  },
  {
   "cell_type": "code",
   "execution_count": null,
   "metadata": {
    "colab": {
     "base_uri": "https://localhost:8080/",
     "height": 464
    },
    "id": "4IJIY3ZGUOqk",
    "outputId": "c1b18b69-55bb-46bd-ccc8-cf0b154101af"
   },
   "outputs": [],
   "source": [
    "plot_haplotype_frequency(pf6plus, 'Kelch', populations =  ['ESEA'])"
   ]
  },
  {
   "cell_type": "code",
   "execution_count": null,
   "metadata": {
    "colab": {
     "base_uri": "https://localhost:8080/",
     "height": 464
    },
    "id": "DKm5QD1ycLSz",
    "outputId": "5442eba9-3eb6-4480-ae11-3449241faa9d"
   },
   "outputs": [],
   "source": [
    "plot_haplotype_frequency(pf6plus, 'Kelch', countries = ['Cambodia'])"
   ]
  },
  {
   "cell_type": "code",
   "execution_count": null,
   "metadata": {
    "colab": {
     "base_uri": "https://localhost:8080/",
     "height": 464
    },
    "id": "95jYKUeacfXt",
    "outputId": "78ce6b33-879a-4c9e-a534-b39a62204acb"
   },
   "outputs": [],
   "source": [
    "plot_haplotype_frequency(pf6plus, 'Kelch', countries = ['Vietnam','Cambodia'])"
   ]
  },
  {
   "cell_type": "code",
   "execution_count": null,
   "metadata": {
    "colab": {
     "base_uri": "https://localhost:8080/",
     "height": 464
    },
    "id": "jvRn3wKaaM2f",
    "outputId": "bcfe7952-f1a8-4b6c-b318-5b8cbb45a764"
   },
   "outputs": [],
   "source": [
    "plot_haplotype_frequency(pf6plus, 'Kelch', countries = ['Laos'])"
   ]
  },
  {
   "cell_type": "markdown",
   "metadata": {
    "id": "iUNwrMu_ogYw"
   },
   "source": [
    "### An extra use case.. \n",
    "Explore how different are PfDHFR haplotypes between ESEA and WSEA\n"
   ]
  },
  {
   "cell_type": "code",
   "execution_count": null,
   "metadata": {
    "colab": {
     "base_uri": "https://localhost:8080/",
     "height": 864
    },
    "id": "Jl52GPbZnbcb",
    "outputId": "16dc272c-5433-4b91-9147-c6cbea28dc9f"
   },
   "outputs": [],
   "source": [
    "plot_haplotype_frequency(pf6plus, 'PfDHFR', populations = ['WSEA','ESEA','WAF','EAF'])"
   ]
  }
 ],
 "metadata": {
  "colab": {
   "collapsed_sections": [],
   "name": "2_prevalence_DR_haps_270921.ipynb",
   "provenance": []
  },
  "kernelspec": {
   "display_name": "Python 3",
   "language": "python",
   "name": "python3"
  },
  "language_info": {
   "codemirror_mode": {
    "name": "ipython",
    "version": 3
   },
   "file_extension": ".py",
   "mimetype": "text/x-python",
   "name": "python",
   "nbconvert_exporter": "python",
   "pygments_lexer": "ipython3",
   "version": "3.7.3"
  }
 },
 "nbformat": 4,
 "nbformat_minor": 1
}
