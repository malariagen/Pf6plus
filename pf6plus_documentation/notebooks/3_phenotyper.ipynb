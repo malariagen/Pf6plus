{
 "cells": [
  {
   "cell_type": "markdown",
   "metadata": {
    "id": "gG7SLGIAkkPq"
   },
   "source": [
    "**We would like to thank all MalariaGEN Plasmodium falciparum Community Project partners for their contribution. If you use this resource please remember to also site the following studies:**\n",
    "[Pf6 partner studies](http://ngs.sanger.ac.uk/production/malaria/pfcommunityproject/Pf6/Pf_6_partner_studies.pdf) and [GenRe partner studies](http://ngs.sanger.ac.uk/production/malaria/Resource/29/20200705-GenRe-07-PartnerStudyInformation-0.39.pdf)."
   ]
  },
  {
   "cell_type": "markdown",
   "metadata": {
    "id": "I3HujVOZprL7"
   },
   "source": [
    "# Phenotyper\n",
    "\n",
    "This notebook allows you to use the **Phenotyper** tool to infer drug-resistant phenotypes from your own data. After inferring the phenotypes, you can use our simple visualisation tools to explore your results and compare them with our **Pf6+** dataset, which stores over 13,500 samples, collected across the world.\n",
    "\n",
    "Please see `https://gitlab.internal.sanger.ac.uk/dt5/phenotyper` to explore the complete documentation.\n",
    "\n",
    "**When to use?** If your Genetic Report Card (GRC) doesn't have information regarding resistant phenotypes or you would like to update previous inferred phenotypes, you can use phenotyper to evaluate a set of rules to infer drug resistance states. Note that any file with information on the genotypes described below, can be used to infer the drug-resistant phenotypes.\n",
    "\n",
    "**How to use?**\n",
    "\n",
    "```\n",
    "Usage: ./phenotyper.r [options]\n",
    "Evaluates a set of phenotyping rules on all the samples of the given data file.\n",
    "\n",
    "Options:\n",
    "        --datafile=DATAFILE\n",
    "                Path to the data file, a tabular file with the required fields (first column reserverd for sample names).\n",
    "\n",
    "        --rulesfile=RULESFILE\n",
    "                Path to the JSON file that encodes the rules to be used for evaluating each drug.\n",
    "\n",
    "        --ruleout=RULEOUT\n",
    "                The field to be extracted from a rule when evaluated as true. Helps with debugging.\n",
    "\n",
    "        --samplefield=SAMPLEFIELD\n",
    "                The field on the data file that designates the sample id (optional).\n",
    "\n",
    "        --verbose\n",
    "                A flag to obtain verbose detailed output in the standard output (can generate very big logs, for tracebacks).\n",
    "\n",
    "        --output=OUTPUT\n",
    "                Base path for the output files.\n",
    "\n",
    "        -h, --help\n",
    "                Show this help message and exit\n",
    "```\n",
    "\n",
    "**Which are the required fields for `--datafile` ?** You will need a tabulated file with the following fields: \n",
    "\n",
    "```\n",
    "crt_76[K]       crt_72-76[CVMNK]        dhfr_51[N]      dhfr_59[C]      dhfr_108[S]     dhfr_164[I]     dhps_437[G]     dhps_540[K]     dhps_581[A]     dhps_613[A]     k13_class       k13_alleles     mdr1_dup_call   pm2_dup_call    gch1_dup_call \n",
    "```\n",
    "\n",
    "As you can see there is no need for your file to include any further metadata such as location; given that the **phenotyper** only uses genetic data for the inference. Just make sure that you have keep sample_ids from our output file, so you can cross-reference it with other metadata you might have.\n",
    "\n",
    "An example of the complete file used can be found on our example file `mygrc_metadata_nophenotypes.tsv`. If you have your GRC, this tool will create this file for you, before moving on to the phenotype prediction \n",
    "\n",
    "**What can I do with the output?** An easy way to visualise your results, is by using `2_prevalence_DR.ipynb`; where you can also compare your data against Pf6+ (a public resource which combines information on over 13,000 samples worldwide), increasing the power of your data.  \n"
   ]
  },
  {
   "cell_type": "markdown",
   "metadata": {
    "id": "I1FEMvi3tOxr"
   },
   "source": [
    "If you are happy to use the default rules we've generated, you can continue with the procedure explained here; otherwise, please check the `Further technical details` section below. \n",
    "\n",
    "\n",
    "\n"
   ]
  },
  {
   "cell_type": "markdown",
   "metadata": {
    "id": "wMyASUb9K2bb"
   },
   "source": [
    "## Setup"
   ]
  },
  {
   "cell_type": "markdown",
   "metadata": {
    "id": "eOIMfl8pkkP1"
   },
   "source": [
    "Download the phenotyper tool if you haven't already"
   ]
  },
  {
   "cell_type": "code",
   "execution_count": 1,
   "metadata": {
    "id": "qnPqxJD9kkP1"
   },
   "outputs": [
    {
     "name": "stdout",
     "output_type": "stream",
     "text": [
      "Cloning into 'phenotyper'...\n",
      "Username for 'https://github.com': ^C\n"
     ]
    }
   ],
   "source": [
    "#TO DO: this will only work once the phenotyper repo has been made public\n",
    "!git clone https://github.com/malariagen/phenotyper.git"
   ]
  },
  {
   "cell_type": "markdown",
   "metadata": {
    "id": "PinHHVRPkkP1"
   },
   "source": [
    "Below we set the paths to the phenotyper.r script, the example GRC, the rules file, and the output file containing the phenotypes. `PATH_TO_PHENOTYPER`, `PATH_TO_GRC`, and `PATH_TO_RULES` are set to the files cloned from git above (You may need to change the paths if you downloaded the phenotyper somewhere else). Please set `PATH_TO_OUTPUT` to the path of the file you would like the phenotyper to create and put the output in."
   ]
  },
  {
   "cell_type": "code",
   "execution_count": 2,
   "metadata": {
    "id": "0iekpkhUK2bd"
   },
   "outputs": [
    {
     "name": "stdout",
     "output_type": "stream",
     "text": [
      "env: PATH_TO_PHENOTYPER=./phenotyper/phenotyper.r\n",
      "env: PATH_TO_GRC=./phenotyper/ext/fake_grc/mygrc_metadata_genotypes.tsv\n",
      "env: PATH_TO_RULES=./phenotyper/ext/rules/test_rules_310821.json\n",
      "env: PATH_TO_OUTPUT=#Enter path to output file you would like to create\n"
     ]
    }
   ],
   "source": [
    "#SET VARIABLES FOR RUNNING PHENOTYPER HERE \n",
    "%env PATH_TO_PHENOTYPER=./phenotyper/phenotyper.r \n",
    "%env PATH_TO_GRC=./phenotyper/ext/fake_grc/mygrc_metadata_genotypes.tsv\n",
    "%env PATH_TO_RULES=./phenotyper/ext/rules/test_rules_310821.json\n",
    "%env PATH_TO_OUTPUT=#Enter path to output file you would like to create"
   ]
  },
  {
   "cell_type": "markdown",
   "metadata": {
    "id": "BtkPfumUkkPx"
   },
   "source": [
    "Running the following will allow you to run R and install the dependencies that you need to run the phenotyper tool."
   ]
  },
  {
   "cell_type": "code",
   "execution_count": 5,
   "metadata": {
    "id": "OtwamsFZREgE"
   },
   "outputs": [
    {
     "name": "stdout",
     "output_type": "stream",
     "text": [
      "The rpy2.ipython extension is already loaded. To reload it, use:\n",
      "  %reload_ext rpy2.ipython\n"
     ]
    }
   ],
   "source": [
    "#required to use R inside the Jupyter Notebook\n",
    "%load_ext rpy2.ipython"
   ]
  },
  {
   "cell_type": "markdown",
   "metadata": {
    "id": "7V1HvfJvK2bc"
   },
   "source": [
    "Install R dependencies for phenotyper"
   ]
  },
  {
   "cell_type": "code",
   "execution_count": 6,
   "metadata": {
    "colab": {
     "base_uri": "https://localhost:8080/"
    },
    "id": "4oqms3fzRFoe",
    "outputId": "82d1d2b9-2207-4fe3-bf70-64092f3b3553",
    "scrolled": true
   },
   "outputs": [
    {
     "name": "stdout",
     "output_type": "stream",
     "text": [
      "--- Please select a CRAN mirror for use in this session ---\n"
     ]
    }
   ],
   "source": [
    "%%R \n",
    "\n",
    "install.packages('optparse', quiet = TRUE)\n",
    "install.packages('stringr', quiet = TRUE)\n",
    "install.packages('stringi', quiet = TRUE)\n",
    "install.packages('jsonlite', quiet = TRUE)"
   ]
  },
  {
   "cell_type": "markdown",
   "metadata": {
    "id": "o6jVRJWjIuyE"
   },
   "source": [
    "### Running on Colab"
   ]
  },
  {
   "cell_type": "markdown",
   "metadata": {
    "id": "2tXLqv0nI0ZL"
   },
   "source": [
    "If you are running the notebooks on colab then run the cell below to clone the python code needed for the plots below"
   ]
  },
  {
   "cell_type": "code",
   "execution_count": 7,
   "metadata": {
    "id": "bGfS75d9IoFR"
   },
   "outputs": [
    {
     "name": "stdout",
     "output_type": "stream",
     "text": [
      "Cloning into 'Pf6plus'...\n",
      "Username for 'https://github.com': ^C\n",
      "cp: /content/Pf6plus/pf6plus_documentation/notebooks/data_analysis: No such file or directory\n"
     ]
    }
   ],
   "source": [
    "!git clone https://github.com/malariagen/Pf6plus.git \n",
    "!cp -r /content/Pf6plus/pf6plus_documentation/notebooks/data_analysis ."
   ]
  },
  {
   "cell_type": "markdown",
   "metadata": {
    "id": "fP7KUqQuUj3P"
   },
   "source": [
    "#### Using Your Own GRC"
   ]
  },
  {
   "cell_type": "markdown",
   "metadata": {
    "id": "ex8C7XvpkkP3"
   },
   "source": [
    "We have already set the `PATH_TO_GRC` above to the example included in the phenotyper repository. If you would like to use your own you can overide this below by uploading from your own machine or from your google drive. "
   ]
  },
  {
   "cell_type": "markdown",
   "metadata": {
    "id": "3IWsr3JLUup4"
   },
   "source": [
    "##### Uploading from your local machine \n"
   ]
  },
  {
   "cell_type": "markdown",
   "metadata": {
    "id": "D9CvByuzVr_9"
   },
   "source": [
    "You can upload a GRC from your own machine to run the phenotyper. Run the following and select the file from your local machine."
   ]
  },
  {
   "cell_type": "code",
   "execution_count": 8,
   "metadata": {
    "id": "m_QxpPNgT9zc"
   },
   "outputs": [
    {
     "ename": "ModuleNotFoundError",
     "evalue": "No module named 'google.colab'",
     "output_type": "error",
     "traceback": [
      "\u001b[0;31m---------------------------------------------------------------------------\u001b[0m",
      "\u001b[0;31mModuleNotFoundError\u001b[0m                       Traceback (most recent call last)",
      "\u001b[0;32m/var/folders/vc/78lppctx4y58zg88d0xyjydr000lw0/T/ipykernel_43998/2535520808.py\u001b[0m in \u001b[0;36m<module>\u001b[0;34m\u001b[0m\n\u001b[0;32m----> 1\u001b[0;31m \u001b[0;32mfrom\u001b[0m \u001b[0mgoogle\u001b[0m\u001b[0;34m.\u001b[0m\u001b[0mcolab\u001b[0m \u001b[0;32mimport\u001b[0m \u001b[0mfiles\u001b[0m\u001b[0;34m\u001b[0m\u001b[0;34m\u001b[0m\u001b[0m\n\u001b[0m\u001b[1;32m      2\u001b[0m \u001b[0muploaded\u001b[0m \u001b[0;34m=\u001b[0m \u001b[0mfiles\u001b[0m\u001b[0;34m.\u001b[0m\u001b[0mupload\u001b[0m\u001b[0;34m(\u001b[0m\u001b[0;34m)\u001b[0m\u001b[0;34m\u001b[0m\u001b[0;34m\u001b[0m\u001b[0m\n",
      "\u001b[0;31mModuleNotFoundError\u001b[0m: No module named 'google.colab'"
     ]
    }
   ],
   "source": [
    "from google.colab import files\n",
    "uploaded = files.upload()"
   ]
  },
  {
   "cell_type": "markdown",
   "metadata": {
    "id": "E_uvRMcWaeoP"
   },
   "source": [
    "Once the file has been uploaded you should see the path, copy this into the cell below"
   ]
  },
  {
   "cell_type": "code",
   "execution_count": null,
   "metadata": {
    "id": "BqTNDsuQU8O4"
   },
   "outputs": [],
   "source": [
    "%env PATH_TO_GRC=#Enter the path here"
   ]
  },
  {
   "cell_type": "markdown",
   "metadata": {
    "id": "cim7ga4UVg8x"
   },
   "source": [
    "##### Upload from Google Drive"
   ]
  },
  {
   "cell_type": "markdown",
   "metadata": {
    "id": "lCQAZ9S8WRAm"
   },
   "source": [
    "To use a file that is stored on your google drive first connect to your personal google drive by running the cell below and following the instructions that are output."
   ]
  },
  {
   "cell_type": "code",
   "execution_count": null,
   "metadata": {
    "id": "QpaujLTfWTWw"
   },
   "outputs": [],
   "source": [
    "from google.colab import drive\n",
    "drive.mount('/content/drive')"
   ]
  },
  {
   "cell_type": "markdown",
   "metadata": {
    "id": "yweIxDyBXGTF"
   },
   "source": [
    "Copy the GRC to google colab by running the following, replacing `<Path to GRC on your drive>` with the path where your file is stored on your google drive."
   ]
  },
  {
   "cell_type": "code",
   "execution_count": null,
   "metadata": {
    "id": "7M4kBsOhWqo-"
   },
   "outputs": [],
   "source": [
    "!cp -r <Path to GRC on your drive> ."
   ]
  },
  {
   "cell_type": "markdown",
   "metadata": {
    "id": "OHz3v3l5XLLG"
   },
   "source": [
    "Finally, run the following to set PATH_TO_GRC to where your GRC is stored on google colab."
   ]
  },
  {
   "cell_type": "code",
   "execution_count": null,
   "metadata": {
    "id": "r5A-1qolWhcX"
   },
   "outputs": [],
   "source": [
    "%env PATH_TO_GRC=/content/drive/<GRC file name>"
   ]
  },
  {
   "cell_type": "markdown",
   "metadata": {
    "id": "_fiXLcp2K1DG"
   },
   "source": [
    "### Running Locally"
   ]
  },
  {
   "cell_type": "markdown",
   "metadata": {
    "id": "IJF7UMaTK5sh"
   },
   "source": [
    "There are some steps you need to follow before opening the notebooks to run them locally. If you haven't already, please follow these [instructions](https://gitlab.com/malariagen/gsp/pf6plus/-/tree/add_jupyter_notebooks/notebooks#running-locally)."
   ]
  },
  {
   "cell_type": "markdown",
   "metadata": {
    "id": "YZaK5OzpPWpk"
   },
   "source": [
    "#### Using Your Own GRC"
   ]
  },
  {
   "cell_type": "markdown",
   "metadata": {
    "id": "cpHLL_HBO5mD"
   },
   "source": [
    "We have already set `PATH_TO_GRC` above to use the example in the phenotyper repository. If you would like to use your own please set the path to the GRC you would like to use below:"
   ]
  },
  {
   "cell_type": "code",
   "execution_count": null,
   "metadata": {
    "id": "i31JuTFUPMgM"
   },
   "outputs": [],
   "source": [
    "%env PATH_TO_GRC=#Path to GRC "
   ]
  },
  {
   "cell_type": "markdown",
   "metadata": {
    "id": "2JYo7cLgK2be"
   },
   "source": [
    "## Run the Phenotyper"
   ]
  },
  {
   "cell_type": "markdown",
   "metadata": {
    "id": "kycsUouWIN7b"
   },
   "source": [
    "`--verbose` returns an execution log; which is useful to document and track how the samples have been classified"
   ]
  },
  {
   "cell_type": "code",
   "execution_count": null,
   "metadata": {},
   "outputs": [],
   "source": [
    "# import packages to visualise results\n",
    "import pandas as pd\n",
    "from data_analysis.plot_dr_prevalence import plot_phenotype_bar_chart_compared_to_pf6plus\n",
    "from data_analysis.map_samples import map_samples\n",
    "import bokeh.io\n",
    "import os "
   ]
  },
  {
   "cell_type": "code",
   "execution_count": null,
   "metadata": {
    "id": "vOiwV2-GR_n3",
    "scrolled": true
   },
   "outputs": [],
   "source": [
    "! $PATH_TO_PHENOTYPER \\\n",
    "  --datafile $PATH_TO_GRC  \\\n",
    "  --rulesfile $PATH_TO_RULES \\\n",
    "  --ruleout phenotype \\\n",
    "  --output $PATH_TO_OUTPUT \\\n",
    "  --verbose "
   ]
  },
  {
   "cell_type": "markdown",
   "metadata": {
    "id": "4ybV7lL09Pzd"
   },
   "source": [
    "## Explore the detailed output\n",
    "\n",
    "\n"
   ]
  },
  {
   "cell_type": "code",
   "execution_count": null,
   "metadata": {
    "id": "mLnjlYaFwfsy"
   },
   "outputs": [],
   "source": [
    "# import results from Phenotyper run above\n",
    "phenotyper_results = os.environ.get('PATH_TO_OUTPUT')\n",
    "results = pd.read_csv(phenotyper_results, sep='\\t', index_col=0, low_memory=False).reset_index()\n",
    "\n",
    "# import pf6+ data \n",
    "pf6plus_metadata = 'https://pf6plus.cog.sanger.ac.uk/pf6plus_metadata.tsv'\n",
    "pf6plus = pd.read_csv(pf6plus_metadata, sep='\\t', index_col=0, low_memory=False)\n",
    "\n",
    "# import GRC \n",
    "grc_metadata = os.environ.get('PATH_TO_GRC')\n",
    "grc = pd.read_csv(grc_metadata, sep='\\t', index_col=0, low_memory=False)"
   ]
  },
  {
   "cell_type": "code",
   "execution_count": null,
   "metadata": {
    "id": "1Sv_cJNqK2bg"
   },
   "outputs": [],
   "source": [
    "bokeh.io.output_notebook()"
   ]
  },
  {
   "cell_type": "markdown",
   "metadata": {
    "id": "1NO2duCeK2bh"
   },
   "source": [
    "Let's map the phenotypes we have found back to the sample metadata"
   ]
  },
  {
   "cell_type": "code",
   "execution_count": null,
   "metadata": {
    "id": "hGosxqIbK2bh"
   },
   "outputs": [],
   "source": [
    "results['SampleId'] = grc.index\n",
    "results = results.reset_index().set_index('SampleId')"
   ]
  },
  {
   "cell_type": "code",
   "execution_count": null,
   "metadata": {
    "id": "OsiJAVRJK2bh"
   },
   "outputs": [],
   "source": [
    "results_with_geo = pd.concat([results, pf6plus], axis=1, join=\"inner\")"
   ]
  },
  {
   "cell_type": "markdown",
   "metadata": {
    "id": "v6xhIdcgK2bi"
   },
   "source": [
    "The maps below show how including the Pf6+ data can increase the number of samples and the coverage that you have for a country. Click on the icons to find out more"
   ]
  },
  {
   "cell_type": "code",
   "execution_count": null,
   "metadata": {
    "colab": {
     "base_uri": "https://localhost:8080/",
     "height": 808
    },
    "id": "M5nPxkAwK2bi",
    "outputId": "46d16e30-a602-4a67-9747-3b6f644ad893"
   },
   "outputs": [],
   "source": [
    "map_samples(results_with_geo, zoom_to_start=4)"
   ]
  },
  {
   "cell_type": "code",
   "execution_count": null,
   "metadata": {
    "colab": {
     "base_uri": "https://localhost:8080/",
     "height": 808
    },
    "id": "wJziX2iuK2bi",
    "outputId": "d92b52d5-fb0d-40ec-9059-16958184a6ca"
   },
   "outputs": [],
   "source": [
    "map_samples(pf6plus[pf6plus.Country == 'Mali'].copy(),zoom_to_start=4)"
   ]
  },
  {
   "cell_type": "markdown",
   "metadata": {
    "id": "QW3ZW5kiK2bh"
   },
   "source": [
    "The plots below compare the phenotypes found for the GRC, which includes samples from Mali, compared to the samples in the Pf6+ dataset that come from Mali."
   ]
  },
  {
   "cell_type": "code",
   "execution_count": null,
   "metadata": {
    "colab": {
     "base_uri": "https://localhost:8080/",
     "height": 447
    },
    "id": "xe_kqcKZK2bh",
    "outputId": "39b07176-97ae-4b96-cad6-08a980bbcc1b"
   },
   "outputs": [],
   "source": [
    "plot_phenotype_bar_chart_compared_to_pf6plus(results,pf6plus[pf6plus.Country == 'Mali'].copy())"
   ]
  },
  {
   "cell_type": "markdown",
   "metadata": {},
   "source": [
    "## What's next?\n",
    "\n",
    "After obtaining your results from this tool, you can go back to the `2_variants_prevalence.ipynb` notebook to easily visualise your results and compare them with our Pf6+ dataset, which stores over 13,500 samples with inferred phenotypes, collected across the world."
   ]
  },
  {
   "cell_type": "markdown",
   "metadata": {},
   "source": [
    "---"
   ]
  },
  {
   "cell_type": "markdown",
   "metadata": {
    "id": "m232yychtitc"
   },
   "source": [
    "## Further technical details when using phenotyper\n",
    "\n",
    "### Rule example \n",
    "Drugs are evaluated according to a set of rules specified in a JSON document. The only required fields for a rule are name and evaluation. Within evaluation one can access any of the fields/columns provided in the input data file using an R valid expression (see example below).\n",
    "\n",
    "\n",
    "\n",
    "```\n",
    "\"Chloroquine\":{\n",
    "         \"rules\":[\n",
    "            {\n",
    "               \"name\":\"Chloroquine-1\",\n",
    "               \"change\":\"76-Het\",\n",
    "               \"evaluation\":\"`crt_76[K]` %contains% ','\",\n",
    "               \"interpretation\":\"Het\",\n",
    "               \"phenotype\":\"Resistant/het\",\n",
    "               \"analytics\":\"Resistant\"\n",
    "            },\n",
    "            {\n",
    "               \"name\":\"Chloroquine-2\",\n",
    "               \"change\":\"76-Missing\",\n",
    "               \"evaluation\":\"`crt_76[K]` %==% '-'\",\n",
    "               \"interpretation\":\"Missing\",\n",
    "               \"phenotype\":\"Undetermined/missing\",\n",
    "               \"analytics\":\"Undetermined\"\n",
    "            },\n",
    "            {\n",
    "               \"name\":\"Chloroquine-3\",\n",
    "               \"change\":\"K76\",\n",
    "               \"evaluation\":\"`crt_76[K]` %==% 'K'\",\n",
    "               \"interpretation\":\"WT\",\n",
    "               \"phenotype\":\"Sensitive\",\n",
    "               \"analytics\":\"Sensitive\"\n",
    "            },\n",
    "            {\n",
    "               \"name\":\"Chloroquine-4\",\n",
    "               \"change\":\"76T\",\n",
    "               \"evaluation\":\"`crt_76[K]` %==% 'T'\",\n",
    "               \"interpretation\":\"Mutant\",\n",
    "               \"phenotype\":\"Resistant [1]\",\n",
    "               \"analytics\":\"Resistant\"\n",
    "            },\n",
    "            {\n",
    "               \"name\":\"Chloroquine-5\",\n",
    "               \"change\":\"76-nonT\",\n",
    "               \"evaluation\":\"T\",\n",
    "               \"interpretation\":\"Unknown mutant\",\n",
    "               \"phenotype\":\"Undetermined/unknown\",\n",
    "               \"analytics\":\"Undetermined\"\n",
    "            }\n",
    "         ]\n",
    "      }\n",
    "```\n",
    "\n",
    "### Technicalities\n",
    "Better to protect field names with backticks (`) in the JSON file as you'll find weird characters there (for instance they come from Excel files) that will cause havoc in R. One can also do this programmatically by providing a character protection mapping (within the code but not recommended).\n",
    "\n",
    "\n",
    "The software interprets the rules executing the interpretable R code given in evaluation with some custom-made operators, like %==%, which means loose equality (symmetric any operation, any(a in b) or any(b in a)), to ease the evaluation. When dealing with this kind of task one usually writes a little parser for the operations allowed so no arbitrary code is evaluated. However, as we had to deal with different and changing formatting encodings (e.g. the way hets or missing calls are represented) the prototype evaluates any valid R expression given in the rules. We overwrite R system call functions to prevent attempts of code injection but this is obviously something to bear in mind.\n",
    "\n",
    "\n",
    "There are metarules that check the output status of a previously executed rule by referencing the name of the drug with @, for instance:\n",
    "\n",
    "\n",
    "\n",
    "```\n",
    "           {\n",
    "               \"name\":\"Dihydroartemisinin-piperaquine-3\",\n",
    "               \"change\":\"Missing\",\n",
    "               \"evaluation\":\"@Artemisinin@ %contains% 'Missing' || @Piperaquine@ %contains% 'Missing'\",\n",
    "               \"interpretation\":\"Undetermined/Missing\",\n",
    "               \"phenotype\":\"Missing\",\n",
    "               \"analytics\":\"Undetermined\"\n",
    "            },\n",
    "```\n",
    "\n",
    "One can run the program in --verbose mode and save the log. The file will be huge (and the execution is very slow), but I use it to trace back which rules were executed and why when phenotypes changed or were weird.\n",
    "\n",
    "#Important things to bear in mind \n",
    "1. For each drug we define a set of rules that are executed sequentially.\n",
    "2. **Order is important** (top-down execution until finding one that evaluates to true).\n",
    "3. There should be always a default catch-up rule at the end (it will be executed if nothing else has been executed. A default rule just evaluates to `True` or `T`.\n",
    "```\n",
    "           {\n",
    "               \"name\":\"Chloroquine-5\",\n",
    "               \"change\":\"76-nonT\",\n",
    "               \"evaluation\":\"T\",\n",
    "               \"interpretation\":\"Unknown mutant\",\n",
    "               \"phenotype\":\"Undetermined/unknown\",\n",
    "               \"analytics\":\"Undetermined\"\n",
    "            }\n",
    "```\n",
    "4. The script will evaluate each rule according to the `evaluation` field (required).\n",
    "5. The output that will be obtained from a rule that evaluated to true must be specified using the `--ruleout` option. This allows for different outputs even when working with the same set of rules. Example: in our current phenotyping rules we made some arbitrary decisions (samples with het resistance markers are considered undetermined instead of resistant, you can imagine a different world where hets are resistant or dominant hets are resistant). However, one can check what difference these decisions make with the same set of rules by providing different output fields and indicating so when calling the program. For instance, using `--ruleout het_phenotype` instead of `--ruleout phenotype` (see example rule definition below)\n",
    "\n",
    "``` \"Chloroquine\":{\n",
    "         \"rules\":[\n",
    "            {\n",
    "               \"name\":\"Chloroquine-1\",\n",
    "               \"change\":\"76-Het\",\n",
    "               \"evaluation\":\"`PfCRT:76` %==% 'K/T' || `PfCRT:76` %==% 'I/T'\",\n",
    "               \"het_phenotype\":\"Resistant\",\n",
    "               \"phenotype\":\"Undetermined\",\n",
    "               \"analytics\":\"Resistant/Het\"\n",
    "            }, (...)\n",
    "```\n",
    "\n",
    "\n",
    "\n",
    "\n"
   ]
  }
 ],
 "metadata": {
  "colab": {
   "collapsed_sections": [
    "fP7KUqQuUj3P",
    "3IWsr3JLUup4",
    "cim7ga4UVg8x",
    "_fiXLcp2K1DG"
   ],
   "name": "3_phenotyper.ipynb",
   "provenance": []
  },
  "kernelspec": {
   "display_name": "Python 3 (ipykernel)",
   "language": "python",
   "name": "python3"
  },
  "language_info": {
   "codemirror_mode": {
    "name": "ipython",
    "version": 3
   },
   "file_extension": ".py",
   "mimetype": "text/x-python",
   "name": "python",
   "nbconvert_exporter": "python",
   "pygments_lexer": "ipython3",
   "version": "3.9.6"
  }
 },
 "nbformat": 4,
 "nbformat_minor": 1
}
