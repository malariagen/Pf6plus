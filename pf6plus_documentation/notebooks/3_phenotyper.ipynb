{
 "cells": [
  {
   "cell_type": "markdown",
   "metadata": {
    "id": "gG7SLGIAkkPq"
   },
   "source": [
    "**We would like to thank all MalariaGEN Plasmodium falciparum Community Project partners for their contribution. If you use this resource please remember to also site the following studies:**\n",
    "[Pf6 partner studies](http://ngs.sanger.ac.uk/production/malaria/pfcommunityproject/Pf6/Pf_6_partner_studies.pdf) and [GenRe partner studies](http://ngs.sanger.ac.uk/production/malaria/Resource/29/20200705-GenRe-07-PartnerStudyInformation-0.39.pdf)."
   ]
  },
  {
   "cell_type": "markdown",
   "metadata": {
    "id": "I3HujVOZprL7"
   },
   "source": [
    "# Inference of drug resistance status (`phenotyper`)\n",
    "\n",
    "This notebook allows you to use `phenotyper`, a tool to predict drug resistance status from genetic data. In brief, the tool applies a collection of rules, which have been curated from the literature, to determine if a set of genotypes confer resistance to a particular drug. Although we provide an up-to-date list of phenotyping rules (as a JSON file), the user can create his/her own rules or adopt rules from a different source.\n",
    "\n",
    "Please see `https://gitlab.internal.sanger.ac.uk/dt5/phenotyper` to explore the complete documentation.\n",
    "\n",
    "**When to use `phenotyper`?** When your Genetic Report Card (GRC) doesn't have information regarding resistant phenotypes or you would like to update previous inferred phenotypes with new rules. Note that any file with information on genotypes (as described below) can be used with `phenotyper` to infer drug resistance status.\\n\"\n",
    "\n",
    "**How to use?**\n",
    "\n",
    "```\n",
    "Usage: ./phenotyper.r [options]\n",
    "Evaluates a set of phenotyping rules on all the samples of the given data file.\n",
    "\n",
    "Options:\n",
    "        --datafile=DATAFILE\n",
    "                Path to the data file, a tabular file with the required fields (first column reserverd for sample names).\n",
    "\n",
    "        --rulesfile=RULESFILE\n",
    "                Path to the JSON file that encodes the rules to be used for evaluating each drug.\n",
    "\n",
    "        --ruleout=RULEOUT\n",
    "                The field to be extracted from a rule when evaluated as true. Helps with debugging.\n",
    "\n",
    "        --samplefield=SAMPLEFIELD\n",
    "                The field on the data file that designates the sample id (optional).\n",
    "\n",
    "        --verbose\n",
    "                A flag to obtain verbose detailed output in the standard output (can generate very big logs, for tracebacks).\n",
    "\n",
    "        --output=OUTPUT\n",
    "                Base path for the output files.\n",
    "\n",
    "        -h, --help\n",
    "                Show this help message and exit\n",
    "```\n",
    "\n",
    "**Which are the required fields for `--datafile` ?** You will need a tabulated file with the following fields (i.e. header): \n",
    "\n",
    "```\n",
    "crt_76[K]       crt_72-76[CVMNK]        dhfr_51[N]      dhfr_59[C]      dhfr_108[S]     dhfr_164[I]     dhps_437[G]     dhps_540[K]     dhps_581[A]     dhps_613[A]     k13_class       k13_alleles     mdr1_dup_call   pm2_dup_call    gch1_dup_call \n",
    "```\n",
    "\n",
    "There is no need to include any metadata such as location given that `phenotyper` only uses genetic data for predicting drug resistance status. For clarity, we recommend the first field to refer to the sample id, e.g. `sample`, so you can easily cross-reference results with other metadata you might have.\n",
    "\n",
    "For an example of the complete file used you can check `mygrc_metadata_nophenotypes.tsv`. If you have your GRC data at hand, this notebook will create the required input file for you, before moving on to using `phenotyper`. \n",
    "\n",
    "**What can I do with the output?** An easy way to visualise your results is by using `2_prevalence_DR.ipynb`, In that notebook you can compare your data with the Pf6+ dataset (more than 13,000 samples worldwide), which will help in contextualizing your results.  \n"
   ]
  },
  {
   "cell_type": "markdown",
   "metadata": {
    "id": "I1FEMvi3tOxr"
   },
   "source": [
    "If you are happy with the default phenotyping rules we've curated from the literature, you can follow with the procedure explained below. Otherwise, please check the **Further technical details** section for information on how the rules can be modified. \n",
    "\n",
    "\n",
    "\n"
   ]
  },
  {
   "cell_type": "markdown",
   "metadata": {
    "id": "wMyASUb9K2bb"
   },
   "source": [
    "## Setup"
   ]
  },
  {
   "cell_type": "markdown",
   "metadata": {
    "id": "eOIMfl8pkkP1"
   },
   "source": [
    "Download `phenotyper` if you haven't already."
   ]
  },
  {
   "cell_type": "code",
   "execution_count": 5,
   "metadata": {
    "id": "qnPqxJD9kkP1"
   },
   "outputs": [
    {
     "name": "stdout",
     "output_type": "stream",
     "text": [
      "Cloning into 'phenotyper'...\n",
      "Username for 'https://github.com': ^C\n"
     ]
    }
   ],
   "source": [
    "#TO DO: this will only work once the phenotyper repo has been made public\n",
    "!git clone https://github.com/malariagen/phenotyper.git"
   ]
  },
  {
   "cell_type": "markdown",
   "metadata": {
    "id": "PinHHVRPkkP1"
   },
   "source": [
    "Below, we set the paths to the `phenotyper.r` script, the example GRC, the rules file, and the output file containing the phenotypes. `PATH_TO_PHENOTYPER`, `PATH_TO_GRC`, and `PATH_TO_RULES` are set to the files cloned from git above (you may need to change the paths if you downloaded the tool somewhere else). Please set `PATH_TO_OUTPUT` to the path of the file you would like `phenotyper` to use as output."
   ]
  },
  {
   "cell_type": "code",
   "execution_count": 9,
   "metadata": {
    "id": "0iekpkhUK2bd"
   },
   "outputs": [
    {
     "name": "stdout",
     "output_type": "stream",
     "text": [
      "env: PATH_TO_PHENOTYPER=./phenotyper/phenotyper.r\n",
      "env: PATH_TO_GRC=./phenotyper/ext/fake_grc/mygrc_metadata_genotypes.tsv\n",
      "env: PATH_TO_RULES=./phenotyper/ext/rules/test_rules_310821.json\n",
      "env: PATH_TO_OUTPUT=#Enter path to output file you would like to create\n"
     ]
    }
   ],
   "source": [
    "#SET VARIABLES FOR RUNNING PHENOTYPER HERE \n",
    "%env PATH_TO_PHENOTYPER=./phenotyper/phenotyper.r \n",
    "%env PATH_TO_GRC=./phenotyper/ext/fake_grc/mygrc_metadata_genotypes.tsv\n",
    "%env PATH_TO_RULES=./phenotyper/ext/rules/test_rules_310821.json\n",
    "%env PATH_TO_OUTPUT=#Enter path to output file you would like to create"
   ]
  },
  {
   "cell_type": "markdown",
   "metadata": {
    "id": "BtkPfumUkkPx"
   },
   "source": [
    "Running the following will allow you to run `R` and install the dependencies that `phenotyper` requires."
   ]
  },
  {
   "cell_type": "code",
   "execution_count": 10,
   "metadata": {
    "id": "OtwamsFZREgE"
   },
   "outputs": [
    {
     "name": "stdout",
     "output_type": "stream",
     "text": [
      "The rpy2.ipython extension is already loaded. To reload it, use:\n",
      "  %reload_ext rpy2.ipython\n"
     ]
    }
   ],
   "source": [
    "#required to use R inside the Jupyter Notebook\n",
    "%load_ext rpy2.ipython"
   ]
  },
  {
   "cell_type": "markdown",
   "metadata": {
    "id": "7V1HvfJvK2bc"
   },
   "source": [
    "Install `R` dependencies for `phenotyper`."
   ]
  },
  {
   "cell_type": "code",
   "execution_count": 11,
   "metadata": {
    "colab": {
     "base_uri": "https://localhost:8080/"
    },
    "id": "4oqms3fzRFoe",
    "outputId": "82d1d2b9-2207-4fe3-bf70-64092f3b3553",
    "scrolled": true
   },
   "outputs": [],
   "source": [
    "%%R \n",
    "\n",
    "install.packages('optparse', quiet = TRUE)\n",
    "install.packages('stringr', quiet = TRUE)\n",
    "install.packages('stringi', quiet = TRUE)\n",
    "install.packages('jsonlite', quiet = TRUE)"
   ]
  },
  {
   "cell_type": "markdown",
   "metadata": {
    "id": "o6jVRJWjIuyE"
   },
   "source": [
    "### Running on Colab"
   ]
  },
  {
   "cell_type": "markdown",
   "metadata": {
    "id": "2tXLqv0nI0ZL"
   },
   "source": [
    "If you are running the notebooks on colab, then run the next cell to clone the python code needed for generating the plots below."
   ]
  },
  {
   "cell_type": "code",
   "execution_count": 7,
   "metadata": {
    "id": "bGfS75d9IoFR"
   },
   "outputs": [
    {
     "name": "stdout",
     "output_type": "stream",
     "text": [
      "Cloning into 'Pf6plus'...\n",
      "Username for 'https://github.com': ^C\n",
      "cp: /content/Pf6plus/pf6plus_documentation/notebooks/data_analysis: No such file or directory\n"
     ]
    }
   ],
   "source": [
    "!git clone https://github.com/malariagen/Pf6plus.git \n",
    "!cp -r /content/Pf6plus/pf6plus_documentation/notebooks/data_analysis ."
   ]
  },
  {
   "cell_type": "markdown",
   "metadata": {
    "id": "fP7KUqQuUj3P"
   },
   "source": [
    "#### Using Your Own GRC"
   ]
  },
  {
   "cell_type": "markdown",
   "metadata": {
    "id": "ex8C7XvpkkP3"
   },
   "source": [
    "We have already set the `PATH_TO_GRC` above to the example included in the phenotyper repository. If you would like to use your own data, you can overide this below by uploading a file from your machine or from your google drive. "
   ]
  },
  {
   "cell_type": "markdown",
   "metadata": {
    "id": "3IWsr3JLUup4"
   },
   "source": [
    "##### Uploading from your local machine \n"
   ]
  },
  {
   "cell_type": "markdown",
   "metadata": {
    "id": "D9CvByuzVr_9"
   },
   "source": [
    "You can upload a GRC file from your own machine to run `phenotyper`. Run the cell below and select the file from your local machine."
   ]
  },
  {
   "cell_type": "code",
   "execution_count": 8,
   "metadata": {
    "id": "m_QxpPNgT9zc"
   },
   "outputs": [
    {
     "ename": "ModuleNotFoundError",
     "evalue": "No module named 'google.colab'",
     "output_type": "error",
     "traceback": [
      "\u001b[0;31m---------------------------------------------------------------------------\u001b[0m",
      "\u001b[0;31mModuleNotFoundError\u001b[0m                       Traceback (most recent call last)",
      "\u001b[0;32m/var/folders/vc/78lppctx4y58zg88d0xyjydr000lw0/T/ipykernel_43998/2535520808.py\u001b[0m in \u001b[0;36m<module>\u001b[0;34m\u001b[0m\n\u001b[0;32m----> 1\u001b[0;31m \u001b[0;32mfrom\u001b[0m \u001b[0mgoogle\u001b[0m\u001b[0;34m.\u001b[0m\u001b[0mcolab\u001b[0m \u001b[0;32mimport\u001b[0m \u001b[0mfiles\u001b[0m\u001b[0;34m\u001b[0m\u001b[0;34m\u001b[0m\u001b[0m\n\u001b[0m\u001b[1;32m      2\u001b[0m \u001b[0muploaded\u001b[0m \u001b[0;34m=\u001b[0m \u001b[0mfiles\u001b[0m\u001b[0;34m.\u001b[0m\u001b[0mupload\u001b[0m\u001b[0;34m(\u001b[0m\u001b[0;34m)\u001b[0m\u001b[0;34m\u001b[0m\u001b[0;34m\u001b[0m\u001b[0m\n",
      "\u001b[0;31mModuleNotFoundError\u001b[0m: No module named 'google.colab'"
     ]
    }
   ],
   "source": [
    "from google.colab import files\n",
    "uploaded = files.upload()"
   ]
  },
  {
   "cell_type": "markdown",
   "metadata": {
    "id": "E_uvRMcWaeoP"
   },
   "source": [
    "Once the file has been uploaded you should see the path, copy this into the cell below."
   ]
  },
  {
   "cell_type": "code",
   "execution_count": null,
   "metadata": {
    "id": "BqTNDsuQU8O4"
   },
   "outputs": [],
   "source": [
    "%env PATH_TO_GRC=#Enter the path here"
   ]
  },
  {
   "cell_type": "markdown",
   "metadata": {
    "id": "cim7ga4UVg8x"
   },
   "source": [
    "##### Upload from Google Drive"
   ]
  },
  {
   "cell_type": "markdown",
   "metadata": {
    "id": "lCQAZ9S8WRAm"
   },
   "source": [
    "To use a file that is stored on your google drive, first connect to your personal google drive by running the cell below and following the instructions that are printed as output."
   ]
  },
  {
   "cell_type": "code",
   "execution_count": null,
   "metadata": {
    "id": "QpaujLTfWTWw"
   },
   "outputs": [],
   "source": [
    "from google.colab import drive\n",
    "drive.mount('/content/drive')"
   ]
  },
  {
   "cell_type": "markdown",
   "metadata": {
    "id": "yweIxDyBXGTF"
   },
   "source": [
    "Copy the GRC data to google colab by running the following, replacing `<Path to GRC on your drive>` with the path where your file is stored on your google drive."
   ]
  },
  {
   "cell_type": "code",
   "execution_count": null,
   "metadata": {
    "id": "7M4kBsOhWqo-"
   },
   "outputs": [],
   "source": [
    "!cp -r <Path to GRC on your drive> ."
   ]
  },
  {
   "cell_type": "markdown",
   "metadata": {
    "id": "OHz3v3l5XLLG"
   },
   "source": [
    "Finally, run the following to set `PATH_TO_GRC` to where your GRC data is stored on google colab."
   ]
  },
  {
   "cell_type": "code",
   "execution_count": null,
   "metadata": {
    "id": "r5A-1qolWhcX"
   },
   "outputs": [],
   "source": [
    "%env PATH_TO_GRC=/content/drive/<GRC file name>"
   ]
  },
  {
   "cell_type": "markdown",
   "metadata": {
    "id": "_fiXLcp2K1DG"
   },
   "source": [
    "### Running Locally"
   ]
  },
  {
   "cell_type": "markdown",
   "metadata": {
    "id": "IJF7UMaTK5sh"
   },
   "source": [
    "There are some steps you need to follow to run the notebooks locally. If you haven't already, please follow these [instructions](https://gitlab.com/malariagen/gsp/pf6plus/-/tree/add_jupyter_notebooks/notebooks#running-locally)."
   ]
  },
  {
   "cell_type": "markdown",
   "metadata": {
    "id": "YZaK5OzpPWpk"
   },
   "source": [
    "#### Using Your Own GRC"
   ]
  },
  {
   "cell_type": "markdown",
   "metadata": {
    "id": "cpHLL_HBO5mD"
   },
   "source": [
    "We have already set `PATH_TO_GRC` above to use the example in the phenotyper repository. If you would like to use your own, please set the path to the GRC file you would like to use below:"
   ]
  },
  {
   "cell_type": "code",
   "execution_count": 1,
   "metadata": {
    "id": "i31JuTFUPMgM"
   },
   "outputs": [
    {
     "name": "stdout",
     "output_type": "stream",
     "text": [
      "env: PATH_TO_GRC=#Path to GRC\n"
     ]
    }
   ],
   "source": [
    "%env PATH_TO_GRC=#Path to GRC "
   ]
  },
  {
   "cell_type": "markdown",
   "metadata": {
    "id": "2JYo7cLgK2be"
   },
   "source": [
    "## Run `phenotyper`"
   ]
  },
  {
   "cell_type": "markdown",
   "metadata": {
    "id": "kycsUouWIN7b"
   },
   "source": [
    "`--verbose` returns an execution log; which is useful to document and track how the samples have been classified"
   ]
  },
  {
   "cell_type": "code",
   "execution_count": 2,
   "metadata": {},
   "outputs": [],
   "source": [
    "# import packages to visualise results\n",
    "import pandas as pd\n",
    "from data_analysis.plot_dr_prevalence import plot_phenotype_bar_chart_compared_to_pf6plus\n",
    "from data_analysis.map_samples import map_samples\n",
    "import bokeh.io\n",
    "import os "
   ]
  },
  {
   "cell_type": "code",
   "execution_count": 3,
   "metadata": {
    "id": "vOiwV2-GR_n3",
    "scrolled": true
   },
   "outputs": [
    {
     "name": "stdout",
     "output_type": "stream",
     "text": [
      "/bin/bash: --datafile: command not found\r\n"
     ]
    }
   ],
   "source": [
    "! $PATH_TO_PHENOTYPER \\\n",
    "  --datafile $PATH_TO_GRC  \\\n",
    "  --rulesfile $PATH_TO_RULES \\\n",
    "  --ruleout phenotype \\\n",
    "  --output $PATH_TO_OUTPUT \\\n",
    "  --verbose "
   ]
  },
  {
   "cell_type": "markdown",
   "metadata": {
    "id": "4ybV7lL09Pzd"
   },
   "source": [
    "## Explore the detailed output\n",
    "\n",
    "\n"
   ]
  },
  {
   "cell_type": "code",
   "execution_count": 4,
   "metadata": {
    "id": "mLnjlYaFwfsy"
   },
   "outputs": [
    {
     "ename": "ValueError",
     "evalue": "Invalid file path or buffer object type: <class 'NoneType'>",
     "output_type": "error",
     "traceback": [
      "\u001b[0;31m---------------------------------------------------------------------------\u001b[0m",
      "\u001b[0;31mValueError\u001b[0m                                Traceback (most recent call last)",
      "\u001b[0;32m/var/folders/vc/78lppctx4y58zg88d0xyjydr000lw0/T/ipykernel_1246/4081404360.py\u001b[0m in \u001b[0;36m<module>\u001b[0;34m\u001b[0m\n\u001b[1;32m      1\u001b[0m \u001b[0;31m# import results from Phenotyper run above\u001b[0m\u001b[0;34m\u001b[0m\u001b[0;34m\u001b[0m\u001b[0;34m\u001b[0m\u001b[0m\n\u001b[1;32m      2\u001b[0m \u001b[0mphenotyper_results\u001b[0m \u001b[0;34m=\u001b[0m \u001b[0mos\u001b[0m\u001b[0;34m.\u001b[0m\u001b[0menviron\u001b[0m\u001b[0;34m.\u001b[0m\u001b[0mget\u001b[0m\u001b[0;34m(\u001b[0m\u001b[0;34m'PATH_TO_OUTPUT'\u001b[0m\u001b[0;34m)\u001b[0m\u001b[0;34m\u001b[0m\u001b[0;34m\u001b[0m\u001b[0m\n\u001b[0;32m----> 3\u001b[0;31m \u001b[0mresults\u001b[0m \u001b[0;34m=\u001b[0m \u001b[0mpd\u001b[0m\u001b[0;34m.\u001b[0m\u001b[0mread_csv\u001b[0m\u001b[0;34m(\u001b[0m\u001b[0mphenotyper_results\u001b[0m\u001b[0;34m,\u001b[0m \u001b[0msep\u001b[0m\u001b[0;34m=\u001b[0m\u001b[0;34m'\\t'\u001b[0m\u001b[0;34m,\u001b[0m \u001b[0mindex_col\u001b[0m\u001b[0;34m=\u001b[0m\u001b[0;36m0\u001b[0m\u001b[0;34m,\u001b[0m \u001b[0mlow_memory\u001b[0m\u001b[0;34m=\u001b[0m\u001b[0;32mFalse\u001b[0m\u001b[0;34m)\u001b[0m\u001b[0;34m.\u001b[0m\u001b[0mreset_index\u001b[0m\u001b[0;34m(\u001b[0m\u001b[0;34m)\u001b[0m\u001b[0;34m\u001b[0m\u001b[0;34m\u001b[0m\u001b[0m\n\u001b[0m\u001b[1;32m      4\u001b[0m \u001b[0;34m\u001b[0m\u001b[0m\n\u001b[1;32m      5\u001b[0m \u001b[0;31m# import pf6+ data\u001b[0m\u001b[0;34m\u001b[0m\u001b[0;34m\u001b[0m\u001b[0;34m\u001b[0m\u001b[0m\n",
      "\u001b[0;32m~/homebrew/lib/python3.9/site-packages/pandas/util/_decorators.py\u001b[0m in \u001b[0;36mwrapper\u001b[0;34m(*args, **kwargs)\u001b[0m\n\u001b[1;32m    309\u001b[0m                     \u001b[0mstacklevel\u001b[0m\u001b[0;34m=\u001b[0m\u001b[0mstacklevel\u001b[0m\u001b[0;34m,\u001b[0m\u001b[0;34m\u001b[0m\u001b[0;34m\u001b[0m\u001b[0m\n\u001b[1;32m    310\u001b[0m                 )\n\u001b[0;32m--> 311\u001b[0;31m             \u001b[0;32mreturn\u001b[0m \u001b[0mfunc\u001b[0m\u001b[0;34m(\u001b[0m\u001b[0;34m*\u001b[0m\u001b[0margs\u001b[0m\u001b[0;34m,\u001b[0m \u001b[0;34m**\u001b[0m\u001b[0mkwargs\u001b[0m\u001b[0;34m)\u001b[0m\u001b[0;34m\u001b[0m\u001b[0;34m\u001b[0m\u001b[0m\n\u001b[0m\u001b[1;32m    312\u001b[0m \u001b[0;34m\u001b[0m\u001b[0m\n\u001b[1;32m    313\u001b[0m         \u001b[0;32mreturn\u001b[0m \u001b[0mwrapper\u001b[0m\u001b[0;34m\u001b[0m\u001b[0;34m\u001b[0m\u001b[0m\n",
      "\u001b[0;32m~/homebrew/lib/python3.9/site-packages/pandas/io/parsers/readers.py\u001b[0m in \u001b[0;36mread_csv\u001b[0;34m(filepath_or_buffer, sep, delimiter, header, names, index_col, usecols, squeeze, prefix, mangle_dupe_cols, dtype, engine, converters, true_values, false_values, skipinitialspace, skiprows, skipfooter, nrows, na_values, keep_default_na, na_filter, verbose, skip_blank_lines, parse_dates, infer_datetime_format, keep_date_col, date_parser, dayfirst, cache_dates, iterator, chunksize, compression, thousands, decimal, lineterminator, quotechar, quoting, doublequote, escapechar, comment, encoding, encoding_errors, dialect, error_bad_lines, warn_bad_lines, on_bad_lines, delim_whitespace, low_memory, memory_map, float_precision, storage_options)\u001b[0m\n\u001b[1;32m    584\u001b[0m     \u001b[0mkwds\u001b[0m\u001b[0;34m.\u001b[0m\u001b[0mupdate\u001b[0m\u001b[0;34m(\u001b[0m\u001b[0mkwds_defaults\u001b[0m\u001b[0;34m)\u001b[0m\u001b[0;34m\u001b[0m\u001b[0;34m\u001b[0m\u001b[0m\n\u001b[1;32m    585\u001b[0m \u001b[0;34m\u001b[0m\u001b[0m\n\u001b[0;32m--> 586\u001b[0;31m     \u001b[0;32mreturn\u001b[0m \u001b[0m_read\u001b[0m\u001b[0;34m(\u001b[0m\u001b[0mfilepath_or_buffer\u001b[0m\u001b[0;34m,\u001b[0m \u001b[0mkwds\u001b[0m\u001b[0;34m)\u001b[0m\u001b[0;34m\u001b[0m\u001b[0;34m\u001b[0m\u001b[0m\n\u001b[0m\u001b[1;32m    587\u001b[0m \u001b[0;34m\u001b[0m\u001b[0m\n\u001b[1;32m    588\u001b[0m \u001b[0;34m\u001b[0m\u001b[0m\n",
      "\u001b[0;32m~/homebrew/lib/python3.9/site-packages/pandas/io/parsers/readers.py\u001b[0m in \u001b[0;36m_read\u001b[0;34m(filepath_or_buffer, kwds)\u001b[0m\n\u001b[1;32m    480\u001b[0m \u001b[0;34m\u001b[0m\u001b[0m\n\u001b[1;32m    481\u001b[0m     \u001b[0;31m# Create the parser.\u001b[0m\u001b[0;34m\u001b[0m\u001b[0;34m\u001b[0m\u001b[0;34m\u001b[0m\u001b[0m\n\u001b[0;32m--> 482\u001b[0;31m     \u001b[0mparser\u001b[0m \u001b[0;34m=\u001b[0m \u001b[0mTextFileReader\u001b[0m\u001b[0;34m(\u001b[0m\u001b[0mfilepath_or_buffer\u001b[0m\u001b[0;34m,\u001b[0m \u001b[0;34m**\u001b[0m\u001b[0mkwds\u001b[0m\u001b[0;34m)\u001b[0m\u001b[0;34m\u001b[0m\u001b[0;34m\u001b[0m\u001b[0m\n\u001b[0m\u001b[1;32m    483\u001b[0m \u001b[0;34m\u001b[0m\u001b[0m\n\u001b[1;32m    484\u001b[0m     \u001b[0;32mif\u001b[0m \u001b[0mchunksize\u001b[0m \u001b[0;32mor\u001b[0m \u001b[0miterator\u001b[0m\u001b[0;34m:\u001b[0m\u001b[0;34m\u001b[0m\u001b[0;34m\u001b[0m\u001b[0m\n",
      "\u001b[0;32m~/homebrew/lib/python3.9/site-packages/pandas/io/parsers/readers.py\u001b[0m in \u001b[0;36m__init__\u001b[0;34m(self, f, engine, **kwds)\u001b[0m\n\u001b[1;32m    809\u001b[0m             \u001b[0mself\u001b[0m\u001b[0;34m.\u001b[0m\u001b[0moptions\u001b[0m\u001b[0;34m[\u001b[0m\u001b[0;34m\"has_index_names\"\u001b[0m\u001b[0;34m]\u001b[0m \u001b[0;34m=\u001b[0m \u001b[0mkwds\u001b[0m\u001b[0;34m[\u001b[0m\u001b[0;34m\"has_index_names\"\u001b[0m\u001b[0;34m]\u001b[0m\u001b[0;34m\u001b[0m\u001b[0;34m\u001b[0m\u001b[0m\n\u001b[1;32m    810\u001b[0m \u001b[0;34m\u001b[0m\u001b[0m\n\u001b[0;32m--> 811\u001b[0;31m         \u001b[0mself\u001b[0m\u001b[0;34m.\u001b[0m\u001b[0m_engine\u001b[0m \u001b[0;34m=\u001b[0m \u001b[0mself\u001b[0m\u001b[0;34m.\u001b[0m\u001b[0m_make_engine\u001b[0m\u001b[0;34m(\u001b[0m\u001b[0mself\u001b[0m\u001b[0;34m.\u001b[0m\u001b[0mengine\u001b[0m\u001b[0;34m)\u001b[0m\u001b[0;34m\u001b[0m\u001b[0;34m\u001b[0m\u001b[0m\n\u001b[0m\u001b[1;32m    812\u001b[0m \u001b[0;34m\u001b[0m\u001b[0m\n\u001b[1;32m    813\u001b[0m     \u001b[0;32mdef\u001b[0m \u001b[0mclose\u001b[0m\u001b[0;34m(\u001b[0m\u001b[0mself\u001b[0m\u001b[0;34m)\u001b[0m\u001b[0;34m:\u001b[0m\u001b[0;34m\u001b[0m\u001b[0;34m\u001b[0m\u001b[0m\n",
      "\u001b[0;32m~/homebrew/lib/python3.9/site-packages/pandas/io/parsers/readers.py\u001b[0m in \u001b[0;36m_make_engine\u001b[0;34m(self, engine)\u001b[0m\n\u001b[1;32m   1038\u001b[0m             )\n\u001b[1;32m   1039\u001b[0m         \u001b[0;31m# error: Too many arguments for \"ParserBase\"\u001b[0m\u001b[0;34m\u001b[0m\u001b[0;34m\u001b[0m\u001b[0;34m\u001b[0m\u001b[0m\n\u001b[0;32m-> 1040\u001b[0;31m         \u001b[0;32mreturn\u001b[0m \u001b[0mmapping\u001b[0m\u001b[0;34m[\u001b[0m\u001b[0mengine\u001b[0m\u001b[0;34m]\u001b[0m\u001b[0;34m(\u001b[0m\u001b[0mself\u001b[0m\u001b[0;34m.\u001b[0m\u001b[0mf\u001b[0m\u001b[0;34m,\u001b[0m \u001b[0;34m**\u001b[0m\u001b[0mself\u001b[0m\u001b[0;34m.\u001b[0m\u001b[0moptions\u001b[0m\u001b[0;34m)\u001b[0m  \u001b[0;31m# type: ignore[call-arg]\u001b[0m\u001b[0;34m\u001b[0m\u001b[0;34m\u001b[0m\u001b[0m\n\u001b[0m\u001b[1;32m   1041\u001b[0m \u001b[0;34m\u001b[0m\u001b[0m\n\u001b[1;32m   1042\u001b[0m     \u001b[0;32mdef\u001b[0m \u001b[0m_failover_to_python\u001b[0m\u001b[0;34m(\u001b[0m\u001b[0mself\u001b[0m\u001b[0;34m)\u001b[0m\u001b[0;34m:\u001b[0m\u001b[0;34m\u001b[0m\u001b[0;34m\u001b[0m\u001b[0m\n",
      "\u001b[0;32m~/homebrew/lib/python3.9/site-packages/pandas/io/parsers/c_parser_wrapper.py\u001b[0m in \u001b[0;36m__init__\u001b[0;34m(self, src, **kwds)\u001b[0m\n\u001b[1;32m     49\u001b[0m \u001b[0;34m\u001b[0m\u001b[0m\n\u001b[1;32m     50\u001b[0m         \u001b[0;31m# open handles\u001b[0m\u001b[0;34m\u001b[0m\u001b[0;34m\u001b[0m\u001b[0;34m\u001b[0m\u001b[0m\n\u001b[0;32m---> 51\u001b[0;31m         \u001b[0mself\u001b[0m\u001b[0;34m.\u001b[0m\u001b[0m_open_handles\u001b[0m\u001b[0;34m(\u001b[0m\u001b[0msrc\u001b[0m\u001b[0;34m,\u001b[0m \u001b[0mkwds\u001b[0m\u001b[0;34m)\u001b[0m\u001b[0;34m\u001b[0m\u001b[0;34m\u001b[0m\u001b[0m\n\u001b[0m\u001b[1;32m     52\u001b[0m         \u001b[0;32massert\u001b[0m \u001b[0mself\u001b[0m\u001b[0;34m.\u001b[0m\u001b[0mhandles\u001b[0m \u001b[0;32mis\u001b[0m \u001b[0;32mnot\u001b[0m \u001b[0;32mNone\u001b[0m\u001b[0;34m\u001b[0m\u001b[0;34m\u001b[0m\u001b[0m\n\u001b[1;32m     53\u001b[0m \u001b[0;34m\u001b[0m\u001b[0m\n",
      "\u001b[0;32m~/homebrew/lib/python3.9/site-packages/pandas/io/parsers/base_parser.py\u001b[0m in \u001b[0;36m_open_handles\u001b[0;34m(self, src, kwds)\u001b[0m\n\u001b[1;32m    220\u001b[0m         \u001b[0mLet\u001b[0m \u001b[0mthe\u001b[0m \u001b[0mreaders\u001b[0m \u001b[0mopen\u001b[0m \u001b[0mIOHandles\u001b[0m \u001b[0mafter\u001b[0m \u001b[0mthey\u001b[0m \u001b[0mare\u001b[0m \u001b[0mdone\u001b[0m \u001b[0;32mwith\u001b[0m \u001b[0mtheir\u001b[0m \u001b[0mpotential\u001b[0m \u001b[0mraises\u001b[0m\u001b[0;34m.\u001b[0m\u001b[0;34m\u001b[0m\u001b[0;34m\u001b[0m\u001b[0m\n\u001b[1;32m    221\u001b[0m         \"\"\"\n\u001b[0;32m--> 222\u001b[0;31m         self.handles = get_handle(\n\u001b[0m\u001b[1;32m    223\u001b[0m             \u001b[0msrc\u001b[0m\u001b[0;34m,\u001b[0m\u001b[0;34m\u001b[0m\u001b[0;34m\u001b[0m\u001b[0m\n\u001b[1;32m    224\u001b[0m             \u001b[0;34m\"r\"\u001b[0m\u001b[0;34m,\u001b[0m\u001b[0;34m\u001b[0m\u001b[0;34m\u001b[0m\u001b[0m\n",
      "\u001b[0;32m~/homebrew/lib/python3.9/site-packages/pandas/io/common.py\u001b[0m in \u001b[0;36mget_handle\u001b[0;34m(path_or_buf, mode, encoding, compression, memory_map, is_text, errors, storage_options)\u001b[0m\n\u001b[1;32m    606\u001b[0m \u001b[0;34m\u001b[0m\u001b[0m\n\u001b[1;32m    607\u001b[0m     \u001b[0;31m# open URLs\u001b[0m\u001b[0;34m\u001b[0m\u001b[0;34m\u001b[0m\u001b[0;34m\u001b[0m\u001b[0m\n\u001b[0;32m--> 608\u001b[0;31m     ioargs = _get_filepath_or_buffer(\n\u001b[0m\u001b[1;32m    609\u001b[0m         \u001b[0mpath_or_buf\u001b[0m\u001b[0;34m,\u001b[0m\u001b[0;34m\u001b[0m\u001b[0;34m\u001b[0m\u001b[0m\n\u001b[1;32m    610\u001b[0m         \u001b[0mencoding\u001b[0m\u001b[0;34m=\u001b[0m\u001b[0mencoding\u001b[0m\u001b[0;34m,\u001b[0m\u001b[0;34m\u001b[0m\u001b[0;34m\u001b[0m\u001b[0m\n",
      "\u001b[0;32m~/homebrew/lib/python3.9/site-packages/pandas/io/common.py\u001b[0m in \u001b[0;36m_get_filepath_or_buffer\u001b[0;34m(filepath_or_buffer, encoding, compression, mode, storage_options)\u001b[0m\n\u001b[1;32m    393\u001b[0m     \u001b[0;32mif\u001b[0m \u001b[0;32mnot\u001b[0m \u001b[0mis_file_like\u001b[0m\u001b[0;34m(\u001b[0m\u001b[0mfilepath_or_buffer\u001b[0m\u001b[0;34m)\u001b[0m\u001b[0;34m:\u001b[0m\u001b[0;34m\u001b[0m\u001b[0;34m\u001b[0m\u001b[0m\n\u001b[1;32m    394\u001b[0m         \u001b[0mmsg\u001b[0m \u001b[0;34m=\u001b[0m \u001b[0;34mf\"Invalid file path or buffer object type: {type(filepath_or_buffer)}\"\u001b[0m\u001b[0;34m\u001b[0m\u001b[0;34m\u001b[0m\u001b[0m\n\u001b[0;32m--> 395\u001b[0;31m         \u001b[0;32mraise\u001b[0m \u001b[0mValueError\u001b[0m\u001b[0;34m(\u001b[0m\u001b[0mmsg\u001b[0m\u001b[0;34m)\u001b[0m\u001b[0;34m\u001b[0m\u001b[0;34m\u001b[0m\u001b[0m\n\u001b[0m\u001b[1;32m    396\u001b[0m \u001b[0;34m\u001b[0m\u001b[0m\n\u001b[1;32m    397\u001b[0m     return IOArgs(\n",
      "\u001b[0;31mValueError\u001b[0m: Invalid file path or buffer object type: <class 'NoneType'>"
     ]
    }
   ],
   "source": [
    "# import results from Phenotyper run above\n",
    "phenotyper_results = os.environ.get('PATH_TO_OUTPUT')\n",
    "results = pd.read_csv(phenotyper_results, sep='\\t', index_col=0, low_memory=False).reset_index()\n",
    "\n",
    "# import pf6+ data \n",
    "pf6plus_metadata = 'https://pf6plus.cog.sanger.ac.uk/pf6plus_metadata.tsv'\n",
    "pf6plus = pd.read_csv(pf6plus_metadata, sep='\\t', index_col=0, low_memory=False)\n",
    "\n",
    "# import GRC \n",
    "grc_metadata = os.environ.get('PATH_TO_GRC')\n",
    "grc = pd.read_csv(grc_metadata, sep='\\t', index_col=0, low_memory=False)"
   ]
  },
  {
   "cell_type": "code",
   "execution_count": null,
   "metadata": {
    "id": "1Sv_cJNqK2bg"
   },
   "outputs": [],
   "source": [
    "bokeh.io.output_notebook()"
   ]
  },
  {
   "cell_type": "markdown",
   "metadata": {
    "id": "1NO2duCeK2bh"
   },
   "source": [
    "Let's map the phenotypes we have found back to the sample metadata"
   ]
  },
  {
   "cell_type": "code",
   "execution_count": null,
   "metadata": {
    "id": "hGosxqIbK2bh"
   },
   "outputs": [],
   "source": [
    "results['SampleId'] = grc.index\n",
    "results = results.reset_index().set_index('SampleId')"
   ]
  },
  {
   "cell_type": "code",
   "execution_count": null,
   "metadata": {
    "id": "OsiJAVRJK2bh"
   },
   "outputs": [],
   "source": [
    "results_with_geo = pd.concat([results, pf6plus], axis=1, join=\"inner\")"
   ]
  },
  {
   "cell_type": "markdown",
   "metadata": {
    "id": "v6xhIdcgK2bi"
   },
   "source": [
    "The maps below show how including the Pf6+ data can increase the number of samples and the coverage that you have for a country. Click on the icons to find out more."
   ]
  },
  {
   "cell_type": "code",
   "execution_count": null,
   "metadata": {
    "colab": {
     "base_uri": "https://localhost:8080/",
     "height": 808
    },
    "id": "M5nPxkAwK2bi",
    "outputId": "46d16e30-a602-4a67-9747-3b6f644ad893"
   },
   "outputs": [],
   "source": [
    "map_samples(results_with_geo, zoom_to_start=4)"
   ]
  },
  {
   "cell_type": "code",
   "execution_count": null,
   "metadata": {
    "colab": {
     "base_uri": "https://localhost:8080/",
     "height": 808
    },
    "id": "wJziX2iuK2bi",
    "outputId": "d92b52d5-fb0d-40ec-9059-16958184a6ca"
   },
   "outputs": [],
   "source": [
    "map_samples(pf6plus[pf6plus.Country == 'Mali'].copy(),zoom_to_start=4)"
   ]
  },
  {
   "cell_type": "markdown",
   "metadata": {
    "id": "QW3ZW5kiK2bh"
   },
   "source": [
    "The plots below compare the phenotypes found for the GRC data, which contains samples from Mali, to the samples in the Pf6+ dataset that come from Mali."
   ]
  },
  {
   "cell_type": "code",
   "execution_count": null,
   "metadata": {
    "colab": {
     "base_uri": "https://localhost:8080/",
     "height": 447
    },
    "id": "xe_kqcKZK2bh",
    "outputId": "39b07176-97ae-4b96-cad6-08a980bbcc1b"
   },
   "outputs": [],
   "source": [
    "plot_phenotype_bar_chart_compared_to_pf6plus(results,pf6plus[pf6plus.Country == 'Mali'].copy())"
   ]
  },
  {
   "cell_type": "markdown",
   "metadata": {},
   "source": [
    "## What's next?\n",
    "\n",
    "After obtaining phenotypes, you can go back to the `2_variants_prevalence.ipynb` notebook to easily visualise your results and compare them with the Pf6+ dataset (over 13,500 samples with inferred phenotypes, collected across the world)."
   ]
  },
  {
   "cell_type": "markdown",
   "metadata": {},
   "source": [
    "---"
   ]
  },
  {
   "cell_type": "markdown",
   "metadata": {
    "id": "m232yychtitc"
   },
   "source": [
    "## Further technical details\n",
    "\n",
    "### Rule example \n",
    "Drugs are evaluated according to a set of rules specified in a JSON document. The only required fields for a rule are name and evaluation. Within evaluation one can access any of the fields/columns provided in the input data file using an `R` valid expression (see example below).\n",
    "\n",
    "\n",
    "\n",
    "```\n",
    "\"Chloroquine\":{\n",
    "         \"rules\":[\n",
    "            {\n",
    "               \"name\":\"Chloroquine-1\",\n",
    "               \"change\":\"76-Het\",\n",
    "               \"evaluation\":\"`crt_76[K]` %contains% ','\",\n",
    "               \"interpretation\":\"Het\",\n",
    "               \"phenotype\":\"Resistant/het\",\n",
    "               \"analytics\":\"Resistant\"\n",
    "            },\n",
    "            {\n",
    "               \"name\":\"Chloroquine-2\",\n",
    "               \"change\":\"76-Missing\",\n",
    "               \"evaluation\":\"`crt_76[K]` %==% '-'\",\n",
    "               \"interpretation\":\"Missing\",\n",
    "               \"phenotype\":\"Undetermined/missing\",\n",
    "               \"analytics\":\"Undetermined\"\n",
    "            },\n",
    "            {\n",
    "               \"name\":\"Chloroquine-3\",\n",
    "               \"change\":\"K76\",\n",
    "               \"evaluation\":\"`crt_76[K]` %==% 'K'\",\n",
    "               \"interpretation\":\"WT\",\n",
    "               \"phenotype\":\"Sensitive\",\n",
    "               \"analytics\":\"Sensitive\"\n",
    "            },\n",
    "            {\n",
    "               \"name\":\"Chloroquine-4\",\n",
    "               \"change\":\"76T\",\n",
    "               \"evaluation\":\"`crt_76[K]` %==% 'T'\",\n",
    "               \"interpretation\":\"Mutant\",\n",
    "               \"phenotype\":\"Resistant [1]\",\n",
    "               \"analytics\":\"Resistant\"\n",
    "            },\n",
    "            {\n",
    "               \"name\":\"Chloroquine-5\",\n",
    "               \"change\":\"76-nonT\",\n",
    "               \"evaluation\":\"T\",\n",
    "               \"interpretation\":\"Unknown mutant\",\n",
    "               \"phenotype\":\"Undetermined/unknown\",\n",
    "               \"analytics\":\"Undetermined\"\n",
    "            }\n",
    "         ]\n",
    "      }\n",
    "```\n",
    "\n",
    "### Technicalities\n",
    "It is recommended to protect field names with backticks (`) in the JSON file as you'll find weird characters there (for instance if they come from Excel files).\n",
    "\n",
    "\n",
    "The software interprets the rules executing the `R` code given in evaluation with the help of some custom-made operators, like `%==%`, which means loose equality (symmetric `any` operation, as in `any(a in b) or any(b in a)`), to ease the evaluation. **Please check there is no malicious code present when using rules files from other sources**.\n",
    "\n",
    "\n",
    "There are metarules that check the output status of a previously executed rule by referencing the name of the drug with `@`, for instance:\n",
    "\n",
    "\n",
    "\n",
    "```\n",
    "           {\n",
    "               \"name\":\"Dihydroartemisinin-piperaquine-3\",\n",
    "               \"change\":\"Missing\",\n",
    "               \"evaluation\":\"@Artemisinin@ %contains% 'Missing' || @Piperaquine@ %contains% 'Missing'\",\n",
    "               \"interpretation\":\"Undetermined/Missing\",\n",
    "               \"phenotype\":\"Missing\",\n",
    "               \"analytics\":\"Undetermined\"\n",
    "            },\n",
    "```\n",
    "\n",
    "One can run the program in `--verbose` mode and save the log. The file will be huge (and the execution is very slow), but it can be useful for debugging.\n",
    "\n",
    "###Important things to bear in mind \n",
    "1. For each drug the set of rules are executed sequentially.\n",
    "2. **Order is important** (top-down execution until finding one that evaluates to true).\n",
    "3. There should be always a default catch-up rule at the end (it will be executed if nothing else has been executed. A default rule just evaluates to `True` or `T`.\n",
    "```\n",
    "           {\n",
    "               \"name\":\"Chloroquine-5\",\n",
    "               \"change\":\"76-nonT\",\n",
    "               \"evaluation\":\"T\",\n",
    "               \"interpretation\":\"Unknown mutant\",\n",
    "               \"phenotype\":\"Undetermined/unknown\",\n",
    "               \"analytics\":\"Undetermined\"\n",
    "            }\n",
    "```\n",
    "4. The script will evaluate each rule according to the `evaluation` field (required).\n",
    "5. The output that will be obtained from a rule that evaluated to `True` must be specified using the `--ruleout` option. This allows for different outputs even when working with the same set of rules. Example: in our current phenotyping rules we made some arbitrary decisions (samples with het resistance markers are considered undetermined instead of resistant, you can imagine a different world where hets are resistant or dominant hets are resistant). However, one can check what difference these decisions make with the same set of rules by providing different output fields and indicating so when calling the program. For instance, using `--ruleout het_phenotype` instead of `--ruleout phenotype` (see example rule definition below)\n",
    "\n",
    "``` \"Chloroquine\":{\n",
    "         \"rules\":[\n",
    "            {\n",
    "               \"name\":\"Chloroquine-1\",\n",
    "               \"change\":\"76-Het\",\n",
    "               \"evaluation\":\"`PfCRT:76` %==% 'K/T' || `PfCRT:76` %==% 'I/T'\",\n",
    "               \"het_phenotype\":\"Resistant\",\n",
    "               \"phenotype\":\"Undetermined\",\n",
    "               \"analytics\":\"Resistant/Het\"\n",
    "            }, (...)\n",
    "```\n",
    "\n",
    "\n",
    "\n",
    "\n"
   ]
  }
 ],
 "metadata": {
  "colab": {
   "collapsed_sections": [
    "fP7KUqQuUj3P",
    "3IWsr3JLUup4",
    "cim7ga4UVg8x",
    "_fiXLcp2K1DG"
   ],
   "name": "3_phenotyper.ipynb",
   "provenance": []
  },
  "kernelspec": {
   "display_name": "Python 3 (ipykernel)",
   "language": "python",
   "name": "python3"
  },
  "language_info": {
   "codemirror_mode": {
    "name": "ipython",
    "version": 3
   },
   "file_extension": ".py",
   "mimetype": "text/x-python",
   "name": "python",
   "nbconvert_exporter": "python",
   "pygments_lexer": "ipython3",
   "version": "3.9.6"
  }
 },
 "nbformat": 4,
 "nbformat_minor": 1
}
