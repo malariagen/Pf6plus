{
 "cells": [
  {
   "cell_type": "markdown",
   "id": "f8617ae3",
   "metadata": {},
   "source": [
    "**We would like to thank all MalariaGEN Plasmodium falciparum Community Project partners for their contribution. If you use this resource please remember to also site the following studies:**\n",
    "[Pf6 partner studies](http://ngs.sanger.ac.uk/production/malaria/pfcommunityproject/Pf6/Pf_6_partner_studies.pdf) and [GenRe partner studies](http://ngs.sanger.ac.uk/production/malaria/Resource/29/20200705-GenRe-07-PartnerStudyInformation-0.39.pdf)."
   ]
  },
  {
   "cell_type": "markdown",
   "id": "7290911c",
   "metadata": {},
   "source": [
    "# Genetic Analysis exploration\n",
    "\n",
    "This notebook allows you to explore the barcode analysis using the 101 SNPs within the dataset. You can use it to:\n",
    "\n",
    "- Visualise diversity on the barcode on 101 postions across the genome.\n",
    "\n",
    "- Explore how the barcodes allow to see a country-level samples \n"
   ]
  },
  {
   "cell_type": "code",
   "execution_count": null,
   "id": "d7228714",
   "metadata": {},
   "outputs": [],
   "source": [
    "#input Pf6+ data \n",
    "pf6plus_metadata = 'https://pf6plus.cog.sanger.ac.uk/pf6plus_metadata.tsv'\n",
    "pf6plus = pd.read_csv(pf6plus_metadata, sep='\\t', index_col=0, low_memory=False)"
   ]
  },
  {
   "cell_type": "markdown",
   "id": "d8ebfb25",
   "metadata": {},
   "source": []
  }
 ],
 "metadata": {
  "kernelspec": {
   "display_name": "Python 3 (ipykernel)",
   "language": "python",
   "name": "python3"
  },
  "language_info": {
   "codemirror_mode": {
    "name": "ipython",
    "version": 3
   },
   "file_extension": ".py",
   "mimetype": "text/x-python",
   "name": "python",
   "nbconvert_exporter": "python",
   "pygments_lexer": "ipython3",
   "version": "3.9.6"
  }
 },
 "nbformat": 4,
 "nbformat_minor": 5
}
